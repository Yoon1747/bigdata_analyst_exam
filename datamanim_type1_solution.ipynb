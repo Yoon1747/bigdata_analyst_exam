{
 "cells": [
  {
   "cell_type": "markdown",
   "id": "5dd2e432",
   "metadata": {},
   "source": [
    "**vs code로 작성했으며, 자동완성 때문에 불편하다면 https://chaeeunsong.tistory.com/91 여기 참고해서 자동완성 해제하세요.<br>**\n"
   ]
  },
  {
   "cell_type": "code",
   "execution_count": 28,
   "id": "09766003",
   "metadata": {},
   "outputs": [
    {
     "data": {
      "application/vnd.microsoft.datawrangler.viewer.v0+json": {
       "columns": [
        {
         "name": "index",
         "rawType": "int64",
         "type": "integer"
        },
        {
         "name": "title",
         "rawType": "object",
         "type": "string"
        },
        {
         "name": "channelTitle",
         "rawType": "object",
         "type": "string"
        },
        {
         "name": "categoryId",
         "rawType": "int64",
         "type": "integer"
        },
        {
         "name": "view_count",
         "rawType": "int64",
         "type": "integer"
        },
        {
         "name": "likes",
         "rawType": "int64",
         "type": "integer"
        },
        {
         "name": "dislikes",
         "rawType": "int64",
         "type": "integer"
        },
        {
         "name": "comment_count",
         "rawType": "int64",
         "type": "integer"
        },
        {
         "name": "channelId",
         "rawType": "object",
         "type": "string"
        },
        {
         "name": "trending_date2",
         "rawType": "object",
         "type": "string"
        }
       ],
       "ref": "c47d2f82-35d1-4b73-90a9-bae45aa39370",
       "rows": [
        [
         "0",
         "[신병] 물자창고",
         "장삐쭈",
         "23",
         "1893473",
         "38249",
         "730",
         "8595",
         "UChbE5OZQ6dRHECsX0tEPEZQ",
         "2021-01-01"
        ],
        [
         "1",
         "RAIN(비) - 나로 바꾸자 Switch to me (duet with JYP) MV",
         "RAIN's Official Channel",
         "10",
         "2600864",
         "0",
         "0",
         "20129",
         "UCxXgIeE5hxWxHG6dz9Scg2w",
         "2021-01-01"
        ],
        [
         "2",
         "2020년 제야의 종 온라인 타종행사 | 보신각 현장 행사는 진행하지 않습니다.",
         "서울시 · Seoul",
         "29",
         "347049",
         "3564",
         "120",
         "178",
         "UCZUPZW5idAxYp-Asj__lVAA",
         "2021-01-01"
        ],
        [
         "3",
         "고기남자의 칠면조 파티",
         "고기남자 MeatMan",
         "26",
         "528458",
         "15372",
         "280",
         "3470",
         "UCT3CumbFIJiW33uq0UI3zlg",
         "2021-01-01"
        ],
        [
         "4",
         "골목 3mc를 분노하게 만든 마음고생이 심했을 공릉 백반집 사장님의 푸념?! [예능맛ZIP/ 골목식당_BackStreet]",
         "스브스밥집",
         "24",
         "494904",
         "3918",
         "111",
         "3142",
         "UCdWgRSfttvDucq4ApcCg5Mw",
         "2021-01-01"
        ]
       ],
       "shape": {
        "columns": 9,
        "rows": 5
       }
      },
      "text/html": [
       "<div>\n",
       "<style scoped>\n",
       "    .dataframe tbody tr th:only-of-type {\n",
       "        vertical-align: middle;\n",
       "    }\n",
       "\n",
       "    .dataframe tbody tr th {\n",
       "        vertical-align: top;\n",
       "    }\n",
       "\n",
       "    .dataframe thead th {\n",
       "        text-align: right;\n",
       "    }\n",
       "</style>\n",
       "<table border=\"1\" class=\"dataframe\">\n",
       "  <thead>\n",
       "    <tr style=\"text-align: right;\">\n",
       "      <th></th>\n",
       "      <th>title</th>\n",
       "      <th>channelTitle</th>\n",
       "      <th>categoryId</th>\n",
       "      <th>view_count</th>\n",
       "      <th>likes</th>\n",
       "      <th>dislikes</th>\n",
       "      <th>comment_count</th>\n",
       "      <th>channelId</th>\n",
       "      <th>trending_date2</th>\n",
       "    </tr>\n",
       "  </thead>\n",
       "  <tbody>\n",
       "    <tr>\n",
       "      <th>0</th>\n",
       "      <td>[신병] 물자창고</td>\n",
       "      <td>장삐쭈</td>\n",
       "      <td>23</td>\n",
       "      <td>1893473</td>\n",
       "      <td>38249</td>\n",
       "      <td>730</td>\n",
       "      <td>8595</td>\n",
       "      <td>UChbE5OZQ6dRHECsX0tEPEZQ</td>\n",
       "      <td>2021-01-01</td>\n",
       "    </tr>\n",
       "    <tr>\n",
       "      <th>1</th>\n",
       "      <td>RAIN(비) - 나로 바꾸자 Switch to me (duet with JYP) MV</td>\n",
       "      <td>RAIN's Official Channel</td>\n",
       "      <td>10</td>\n",
       "      <td>2600864</td>\n",
       "      <td>0</td>\n",
       "      <td>0</td>\n",
       "      <td>20129</td>\n",
       "      <td>UCxXgIeE5hxWxHG6dz9Scg2w</td>\n",
       "      <td>2021-01-01</td>\n",
       "    </tr>\n",
       "    <tr>\n",
       "      <th>2</th>\n",
       "      <td>2020년 제야의 종 온라인 타종행사 | 보신각 현장 행사는 진행하지 않습니다.</td>\n",
       "      <td>서울시 · Seoul</td>\n",
       "      <td>29</td>\n",
       "      <td>347049</td>\n",
       "      <td>3564</td>\n",
       "      <td>120</td>\n",
       "      <td>178</td>\n",
       "      <td>UCZUPZW5idAxYp-Asj__lVAA</td>\n",
       "      <td>2021-01-01</td>\n",
       "    </tr>\n",
       "    <tr>\n",
       "      <th>3</th>\n",
       "      <td>고기남자의 칠면조 파티</td>\n",
       "      <td>고기남자 MeatMan</td>\n",
       "      <td>26</td>\n",
       "      <td>528458</td>\n",
       "      <td>15372</td>\n",
       "      <td>280</td>\n",
       "      <td>3470</td>\n",
       "      <td>UCT3CumbFIJiW33uq0UI3zlg</td>\n",
       "      <td>2021-01-01</td>\n",
       "    </tr>\n",
       "    <tr>\n",
       "      <th>4</th>\n",
       "      <td>골목 3mc를 분노하게 만든 마음고생이 심했을 공릉 백반집 사장님의 푸념?! [예능...</td>\n",
       "      <td>스브스밥집</td>\n",
       "      <td>24</td>\n",
       "      <td>494904</td>\n",
       "      <td>3918</td>\n",
       "      <td>111</td>\n",
       "      <td>3142</td>\n",
       "      <td>UCdWgRSfttvDucq4ApcCg5Mw</td>\n",
       "      <td>2021-01-01</td>\n",
       "    </tr>\n",
       "  </tbody>\n",
       "</table>\n",
       "</div>"
      ],
      "text/plain": [
       "                                               title             channelTitle  \\\n",
       "0                                          [신병] 물자창고                      장삐쭈   \n",
       "1   RAIN(비) - 나로 바꾸자 Switch to me (duet with JYP) MV  RAIN's Official Channel   \n",
       "2       2020년 제야의 종 온라인 타종행사 | 보신각 현장 행사는 진행하지 않습니다.              서울시 · Seoul   \n",
       "3                                       고기남자의 칠면조 파티             고기남자 MeatMan   \n",
       "4  골목 3mc를 분노하게 만든 마음고생이 심했을 공릉 백반집 사장님의 푸념?! [예능...                    스브스밥집   \n",
       "\n",
       "   categoryId  view_count  likes  dislikes  comment_count  \\\n",
       "0          23     1893473  38249       730           8595   \n",
       "1          10     2600864      0         0          20129   \n",
       "2          29      347049   3564       120            178   \n",
       "3          26      528458  15372       280           3470   \n",
       "4          24      494904   3918       111           3142   \n",
       "\n",
       "                  channelId trending_date2  \n",
       "0  UChbE5OZQ6dRHECsX0tEPEZQ     2021-01-01  \n",
       "1  UCxXgIeE5hxWxHG6dz9Scg2w     2021-01-01  \n",
       "2  UCZUPZW5idAxYp-Asj__lVAA     2021-01-01  \n",
       "3  UCT3CumbFIJiW33uq0UI3zlg     2021-01-01  \n",
       "4  UCdWgRSfttvDucq4ApcCg5Mw     2021-01-01  "
      ]
     },
     "execution_count": 28,
     "metadata": {},
     "output_type": "execute_result"
    }
   ],
   "source": [
    "import pandas as pd\n",
    "df = pd.read_csv(\"https://raw.githubusercontent.com/Datamanim/datarepo/main/youtube/youtube.csv\",index_col=0)\n",
    "df.head()"
   ]
  },
  {
   "cell_type": "markdown",
   "id": "03b8f6b8",
   "metadata": {},
   "source": [
    "## Question 1\n",
    "인기동영상 제작횟수가 많은 채널 상위 10개명을 출력하라. (날짜기준, 중복포함)"
   ]
  },
  {
   "cell_type": "code",
   "execution_count": null,
   "id": "9ead6712",
   "metadata": {},
   "outputs": [
    {
     "data": {
      "text/plain": [
       "['짤툰',\n",
       " '파뿌리',\n",
       " 'SPOTV',\n",
       " '런닝맨 - 스브스 공식 채널',\n",
       " '엠뚜루마뚜루 : MBC 공식 종합 채널',\n",
       " '장삐쭈',\n",
       " 'BANGTANTV',\n",
       " '채널 십오야',\n",
       " '이과장',\n",
       " '총몇명']"
      ]
     },
     "execution_count": 29,
     "metadata": {},
     "output_type": "execute_result"
    }
   ],
   "source": [
    "df['channelTitle'].value_counts().head(10).index.to_list()\n",
    "# 내가 쓴 답, 데이터마님과 출력 값은 같은데, unique()가 있어서 중복을 제거하는 것이 맞는 건지 모르겠다.."
   ]
  },
  {
   "cell_type": "code",
   "execution_count": 30,
   "id": "082e6cd7",
   "metadata": {},
   "outputs": [
    {
     "name": "stdout",
     "output_type": "stream",
     "text": [
      "['장삐쭈', '총몇명', '파뿌리', '짤툰', '런닝맨 - 스브스 공식 채널', '엠뚜루마뚜루 : MBC 공식 종합 채널', 'SPOTV', '채널 십오야', '이과장', 'BANGTANTV']\n"
     ]
    }
   ],
   "source": [
    "answer =list(df.loc[df.channelId.isin(df.channelId.value_counts().head(10).index)].channelTitle.unique())\n",
    "print(answer) # 데이터마님 답"
   ]
  },
  {
   "cell_type": "markdown",
   "id": "0cedb955",
   "metadata": {},
   "source": [
    "## Question 2\n",
    "논란으로 인기동영상이 된 케이스를 확인하고 싶다. dislikes수가 like 수보다 높은 동영상을 제작한 채널을 모두 출력하라."
   ]
  },
  {
   "cell_type": "code",
   "execution_count": null,
   "id": "085a9e0c",
   "metadata": {},
   "outputs": [],
   "source": []
  },
  {
   "cell_type": "markdown",
   "id": "4bf99526",
   "metadata": {},
   "source": [
    "## Question 3\n",
    "채널명을 바꾼 케이스가 있는지 확인하고 싶다. channelId의 경우 고유값이므로 이를 통해 채널명을 한번이라도 바꾼 채널의 갯수를 구하여라."
   ]
  },
  {
   "cell_type": "code",
   "execution_count": null,
   "id": "fb90f14b",
   "metadata": {},
   "outputs": [],
   "source": []
  },
  {
   "cell_type": "markdown",
   "id": "c2e99db5",
   "metadata": {},
   "source": [
    "## Question 4\n",
    "일요일에 인기있었던 영상들중 가장많은 영상 종류(categoryId)는 무엇인가?"
   ]
  },
  {
   "cell_type": "code",
   "execution_count": null,
   "id": "ca9af956",
   "metadata": {},
   "outputs": [],
   "source": []
  },
  {
   "cell_type": "markdown",
   "id": "2cc6fd19",
   "metadata": {},
   "source": [
    "## Question 5\n",
    "각 요일별 인기 영상들의 categoryId는 각각 몇개 씩인지 하나의 데이터 프레임으로 표현하라."
   ]
  },
  {
   "cell_type": "code",
   "execution_count": null,
   "id": "ca3be9a7",
   "metadata": {},
   "outputs": [],
   "source": []
  },
  {
   "cell_type": "markdown",
   "id": "add6dd46",
   "metadata": {},
   "source": [
    "## Question 6\n",
    "댓글의 수로 (comment_count) 영상 반응에 대한 판단을 할 수 있다. viewcount대비 댓글수가 가장 높은 영상을 확인하라 (view_count값이 0인 경우는 제외한다)."
   ]
  },
  {
   "cell_type": "code",
   "execution_count": null,
   "id": "bf1dc84c",
   "metadata": {},
   "outputs": [],
   "source": []
  },
  {
   "cell_type": "markdown",
   "id": "2c3ddd1a",
   "metadata": {},
   "source": [
    "## Question 7\n",
    "댓글의 수로 (comment_count) 영상 반응에 대한 판단을 할 수 있다.viewcount대비 댓글수가 가장 낮은 영상을 확인하라 (view_counts, ratio값이 0인경우는 제외한다.)"
   ]
  },
  {
   "cell_type": "code",
   "execution_count": null,
   "id": "93187880",
   "metadata": {},
   "outputs": [],
   "source": []
  },
  {
   "cell_type": "markdown",
   "id": "1d41045c",
   "metadata": {},
   "source": [
    "## Question 8\n",
    "like 대비 dislike의 수가 가장 적은 영상은 무엇인가? (like, dislike 값이 0인경우는 제외한다)"
   ]
  },
  {
   "cell_type": "code",
   "execution_count": null,
   "id": "a169b48c",
   "metadata": {},
   "outputs": [],
   "source": []
  },
  {
   "cell_type": "markdown",
   "id": "da6a2f67",
   "metadata": {},
   "source": [
    "## Question 9\n",
    "가장많은 트렌드 영상을 제작한 채널의 이름은 무엇인가? (날짜기준, 중복포함)"
   ]
  },
  {
   "cell_type": "code",
   "execution_count": null,
   "id": "7fb0e97f",
   "metadata": {},
   "outputs": [],
   "source": []
  },
  {
   "cell_type": "markdown",
   "id": "ea5a2d75",
   "metadata": {},
   "source": [
    "## Question 10\n",
    "20회(20일)이상 인기동영상 리스트에 포함된 동영상의 숫자는?"
   ]
  },
  {
   "cell_type": "code",
   "execution_count": null,
   "id": "2f400227",
   "metadata": {},
   "outputs": [],
   "source": []
  },
  {
   "cell_type": "markdown",
   "id": "364a64a6",
   "metadata": {},
   "source": [
    "# 유튜버 공범콘텐츠 동영상 데이터\n",
    "데이터 출처 :https://www.kaggle.com/kukuroo3/youtube-episodic-contents-kr(참고, 데이터 수정)<br>\n",
    "데이터 설명 : 유튜브 “공범” 컨텐츠 동영상 정보 ( 10분 간격 수집)<br>\n",
    "dataurl1 (비디오 정보) = https://raw.githubusercontent.com/Datamanim/datarepo/main/youtube/videoInfo.csv<br>\n",
    "dataurl2 (참가자 채널 정보)= https://raw.githubusercontent.com/Datamanim/datarepo/main/youtube/channelInfo.csv<br>"
   ]
  },
  {
   "cell_type": "code",
   "execution_count": 31,
   "id": "9a9de4fc",
   "metadata": {},
   "outputs": [
    {
     "data": {
      "application/vnd.microsoft.datawrangler.viewer.v0+json": {
       "columns": [
        {
         "name": "index",
         "rawType": "int64",
         "type": "integer"
        },
        {
         "name": "channelid",
         "rawType": "object",
         "type": "string"
        },
        {
         "name": "subcnt",
         "rawType": "int64",
         "type": "integer"
        },
        {
         "name": "viewcnt",
         "rawType": "int64",
         "type": "integer"
        },
        {
         "name": "videocnt",
         "rawType": "int64",
         "type": "integer"
        },
        {
         "name": "ct",
         "rawType": "object",
         "type": "string"
        },
        {
         "name": "channelname",
         "rawType": "object",
         "type": "string"
        }
       ],
       "ref": "0653fad8-6033-4b6c-a6fc-3e34f8e00c72",
       "rows": [
        [
         "0",
         "UCkQCwnkQfgSuPTTnw_Y7v7w",
         "1310000",
         "410238653",
         "736",
         "2021-09-30 03:01:03",
         "꽈뚜룹"
        ],
        [
         "1",
         "UCkQCwnkQfgSuPTTnw_Y7v7w",
         "1310000",
         "412531322",
         "736",
         "2021-09-30 09:01:03",
         "꽈뚜룹"
        ],
        [
         "2",
         "UCkQCwnkQfgSuPTTnw_Y7v7w",
         "1310000",
         "412531322",
         "735",
         "2021-09-30 15:01:03",
         "꽈뚜룹"
        ],
        [
         "3",
         "UCkQCwnkQfgSuPTTnw_Y7v7w",
         "1310000",
         "412531322",
         "737",
         "2021-09-30 21:01:03",
         "꽈뚜룹"
        ],
        [
         "4",
         "UCkQCwnkQfgSuPTTnw_Y7v7w",
         "1320000",
         "412531322",
         "737",
         "2021-10-01 03:01:04",
         "꽈뚜룹"
        ]
       ],
       "shape": {
        "columns": 6,
        "rows": 5
       }
      },
      "text/html": [
       "<div>\n",
       "<style scoped>\n",
       "    .dataframe tbody tr th:only-of-type {\n",
       "        vertical-align: middle;\n",
       "    }\n",
       "\n",
       "    .dataframe tbody tr th {\n",
       "        vertical-align: top;\n",
       "    }\n",
       "\n",
       "    .dataframe thead th {\n",
       "        text-align: right;\n",
       "    }\n",
       "</style>\n",
       "<table border=\"1\" class=\"dataframe\">\n",
       "  <thead>\n",
       "    <tr style=\"text-align: right;\">\n",
       "      <th></th>\n",
       "      <th>channelid</th>\n",
       "      <th>subcnt</th>\n",
       "      <th>viewcnt</th>\n",
       "      <th>videocnt</th>\n",
       "      <th>ct</th>\n",
       "      <th>channelname</th>\n",
       "    </tr>\n",
       "  </thead>\n",
       "  <tbody>\n",
       "    <tr>\n",
       "      <th>0</th>\n",
       "      <td>UCkQCwnkQfgSuPTTnw_Y7v7w</td>\n",
       "      <td>1310000</td>\n",
       "      <td>410238653</td>\n",
       "      <td>736</td>\n",
       "      <td>2021-09-30 03:01:03</td>\n",
       "      <td>꽈뚜룹</td>\n",
       "    </tr>\n",
       "    <tr>\n",
       "      <th>1</th>\n",
       "      <td>UCkQCwnkQfgSuPTTnw_Y7v7w</td>\n",
       "      <td>1310000</td>\n",
       "      <td>412531322</td>\n",
       "      <td>736</td>\n",
       "      <td>2021-09-30 09:01:03</td>\n",
       "      <td>꽈뚜룹</td>\n",
       "    </tr>\n",
       "    <tr>\n",
       "      <th>2</th>\n",
       "      <td>UCkQCwnkQfgSuPTTnw_Y7v7w</td>\n",
       "      <td>1310000</td>\n",
       "      <td>412531322</td>\n",
       "      <td>735</td>\n",
       "      <td>2021-09-30 15:01:03</td>\n",
       "      <td>꽈뚜룹</td>\n",
       "    </tr>\n",
       "    <tr>\n",
       "      <th>3</th>\n",
       "      <td>UCkQCwnkQfgSuPTTnw_Y7v7w</td>\n",
       "      <td>1310000</td>\n",
       "      <td>412531322</td>\n",
       "      <td>737</td>\n",
       "      <td>2021-09-30 21:01:03</td>\n",
       "      <td>꽈뚜룹</td>\n",
       "    </tr>\n",
       "    <tr>\n",
       "      <th>4</th>\n",
       "      <td>UCkQCwnkQfgSuPTTnw_Y7v7w</td>\n",
       "      <td>1320000</td>\n",
       "      <td>412531322</td>\n",
       "      <td>737</td>\n",
       "      <td>2021-10-01 03:01:04</td>\n",
       "      <td>꽈뚜룹</td>\n",
       "    </tr>\n",
       "  </tbody>\n",
       "</table>\n",
       "</div>"
      ],
      "text/plain": [
       "                  channelid   subcnt    viewcnt  videocnt  \\\n",
       "0  UCkQCwnkQfgSuPTTnw_Y7v7w  1310000  410238653       736   \n",
       "1  UCkQCwnkQfgSuPTTnw_Y7v7w  1310000  412531322       736   \n",
       "2  UCkQCwnkQfgSuPTTnw_Y7v7w  1310000  412531322       735   \n",
       "3  UCkQCwnkQfgSuPTTnw_Y7v7w  1310000  412531322       737   \n",
       "4  UCkQCwnkQfgSuPTTnw_Y7v7w  1320000  412531322       737   \n",
       "\n",
       "                    ct channelname  \n",
       "0  2021-09-30 03:01:03         꽈뚜룹  \n",
       "1  2021-09-30 09:01:03         꽈뚜룹  \n",
       "2  2021-09-30 15:01:03         꽈뚜룹  \n",
       "3  2021-09-30 21:01:03         꽈뚜룹  \n",
       "4  2021-10-01 03:01:04         꽈뚜룹  "
      ]
     },
     "metadata": {},
     "output_type": "display_data"
    },
    {
     "data": {
      "application/vnd.microsoft.datawrangler.viewer.v0+json": {
       "columns": [
        {
         "name": "index",
         "rawType": "int64",
         "type": "integer"
        },
        {
         "name": "videopk",
         "rawType": "object",
         "type": "string"
        },
        {
         "name": "viewcnt",
         "rawType": "int64",
         "type": "integer"
        },
        {
         "name": "likecnt",
         "rawType": "int64",
         "type": "integer"
        },
        {
         "name": "dislikecnt",
         "rawType": "int64",
         "type": "integer"
        },
        {
         "name": "favoritecnt",
         "rawType": "int64",
         "type": "integer"
        },
        {
         "name": "cmcnt",
         "rawType": "int64",
         "type": "integer"
        },
        {
         "name": "ct",
         "rawType": "object",
         "type": "string"
        },
        {
         "name": "videoname",
         "rawType": "object",
         "type": "string"
        }
       ],
       "ref": "cb6d8d45-9603-4a71-a071-0297fb70369a",
       "rows": [
        [
         "0",
         "c5JQp6xafqc",
         "1667010",
         "30474",
         "706",
         "0",
         "6587",
         "2021-10-10 15:20:03",
         " 공범 EP1"
        ],
        [
         "1",
         "c5JQp6xafqc",
         "1669089",
         "30495",
         "707",
         "0",
         "6589",
         "2021-10-10 15:30:03",
         " 공범 EP1"
        ],
        [
         "2",
         "c5JQp6xafqc",
         "1674759",
         "30522",
         "711",
         "0",
         "6596",
         "2021-10-10 15:40:02",
         " 공범 EP1"
        ],
        [
         "3",
         "c5JQp6xafqc",
         "1677026",
         "30555",
         "712",
         "0",
         "6604",
         "2021-10-10 15:50:03",
         " 공범 EP1"
        ],
        [
         "4",
         "c5JQp6xafqc",
         "1681824",
         "30585",
         "713",
         "0",
         "6600",
         "2021-10-10 16:00:03",
         " 공범 EP1"
        ]
       ],
       "shape": {
        "columns": 8,
        "rows": 5
       }
      },
      "text/html": [
       "<div>\n",
       "<style scoped>\n",
       "    .dataframe tbody tr th:only-of-type {\n",
       "        vertical-align: middle;\n",
       "    }\n",
       "\n",
       "    .dataframe tbody tr th {\n",
       "        vertical-align: top;\n",
       "    }\n",
       "\n",
       "    .dataframe thead th {\n",
       "        text-align: right;\n",
       "    }\n",
       "</style>\n",
       "<table border=\"1\" class=\"dataframe\">\n",
       "  <thead>\n",
       "    <tr style=\"text-align: right;\">\n",
       "      <th></th>\n",
       "      <th>videopk</th>\n",
       "      <th>viewcnt</th>\n",
       "      <th>likecnt</th>\n",
       "      <th>dislikecnt</th>\n",
       "      <th>favoritecnt</th>\n",
       "      <th>cmcnt</th>\n",
       "      <th>ct</th>\n",
       "      <th>videoname</th>\n",
       "    </tr>\n",
       "  </thead>\n",
       "  <tbody>\n",
       "    <tr>\n",
       "      <th>0</th>\n",
       "      <td>c5JQp6xafqc</td>\n",
       "      <td>1667010</td>\n",
       "      <td>30474</td>\n",
       "      <td>706</td>\n",
       "      <td>0</td>\n",
       "      <td>6587</td>\n",
       "      <td>2021-10-10 15:20:03</td>\n",
       "      <td>공범 EP1</td>\n",
       "    </tr>\n",
       "    <tr>\n",
       "      <th>1</th>\n",
       "      <td>c5JQp6xafqc</td>\n",
       "      <td>1669089</td>\n",
       "      <td>30495</td>\n",
       "      <td>707</td>\n",
       "      <td>0</td>\n",
       "      <td>6589</td>\n",
       "      <td>2021-10-10 15:30:03</td>\n",
       "      <td>공범 EP1</td>\n",
       "    </tr>\n",
       "    <tr>\n",
       "      <th>2</th>\n",
       "      <td>c5JQp6xafqc</td>\n",
       "      <td>1674759</td>\n",
       "      <td>30522</td>\n",
       "      <td>711</td>\n",
       "      <td>0</td>\n",
       "      <td>6596</td>\n",
       "      <td>2021-10-10 15:40:02</td>\n",
       "      <td>공범 EP1</td>\n",
       "    </tr>\n",
       "    <tr>\n",
       "      <th>3</th>\n",
       "      <td>c5JQp6xafqc</td>\n",
       "      <td>1677026</td>\n",
       "      <td>30555</td>\n",
       "      <td>712</td>\n",
       "      <td>0</td>\n",
       "      <td>6604</td>\n",
       "      <td>2021-10-10 15:50:03</td>\n",
       "      <td>공범 EP1</td>\n",
       "    </tr>\n",
       "    <tr>\n",
       "      <th>4</th>\n",
       "      <td>c5JQp6xafqc</td>\n",
       "      <td>1681824</td>\n",
       "      <td>30585</td>\n",
       "      <td>713</td>\n",
       "      <td>0</td>\n",
       "      <td>6600</td>\n",
       "      <td>2021-10-10 16:00:03</td>\n",
       "      <td>공범 EP1</td>\n",
       "    </tr>\n",
       "  </tbody>\n",
       "</table>\n",
       "</div>"
      ],
      "text/plain": [
       "       videopk  viewcnt  likecnt  dislikecnt  favoritecnt  cmcnt  \\\n",
       "0  c5JQp6xafqc  1667010    30474         706            0   6587   \n",
       "1  c5JQp6xafqc  1669089    30495         707            0   6589   \n",
       "2  c5JQp6xafqc  1674759    30522         711            0   6596   \n",
       "3  c5JQp6xafqc  1677026    30555         712            0   6604   \n",
       "4  c5JQp6xafqc  1681824    30585         713            0   6600   \n",
       "\n",
       "                    ct videoname  \n",
       "0  2021-10-10 15:20:03    공범 EP1  \n",
       "1  2021-10-10 15:30:03    공범 EP1  \n",
       "2  2021-10-10 15:40:02    공범 EP1  \n",
       "3  2021-10-10 15:50:03    공범 EP1  \n",
       "4  2021-10-10 16:00:03    공범 EP1  "
      ]
     },
     "metadata": {},
     "output_type": "display_data"
    }
   ],
   "source": [
    "import pandas as pd\n",
    "\n",
    "channel =pd.read_csv('https://raw.githubusercontent.com/Datamanim/datarepo/main/youtube/channelInfo.csv')\n",
    "video =pd.read_csv('https://raw.githubusercontent.com/Datamanim/datarepo/main/youtube/videoInfo.csv')\n",
    "display(channel.head())\n",
    "display(video.head())"
   ]
  },
  {
   "cell_type": "markdown",
   "id": "5431fa1c",
   "metadata": {},
   "source": [
    "## Question 11\n",
    "각 데이터의 ‘ct’컬럼을 시간으로 인식할수 있게 datatype을 변경하고 video 데이터의 videoname의 각 value 마다 몇개의 데이터씩 가지고 있는지 확인하라."
   ]
  },
  {
   "cell_type": "code",
   "execution_count": null,
   "id": "5ea69b46",
   "metadata": {},
   "outputs": [],
   "source": []
  },
  {
   "cell_type": "markdown",
   "id": "96751a6e",
   "metadata": {},
   "source": [
    "## Question 12\n",
    "\n",
    "수집된 각 video의 가장 최신화 된 날짜의 viewcount값을 출력하라"
   ]
  },
  {
   "cell_type": "code",
   "execution_count": null,
   "id": "3b24decf",
   "metadata": {},
   "outputs": [],
   "source": []
  },
  {
   "cell_type": "markdown",
   "id": "00a4c225",
   "metadata": {},
   "source": [
    "## Question 13\n",
    "\n",
    "Channel 데이터중 2021-10-03일 이후 각 채널의 처음 기록 됐던 구독자 수(subcnt)를 출력하라"
   ]
  },
  {
   "cell_type": "code",
   "execution_count": null,
   "id": "e2b8889e",
   "metadata": {},
   "outputs": [],
   "source": []
  },
  {
   "cell_type": "markdown",
   "id": "f71de4f9",
   "metadata": {},
   "source": [
    "## Question 14\n",
    "\n",
    "각채널의 2021-10-03 03:00:00 ~ 2021-11-01 15:00:00 까지 구독자수 (subcnt) 의 증가량을 구하여라"
   ]
  },
  {
   "cell_type": "code",
   "execution_count": null,
   "id": "54b5aac3",
   "metadata": {},
   "outputs": [],
   "source": []
  },
  {
   "cell_type": "markdown",
   "id": "a49f8470",
   "metadata": {},
   "source": [
    "## Question 15\n",
    "\n",
    "각 비디오는 10분 간격으로 구독자수, 좋아요, 싫어요수, 댓글수가 수집된것으로 알려졌다. 공범 EP1의 비디오정보 데이터중 수집간격이 5분 이하, 20분이상인 데이터 구간( 해당 시점 전,후) 의 시각을 모두 출력하라."
   ]
  },
  {
   "cell_type": "code",
   "execution_count": null,
   "id": "147818b8",
   "metadata": {},
   "outputs": [],
   "source": []
  },
  {
   "cell_type": "markdown",
   "id": "962a4cf6",
   "metadata": {},
   "source": [
    "## Question 16\n",
    "\n",
    "각 에피소드의 시작날짜(년-월-일)를 에피소드 이름과 묶어 데이터 프레임으로 만들고 출력하라."
   ]
  },
  {
   "cell_type": "code",
   "execution_count": null,
   "id": "577d576a",
   "metadata": {},
   "outputs": [],
   "source": []
  },
  {
   "cell_type": "markdown",
   "id": "004c2537",
   "metadata": {},
   "source": [
    "## Question 17\n",
    "\n",
    "“공범” 컨텐츠의 경우 19:00시에 공개 되는것으로 알려져있다. 공개된 날의 21시의 viewcnt, ct, videoname 으로 구성된 데이터 프레임을 viewcnt를 내림차순으로 정렬하여 출력하라."
   ]
  },
  {
   "cell_type": "code",
   "execution_count": null,
   "id": "83740db6",
   "metadata": {},
   "outputs": [],
   "source": []
  },
  {
   "cell_type": "markdown",
   "id": "4161d456",
   "metadata": {},
   "source": [
    "## Question 18\n",
    "\n",
    "video 정보의 가장 최근 데이터들에서 각 에피소드의 싫어요/좋아요 비율을 ratio 컬럼으로 만들고 videoname, ratio로 구성된 데이터 프레임을 ratio를 오름차순으로 정렬하라."
   ]
  },
  {
   "cell_type": "code",
   "execution_count": null,
   "id": "e4f74511",
   "metadata": {},
   "outputs": [],
   "source": []
  },
  {
   "cell_type": "markdown",
   "id": "9a515910",
   "metadata": {},
   "source": [
    "## Question 19\n",
    "\n",
    "2021-11-01 00:00:00 ~ 15:00:00까지 각 에피소드별 viewcnt의 증가량을 데이터 프레임으로 만드시오"
   ]
  },
  {
   "cell_type": "code",
   "execution_count": null,
   "id": "23dbbbcc",
   "metadata": {},
   "outputs": [],
   "source": []
  },
  {
   "cell_type": "markdown",
   "id": "6ea95823",
   "metadata": {},
   "source": [
    "## Question 20\n",
    "\n",
    "video 데이터 중에서 중복되는 데이터가 존재한다. 중복되는 각 데이터의 시간대와 videoname 을 구하여라."
   ]
  },
  {
   "cell_type": "code",
   "execution_count": null,
   "id": "c73fe304",
   "metadata": {},
   "outputs": [],
   "source": []
  },
  {
   "cell_type": "markdown",
   "id": "6912786e",
   "metadata": {},
   "source": [
    "# 월드컵 출전선수 골기록 데이터\n",
    "데이터 출처 :https://www.kaggle.com/darinhawley/fifa-world-cup-goalscorers-19302018(참고, 데이터 수정)<br>\n",
    "데이터 설명 : 1930 ~2018년도 월드컵 출전선수 골기록<br>\n",
    "data url = https://raw.githubusercontent.com/Datamanim/datarepo/main/worldcup/worldcupgoals.csv"
   ]
  },
  {
   "cell_type": "code",
   "execution_count": 32,
   "id": "ad88cbcd",
   "metadata": {},
   "outputs": [
    {
     "data": {
      "application/vnd.microsoft.datawrangler.viewer.v0+json": {
       "columns": [
        {
         "name": "index",
         "rawType": "int64",
         "type": "integer"
        },
        {
         "name": "Player",
         "rawType": "object",
         "type": "string"
        },
        {
         "name": "Goals",
         "rawType": "int64",
         "type": "integer"
        },
        {
         "name": "Years",
         "rawType": "object",
         "type": "string"
        },
        {
         "name": "Country",
         "rawType": "object",
         "type": "string"
        }
       ],
       "ref": "f92cdc0f-47b6-4f4e-a9c1-29f04e0b769d",
       "rows": [
        [
         "0",
         "Miroslav Klose",
         "16",
         "2002-2006-2010-2014",
         "Germany"
        ],
        [
         "1",
         "Ronaldo",
         "15",
         "1998-2002-2006",
         "Brazil"
        ],
        [
         "2",
         "Gerd Muller",
         "14",
         "1970-1974",
         "Germany"
        ],
        [
         "3",
         "Just Fontaine",
         "13",
         "1958",
         "France"
        ],
        [
         "4",
         "Pele",
         "12",
         "1958-1962-1966-1970",
         "Brazil"
        ]
       ],
       "shape": {
        "columns": 4,
        "rows": 5
       }
      },
      "text/html": [
       "<div>\n",
       "<style scoped>\n",
       "    .dataframe tbody tr th:only-of-type {\n",
       "        vertical-align: middle;\n",
       "    }\n",
       "\n",
       "    .dataframe tbody tr th {\n",
       "        vertical-align: top;\n",
       "    }\n",
       "\n",
       "    .dataframe thead th {\n",
       "        text-align: right;\n",
       "    }\n",
       "</style>\n",
       "<table border=\"1\" class=\"dataframe\">\n",
       "  <thead>\n",
       "    <tr style=\"text-align: right;\">\n",
       "      <th></th>\n",
       "      <th>Player</th>\n",
       "      <th>Goals</th>\n",
       "      <th>Years</th>\n",
       "      <th>Country</th>\n",
       "    </tr>\n",
       "  </thead>\n",
       "  <tbody>\n",
       "    <tr>\n",
       "      <th>0</th>\n",
       "      <td>Miroslav Klose</td>\n",
       "      <td>16</td>\n",
       "      <td>2002-2006-2010-2014</td>\n",
       "      <td>Germany</td>\n",
       "    </tr>\n",
       "    <tr>\n",
       "      <th>1</th>\n",
       "      <td>Ronaldo</td>\n",
       "      <td>15</td>\n",
       "      <td>1998-2002-2006</td>\n",
       "      <td>Brazil</td>\n",
       "    </tr>\n",
       "    <tr>\n",
       "      <th>2</th>\n",
       "      <td>Gerd Muller</td>\n",
       "      <td>14</td>\n",
       "      <td>1970-1974</td>\n",
       "      <td>Germany</td>\n",
       "    </tr>\n",
       "    <tr>\n",
       "      <th>3</th>\n",
       "      <td>Just Fontaine</td>\n",
       "      <td>13</td>\n",
       "      <td>1958</td>\n",
       "      <td>France</td>\n",
       "    </tr>\n",
       "    <tr>\n",
       "      <th>4</th>\n",
       "      <td>Pele</td>\n",
       "      <td>12</td>\n",
       "      <td>1958-1962-1966-1970</td>\n",
       "      <td>Brazil</td>\n",
       "    </tr>\n",
       "  </tbody>\n",
       "</table>\n",
       "</div>"
      ],
      "text/plain": [
       "           Player  Goals                Years  Country\n",
       "0  Miroslav Klose     16  2002-2006-2010-2014  Germany\n",
       "1         Ronaldo     15       1998-2002-2006   Brazil\n",
       "2     Gerd Muller     14            1970-1974  Germany\n",
       "3   Just Fontaine     13                 1958   France\n",
       "4            Pele     12  1958-1962-1966-1970   Brazil"
      ]
     },
     "execution_count": 32,
     "metadata": {},
     "output_type": "execute_result"
    }
   ],
   "source": [
    "import pandas as pd\n",
    "\n",
    "df= pd.read_csv('https://raw.githubusercontent.com/Datamanim/datarepo/main/worldcup/worldcupgoals.csv')\n",
    "df.head()"
   ]
  },
  {
   "cell_type": "markdown",
   "id": "7bdd6cf6",
   "metadata": {},
   "source": [
    "## Question 21\n",
    "\n",
    "주어진 전체 기간의 각 나라별 골득점수 상위 5개 국가와 그 득점수를 데이터프레임형태로 출력하라."
   ]
  },
  {
   "cell_type": "code",
   "execution_count": null,
   "id": "398f3d63",
   "metadata": {},
   "outputs": [],
   "source": []
  },
  {
   "cell_type": "markdown",
   "id": "8b9e9644",
   "metadata": {},
   "source": [
    "## Question 22\n",
    "\n",
    "주어진 전체기간동안 골득점을 한 선수가 가장 많은 나라 상위 5개 국가와 그 선수 숫자를 데이터 프레임 형식으로 출력하라."
   ]
  },
  {
   "cell_type": "code",
   "execution_count": null,
   "id": "3bff395a",
   "metadata": {},
   "outputs": [],
   "source": []
  },
  {
   "cell_type": "markdown",
   "id": "eb72f04c",
   "metadata": {},
   "source": [
    "## Question 23\n",
    "\n",
    "Years 컬럼은 년도 -년도 형식으로 구성되어있고, 각 년도는 4자리 숫자이다. 년도 표기가 4자리 숫자로 안된 케이스가 존재한다. 해당 건은 몇건인지 출력하라."
   ]
  },
  {
   "cell_type": "code",
   "execution_count": null,
   "id": "8b2ac230",
   "metadata": {},
   "outputs": [],
   "source": []
  },
  {
   "cell_type": "markdown",
   "id": "361a38a1",
   "metadata": {},
   "source": [
    "## Question 24\n",
    "\n",
    "** Q3에서 발생한 예외 케이스를 제외한 데이터프레임을 df2라고 정의하고 데이터의 행의 숫자를 출력하라 (아래 문제부터는 df2로 풀이하겠습니다) **"
   ]
  },
  {
   "cell_type": "code",
   "execution_count": null,
   "id": "0394fe99",
   "metadata": {},
   "outputs": [],
   "source": []
  },
  {
   "cell_type": "markdown",
   "id": "35e07a0e",
   "metadata": {},
   "source": [
    "## Question 25\n",
    "\n",
    "월드컵 출전횟수를 나타내는 ‘LenCup’ 컬럼을 추가하고 4회 출전한 선수의 숫자를 구하여라."
   ]
  },
  {
   "cell_type": "code",
   "execution_count": null,
   "id": "a271a151",
   "metadata": {},
   "outputs": [],
   "source": []
  },
  {
   "cell_type": "markdown",
   "id": "fe264887",
   "metadata": {},
   "source": [
    "## Question 26\n",
    "\n",
    "Yugoslavia 국가의 월드컵 출전횟수가 2회인 선수들의 숫자를 구하여라."
   ]
  },
  {
   "cell_type": "code",
   "execution_count": null,
   "id": "59e3f322",
   "metadata": {},
   "outputs": [],
   "source": []
  },
  {
   "cell_type": "markdown",
   "id": "e0f33db8",
   "metadata": {},
   "source": [
    "## Question 27\n",
    "\n",
    "2002년도에 출전한 전체 선수는 몇명인가?"
   ]
  },
  {
   "cell_type": "code",
   "execution_count": null,
   "id": "db2c4387",
   "metadata": {},
   "outputs": [],
   "source": []
  },
  {
   "cell_type": "markdown",
   "id": "db78cfb2",
   "metadata": {},
   "source": [
    "## Question 28\n",
    "\n",
    "이름에 ‘carlos’ 단어가 들어가는 선수의 숫자는 몇 명인가? (대, 소문자 구분 x)"
   ]
  },
  {
   "cell_type": "code",
   "execution_count": null,
   "id": "3943a3e9",
   "metadata": {},
   "outputs": [],
   "source": []
  },
  {
   "cell_type": "markdown",
   "id": "94d45eaf",
   "metadata": {},
   "source": [
    "## Question 29\n",
    "\n",
    "월드컵 출전 횟수가 1회뿐인 선수들 중에서 가장 많은 득점을 올렸던 선수는 누구인가?"
   ]
  },
  {
   "cell_type": "code",
   "execution_count": null,
   "id": "e614f672",
   "metadata": {},
   "outputs": [],
   "source": []
  },
  {
   "cell_type": "markdown",
   "id": "c988eec7",
   "metadata": {},
   "source": [
    "## Question 30\n",
    "\n",
    "월드컵 출전횟수가 1회 뿐인 선수들이 가장 많은 국가는 어디인가?"
   ]
  },
  {
   "cell_type": "code",
   "execution_count": null,
   "id": "894dd62f",
   "metadata": {},
   "outputs": [],
   "source": []
  },
  {
   "cell_type": "markdown",
   "id": "f68cc75e",
   "metadata": {},
   "source": [
    "# 서울시 따릉이 이용정보 데이터\n",
    "데이터 출처 :https://www.data.go.kr/data/15051872/fileData.do(참고, 데이터 수정)<br>\n",
    "데이터 설명 : 서울특별시_공공자전거 시간대별 이용정보<br>\n",
    "data url = https://raw.githubusercontent.com/Datamanim/datarepo/main/bicycle/seoul_bi.csv"
   ]
  },
  {
   "cell_type": "code",
   "execution_count": 33,
   "id": "271f2d01",
   "metadata": {},
   "outputs": [
    {
     "data": {
      "application/vnd.microsoft.datawrangler.viewer.v0+json": {
       "columns": [
        {
         "name": "index",
         "rawType": "int64",
         "type": "integer"
        },
        {
         "name": "대여일자",
         "rawType": "object",
         "type": "string"
        },
        {
         "name": "대여시간",
         "rawType": "int64",
         "type": "integer"
        },
        {
         "name": "대여소번호",
         "rawType": "int64",
         "type": "integer"
        },
        {
         "name": "대여구분코드",
         "rawType": "object",
         "type": "string"
        },
        {
         "name": "성별",
         "rawType": "object",
         "type": "string"
        },
        {
         "name": "연령대코드",
         "rawType": "object",
         "type": "string"
        },
        {
         "name": "이용건수",
         "rawType": "int64",
         "type": "integer"
        },
        {
         "name": "운동량",
         "rawType": "object",
         "type": "string"
        },
        {
         "name": "탄소량",
         "rawType": "object",
         "type": "string"
        },
        {
         "name": "이동거리",
         "rawType": "float64",
         "type": "float"
        },
        {
         "name": "사용시간",
         "rawType": "int64",
         "type": "integer"
        }
       ],
       "ref": "519ea326-ab3a-4a42-83d5-efc7ac877da6",
       "rows": [
        [
         "0",
         "2021-06-01",
         "0",
         "3541",
         "정기권",
         "F",
         "~10대",
         "1",
         "0.00",
         "0.00",
         "0.0",
         "8"
        ],
        [
         "1",
         "2021-06-01",
         "0",
         "765",
         "정기권",
         "F",
         "~10대",
         "1",
         "27.21",
         "0.35",
         "1526.81",
         "19"
        ],
        [
         "2",
         "2021-06-01",
         "0",
         "2637",
         "정기권",
         "F",
         "~10대",
         "1",
         "41.40",
         "0.37",
         "1608.56",
         "18"
        ],
        [
         "3",
         "2021-06-01",
         "0",
         "2919",
         "정기권",
         "F",
         "~10대",
         "1",
         "0.00",
         "0.00",
         "0.0",
         "75"
        ],
        [
         "4",
         "2021-06-01",
         "0",
         "549",
         "정기권",
         "F",
         "~10대",
         "1",
         "13.04",
         "0.17",
         "731.55",
         "6"
        ]
       ],
       "shape": {
        "columns": 11,
        "rows": 5
       }
      },
      "text/html": [
       "<div>\n",
       "<style scoped>\n",
       "    .dataframe tbody tr th:only-of-type {\n",
       "        vertical-align: middle;\n",
       "    }\n",
       "\n",
       "    .dataframe tbody tr th {\n",
       "        vertical-align: top;\n",
       "    }\n",
       "\n",
       "    .dataframe thead th {\n",
       "        text-align: right;\n",
       "    }\n",
       "</style>\n",
       "<table border=\"1\" class=\"dataframe\">\n",
       "  <thead>\n",
       "    <tr style=\"text-align: right;\">\n",
       "      <th></th>\n",
       "      <th>대여일자</th>\n",
       "      <th>대여시간</th>\n",
       "      <th>대여소번호</th>\n",
       "      <th>대여구분코드</th>\n",
       "      <th>성별</th>\n",
       "      <th>연령대코드</th>\n",
       "      <th>이용건수</th>\n",
       "      <th>운동량</th>\n",
       "      <th>탄소량</th>\n",
       "      <th>이동거리</th>\n",
       "      <th>사용시간</th>\n",
       "    </tr>\n",
       "  </thead>\n",
       "  <tbody>\n",
       "    <tr>\n",
       "      <th>0</th>\n",
       "      <td>2021-06-01</td>\n",
       "      <td>0</td>\n",
       "      <td>3541</td>\n",
       "      <td>정기권</td>\n",
       "      <td>F</td>\n",
       "      <td>~10대</td>\n",
       "      <td>1</td>\n",
       "      <td>0.00</td>\n",
       "      <td>0.00</td>\n",
       "      <td>0.00</td>\n",
       "      <td>8</td>\n",
       "    </tr>\n",
       "    <tr>\n",
       "      <th>1</th>\n",
       "      <td>2021-06-01</td>\n",
       "      <td>0</td>\n",
       "      <td>765</td>\n",
       "      <td>정기권</td>\n",
       "      <td>F</td>\n",
       "      <td>~10대</td>\n",
       "      <td>1</td>\n",
       "      <td>27.21</td>\n",
       "      <td>0.35</td>\n",
       "      <td>1526.81</td>\n",
       "      <td>19</td>\n",
       "    </tr>\n",
       "    <tr>\n",
       "      <th>2</th>\n",
       "      <td>2021-06-01</td>\n",
       "      <td>0</td>\n",
       "      <td>2637</td>\n",
       "      <td>정기권</td>\n",
       "      <td>F</td>\n",
       "      <td>~10대</td>\n",
       "      <td>1</td>\n",
       "      <td>41.40</td>\n",
       "      <td>0.37</td>\n",
       "      <td>1608.56</td>\n",
       "      <td>18</td>\n",
       "    </tr>\n",
       "    <tr>\n",
       "      <th>3</th>\n",
       "      <td>2021-06-01</td>\n",
       "      <td>0</td>\n",
       "      <td>2919</td>\n",
       "      <td>정기권</td>\n",
       "      <td>F</td>\n",
       "      <td>~10대</td>\n",
       "      <td>1</td>\n",
       "      <td>0.00</td>\n",
       "      <td>0.00</td>\n",
       "      <td>0.00</td>\n",
       "      <td>75</td>\n",
       "    </tr>\n",
       "    <tr>\n",
       "      <th>4</th>\n",
       "      <td>2021-06-01</td>\n",
       "      <td>0</td>\n",
       "      <td>549</td>\n",
       "      <td>정기권</td>\n",
       "      <td>F</td>\n",
       "      <td>~10대</td>\n",
       "      <td>1</td>\n",
       "      <td>13.04</td>\n",
       "      <td>0.17</td>\n",
       "      <td>731.55</td>\n",
       "      <td>6</td>\n",
       "    </tr>\n",
       "  </tbody>\n",
       "</table>\n",
       "</div>"
      ],
      "text/plain": [
       "         대여일자  대여시간  대여소번호 대여구분코드 성별 연령대코드  이용건수    운동량   탄소량     이동거리  사용시간\n",
       "0  2021-06-01     0   3541    정기권  F  ~10대     1   0.00  0.00     0.00     8\n",
       "1  2021-06-01     0    765    정기권  F  ~10대     1  27.21  0.35  1526.81    19\n",
       "2  2021-06-01     0   2637    정기권  F  ~10대     1  41.40  0.37  1608.56    18\n",
       "3  2021-06-01     0   2919    정기권  F  ~10대     1   0.00  0.00     0.00    75\n",
       "4  2021-06-01     0    549    정기권  F  ~10대     1  13.04  0.17   731.55     6"
      ]
     },
     "execution_count": 33,
     "metadata": {},
     "output_type": "execute_result"
    }
   ],
   "source": [
    "import pandas as pd\n",
    "df =pd.read_csv('https://raw.githubusercontent.com/Datamanim/datarepo/main/bicycle/seoul_bi.csv')\n",
    "df.head()"
   ]
  },
  {
   "cell_type": "markdown",
   "id": "02b436af",
   "metadata": {},
   "source": [
    "## Question 31\n",
    "\n",
    "대여일자별 데이터의 수를 데이터프레임으로 출력하고, 가장 많은 데이터가 있는 날짜를 출력하라."
   ]
  },
  {
   "cell_type": "code",
   "execution_count": null,
   "id": "6cbc1fa9",
   "metadata": {},
   "outputs": [],
   "source": []
  },
  {
   "cell_type": "markdown",
   "id": "fab4a32b",
   "metadata": {},
   "source": [
    "## Question 32\n",
    "\n",
    "각 일자의 요일을 표기하고 (‘Monday’ ~’Sunday’) ‘day_name’컬럼을 추가하고 이를 이용하여 각 요일별 이용 횟수의 총합을 데이터 프레임으로 출력하라."
   ]
  },
  {
   "cell_type": "code",
   "execution_count": null,
   "id": "0d7c9238",
   "metadata": {},
   "outputs": [],
   "source": []
  },
  {
   "cell_type": "markdown",
   "id": "4feb6759",
   "metadata": {},
   "source": [
    "## Question 33\n",
    "\n",
    "각 요일별 가장 많이 이용한 대여소의 이용횟수와 대여소 번호를 데이터 프레임으로 출력하라."
   ]
  },
  {
   "cell_type": "code",
   "execution_count": null,
   "id": "6373cc65",
   "metadata": {},
   "outputs": [],
   "source": []
  },
  {
   "cell_type": "markdown",
   "id": "366da487",
   "metadata": {},
   "source": [
    "## Question 34\n",
    "\n",
    "나이대별 대여구분 코드의 (일일권/전체횟수) 비율을 구한 후 가장 높은 비율을 가지는 나이대를 확인하라. 일일권의 경우 일일권 과 일일권(비회원)을 모두 포함하라."
   ]
  },
  {
   "cell_type": "code",
   "execution_count": null,
   "id": "b94f80bf",
   "metadata": {},
   "outputs": [],
   "source": []
  },
  {
   "cell_type": "markdown",
   "id": "20830da5",
   "metadata": {},
   "source": [
    "## Question 35\n",
    "\n",
    "연령대별 평균 이동거리를 구하여라."
   ]
  },
  {
   "cell_type": "code",
   "execution_count": null,
   "id": "7b045878",
   "metadata": {},
   "outputs": [],
   "source": []
  },
  {
   "cell_type": "markdown",
   "id": "aff4a6ad",
   "metadata": {},
   "source": [
    "## Question 36\n",
    "\n",
    "연령대 코드가 20대인 데이터를 추출하고,이동거리값이 추출한 데이터의 이동거리값의 평균 이상인 데이터를 추출한다.최종 추출된 데이터를 대여일자, 대여소 번호 순서로 내림차순 정렬 후 1행부터 200행까지의 탄소량의 평균을 소숫점 3째 자리까지 구하여라."
   ]
  },
  {
   "cell_type": "code",
   "execution_count": null,
   "id": "b3b1837e",
   "metadata": {},
   "outputs": [],
   "source": []
  },
  {
   "cell_type": "markdown",
   "id": "d2a86303",
   "metadata": {},
   "source": [
    "## Question 37\n",
    "\n",
    "6월 7일 ~10대의 “이용건수”의 중앙값은?"
   ]
  },
  {
   "cell_type": "code",
   "execution_count": null,
   "id": "a2315be7",
   "metadata": {},
   "outputs": [],
   "source": []
  },
  {
   "cell_type": "markdown",
   "id": "cecb6a0e",
   "metadata": {},
   "source": [
    "## Question 38\n",
    "\n",
    "평일 (월~금) 출근 시간대(오전 6,7,8시)의 대여소별 이용 횟수를 구해서 데이터 프레임 형태로 표현한 후 각 대여시간별 이용 횟수의 상위 3개 대여소와 이용횟수를 출력하라."
   ]
  },
  {
   "cell_type": "code",
   "execution_count": null,
   "id": "9feaca63",
   "metadata": {},
   "outputs": [],
   "source": []
  },
  {
   "cell_type": "markdown",
   "id": "5cd48240",
   "metadata": {},
   "source": [
    "## Question 39\n",
    "\n",
    "이동거리의 평균 이상의 이동거리 값을 가지는 데이터를 추출하여 추출데이터의 이동거리의 표본표준편차 값을 구하여라."
   ]
  },
  {
   "cell_type": "code",
   "execution_count": null,
   "id": "3c4dfe5f",
   "metadata": {},
   "outputs": [],
   "source": []
  },
  {
   "cell_type": "markdown",
   "id": "c48463f3",
   "metadata": {},
   "source": [
    "## Question 40\n",
    "\n",
    "남성(‘M’ or ‘m’)과 여성(‘F’ or ‘f’)의 이동거리값의 평균값을 구하여라."
   ]
  },
  {
   "cell_type": "markdown",
   "id": "e0a371a2",
   "metadata": {},
   "source": [
    "# 전 세계 행복도 지표 데이터\n",
    "데이터 출처 :https://www.kaggle.com/unsdsn/world-happiness(참고, 데이터 수정)<br>\n",
    "데이터 설명 : 전세계 행복도 지표 조사<br>\n",
    "data url = https://raw.githubusercontent.com/Datamanim/datarepo/main/happy2/happiness.csv"
   ]
  },
  {
   "cell_type": "code",
   "execution_count": 34,
   "id": "f11da4df",
   "metadata": {},
   "outputs": [
    {
     "data": {
      "application/vnd.microsoft.datawrangler.viewer.v0+json": {
       "columns": [
        {
         "name": "index",
         "rawType": "int64",
         "type": "integer"
        },
        {
         "name": "행복랭킹",
         "rawType": "int64",
         "type": "integer"
        },
        {
         "name": "나라명",
         "rawType": "object",
         "type": "string"
        },
        {
         "name": "점수",
         "rawType": "float64",
         "type": "float"
        },
        {
         "name": "상대GDP",
         "rawType": "float64",
         "type": "float"
        },
        {
         "name": "사회적지원",
         "rawType": "float64",
         "type": "float"
        },
        {
         "name": "행복기대치",
         "rawType": "float64",
         "type": "float"
        },
        {
         "name": "선택의 자유도",
         "rawType": "float64",
         "type": "float"
        },
        {
         "name": "관대함",
         "rawType": "float64",
         "type": "float"
        },
        {
         "name": "부패에 대한인식",
         "rawType": "float64",
         "type": "float"
        },
        {
         "name": "년도",
         "rawType": "int64",
         "type": "integer"
        }
       ],
       "ref": "48aab85e-559b-4f23-9f7d-7aafb2f1f090",
       "rows": [
        [
         "0",
         "1",
         "Finland",
         "7.769",
         "1.34",
         "1.587",
         "0.986",
         "0.596",
         "0.153",
         "0.393",
         "2019"
        ],
        [
         "1",
         "2",
         "Denmark",
         "7.6",
         "1.383",
         "1.573",
         "0.996",
         "0.592",
         "0.252",
         "0.41",
         "2019"
        ],
        [
         "2",
         "3",
         "Norway",
         "7.554",
         "1.488",
         "1.582",
         "1.028",
         "0.603",
         "0.271",
         "0.341",
         "2019"
        ],
        [
         "3",
         "4",
         "Iceland",
         "7.494",
         "1.38",
         "1.624",
         "1.026",
         "0.591",
         "0.354",
         "0.118",
         "2019"
        ],
        [
         "4",
         "5",
         "Netherlands",
         "7.488",
         "1.396",
         "1.522",
         "0.999",
         "0.557",
         "0.322",
         "0.298",
         "2019"
        ]
       ],
       "shape": {
        "columns": 10,
        "rows": 5
       }
      },
      "text/html": [
       "<div>\n",
       "<style scoped>\n",
       "    .dataframe tbody tr th:only-of-type {\n",
       "        vertical-align: middle;\n",
       "    }\n",
       "\n",
       "    .dataframe tbody tr th {\n",
       "        vertical-align: top;\n",
       "    }\n",
       "\n",
       "    .dataframe thead th {\n",
       "        text-align: right;\n",
       "    }\n",
       "</style>\n",
       "<table border=\"1\" class=\"dataframe\">\n",
       "  <thead>\n",
       "    <tr style=\"text-align: right;\">\n",
       "      <th></th>\n",
       "      <th>행복랭킹</th>\n",
       "      <th>나라명</th>\n",
       "      <th>점수</th>\n",
       "      <th>상대GDP</th>\n",
       "      <th>사회적지원</th>\n",
       "      <th>행복기대치</th>\n",
       "      <th>선택의 자유도</th>\n",
       "      <th>관대함</th>\n",
       "      <th>부패에 대한인식</th>\n",
       "      <th>년도</th>\n",
       "    </tr>\n",
       "  </thead>\n",
       "  <tbody>\n",
       "    <tr>\n",
       "      <th>0</th>\n",
       "      <td>1</td>\n",
       "      <td>Finland</td>\n",
       "      <td>7.769</td>\n",
       "      <td>1.340</td>\n",
       "      <td>1.587</td>\n",
       "      <td>0.986</td>\n",
       "      <td>0.596</td>\n",
       "      <td>0.153</td>\n",
       "      <td>0.393</td>\n",
       "      <td>2019</td>\n",
       "    </tr>\n",
       "    <tr>\n",
       "      <th>1</th>\n",
       "      <td>2</td>\n",
       "      <td>Denmark</td>\n",
       "      <td>7.600</td>\n",
       "      <td>1.383</td>\n",
       "      <td>1.573</td>\n",
       "      <td>0.996</td>\n",
       "      <td>0.592</td>\n",
       "      <td>0.252</td>\n",
       "      <td>0.410</td>\n",
       "      <td>2019</td>\n",
       "    </tr>\n",
       "    <tr>\n",
       "      <th>2</th>\n",
       "      <td>3</td>\n",
       "      <td>Norway</td>\n",
       "      <td>7.554</td>\n",
       "      <td>1.488</td>\n",
       "      <td>1.582</td>\n",
       "      <td>1.028</td>\n",
       "      <td>0.603</td>\n",
       "      <td>0.271</td>\n",
       "      <td>0.341</td>\n",
       "      <td>2019</td>\n",
       "    </tr>\n",
       "    <tr>\n",
       "      <th>3</th>\n",
       "      <td>4</td>\n",
       "      <td>Iceland</td>\n",
       "      <td>7.494</td>\n",
       "      <td>1.380</td>\n",
       "      <td>1.624</td>\n",
       "      <td>1.026</td>\n",
       "      <td>0.591</td>\n",
       "      <td>0.354</td>\n",
       "      <td>0.118</td>\n",
       "      <td>2019</td>\n",
       "    </tr>\n",
       "    <tr>\n",
       "      <th>4</th>\n",
       "      <td>5</td>\n",
       "      <td>Netherlands</td>\n",
       "      <td>7.488</td>\n",
       "      <td>1.396</td>\n",
       "      <td>1.522</td>\n",
       "      <td>0.999</td>\n",
       "      <td>0.557</td>\n",
       "      <td>0.322</td>\n",
       "      <td>0.298</td>\n",
       "      <td>2019</td>\n",
       "    </tr>\n",
       "  </tbody>\n",
       "</table>\n",
       "</div>"
      ],
      "text/plain": [
       "   행복랭킹          나라명     점수  상대GDP  사회적지원  행복기대치  선택의 자유도    관대함  부패에 대한인식  \\\n",
       "0     1      Finland  7.769  1.340  1.587  0.986    0.596  0.153     0.393   \n",
       "1     2      Denmark  7.600  1.383  1.573  0.996    0.592  0.252     0.410   \n",
       "2     3       Norway  7.554  1.488  1.582  1.028    0.603  0.271     0.341   \n",
       "3     4      Iceland  7.494  1.380  1.624  1.026    0.591  0.354     0.118   \n",
       "4     5  Netherlands  7.488  1.396  1.522  0.999    0.557  0.322     0.298   \n",
       "\n",
       "     년도  \n",
       "0  2019  \n",
       "1  2019  \n",
       "2  2019  \n",
       "3  2019  \n",
       "4  2019  "
      ]
     },
     "execution_count": 34,
     "metadata": {},
     "output_type": "execute_result"
    }
   ],
   "source": [
    "import pandas as pd\n",
    "df =pd.read_csv('https://raw.githubusercontent.com/Datamanim/datarepo/main/happy2/happiness.csv',encoding='utf-8')\n",
    "df.head()"
   ]
  },
  {
   "cell_type": "markdown",
   "id": "9ec1389d",
   "metadata": {},
   "source": [
    "## Question 41\n",
    "\n",
    "데이터는 2018년도와 2019년도의 전세계 행복 지수를 표현한다.<br>\n",
    "각년도의 행복랭킹 10위를 차지한 나라의 행복점수의 평균을 구하여라."
   ]
  },
  {
   "cell_type": "code",
   "execution_count": null,
   "id": "801ea8d8",
   "metadata": {},
   "outputs": [],
   "source": []
  },
  {
   "cell_type": "markdown",
   "id": "24f5e5e5",
   "metadata": {},
   "source": [
    "## Question 42\n",
    "\n",
    "데이터는 2018년도와 2019년도의 전세계 행복 지수를 표현한다.<br> 각년도의 행복랭킹 50위이내의 나라들의 각각의 행복점수 평균을 데이터프레임으로 표시하라."
   ]
  },
  {
   "cell_type": "code",
   "execution_count": null,
   "id": "686e92a5",
   "metadata": {},
   "outputs": [],
   "source": []
  },
  {
   "cell_type": "markdown",
   "id": "4048f2b6",
   "metadata": {},
   "source": [
    "## Question 43\n",
    "\n",
    "2018년도 데이터들만 추출하여 행복점수와 부패에 대한 인식에 대한 상관계수를 구하여라."
   ]
  },
  {
   "cell_type": "code",
   "execution_count": null,
   "id": "ada04685",
   "metadata": {},
   "outputs": [],
   "source": []
  },
  {
   "cell_type": "markdown",
   "id": "a0a25342",
   "metadata": {},
   "source": [
    "## Question 44\n",
    "\n",
    "2018년도와 2019년도의 행복랭킹이 변화하지 않은 나라명의 수를 구하여라."
   ]
  },
  {
   "cell_type": "code",
   "execution_count": null,
   "id": "fae7b6a7",
   "metadata": {},
   "outputs": [],
   "source": []
  },
  {
   "cell_type": "markdown",
   "id": "b3c8adce",
   "metadata": {},
   "source": [
    "## Question 45\n",
    "\n",
    "2019년도 데이터들만 추출하여 각변수간 상관계수를 구하고 내림차순으로 정렬한 후 상위 5개를 데이터 프레임으로 출력하라. 컬럼명은 v1,v2,corr으로 표시하라."
   ]
  },
  {
   "cell_type": "code",
   "execution_count": null,
   "id": "74b6358d",
   "metadata": {},
   "outputs": [],
   "source": []
  },
  {
   "cell_type": "markdown",
   "id": "b90c2228",
   "metadata": {},
   "source": [
    "## Question 46\n",
    "\n",
    "각 년도별 하위 행복점수의 하위 5개 국가의 평균 행복점수를 구하여라."
   ]
  },
  {
   "cell_type": "code",
   "execution_count": null,
   "id": "d7f2080f",
   "metadata": {},
   "outputs": [],
   "source": []
  },
  {
   "cell_type": "markdown",
   "id": "afb3e3ae",
   "metadata": {},
   "source": [
    "## Question 47\n",
    "\n",
    "2019년 데이터를 추출하고 해당데이터의 상대 GDP 평균 이상의 나라들과 평균 이하의 나라들의 행복점수 평균을 각각 구하고 그 차이값을 출력하라."
   ]
  },
  {
   "cell_type": "code",
   "execution_count": null,
   "id": "c4262e7c",
   "metadata": {},
   "outputs": [],
   "source": []
  },
  {
   "cell_type": "markdown",
   "id": "6f571eb4",
   "metadata": {},
   "source": [
    "## Question 48\n",
    "\n",
    "각년도의 부패에 대한인식을 내림차순 정렬했을때 상위 20개 국가의 부패에 대한인식의 평균을 구하여라."
   ]
  },
  {
   "cell_type": "code",
   "execution_count": null,
   "id": "65c7901d",
   "metadata": {},
   "outputs": [],
   "source": []
  },
  {
   "cell_type": "markdown",
   "id": "ea27967e",
   "metadata": {},
   "source": [
    "## Question 49\n",
    "\n",
    "2018년도 행복랭킹 50위 이내에 포함됐다가 2019년 50위 밖으로 밀려난 국가의 숫자를 구하여라."
   ]
  },
  {
   "cell_type": "code",
   "execution_count": null,
   "id": "45a1b634",
   "metadata": {},
   "outputs": [],
   "source": []
  },
  {
   "cell_type": "markdown",
   "id": "19ed6bd8",
   "metadata": {},
   "source": [
    "## Question 50\n",
    "\n",
    "2018년,2019년 모두 기록이 있는 나라들 중 년도별 행복점수가 가장 증가한 나라와 그 증가 수치는?"
   ]
  },
  {
   "cell_type": "code",
   "execution_count": null,
   "id": "27d9c76b",
   "metadata": {},
   "outputs": [],
   "source": []
  },
  {
   "cell_type": "markdown",
   "id": "09f2046d",
   "metadata": {},
   "source": [
    "# 지역구 에너지 소비량 데이터\n",
    "데이터 출처 : https://archive.ics.uci.edu/ml/datasets/Power+consumption+of+Tetouan+city (참고, 데이터 수정)<br>\n",
    "데이터 설명 : 기온, 습도,바람풍속에 따른 도시의 3개 지역구의 에너지 소비량<br>\n",
    "data url = https://raw.githubusercontent.com/Datamanim/datarepo/main/consum/Tetuan City power consumption.csv"
   ]
  },
  {
   "cell_type": "code",
   "execution_count": 35,
   "id": "4c31448f",
   "metadata": {},
   "outputs": [
    {
     "data": {
      "application/vnd.microsoft.datawrangler.viewer.v0+json": {
       "columns": [
        {
         "name": "index",
         "rawType": "int64",
         "type": "integer"
        },
        {
         "name": "DateTime",
         "rawType": "object",
         "type": "string"
        },
        {
         "name": "Temperature",
         "rawType": "float64",
         "type": "float"
        },
        {
         "name": "Humidity",
         "rawType": "float64",
         "type": "float"
        },
        {
         "name": "Wind Speed",
         "rawType": "float64",
         "type": "float"
        },
        {
         "name": "general diffuse flows",
         "rawType": "float64",
         "type": "float"
        },
        {
         "name": "diffuse flows",
         "rawType": "float64",
         "type": "float"
        },
        {
         "name": "Zone 1 Power Consumption",
         "rawType": "float64",
         "type": "float"
        },
        {
         "name": "Zone 2  Power Consumption",
         "rawType": "float64",
         "type": "float"
        },
        {
         "name": "Zone 3  Power Consumption",
         "rawType": "float64",
         "type": "float"
        }
       ],
       "ref": "7c368494-3fc8-4867-b709-83f85a10a578",
       "rows": [
        [
         "0",
         "1/1/2017 0:00",
         "6.559",
         "73.8",
         "0.083",
         "0.051",
         "0.119",
         "34055.6962",
         "16128.87538",
         "20240.96386"
        ],
        [
         "1",
         "1/1/2017 0:10",
         "6.414",
         "74.5",
         "0.083",
         "0.07",
         "0.085",
         "29814.68354",
         "19375.07599",
         "20131.08434"
        ],
        [
         "2",
         "1/1/2017 0:20",
         "6.313",
         "74.5",
         "0.08",
         "0.062",
         "0.1",
         "29128.10127",
         "19006.68693",
         "19668.43373"
        ],
        [
         "3",
         "1/1/2017 0:30",
         "6.121",
         "75.0",
         "0.083",
         "0.091",
         "0.096",
         "28228.86076",
         "18361.09422",
         "18899.27711"
        ],
        [
         "4",
         "1/1/2017 0:40",
         "5.921",
         "75.7",
         "0.081",
         "0.048",
         "0.085",
         "27335.6962",
         "17872.34043",
         "18442.40964"
        ]
       ],
       "shape": {
        "columns": 9,
        "rows": 5
       }
      },
      "text/html": [
       "<div>\n",
       "<style scoped>\n",
       "    .dataframe tbody tr th:only-of-type {\n",
       "        vertical-align: middle;\n",
       "    }\n",
       "\n",
       "    .dataframe tbody tr th {\n",
       "        vertical-align: top;\n",
       "    }\n",
       "\n",
       "    .dataframe thead th {\n",
       "        text-align: right;\n",
       "    }\n",
       "</style>\n",
       "<table border=\"1\" class=\"dataframe\">\n",
       "  <thead>\n",
       "    <tr style=\"text-align: right;\">\n",
       "      <th></th>\n",
       "      <th>DateTime</th>\n",
       "      <th>Temperature</th>\n",
       "      <th>Humidity</th>\n",
       "      <th>Wind Speed</th>\n",
       "      <th>general diffuse flows</th>\n",
       "      <th>diffuse flows</th>\n",
       "      <th>Zone 1 Power Consumption</th>\n",
       "      <th>Zone 2  Power Consumption</th>\n",
       "      <th>Zone 3  Power Consumption</th>\n",
       "    </tr>\n",
       "  </thead>\n",
       "  <tbody>\n",
       "    <tr>\n",
       "      <th>0</th>\n",
       "      <td>1/1/2017 0:00</td>\n",
       "      <td>6.559</td>\n",
       "      <td>73.8</td>\n",
       "      <td>0.083</td>\n",
       "      <td>0.051</td>\n",
       "      <td>0.119</td>\n",
       "      <td>34055.69620</td>\n",
       "      <td>16128.87538</td>\n",
       "      <td>20240.96386</td>\n",
       "    </tr>\n",
       "    <tr>\n",
       "      <th>1</th>\n",
       "      <td>1/1/2017 0:10</td>\n",
       "      <td>6.414</td>\n",
       "      <td>74.5</td>\n",
       "      <td>0.083</td>\n",
       "      <td>0.070</td>\n",
       "      <td>0.085</td>\n",
       "      <td>29814.68354</td>\n",
       "      <td>19375.07599</td>\n",
       "      <td>20131.08434</td>\n",
       "    </tr>\n",
       "    <tr>\n",
       "      <th>2</th>\n",
       "      <td>1/1/2017 0:20</td>\n",
       "      <td>6.313</td>\n",
       "      <td>74.5</td>\n",
       "      <td>0.080</td>\n",
       "      <td>0.062</td>\n",
       "      <td>0.100</td>\n",
       "      <td>29128.10127</td>\n",
       "      <td>19006.68693</td>\n",
       "      <td>19668.43373</td>\n",
       "    </tr>\n",
       "    <tr>\n",
       "      <th>3</th>\n",
       "      <td>1/1/2017 0:30</td>\n",
       "      <td>6.121</td>\n",
       "      <td>75.0</td>\n",
       "      <td>0.083</td>\n",
       "      <td>0.091</td>\n",
       "      <td>0.096</td>\n",
       "      <td>28228.86076</td>\n",
       "      <td>18361.09422</td>\n",
       "      <td>18899.27711</td>\n",
       "    </tr>\n",
       "    <tr>\n",
       "      <th>4</th>\n",
       "      <td>1/1/2017 0:40</td>\n",
       "      <td>5.921</td>\n",
       "      <td>75.7</td>\n",
       "      <td>0.081</td>\n",
       "      <td>0.048</td>\n",
       "      <td>0.085</td>\n",
       "      <td>27335.69620</td>\n",
       "      <td>17872.34043</td>\n",
       "      <td>18442.40964</td>\n",
       "    </tr>\n",
       "  </tbody>\n",
       "</table>\n",
       "</div>"
      ],
      "text/plain": [
       "        DateTime  Temperature  Humidity  Wind Speed  general diffuse flows  \\\n",
       "0  1/1/2017 0:00        6.559      73.8       0.083                  0.051   \n",
       "1  1/1/2017 0:10        6.414      74.5       0.083                  0.070   \n",
       "2  1/1/2017 0:20        6.313      74.5       0.080                  0.062   \n",
       "3  1/1/2017 0:30        6.121      75.0       0.083                  0.091   \n",
       "4  1/1/2017 0:40        5.921      75.7       0.081                  0.048   \n",
       "\n",
       "   diffuse flows  Zone 1 Power Consumption  Zone 2  Power Consumption  \\\n",
       "0          0.119               34055.69620                16128.87538   \n",
       "1          0.085               29814.68354                19375.07599   \n",
       "2          0.100               29128.10127                19006.68693   \n",
       "3          0.096               28228.86076                18361.09422   \n",
       "4          0.085               27335.69620                17872.34043   \n",
       "\n",
       "   Zone 3  Power Consumption  \n",
       "0                20240.96386  \n",
       "1                20131.08434  \n",
       "2                19668.43373  \n",
       "3                18899.27711  \n",
       "4                18442.40964  "
      ]
     },
     "execution_count": 35,
     "metadata": {},
     "output_type": "execute_result"
    }
   ],
   "source": [
    "import pandas as pd\n",
    "df= pd.read_csv('https://raw.githubusercontent.com/Datamanim/datarepo/main/consum/Tetuan%20City%20power%20consumption.csv')\n",
    "df.head()"
   ]
  },
  {
   "cell_type": "markdown",
   "id": "76fc5609",
   "metadata": {},
   "source": [
    "## Question 51\n",
    "\n",
    "DateTime컬럼을 통해 각 월별로 몇개의 데이터가 있는지 데이터 프레임으로 구하여라."
   ]
  },
  {
   "cell_type": "code",
   "execution_count": null,
   "id": "31372c55",
   "metadata": {},
   "outputs": [],
   "source": []
  },
  {
   "cell_type": "markdown",
   "id": "ea3ee1bf",
   "metadata": {},
   "source": [
    "## Question 52\n",
    "\n",
    "3월달의 각 시간대별 온도의 평균들 중 가장 낮은 시간대의 온도를 출력하라."
   ]
  },
  {
   "cell_type": "code",
   "execution_count": null,
   "id": "573410ec",
   "metadata": {},
   "outputs": [],
   "source": []
  },
  {
   "cell_type": "markdown",
   "id": "83d2132a",
   "metadata": {},
   "source": [
    "## Question 53\n",
    "\n",
    "3월달의 각 시간대별 온도의 평균들 중 가장 높은 시간대의 온도를 출력하라."
   ]
  },
  {
   "cell_type": "code",
   "execution_count": null,
   "id": "845c4f97",
   "metadata": {},
   "outputs": [],
   "source": []
  },
  {
   "cell_type": "markdown",
   "id": "7d571382",
   "metadata": {},
   "source": [
    "## Question 54\n",
    "\n",
    "Zone 1 Power Consumption 컬럼의 value값의 크기가 Zone 2 Power Consumption 컬럼의 value값의 크기보다 큰 데이터들의 Humidity의 평균을 구하여라."
   ]
  },
  {
   "cell_type": "code",
   "execution_count": null,
   "id": "5d0fb4a1",
   "metadata": {},
   "outputs": [],
   "source": []
  },
  {
   "cell_type": "markdown",
   "id": "e3e17614",
   "metadata": {},
   "source": [
    "## Question 55\n",
    "\n",
    "각 zone의 에너지 소비량의 상관관계를 구해서 데이터 프레임으로 표기하라."
   ]
  },
  {
   "cell_type": "code",
   "execution_count": null,
   "id": "f1d9630b",
   "metadata": {},
   "outputs": [],
   "source": []
  },
  {
   "cell_type": "markdown",
   "id": "a39c2996",
   "metadata": {},
   "source": [
    "## Question 56\n",
    "\n",
    "Temperature의 값이 10미만의 경우 A, 10이상 20미만의 경우 B,20이상 30미만의 경우 C, 그 외의 경우 D라고 할때 각 단계의 데이터 숫자를 구하여라."
   ]
  },
  {
   "cell_type": "code",
   "execution_count": null,
   "id": "20e55dc7",
   "metadata": {},
   "outputs": [],
   "source": []
  },
  {
   "cell_type": "markdown",
   "id": "1c82a2b4",
   "metadata": {},
   "source": [
    "## Question 57\n",
    "\n",
    "6월 데이터중 12시의 Temperature의 표준편차를 구하여라."
   ]
  },
  {
   "cell_type": "code",
   "execution_count": null,
   "id": "672ad350",
   "metadata": {},
   "outputs": [],
   "source": []
  },
  {
   "cell_type": "markdown",
   "id": "35198ef4",
   "metadata": {},
   "source": [
    "## Question 58\n",
    "\n",
    "6월 데이터중 12시의 Temperature의 분산을 구하여라."
   ]
  },
  {
   "cell_type": "code",
   "execution_count": null,
   "id": "8e9a1ebf",
   "metadata": {},
   "outputs": [],
   "source": []
  },
  {
   "cell_type": "markdown",
   "id": "06d3dd5e",
   "metadata": {},
   "source": [
    "## Question 59\n",
    "\n",
    "Temperature의 평균이상의 Temperature의 값을 가지는 데이터를 Temperature를 기준으로 정렬 했을때 4번째 행의 Humidity 값은?"
   ]
  },
  {
   "cell_type": "code",
   "execution_count": null,
   "id": "15fefb84",
   "metadata": {},
   "outputs": [],
   "source": []
  },
  {
   "cell_type": "markdown",
   "id": "a935a6a2",
   "metadata": {},
   "source": [
    "## Question 60\n",
    "\n",
    "Temperature의 중간값 이상의 Temperature의 값을 가지는 데이터를Temperature를 기준으로 정렬 했을때 4번째 행의 Humidity 값은?"
   ]
  },
  {
   "cell_type": "markdown",
   "id": "8efa425c",
   "metadata": {},
   "source": [
    "# 포켓몬 정보 데이터\n",
    "데이터 출처 : https://www.kaggle.com/abcsds/pokemon (참고, 데이터 수정)<br>\n",
    "데이터 설명 : 포켓몬 정보<br>\n",
    "data url = https://raw.githubusercontent.com/Datamanim/datarepo/main/pok/Pokemon.csv"
   ]
  },
  {
   "cell_type": "code",
   "execution_count": 36,
   "id": "1e6c0edc",
   "metadata": {},
   "outputs": [
    {
     "data": {
      "application/vnd.microsoft.datawrangler.viewer.v0+json": {
       "columns": [
        {
         "name": "index",
         "rawType": "int64",
         "type": "integer"
        },
        {
         "name": "#",
         "rawType": "int64",
         "type": "integer"
        },
        {
         "name": "Name",
         "rawType": "object",
         "type": "string"
        },
        {
         "name": "Type 1",
         "rawType": "object",
         "type": "string"
        },
        {
         "name": "Type 2",
         "rawType": "object",
         "type": "unknown"
        },
        {
         "name": "Total",
         "rawType": "int64",
         "type": "integer"
        },
        {
         "name": "HP",
         "rawType": "int64",
         "type": "integer"
        },
        {
         "name": "Attack",
         "rawType": "int64",
         "type": "integer"
        },
        {
         "name": "Defense",
         "rawType": "int64",
         "type": "integer"
        },
        {
         "name": "Sp. Atk",
         "rawType": "int64",
         "type": "integer"
        },
        {
         "name": "Sp. Def",
         "rawType": "int64",
         "type": "integer"
        },
        {
         "name": "Speed",
         "rawType": "int64",
         "type": "integer"
        },
        {
         "name": "Generation",
         "rawType": "int64",
         "type": "integer"
        },
        {
         "name": "Legendary",
         "rawType": "bool",
         "type": "boolean"
        }
       ],
       "ref": "7613c72f-92ad-4e46-ace5-88f380f85bc2",
       "rows": [
        [
         "0",
         "1",
         "Bulbasaur",
         "Grass",
         "Poison",
         "318",
         "45",
         "49",
         "49",
         "65",
         "65",
         "45",
         "1",
         "False"
        ],
        [
         "1",
         "2",
         "Ivysaur",
         "Grass",
         "Poison",
         "405",
         "60",
         "62",
         "63",
         "80",
         "80",
         "60",
         "1",
         "False"
        ],
        [
         "2",
         "3",
         "Venusaur",
         "Grass",
         "Poison",
         "525",
         "80",
         "82",
         "83",
         "100",
         "100",
         "80",
         "1",
         "False"
        ],
        [
         "3",
         "3",
         "VenusaurMega Venusaur",
         "Grass",
         "Poison",
         "625",
         "80",
         "100",
         "123",
         "122",
         "120",
         "80",
         "1",
         "False"
        ],
        [
         "4",
         "4",
         "Charmander",
         "Fire",
         null,
         "309",
         "39",
         "52",
         "43",
         "60",
         "50",
         "65",
         "1",
         "False"
        ]
       ],
       "shape": {
        "columns": 13,
        "rows": 5
       }
      },
      "text/html": [
       "<div>\n",
       "<style scoped>\n",
       "    .dataframe tbody tr th:only-of-type {\n",
       "        vertical-align: middle;\n",
       "    }\n",
       "\n",
       "    .dataframe tbody tr th {\n",
       "        vertical-align: top;\n",
       "    }\n",
       "\n",
       "    .dataframe thead th {\n",
       "        text-align: right;\n",
       "    }\n",
       "</style>\n",
       "<table border=\"1\" class=\"dataframe\">\n",
       "  <thead>\n",
       "    <tr style=\"text-align: right;\">\n",
       "      <th></th>\n",
       "      <th>#</th>\n",
       "      <th>Name</th>\n",
       "      <th>Type 1</th>\n",
       "      <th>Type 2</th>\n",
       "      <th>Total</th>\n",
       "      <th>HP</th>\n",
       "      <th>Attack</th>\n",
       "      <th>Defense</th>\n",
       "      <th>Sp. Atk</th>\n",
       "      <th>Sp. Def</th>\n",
       "      <th>Speed</th>\n",
       "      <th>Generation</th>\n",
       "      <th>Legendary</th>\n",
       "    </tr>\n",
       "  </thead>\n",
       "  <tbody>\n",
       "    <tr>\n",
       "      <th>0</th>\n",
       "      <td>1</td>\n",
       "      <td>Bulbasaur</td>\n",
       "      <td>Grass</td>\n",
       "      <td>Poison</td>\n",
       "      <td>318</td>\n",
       "      <td>45</td>\n",
       "      <td>49</td>\n",
       "      <td>49</td>\n",
       "      <td>65</td>\n",
       "      <td>65</td>\n",
       "      <td>45</td>\n",
       "      <td>1</td>\n",
       "      <td>False</td>\n",
       "    </tr>\n",
       "    <tr>\n",
       "      <th>1</th>\n",
       "      <td>2</td>\n",
       "      <td>Ivysaur</td>\n",
       "      <td>Grass</td>\n",
       "      <td>Poison</td>\n",
       "      <td>405</td>\n",
       "      <td>60</td>\n",
       "      <td>62</td>\n",
       "      <td>63</td>\n",
       "      <td>80</td>\n",
       "      <td>80</td>\n",
       "      <td>60</td>\n",
       "      <td>1</td>\n",
       "      <td>False</td>\n",
       "    </tr>\n",
       "    <tr>\n",
       "      <th>2</th>\n",
       "      <td>3</td>\n",
       "      <td>Venusaur</td>\n",
       "      <td>Grass</td>\n",
       "      <td>Poison</td>\n",
       "      <td>525</td>\n",
       "      <td>80</td>\n",
       "      <td>82</td>\n",
       "      <td>83</td>\n",
       "      <td>100</td>\n",
       "      <td>100</td>\n",
       "      <td>80</td>\n",
       "      <td>1</td>\n",
       "      <td>False</td>\n",
       "    </tr>\n",
       "    <tr>\n",
       "      <th>3</th>\n",
       "      <td>3</td>\n",
       "      <td>VenusaurMega Venusaur</td>\n",
       "      <td>Grass</td>\n",
       "      <td>Poison</td>\n",
       "      <td>625</td>\n",
       "      <td>80</td>\n",
       "      <td>100</td>\n",
       "      <td>123</td>\n",
       "      <td>122</td>\n",
       "      <td>120</td>\n",
       "      <td>80</td>\n",
       "      <td>1</td>\n",
       "      <td>False</td>\n",
       "    </tr>\n",
       "    <tr>\n",
       "      <th>4</th>\n",
       "      <td>4</td>\n",
       "      <td>Charmander</td>\n",
       "      <td>Fire</td>\n",
       "      <td>NaN</td>\n",
       "      <td>309</td>\n",
       "      <td>39</td>\n",
       "      <td>52</td>\n",
       "      <td>43</td>\n",
       "      <td>60</td>\n",
       "      <td>50</td>\n",
       "      <td>65</td>\n",
       "      <td>1</td>\n",
       "      <td>False</td>\n",
       "    </tr>\n",
       "  </tbody>\n",
       "</table>\n",
       "</div>"
      ],
      "text/plain": [
       "   #                   Name Type 1  Type 2  Total  HP  Attack  Defense  \\\n",
       "0  1              Bulbasaur  Grass  Poison    318  45      49       49   \n",
       "1  2                Ivysaur  Grass  Poison    405  60      62       63   \n",
       "2  3               Venusaur  Grass  Poison    525  80      82       83   \n",
       "3  3  VenusaurMega Venusaur  Grass  Poison    625  80     100      123   \n",
       "4  4             Charmander   Fire     NaN    309  39      52       43   \n",
       "\n",
       "   Sp. Atk  Sp. Def  Speed  Generation  Legendary  \n",
       "0       65       65     45           1      False  \n",
       "1       80       80     60           1      False  \n",
       "2      100      100     80           1      False  \n",
       "3      122      120     80           1      False  \n",
       "4       60       50     65           1      False  "
      ]
     },
     "execution_count": 36,
     "metadata": {},
     "output_type": "execute_result"
    }
   ],
   "source": [
    "import pandas as pd\n",
    "df = pd.read_csv('https://raw.githubusercontent.com/Datamanim/datarepo/main/pok/Pokemon.csv')\n",
    "df.head()"
   ]
  },
  {
   "cell_type": "markdown",
   "id": "adf83e31",
   "metadata": {},
   "source": [
    "## Question 61\n",
    "\n",
    "Legendary 컬럼은 전설포켓몬 유무를 나타낸다.전설포켓몬과 그렇지 않은 포켓몬들의 HP평균의 차이를 구하여라."
   ]
  },
  {
   "cell_type": "code",
   "execution_count": null,
   "id": "e3c6296d",
   "metadata": {},
   "outputs": [],
   "source": []
  },
  {
   "cell_type": "markdown",
   "id": "29156829",
   "metadata": {},
   "source": [
    "## Question 62\n",
    "\n",
    "Type 1은 주속성 Type 2 는 부속성을 나타낸다. 가장 많은 부속성 종류는 무엇인가?"
   ]
  },
  {
   "cell_type": "code",
   "execution_count": null,
   "id": "66a498f0",
   "metadata": {},
   "outputs": [],
   "source": []
  },
  {
   "cell_type": "markdown",
   "id": "edf120af",
   "metadata": {},
   "source": [
    "## Question 63\n",
    "\n",
    "가장 많은 Type 1 의 종의 평균 Attack 을 평균 Defense로 나눈값은?"
   ]
  },
  {
   "cell_type": "code",
   "execution_count": null,
   "id": "e8524707",
   "metadata": {},
   "outputs": [],
   "source": []
  },
  {
   "cell_type": "markdown",
   "id": "35a4d369",
   "metadata": {},
   "source": [
    "## Question 64\n",
    "\n",
    "포켓몬 세대(Generation) 중 가장많은 Legendary를 보유한 세대는 몇세대인가?"
   ]
  },
  {
   "cell_type": "code",
   "execution_count": null,
   "id": "b43450b2",
   "metadata": {},
   "outputs": [],
   "source": []
  },
  {
   "cell_type": "markdown",
   "id": "cb6ac7f8",
   "metadata": {},
   "source": [
    "## Question 65\n",
    "\n",
    "‘HP’, ‘Attack’, ‘Defense’, ‘Sp. Atk’, ‘Sp. Def’, ‘Speed’ 간의 상관 계수중 가장 절댓값이 큰 두 변수와 그 값을 구하여라."
   ]
  },
  {
   "cell_type": "code",
   "execution_count": null,
   "id": "bae4e64d",
   "metadata": {},
   "outputs": [],
   "source": []
  },
  {
   "cell_type": "markdown",
   "id": "e0daaa60",
   "metadata": {},
   "source": [
    "## Question 66\n",
    "\n",
    "각 Generation의 Attack으로 오름차순 정렬시 상위 3개 데이터들(18개)의 Attack의 전체 평균을 구하여라."
   ]
  },
  {
   "cell_type": "code",
   "execution_count": null,
   "id": "e546b2eb",
   "metadata": {},
   "outputs": [],
   "source": []
  },
  {
   "cell_type": "markdown",
   "id": "2bacc173",
   "metadata": {},
   "source": [
    "## Question 67\n",
    "\n",
    "각 Generation의 Attack으로 내림차순 정렬시 상위 5개 데이터들(30개)의 Attack의 전체 평균을 구하여라."
   ]
  },
  {
   "cell_type": "code",
   "execution_count": null,
   "id": "efee4e3f",
   "metadata": {},
   "outputs": [],
   "source": []
  },
  {
   "cell_type": "markdown",
   "id": "73860c48",
   "metadata": {},
   "source": [
    "## Question 68\n",
    "\n",
    "가장 흔하게 발견되는 (Type1 , Type2) 의 쌍은 무엇인가?"
   ]
  },
  {
   "cell_type": "code",
   "execution_count": null,
   "id": "3fc3eb31",
   "metadata": {},
   "outputs": [],
   "source": []
  },
  {
   "cell_type": "markdown",
   "id": "318ad0d6",
   "metadata": {},
   "source": [
    "## Question 69\n",
    "\n",
    "한번씩만 존재하는 (Type1 , Type2)의 쌍의 갯수는 몇개인가?"
   ]
  },
  {
   "cell_type": "code",
   "execution_count": null,
   "id": "baa61f4a",
   "metadata": {},
   "outputs": [],
   "source": []
  },
  {
   "cell_type": "markdown",
   "id": "423f2c08",
   "metadata": {},
   "source": [
    "## Question 70\n",
    "\n",
    "한번씩만 존재하는 (Type1 , Type2)의 쌍을 각 세대(Generation)은 각각 몇개씩 가지고 있는가?"
   ]
  },
  {
   "cell_type": "markdown",
   "id": "26034d1e",
   "metadata": {},
   "source": [
    "# 대한민국 체력장 데이터\n",
    "데이터 출처 : 국민체육진흥공단 (문화 빅데이터플랫폼) (참고, 데이터 수정)<br>\n",
    "데이터 설명 : 대한민국 국민 체력장 평가<br>\n",
    "data url = https://raw.githubusercontent.com/Datamanim/datarepo/main/body/body.csv"
   ]
  },
  {
   "cell_type": "code",
   "execution_count": 37,
   "id": "f51cd9ff",
   "metadata": {},
   "outputs": [
    {
     "data": {
      "application/vnd.microsoft.datawrangler.viewer.v0+json": {
       "columns": [
        {
         "name": "index",
         "rawType": "int64",
         "type": "integer"
        },
        {
         "name": "측정나이",
         "rawType": "float64",
         "type": "float"
        },
        {
         "name": "측정회원성별",
         "rawType": "object",
         "type": "string"
        },
        {
         "name": "신장 : cm",
         "rawType": "float64",
         "type": "float"
        },
        {
         "name": "체중 : kg",
         "rawType": "float64",
         "type": "float"
        },
        {
         "name": "체지방율 : %",
         "rawType": "float64",
         "type": "float"
        },
        {
         "name": "이완기혈압(최저) : mmHg",
         "rawType": "float64",
         "type": "float"
        },
        {
         "name": "수축기혈압(최고) : mmHg",
         "rawType": "float64",
         "type": "float"
        },
        {
         "name": "악력D : kg",
         "rawType": "float64",
         "type": "float"
        },
        {
         "name": "앉아윗몸앞으로굽히기 : cm",
         "rawType": "float64",
         "type": "float"
        },
        {
         "name": "교차윗몸일으키기 : 회",
         "rawType": "float64",
         "type": "float"
        },
        {
         "name": "제자리 멀리뛰기 : cm",
         "rawType": "float64",
         "type": "float"
        },
        {
         "name": "등급",
         "rawType": "object",
         "type": "string"
        }
       ],
       "ref": "01119131-2598-494f-97c9-c0f43029a3d4",
       "rows": [
        [
         "0",
         "59.0",
         "M",
         "175.0",
         "70.6",
         "19.2",
         "91.0",
         "150.0",
         "40.6",
         "12.2",
         "30.0",
         "179.0",
         "C"
        ],
        [
         "1",
         "40.0",
         "F",
         "161.4",
         "45.8",
         "21.7",
         "62.0",
         "119.0",
         "22.1",
         "16.0",
         "32.0",
         "165.0",
         "B"
        ],
        [
         "2",
         "27.0",
         "M",
         "176.6",
         "84.8",
         "19.2",
         "87.0",
         "153.0",
         "45.9",
         "13.2",
         "61.0",
         "216.0",
         "B"
        ],
        [
         "3",
         "38.0",
         "M",
         "167.6",
         "76.7",
         "24.7",
         "63.0",
         "132.0",
         "43.6",
         "16.0",
         "45.0",
         "231.0",
         "A"
        ],
        [
         "4",
         "21.0",
         "M",
         "165.2",
         "66.2",
         "21.5",
         "83.0",
         "106.0",
         "33.5",
         "10.6",
         "46.0",
         "198.0",
         "C"
        ]
       ],
       "shape": {
        "columns": 12,
        "rows": 5
       }
      },
      "text/html": [
       "<div>\n",
       "<style scoped>\n",
       "    .dataframe tbody tr th:only-of-type {\n",
       "        vertical-align: middle;\n",
       "    }\n",
       "\n",
       "    .dataframe tbody tr th {\n",
       "        vertical-align: top;\n",
       "    }\n",
       "\n",
       "    .dataframe thead th {\n",
       "        text-align: right;\n",
       "    }\n",
       "</style>\n",
       "<table border=\"1\" class=\"dataframe\">\n",
       "  <thead>\n",
       "    <tr style=\"text-align: right;\">\n",
       "      <th></th>\n",
       "      <th>측정나이</th>\n",
       "      <th>측정회원성별</th>\n",
       "      <th>신장 : cm</th>\n",
       "      <th>체중 : kg</th>\n",
       "      <th>체지방율 : %</th>\n",
       "      <th>이완기혈압(최저) : mmHg</th>\n",
       "      <th>수축기혈압(최고) : mmHg</th>\n",
       "      <th>악력D : kg</th>\n",
       "      <th>앉아윗몸앞으로굽히기 : cm</th>\n",
       "      <th>교차윗몸일으키기 : 회</th>\n",
       "      <th>제자리 멀리뛰기 : cm</th>\n",
       "      <th>등급</th>\n",
       "    </tr>\n",
       "  </thead>\n",
       "  <tbody>\n",
       "    <tr>\n",
       "      <th>0</th>\n",
       "      <td>59.0</td>\n",
       "      <td>M</td>\n",
       "      <td>175.0</td>\n",
       "      <td>70.6</td>\n",
       "      <td>19.2</td>\n",
       "      <td>91.0</td>\n",
       "      <td>150.0</td>\n",
       "      <td>40.6</td>\n",
       "      <td>12.2</td>\n",
       "      <td>30.0</td>\n",
       "      <td>179.0</td>\n",
       "      <td>C</td>\n",
       "    </tr>\n",
       "    <tr>\n",
       "      <th>1</th>\n",
       "      <td>40.0</td>\n",
       "      <td>F</td>\n",
       "      <td>161.4</td>\n",
       "      <td>45.8</td>\n",
       "      <td>21.7</td>\n",
       "      <td>62.0</td>\n",
       "      <td>119.0</td>\n",
       "      <td>22.1</td>\n",
       "      <td>16.0</td>\n",
       "      <td>32.0</td>\n",
       "      <td>165.0</td>\n",
       "      <td>B</td>\n",
       "    </tr>\n",
       "    <tr>\n",
       "      <th>2</th>\n",
       "      <td>27.0</td>\n",
       "      <td>M</td>\n",
       "      <td>176.6</td>\n",
       "      <td>84.8</td>\n",
       "      <td>19.2</td>\n",
       "      <td>87.0</td>\n",
       "      <td>153.0</td>\n",
       "      <td>45.9</td>\n",
       "      <td>13.2</td>\n",
       "      <td>61.0</td>\n",
       "      <td>216.0</td>\n",
       "      <td>B</td>\n",
       "    </tr>\n",
       "    <tr>\n",
       "      <th>3</th>\n",
       "      <td>38.0</td>\n",
       "      <td>M</td>\n",
       "      <td>167.6</td>\n",
       "      <td>76.7</td>\n",
       "      <td>24.7</td>\n",
       "      <td>63.0</td>\n",
       "      <td>132.0</td>\n",
       "      <td>43.6</td>\n",
       "      <td>16.0</td>\n",
       "      <td>45.0</td>\n",
       "      <td>231.0</td>\n",
       "      <td>A</td>\n",
       "    </tr>\n",
       "    <tr>\n",
       "      <th>4</th>\n",
       "      <td>21.0</td>\n",
       "      <td>M</td>\n",
       "      <td>165.2</td>\n",
       "      <td>66.2</td>\n",
       "      <td>21.5</td>\n",
       "      <td>83.0</td>\n",
       "      <td>106.0</td>\n",
       "      <td>33.5</td>\n",
       "      <td>10.6</td>\n",
       "      <td>46.0</td>\n",
       "      <td>198.0</td>\n",
       "      <td>C</td>\n",
       "    </tr>\n",
       "  </tbody>\n",
       "</table>\n",
       "</div>"
      ],
      "text/plain": [
       "   측정나이 측정회원성별  신장 : cm  체중 : kg  체지방율 : %  이완기혈압(최저) : mmHg  \\\n",
       "0  59.0      M    175.0     70.6      19.2              91.0   \n",
       "1  40.0      F    161.4     45.8      21.7              62.0   \n",
       "2  27.0      M    176.6     84.8      19.2              87.0   \n",
       "3  38.0      M    167.6     76.7      24.7              63.0   \n",
       "4  21.0      M    165.2     66.2      21.5              83.0   \n",
       "\n",
       "   수축기혈압(최고) : mmHg  악력D : kg  앉아윗몸앞으로굽히기 : cm  교차윗몸일으키기 : 회  제자리 멀리뛰기 : cm 등급  \n",
       "0             150.0      40.6             12.2          30.0          179.0  C  \n",
       "1             119.0      22.1             16.0          32.0          165.0  B  \n",
       "2             153.0      45.9             13.2          61.0          216.0  B  \n",
       "3             132.0      43.6             16.0          45.0          231.0  A  \n",
       "4             106.0      33.5             10.6          46.0          198.0  C  "
      ]
     },
     "execution_count": 37,
     "metadata": {},
     "output_type": "execute_result"
    }
   ],
   "source": [
    "import pandas as pd\n",
    "df =pd.read_csv('https://raw.githubusercontent.com/Datamanim/datarepo/main/body/body.csv')\n",
    "df.head()"
   ]
  },
  {
   "cell_type": "markdown",
   "id": "3a35b6eb",
   "metadata": {},
   "source": [
    "## Question 71\n",
    "\n",
    "전체데이터의 수축기혈압(최고) - 이완기혈압(최저)의 평균을 구하여라."
   ]
  },
  {
   "cell_type": "code",
   "execution_count": null,
   "id": "4a31cc7d",
   "metadata": {},
   "outputs": [],
   "source": []
  },
  {
   "cell_type": "markdown",
   "id": "c5549ad6",
   "metadata": {},
   "source": [
    "## Question 72\n",
    "\n",
    "50~59세의 신장평균을 구하여라."
   ]
  },
  {
   "cell_type": "code",
   "execution_count": null,
   "id": "c9728301",
   "metadata": {},
   "outputs": [],
   "source": []
  },
  {
   "cell_type": "markdown",
   "id": "5cbdb6ac",
   "metadata": {},
   "source": [
    "## Question 73\n",
    "\n",
    "연령대 (20~29 : 20대 …) 별 인원수를 구하여라."
   ]
  },
  {
   "cell_type": "code",
   "execution_count": null,
   "id": "d6b24ee8",
   "metadata": {},
   "outputs": [],
   "source": []
  },
  {
   "cell_type": "markdown",
   "id": "8febd18b",
   "metadata": {},
   "source": [
    "## Question 74\n",
    "\n",
    "연령대 (20~29 : 20대 …) 별 등급의 숫자를 데이터 프레임으로 표현하라."
   ]
  },
  {
   "cell_type": "code",
   "execution_count": null,
   "id": "c5b2912f",
   "metadata": {},
   "outputs": [],
   "source": []
  },
  {
   "cell_type": "markdown",
   "id": "984649c7",
   "metadata": {},
   "source": [
    "## Question 75\n",
    "\n",
    "남성 중 A등급과 D등급의 체지방률 평균의 차이(큰 값에서 작은 값의 차)를 구하여라."
   ]
  },
  {
   "cell_type": "code",
   "execution_count": null,
   "id": "5f529356",
   "metadata": {},
   "outputs": [],
   "source": []
  },
  {
   "cell_type": "markdown",
   "id": "213c85a6",
   "metadata": {},
   "source": [
    "## Question 76\n",
    "\n",
    "여성 중 A등급과 D등급의 체중의 평균의 차이(큰 값에서 작은 값의 차)를 구하여라."
   ]
  },
  {
   "cell_type": "code",
   "execution_count": null,
   "id": "48c16830",
   "metadata": {},
   "outputs": [],
   "source": []
  },
  {
   "cell_type": "markdown",
   "id": "62722310",
   "metadata": {},
   "source": [
    "## Question 77\n",
    "\n",
    "bmi는 자신의 몸무게(kg)를 키의 제곱(m)으로 나눈값이다.<br>\n",
    "데이터의 bmi 를 구한 새로운 컬럼을 만들고 남성의 bmi 평균을 구하여라."
   ]
  },
  {
   "cell_type": "code",
   "execution_count": null,
   "id": "089bce5d",
   "metadata": {},
   "outputs": [],
   "source": []
  },
  {
   "cell_type": "markdown",
   "id": "eecfd9ce",
   "metadata": {},
   "source": [
    "##  Question 78\n",
    "\n",
    "bmi보다 체지방율이 높은 사람들의 체중평균을 구하여라."
   ]
  },
  {
   "cell_type": "code",
   "execution_count": null,
   "id": "1e6504a8",
   "metadata": {},
   "outputs": [],
   "source": []
  },
  {
   "cell_type": "markdown",
   "id": "48ead483",
   "metadata": {},
   "source": [
    "## Question 79\n",
    "\n",
    "남성과 여성의 악력 평균의 차이를 구하여라."
   ]
  },
  {
   "cell_type": "code",
   "execution_count": null,
   "id": "5c326a79",
   "metadata": {},
   "outputs": [],
   "source": []
  },
  {
   "cell_type": "markdown",
   "id": "2949fadf",
   "metadata": {},
   "source": [
    "## Question 80\n",
    "\n",
    "남성과 여성의 교차윗몸일으키기 횟수의 평균의 차이를 구하여라."
   ]
  },
  {
   "cell_type": "markdown",
   "id": "17bab46d",
   "metadata": {},
   "source": [
    "# 기온 강수량 데이터\n",
    "데이터 출처 : https://data.kma.go.kr/cmmn/static/staticPage.do?page=intro<br>\n",
    "데이터 설명 : 2020년도 이화동(서울) , 수영동(부산)의 시간단위의 기온과 강수량<br>\n",
    "데이터 url : https://raw.githubusercontent.com/Datamanim/datarepo/main/weather/weather2.csv"
   ]
  },
  {
   "cell_type": "code",
   "execution_count": 38,
   "id": "663f993b",
   "metadata": {},
   "outputs": [
    {
     "data": {
      "application/vnd.microsoft.datawrangler.viewer.v0+json": {
       "columns": [
        {
         "name": "index",
         "rawType": "int64",
         "type": "integer"
        },
        {
         "name": "time",
         "rawType": "object",
         "type": "string"
        },
        {
         "name": "이화동강수",
         "rawType": "float64",
         "type": "float"
        },
        {
         "name": "이화동기온",
         "rawType": "float64",
         "type": "float"
        },
        {
         "name": "수영동강수",
         "rawType": "float64",
         "type": "float"
        },
        {
         "name": "수영동기온",
         "rawType": "float64",
         "type": "float"
        }
       ],
       "ref": "01149c7f-dd54-43db-85f0-e8e0b824745b",
       "rows": [
        [
         "0",
         "2020-01-01 00:00:00",
         "0.1",
         "-3.9",
         "0.0",
         "2.5"
        ],
        [
         "1",
         "2020-01-01 01:00:00",
         "0.0",
         "-3.1",
         "0.0",
         "3.4"
        ],
        [
         "2",
         "2020-01-01 02:00:00",
         "0.0",
         "-1.8",
         "0.0",
         "3.8"
        ],
        [
         "3",
         "2020-01-01 03:00:00",
         "0.0",
         "-0.8",
         "0.0",
         "4.6"
        ],
        [
         "4",
         "2020-01-01 04:00:00",
         "0.0",
         "-0.1",
         "0.0",
         "5.1"
        ]
       ],
       "shape": {
        "columns": 5,
        "rows": 5
       }
      },
      "text/html": [
       "<div>\n",
       "<style scoped>\n",
       "    .dataframe tbody tr th:only-of-type {\n",
       "        vertical-align: middle;\n",
       "    }\n",
       "\n",
       "    .dataframe tbody tr th {\n",
       "        vertical-align: top;\n",
       "    }\n",
       "\n",
       "    .dataframe thead th {\n",
       "        text-align: right;\n",
       "    }\n",
       "</style>\n",
       "<table border=\"1\" class=\"dataframe\">\n",
       "  <thead>\n",
       "    <tr style=\"text-align: right;\">\n",
       "      <th></th>\n",
       "      <th>time</th>\n",
       "      <th>이화동강수</th>\n",
       "      <th>이화동기온</th>\n",
       "      <th>수영동강수</th>\n",
       "      <th>수영동기온</th>\n",
       "    </tr>\n",
       "  </thead>\n",
       "  <tbody>\n",
       "    <tr>\n",
       "      <th>0</th>\n",
       "      <td>2020-01-01 00:00:00</td>\n",
       "      <td>0.1</td>\n",
       "      <td>-3.9</td>\n",
       "      <td>0.0</td>\n",
       "      <td>2.5</td>\n",
       "    </tr>\n",
       "    <tr>\n",
       "      <th>1</th>\n",
       "      <td>2020-01-01 01:00:00</td>\n",
       "      <td>0.0</td>\n",
       "      <td>-3.1</td>\n",
       "      <td>0.0</td>\n",
       "      <td>3.4</td>\n",
       "    </tr>\n",
       "    <tr>\n",
       "      <th>2</th>\n",
       "      <td>2020-01-01 02:00:00</td>\n",
       "      <td>0.0</td>\n",
       "      <td>-1.8</td>\n",
       "      <td>0.0</td>\n",
       "      <td>3.8</td>\n",
       "    </tr>\n",
       "    <tr>\n",
       "      <th>3</th>\n",
       "      <td>2020-01-01 03:00:00</td>\n",
       "      <td>0.0</td>\n",
       "      <td>-0.8</td>\n",
       "      <td>0.0</td>\n",
       "      <td>4.6</td>\n",
       "    </tr>\n",
       "    <tr>\n",
       "      <th>4</th>\n",
       "      <td>2020-01-01 04:00:00</td>\n",
       "      <td>0.0</td>\n",
       "      <td>-0.1</td>\n",
       "      <td>0.0</td>\n",
       "      <td>5.1</td>\n",
       "    </tr>\n",
       "  </tbody>\n",
       "</table>\n",
       "</div>"
      ],
      "text/plain": [
       "                  time  이화동강수  이화동기온  수영동강수  수영동기온\n",
       "0  2020-01-01 00:00:00    0.1   -3.9    0.0    2.5\n",
       "1  2020-01-01 01:00:00    0.0   -3.1    0.0    3.4\n",
       "2  2020-01-01 02:00:00    0.0   -1.8    0.0    3.8\n",
       "3  2020-01-01 03:00:00    0.0   -0.8    0.0    4.6\n",
       "4  2020-01-01 04:00:00    0.0   -0.1    0.0    5.1"
      ]
     },
     "execution_count": 38,
     "metadata": {},
     "output_type": "execute_result"
    }
   ],
   "source": [
    "import pandas as pd\n",
    "df = pd.read_csv(\"https://raw.githubusercontent.com/Datamanim/datarepo/main/weather/weather2.csv\")\n",
    "df.head()"
   ]
  },
  {
   "cell_type": "markdown",
   "id": "23dab41f",
   "metadata": {},
   "source": [
    "## Question 81\n",
    "\n",
    "여름철(6월,7월,8월) 이화동이 수영동보다 높은 기온을 가진 시간대는 몇개인가?"
   ]
  },
  {
   "cell_type": "code",
   "execution_count": null,
   "id": "b997e37c",
   "metadata": {},
   "outputs": [],
   "source": []
  },
  {
   "cell_type": "markdown",
   "id": "b879a6e4",
   "metadata": {},
   "source": [
    "## Question 82\n",
    "\n",
    "이화동과 수영동의 최대강수량의 시간대를 각각 구하여라."
   ]
  },
  {
   "cell_type": "markdown",
   "id": "b75fa4ba",
   "metadata": {},
   "source": [
    "# 서비스 이탈예측 데이터\n",
    "데이터 출처 : https://www.kaggle.com/shubh0799/churn-modelling 에서 변형<br>\n",
    "데이터 설명 : 고객의 신상정보 데이터를 통한 회사 서비스 이탈 예측 (종속변수 : Exited)<br>\n",
    "Data url : https://raw.githubusercontent.com/Datamanim/datarepo/main/churn/train.csv"
   ]
  },
  {
   "cell_type": "code",
   "execution_count": 39,
   "id": "0a5005c6",
   "metadata": {},
   "outputs": [
    {
     "data": {
      "application/vnd.microsoft.datawrangler.viewer.v0+json": {
       "columns": [
        {
         "name": "index",
         "rawType": "int64",
         "type": "integer"
        },
        {
         "name": "RowNumber",
         "rawType": "int64",
         "type": "integer"
        },
        {
         "name": "CustomerId",
         "rawType": "int64",
         "type": "integer"
        },
        {
         "name": "Surname",
         "rawType": "object",
         "type": "string"
        },
        {
         "name": "CreditScore",
         "rawType": "int64",
         "type": "integer"
        },
        {
         "name": "Geography",
         "rawType": "object",
         "type": "string"
        },
        {
         "name": "Gender",
         "rawType": "object",
         "type": "string"
        },
        {
         "name": "Age",
         "rawType": "int64",
         "type": "integer"
        },
        {
         "name": "Tenure",
         "rawType": "int64",
         "type": "integer"
        },
        {
         "name": "Balance",
         "rawType": "float64",
         "type": "float"
        },
        {
         "name": "NumOfProducts",
         "rawType": "int64",
         "type": "integer"
        },
        {
         "name": "HasCrCard",
         "rawType": "int64",
         "type": "integer"
        },
        {
         "name": "IsActiveMember",
         "rawType": "int64",
         "type": "integer"
        },
        {
         "name": "EstimatedSalary",
         "rawType": "float64",
         "type": "float"
        },
        {
         "name": "Exited",
         "rawType": "int64",
         "type": "integer"
        }
       ],
       "ref": "a2dae8ec-ff36-4900-bc7a-fb325e92ab2a",
       "rows": [
        [
         "0",
         "6842",
         "15793491",
         "Cherkasova",
         "714",
         "Germany",
         "Male",
         "26",
         "3",
         "119545.48",
         "2",
         "1",
         "0",
         "65482.94",
         "0"
        ],
        [
         "1",
         "8963",
         "15607874",
         "Keane",
         "687",
         "France",
         "Male",
         "38",
         "0",
         "144450.58",
         "1",
         "0",
         "1",
         "137276.83",
         "0"
        ],
        [
         "2",
         "7047",
         "15737627",
         "Rivero",
         "589",
         "Germany",
         "Female",
         "20",
         "2",
         "121093.29",
         "2",
         "1",
         "0",
         "3529.72",
         "0"
        ],
        [
         "3",
         "7503",
         "15697844",
         "Whitehouse",
         "721",
         "Spain",
         "Female",
         "32",
         "10",
         "0.0",
         "1",
         "1",
         "0",
         "136119.96",
         "1"
        ],
        [
         "4",
         "3439",
         "15722404",
         "Carpenter",
         "445",
         "France",
         "Female",
         "30",
         "3",
         "0.0",
         "2",
         "1",
         "1",
         "127939.19",
         "0"
        ]
       ],
       "shape": {
        "columns": 14,
        "rows": 5
       }
      },
      "text/html": [
       "<div>\n",
       "<style scoped>\n",
       "    .dataframe tbody tr th:only-of-type {\n",
       "        vertical-align: middle;\n",
       "    }\n",
       "\n",
       "    .dataframe tbody tr th {\n",
       "        vertical-align: top;\n",
       "    }\n",
       "\n",
       "    .dataframe thead th {\n",
       "        text-align: right;\n",
       "    }\n",
       "</style>\n",
       "<table border=\"1\" class=\"dataframe\">\n",
       "  <thead>\n",
       "    <tr style=\"text-align: right;\">\n",
       "      <th></th>\n",
       "      <th>RowNumber</th>\n",
       "      <th>CustomerId</th>\n",
       "      <th>Surname</th>\n",
       "      <th>CreditScore</th>\n",
       "      <th>Geography</th>\n",
       "      <th>Gender</th>\n",
       "      <th>Age</th>\n",
       "      <th>Tenure</th>\n",
       "      <th>Balance</th>\n",
       "      <th>NumOfProducts</th>\n",
       "      <th>HasCrCard</th>\n",
       "      <th>IsActiveMember</th>\n",
       "      <th>EstimatedSalary</th>\n",
       "      <th>Exited</th>\n",
       "    </tr>\n",
       "  </thead>\n",
       "  <tbody>\n",
       "    <tr>\n",
       "      <th>0</th>\n",
       "      <td>6842</td>\n",
       "      <td>15793491</td>\n",
       "      <td>Cherkasova</td>\n",
       "      <td>714</td>\n",
       "      <td>Germany</td>\n",
       "      <td>Male</td>\n",
       "      <td>26</td>\n",
       "      <td>3</td>\n",
       "      <td>119545.48</td>\n",
       "      <td>2</td>\n",
       "      <td>1</td>\n",
       "      <td>0</td>\n",
       "      <td>65482.94</td>\n",
       "      <td>0</td>\n",
       "    </tr>\n",
       "    <tr>\n",
       "      <th>1</th>\n",
       "      <td>8963</td>\n",
       "      <td>15607874</td>\n",
       "      <td>Keane</td>\n",
       "      <td>687</td>\n",
       "      <td>France</td>\n",
       "      <td>Male</td>\n",
       "      <td>38</td>\n",
       "      <td>0</td>\n",
       "      <td>144450.58</td>\n",
       "      <td>1</td>\n",
       "      <td>0</td>\n",
       "      <td>1</td>\n",
       "      <td>137276.83</td>\n",
       "      <td>0</td>\n",
       "    </tr>\n",
       "    <tr>\n",
       "      <th>2</th>\n",
       "      <td>7047</td>\n",
       "      <td>15737627</td>\n",
       "      <td>Rivero</td>\n",
       "      <td>589</td>\n",
       "      <td>Germany</td>\n",
       "      <td>Female</td>\n",
       "      <td>20</td>\n",
       "      <td>2</td>\n",
       "      <td>121093.29</td>\n",
       "      <td>2</td>\n",
       "      <td>1</td>\n",
       "      <td>0</td>\n",
       "      <td>3529.72</td>\n",
       "      <td>0</td>\n",
       "    </tr>\n",
       "    <tr>\n",
       "      <th>3</th>\n",
       "      <td>7503</td>\n",
       "      <td>15697844</td>\n",
       "      <td>Whitehouse</td>\n",
       "      <td>721</td>\n",
       "      <td>Spain</td>\n",
       "      <td>Female</td>\n",
       "      <td>32</td>\n",
       "      <td>10</td>\n",
       "      <td>0.00</td>\n",
       "      <td>1</td>\n",
       "      <td>1</td>\n",
       "      <td>0</td>\n",
       "      <td>136119.96</td>\n",
       "      <td>1</td>\n",
       "    </tr>\n",
       "    <tr>\n",
       "      <th>4</th>\n",
       "      <td>3439</td>\n",
       "      <td>15722404</td>\n",
       "      <td>Carpenter</td>\n",
       "      <td>445</td>\n",
       "      <td>France</td>\n",
       "      <td>Female</td>\n",
       "      <td>30</td>\n",
       "      <td>3</td>\n",
       "      <td>0.00</td>\n",
       "      <td>2</td>\n",
       "      <td>1</td>\n",
       "      <td>1</td>\n",
       "      <td>127939.19</td>\n",
       "      <td>0</td>\n",
       "    </tr>\n",
       "  </tbody>\n",
       "</table>\n",
       "</div>"
      ],
      "text/plain": [
       "   RowNumber  CustomerId     Surname  CreditScore Geography  Gender  Age  \\\n",
       "0       6842    15793491  Cherkasova          714   Germany    Male   26   \n",
       "1       8963    15607874       Keane          687    France    Male   38   \n",
       "2       7047    15737627      Rivero          589   Germany  Female   20   \n",
       "3       7503    15697844  Whitehouse          721     Spain  Female   32   \n",
       "4       3439    15722404   Carpenter          445    France  Female   30   \n",
       "\n",
       "   Tenure    Balance  NumOfProducts  HasCrCard  IsActiveMember  \\\n",
       "0       3  119545.48              2          1               0   \n",
       "1       0  144450.58              1          0               1   \n",
       "2       2  121093.29              2          1               0   \n",
       "3      10       0.00              1          1               0   \n",
       "4       3       0.00              2          1               1   \n",
       "\n",
       "   EstimatedSalary  Exited  \n",
       "0         65482.94       0  \n",
       "1        137276.83       0  \n",
       "2          3529.72       0  \n",
       "3        136119.96       1  \n",
       "4        127939.19       0  "
      ]
     },
     "execution_count": 39,
     "metadata": {},
     "output_type": "execute_result"
    }
   ],
   "source": [
    "import pandas as pd\n",
    "#데이터 로드\n",
    "df = pd.read_csv(\"https://raw.githubusercontent.com/Datamanim/datarepo/main/churn/train.csv\")\n",
    "df.head()"
   ]
  },
  {
   "cell_type": "markdown",
   "id": "4d222ca3",
   "metadata": {},
   "source": [
    "## Question 83\n",
    "\n",
    "남성 이탈(Exited)이 가장 많은 국가(Geography)는 어디이고 이탈 인원은 몇명인가?"
   ]
  },
  {
   "cell_type": "code",
   "execution_count": null,
   "id": "a4dfe662",
   "metadata": {},
   "outputs": [],
   "source": []
  },
  {
   "cell_type": "markdown",
   "id": "30d29870",
   "metadata": {},
   "source": [
    "## Question 84\n",
    "\n",
    "카드를 소유(HasCrCard ==1)하고 있으면서 활성멤버(IsActiveMember ==1) 인 고객들의 평균 나이를 소숫점이하 4자리까지 구하여라?"
   ]
  },
  {
   "cell_type": "code",
   "execution_count": null,
   "id": "e25728af",
   "metadata": {},
   "outputs": [],
   "source": []
  },
  {
   "cell_type": "markdown",
   "id": "eeaa2372",
   "metadata": {},
   "source": [
    "## Question 85\n",
    "\n",
    "Balance 값이 중간값 이상을 가지는 고객들의 CreditScore의 표준편차를 소숫점이하 3자리까지 구하여라."
   ]
  },
  {
   "cell_type": "code",
   "execution_count": null,
   "id": "4933b982",
   "metadata": {},
   "outputs": [],
   "source": []
  },
  {
   "cell_type": "markdown",
   "id": "581f5f1f",
   "metadata": {},
   "source": [
    "# 성인 건강검진 데이터\n",
    "데이터 출처 :https://www.data.go.kr/data/15007122/fileData.do (참고, 데이터 수정)<br>\n",
    "데이터 설명 : 2018년도 성인의 건강검 진데이터 (흡연상태 1- 흡연, 0-비흡연 )<br>\n",
    "데이터 url : https://raw.githubusercontent.com/Datamanim/datarepo/main/smoke/train.csv"
   ]
  },
  {
   "cell_type": "code",
   "execution_count": 40,
   "id": "c7be2df4",
   "metadata": {},
   "outputs": [
    {
     "data": {
      "application/vnd.microsoft.datawrangler.viewer.v0+json": {
       "columns": [
        {
         "name": "index",
         "rawType": "int64",
         "type": "integer"
        },
        {
         "name": "성별코드",
         "rawType": "object",
         "type": "string"
        },
        {
         "name": "연령대코드(5세단위)",
         "rawType": "int64",
         "type": "integer"
        },
        {
         "name": "신장(5Cm단위)",
         "rawType": "int64",
         "type": "integer"
        },
        {
         "name": "체중(5Kg단위)",
         "rawType": "int64",
         "type": "integer"
        },
        {
         "name": "허리둘레",
         "rawType": "float64",
         "type": "float"
        },
        {
         "name": "시력(좌)",
         "rawType": "float64",
         "type": "float"
        },
        {
         "name": "시력(우)",
         "rawType": "float64",
         "type": "float"
        },
        {
         "name": "청력(좌)",
         "rawType": "float64",
         "type": "float"
        },
        {
         "name": "청력(우)",
         "rawType": "float64",
         "type": "float"
        },
        {
         "name": "수축기혈압",
         "rawType": "float64",
         "type": "float"
        },
        {
         "name": "이완기혈압",
         "rawType": "float64",
         "type": "float"
        },
        {
         "name": "식전혈당(공복혈당)",
         "rawType": "float64",
         "type": "float"
        },
        {
         "name": "총콜레스테롤",
         "rawType": "float64",
         "type": "float"
        },
        {
         "name": "트리글리세라이드",
         "rawType": "float64",
         "type": "float"
        },
        {
         "name": "HDL콜레스테롤",
         "rawType": "float64",
         "type": "float"
        },
        {
         "name": "LDL콜레스테롤",
         "rawType": "float64",
         "type": "float"
        },
        {
         "name": "혈색소",
         "rawType": "float64",
         "type": "float"
        },
        {
         "name": "요단백",
         "rawType": "float64",
         "type": "float"
        },
        {
         "name": "혈청크레아티닌",
         "rawType": "float64",
         "type": "float"
        },
        {
         "name": "(혈청지오티)AST",
         "rawType": "float64",
         "type": "float"
        },
        {
         "name": "(혈청지오티)ALT",
         "rawType": "float64",
         "type": "float"
        },
        {
         "name": "감마지티피",
         "rawType": "float64",
         "type": "float"
        },
        {
         "name": "흡연상태",
         "rawType": "int64",
         "type": "integer"
        },
        {
         "name": "구강검진수검여부",
         "rawType": "object",
         "type": "string"
        },
        {
         "name": "치아우식증유무",
         "rawType": "float64",
         "type": "float"
        },
        {
         "name": "치석",
         "rawType": "object",
         "type": "string"
        }
       ],
       "ref": "dc2e45fc-6bcd-4f7e-acc5-708d787367a8",
       "rows": [
        [
         "0",
         "F",
         "55",
         "145",
         "55",
         "73.0",
         "0.7",
         "0.5",
         "1.0",
         "1.0",
         "129.0",
         "84.0",
         "93.0",
         "185.0",
         "50.0",
         "98.0",
         "77.0",
         "12.9",
         "1.0",
         "0.9",
         "172.0",
         "209.0",
         "15.0",
         "0",
         "Y",
         "0.0",
         "Y"
        ],
        [
         "1",
         "M",
         "40",
         "180",
         "55",
         "74.0",
         "1.5",
         "1.5",
         "1.0",
         "1.0",
         "102.0",
         "70.0",
         "95.0",
         "176.0",
         "60.0",
         "53.0",
         "111.0",
         "15.6",
         "1.0",
         "0.8",
         "30.0",
         "19.0",
         "23.0",
         "1",
         "Y",
         "0.0",
         "Y"
        ],
        [
         "2",
         "F",
         "55",
         "150",
         "50",
         "72.0",
         "1.0",
         "0.2",
         "1.0",
         "1.0",
         "116.0",
         "72.0",
         "86.0",
         "168.0",
         "49.0",
         "53.0",
         "105.0",
         "14.1",
         "1.0",
         "1.0",
         "31.0",
         "19.0",
         "10.0",
         "0",
         "Y",
         "0.0",
         "N"
        ],
        [
         "3",
         "M",
         "40",
         "170",
         "85",
         "89.0",
         "1.0",
         "0.8",
         "1.0",
         "1.0",
         "124.0",
         "80.0",
         "96.0",
         "231.0",
         "240.0",
         "54.0",
         "129.0",
         "16.7",
         "1.0",
         "1.0",
         "26.0",
         "38.0",
         "108.0",
         "1",
         "Y",
         "1.0",
         "Y"
        ],
        [
         "4",
         "F",
         "40",
         "155",
         "45",
         "62.0",
         "0.5",
         "1.0",
         "1.0",
         "1.0",
         "127.0",
         "85.0",
         "93.0",
         "261.0",
         "94.0",
         "71.0",
         "171.0",
         "12.9",
         "1.0",
         "0.7",
         "20.0",
         "11.0",
         "13.0",
         "0",
         "Y",
         "0.0",
         "N"
        ]
       ],
       "shape": {
        "columns": 26,
        "rows": 5
       }
      },
      "text/html": [
       "<div>\n",
       "<style scoped>\n",
       "    .dataframe tbody tr th:only-of-type {\n",
       "        vertical-align: middle;\n",
       "    }\n",
       "\n",
       "    .dataframe tbody tr th {\n",
       "        vertical-align: top;\n",
       "    }\n",
       "\n",
       "    .dataframe thead th {\n",
       "        text-align: right;\n",
       "    }\n",
       "</style>\n",
       "<table border=\"1\" class=\"dataframe\">\n",
       "  <thead>\n",
       "    <tr style=\"text-align: right;\">\n",
       "      <th></th>\n",
       "      <th>성별코드</th>\n",
       "      <th>연령대코드(5세단위)</th>\n",
       "      <th>신장(5Cm단위)</th>\n",
       "      <th>체중(5Kg단위)</th>\n",
       "      <th>허리둘레</th>\n",
       "      <th>시력(좌)</th>\n",
       "      <th>시력(우)</th>\n",
       "      <th>청력(좌)</th>\n",
       "      <th>청력(우)</th>\n",
       "      <th>수축기혈압</th>\n",
       "      <th>...</th>\n",
       "      <th>혈색소</th>\n",
       "      <th>요단백</th>\n",
       "      <th>혈청크레아티닌</th>\n",
       "      <th>(혈청지오티)AST</th>\n",
       "      <th>(혈청지오티)ALT</th>\n",
       "      <th>감마지티피</th>\n",
       "      <th>흡연상태</th>\n",
       "      <th>구강검진수검여부</th>\n",
       "      <th>치아우식증유무</th>\n",
       "      <th>치석</th>\n",
       "    </tr>\n",
       "  </thead>\n",
       "  <tbody>\n",
       "    <tr>\n",
       "      <th>0</th>\n",
       "      <td>F</td>\n",
       "      <td>55</td>\n",
       "      <td>145</td>\n",
       "      <td>55</td>\n",
       "      <td>73.0</td>\n",
       "      <td>0.7</td>\n",
       "      <td>0.5</td>\n",
       "      <td>1.0</td>\n",
       "      <td>1.0</td>\n",
       "      <td>129.0</td>\n",
       "      <td>...</td>\n",
       "      <td>12.9</td>\n",
       "      <td>1.0</td>\n",
       "      <td>0.9</td>\n",
       "      <td>172.0</td>\n",
       "      <td>209.0</td>\n",
       "      <td>15.0</td>\n",
       "      <td>0</td>\n",
       "      <td>Y</td>\n",
       "      <td>0.0</td>\n",
       "      <td>Y</td>\n",
       "    </tr>\n",
       "    <tr>\n",
       "      <th>1</th>\n",
       "      <td>M</td>\n",
       "      <td>40</td>\n",
       "      <td>180</td>\n",
       "      <td>55</td>\n",
       "      <td>74.0</td>\n",
       "      <td>1.5</td>\n",
       "      <td>1.5</td>\n",
       "      <td>1.0</td>\n",
       "      <td>1.0</td>\n",
       "      <td>102.0</td>\n",
       "      <td>...</td>\n",
       "      <td>15.6</td>\n",
       "      <td>1.0</td>\n",
       "      <td>0.8</td>\n",
       "      <td>30.0</td>\n",
       "      <td>19.0</td>\n",
       "      <td>23.0</td>\n",
       "      <td>1</td>\n",
       "      <td>Y</td>\n",
       "      <td>0.0</td>\n",
       "      <td>Y</td>\n",
       "    </tr>\n",
       "    <tr>\n",
       "      <th>2</th>\n",
       "      <td>F</td>\n",
       "      <td>55</td>\n",
       "      <td>150</td>\n",
       "      <td>50</td>\n",
       "      <td>72.0</td>\n",
       "      <td>1.0</td>\n",
       "      <td>0.2</td>\n",
       "      <td>1.0</td>\n",
       "      <td>1.0</td>\n",
       "      <td>116.0</td>\n",
       "      <td>...</td>\n",
       "      <td>14.1</td>\n",
       "      <td>1.0</td>\n",
       "      <td>1.0</td>\n",
       "      <td>31.0</td>\n",
       "      <td>19.0</td>\n",
       "      <td>10.0</td>\n",
       "      <td>0</td>\n",
       "      <td>Y</td>\n",
       "      <td>0.0</td>\n",
       "      <td>N</td>\n",
       "    </tr>\n",
       "    <tr>\n",
       "      <th>3</th>\n",
       "      <td>M</td>\n",
       "      <td>40</td>\n",
       "      <td>170</td>\n",
       "      <td>85</td>\n",
       "      <td>89.0</td>\n",
       "      <td>1.0</td>\n",
       "      <td>0.8</td>\n",
       "      <td>1.0</td>\n",
       "      <td>1.0</td>\n",
       "      <td>124.0</td>\n",
       "      <td>...</td>\n",
       "      <td>16.7</td>\n",
       "      <td>1.0</td>\n",
       "      <td>1.0</td>\n",
       "      <td>26.0</td>\n",
       "      <td>38.0</td>\n",
       "      <td>108.0</td>\n",
       "      <td>1</td>\n",
       "      <td>Y</td>\n",
       "      <td>1.0</td>\n",
       "      <td>Y</td>\n",
       "    </tr>\n",
       "    <tr>\n",
       "      <th>4</th>\n",
       "      <td>F</td>\n",
       "      <td>40</td>\n",
       "      <td>155</td>\n",
       "      <td>45</td>\n",
       "      <td>62.0</td>\n",
       "      <td>0.5</td>\n",
       "      <td>1.0</td>\n",
       "      <td>1.0</td>\n",
       "      <td>1.0</td>\n",
       "      <td>127.0</td>\n",
       "      <td>...</td>\n",
       "      <td>12.9</td>\n",
       "      <td>1.0</td>\n",
       "      <td>0.7</td>\n",
       "      <td>20.0</td>\n",
       "      <td>11.0</td>\n",
       "      <td>13.0</td>\n",
       "      <td>0</td>\n",
       "      <td>Y</td>\n",
       "      <td>0.0</td>\n",
       "      <td>N</td>\n",
       "    </tr>\n",
       "  </tbody>\n",
       "</table>\n",
       "<p>5 rows × 26 columns</p>\n",
       "</div>"
      ],
      "text/plain": [
       "  성별코드  연령대코드(5세단위)  신장(5Cm단위)  체중(5Kg단위)  허리둘레  시력(좌)  시력(우)  청력(좌)  청력(우)  \\\n",
       "0    F           55        145         55  73.0    0.7    0.5    1.0    1.0   \n",
       "1    M           40        180         55  74.0    1.5    1.5    1.0    1.0   \n",
       "2    F           55        150         50  72.0    1.0    0.2    1.0    1.0   \n",
       "3    M           40        170         85  89.0    1.0    0.8    1.0    1.0   \n",
       "4    F           40        155         45  62.0    0.5    1.0    1.0    1.0   \n",
       "\n",
       "   수축기혈압  ...   혈색소  요단백  혈청크레아티닌  (혈청지오티)AST  (혈청지오티)ALT  감마지티피  흡연상태  \\\n",
       "0  129.0  ...  12.9  1.0      0.9       172.0       209.0   15.0     0   \n",
       "1  102.0  ...  15.6  1.0      0.8        30.0        19.0   23.0     1   \n",
       "2  116.0  ...  14.1  1.0      1.0        31.0        19.0   10.0     0   \n",
       "3  124.0  ...  16.7  1.0      1.0        26.0        38.0  108.0     1   \n",
       "4  127.0  ...  12.9  1.0      0.7        20.0        11.0   13.0     0   \n",
       "\n",
       "   구강검진수검여부  치아우식증유무  치석  \n",
       "0         Y      0.0   Y  \n",
       "1         Y      0.0   Y  \n",
       "2         Y      0.0   N  \n",
       "3         Y      1.0   Y  \n",
       "4         Y      0.0   N  \n",
       "\n",
       "[5 rows x 26 columns]"
      ]
     },
     "execution_count": 40,
     "metadata": {},
     "output_type": "execute_result"
    }
   ],
   "source": [
    "import pandas as pd\n",
    "df = pd.read_csv(\"https://raw.githubusercontent.com/Datamanim/datarepo/main/smoke/train.csv\")\n",
    "df.head()"
   ]
  },
  {
   "cell_type": "markdown",
   "id": "2da026ee",
   "metadata": {},
   "source": [
    "## Question 86\n",
    "\n",
    "수축기혈압과 이완기 혈압기 수치의 차이를 새로운 컬럼(‘혈압차’) 으로 생성하고, 연령대 코드별 각 그룹 중 ‘혈압차’ 의 분산이 5번째로 큰 연령대 코드를 구하여라."
   ]
  },
  {
   "cell_type": "code",
   "execution_count": null,
   "id": "5930dd0e",
   "metadata": {},
   "outputs": [],
   "source": []
  },
  {
   "cell_type": "markdown",
   "id": "6c91bf95",
   "metadata": {},
   "source": [
    "## Question 87\n",
    "\n",
    "비만도를 나타내는 지표인 WHtR는 허리둘레 / 키로 표현한다.<br> 일반적으로 0.58이상이면 비만으로 분류한다. 데이터중 WHtR 지표상 비만인 인원의 남/여 비율을 구하여라."
   ]
  },
  {
   "cell_type": "markdown",
   "id": "1c25fb8d",
   "metadata": {},
   "source": [
    "# 자동차 보험가입 예측데이터\n",
    "데이터 출처 :https://www.kaggle.com/anmolkumar/health-insurance-cross-sell-prediction(참고, 데이터 수정)<br>\n",
    "데이터 설명 : 자동차 보험 가입 예측<br>\n",
    "Data url : https://raw.githubusercontent.com/Datamanim/datarepo/main/insurance/train.csv"
   ]
  },
  {
   "cell_type": "code",
   "execution_count": 41,
   "id": "c7867226",
   "metadata": {},
   "outputs": [
    {
     "data": {
      "application/vnd.microsoft.datawrangler.viewer.v0+json": {
       "columns": [
        {
         "name": "index",
         "rawType": "int64",
         "type": "integer"
        },
        {
         "name": "id",
         "rawType": "int64",
         "type": "integer"
        },
        {
         "name": "Gender",
         "rawType": "object",
         "type": "string"
        },
        {
         "name": "Age",
         "rawType": "int64",
         "type": "integer"
        },
        {
         "name": "Driving_License",
         "rawType": "int64",
         "type": "integer"
        },
        {
         "name": "Region_Code",
         "rawType": "float64",
         "type": "float"
        },
        {
         "name": "Previously_Insured",
         "rawType": "int64",
         "type": "integer"
        },
        {
         "name": "Vehicle_Age",
         "rawType": "object",
         "type": "string"
        },
        {
         "name": "Vehicle_Damage",
         "rawType": "object",
         "type": "string"
        },
        {
         "name": "Annual_Premium",
         "rawType": "float64",
         "type": "float"
        },
        {
         "name": "Policy_Sales_Channel",
         "rawType": "float64",
         "type": "float"
        },
        {
         "name": "Vintage",
         "rawType": "int64",
         "type": "integer"
        },
        {
         "name": "Response",
         "rawType": "int64",
         "type": "integer"
        }
       ],
       "ref": "369f0582-29ea-433c-b48b-d700ea1201ca",
       "rows": [
        [
         "0",
         "188957",
         "Female",
         "25",
         "1",
         "17.0",
         "1",
         "< 1 Year",
         "No",
         "38785.0",
         "152.0",
         "59",
         "0"
        ],
        [
         "1",
         "275631",
         "Male",
         "20",
         "1",
         "22.0",
         "0",
         "< 1 Year",
         "No",
         "2630.0",
         "160.0",
         "113",
         "0"
        ],
        [
         "2",
         "329036",
         "Female",
         "40",
         "1",
         "41.0",
         "0",
         "1-2 Year",
         "Yes",
         "33165.0",
         "124.0",
         "188",
         "0"
        ],
        [
         "3",
         "227288",
         "Female",
         "28",
         "1",
         "30.0",
         "1",
         "< 1 Year",
         "No",
         "29038.0",
         "152.0",
         "233",
         "0"
        ],
        [
         "4",
         "300441",
         "Female",
         "50",
         "1",
         "28.0",
         "0",
         "1-2 Year",
         "Yes",
         "31325.0",
         "124.0",
         "258",
         "0"
        ]
       ],
       "shape": {
        "columns": 12,
        "rows": 5
       }
      },
      "text/html": [
       "<div>\n",
       "<style scoped>\n",
       "    .dataframe tbody tr th:only-of-type {\n",
       "        vertical-align: middle;\n",
       "    }\n",
       "\n",
       "    .dataframe tbody tr th {\n",
       "        vertical-align: top;\n",
       "    }\n",
       "\n",
       "    .dataframe thead th {\n",
       "        text-align: right;\n",
       "    }\n",
       "</style>\n",
       "<table border=\"1\" class=\"dataframe\">\n",
       "  <thead>\n",
       "    <tr style=\"text-align: right;\">\n",
       "      <th></th>\n",
       "      <th>id</th>\n",
       "      <th>Gender</th>\n",
       "      <th>Age</th>\n",
       "      <th>Driving_License</th>\n",
       "      <th>Region_Code</th>\n",
       "      <th>Previously_Insured</th>\n",
       "      <th>Vehicle_Age</th>\n",
       "      <th>Vehicle_Damage</th>\n",
       "      <th>Annual_Premium</th>\n",
       "      <th>Policy_Sales_Channel</th>\n",
       "      <th>Vintage</th>\n",
       "      <th>Response</th>\n",
       "    </tr>\n",
       "  </thead>\n",
       "  <tbody>\n",
       "    <tr>\n",
       "      <th>0</th>\n",
       "      <td>188957</td>\n",
       "      <td>Female</td>\n",
       "      <td>25</td>\n",
       "      <td>1</td>\n",
       "      <td>17.0</td>\n",
       "      <td>1</td>\n",
       "      <td>&lt; 1 Year</td>\n",
       "      <td>No</td>\n",
       "      <td>38785.0</td>\n",
       "      <td>152.0</td>\n",
       "      <td>59</td>\n",
       "      <td>0</td>\n",
       "    </tr>\n",
       "    <tr>\n",
       "      <th>1</th>\n",
       "      <td>275631</td>\n",
       "      <td>Male</td>\n",
       "      <td>20</td>\n",
       "      <td>1</td>\n",
       "      <td>22.0</td>\n",
       "      <td>0</td>\n",
       "      <td>&lt; 1 Year</td>\n",
       "      <td>No</td>\n",
       "      <td>2630.0</td>\n",
       "      <td>160.0</td>\n",
       "      <td>113</td>\n",
       "      <td>0</td>\n",
       "    </tr>\n",
       "    <tr>\n",
       "      <th>2</th>\n",
       "      <td>329036</td>\n",
       "      <td>Female</td>\n",
       "      <td>40</td>\n",
       "      <td>1</td>\n",
       "      <td>41.0</td>\n",
       "      <td>0</td>\n",
       "      <td>1-2 Year</td>\n",
       "      <td>Yes</td>\n",
       "      <td>33165.0</td>\n",
       "      <td>124.0</td>\n",
       "      <td>188</td>\n",
       "      <td>0</td>\n",
       "    </tr>\n",
       "    <tr>\n",
       "      <th>3</th>\n",
       "      <td>227288</td>\n",
       "      <td>Female</td>\n",
       "      <td>28</td>\n",
       "      <td>1</td>\n",
       "      <td>30.0</td>\n",
       "      <td>1</td>\n",
       "      <td>&lt; 1 Year</td>\n",
       "      <td>No</td>\n",
       "      <td>29038.0</td>\n",
       "      <td>152.0</td>\n",
       "      <td>233</td>\n",
       "      <td>0</td>\n",
       "    </tr>\n",
       "    <tr>\n",
       "      <th>4</th>\n",
       "      <td>300441</td>\n",
       "      <td>Female</td>\n",
       "      <td>50</td>\n",
       "      <td>1</td>\n",
       "      <td>28.0</td>\n",
       "      <td>0</td>\n",
       "      <td>1-2 Year</td>\n",
       "      <td>Yes</td>\n",
       "      <td>31325.0</td>\n",
       "      <td>124.0</td>\n",
       "      <td>258</td>\n",
       "      <td>0</td>\n",
       "    </tr>\n",
       "  </tbody>\n",
       "</table>\n",
       "</div>"
      ],
      "text/plain": [
       "       id  Gender  Age  Driving_License  Region_Code  Previously_Insured  \\\n",
       "0  188957  Female   25                1         17.0                   1   \n",
       "1  275631    Male   20                1         22.0                   0   \n",
       "2  329036  Female   40                1         41.0                   0   \n",
       "3  227288  Female   28                1         30.0                   1   \n",
       "4  300441  Female   50                1         28.0                   0   \n",
       "\n",
       "  Vehicle_Age Vehicle_Damage  Annual_Premium  Policy_Sales_Channel  Vintage  \\\n",
       "0    < 1 Year             No         38785.0                 152.0       59   \n",
       "1    < 1 Year             No          2630.0                 160.0      113   \n",
       "2    1-2 Year            Yes         33165.0                 124.0      188   \n",
       "3    < 1 Year             No         29038.0                 152.0      233   \n",
       "4    1-2 Year            Yes         31325.0                 124.0      258   \n",
       "\n",
       "   Response  \n",
       "0         0  \n",
       "1         0  \n",
       "2         0  \n",
       "3         0  \n",
       "4         0  "
      ]
     },
     "execution_count": 41,
     "metadata": {},
     "output_type": "execute_result"
    }
   ],
   "source": [
    "import pandas as pd\n",
    "df = pd.read_csv(\"https://raw.githubusercontent.com/Datamanim/datarepo/main/insurance/train.csv\")\n",
    "df.head()"
   ]
  },
  {
   "cell_type": "markdown",
   "id": "d183a1db",
   "metadata": {},
   "source": [
    "## Question 88\n",
    "\n",
    "Vehicle_Age 값이 2년 이상인 사람들만 필터링 하고 그중에서\n",
    "Annual_Premium 값이 전체 데이터의 중간값 이상인 사람들을 찾고, 그들의 Vintage값의 평균을 구하여라."
   ]
  },
  {
   "cell_type": "code",
   "execution_count": null,
   "id": "dd508004",
   "metadata": {},
   "outputs": [],
   "source": []
  },
  {
   "cell_type": "markdown",
   "id": "4b801847",
   "metadata": {},
   "source": [
    "## Question 89\n",
    "\n",
    "vehicle_age에 따른 각 성별(gender)그룹의 Annual_Premium값의 평균을 구하여 아래 테이블과 동일하게 구현하라."
   ]
  },
  {
   "cell_type": "markdown",
   "id": "a5125394",
   "metadata": {},
   "source": [
    "# 핸드폰 가격 예측데이터\n",
    "데이터 출처 :https://www.kaggle.com/iabhishekofficial/mobile-price-classification?select=train.csv(참고, 데이터 수정)<br>\n",
    "데이터 설명 : 핸드폰 가격예측 (price_range컬럼 0(저렴) ~3(매우비쌈) 범위 )<br>\n",
    "Data url https://raw.githubusercontent.com/Datamanim/datarepo/main/mobile/train.csv"
   ]
  },
  {
   "cell_type": "code",
   "execution_count": 42,
   "id": "8af59b41",
   "metadata": {},
   "outputs": [
    {
     "data": {
      "application/vnd.microsoft.datawrangler.viewer.v0+json": {
       "columns": [
        {
         "name": "index",
         "rawType": "int64",
         "type": "integer"
        },
        {
         "name": "battery_power",
         "rawType": "int64",
         "type": "integer"
        },
        {
         "name": "blue",
         "rawType": "int64",
         "type": "integer"
        },
        {
         "name": "clock_speed",
         "rawType": "float64",
         "type": "float"
        },
        {
         "name": "dual_sim",
         "rawType": "int64",
         "type": "integer"
        },
        {
         "name": "fc",
         "rawType": "int64",
         "type": "integer"
        },
        {
         "name": "four_g",
         "rawType": "int64",
         "type": "integer"
        },
        {
         "name": "int_memory",
         "rawType": "int64",
         "type": "integer"
        },
        {
         "name": "m_dep",
         "rawType": "float64",
         "type": "float"
        },
        {
         "name": "mobile_wt",
         "rawType": "int64",
         "type": "integer"
        },
        {
         "name": "n_cores",
         "rawType": "int64",
         "type": "integer"
        },
        {
         "name": "pc",
         "rawType": "int64",
         "type": "integer"
        },
        {
         "name": "px_height",
         "rawType": "int64",
         "type": "integer"
        },
        {
         "name": "px_width",
         "rawType": "int64",
         "type": "integer"
        },
        {
         "name": "ram",
         "rawType": "int64",
         "type": "integer"
        },
        {
         "name": "sc_h",
         "rawType": "int64",
         "type": "integer"
        },
        {
         "name": "sc_w",
         "rawType": "int64",
         "type": "integer"
        },
        {
         "name": "talk_time",
         "rawType": "int64",
         "type": "integer"
        },
        {
         "name": "three_g",
         "rawType": "int64",
         "type": "integer"
        },
        {
         "name": "touch_screen",
         "rawType": "int64",
         "type": "integer"
        },
        {
         "name": "wifi",
         "rawType": "int64",
         "type": "integer"
        },
        {
         "name": "price_range",
         "rawType": "int64",
         "type": "integer"
        }
       ],
       "ref": "f33d56b6-d1d4-4a67-850d-c4ba33b661ce",
       "rows": [
        [
         "0",
         "842",
         "0",
         "2.2",
         "0",
         "1",
         "0",
         "7",
         "0.6",
         "188",
         "2",
         "2",
         "20",
         "756",
         "2549",
         "9",
         "7",
         "19",
         "0",
         "0",
         "1",
         "1"
        ],
        [
         "1",
         "1021",
         "1",
         "0.5",
         "1",
         "0",
         "1",
         "53",
         "0.7",
         "136",
         "3",
         "6",
         "905",
         "1988",
         "2631",
         "17",
         "3",
         "7",
         "1",
         "1",
         "0",
         "2"
        ],
        [
         "2",
         "563",
         "1",
         "0.5",
         "1",
         "2",
         "1",
         "41",
         "0.9",
         "145",
         "5",
         "6",
         "1263",
         "1716",
         "2603",
         "11",
         "2",
         "9",
         "1",
         "1",
         "0",
         "2"
        ],
        [
         "3",
         "615",
         "1",
         "2.5",
         "0",
         "0",
         "0",
         "10",
         "0.8",
         "131",
         "6",
         "9",
         "1216",
         "1786",
         "2769",
         "16",
         "8",
         "11",
         "1",
         "0",
         "0",
         "2"
        ],
        [
         "4",
         "1821",
         "1",
         "1.2",
         "0",
         "13",
         "1",
         "44",
         "0.6",
         "141",
         "2",
         "14",
         "1208",
         "1212",
         "1411",
         "8",
         "2",
         "15",
         "1",
         "1",
         "0",
         "1"
        ]
       ],
       "shape": {
        "columns": 21,
        "rows": 5
       }
      },
      "text/html": [
       "<div>\n",
       "<style scoped>\n",
       "    .dataframe tbody tr th:only-of-type {\n",
       "        vertical-align: middle;\n",
       "    }\n",
       "\n",
       "    .dataframe tbody tr th {\n",
       "        vertical-align: top;\n",
       "    }\n",
       "\n",
       "    .dataframe thead th {\n",
       "        text-align: right;\n",
       "    }\n",
       "</style>\n",
       "<table border=\"1\" class=\"dataframe\">\n",
       "  <thead>\n",
       "    <tr style=\"text-align: right;\">\n",
       "      <th></th>\n",
       "      <th>battery_power</th>\n",
       "      <th>blue</th>\n",
       "      <th>clock_speed</th>\n",
       "      <th>dual_sim</th>\n",
       "      <th>fc</th>\n",
       "      <th>four_g</th>\n",
       "      <th>int_memory</th>\n",
       "      <th>m_dep</th>\n",
       "      <th>mobile_wt</th>\n",
       "      <th>n_cores</th>\n",
       "      <th>...</th>\n",
       "      <th>px_height</th>\n",
       "      <th>px_width</th>\n",
       "      <th>ram</th>\n",
       "      <th>sc_h</th>\n",
       "      <th>sc_w</th>\n",
       "      <th>talk_time</th>\n",
       "      <th>three_g</th>\n",
       "      <th>touch_screen</th>\n",
       "      <th>wifi</th>\n",
       "      <th>price_range</th>\n",
       "    </tr>\n",
       "  </thead>\n",
       "  <tbody>\n",
       "    <tr>\n",
       "      <th>0</th>\n",
       "      <td>842</td>\n",
       "      <td>0</td>\n",
       "      <td>2.2</td>\n",
       "      <td>0</td>\n",
       "      <td>1</td>\n",
       "      <td>0</td>\n",
       "      <td>7</td>\n",
       "      <td>0.6</td>\n",
       "      <td>188</td>\n",
       "      <td>2</td>\n",
       "      <td>...</td>\n",
       "      <td>20</td>\n",
       "      <td>756</td>\n",
       "      <td>2549</td>\n",
       "      <td>9</td>\n",
       "      <td>7</td>\n",
       "      <td>19</td>\n",
       "      <td>0</td>\n",
       "      <td>0</td>\n",
       "      <td>1</td>\n",
       "      <td>1</td>\n",
       "    </tr>\n",
       "    <tr>\n",
       "      <th>1</th>\n",
       "      <td>1021</td>\n",
       "      <td>1</td>\n",
       "      <td>0.5</td>\n",
       "      <td>1</td>\n",
       "      <td>0</td>\n",
       "      <td>1</td>\n",
       "      <td>53</td>\n",
       "      <td>0.7</td>\n",
       "      <td>136</td>\n",
       "      <td>3</td>\n",
       "      <td>...</td>\n",
       "      <td>905</td>\n",
       "      <td>1988</td>\n",
       "      <td>2631</td>\n",
       "      <td>17</td>\n",
       "      <td>3</td>\n",
       "      <td>7</td>\n",
       "      <td>1</td>\n",
       "      <td>1</td>\n",
       "      <td>0</td>\n",
       "      <td>2</td>\n",
       "    </tr>\n",
       "    <tr>\n",
       "      <th>2</th>\n",
       "      <td>563</td>\n",
       "      <td>1</td>\n",
       "      <td>0.5</td>\n",
       "      <td>1</td>\n",
       "      <td>2</td>\n",
       "      <td>1</td>\n",
       "      <td>41</td>\n",
       "      <td>0.9</td>\n",
       "      <td>145</td>\n",
       "      <td>5</td>\n",
       "      <td>...</td>\n",
       "      <td>1263</td>\n",
       "      <td>1716</td>\n",
       "      <td>2603</td>\n",
       "      <td>11</td>\n",
       "      <td>2</td>\n",
       "      <td>9</td>\n",
       "      <td>1</td>\n",
       "      <td>1</td>\n",
       "      <td>0</td>\n",
       "      <td>2</td>\n",
       "    </tr>\n",
       "    <tr>\n",
       "      <th>3</th>\n",
       "      <td>615</td>\n",
       "      <td>1</td>\n",
       "      <td>2.5</td>\n",
       "      <td>0</td>\n",
       "      <td>0</td>\n",
       "      <td>0</td>\n",
       "      <td>10</td>\n",
       "      <td>0.8</td>\n",
       "      <td>131</td>\n",
       "      <td>6</td>\n",
       "      <td>...</td>\n",
       "      <td>1216</td>\n",
       "      <td>1786</td>\n",
       "      <td>2769</td>\n",
       "      <td>16</td>\n",
       "      <td>8</td>\n",
       "      <td>11</td>\n",
       "      <td>1</td>\n",
       "      <td>0</td>\n",
       "      <td>0</td>\n",
       "      <td>2</td>\n",
       "    </tr>\n",
       "    <tr>\n",
       "      <th>4</th>\n",
       "      <td>1821</td>\n",
       "      <td>1</td>\n",
       "      <td>1.2</td>\n",
       "      <td>0</td>\n",
       "      <td>13</td>\n",
       "      <td>1</td>\n",
       "      <td>44</td>\n",
       "      <td>0.6</td>\n",
       "      <td>141</td>\n",
       "      <td>2</td>\n",
       "      <td>...</td>\n",
       "      <td>1208</td>\n",
       "      <td>1212</td>\n",
       "      <td>1411</td>\n",
       "      <td>8</td>\n",
       "      <td>2</td>\n",
       "      <td>15</td>\n",
       "      <td>1</td>\n",
       "      <td>1</td>\n",
       "      <td>0</td>\n",
       "      <td>1</td>\n",
       "    </tr>\n",
       "  </tbody>\n",
       "</table>\n",
       "<p>5 rows × 21 columns</p>\n",
       "</div>"
      ],
      "text/plain": [
       "   battery_power  blue  clock_speed  dual_sim  fc  four_g  int_memory  m_dep  \\\n",
       "0            842     0          2.2         0   1       0           7    0.6   \n",
       "1           1021     1          0.5         1   0       1          53    0.7   \n",
       "2            563     1          0.5         1   2       1          41    0.9   \n",
       "3            615     1          2.5         0   0       0          10    0.8   \n",
       "4           1821     1          1.2         0  13       1          44    0.6   \n",
       "\n",
       "   mobile_wt  n_cores  ...  px_height  px_width   ram  sc_h  sc_w  talk_time  \\\n",
       "0        188        2  ...         20       756  2549     9     7         19   \n",
       "1        136        3  ...        905      1988  2631    17     3          7   \n",
       "2        145        5  ...       1263      1716  2603    11     2          9   \n",
       "3        131        6  ...       1216      1786  2769    16     8         11   \n",
       "4        141        2  ...       1208      1212  1411     8     2         15   \n",
       "\n",
       "   three_g  touch_screen  wifi  price_range  \n",
       "0        0             0     1            1  \n",
       "1        1             1     0            2  \n",
       "2        1             1     0            2  \n",
       "3        1             0     0            2  \n",
       "4        1             1     0            1  \n",
       "\n",
       "[5 rows x 21 columns]"
      ]
     },
     "execution_count": 42,
     "metadata": {},
     "output_type": "execute_result"
    }
   ],
   "source": [
    "import pandas as pd\n",
    "df = pd.read_csv(\"https://raw.githubusercontent.com/Datamanim/datarepo/main/mobile/train.csv\")\n",
    "df.head()"
   ]
  },
  {
   "cell_type": "markdown",
   "id": "dab7bc23",
   "metadata": {},
   "source": [
    "## Question 90\n",
    "\n",
    "price_range 의 각 value를 그룹핑하여 각 그룹의 n_cores 의 빈도가 가장높은 value와 그 빈도수를 구하여라."
   ]
  },
  {
   "cell_type": "code",
   "execution_count": null,
   "id": "5405a416",
   "metadata": {},
   "outputs": [],
   "source": []
  },
  {
   "cell_type": "markdown",
   "id": "b02d4981",
   "metadata": {},
   "source": [
    "## Question 91\n",
    "\n",
    "price_range 값이 3인 그룹에서 상관관계가 2번째로 높은 두 컬럼과 그 상관계수를 구하여라."
   ]
  },
  {
   "cell_type": "markdown",
   "id": "9af9fcef",
   "metadata": {},
   "source": [
    "# 비행탑승 경험 만족도 데이터\n",
    "데이터 출처 :https://www.kaggle.com/teejmahal20/airline-passenger-satisfaction?select=train.csv (참고, 데이터 수정)<br>\n",
    "데이터 설명 : 비행탑승 경험 만족도 (satisfaction 컬럼 : ‘neutral or dissatisfied’ or satisfied ) (83123, 24) shape<br>\n",
    "Data url :https://raw.githubusercontent.com/Datamanim/datarepo/main/airline/train.csv"
   ]
  },
  {
   "cell_type": "code",
   "execution_count": 43,
   "id": "0fe26134",
   "metadata": {},
   "outputs": [
    {
     "data": {
      "application/vnd.microsoft.datawrangler.viewer.v0+json": {
       "columns": [
        {
         "name": "index",
         "rawType": "int64",
         "type": "integer"
        },
        {
         "name": "id",
         "rawType": "int64",
         "type": "integer"
        },
        {
         "name": "Gender",
         "rawType": "object",
         "type": "string"
        },
        {
         "name": "Customer Type",
         "rawType": "object",
         "type": "string"
        },
        {
         "name": "Age",
         "rawType": "int64",
         "type": "integer"
        },
        {
         "name": "Type of Travel",
         "rawType": "object",
         "type": "string"
        },
        {
         "name": "Class",
         "rawType": "object",
         "type": "string"
        },
        {
         "name": "Flight Distance",
         "rawType": "int64",
         "type": "integer"
        },
        {
         "name": "Inflight wifi service",
         "rawType": "int64",
         "type": "integer"
        },
        {
         "name": "Departure/Arrival time convenient",
         "rawType": "int64",
         "type": "integer"
        },
        {
         "name": "Ease of Online booking",
         "rawType": "int64",
         "type": "integer"
        },
        {
         "name": "Gate location",
         "rawType": "int64",
         "type": "integer"
        },
        {
         "name": "Food and drink",
         "rawType": "int64",
         "type": "integer"
        },
        {
         "name": "Online boarding",
         "rawType": "int64",
         "type": "integer"
        },
        {
         "name": "Seat comfort",
         "rawType": "int64",
         "type": "integer"
        },
        {
         "name": "Inflight entertainment",
         "rawType": "int64",
         "type": "integer"
        },
        {
         "name": "On-board service",
         "rawType": "int64",
         "type": "integer"
        },
        {
         "name": "Leg room service",
         "rawType": "int64",
         "type": "integer"
        },
        {
         "name": "Baggage handling",
         "rawType": "int64",
         "type": "integer"
        },
        {
         "name": "Checkin service",
         "rawType": "int64",
         "type": "integer"
        },
        {
         "name": "Inflight service",
         "rawType": "int64",
         "type": "integer"
        },
        {
         "name": "Cleanliness",
         "rawType": "int64",
         "type": "integer"
        },
        {
         "name": "Departure Delay in Minutes",
         "rawType": "int64",
         "type": "integer"
        },
        {
         "name": "Arrival Delay in Minutes",
         "rawType": "float64",
         "type": "float"
        },
        {
         "name": "satisfaction",
         "rawType": "object",
         "type": "string"
        }
       ],
       "ref": "0a73a29f-345a-4df3-8c12-29aa45ea3200",
       "rows": [
        [
         "0",
         "55882",
         "Male",
         "Loyal Customer",
         "42",
         "Business travel",
         "Business",
         "473",
         "1",
         "1",
         "3",
         "1",
         "2",
         "5",
         "5",
         "5",
         "5",
         "5",
         "5",
         "3",
         "5",
         "3",
         "3",
         "0.0",
         "satisfied"
        ],
        [
         "1",
         "31906",
         "Female",
         "Loyal Customer",
         "31",
         "Business travel",
         "Business",
         "3271",
         "4",
         "4",
         "4",
         "4",
         "3",
         "4",
         "4",
         "3",
         "3",
         "5",
         "5",
         "3",
         "4",
         "3",
         "1",
         "5.0",
         "satisfied"
        ],
        [
         "2",
         "85481",
         "Male",
         "Loyal Customer",
         "51",
         "Personal Travel",
         "Eco",
         "214",
         "5",
         "0",
         "5",
         "4",
         "3",
         "5",
         "3",
         "3",
         "4",
         "4",
         "4",
         "4",
         "4",
         "3",
         "2",
         "0.0",
         "satisfied"
        ],
        [
         "3",
         "102134",
         "Male",
         "Loyal Customer",
         "44",
         "Business travel",
         "Business",
         "3097",
         "1",
         "1",
         "3",
         "1",
         "3",
         "4",
         "5",
         "4",
         "4",
         "4",
         "4",
         "3",
         "4",
         "5",
         "0",
         "0.0",
         "satisfied"
        ],
        [
         "4",
         "31580",
         "Male",
         "Loyal Customer",
         "33",
         "Business travel",
         "Business",
         "3286",
         "1",
         "1",
         "1",
         "1",
         "4",
         "4",
         "4",
         "4",
         "2",
         "5",
         "2",
         "5",
         "1",
         "4",
         "0",
         "0.0",
         "satisfied"
        ]
       ],
       "shape": {
        "columns": 24,
        "rows": 5
       }
      },
      "text/html": [
       "<div>\n",
       "<style scoped>\n",
       "    .dataframe tbody tr th:only-of-type {\n",
       "        vertical-align: middle;\n",
       "    }\n",
       "\n",
       "    .dataframe tbody tr th {\n",
       "        vertical-align: top;\n",
       "    }\n",
       "\n",
       "    .dataframe thead th {\n",
       "        text-align: right;\n",
       "    }\n",
       "</style>\n",
       "<table border=\"1\" class=\"dataframe\">\n",
       "  <thead>\n",
       "    <tr style=\"text-align: right;\">\n",
       "      <th></th>\n",
       "      <th>id</th>\n",
       "      <th>Gender</th>\n",
       "      <th>Customer Type</th>\n",
       "      <th>Age</th>\n",
       "      <th>Type of Travel</th>\n",
       "      <th>Class</th>\n",
       "      <th>Flight Distance</th>\n",
       "      <th>Inflight wifi service</th>\n",
       "      <th>Departure/Arrival time convenient</th>\n",
       "      <th>Ease of Online booking</th>\n",
       "      <th>...</th>\n",
       "      <th>Inflight entertainment</th>\n",
       "      <th>On-board service</th>\n",
       "      <th>Leg room service</th>\n",
       "      <th>Baggage handling</th>\n",
       "      <th>Checkin service</th>\n",
       "      <th>Inflight service</th>\n",
       "      <th>Cleanliness</th>\n",
       "      <th>Departure Delay in Minutes</th>\n",
       "      <th>Arrival Delay in Minutes</th>\n",
       "      <th>satisfaction</th>\n",
       "    </tr>\n",
       "  </thead>\n",
       "  <tbody>\n",
       "    <tr>\n",
       "      <th>0</th>\n",
       "      <td>55882</td>\n",
       "      <td>Male</td>\n",
       "      <td>Loyal Customer</td>\n",
       "      <td>42</td>\n",
       "      <td>Business travel</td>\n",
       "      <td>Business</td>\n",
       "      <td>473</td>\n",
       "      <td>1</td>\n",
       "      <td>1</td>\n",
       "      <td>3</td>\n",
       "      <td>...</td>\n",
       "      <td>5</td>\n",
       "      <td>5</td>\n",
       "      <td>5</td>\n",
       "      <td>5</td>\n",
       "      <td>3</td>\n",
       "      <td>5</td>\n",
       "      <td>3</td>\n",
       "      <td>3</td>\n",
       "      <td>0.0</td>\n",
       "      <td>satisfied</td>\n",
       "    </tr>\n",
       "    <tr>\n",
       "      <th>1</th>\n",
       "      <td>31906</td>\n",
       "      <td>Female</td>\n",
       "      <td>Loyal Customer</td>\n",
       "      <td>31</td>\n",
       "      <td>Business travel</td>\n",
       "      <td>Business</td>\n",
       "      <td>3271</td>\n",
       "      <td>4</td>\n",
       "      <td>4</td>\n",
       "      <td>4</td>\n",
       "      <td>...</td>\n",
       "      <td>3</td>\n",
       "      <td>3</td>\n",
       "      <td>5</td>\n",
       "      <td>5</td>\n",
       "      <td>3</td>\n",
       "      <td>4</td>\n",
       "      <td>3</td>\n",
       "      <td>1</td>\n",
       "      <td>5.0</td>\n",
       "      <td>satisfied</td>\n",
       "    </tr>\n",
       "    <tr>\n",
       "      <th>2</th>\n",
       "      <td>85481</td>\n",
       "      <td>Male</td>\n",
       "      <td>Loyal Customer</td>\n",
       "      <td>51</td>\n",
       "      <td>Personal Travel</td>\n",
       "      <td>Eco</td>\n",
       "      <td>214</td>\n",
       "      <td>5</td>\n",
       "      <td>0</td>\n",
       "      <td>5</td>\n",
       "      <td>...</td>\n",
       "      <td>3</td>\n",
       "      <td>4</td>\n",
       "      <td>4</td>\n",
       "      <td>4</td>\n",
       "      <td>4</td>\n",
       "      <td>4</td>\n",
       "      <td>3</td>\n",
       "      <td>2</td>\n",
       "      <td>0.0</td>\n",
       "      <td>satisfied</td>\n",
       "    </tr>\n",
       "    <tr>\n",
       "      <th>3</th>\n",
       "      <td>102134</td>\n",
       "      <td>Male</td>\n",
       "      <td>Loyal Customer</td>\n",
       "      <td>44</td>\n",
       "      <td>Business travel</td>\n",
       "      <td>Business</td>\n",
       "      <td>3097</td>\n",
       "      <td>1</td>\n",
       "      <td>1</td>\n",
       "      <td>3</td>\n",
       "      <td>...</td>\n",
       "      <td>4</td>\n",
       "      <td>4</td>\n",
       "      <td>4</td>\n",
       "      <td>4</td>\n",
       "      <td>3</td>\n",
       "      <td>4</td>\n",
       "      <td>5</td>\n",
       "      <td>0</td>\n",
       "      <td>0.0</td>\n",
       "      <td>satisfied</td>\n",
       "    </tr>\n",
       "    <tr>\n",
       "      <th>4</th>\n",
       "      <td>31580</td>\n",
       "      <td>Male</td>\n",
       "      <td>Loyal Customer</td>\n",
       "      <td>33</td>\n",
       "      <td>Business travel</td>\n",
       "      <td>Business</td>\n",
       "      <td>3286</td>\n",
       "      <td>1</td>\n",
       "      <td>1</td>\n",
       "      <td>1</td>\n",
       "      <td>...</td>\n",
       "      <td>4</td>\n",
       "      <td>2</td>\n",
       "      <td>5</td>\n",
       "      <td>2</td>\n",
       "      <td>5</td>\n",
       "      <td>1</td>\n",
       "      <td>4</td>\n",
       "      <td>0</td>\n",
       "      <td>0.0</td>\n",
       "      <td>satisfied</td>\n",
       "    </tr>\n",
       "  </tbody>\n",
       "</table>\n",
       "<p>5 rows × 24 columns</p>\n",
       "</div>"
      ],
      "text/plain": [
       "       id  Gender   Customer Type  Age   Type of Travel     Class  \\\n",
       "0   55882    Male  Loyal Customer   42  Business travel  Business   \n",
       "1   31906  Female  Loyal Customer   31  Business travel  Business   \n",
       "2   85481    Male  Loyal Customer   51  Personal Travel       Eco   \n",
       "3  102134    Male  Loyal Customer   44  Business travel  Business   \n",
       "4   31580    Male  Loyal Customer   33  Business travel  Business   \n",
       "\n",
       "   Flight Distance  Inflight wifi service  Departure/Arrival time convenient  \\\n",
       "0              473                      1                                  1   \n",
       "1             3271                      4                                  4   \n",
       "2              214                      5                                  0   \n",
       "3             3097                      1                                  1   \n",
       "4             3286                      1                                  1   \n",
       "\n",
       "   Ease of Online booking  ...  Inflight entertainment  On-board service  \\\n",
       "0                       3  ...                       5                 5   \n",
       "1                       4  ...                       3                 3   \n",
       "2                       5  ...                       3                 4   \n",
       "3                       3  ...                       4                 4   \n",
       "4                       1  ...                       4                 2   \n",
       "\n",
       "   Leg room service  Baggage handling  Checkin service  Inflight service  \\\n",
       "0                 5                 5                3                 5   \n",
       "1                 5                 5                3                 4   \n",
       "2                 4                 4                4                 4   \n",
       "3                 4                 4                3                 4   \n",
       "4                 5                 2                5                 1   \n",
       "\n",
       "   Cleanliness  Departure Delay in Minutes  Arrival Delay in Minutes  \\\n",
       "0            3                           3                       0.0   \n",
       "1            3                           1                       5.0   \n",
       "2            3                           2                       0.0   \n",
       "3            5                           0                       0.0   \n",
       "4            4                           0                       0.0   \n",
       "\n",
       "   satisfaction  \n",
       "0     satisfied  \n",
       "1     satisfied  \n",
       "2     satisfied  \n",
       "3     satisfied  \n",
       "4     satisfied  \n",
       "\n",
       "[5 rows x 24 columns]"
      ]
     },
     "execution_count": 43,
     "metadata": {},
     "output_type": "execute_result"
    }
   ],
   "source": [
    "import pandas as pd\n",
    "df = pd.read_csv(\"https://raw.githubusercontent.com/Datamanim/datarepo/main/airline/train.csv\")\n",
    "df.head()"
   ]
  },
  {
   "cell_type": "markdown",
   "id": "35f55d51",
   "metadata": {},
   "source": [
    "## Question 92\n",
    "\n",
    "Arrival Delay in Minutes 컬럼이 결측치인 데이터들 중 ‘neutral or dissatisfied’ 보다 ‘satisfied’의 수가 더 높은 Class는 어디 인가?"
   ]
  },
  {
   "cell_type": "code",
   "execution_count": null,
   "id": "a6fe66c2",
   "metadata": {},
   "outputs": [],
   "source": []
  },
  {
   "cell_type": "markdown",
   "id": "b4e337fc",
   "metadata": {},
   "source": [
    "# 수질 음용성 여부 데이터\n",
    "데이터 출처 :https://www.kaggle.com/adityakadiwal/water-potability<br>\n",
    "데이터 설명 : 수질 음용성 여부 (Potablillity 컬럼 : 0 ,1 )<br>\n",
    "Data url :https://raw.githubusercontent.com/Datamanim/datarepo/main/waters/train.csv"
   ]
  },
  {
   "cell_type": "code",
   "execution_count": 44,
   "id": "00aae43a",
   "metadata": {},
   "outputs": [
    {
     "data": {
      "application/vnd.microsoft.datawrangler.viewer.v0+json": {
       "columns": [
        {
         "name": "index",
         "rawType": "int64",
         "type": "integer"
        },
        {
         "name": "ph",
         "rawType": "float64",
         "type": "float"
        },
        {
         "name": "Hardness",
         "rawType": "float64",
         "type": "float"
        },
        {
         "name": "Solids",
         "rawType": "float64",
         "type": "float"
        },
        {
         "name": "Chloramines",
         "rawType": "float64",
         "type": "float"
        },
        {
         "name": "Sulfate",
         "rawType": "float64",
         "type": "float"
        },
        {
         "name": "Conductivity",
         "rawType": "float64",
         "type": "float"
        },
        {
         "name": "Organic_carbon",
         "rawType": "float64",
         "type": "float"
        },
        {
         "name": "Trihalomethanes",
         "rawType": "float64",
         "type": "float"
        },
        {
         "name": "Turbidity",
         "rawType": "float64",
         "type": "float"
        },
        {
         "name": "Potability",
         "rawType": "int64",
         "type": "integer"
        }
       ],
       "ref": "a7cb1e4b-7f1c-4b4c-8d38-fd78ba5ec4d1",
       "rows": [
        [
         "0",
         "7.918150470853138",
         "214.18661094783613",
         "23823.492887703946",
         "7.290877675600362",
         "341.17332171858976",
         "411.4244825713205",
         "19.5850018943529",
         "25.05737465521338",
         "4.028958007331559",
         "0"
        ],
        [
         "1",
         "5.422445767908819",
         "205.26608040394387",
         "18542.9574510298",
         "5.491962672908565",
         "306.7022267770212",
         "382.0801288333403",
         "10.50402320593031",
         "67.49345000333295",
         "2.911751390260459",
         "1"
        ],
        [
         "2",
         "7.341547112170922",
         "187.6724024235932",
         "21273.45706642797",
         "7.784003063151442",
         null,
         "332.0842933832068",
         "16.842334088885025",
         "55.01915102209801",
         "4.025643695758845",
         "0"
        ],
        [
         "3",
         "9.056244707341865",
         "197.66630098297253",
         "17403.53216686133",
         "7.688917071627449",
         "337.4601764979326",
         "414.766630759681",
         "15.349868992441657",
         "63.69674586955932",
         "3.319353736685142",
         "0"
        ],
        [
         "4",
         "5.039373608702727",
         "142.8605979960346",
         "40829.35316707983",
         "7.27154271028571",
         null,
         "386.803056636904",
         "16.823772930441862",
         "52.29711325231761",
         "4.957419783113156",
         "0"
        ]
       ],
       "shape": {
        "columns": 10,
        "rows": 5
       }
      },
      "text/html": [
       "<div>\n",
       "<style scoped>\n",
       "    .dataframe tbody tr th:only-of-type {\n",
       "        vertical-align: middle;\n",
       "    }\n",
       "\n",
       "    .dataframe tbody tr th {\n",
       "        vertical-align: top;\n",
       "    }\n",
       "\n",
       "    .dataframe thead th {\n",
       "        text-align: right;\n",
       "    }\n",
       "</style>\n",
       "<table border=\"1\" class=\"dataframe\">\n",
       "  <thead>\n",
       "    <tr style=\"text-align: right;\">\n",
       "      <th></th>\n",
       "      <th>ph</th>\n",
       "      <th>Hardness</th>\n",
       "      <th>Solids</th>\n",
       "      <th>Chloramines</th>\n",
       "      <th>Sulfate</th>\n",
       "      <th>Conductivity</th>\n",
       "      <th>Organic_carbon</th>\n",
       "      <th>Trihalomethanes</th>\n",
       "      <th>Turbidity</th>\n",
       "      <th>Potability</th>\n",
       "    </tr>\n",
       "  </thead>\n",
       "  <tbody>\n",
       "    <tr>\n",
       "      <th>0</th>\n",
       "      <td>7.918150</td>\n",
       "      <td>214.186611</td>\n",
       "      <td>23823.492888</td>\n",
       "      <td>7.290878</td>\n",
       "      <td>341.173322</td>\n",
       "      <td>411.424483</td>\n",
       "      <td>19.585002</td>\n",
       "      <td>25.057375</td>\n",
       "      <td>4.028958</td>\n",
       "      <td>0</td>\n",
       "    </tr>\n",
       "    <tr>\n",
       "      <th>1</th>\n",
       "      <td>5.422446</td>\n",
       "      <td>205.266080</td>\n",
       "      <td>18542.957451</td>\n",
       "      <td>5.491963</td>\n",
       "      <td>306.702227</td>\n",
       "      <td>382.080129</td>\n",
       "      <td>10.504023</td>\n",
       "      <td>67.493450</td>\n",
       "      <td>2.911751</td>\n",
       "      <td>1</td>\n",
       "    </tr>\n",
       "    <tr>\n",
       "      <th>2</th>\n",
       "      <td>7.341547</td>\n",
       "      <td>187.672402</td>\n",
       "      <td>21273.457066</td>\n",
       "      <td>7.784003</td>\n",
       "      <td>NaN</td>\n",
       "      <td>332.084293</td>\n",
       "      <td>16.842334</td>\n",
       "      <td>55.019151</td>\n",
       "      <td>4.025644</td>\n",
       "      <td>0</td>\n",
       "    </tr>\n",
       "    <tr>\n",
       "      <th>3</th>\n",
       "      <td>9.056245</td>\n",
       "      <td>197.666301</td>\n",
       "      <td>17403.532167</td>\n",
       "      <td>7.688917</td>\n",
       "      <td>337.460176</td>\n",
       "      <td>414.766631</td>\n",
       "      <td>15.349869</td>\n",
       "      <td>63.696746</td>\n",
       "      <td>3.319354</td>\n",
       "      <td>0</td>\n",
       "    </tr>\n",
       "    <tr>\n",
       "      <th>4</th>\n",
       "      <td>5.039374</td>\n",
       "      <td>142.860598</td>\n",
       "      <td>40829.353167</td>\n",
       "      <td>7.271543</td>\n",
       "      <td>NaN</td>\n",
       "      <td>386.803057</td>\n",
       "      <td>16.823773</td>\n",
       "      <td>52.297113</td>\n",
       "      <td>4.957420</td>\n",
       "      <td>0</td>\n",
       "    </tr>\n",
       "  </tbody>\n",
       "</table>\n",
       "</div>"
      ],
      "text/plain": [
       "         ph    Hardness        Solids  Chloramines     Sulfate  Conductivity  \\\n",
       "0  7.918150  214.186611  23823.492888     7.290878  341.173322    411.424483   \n",
       "1  5.422446  205.266080  18542.957451     5.491963  306.702227    382.080129   \n",
       "2  7.341547  187.672402  21273.457066     7.784003         NaN    332.084293   \n",
       "3  9.056245  197.666301  17403.532167     7.688917  337.460176    414.766631   \n",
       "4  5.039374  142.860598  40829.353167     7.271543         NaN    386.803057   \n",
       "\n",
       "   Organic_carbon  Trihalomethanes  Turbidity  Potability  \n",
       "0       19.585002        25.057375   4.028958           0  \n",
       "1       10.504023        67.493450   2.911751           1  \n",
       "2       16.842334        55.019151   4.025644           0  \n",
       "3       15.349869        63.696746   3.319354           0  \n",
       "4       16.823773        52.297113   4.957420           0  "
      ]
     },
     "execution_count": 44,
     "metadata": {},
     "output_type": "execute_result"
    }
   ],
   "source": [
    "import pandas as pd\n",
    "df = pd.read_csv(\"https://raw.githubusercontent.com/Datamanim/datarepo/main/waters/train.csv\")\n",
    "df.head()"
   ]
  },
  {
   "cell_type": "markdown",
   "id": "5cac559d",
   "metadata": {},
   "source": [
    "## Question 93\n",
    "\n",
    "ph값은 상당히 많은 결측치를 포함한다. 결측치를 제외한 나머지 데이터들 중 사분위값 기준 하위 25%의 값들의 평균값은?"
   ]
  },
  {
   "cell_type": "markdown",
   "id": "60d445df",
   "metadata": {},
   "source": [
    "# 의료 비용 예측 데이터\n",
    "데이터 출처 :https://www.kaggle.com/mirichoi0218/insurance/code(참고, 데이터 수정)<br>\n",
    "데이터 설명 : 의료비용 예측문제<br>\n",
    "Data url :https://raw.githubusercontent.com/Datamanim/datarepo/main/MedicalCost/train.csv"
   ]
  },
  {
   "cell_type": "code",
   "execution_count": 45,
   "id": "64809a6a",
   "metadata": {},
   "outputs": [
    {
     "data": {
      "application/vnd.microsoft.datawrangler.viewer.v0+json": {
       "columns": [
        {
         "name": "index",
         "rawType": "int64",
         "type": "integer"
        },
        {
         "name": "age",
         "rawType": "int64",
         "type": "integer"
        },
        {
         "name": "sex",
         "rawType": "object",
         "type": "string"
        },
        {
         "name": "bmi",
         "rawType": "float64",
         "type": "float"
        },
        {
         "name": "children",
         "rawType": "int64",
         "type": "integer"
        },
        {
         "name": "smoker",
         "rawType": "object",
         "type": "string"
        },
        {
         "name": "region",
         "rawType": "object",
         "type": "string"
        },
        {
         "name": "charges",
         "rawType": "float64",
         "type": "float"
        }
       ],
       "ref": "077e21e2-1c1c-4552-9775-e368004a6fe4",
       "rows": [
        [
         "0",
         "64",
         "female",
         "39.33",
         "0",
         "no",
         "northeast",
         "14901.5167"
        ],
        [
         "1",
         "47",
         "female",
         "27.83",
         "0",
         "yes",
         "southeast",
         "23065.4207"
        ],
        [
         "2",
         "52",
         "female",
         "33.3",
         "2",
         "no",
         "southwest",
         "10806.839"
        ],
        [
         "3",
         "33",
         "female",
         "22.135",
         "1",
         "no",
         "northeast",
         "5354.07465"
        ],
        [
         "4",
         "30",
         "male",
         "31.4",
         "1",
         "no",
         "southwest",
         "3659.346"
        ]
       ],
       "shape": {
        "columns": 7,
        "rows": 5
       }
      },
      "text/html": [
       "<div>\n",
       "<style scoped>\n",
       "    .dataframe tbody tr th:only-of-type {\n",
       "        vertical-align: middle;\n",
       "    }\n",
       "\n",
       "    .dataframe tbody tr th {\n",
       "        vertical-align: top;\n",
       "    }\n",
       "\n",
       "    .dataframe thead th {\n",
       "        text-align: right;\n",
       "    }\n",
       "</style>\n",
       "<table border=\"1\" class=\"dataframe\">\n",
       "  <thead>\n",
       "    <tr style=\"text-align: right;\">\n",
       "      <th></th>\n",
       "      <th>age</th>\n",
       "      <th>sex</th>\n",
       "      <th>bmi</th>\n",
       "      <th>children</th>\n",
       "      <th>smoker</th>\n",
       "      <th>region</th>\n",
       "      <th>charges</th>\n",
       "    </tr>\n",
       "  </thead>\n",
       "  <tbody>\n",
       "    <tr>\n",
       "      <th>0</th>\n",
       "      <td>64</td>\n",
       "      <td>female</td>\n",
       "      <td>39.330</td>\n",
       "      <td>0</td>\n",
       "      <td>no</td>\n",
       "      <td>northeast</td>\n",
       "      <td>14901.51670</td>\n",
       "    </tr>\n",
       "    <tr>\n",
       "      <th>1</th>\n",
       "      <td>47</td>\n",
       "      <td>female</td>\n",
       "      <td>27.830</td>\n",
       "      <td>0</td>\n",
       "      <td>yes</td>\n",
       "      <td>southeast</td>\n",
       "      <td>23065.42070</td>\n",
       "    </tr>\n",
       "    <tr>\n",
       "      <th>2</th>\n",
       "      <td>52</td>\n",
       "      <td>female</td>\n",
       "      <td>33.300</td>\n",
       "      <td>2</td>\n",
       "      <td>no</td>\n",
       "      <td>southwest</td>\n",
       "      <td>10806.83900</td>\n",
       "    </tr>\n",
       "    <tr>\n",
       "      <th>3</th>\n",
       "      <td>33</td>\n",
       "      <td>female</td>\n",
       "      <td>22.135</td>\n",
       "      <td>1</td>\n",
       "      <td>no</td>\n",
       "      <td>northeast</td>\n",
       "      <td>5354.07465</td>\n",
       "    </tr>\n",
       "    <tr>\n",
       "      <th>4</th>\n",
       "      <td>30</td>\n",
       "      <td>male</td>\n",
       "      <td>31.400</td>\n",
       "      <td>1</td>\n",
       "      <td>no</td>\n",
       "      <td>southwest</td>\n",
       "      <td>3659.34600</td>\n",
       "    </tr>\n",
       "  </tbody>\n",
       "</table>\n",
       "</div>"
      ],
      "text/plain": [
       "   age     sex     bmi  children smoker     region      charges\n",
       "0   64  female  39.330         0     no  northeast  14901.51670\n",
       "1   47  female  27.830         0    yes  southeast  23065.42070\n",
       "2   52  female  33.300         2     no  southwest  10806.83900\n",
       "3   33  female  22.135         1     no  northeast   5354.07465\n",
       "4   30    male  31.400         1     no  southwest   3659.34600"
      ]
     },
     "execution_count": 45,
     "metadata": {},
     "output_type": "execute_result"
    }
   ],
   "source": [
    "import pandas as pd\n",
    "train = pd.read_csv(\"https://raw.githubusercontent.com/Datamanim/datarepo/main/MedicalCost/train.csv\")\n",
    "train.head()"
   ]
  },
  {
   "cell_type": "markdown",
   "id": "99f28c56",
   "metadata": {},
   "source": [
    "## Question 94\n",
    "\n",
    "흡연자와 비흡연자 각각 charges의 상위 10% 그룹의 평균의 차이는?"
   ]
  },
  {
   "cell_type": "code",
   "execution_count": null,
   "id": "41636b66",
   "metadata": {},
   "outputs": [],
   "source": []
  },
  {
   "cell_type": "markdown",
   "id": "9a89551d",
   "metadata": {},
   "source": [
    "# 킹카운티 주거지 가격예측문제 데이터\n",
    "데이터 출처 :https://www.kaggle.com/harlfoxem/housesalesprediction (참고, 데이터 수정)<br>\n",
    "데이터 설명 : 킹카운티 주거지 가격 예측문제<br>\n",
    "Data url :https://raw.githubusercontent.com/Datamanim/datarepo/main/kingcountyprice/train.csv"
   ]
  },
  {
   "cell_type": "code",
   "execution_count": 46,
   "id": "22ed11a5",
   "metadata": {},
   "outputs": [
    {
     "data": {
      "application/vnd.microsoft.datawrangler.viewer.v0+json": {
       "columns": [
        {
         "name": "index",
         "rawType": "int64",
         "type": "integer"
        },
        {
         "name": "id",
         "rawType": "int64",
         "type": "integer"
        },
        {
         "name": "date",
         "rawType": "object",
         "type": "string"
        },
        {
         "name": "price",
         "rawType": "float64",
         "type": "float"
        },
        {
         "name": "bedrooms",
         "rawType": "int64",
         "type": "integer"
        },
        {
         "name": "bathrooms",
         "rawType": "float64",
         "type": "float"
        },
        {
         "name": "sqft_living",
         "rawType": "int64",
         "type": "integer"
        },
        {
         "name": "sqft_lot",
         "rawType": "int64",
         "type": "integer"
        },
        {
         "name": "floors",
         "rawType": "float64",
         "type": "float"
        },
        {
         "name": "waterfront",
         "rawType": "int64",
         "type": "integer"
        },
        {
         "name": "view",
         "rawType": "int64",
         "type": "integer"
        },
        {
         "name": "condition",
         "rawType": "int64",
         "type": "integer"
        },
        {
         "name": "grade",
         "rawType": "int64",
         "type": "integer"
        },
        {
         "name": "sqft_above",
         "rawType": "int64",
         "type": "integer"
        },
        {
         "name": "sqft_basement",
         "rawType": "int64",
         "type": "integer"
        },
        {
         "name": "yr_built",
         "rawType": "int64",
         "type": "integer"
        },
        {
         "name": "yr_renovated",
         "rawType": "int64",
         "type": "integer"
        },
        {
         "name": "zipcode",
         "rawType": "int64",
         "type": "integer"
        },
        {
         "name": "lat",
         "rawType": "float64",
         "type": "float"
        },
        {
         "name": "long",
         "rawType": "float64",
         "type": "float"
        },
        {
         "name": "sqft_living15",
         "rawType": "int64",
         "type": "integer"
        },
        {
         "name": "sqft_lot15",
         "rawType": "int64",
         "type": "integer"
        }
       ],
       "ref": "321f722c-16ec-437d-a83d-12f97279ee80",
       "rows": [
        [
         "0",
         "8961990160",
         "20150413T000000",
         "567500.0",
         "3",
         "2.5",
         "2080",
         "4556",
         "2.0",
         "0",
         "0",
         "3",
         "8",
         "2080",
         "0",
         "1999",
         "0",
         "98074",
         "47.6036",
         "-122.014",
         "1530",
         "5606"
        ],
        [
         "1",
         "9455200205",
         "20140604T000000",
         "525000.0",
         "3",
         "2.0",
         "1540",
         "7800",
         "1.0",
         "0",
         "0",
         "3",
         "8",
         "1540",
         "0",
         "2004",
         "0",
         "98125",
         "47.7041",
         "-122.288",
         "1510",
         "7800"
        ],
        [
         "2",
         "7853220670",
         "20140918T000000",
         "540000.0",
         "3",
         "2.5",
         "2860",
         "8935",
         "2.0",
         "0",
         "0",
         "3",
         "8",
         "2860",
         "0",
         "2004",
         "0",
         "98065",
         "47.5336",
         "-121.855",
         "2650",
         "6167"
        ],
        [
         "3",
         "3298201170",
         "20141110T000000",
         "350000.0",
         "3",
         "1.0",
         "940",
         "7811",
         "1.0",
         "0",
         "0",
         "3",
         "6",
         "940",
         "0",
         "1959",
         "0",
         "98008",
         "47.6195",
         "-122.118",
         "1180",
         "7490"
        ],
        [
         "4",
         "7972604355",
         "20140521T000000",
         "218000.0",
         "3",
         "1.0",
         "1020",
         "7874",
         "1.0",
         "0",
         "0",
         "3",
         "7",
         "1020",
         "0",
         "1956",
         "0",
         "98106",
         "47.5175",
         "-122.346",
         "1290",
         "7320"
        ]
       ],
       "shape": {
        "columns": 21,
        "rows": 5
       }
      },
      "text/html": [
       "<div>\n",
       "<style scoped>\n",
       "    .dataframe tbody tr th:only-of-type {\n",
       "        vertical-align: middle;\n",
       "    }\n",
       "\n",
       "    .dataframe tbody tr th {\n",
       "        vertical-align: top;\n",
       "    }\n",
       "\n",
       "    .dataframe thead th {\n",
       "        text-align: right;\n",
       "    }\n",
       "</style>\n",
       "<table border=\"1\" class=\"dataframe\">\n",
       "  <thead>\n",
       "    <tr style=\"text-align: right;\">\n",
       "      <th></th>\n",
       "      <th>id</th>\n",
       "      <th>date</th>\n",
       "      <th>price</th>\n",
       "      <th>bedrooms</th>\n",
       "      <th>bathrooms</th>\n",
       "      <th>sqft_living</th>\n",
       "      <th>sqft_lot</th>\n",
       "      <th>floors</th>\n",
       "      <th>waterfront</th>\n",
       "      <th>view</th>\n",
       "      <th>...</th>\n",
       "      <th>grade</th>\n",
       "      <th>sqft_above</th>\n",
       "      <th>sqft_basement</th>\n",
       "      <th>yr_built</th>\n",
       "      <th>yr_renovated</th>\n",
       "      <th>zipcode</th>\n",
       "      <th>lat</th>\n",
       "      <th>long</th>\n",
       "      <th>sqft_living15</th>\n",
       "      <th>sqft_lot15</th>\n",
       "    </tr>\n",
       "  </thead>\n",
       "  <tbody>\n",
       "    <tr>\n",
       "      <th>0</th>\n",
       "      <td>8961990160</td>\n",
       "      <td>20150413T000000</td>\n",
       "      <td>567500.0</td>\n",
       "      <td>3</td>\n",
       "      <td>2.5</td>\n",
       "      <td>2080</td>\n",
       "      <td>4556</td>\n",
       "      <td>2.0</td>\n",
       "      <td>0</td>\n",
       "      <td>0</td>\n",
       "      <td>...</td>\n",
       "      <td>8</td>\n",
       "      <td>2080</td>\n",
       "      <td>0</td>\n",
       "      <td>1999</td>\n",
       "      <td>0</td>\n",
       "      <td>98074</td>\n",
       "      <td>47.6036</td>\n",
       "      <td>-122.014</td>\n",
       "      <td>1530</td>\n",
       "      <td>5606</td>\n",
       "    </tr>\n",
       "    <tr>\n",
       "      <th>1</th>\n",
       "      <td>9455200205</td>\n",
       "      <td>20140604T000000</td>\n",
       "      <td>525000.0</td>\n",
       "      <td>3</td>\n",
       "      <td>2.0</td>\n",
       "      <td>1540</td>\n",
       "      <td>7800</td>\n",
       "      <td>1.0</td>\n",
       "      <td>0</td>\n",
       "      <td>0</td>\n",
       "      <td>...</td>\n",
       "      <td>8</td>\n",
       "      <td>1540</td>\n",
       "      <td>0</td>\n",
       "      <td>2004</td>\n",
       "      <td>0</td>\n",
       "      <td>98125</td>\n",
       "      <td>47.7041</td>\n",
       "      <td>-122.288</td>\n",
       "      <td>1510</td>\n",
       "      <td>7800</td>\n",
       "    </tr>\n",
       "    <tr>\n",
       "      <th>2</th>\n",
       "      <td>7853220670</td>\n",
       "      <td>20140918T000000</td>\n",
       "      <td>540000.0</td>\n",
       "      <td>3</td>\n",
       "      <td>2.5</td>\n",
       "      <td>2860</td>\n",
       "      <td>8935</td>\n",
       "      <td>2.0</td>\n",
       "      <td>0</td>\n",
       "      <td>0</td>\n",
       "      <td>...</td>\n",
       "      <td>8</td>\n",
       "      <td>2860</td>\n",
       "      <td>0</td>\n",
       "      <td>2004</td>\n",
       "      <td>0</td>\n",
       "      <td>98065</td>\n",
       "      <td>47.5336</td>\n",
       "      <td>-121.855</td>\n",
       "      <td>2650</td>\n",
       "      <td>6167</td>\n",
       "    </tr>\n",
       "    <tr>\n",
       "      <th>3</th>\n",
       "      <td>3298201170</td>\n",
       "      <td>20141110T000000</td>\n",
       "      <td>350000.0</td>\n",
       "      <td>3</td>\n",
       "      <td>1.0</td>\n",
       "      <td>940</td>\n",
       "      <td>7811</td>\n",
       "      <td>1.0</td>\n",
       "      <td>0</td>\n",
       "      <td>0</td>\n",
       "      <td>...</td>\n",
       "      <td>6</td>\n",
       "      <td>940</td>\n",
       "      <td>0</td>\n",
       "      <td>1959</td>\n",
       "      <td>0</td>\n",
       "      <td>98008</td>\n",
       "      <td>47.6195</td>\n",
       "      <td>-122.118</td>\n",
       "      <td>1180</td>\n",
       "      <td>7490</td>\n",
       "    </tr>\n",
       "    <tr>\n",
       "      <th>4</th>\n",
       "      <td>7972604355</td>\n",
       "      <td>20140521T000000</td>\n",
       "      <td>218000.0</td>\n",
       "      <td>3</td>\n",
       "      <td>1.0</td>\n",
       "      <td>1020</td>\n",
       "      <td>7874</td>\n",
       "      <td>1.0</td>\n",
       "      <td>0</td>\n",
       "      <td>0</td>\n",
       "      <td>...</td>\n",
       "      <td>7</td>\n",
       "      <td>1020</td>\n",
       "      <td>0</td>\n",
       "      <td>1956</td>\n",
       "      <td>0</td>\n",
       "      <td>98106</td>\n",
       "      <td>47.5175</td>\n",
       "      <td>-122.346</td>\n",
       "      <td>1290</td>\n",
       "      <td>7320</td>\n",
       "    </tr>\n",
       "  </tbody>\n",
       "</table>\n",
       "<p>5 rows × 21 columns</p>\n",
       "</div>"
      ],
      "text/plain": [
       "           id             date     price  bedrooms  bathrooms  sqft_living  \\\n",
       "0  8961990160  20150413T000000  567500.0         3        2.5         2080   \n",
       "1  9455200205  20140604T000000  525000.0         3        2.0         1540   \n",
       "2  7853220670  20140918T000000  540000.0         3        2.5         2860   \n",
       "3  3298201170  20141110T000000  350000.0         3        1.0          940   \n",
       "4  7972604355  20140521T000000  218000.0         3        1.0         1020   \n",
       "\n",
       "   sqft_lot  floors  waterfront  view  ...  grade  sqft_above  sqft_basement  \\\n",
       "0      4556     2.0           0     0  ...      8        2080              0   \n",
       "1      7800     1.0           0     0  ...      8        1540              0   \n",
       "2      8935     2.0           0     0  ...      8        2860              0   \n",
       "3      7811     1.0           0     0  ...      6         940              0   \n",
       "4      7874     1.0           0     0  ...      7        1020              0   \n",
       "\n",
       "   yr_built  yr_renovated  zipcode      lat     long  sqft_living15  \\\n",
       "0      1999             0    98074  47.6036 -122.014           1530   \n",
       "1      2004             0    98125  47.7041 -122.288           1510   \n",
       "2      2004             0    98065  47.5336 -121.855           2650   \n",
       "3      1959             0    98008  47.6195 -122.118           1180   \n",
       "4      1956             0    98106  47.5175 -122.346           1290   \n",
       "\n",
       "   sqft_lot15  \n",
       "0        5606  \n",
       "1        7800  \n",
       "2        6167  \n",
       "3        7490  \n",
       "4        7320  \n",
       "\n",
       "[5 rows x 21 columns]"
      ]
     },
     "execution_count": 46,
     "metadata": {},
     "output_type": "execute_result"
    }
   ],
   "source": [
    "import pandas as pd\n",
    "df = pd.read_csv(\"https://raw.githubusercontent.com/Datamanim/datarepo/main/kingcountyprice//train.csv\")\n",
    "df.head()"
   ]
  },
  {
   "cell_type": "markdown",
   "id": "868bca00",
   "metadata": {},
   "source": [
    "## Question 95\n",
    "\n",
    "bedrooms 의 빈도가 가장 높은 값을 가지는 데이터들의 price의 상위 10%와 하위 10%값의 차이를 구하여라."
   ]
  },
  {
   "cell_type": "code",
   "execution_count": null,
   "id": "e3bc8b2c",
   "metadata": {},
   "outputs": [],
   "source": []
  },
  {
   "cell_type": "markdown",
   "id": "a7fc360d",
   "metadata": {},
   "source": [
    "# 대학원 입학가능성 데이터\n",
    "데이터 출처 :https://www.kaggle.com/mohansacharya/graduate-admissions(참고, 데이터 수정)<br>\n",
    "데이터 설명 : 대학원 입학 가능성 예측<br>\n",
    "Data url :https://raw.githubusercontent.com/Datamanim/datarepo/main/admission/train.csv"
   ]
  },
  {
   "cell_type": "code",
   "execution_count": 47,
   "id": "505b71d3",
   "metadata": {},
   "outputs": [
    {
     "data": {
      "application/vnd.microsoft.datawrangler.viewer.v0+json": {
       "columns": [
        {
         "name": "index",
         "rawType": "int64",
         "type": "integer"
        },
        {
         "name": "Serial No.",
         "rawType": "int64",
         "type": "integer"
        },
        {
         "name": "GRE Score",
         "rawType": "int64",
         "type": "integer"
        },
        {
         "name": "TOEFL Score",
         "rawType": "int64",
         "type": "integer"
        },
        {
         "name": "University Rating",
         "rawType": "int64",
         "type": "integer"
        },
        {
         "name": "SOP",
         "rawType": "float64",
         "type": "float"
        },
        {
         "name": "LOR",
         "rawType": "float64",
         "type": "float"
        },
        {
         "name": "CGPA",
         "rawType": "float64",
         "type": "float"
        },
        {
         "name": "Research",
         "rawType": "int64",
         "type": "integer"
        },
        {
         "name": "Chance of Admit",
         "rawType": "float64",
         "type": "float"
        }
       ],
       "ref": "67aabf49-8f85-429d-afb8-38b33a2c8823",
       "rows": [
        [
         "0",
         "246",
         "328",
         "110",
         "4",
         "4.0",
         "2.5",
         "9.02",
         "1",
         "0.81"
        ],
        [
         "1",
         "100",
         "323",
         "113",
         "3",
         "4.0",
         "4.0",
         "8.88",
         "1",
         "0.79"
        ],
        [
         "2",
         "79",
         "296",
         "95",
         "2",
         "3.0",
         "2.0",
         "7.54",
         "1",
         "0.44"
        ],
        [
         "3",
         "53",
         "334",
         "116",
         "4",
         "4.0",
         "3.0",
         "8.0",
         "1",
         "0.78"
        ],
        [
         "4",
         "444",
         "321",
         "114",
         "5",
         "4.5",
         "4.5",
         "9.16",
         "1",
         "0.87"
        ]
       ],
       "shape": {
        "columns": 9,
        "rows": 5
       }
      },
      "text/html": [
       "<div>\n",
       "<style scoped>\n",
       "    .dataframe tbody tr th:only-of-type {\n",
       "        vertical-align: middle;\n",
       "    }\n",
       "\n",
       "    .dataframe tbody tr th {\n",
       "        vertical-align: top;\n",
       "    }\n",
       "\n",
       "    .dataframe thead th {\n",
       "        text-align: right;\n",
       "    }\n",
       "</style>\n",
       "<table border=\"1\" class=\"dataframe\">\n",
       "  <thead>\n",
       "    <tr style=\"text-align: right;\">\n",
       "      <th></th>\n",
       "      <th>Serial No.</th>\n",
       "      <th>GRE Score</th>\n",
       "      <th>TOEFL Score</th>\n",
       "      <th>University Rating</th>\n",
       "      <th>SOP</th>\n",
       "      <th>LOR</th>\n",
       "      <th>CGPA</th>\n",
       "      <th>Research</th>\n",
       "      <th>Chance of Admit</th>\n",
       "    </tr>\n",
       "  </thead>\n",
       "  <tbody>\n",
       "    <tr>\n",
       "      <th>0</th>\n",
       "      <td>246</td>\n",
       "      <td>328</td>\n",
       "      <td>110</td>\n",
       "      <td>4</td>\n",
       "      <td>4.0</td>\n",
       "      <td>2.5</td>\n",
       "      <td>9.02</td>\n",
       "      <td>1</td>\n",
       "      <td>0.81</td>\n",
       "    </tr>\n",
       "    <tr>\n",
       "      <th>1</th>\n",
       "      <td>100</td>\n",
       "      <td>323</td>\n",
       "      <td>113</td>\n",
       "      <td>3</td>\n",
       "      <td>4.0</td>\n",
       "      <td>4.0</td>\n",
       "      <td>8.88</td>\n",
       "      <td>1</td>\n",
       "      <td>0.79</td>\n",
       "    </tr>\n",
       "    <tr>\n",
       "      <th>2</th>\n",
       "      <td>79</td>\n",
       "      <td>296</td>\n",
       "      <td>95</td>\n",
       "      <td>2</td>\n",
       "      <td>3.0</td>\n",
       "      <td>2.0</td>\n",
       "      <td>7.54</td>\n",
       "      <td>1</td>\n",
       "      <td>0.44</td>\n",
       "    </tr>\n",
       "    <tr>\n",
       "      <th>3</th>\n",
       "      <td>53</td>\n",
       "      <td>334</td>\n",
       "      <td>116</td>\n",
       "      <td>4</td>\n",
       "      <td>4.0</td>\n",
       "      <td>3.0</td>\n",
       "      <td>8.00</td>\n",
       "      <td>1</td>\n",
       "      <td>0.78</td>\n",
       "    </tr>\n",
       "    <tr>\n",
       "      <th>4</th>\n",
       "      <td>444</td>\n",
       "      <td>321</td>\n",
       "      <td>114</td>\n",
       "      <td>5</td>\n",
       "      <td>4.5</td>\n",
       "      <td>4.5</td>\n",
       "      <td>9.16</td>\n",
       "      <td>1</td>\n",
       "      <td>0.87</td>\n",
       "    </tr>\n",
       "  </tbody>\n",
       "</table>\n",
       "</div>"
      ],
      "text/plain": [
       "   Serial No.  GRE Score  TOEFL Score  University Rating  SOP  LOR  CGPA  \\\n",
       "0         246        328          110                  4  4.0  2.5  9.02   \n",
       "1         100        323          113                  3  4.0  4.0  8.88   \n",
       "2          79        296           95                  2  3.0  2.0  7.54   \n",
       "3          53        334          116                  4  4.0  3.0  8.00   \n",
       "4         444        321          114                  5  4.5  4.5  9.16   \n",
       "\n",
       "   Research  Chance of Admit  \n",
       "0         1             0.81  \n",
       "1         1             0.79  \n",
       "2         1             0.44  \n",
       "3         1             0.78  \n",
       "4         1             0.87  "
      ]
     },
     "execution_count": 47,
     "metadata": {},
     "output_type": "execute_result"
    }
   ],
   "source": [
    "import pandas as pd\n",
    "df = pd.read_csv(\"https://raw.githubusercontent.com/Datamanim/datarepo/main/admission/train.csv\")\n",
    "df.head()"
   ]
  },
  {
   "cell_type": "markdown",
   "id": "4f138325",
   "metadata": {},
   "source": [
    "## Question 96\n",
    "\n",
    "Serial No. 컬럼을 제외하고 ‘Chance of Admit’을 종속변수, 나머지 변수를 독립변수라 할때, 랜덤포레스트를 통해 회귀 예측을 할 떄 변수중요도 값을 출력하라 (시드값에 따라 순서는 달라질수 있음)."
   ]
  },
  {
   "cell_type": "code",
   "execution_count": null,
   "id": "05b2f525",
   "metadata": {},
   "outputs": [],
   "source": []
  },
  {
   "cell_type": "markdown",
   "id": "6ea80d06",
   "metadata": {},
   "source": [
    "# 레드 와인 퀄리티 예측 데이터\n",
    "데이터 출처 :https://www.kaggle.com/uciml/red-wine-quality-cortez-et-al-2009(참고, 데이터 수정)<br>\n",
    "데이터 설명 : 레드 와인 퀄리티 예측문제<br>\n",
    "Data url :https://raw.githubusercontent.com/Datamanim/datarepo/main/redwine/train.csv"
   ]
  },
  {
   "cell_type": "code",
   "execution_count": 48,
   "id": "309b3a9a",
   "metadata": {},
   "outputs": [
    {
     "data": {
      "application/vnd.microsoft.datawrangler.viewer.v0+json": {
       "columns": [
        {
         "name": "index",
         "rawType": "int64",
         "type": "integer"
        },
        {
         "name": "fixed acidity",
         "rawType": "float64",
         "type": "float"
        },
        {
         "name": "volatile acidity",
         "rawType": "float64",
         "type": "float"
        },
        {
         "name": "citric acid",
         "rawType": "float64",
         "type": "float"
        },
        {
         "name": "residual sugar",
         "rawType": "float64",
         "type": "float"
        },
        {
         "name": "chlorides",
         "rawType": "float64",
         "type": "float"
        },
        {
         "name": "free sulfur dioxide",
         "rawType": "float64",
         "type": "float"
        },
        {
         "name": "total sulfur dioxide",
         "rawType": "float64",
         "type": "float"
        },
        {
         "name": "density",
         "rawType": "float64",
         "type": "float"
        },
        {
         "name": "pH",
         "rawType": "float64",
         "type": "float"
        },
        {
         "name": "sulphates",
         "rawType": "float64",
         "type": "float"
        },
        {
         "name": "alcohol",
         "rawType": "float64",
         "type": "float"
        },
        {
         "name": "quality",
         "rawType": "int64",
         "type": "integer"
        }
       ],
       "ref": "8610d4a4-f8a9-4974-8cb5-6be06ef00e30",
       "rows": [
        [
         "0",
         "5.0",
         "0.38",
         "0.01",
         "1.6",
         "0.048",
         "26.0",
         "60.0",
         "0.99084",
         "3.7",
         "0.75",
         "14.0",
         "6"
        ],
        [
         "1",
         "5.0",
         "0.42",
         "0.24",
         "2.0",
         "0.06",
         "19.0",
         "50.0",
         "0.9917",
         "3.72",
         "0.74",
         "14.0",
         "8"
        ],
        [
         "2",
         "7.1",
         "0.36",
         "0.3",
         "1.6",
         "0.08",
         "35.0",
         "70.0",
         "0.99693",
         "3.44",
         "0.5",
         "9.4",
         "5"
        ],
        [
         "3",
         "7.6",
         "0.29",
         "0.49",
         "2.7",
         "0.092",
         "25.0",
         "60.0",
         "0.9971",
         "3.31",
         "0.61",
         "10.1",
         "6"
        ],
        [
         "4",
         "7.7",
         "0.51",
         "0.28",
         "2.1",
         "0.087",
         "23.0",
         "54.0",
         "0.998",
         "3.42",
         "0.74",
         "9.2",
         "5"
        ]
       ],
       "shape": {
        "columns": 12,
        "rows": 5
       }
      },
      "text/html": [
       "<div>\n",
       "<style scoped>\n",
       "    .dataframe tbody tr th:only-of-type {\n",
       "        vertical-align: middle;\n",
       "    }\n",
       "\n",
       "    .dataframe tbody tr th {\n",
       "        vertical-align: top;\n",
       "    }\n",
       "\n",
       "    .dataframe thead th {\n",
       "        text-align: right;\n",
       "    }\n",
       "</style>\n",
       "<table border=\"1\" class=\"dataframe\">\n",
       "  <thead>\n",
       "    <tr style=\"text-align: right;\">\n",
       "      <th></th>\n",
       "      <th>fixed acidity</th>\n",
       "      <th>volatile acidity</th>\n",
       "      <th>citric acid</th>\n",
       "      <th>residual sugar</th>\n",
       "      <th>chlorides</th>\n",
       "      <th>free sulfur dioxide</th>\n",
       "      <th>total sulfur dioxide</th>\n",
       "      <th>density</th>\n",
       "      <th>pH</th>\n",
       "      <th>sulphates</th>\n",
       "      <th>alcohol</th>\n",
       "      <th>quality</th>\n",
       "    </tr>\n",
       "  </thead>\n",
       "  <tbody>\n",
       "    <tr>\n",
       "      <th>0</th>\n",
       "      <td>5.0</td>\n",
       "      <td>0.38</td>\n",
       "      <td>0.01</td>\n",
       "      <td>1.6</td>\n",
       "      <td>0.048</td>\n",
       "      <td>26.0</td>\n",
       "      <td>60.0</td>\n",
       "      <td>0.99084</td>\n",
       "      <td>3.70</td>\n",
       "      <td>0.75</td>\n",
       "      <td>14.0</td>\n",
       "      <td>6</td>\n",
       "    </tr>\n",
       "    <tr>\n",
       "      <th>1</th>\n",
       "      <td>5.0</td>\n",
       "      <td>0.42</td>\n",
       "      <td>0.24</td>\n",
       "      <td>2.0</td>\n",
       "      <td>0.060</td>\n",
       "      <td>19.0</td>\n",
       "      <td>50.0</td>\n",
       "      <td>0.99170</td>\n",
       "      <td>3.72</td>\n",
       "      <td>0.74</td>\n",
       "      <td>14.0</td>\n",
       "      <td>8</td>\n",
       "    </tr>\n",
       "    <tr>\n",
       "      <th>2</th>\n",
       "      <td>7.1</td>\n",
       "      <td>0.36</td>\n",
       "      <td>0.30</td>\n",
       "      <td>1.6</td>\n",
       "      <td>0.080</td>\n",
       "      <td>35.0</td>\n",
       "      <td>70.0</td>\n",
       "      <td>0.99693</td>\n",
       "      <td>3.44</td>\n",
       "      <td>0.50</td>\n",
       "      <td>9.4</td>\n",
       "      <td>5</td>\n",
       "    </tr>\n",
       "    <tr>\n",
       "      <th>3</th>\n",
       "      <td>7.6</td>\n",
       "      <td>0.29</td>\n",
       "      <td>0.49</td>\n",
       "      <td>2.7</td>\n",
       "      <td>0.092</td>\n",
       "      <td>25.0</td>\n",
       "      <td>60.0</td>\n",
       "      <td>0.99710</td>\n",
       "      <td>3.31</td>\n",
       "      <td>0.61</td>\n",
       "      <td>10.1</td>\n",
       "      <td>6</td>\n",
       "    </tr>\n",
       "    <tr>\n",
       "      <th>4</th>\n",
       "      <td>7.7</td>\n",
       "      <td>0.51</td>\n",
       "      <td>0.28</td>\n",
       "      <td>2.1</td>\n",
       "      <td>0.087</td>\n",
       "      <td>23.0</td>\n",
       "      <td>54.0</td>\n",
       "      <td>0.99800</td>\n",
       "      <td>3.42</td>\n",
       "      <td>0.74</td>\n",
       "      <td>9.2</td>\n",
       "      <td>5</td>\n",
       "    </tr>\n",
       "  </tbody>\n",
       "</table>\n",
       "</div>"
      ],
      "text/plain": [
       "   fixed acidity  volatile acidity  citric acid  residual sugar  chlorides  \\\n",
       "0            5.0              0.38         0.01             1.6      0.048   \n",
       "1            5.0              0.42         0.24             2.0      0.060   \n",
       "2            7.1              0.36         0.30             1.6      0.080   \n",
       "3            7.6              0.29         0.49             2.7      0.092   \n",
       "4            7.7              0.51         0.28             2.1      0.087   \n",
       "\n",
       "   free sulfur dioxide  total sulfur dioxide  density    pH  sulphates  \\\n",
       "0                 26.0                  60.0  0.99084  3.70       0.75   \n",
       "1                 19.0                  50.0  0.99170  3.72       0.74   \n",
       "2                 35.0                  70.0  0.99693  3.44       0.50   \n",
       "3                 25.0                  60.0  0.99710  3.31       0.61   \n",
       "4                 23.0                  54.0  0.99800  3.42       0.74   \n",
       "\n",
       "   alcohol  quality  \n",
       "0     14.0        6  \n",
       "1     14.0        8  \n",
       "2      9.4        5  \n",
       "3     10.1        6  \n",
       "4      9.2        5  "
      ]
     },
     "execution_count": 48,
     "metadata": {},
     "output_type": "execute_result"
    }
   ],
   "source": [
    "import pandas as pd\n",
    "df = pd.read_csv(\"https://raw.githubusercontent.com/Datamanim/datarepo/main/redwine/train.csv\")\n",
    "df.head()"
   ]
  },
  {
   "cell_type": "markdown",
   "id": "40655ebc",
   "metadata": {},
   "source": [
    "## Question 97\n",
    "\n",
    "quality 값이 3인 그룹과 8인 데이터그룹의 각 컬럼별 독립변수의 표준편차 값의 차이를 구할때 그값이 가장 큰 컬럼명을 구하여라."
   ]
  },
  {
   "cell_type": "code",
   "execution_count": null,
   "id": "306d4e62",
   "metadata": {},
   "outputs": [],
   "source": []
  },
  {
   "cell_type": "markdown",
   "id": "35110301",
   "metadata": {},
   "source": [
    "# 약물 분류 데이터\n",
    "데이터 출처 :https://www.kaggle.com/prathamtripathi/drug-classification(참고, 데이터 수정)<br>\n",
    "데이터 설명 : 투약하는 약을 분류<br>\n",
    "Data url :https://raw.githubusercontent.com/Datamanim/datarepo/main/drug/train.csv"
   ]
  },
  {
   "cell_type": "code",
   "execution_count": 49,
   "id": "21206c04",
   "metadata": {},
   "outputs": [
    {
     "data": {
      "application/vnd.microsoft.datawrangler.viewer.v0+json": {
       "columns": [
        {
         "name": "index",
         "rawType": "int64",
         "type": "integer"
        },
        {
         "name": "Age",
         "rawType": "int64",
         "type": "integer"
        },
        {
         "name": "Sex",
         "rawType": "object",
         "type": "string"
        },
        {
         "name": "BP",
         "rawType": "object",
         "type": "string"
        },
        {
         "name": "Cholesterol",
         "rawType": "object",
         "type": "string"
        },
        {
         "name": "Na_to_K",
         "rawType": "float64",
         "type": "float"
        },
        {
         "name": "Drug",
         "rawType": "int64",
         "type": "integer"
        }
       ],
       "ref": "7401a08f-dd31-4a05-8d37-c0a0e94a20cb",
       "rows": [
        [
         "0",
         "20",
         "F",
         "NORMAL",
         "NORMAL",
         "9.281",
         "4"
        ],
        [
         "1",
         "24",
         "M",
         "HIGH",
         "NORMAL",
         "9.475",
         "1"
        ],
        [
         "2",
         "34",
         "M",
         "NORMAL",
         "HIGH",
         "22.456",
         "0"
        ],
        [
         "3",
         "17",
         "M",
         "NORMAL",
         "NORMAL",
         "10.832",
         "4"
        ],
        [
         "4",
         "72",
         "M",
         "LOW",
         "HIGH",
         "16.31",
         "0"
        ]
       ],
       "shape": {
        "columns": 6,
        "rows": 5
       }
      },
      "text/html": [
       "<div>\n",
       "<style scoped>\n",
       "    .dataframe tbody tr th:only-of-type {\n",
       "        vertical-align: middle;\n",
       "    }\n",
       "\n",
       "    .dataframe tbody tr th {\n",
       "        vertical-align: top;\n",
       "    }\n",
       "\n",
       "    .dataframe thead th {\n",
       "        text-align: right;\n",
       "    }\n",
       "</style>\n",
       "<table border=\"1\" class=\"dataframe\">\n",
       "  <thead>\n",
       "    <tr style=\"text-align: right;\">\n",
       "      <th></th>\n",
       "      <th>Age</th>\n",
       "      <th>Sex</th>\n",
       "      <th>BP</th>\n",
       "      <th>Cholesterol</th>\n",
       "      <th>Na_to_K</th>\n",
       "      <th>Drug</th>\n",
       "    </tr>\n",
       "  </thead>\n",
       "  <tbody>\n",
       "    <tr>\n",
       "      <th>0</th>\n",
       "      <td>20</td>\n",
       "      <td>F</td>\n",
       "      <td>NORMAL</td>\n",
       "      <td>NORMAL</td>\n",
       "      <td>9.281</td>\n",
       "      <td>4</td>\n",
       "    </tr>\n",
       "    <tr>\n",
       "      <th>1</th>\n",
       "      <td>24</td>\n",
       "      <td>M</td>\n",
       "      <td>HIGH</td>\n",
       "      <td>NORMAL</td>\n",
       "      <td>9.475</td>\n",
       "      <td>1</td>\n",
       "    </tr>\n",
       "    <tr>\n",
       "      <th>2</th>\n",
       "      <td>34</td>\n",
       "      <td>M</td>\n",
       "      <td>NORMAL</td>\n",
       "      <td>HIGH</td>\n",
       "      <td>22.456</td>\n",
       "      <td>0</td>\n",
       "    </tr>\n",
       "    <tr>\n",
       "      <th>3</th>\n",
       "      <td>17</td>\n",
       "      <td>M</td>\n",
       "      <td>NORMAL</td>\n",
       "      <td>NORMAL</td>\n",
       "      <td>10.832</td>\n",
       "      <td>4</td>\n",
       "    </tr>\n",
       "    <tr>\n",
       "      <th>4</th>\n",
       "      <td>72</td>\n",
       "      <td>M</td>\n",
       "      <td>LOW</td>\n",
       "      <td>HIGH</td>\n",
       "      <td>16.310</td>\n",
       "      <td>0</td>\n",
       "    </tr>\n",
       "  </tbody>\n",
       "</table>\n",
       "</div>"
      ],
      "text/plain": [
       "   Age Sex      BP Cholesterol  Na_to_K  Drug\n",
       "0   20   F  NORMAL      NORMAL    9.281     4\n",
       "1   24   M    HIGH      NORMAL    9.475     1\n",
       "2   34   M  NORMAL        HIGH   22.456     0\n",
       "3   17   M  NORMAL      NORMAL   10.832     4\n",
       "4   72   M     LOW        HIGH   16.310     0"
      ]
     },
     "execution_count": 49,
     "metadata": {},
     "output_type": "execute_result"
    }
   ],
   "source": [
    "import pandas as pd\n",
    "df = pd.read_csv(\"https://raw.githubusercontent.com/Datamanim/datarepo/main/drug/train.csv\")\n",
    "df.head()"
   ]
  },
  {
   "cell_type": "markdown",
   "id": "b1181687",
   "metadata": {},
   "source": [
    "## Question 98\n",
    "\n",
    "남성들의 연령대별 (10살씩 구분 0~9세 10~19세 …) Na_to_K값의 평균값을 구해서 데이터 프레임으로 표현하여라."
   ]
  },
  {
   "cell_type": "code",
   "execution_count": null,
   "id": "9615400a",
   "metadata": {},
   "outputs": [],
   "source": []
  },
  {
   "cell_type": "markdown",
   "id": "c9062c1d",
   "metadata": {},
   "source": [
    "# 사기회사 분류 데이터\n",
    "데이터 출처 :https://www.kaggle.com/sid321axn/audit-data(참고, 데이터 수정)<br>\n",
    "데이터 설명 : 사기회사 분류<br>\n",
    "Data url :https://raw.githubusercontent.com/Datamanim/datarepo/main/audit/train.csv"
   ]
  },
  {
   "cell_type": "code",
   "execution_count": 50,
   "id": "01d0f438",
   "metadata": {},
   "outputs": [
    {
     "data": {
      "application/vnd.microsoft.datawrangler.viewer.v0+json": {
       "columns": [
        {
         "name": "index",
         "rawType": "int64",
         "type": "integer"
        },
        {
         "name": "Sector_score",
         "rawType": "float64",
         "type": "float"
        },
        {
         "name": "LOCATION_ID",
         "rawType": "object",
         "type": "string"
        },
        {
         "name": "PARA_A",
         "rawType": "float64",
         "type": "float"
        },
        {
         "name": "Score_A",
         "rawType": "float64",
         "type": "float"
        },
        {
         "name": "Risk_A",
         "rawType": "float64",
         "type": "float"
        },
        {
         "name": "PARA_B",
         "rawType": "float64",
         "type": "float"
        },
        {
         "name": "Score_B",
         "rawType": "float64",
         "type": "float"
        },
        {
         "name": "Risk_B",
         "rawType": "float64",
         "type": "float"
        },
        {
         "name": "TOTAL",
         "rawType": "float64",
         "type": "float"
        },
        {
         "name": "numbers",
         "rawType": "float64",
         "type": "float"
        },
        {
         "name": "Score_B.1",
         "rawType": "float64",
         "type": "float"
        },
        {
         "name": "Risk_C",
         "rawType": "float64",
         "type": "float"
        },
        {
         "name": "Money_Value",
         "rawType": "float64",
         "type": "float"
        },
        {
         "name": "Score_MV",
         "rawType": "float64",
         "type": "float"
        },
        {
         "name": "Risk_D",
         "rawType": "float64",
         "type": "float"
        },
        {
         "name": "District_Loss",
         "rawType": "int64",
         "type": "integer"
        },
        {
         "name": "PROB",
         "rawType": "float64",
         "type": "float"
        },
        {
         "name": "RiSk_E",
         "rawType": "float64",
         "type": "float"
        },
        {
         "name": "History",
         "rawType": "int64",
         "type": "integer"
        },
        {
         "name": "Prob",
         "rawType": "float64",
         "type": "float"
        },
        {
         "name": "Risk_F",
         "rawType": "float64",
         "type": "float"
        },
        {
         "name": "Score",
         "rawType": "float64",
         "type": "float"
        },
        {
         "name": "Inherent_Risk",
         "rawType": "float64",
         "type": "float"
        },
        {
         "name": "CONTROL_RISK",
         "rawType": "float64",
         "type": "float"
        },
        {
         "name": "Detection_Risk",
         "rawType": "float64",
         "type": "float"
        },
        {
         "name": "Audit_Risk",
         "rawType": "float64",
         "type": "float"
        },
        {
         "name": "Risk",
         "rawType": "int64",
         "type": "integer"
        }
       ],
       "ref": "eb10b6b2-8a6a-4ec4-93d8-e8f9153f5d2b",
       "rows": [
        [
         "0",
         "2.72",
         "14",
         "4.53",
         "0.6",
         "2.718",
         "87.93",
         "0.6",
         "52.758",
         "92.46",
         "5.0",
         "0.2",
         "1.0",
         "85.81",
         "0.6",
         "51.486",
         "2",
         "0.2",
         "0.4",
         "0",
         "0.2",
         "0.0",
         "4.0",
         "108.362",
         "0.4",
         "0.5",
         "21.6724",
         "1"
        ],
        [
         "1",
         "3.41",
         "16",
         "12.68",
         "0.6",
         "7.608",
         "41.0",
         "0.6",
         "24.6",
         "53.68",
         "5.5",
         "0.4",
         "2.2",
         "11.88",
         "0.6",
         "7.128",
         "2",
         "0.2",
         "0.4",
         "0",
         "0.2",
         "0.0",
         "4.4",
         "41.936",
         "0.4",
         "0.5",
         "8.3872",
         "1"
        ],
        [
         "2",
         "2.72",
         "11",
         "3.11",
         "0.6",
         "1.866",
         "113.97",
         "0.6",
         "68.382",
         "117.08",
         "5.5",
         "0.4",
         "2.2",
         "26.64",
         "0.6",
         "15.984",
         "2",
         "0.2",
         "0.4",
         "0",
         "0.2",
         "0.0",
         "4.4",
         "88.832",
         "0.4",
         "0.5",
         "17.7664",
         "1"
        ],
        [
         "3",
         "3.41",
         "8",
         "1.12",
         "0.4",
         "0.448",
         "0.0",
         "0.2",
         "0.0",
         "1.12",
         "5.0",
         "0.2",
         "1.0",
         "0.0",
         "0.2",
         "0.0",
         "2",
         "0.2",
         "0.4",
         "0",
         "0.2",
         "0.0",
         "2.2",
         "1.848",
         "0.4",
         "0.5",
         "0.3696",
         "0"
        ],
        [
         "4",
         "55.57",
         "9",
         "1.06",
         "0.4",
         "0.424",
         "0.0",
         "0.2",
         "0.0",
         "1.06",
         "5.0",
         "0.2",
         "1.0",
         "0.0",
         "0.2",
         "0.0",
         "2",
         "0.2",
         "0.4",
         "0",
         "0.2",
         "0.0",
         "2.2",
         "1.824",
         "0.4",
         "0.5",
         "0.3648",
         "0"
        ]
       ],
       "shape": {
        "columns": 27,
        "rows": 5
       }
      },
      "text/html": [
       "<div>\n",
       "<style scoped>\n",
       "    .dataframe tbody tr th:only-of-type {\n",
       "        vertical-align: middle;\n",
       "    }\n",
       "\n",
       "    .dataframe tbody tr th {\n",
       "        vertical-align: top;\n",
       "    }\n",
       "\n",
       "    .dataframe thead th {\n",
       "        text-align: right;\n",
       "    }\n",
       "</style>\n",
       "<table border=\"1\" class=\"dataframe\">\n",
       "  <thead>\n",
       "    <tr style=\"text-align: right;\">\n",
       "      <th></th>\n",
       "      <th>Sector_score</th>\n",
       "      <th>LOCATION_ID</th>\n",
       "      <th>PARA_A</th>\n",
       "      <th>Score_A</th>\n",
       "      <th>Risk_A</th>\n",
       "      <th>PARA_B</th>\n",
       "      <th>Score_B</th>\n",
       "      <th>Risk_B</th>\n",
       "      <th>TOTAL</th>\n",
       "      <th>numbers</th>\n",
       "      <th>...</th>\n",
       "      <th>RiSk_E</th>\n",
       "      <th>History</th>\n",
       "      <th>Prob</th>\n",
       "      <th>Risk_F</th>\n",
       "      <th>Score</th>\n",
       "      <th>Inherent_Risk</th>\n",
       "      <th>CONTROL_RISK</th>\n",
       "      <th>Detection_Risk</th>\n",
       "      <th>Audit_Risk</th>\n",
       "      <th>Risk</th>\n",
       "    </tr>\n",
       "  </thead>\n",
       "  <tbody>\n",
       "    <tr>\n",
       "      <th>0</th>\n",
       "      <td>2.72</td>\n",
       "      <td>14</td>\n",
       "      <td>4.53</td>\n",
       "      <td>0.6</td>\n",
       "      <td>2.718</td>\n",
       "      <td>87.93</td>\n",
       "      <td>0.6</td>\n",
       "      <td>52.758</td>\n",
       "      <td>92.46</td>\n",
       "      <td>5.0</td>\n",
       "      <td>...</td>\n",
       "      <td>0.4</td>\n",
       "      <td>0</td>\n",
       "      <td>0.2</td>\n",
       "      <td>0.0</td>\n",
       "      <td>4.0</td>\n",
       "      <td>108.362</td>\n",
       "      <td>0.4</td>\n",
       "      <td>0.5</td>\n",
       "      <td>21.6724</td>\n",
       "      <td>1</td>\n",
       "    </tr>\n",
       "    <tr>\n",
       "      <th>1</th>\n",
       "      <td>3.41</td>\n",
       "      <td>16</td>\n",
       "      <td>12.68</td>\n",
       "      <td>0.6</td>\n",
       "      <td>7.608</td>\n",
       "      <td>41.00</td>\n",
       "      <td>0.6</td>\n",
       "      <td>24.600</td>\n",
       "      <td>53.68</td>\n",
       "      <td>5.5</td>\n",
       "      <td>...</td>\n",
       "      <td>0.4</td>\n",
       "      <td>0</td>\n",
       "      <td>0.2</td>\n",
       "      <td>0.0</td>\n",
       "      <td>4.4</td>\n",
       "      <td>41.936</td>\n",
       "      <td>0.4</td>\n",
       "      <td>0.5</td>\n",
       "      <td>8.3872</td>\n",
       "      <td>1</td>\n",
       "    </tr>\n",
       "    <tr>\n",
       "      <th>2</th>\n",
       "      <td>2.72</td>\n",
       "      <td>11</td>\n",
       "      <td>3.11</td>\n",
       "      <td>0.6</td>\n",
       "      <td>1.866</td>\n",
       "      <td>113.97</td>\n",
       "      <td>0.6</td>\n",
       "      <td>68.382</td>\n",
       "      <td>117.08</td>\n",
       "      <td>5.5</td>\n",
       "      <td>...</td>\n",
       "      <td>0.4</td>\n",
       "      <td>0</td>\n",
       "      <td>0.2</td>\n",
       "      <td>0.0</td>\n",
       "      <td>4.4</td>\n",
       "      <td>88.832</td>\n",
       "      <td>0.4</td>\n",
       "      <td>0.5</td>\n",
       "      <td>17.7664</td>\n",
       "      <td>1</td>\n",
       "    </tr>\n",
       "    <tr>\n",
       "      <th>3</th>\n",
       "      <td>3.41</td>\n",
       "      <td>8</td>\n",
       "      <td>1.12</td>\n",
       "      <td>0.4</td>\n",
       "      <td>0.448</td>\n",
       "      <td>0.00</td>\n",
       "      <td>0.2</td>\n",
       "      <td>0.000</td>\n",
       "      <td>1.12</td>\n",
       "      <td>5.0</td>\n",
       "      <td>...</td>\n",
       "      <td>0.4</td>\n",
       "      <td>0</td>\n",
       "      <td>0.2</td>\n",
       "      <td>0.0</td>\n",
       "      <td>2.2</td>\n",
       "      <td>1.848</td>\n",
       "      <td>0.4</td>\n",
       "      <td>0.5</td>\n",
       "      <td>0.3696</td>\n",
       "      <td>0</td>\n",
       "    </tr>\n",
       "    <tr>\n",
       "      <th>4</th>\n",
       "      <td>55.57</td>\n",
       "      <td>9</td>\n",
       "      <td>1.06</td>\n",
       "      <td>0.4</td>\n",
       "      <td>0.424</td>\n",
       "      <td>0.00</td>\n",
       "      <td>0.2</td>\n",
       "      <td>0.000</td>\n",
       "      <td>1.06</td>\n",
       "      <td>5.0</td>\n",
       "      <td>...</td>\n",
       "      <td>0.4</td>\n",
       "      <td>0</td>\n",
       "      <td>0.2</td>\n",
       "      <td>0.0</td>\n",
       "      <td>2.2</td>\n",
       "      <td>1.824</td>\n",
       "      <td>0.4</td>\n",
       "      <td>0.5</td>\n",
       "      <td>0.3648</td>\n",
       "      <td>0</td>\n",
       "    </tr>\n",
       "  </tbody>\n",
       "</table>\n",
       "<p>5 rows × 27 columns</p>\n",
       "</div>"
      ],
      "text/plain": [
       "   Sector_score LOCATION_ID  PARA_A  Score_A  Risk_A  PARA_B  Score_B  Risk_B  \\\n",
       "0          2.72          14    4.53      0.6   2.718   87.93      0.6  52.758   \n",
       "1          3.41          16   12.68      0.6   7.608   41.00      0.6  24.600   \n",
       "2          2.72          11    3.11      0.6   1.866  113.97      0.6  68.382   \n",
       "3          3.41           8    1.12      0.4   0.448    0.00      0.2   0.000   \n",
       "4         55.57           9    1.06      0.4   0.424    0.00      0.2   0.000   \n",
       "\n",
       "    TOTAL  numbers  ...  RiSk_E  History  Prob  Risk_F  Score  Inherent_Risk  \\\n",
       "0   92.46      5.0  ...     0.4        0   0.2     0.0    4.0        108.362   \n",
       "1   53.68      5.5  ...     0.4        0   0.2     0.0    4.4         41.936   \n",
       "2  117.08      5.5  ...     0.4        0   0.2     0.0    4.4         88.832   \n",
       "3    1.12      5.0  ...     0.4        0   0.2     0.0    2.2          1.848   \n",
       "4    1.06      5.0  ...     0.4        0   0.2     0.0    2.2          1.824   \n",
       "\n",
       "   CONTROL_RISK  Detection_Risk  Audit_Risk  Risk  \n",
       "0           0.4             0.5     21.6724     1  \n",
       "1           0.4             0.5      8.3872     1  \n",
       "2           0.4             0.5     17.7664     1  \n",
       "3           0.4             0.5      0.3696     0  \n",
       "4           0.4             0.5      0.3648     0  \n",
       "\n",
       "[5 rows x 27 columns]"
      ]
     },
     "execution_count": 50,
     "metadata": {},
     "output_type": "execute_result"
    }
   ],
   "source": [
    "import pandas as pd\n",
    "df = pd.read_csv(\"https://raw.githubusercontent.com/Datamanim/datarepo/main/audit/train.csv\")\n",
    "df.head()"
   ]
  },
  {
   "cell_type": "markdown",
   "id": "29e00dfe",
   "metadata": {},
   "source": [
    "## Question 99\n",
    "\n",
    "데이터의 Risk 값에 따른 score_a와 score_b의 평균값을 구하여라."
   ]
  },
  {
   "cell_type": "markdown",
   "id": "67707032",
   "metadata": {},
   "source": [
    "# 센서데이터 동작유형 분류 데이터\n",
    "데이터 출처 :https://www.kaggle.com/kyr7plus/emg-4(참고, 데이터 수정)<br>\n",
    "데이터 설명 : 센서데이터로 동작 유형 분류<br>\n",
    "Data url :https://raw.githubusercontent.com/Datamanim/datarepo/main/muscle/train.csv"
   ]
  },
  {
   "cell_type": "code",
   "execution_count": 51,
   "id": "7280f623",
   "metadata": {},
   "outputs": [
    {
     "data": {
      "application/vnd.microsoft.datawrangler.viewer.v0+json": {
       "columns": [
        {
         "name": "index",
         "rawType": "int64",
         "type": "integer"
        },
        {
         "name": "motion_0",
         "rawType": "float64",
         "type": "float"
        },
        {
         "name": "motion_1",
         "rawType": "float64",
         "type": "float"
        },
        {
         "name": "motion_2",
         "rawType": "float64",
         "type": "float"
        },
        {
         "name": "motion_3",
         "rawType": "float64",
         "type": "float"
        },
        {
         "name": "motion_4",
         "rawType": "float64",
         "type": "float"
        },
        {
         "name": "motion_5",
         "rawType": "float64",
         "type": "float"
        },
        {
         "name": "motion_6",
         "rawType": "float64",
         "type": "float"
        },
        {
         "name": "motion_7",
         "rawType": "float64",
         "type": "float"
        },
        {
         "name": "motion_8",
         "rawType": "float64",
         "type": "float"
        },
        {
         "name": "motion_9",
         "rawType": "float64",
         "type": "float"
        },
        {
         "name": "motion_10",
         "rawType": "float64",
         "type": "float"
        },
        {
         "name": "motion_11",
         "rawType": "float64",
         "type": "float"
        },
        {
         "name": "motion_12",
         "rawType": "float64",
         "type": "float"
        },
        {
         "name": "motion_13",
         "rawType": "float64",
         "type": "float"
        },
        {
         "name": "motion_14",
         "rawType": "float64",
         "type": "float"
        },
        {
         "name": "motion_15",
         "rawType": "float64",
         "type": "float"
        },
        {
         "name": "motion_16",
         "rawType": "float64",
         "type": "float"
        },
        {
         "name": "motion_17",
         "rawType": "float64",
         "type": "float"
        },
        {
         "name": "motion_18",
         "rawType": "float64",
         "type": "float"
        },
        {
         "name": "motion_19",
         "rawType": "float64",
         "type": "float"
        },
        {
         "name": "motion_20",
         "rawType": "float64",
         "type": "float"
        },
        {
         "name": "motion_21",
         "rawType": "float64",
         "type": "float"
        },
        {
         "name": "motion_22",
         "rawType": "float64",
         "type": "float"
        },
        {
         "name": "motion_23",
         "rawType": "float64",
         "type": "float"
        },
        {
         "name": "motion_24",
         "rawType": "float64",
         "type": "float"
        },
        {
         "name": "motion_25",
         "rawType": "float64",
         "type": "float"
        },
        {
         "name": "motion_26",
         "rawType": "float64",
         "type": "float"
        },
        {
         "name": "motion_27",
         "rawType": "float64",
         "type": "float"
        },
        {
         "name": "motion_28",
         "rawType": "float64",
         "type": "float"
        },
        {
         "name": "motion_29",
         "rawType": "float64",
         "type": "float"
        },
        {
         "name": "motion_30",
         "rawType": "float64",
         "type": "float"
        },
        {
         "name": "motion_31",
         "rawType": "float64",
         "type": "float"
        },
        {
         "name": "motion_32",
         "rawType": "float64",
         "type": "float"
        },
        {
         "name": "motion_33",
         "rawType": "float64",
         "type": "float"
        },
        {
         "name": "motion_34",
         "rawType": "float64",
         "type": "float"
        },
        {
         "name": "motion_35",
         "rawType": "float64",
         "type": "float"
        },
        {
         "name": "motion_36",
         "rawType": "float64",
         "type": "float"
        },
        {
         "name": "motion_37",
         "rawType": "float64",
         "type": "float"
        },
        {
         "name": "motion_38",
         "rawType": "float64",
         "type": "float"
        },
        {
         "name": "motion_39",
         "rawType": "float64",
         "type": "float"
        },
        {
         "name": "motion_40",
         "rawType": "float64",
         "type": "float"
        },
        {
         "name": "motion_41",
         "rawType": "float64",
         "type": "float"
        },
        {
         "name": "motion_42",
         "rawType": "float64",
         "type": "float"
        },
        {
         "name": "motion_43",
         "rawType": "float64",
         "type": "float"
        },
        {
         "name": "motion_44",
         "rawType": "float64",
         "type": "float"
        },
        {
         "name": "motion_45",
         "rawType": "float64",
         "type": "float"
        },
        {
         "name": "motion_46",
         "rawType": "float64",
         "type": "float"
        },
        {
         "name": "motion_47",
         "rawType": "float64",
         "type": "float"
        },
        {
         "name": "motion_48",
         "rawType": "float64",
         "type": "float"
        },
        {
         "name": "motion_49",
         "rawType": "float64",
         "type": "float"
        },
        {
         "name": "motion_50",
         "rawType": "float64",
         "type": "float"
        },
        {
         "name": "motion_51",
         "rawType": "float64",
         "type": "float"
        },
        {
         "name": "motion_52",
         "rawType": "float64",
         "type": "float"
        },
        {
         "name": "motion_53",
         "rawType": "float64",
         "type": "float"
        },
        {
         "name": "motion_54",
         "rawType": "float64",
         "type": "float"
        },
        {
         "name": "motion_55",
         "rawType": "float64",
         "type": "float"
        },
        {
         "name": "motion_56",
         "rawType": "float64",
         "type": "float"
        },
        {
         "name": "motion_57",
         "rawType": "float64",
         "type": "float"
        },
        {
         "name": "motion_58",
         "rawType": "float64",
         "type": "float"
        },
        {
         "name": "motion_59",
         "rawType": "float64",
         "type": "float"
        },
        {
         "name": "motion_60",
         "rawType": "float64",
         "type": "float"
        },
        {
         "name": "motion_61",
         "rawType": "float64",
         "type": "float"
        },
        {
         "name": "motion_62",
         "rawType": "float64",
         "type": "float"
        },
        {
         "name": "motion_63",
         "rawType": "float64",
         "type": "float"
        },
        {
         "name": "pose",
         "rawType": "int64",
         "type": "integer"
        }
       ],
       "ref": "dbb456ab-478f-43ec-9126-0961894410b7",
       "rows": [
        [
         "0",
         "-6.0",
         "8.0",
         "5.0",
         "6.0",
         "-12.0",
         "-27.0",
         "5.0",
         "24.0",
         "-8.0",
         "-5.0",
         "-3.0",
         "-2.0",
         "5.0",
         "13.0",
         "-3.0",
         "-13.0",
         "10.0",
         "-3.0",
         "-1.0",
         "-1.0",
         "-2.0",
         "6.0",
         "-1.0",
         "-1.0",
         "-9.0",
         "0.0",
         "-1.0",
         "-1.0",
         "-3.0",
         "-27.0",
         "-2.0",
         "7.0",
         "9.0",
         "0.0",
         "-3.0",
         "-3.0",
         "23.0",
         "28.0",
         "1.0",
         "-17.0",
         "11.0",
         "-2.0",
         "1.0",
         "1.0",
         "-8.0",
         "9.0",
         "1.0",
         "3.0",
         "-19.0",
         "-2.0",
         "1.0",
         "3.0",
         "-8.0",
         "-11.0",
         "0.0",
         "-1.0",
         "-3.0",
         "-6.0",
         "-9.0",
         "-7.0",
         "36.0",
         "68.0",
         "3.0",
         "-3.0",
         "1"
        ],
        [
         "1",
         "-32.0",
         "-3.0",
         "-4.0",
         "-5.0",
         "-1.0",
         "16.0",
         "0.0",
         "-5.0",
         "42.0",
         "2.0",
         "0.0",
         "-3.0",
         "-14.0",
         "-23.0",
         "-5.0",
         "-14.0",
         "3.0",
         "-4.0",
         "-4.0",
         "-4.0",
         "11.0",
         "9.0",
         "-2.0",
         "4.0",
         "-13.0",
         "-1.0",
         "2.0",
         "4.0",
         "-5.0",
         "4.0",
         "5.0",
         "6.0",
         "-9.0",
         "-3.0",
         "-1.0",
         "1.0",
         "-15.0",
         "-22.0",
         "-7.0",
         "0.0",
         "-9.0",
         "3.0",
         "-1.0",
         "-1.0",
         "13.0",
         "19.0",
         "0.0",
         "3.0",
         "-6.0",
         "-7.0",
         "1.0",
         "-4.0",
         "19.0",
         "20.0",
         "-3.0",
         "-17.0",
         "-12.0",
         "-1.0",
         "-1.0",
         "0.0",
         "-26.0",
         "-11.0",
         "-4.0",
         "-9.0",
         "1"
        ],
        [
         "2",
         "35.0",
         "-2.0",
         "-1.0",
         "1.0",
         "-25.0",
         "-16.0",
         "-3.0",
         "-20.0",
         "10.0",
         "1.0",
         "1.0",
         "-1.0",
         "22.0",
         "20.0",
         "13.0",
         "39.0",
         "-5.0",
         "10.0",
         "0.0",
         "8.0",
         "2.0",
         "6.0",
         "2.0",
         "-2.0",
         "-6.0",
         "-1.0",
         "-5.0",
         "-4.0",
         "0.0",
         "20.0",
         "35.0",
         "11.0",
         "-23.0",
         "-4.0",
         "-3.0",
         "-5.0",
         "-5.0",
         "-1.0",
         "-12.0",
         "-10.0",
         "14.0",
         "3.0",
         "7.0",
         "12.0",
         "6.0",
         "-19.0",
         "-24.0",
         "-10.0",
         "-12.0",
         "-14.0",
         "7.0",
         "12.0",
         "14.0",
         "2.0",
         "4.0",
         "6.0",
         "-65.0",
         "6.0",
         "-10.0",
         "-31.0",
         "-19.0",
         "-3.0",
         "-47.0",
         "-17.0",
         "0"
        ],
        [
         "3",
         "-15.0",
         "-6.0",
         "-3.0",
         "-5.0",
         "27.0",
         "37.0",
         "-2.0",
         "-2.0",
         "19.0",
         "5.0",
         "2.0",
         "4.0",
         "-19.0",
         "4.0",
         "1.0",
         "-1.0",
         "24.0",
         "2.0",
         "0.0",
         "0.0",
         "-2.0",
         "-25.0",
         "-2.0",
         "6.0",
         "-1.0",
         "-1.0",
         "0.0",
         "-2.0",
         "13.0",
         "3.0",
         "0.0",
         "-4.0",
         "-10.0",
         "0.0",
         "0.0",
         "2.0",
         "7.0",
         "10.0",
         "1.0",
         "-7.0",
         "-12.0",
         "0.0",
         "1.0",
         "-2.0",
         "-14.0",
         "-17.0",
         "-4.0",
         "-13.0",
         "5.0",
         "1.0",
         "1.0",
         "4.0",
         "16.0",
         "4.0",
         "-1.0",
         "2.0",
         "11.0",
         "0.0",
         "-2.0",
         "-4.0",
         "-7.0",
         "15.0",
         "3.0",
         "14.0",
         "1"
        ],
        [
         "4",
         "60.0",
         "3.0",
         "0.0",
         "-7.0",
         "-6.0",
         "-10.0",
         "-6.0",
         "7.0",
         "-11.0",
         "-4.0",
         "0.0",
         "1.0",
         "-8.0",
         "-4.0",
         "-4.0",
         "-6.0",
         "-9.0",
         "-2.0",
         "-4.0",
         "0.0",
         "12.0",
         "2.0",
         "-7.0",
         "-4.0",
         "52.0",
         "4.0",
         "0.0",
         "3.0",
         "5.0",
         "4.0",
         "15.0",
         "4.0",
         "-46.0",
         "-7.0",
         "-1.0",
         "6.0",
         "-10.0",
         "8.0",
         "-14.0",
         "-3.0",
         "-29.0",
         "1.0",
         "-1.0",
         "2.0",
         "6.0",
         "-2.0",
         "-6.0",
         "-5.0",
         "20.0",
         "3.0",
         "-4.0",
         "-25.0",
         "4.0",
         "-5.0",
         "10.0",
         "-12.0",
         "17.0",
         "-3.0",
         "1.0",
         "2.0",
         "-2.0",
         "20.0",
         "18.0",
         "10.0",
         "0"
        ]
       ],
       "shape": {
        "columns": 65,
        "rows": 5
       }
      },
      "text/html": [
       "<div>\n",
       "<style scoped>\n",
       "    .dataframe tbody tr th:only-of-type {\n",
       "        vertical-align: middle;\n",
       "    }\n",
       "\n",
       "    .dataframe tbody tr th {\n",
       "        vertical-align: top;\n",
       "    }\n",
       "\n",
       "    .dataframe thead th {\n",
       "        text-align: right;\n",
       "    }\n",
       "</style>\n",
       "<table border=\"1\" class=\"dataframe\">\n",
       "  <thead>\n",
       "    <tr style=\"text-align: right;\">\n",
       "      <th></th>\n",
       "      <th>motion_0</th>\n",
       "      <th>motion_1</th>\n",
       "      <th>motion_2</th>\n",
       "      <th>motion_3</th>\n",
       "      <th>motion_4</th>\n",
       "      <th>motion_5</th>\n",
       "      <th>motion_6</th>\n",
       "      <th>motion_7</th>\n",
       "      <th>motion_8</th>\n",
       "      <th>motion_9</th>\n",
       "      <th>...</th>\n",
       "      <th>motion_55</th>\n",
       "      <th>motion_56</th>\n",
       "      <th>motion_57</th>\n",
       "      <th>motion_58</th>\n",
       "      <th>motion_59</th>\n",
       "      <th>motion_60</th>\n",
       "      <th>motion_61</th>\n",
       "      <th>motion_62</th>\n",
       "      <th>motion_63</th>\n",
       "      <th>pose</th>\n",
       "    </tr>\n",
       "  </thead>\n",
       "  <tbody>\n",
       "    <tr>\n",
       "      <th>0</th>\n",
       "      <td>-6.0</td>\n",
       "      <td>8.0</td>\n",
       "      <td>5.0</td>\n",
       "      <td>6.0</td>\n",
       "      <td>-12.0</td>\n",
       "      <td>-27.0</td>\n",
       "      <td>5.0</td>\n",
       "      <td>24.0</td>\n",
       "      <td>-8.0</td>\n",
       "      <td>-5.0</td>\n",
       "      <td>...</td>\n",
       "      <td>-1.0</td>\n",
       "      <td>-3.0</td>\n",
       "      <td>-6.0</td>\n",
       "      <td>-9.0</td>\n",
       "      <td>-7.0</td>\n",
       "      <td>36.0</td>\n",
       "      <td>68.0</td>\n",
       "      <td>3.0</td>\n",
       "      <td>-3.0</td>\n",
       "      <td>1</td>\n",
       "    </tr>\n",
       "    <tr>\n",
       "      <th>1</th>\n",
       "      <td>-32.0</td>\n",
       "      <td>-3.0</td>\n",
       "      <td>-4.0</td>\n",
       "      <td>-5.0</td>\n",
       "      <td>-1.0</td>\n",
       "      <td>16.0</td>\n",
       "      <td>0.0</td>\n",
       "      <td>-5.0</td>\n",
       "      <td>42.0</td>\n",
       "      <td>2.0</td>\n",
       "      <td>...</td>\n",
       "      <td>-17.0</td>\n",
       "      <td>-12.0</td>\n",
       "      <td>-1.0</td>\n",
       "      <td>-1.0</td>\n",
       "      <td>0.0</td>\n",
       "      <td>-26.0</td>\n",
       "      <td>-11.0</td>\n",
       "      <td>-4.0</td>\n",
       "      <td>-9.0</td>\n",
       "      <td>1</td>\n",
       "    </tr>\n",
       "    <tr>\n",
       "      <th>2</th>\n",
       "      <td>35.0</td>\n",
       "      <td>-2.0</td>\n",
       "      <td>-1.0</td>\n",
       "      <td>1.0</td>\n",
       "      <td>-25.0</td>\n",
       "      <td>-16.0</td>\n",
       "      <td>-3.0</td>\n",
       "      <td>-20.0</td>\n",
       "      <td>10.0</td>\n",
       "      <td>1.0</td>\n",
       "      <td>...</td>\n",
       "      <td>6.0</td>\n",
       "      <td>-65.0</td>\n",
       "      <td>6.0</td>\n",
       "      <td>-10.0</td>\n",
       "      <td>-31.0</td>\n",
       "      <td>-19.0</td>\n",
       "      <td>-3.0</td>\n",
       "      <td>-47.0</td>\n",
       "      <td>-17.0</td>\n",
       "      <td>0</td>\n",
       "    </tr>\n",
       "    <tr>\n",
       "      <th>3</th>\n",
       "      <td>-15.0</td>\n",
       "      <td>-6.0</td>\n",
       "      <td>-3.0</td>\n",
       "      <td>-5.0</td>\n",
       "      <td>27.0</td>\n",
       "      <td>37.0</td>\n",
       "      <td>-2.0</td>\n",
       "      <td>-2.0</td>\n",
       "      <td>19.0</td>\n",
       "      <td>5.0</td>\n",
       "      <td>...</td>\n",
       "      <td>2.0</td>\n",
       "      <td>11.0</td>\n",
       "      <td>0.0</td>\n",
       "      <td>-2.0</td>\n",
       "      <td>-4.0</td>\n",
       "      <td>-7.0</td>\n",
       "      <td>15.0</td>\n",
       "      <td>3.0</td>\n",
       "      <td>14.0</td>\n",
       "      <td>1</td>\n",
       "    </tr>\n",
       "    <tr>\n",
       "      <th>4</th>\n",
       "      <td>60.0</td>\n",
       "      <td>3.0</td>\n",
       "      <td>0.0</td>\n",
       "      <td>-7.0</td>\n",
       "      <td>-6.0</td>\n",
       "      <td>-10.0</td>\n",
       "      <td>-6.0</td>\n",
       "      <td>7.0</td>\n",
       "      <td>-11.0</td>\n",
       "      <td>-4.0</td>\n",
       "      <td>...</td>\n",
       "      <td>-12.0</td>\n",
       "      <td>17.0</td>\n",
       "      <td>-3.0</td>\n",
       "      <td>1.0</td>\n",
       "      <td>2.0</td>\n",
       "      <td>-2.0</td>\n",
       "      <td>20.0</td>\n",
       "      <td>18.0</td>\n",
       "      <td>10.0</td>\n",
       "      <td>0</td>\n",
       "    </tr>\n",
       "  </tbody>\n",
       "</table>\n",
       "<p>5 rows × 65 columns</p>\n",
       "</div>"
      ],
      "text/plain": [
       "   motion_0  motion_1  motion_2  motion_3  motion_4  motion_5  motion_6  \\\n",
       "0      -6.0       8.0       5.0       6.0     -12.0     -27.0       5.0   \n",
       "1     -32.0      -3.0      -4.0      -5.0      -1.0      16.0       0.0   \n",
       "2      35.0      -2.0      -1.0       1.0     -25.0     -16.0      -3.0   \n",
       "3     -15.0      -6.0      -3.0      -5.0      27.0      37.0      -2.0   \n",
       "4      60.0       3.0       0.0      -7.0      -6.0     -10.0      -6.0   \n",
       "\n",
       "   motion_7  motion_8  motion_9  ...  motion_55  motion_56  motion_57  \\\n",
       "0      24.0      -8.0      -5.0  ...       -1.0       -3.0       -6.0   \n",
       "1      -5.0      42.0       2.0  ...      -17.0      -12.0       -1.0   \n",
       "2     -20.0      10.0       1.0  ...        6.0      -65.0        6.0   \n",
       "3      -2.0      19.0       5.0  ...        2.0       11.0        0.0   \n",
       "4       7.0     -11.0      -4.0  ...      -12.0       17.0       -3.0   \n",
       "\n",
       "   motion_58  motion_59  motion_60  motion_61  motion_62  motion_63  pose  \n",
       "0       -9.0       -7.0       36.0       68.0        3.0       -3.0     1  \n",
       "1       -1.0        0.0      -26.0      -11.0       -4.0       -9.0     1  \n",
       "2      -10.0      -31.0      -19.0       -3.0      -47.0      -17.0     0  \n",
       "3       -2.0       -4.0       -7.0       15.0        3.0       14.0     1  \n",
       "4        1.0        2.0       -2.0       20.0       18.0       10.0     0  \n",
       "\n",
       "[5 rows x 65 columns]"
      ]
     },
     "execution_count": 51,
     "metadata": {},
     "output_type": "execute_result"
    }
   ],
   "source": [
    "import pandas as pd\n",
    "df = pd.read_csv(\"https://raw.githubusercontent.com/Datamanim/datarepo/main/muscle/train.csv\")\n",
    "df.head()"
   ]
  },
  {
   "cell_type": "markdown",
   "id": "d9d29063",
   "metadata": {},
   "source": [
    "## Question 100\n",
    "\n",
    "pose값에 따른 각 motion컬럼의 중간값의 가장 큰 차이를 보이는 motion컬럼은 어디이며 그값은?"
   ]
  },
  {
   "cell_type": "code",
   "execution_count": null,
   "id": "0c7c844a",
   "metadata": {},
   "outputs": [],
   "source": []
  },
  {
   "cell_type": "markdown",
   "id": "a0c5e1b1",
   "metadata": {},
   "source": [
    "# 현대 차량 가격 분류문제 데이터\n",
    "데이터 출처 :https://www.kaggle.com/mysarahmadbhat/hyundai-used-car-listing(참고, 데이터 수정)<br>\n",
    "데이터 설명 : 현대 차량가격 분류문제<br>\n",
    "Data url :hhttps://raw.githubusercontent.com/Datamanim/datarepo/main/hyundai/train.csv"
   ]
  },
  {
   "cell_type": "code",
   "execution_count": 52,
   "id": "e1daaf04",
   "metadata": {},
   "outputs": [
    {
     "data": {
      "application/vnd.microsoft.datawrangler.viewer.v0+json": {
       "columns": [
        {
         "name": "index",
         "rawType": "int64",
         "type": "integer"
        },
        {
         "name": "model",
         "rawType": "object",
         "type": "string"
        },
        {
         "name": "year",
         "rawType": "int64",
         "type": "integer"
        },
        {
         "name": "price",
         "rawType": "int64",
         "type": "integer"
        },
        {
         "name": "transmission",
         "rawType": "object",
         "type": "string"
        },
        {
         "name": "mileage",
         "rawType": "int64",
         "type": "integer"
        },
        {
         "name": "fuelType",
         "rawType": "object",
         "type": "string"
        },
        {
         "name": "tax(£)",
         "rawType": "int64",
         "type": "integer"
        },
        {
         "name": "mpg",
         "rawType": "float64",
         "type": "float"
        },
        {
         "name": "engineSize",
         "rawType": "float64",
         "type": "float"
        }
       ],
       "ref": "d5eb3a30-d9a1-4ce5-b155-04fd3bdbac59",
       "rows": [
        [
         "0",
         " Tucson",
         "2016",
         "12795",
         "Manual",
         "36263",
         "Diesel",
         "30",
         "61.7",
         "1.7"
        ],
        [
         "1",
         " I10",
         "2012",
         "3995",
         "Manual",
         "22089",
         "Petrol",
         "20",
         "61.4",
         "1.2"
        ],
        [
         "2",
         " I30",
         "2019",
         "24000",
         "Manual",
         "555",
         "Petrol",
         "145",
         "34.0",
         "2.0"
        ],
        [
         "3",
         " Tucson",
         "2017",
         "12995",
         "Manual",
         "32147",
         "Diesel",
         "30",
         "61.7",
         "1.7"
        ],
        [
         "4",
         " Tucson",
         "2018",
         "14991",
         "Semi-Auto",
         "32217",
         "Diesel",
         "150",
         "57.6",
         "1.7"
        ]
       ],
       "shape": {
        "columns": 9,
        "rows": 5
       }
      },
      "text/html": [
       "<div>\n",
       "<style scoped>\n",
       "    .dataframe tbody tr th:only-of-type {\n",
       "        vertical-align: middle;\n",
       "    }\n",
       "\n",
       "    .dataframe tbody tr th {\n",
       "        vertical-align: top;\n",
       "    }\n",
       "\n",
       "    .dataframe thead th {\n",
       "        text-align: right;\n",
       "    }\n",
       "</style>\n",
       "<table border=\"1\" class=\"dataframe\">\n",
       "  <thead>\n",
       "    <tr style=\"text-align: right;\">\n",
       "      <th></th>\n",
       "      <th>model</th>\n",
       "      <th>year</th>\n",
       "      <th>price</th>\n",
       "      <th>transmission</th>\n",
       "      <th>mileage</th>\n",
       "      <th>fuelType</th>\n",
       "      <th>tax(£)</th>\n",
       "      <th>mpg</th>\n",
       "      <th>engineSize</th>\n",
       "    </tr>\n",
       "  </thead>\n",
       "  <tbody>\n",
       "    <tr>\n",
       "      <th>0</th>\n",
       "      <td>Tucson</td>\n",
       "      <td>2016</td>\n",
       "      <td>12795</td>\n",
       "      <td>Manual</td>\n",
       "      <td>36263</td>\n",
       "      <td>Diesel</td>\n",
       "      <td>30</td>\n",
       "      <td>61.7</td>\n",
       "      <td>1.7</td>\n",
       "    </tr>\n",
       "    <tr>\n",
       "      <th>1</th>\n",
       "      <td>I10</td>\n",
       "      <td>2012</td>\n",
       "      <td>3995</td>\n",
       "      <td>Manual</td>\n",
       "      <td>22089</td>\n",
       "      <td>Petrol</td>\n",
       "      <td>20</td>\n",
       "      <td>61.4</td>\n",
       "      <td>1.2</td>\n",
       "    </tr>\n",
       "    <tr>\n",
       "      <th>2</th>\n",
       "      <td>I30</td>\n",
       "      <td>2019</td>\n",
       "      <td>24000</td>\n",
       "      <td>Manual</td>\n",
       "      <td>555</td>\n",
       "      <td>Petrol</td>\n",
       "      <td>145</td>\n",
       "      <td>34.0</td>\n",
       "      <td>2.0</td>\n",
       "    </tr>\n",
       "    <tr>\n",
       "      <th>3</th>\n",
       "      <td>Tucson</td>\n",
       "      <td>2017</td>\n",
       "      <td>12995</td>\n",
       "      <td>Manual</td>\n",
       "      <td>32147</td>\n",
       "      <td>Diesel</td>\n",
       "      <td>30</td>\n",
       "      <td>61.7</td>\n",
       "      <td>1.7</td>\n",
       "    </tr>\n",
       "    <tr>\n",
       "      <th>4</th>\n",
       "      <td>Tucson</td>\n",
       "      <td>2018</td>\n",
       "      <td>14991</td>\n",
       "      <td>Semi-Auto</td>\n",
       "      <td>32217</td>\n",
       "      <td>Diesel</td>\n",
       "      <td>150</td>\n",
       "      <td>57.6</td>\n",
       "      <td>1.7</td>\n",
       "    </tr>\n",
       "  </tbody>\n",
       "</table>\n",
       "</div>"
      ],
      "text/plain": [
       "     model  year  price transmission  mileage fuelType  tax(£)   mpg  \\\n",
       "0   Tucson  2016  12795       Manual    36263   Diesel      30  61.7   \n",
       "1      I10  2012   3995       Manual    22089   Petrol      20  61.4   \n",
       "2      I30  2019  24000       Manual      555   Petrol     145  34.0   \n",
       "3   Tucson  2017  12995       Manual    32147   Diesel      30  61.7   \n",
       "4   Tucson  2018  14991    Semi-Auto    32217   Diesel     150  57.6   \n",
       "\n",
       "   engineSize  \n",
       "0         1.7  \n",
       "1         1.2  \n",
       "2         2.0  \n",
       "3         1.7  \n",
       "4         1.7  "
      ]
     },
     "execution_count": 52,
     "metadata": {},
     "output_type": "execute_result"
    }
   ],
   "source": [
    "import pandas as pd\n",
    "df = pd.read_csv(\"https://raw.githubusercontent.com/Datamanim/datarepo/main/hyundai/train.csv\")\n",
    "df.head()"
   ]
  },
  {
   "cell_type": "markdown",
   "id": "eb01aa81",
   "metadata": {},
   "source": [
    "## Question 101\n",
    "\n",
    "정보(row수)가 가장 많은 상위 3차종의 price값의 각 평균값은?"
   ]
  },
  {
   "cell_type": "code",
   "execution_count": null,
   "id": "84a5dd2d",
   "metadata": {},
   "outputs": [],
   "source": []
  },
  {
   "cell_type": "markdown",
   "id": "878f4dd4",
   "metadata": {},
   "source": [
    "# 당뇨여부판단 데이터\n",
    "데이터 출처 :https://www.kaggle.com/pritsheta/diabetes-dataset(참고, 데이터 수정)<br>\n",
    "데이터 설명 : 당뇨여부 판단하기<Br>\n",
    "Data url :https://raw.githubusercontent.com/Datamanim/datarepo/main/diabetes/train.csv"
   ]
  },
  {
   "cell_type": "code",
   "execution_count": 53,
   "id": "ff078d75",
   "metadata": {},
   "outputs": [
    {
     "data": {
      "application/vnd.microsoft.datawrangler.viewer.v0+json": {
       "columns": [
        {
         "name": "index",
         "rawType": "int64",
         "type": "integer"
        },
        {
         "name": "Pregnancies",
         "rawType": "int64",
         "type": "integer"
        },
        {
         "name": "Glucose",
         "rawType": "int64",
         "type": "integer"
        },
        {
         "name": "BloodPressure",
         "rawType": "int64",
         "type": "integer"
        },
        {
         "name": "SkinThickness",
         "rawType": "int64",
         "type": "integer"
        },
        {
         "name": "Insulin",
         "rawType": "int64",
         "type": "integer"
        },
        {
         "name": "BMI",
         "rawType": "float64",
         "type": "float"
        },
        {
         "name": "DiabetesPedigreeFunction",
         "rawType": "float64",
         "type": "float"
        },
        {
         "name": "Age",
         "rawType": "int64",
         "type": "integer"
        },
        {
         "name": "Outcome",
         "rawType": "int64",
         "type": "integer"
        }
       ],
       "ref": "98561276-a643-49e1-ad84-9d132a9ba12e",
       "rows": [
        [
         "0",
         "3",
         "102",
         "74",
         "0",
         "0",
         "29.5",
         "0.121",
         "32",
         "0"
        ],
        [
         "1",
         "2",
         "144",
         "58",
         "33",
         "135",
         "31.6",
         "0.422",
         "25",
         "1"
        ],
        [
         "2",
         "5",
         "136",
         "82",
         "0",
         "0",
         "0.0",
         "0.64",
         "69",
         "0"
        ],
        [
         "3",
         "13",
         "145",
         "82",
         "19",
         "110",
         "22.2",
         "0.245",
         "57",
         "0"
        ],
        [
         "4",
         "1",
         "117",
         "60",
         "23",
         "106",
         "33.8",
         "0.466",
         "27",
         "0"
        ]
       ],
       "shape": {
        "columns": 9,
        "rows": 5
       }
      },
      "text/html": [
       "<div>\n",
       "<style scoped>\n",
       "    .dataframe tbody tr th:only-of-type {\n",
       "        vertical-align: middle;\n",
       "    }\n",
       "\n",
       "    .dataframe tbody tr th {\n",
       "        vertical-align: top;\n",
       "    }\n",
       "\n",
       "    .dataframe thead th {\n",
       "        text-align: right;\n",
       "    }\n",
       "</style>\n",
       "<table border=\"1\" class=\"dataframe\">\n",
       "  <thead>\n",
       "    <tr style=\"text-align: right;\">\n",
       "      <th></th>\n",
       "      <th>Pregnancies</th>\n",
       "      <th>Glucose</th>\n",
       "      <th>BloodPressure</th>\n",
       "      <th>SkinThickness</th>\n",
       "      <th>Insulin</th>\n",
       "      <th>BMI</th>\n",
       "      <th>DiabetesPedigreeFunction</th>\n",
       "      <th>Age</th>\n",
       "      <th>Outcome</th>\n",
       "    </tr>\n",
       "  </thead>\n",
       "  <tbody>\n",
       "    <tr>\n",
       "      <th>0</th>\n",
       "      <td>3</td>\n",
       "      <td>102</td>\n",
       "      <td>74</td>\n",
       "      <td>0</td>\n",
       "      <td>0</td>\n",
       "      <td>29.5</td>\n",
       "      <td>0.121</td>\n",
       "      <td>32</td>\n",
       "      <td>0</td>\n",
       "    </tr>\n",
       "    <tr>\n",
       "      <th>1</th>\n",
       "      <td>2</td>\n",
       "      <td>144</td>\n",
       "      <td>58</td>\n",
       "      <td>33</td>\n",
       "      <td>135</td>\n",
       "      <td>31.6</td>\n",
       "      <td>0.422</td>\n",
       "      <td>25</td>\n",
       "      <td>1</td>\n",
       "    </tr>\n",
       "    <tr>\n",
       "      <th>2</th>\n",
       "      <td>5</td>\n",
       "      <td>136</td>\n",
       "      <td>82</td>\n",
       "      <td>0</td>\n",
       "      <td>0</td>\n",
       "      <td>0.0</td>\n",
       "      <td>0.640</td>\n",
       "      <td>69</td>\n",
       "      <td>0</td>\n",
       "    </tr>\n",
       "    <tr>\n",
       "      <th>3</th>\n",
       "      <td>13</td>\n",
       "      <td>145</td>\n",
       "      <td>82</td>\n",
       "      <td>19</td>\n",
       "      <td>110</td>\n",
       "      <td>22.2</td>\n",
       "      <td>0.245</td>\n",
       "      <td>57</td>\n",
       "      <td>0</td>\n",
       "    </tr>\n",
       "    <tr>\n",
       "      <th>4</th>\n",
       "      <td>1</td>\n",
       "      <td>117</td>\n",
       "      <td>60</td>\n",
       "      <td>23</td>\n",
       "      <td>106</td>\n",
       "      <td>33.8</td>\n",
       "      <td>0.466</td>\n",
       "      <td>27</td>\n",
       "      <td>0</td>\n",
       "    </tr>\n",
       "  </tbody>\n",
       "</table>\n",
       "</div>"
      ],
      "text/plain": [
       "   Pregnancies  Glucose  BloodPressure  SkinThickness  Insulin   BMI  \\\n",
       "0            3      102             74              0        0  29.5   \n",
       "1            2      144             58             33      135  31.6   \n",
       "2            5      136             82              0        0   0.0   \n",
       "3           13      145             82             19      110  22.2   \n",
       "4            1      117             60             23      106  33.8   \n",
       "\n",
       "   DiabetesPedigreeFunction  Age  Outcome  \n",
       "0                     0.121   32        0  \n",
       "1                     0.422   25        1  \n",
       "2                     0.640   69        0  \n",
       "3                     0.245   57        0  \n",
       "4                     0.466   27        0  "
      ]
     },
     "execution_count": 53,
     "metadata": {},
     "output_type": "execute_result"
    }
   ],
   "source": [
    "import pandas as pd\n",
    "df = pd.read_csv(\"https://raw.githubusercontent.com/Datamanim/datarepo/main/diabetes/train.csv\")\n",
    "df.head()"
   ]
  },
  {
   "cell_type": "markdown",
   "id": "0673dd3a",
   "metadata": {},
   "source": [
    "## Question 102\n",
    "\n",
    "Outcome 값에 따른 각 그룹의 각 컬럼의 평균 차이를 구하여라."
   ]
  },
  {
   "cell_type": "code",
   "execution_count": null,
   "id": "868a8918",
   "metadata": {},
   "outputs": [],
   "source": []
  },
  {
   "cell_type": "markdown",
   "id": "e38538be",
   "metadata": {},
   "source": [
    "# 넷플릭스 주식 데이터\n",
    "데이터 출처 :https://www.kaggle.com/pritsheta/netflix-stock-data-from-2002-to-2021(참고, 데이터 수정)<br>\n",
    "데이터 설명 : 넷플릭스 주식데이터<br>\n",
    "Data url :https://raw.githubusercontent.com/Datamanim/datarepo/main/nflx/NFLX.csv"
   ]
  },
  {
   "cell_type": "code",
   "execution_count": 54,
   "id": "dfe69e6e",
   "metadata": {},
   "outputs": [
    {
     "data": {
      "application/vnd.microsoft.datawrangler.viewer.v0+json": {
       "columns": [
        {
         "name": "index",
         "rawType": "int64",
         "type": "integer"
        },
        {
         "name": "Date",
         "rawType": "object",
         "type": "string"
        },
        {
         "name": "Open",
         "rawType": "float64",
         "type": "float"
        },
        {
         "name": "High",
         "rawType": "float64",
         "type": "float"
        },
        {
         "name": "Low",
         "rawType": "float64",
         "type": "float"
        },
        {
         "name": "Close",
         "rawType": "float64",
         "type": "float"
        },
        {
         "name": "Adj Close",
         "rawType": "float64",
         "type": "float"
        },
        {
         "name": "Volume",
         "rawType": "int64",
         "type": "integer"
        }
       ],
       "ref": "4b036156-677f-478e-a717-86fa8aa619f5",
       "rows": [
        [
         "0",
         "2002-05-23",
         "1.156429",
         "1.242857",
         "1.145714",
         "1.196429",
         "1.196429",
         "104790000"
        ],
        [
         "1",
         "2002-05-24",
         "1.214286",
         "1.225",
         "1.197143",
         "1.21",
         "1.21",
         "11104800"
        ],
        [
         "2",
         "2002-05-28",
         "1.213571",
         "1.232143",
         "1.157143",
         "1.157143",
         "1.157143",
         "6609400"
        ],
        [
         "3",
         "2002-05-29",
         "1.164286",
         "1.164286",
         "1.085714",
         "1.103571",
         "1.103571",
         "6757800"
        ],
        [
         "4",
         "2002-05-30",
         "1.107857",
         "1.107857",
         "1.071429",
         "1.071429",
         "1.071429",
         "10154200"
        ]
       ],
       "shape": {
        "columns": 7,
        "rows": 5
       }
      },
      "text/html": [
       "<div>\n",
       "<style scoped>\n",
       "    .dataframe tbody tr th:only-of-type {\n",
       "        vertical-align: middle;\n",
       "    }\n",
       "\n",
       "    .dataframe tbody tr th {\n",
       "        vertical-align: top;\n",
       "    }\n",
       "\n",
       "    .dataframe thead th {\n",
       "        text-align: right;\n",
       "    }\n",
       "</style>\n",
       "<table border=\"1\" class=\"dataframe\">\n",
       "  <thead>\n",
       "    <tr style=\"text-align: right;\">\n",
       "      <th></th>\n",
       "      <th>Date</th>\n",
       "      <th>Open</th>\n",
       "      <th>High</th>\n",
       "      <th>Low</th>\n",
       "      <th>Close</th>\n",
       "      <th>Adj Close</th>\n",
       "      <th>Volume</th>\n",
       "    </tr>\n",
       "  </thead>\n",
       "  <tbody>\n",
       "    <tr>\n",
       "      <th>0</th>\n",
       "      <td>2002-05-23</td>\n",
       "      <td>1.156429</td>\n",
       "      <td>1.242857</td>\n",
       "      <td>1.145714</td>\n",
       "      <td>1.196429</td>\n",
       "      <td>1.196429</td>\n",
       "      <td>104790000</td>\n",
       "    </tr>\n",
       "    <tr>\n",
       "      <th>1</th>\n",
       "      <td>2002-05-24</td>\n",
       "      <td>1.214286</td>\n",
       "      <td>1.225000</td>\n",
       "      <td>1.197143</td>\n",
       "      <td>1.210000</td>\n",
       "      <td>1.210000</td>\n",
       "      <td>11104800</td>\n",
       "    </tr>\n",
       "    <tr>\n",
       "      <th>2</th>\n",
       "      <td>2002-05-28</td>\n",
       "      <td>1.213571</td>\n",
       "      <td>1.232143</td>\n",
       "      <td>1.157143</td>\n",
       "      <td>1.157143</td>\n",
       "      <td>1.157143</td>\n",
       "      <td>6609400</td>\n",
       "    </tr>\n",
       "    <tr>\n",
       "      <th>3</th>\n",
       "      <td>2002-05-29</td>\n",
       "      <td>1.164286</td>\n",
       "      <td>1.164286</td>\n",
       "      <td>1.085714</td>\n",
       "      <td>1.103571</td>\n",
       "      <td>1.103571</td>\n",
       "      <td>6757800</td>\n",
       "    </tr>\n",
       "    <tr>\n",
       "      <th>4</th>\n",
       "      <td>2002-05-30</td>\n",
       "      <td>1.107857</td>\n",
       "      <td>1.107857</td>\n",
       "      <td>1.071429</td>\n",
       "      <td>1.071429</td>\n",
       "      <td>1.071429</td>\n",
       "      <td>10154200</td>\n",
       "    </tr>\n",
       "  </tbody>\n",
       "</table>\n",
       "</div>"
      ],
      "text/plain": [
       "         Date      Open      High       Low     Close  Adj Close     Volume\n",
       "0  2002-05-23  1.156429  1.242857  1.145714  1.196429   1.196429  104790000\n",
       "1  2002-05-24  1.214286  1.225000  1.197143  1.210000   1.210000   11104800\n",
       "2  2002-05-28  1.213571  1.232143  1.157143  1.157143   1.157143    6609400\n",
       "3  2002-05-29  1.164286  1.164286  1.085714  1.103571   1.103571    6757800\n",
       "4  2002-05-30  1.107857  1.107857  1.071429  1.071429   1.071429   10154200"
      ]
     },
     "execution_count": 54,
     "metadata": {},
     "output_type": "execute_result"
    }
   ],
   "source": [
    "import pandas as pd\n",
    "df = pd.read_csv(\"https://raw.githubusercontent.com/Datamanim/datarepo/main/nflx/NFLX.csv\")\n",
    "df.head()"
   ]
  },
  {
   "cell_type": "markdown",
   "id": "4f0b9d83",
   "metadata": {},
   "source": [
    "## Question 103\n",
    "\n",
    "매년 5월달의 open가격의 평균값을 데이터 프레임으로 표현하라."
   ]
  },
  {
   "cell_type": "code",
   "execution_count": null,
   "id": "fa2c156e",
   "metadata": {},
   "outputs": [],
   "source": []
  },
  {
   "cell_type": "markdown",
   "id": "02208623",
   "metadata": {},
   "source": [
    "# nba 선수 능력치 데이터\n",
    "데이터 출처 :https://www.kaggle.com/datasets/vivovinco/nba-player-stats(참고, 데이터 수정)<br>\n",
    "Data url :https://raw.githubusercontent.com/Datamanim/datarepo/main/nba/nba.csv<br>"
   ]
  },
  {
   "cell_type": "code",
   "execution_count": 55,
   "id": "c047fb49",
   "metadata": {},
   "outputs": [
    {
     "data": {
      "application/vnd.microsoft.datawrangler.viewer.v0+json": {
       "columns": [
        {
         "name": "index",
         "rawType": "int64",
         "type": "integer"
        },
        {
         "name": "Rk",
         "rawType": "int64",
         "type": "integer"
        },
        {
         "name": "Player",
         "rawType": "object",
         "type": "string"
        },
        {
         "name": "Pos",
         "rawType": "object",
         "type": "string"
        },
        {
         "name": "Age",
         "rawType": "int64",
         "type": "integer"
        },
        {
         "name": "Tm",
         "rawType": "object",
         "type": "string"
        },
        {
         "name": "G",
         "rawType": "int64",
         "type": "integer"
        },
        {
         "name": "GS",
         "rawType": "int64",
         "type": "integer"
        },
        {
         "name": "MP",
         "rawType": "float64",
         "type": "float"
        },
        {
         "name": "FG",
         "rawType": "float64",
         "type": "float"
        },
        {
         "name": "FGA",
         "rawType": "float64",
         "type": "float"
        },
        {
         "name": "FG%",
         "rawType": "float64",
         "type": "float"
        },
        {
         "name": "3P",
         "rawType": "float64",
         "type": "float"
        },
        {
         "name": "3PA",
         "rawType": "float64",
         "type": "float"
        },
        {
         "name": "3P%",
         "rawType": "float64",
         "type": "float"
        },
        {
         "name": "2P",
         "rawType": "float64",
         "type": "float"
        },
        {
         "name": "2PA",
         "rawType": "float64",
         "type": "float"
        },
        {
         "name": "2P%",
         "rawType": "float64",
         "type": "float"
        },
        {
         "name": "eFG%",
         "rawType": "float64",
         "type": "float"
        },
        {
         "name": "FT",
         "rawType": "float64",
         "type": "float"
        },
        {
         "name": "FTA",
         "rawType": "float64",
         "type": "float"
        },
        {
         "name": "FT%",
         "rawType": "float64",
         "type": "float"
        },
        {
         "name": "ORB",
         "rawType": "float64",
         "type": "float"
        },
        {
         "name": "DRB",
         "rawType": "float64",
         "type": "float"
        },
        {
         "name": "TRB",
         "rawType": "float64",
         "type": "float"
        },
        {
         "name": "AST",
         "rawType": "float64",
         "type": "float"
        },
        {
         "name": "STL",
         "rawType": "float64",
         "type": "float"
        },
        {
         "name": "BLK",
         "rawType": "float64",
         "type": "float"
        },
        {
         "name": "TOV",
         "rawType": "float64",
         "type": "float"
        },
        {
         "name": "PF",
         "rawType": "float64",
         "type": "float"
        },
        {
         "name": "PTS",
         "rawType": "float64",
         "type": "float"
        }
       ],
       "ref": "52ae8d64-c9fb-4a9b-ae7b-843f58b06439",
       "rows": [
        [
         "0",
         "1",
         "Precious Achiuwa",
         "C",
         "22",
         "TOR",
         "73",
         "28",
         "23.6",
         "3.6",
         "8.3",
         "0.439",
         "0.8",
         "2.1",
         "0.359",
         "2.9",
         "6.1",
         "0.468",
         "0.486",
         "1.1",
         "1.8",
         "0.595",
         "2.0",
         "4.5",
         "6.5",
         "1.1",
         "0.5",
         "0.6",
         "1.2",
         "2.1",
         "9.1"
        ],
        [
         "1",
         "2",
         "Steven Adams",
         "C",
         "28",
         "MEM",
         "76",
         "75",
         "26.3",
         "2.8",
         "5.1",
         "0.547",
         "0.0",
         "0.0",
         "0.0",
         "2.8",
         "5.0",
         "0.548",
         "0.547",
         "1.4",
         "2.6",
         "0.543",
         "4.6",
         "5.4",
         "10.0",
         "3.4",
         "0.9",
         "0.8",
         "1.5",
         "2.0",
         "6.9"
        ],
        [
         "2",
         "3",
         "Bam Adebayo",
         "C",
         "24",
         "MIA",
         "56",
         "56",
         "32.6",
         "7.3",
         "13.0",
         "0.557",
         "0.0",
         "0.1",
         "0.0",
         "7.3",
         "12.9",
         "0.562",
         "0.557",
         "4.6",
         "6.1",
         "0.753",
         "2.4",
         "7.6",
         "10.1",
         "3.4",
         "1.4",
         "0.8",
         "2.6",
         "3.1",
         "19.1"
        ],
        [
         "3",
         "4",
         "Santi Aldama",
         "PF",
         "21",
         "MEM",
         "32",
         "0",
         "11.3",
         "1.7",
         "4.1",
         "0.402",
         "0.2",
         "1.5",
         "0.125",
         "1.5",
         "2.6",
         "0.56",
         "0.424",
         "0.6",
         "1.0",
         "0.625",
         "1.0",
         "1.7",
         "2.7",
         "0.7",
         "0.2",
         "0.3",
         "0.5",
         "1.1",
         "4.1"
        ],
        [
         "4",
         "5",
         "LaMarcus Aldridge",
         "C",
         "36",
         "BRK",
         "47",
         "12",
         "22.3",
         "5.4",
         "9.7",
         "0.55",
         "0.3",
         "1.0",
         "0.304",
         "5.1",
         "8.8",
         "0.578",
         "0.566",
         "1.9",
         "2.2",
         "0.873",
         "1.6",
         "3.9",
         "5.5",
         "0.9",
         "0.3",
         "1.0",
         "0.9",
         "1.7",
         "12.9"
        ]
       ],
       "shape": {
        "columns": 30,
        "rows": 5
       }
      },
      "text/html": [
       "<div>\n",
       "<style scoped>\n",
       "    .dataframe tbody tr th:only-of-type {\n",
       "        vertical-align: middle;\n",
       "    }\n",
       "\n",
       "    .dataframe tbody tr th {\n",
       "        vertical-align: top;\n",
       "    }\n",
       "\n",
       "    .dataframe thead th {\n",
       "        text-align: right;\n",
       "    }\n",
       "</style>\n",
       "<table border=\"1\" class=\"dataframe\">\n",
       "  <thead>\n",
       "    <tr style=\"text-align: right;\">\n",
       "      <th></th>\n",
       "      <th>Rk</th>\n",
       "      <th>Player</th>\n",
       "      <th>Pos</th>\n",
       "      <th>Age</th>\n",
       "      <th>Tm</th>\n",
       "      <th>G</th>\n",
       "      <th>GS</th>\n",
       "      <th>MP</th>\n",
       "      <th>FG</th>\n",
       "      <th>FGA</th>\n",
       "      <th>FG%</th>\n",
       "      <th>3P</th>\n",
       "      <th>3PA</th>\n",
       "      <th>3P%</th>\n",
       "      <th>2P</th>\n",
       "      <th>2PA</th>\n",
       "      <th>2P%</th>\n",
       "      <th>eFG%</th>\n",
       "      <th>FT</th>\n",
       "      <th>FTA</th>\n",
       "      <th>FT%</th>\n",
       "      <th>ORB</th>\n",
       "      <th>DRB</th>\n",
       "      <th>TRB</th>\n",
       "      <th>AST</th>\n",
       "      <th>STL</th>\n",
       "      <th>BLK</th>\n",
       "      <th>TOV</th>\n",
       "      <th>PF</th>\n",
       "      <th>PTS</th>\n",
       "    </tr>\n",
       "  </thead>\n",
       "  <tbody>\n",
       "    <tr>\n",
       "      <th>0</th>\n",
       "      <td>1</td>\n",
       "      <td>Precious Achiuwa</td>\n",
       "      <td>C</td>\n",
       "      <td>22</td>\n",
       "      <td>TOR</td>\n",
       "      <td>73</td>\n",
       "      <td>28</td>\n",
       "      <td>23.6</td>\n",
       "      <td>3.6</td>\n",
       "      <td>8.3</td>\n",
       "      <td>0.439</td>\n",
       "      <td>0.8</td>\n",
       "      <td>2.1</td>\n",
       "      <td>0.359</td>\n",
       "      <td>2.9</td>\n",
       "      <td>6.1</td>\n",
       "      <td>0.468</td>\n",
       "      <td>0.486</td>\n",
       "      <td>1.1</td>\n",
       "      <td>1.8</td>\n",
       "      <td>0.595</td>\n",
       "      <td>2.0</td>\n",
       "      <td>4.5</td>\n",
       "      <td>6.5</td>\n",
       "      <td>1.1</td>\n",
       "      <td>0.5</td>\n",
       "      <td>0.6</td>\n",
       "      <td>1.2</td>\n",
       "      <td>2.1</td>\n",
       "      <td>9.1</td>\n",
       "    </tr>\n",
       "    <tr>\n",
       "      <th>1</th>\n",
       "      <td>2</td>\n",
       "      <td>Steven Adams</td>\n",
       "      <td>C</td>\n",
       "      <td>28</td>\n",
       "      <td>MEM</td>\n",
       "      <td>76</td>\n",
       "      <td>75</td>\n",
       "      <td>26.3</td>\n",
       "      <td>2.8</td>\n",
       "      <td>5.1</td>\n",
       "      <td>0.547</td>\n",
       "      <td>0.0</td>\n",
       "      <td>0.0</td>\n",
       "      <td>0.000</td>\n",
       "      <td>2.8</td>\n",
       "      <td>5.0</td>\n",
       "      <td>0.548</td>\n",
       "      <td>0.547</td>\n",
       "      <td>1.4</td>\n",
       "      <td>2.6</td>\n",
       "      <td>0.543</td>\n",
       "      <td>4.6</td>\n",
       "      <td>5.4</td>\n",
       "      <td>10.0</td>\n",
       "      <td>3.4</td>\n",
       "      <td>0.9</td>\n",
       "      <td>0.8</td>\n",
       "      <td>1.5</td>\n",
       "      <td>2.0</td>\n",
       "      <td>6.9</td>\n",
       "    </tr>\n",
       "    <tr>\n",
       "      <th>2</th>\n",
       "      <td>3</td>\n",
       "      <td>Bam Adebayo</td>\n",
       "      <td>C</td>\n",
       "      <td>24</td>\n",
       "      <td>MIA</td>\n",
       "      <td>56</td>\n",
       "      <td>56</td>\n",
       "      <td>32.6</td>\n",
       "      <td>7.3</td>\n",
       "      <td>13.0</td>\n",
       "      <td>0.557</td>\n",
       "      <td>0.0</td>\n",
       "      <td>0.1</td>\n",
       "      <td>0.000</td>\n",
       "      <td>7.3</td>\n",
       "      <td>12.9</td>\n",
       "      <td>0.562</td>\n",
       "      <td>0.557</td>\n",
       "      <td>4.6</td>\n",
       "      <td>6.1</td>\n",
       "      <td>0.753</td>\n",
       "      <td>2.4</td>\n",
       "      <td>7.6</td>\n",
       "      <td>10.1</td>\n",
       "      <td>3.4</td>\n",
       "      <td>1.4</td>\n",
       "      <td>0.8</td>\n",
       "      <td>2.6</td>\n",
       "      <td>3.1</td>\n",
       "      <td>19.1</td>\n",
       "    </tr>\n",
       "    <tr>\n",
       "      <th>3</th>\n",
       "      <td>4</td>\n",
       "      <td>Santi Aldama</td>\n",
       "      <td>PF</td>\n",
       "      <td>21</td>\n",
       "      <td>MEM</td>\n",
       "      <td>32</td>\n",
       "      <td>0</td>\n",
       "      <td>11.3</td>\n",
       "      <td>1.7</td>\n",
       "      <td>4.1</td>\n",
       "      <td>0.402</td>\n",
       "      <td>0.2</td>\n",
       "      <td>1.5</td>\n",
       "      <td>0.125</td>\n",
       "      <td>1.5</td>\n",
       "      <td>2.6</td>\n",
       "      <td>0.560</td>\n",
       "      <td>0.424</td>\n",
       "      <td>0.6</td>\n",
       "      <td>1.0</td>\n",
       "      <td>0.625</td>\n",
       "      <td>1.0</td>\n",
       "      <td>1.7</td>\n",
       "      <td>2.7</td>\n",
       "      <td>0.7</td>\n",
       "      <td>0.2</td>\n",
       "      <td>0.3</td>\n",
       "      <td>0.5</td>\n",
       "      <td>1.1</td>\n",
       "      <td>4.1</td>\n",
       "    </tr>\n",
       "    <tr>\n",
       "      <th>4</th>\n",
       "      <td>5</td>\n",
       "      <td>LaMarcus Aldridge</td>\n",
       "      <td>C</td>\n",
       "      <td>36</td>\n",
       "      <td>BRK</td>\n",
       "      <td>47</td>\n",
       "      <td>12</td>\n",
       "      <td>22.3</td>\n",
       "      <td>5.4</td>\n",
       "      <td>9.7</td>\n",
       "      <td>0.550</td>\n",
       "      <td>0.3</td>\n",
       "      <td>1.0</td>\n",
       "      <td>0.304</td>\n",
       "      <td>5.1</td>\n",
       "      <td>8.8</td>\n",
       "      <td>0.578</td>\n",
       "      <td>0.566</td>\n",
       "      <td>1.9</td>\n",
       "      <td>2.2</td>\n",
       "      <td>0.873</td>\n",
       "      <td>1.6</td>\n",
       "      <td>3.9</td>\n",
       "      <td>5.5</td>\n",
       "      <td>0.9</td>\n",
       "      <td>0.3</td>\n",
       "      <td>1.0</td>\n",
       "      <td>0.9</td>\n",
       "      <td>1.7</td>\n",
       "      <td>12.9</td>\n",
       "    </tr>\n",
       "  </tbody>\n",
       "</table>\n",
       "</div>"
      ],
      "text/plain": [
       "   Rk             Player Pos  Age   Tm   G  GS    MP   FG   FGA    FG%   3P  \\\n",
       "0   1   Precious Achiuwa   C   22  TOR  73  28  23.6  3.6   8.3  0.439  0.8   \n",
       "1   2       Steven Adams   C   28  MEM  76  75  26.3  2.8   5.1  0.547  0.0   \n",
       "2   3        Bam Adebayo   C   24  MIA  56  56  32.6  7.3  13.0  0.557  0.0   \n",
       "3   4       Santi Aldama  PF   21  MEM  32   0  11.3  1.7   4.1  0.402  0.2   \n",
       "4   5  LaMarcus Aldridge   C   36  BRK  47  12  22.3  5.4   9.7  0.550  0.3   \n",
       "\n",
       "   3PA    3P%   2P   2PA    2P%   eFG%   FT  FTA    FT%  ORB  DRB   TRB  AST  \\\n",
       "0  2.1  0.359  2.9   6.1  0.468  0.486  1.1  1.8  0.595  2.0  4.5   6.5  1.1   \n",
       "1  0.0  0.000  2.8   5.0  0.548  0.547  1.4  2.6  0.543  4.6  5.4  10.0  3.4   \n",
       "2  0.1  0.000  7.3  12.9  0.562  0.557  4.6  6.1  0.753  2.4  7.6  10.1  3.4   \n",
       "3  1.5  0.125  1.5   2.6  0.560  0.424  0.6  1.0  0.625  1.0  1.7   2.7  0.7   \n",
       "4  1.0  0.304  5.1   8.8  0.578  0.566  1.9  2.2  0.873  1.6  3.9   5.5  0.9   \n",
       "\n",
       "   STL  BLK  TOV   PF   PTS  \n",
       "0  0.5  0.6  1.2  2.1   9.1  \n",
       "1  0.9  0.8  1.5  2.0   6.9  \n",
       "2  1.4  0.8  2.6  3.1  19.1  \n",
       "3  0.2  0.3  0.5  1.1   4.1  \n",
       "4  0.3  1.0  0.9  1.7  12.9  "
      ]
     },
     "execution_count": 55,
     "metadata": {},
     "output_type": "execute_result"
    }
   ],
   "source": [
    "pd.set_option('display.max_columns',50)\n",
    "import pandas as pd\n",
    "df = pd.read_csv(\"https://raw.githubusercontent.com/Datamanim/datarepo/main/nba/nba.csv\",encoding='latin',sep=';')\n",
    "df.head()"
   ]
  },
  {
   "cell_type": "markdown",
   "id": "6f9dd375",
   "metadata": {},
   "source": [
    "## Question 104\n",
    "\n",
    "Tm 컬럼은 각 팀의 이름을 의미한다. TOR팀의 평균나이를 소수 4째 자리까지 구하여라."
   ]
  },
  {
   "cell_type": "code",
   "execution_count": null,
   "id": "d8b7b427",
   "metadata": {},
   "outputs": [],
   "source": []
  },
  {
   "cell_type": "markdown",
   "id": "d7630c45",
   "metadata": {},
   "source": [
    "## Question 105\n",
    "\n",
    "Pos 컬럼은 포지션을 의미한다. 전체 선수 중 최소나이대의 선수들을 필터하고 그들 중 가장 많은 포지션은 무엇인지 확인하라."
   ]
  },
  {
   "cell_type": "code",
   "execution_count": null,
   "id": "c31f9d12",
   "metadata": {},
   "outputs": [],
   "source": []
  },
  {
   "cell_type": "markdown",
   "id": "4ae8b9f4",
   "metadata": {},
   "source": [
    "## Question 106\n",
    "\n",
    "선수들의 이름은 first_name+ 공백 + last_name으로 이루어져 있다. 가장 많은 first_name은 무엇이며 몇 회 발생하는지 확인하라."
   ]
  },
  {
   "cell_type": "code",
   "execution_count": null,
   "id": "e2c8c8b0",
   "metadata": {},
   "outputs": [],
   "source": []
  },
  {
   "cell_type": "markdown",
   "id": "fa1c1ad1",
   "metadata": {},
   "source": [
    "## Question 107\n",
    "\n",
    "PTS컬럼은 경기당 평균득점수 이다. 각포지션별로 경기당 평균득점수의 평균을 구하여라."
   ]
  },
  {
   "cell_type": "code",
   "execution_count": null,
   "id": "d712de34",
   "metadata": {},
   "outputs": [],
   "source": []
  },
  {
   "cell_type": "markdown",
   "id": "3fa12f88",
   "metadata": {},
   "source": [
    "## Question 108\n",
    "\n",
    "PTS컬럼은 경기당 평균득점수 이다. 각포지션별로 경기당 평균득점수의 평균을 구하여라."
   ]
  },
  {
   "cell_type": "code",
   "execution_count": null,
   "id": "050ab426",
   "metadata": {},
   "outputs": [],
   "source": []
  },
  {
   "cell_type": "markdown",
   "id": "5c6c9187",
   "metadata": {},
   "source": [
    "## Question 109\n",
    "\n",
    "G컬럼은 참여한 경기의 숫자이다. 각 팀별로 가장 높은 경기참여 수를 가진 선수들의 경기 참여 숫자의 평균을 구하여라."
   ]
  },
  {
   "cell_type": "code",
   "execution_count": null,
   "id": "fac4f97b",
   "metadata": {},
   "outputs": [],
   "source": []
  },
  {
   "cell_type": "markdown",
   "id": "15b21313",
   "metadata": {},
   "source": [
    "## Question 110\n",
    "\n",
    "Tm의 값이 MIA이며 Pos는 C또는 PF인 선수의 MP값의 평균은?"
   ]
  },
  {
   "cell_type": "code",
   "execution_count": null,
   "id": "caa06f4a",
   "metadata": {},
   "outputs": [],
   "source": []
  },
  {
   "cell_type": "markdown",
   "id": "0e37e515",
   "metadata": {},
   "source": [
    "## Question 111\n",
    "\n",
    "전체 데이터중 G의 평균값의 1.5배 이상인 데이터들만 추출했을때 3P값의 평균은?"
   ]
  },
  {
   "cell_type": "code",
   "execution_count": null,
   "id": "ce691216",
   "metadata": {},
   "outputs": [],
   "source": []
  },
  {
   "cell_type": "markdown",
   "id": "151a83a7",
   "metadata": {},
   "source": [
    "## Question 112\n",
    "\n",
    "Age의 평균 이상인 그룹과 평균 미만인 그룹간의 G값의 평균의 차이는?"
   ]
  },
  {
   "cell_type": "code",
   "execution_count": null,
   "id": "05dd811a",
   "metadata": {},
   "outputs": [],
   "source": []
  },
  {
   "cell_type": "markdown",
   "id": "bd5a187c",
   "metadata": {},
   "source": [
    "## Question 113\n",
    "\n",
    "평균나이가 가장 젊은 팀은 어디인가?"
   ]
  },
  {
   "cell_type": "code",
   "execution_count": null,
   "id": "7908e0bd",
   "metadata": {},
   "outputs": [],
   "source": []
  },
  {
   "cell_type": "markdown",
   "id": "cc6d080c",
   "metadata": {},
   "source": [
    "## Question 114\n",
    "\n",
    "Pos그룹별 평균 MP값을 구하여라."
   ]
  },
  {
   "cell_type": "code",
   "execution_count": null,
   "id": "6f7bf615",
   "metadata": {},
   "outputs": [],
   "source": []
  }
 ],
 "metadata": {
  "kernelspec": {
   "display_name": "base",
   "language": "python",
   "name": "python3"
  },
  "language_info": {
   "codemirror_mode": {
    "name": "ipython",
    "version": 3
   },
   "file_extension": ".py",
   "mimetype": "text/x-python",
   "name": "python",
   "nbconvert_exporter": "python",
   "pygments_lexer": "ipython3",
   "version": "3.12.7"
  }
 },
 "nbformat": 4,
 "nbformat_minor": 5
}
