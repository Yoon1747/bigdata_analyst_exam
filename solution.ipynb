{
 "cells": [
  {
   "cell_type": "markdown",
   "id": "92d7b193",
   "metadata": {},
   "source": [
    "**vs code로 작성했으며, 자동완성 때문에 불편하다면 https://chaeeunsong.tistory.com/91 여기 참고해서 자동완성 해제하세요.<br>**\n"
   ]
  },
  {
   "cell_type": "markdown",
   "id": "ad49e02a",
   "metadata": {},
   "source": [
    "# 01 Getting & Knowing Data"
   ]
  },
  {
   "cell_type": "markdown",
   "id": "2c781a2c",
   "metadata": {},
   "source": [
    "## Question 1\n",
    "데이터를 로드하라. 데이터는 \\t을 기준으로 구분되어있다."
   ]
  },
  {
   "cell_type": "code",
   "execution_count": null,
   "id": "52aaf3f3",
   "metadata": {},
   "outputs": [],
   "source": [
    "import pandas as pd"
   ]
  },
  {
   "cell_type": "code",
   "execution_count": null,
   "id": "7f3d8779",
   "metadata": {},
   "outputs": [],
   "source": [
    "DataUrl = 'https://raw.githubusercontent.com/Datamanim/pandas/main/lol.csv'"
   ]
  },
  {
   "cell_type": "code",
   "execution_count": null,
   "id": "773cf787",
   "metadata": {},
   "outputs": [],
   "source": [
    "df = pd.read_csv(DataUrl, sep='\\t')"
   ]
  },
  {
   "cell_type": "markdown",
   "id": "6f19fec8",
   "metadata": {},
   "source": [
    "## Question 2\n",
    "데이터의 상위 5개 행을 출력하라."
   ]
  },
  {
   "cell_type": "code",
   "execution_count": null,
   "id": "1e2b1d1d",
   "metadata": {},
   "outputs": [],
   "source": [
    "df.head()"
   ]
  },
  {
   "cell_type": "markdown",
   "id": "cf523488",
   "metadata": {},
   "source": [
    "## Question 3\n",
    "데이터의 행과 열의 갯수를 파악하라."
   ]
  },
  {
   "cell_type": "code",
   "execution_count": null,
   "id": "9ff64c4b",
   "metadata": {},
   "outputs": [],
   "source": [
    "print(df.shape)\n",
    "print('행: ', df.shape[0])\n",
    "print('열: ', df.shape[1])"
   ]
  },
  {
   "cell_type": "markdown",
   "id": "a4b6a013",
   "metadata": {},
   "source": [
    "## Question 4\n",
    "전체 컬럼을 출력하라."
   ]
  },
  {
   "cell_type": "code",
   "execution_count": null,
   "id": "d5f0fbb7",
   "metadata": {},
   "outputs": [],
   "source": [
    "df.columns"
   ]
  },
  {
   "cell_type": "markdown",
   "id": "0bb541f1",
   "metadata": {},
   "source": [
    "## Question 5\n",
    "6번째 컬럼명을 출력하라."
   ]
  },
  {
   "cell_type": "code",
   "execution_count": null,
   "id": "4176185c",
   "metadata": {},
   "outputs": [],
   "source": [
    "df.columns[5]"
   ]
  },
  {
   "cell_type": "markdown",
   "id": "5fb30c4f",
   "metadata": {},
   "source": [
    "## Question 6\n",
    "6번재 컬럼의 데이터 타입을 확인하라."
   ]
  },
  {
   "cell_type": "code",
   "execution_count": null,
   "id": "f15d3546",
   "metadata": {},
   "outputs": [],
   "source": [
    "df.dtypes[5] # 내가 쓴 답, 경고문에서 iloc을 사용하라고 합니다."
   ]
  },
  {
   "cell_type": "code",
   "execution_count": null,
   "id": "082f734d",
   "metadata": {},
   "outputs": [],
   "source": [
    "df.iloc[:,5].dtype # 데이터마님 답"
   ]
  },
  {
   "cell_type": "markdown",
   "id": "f6b6dc17",
   "metadata": {},
   "source": [
    "## Question 7\n",
    "데이터 셋의 인덱스 구성은 어떤가."
   ]
  },
  {
   "cell_type": "code",
   "execution_count": null,
   "id": "8de9d6ec",
   "metadata": {},
   "outputs": [],
   "source": [
    "df.index"
   ]
  },
  {
   "cell_type": "markdown",
   "id": "3209a61c",
   "metadata": {},
   "source": [
    "## Question 8\n",
    "6번째 컬럼의 3번째 값은 무엇인가?"
   ]
  },
  {
   "cell_type": "code",
   "execution_count": null,
   "id": "098aaeb3",
   "metadata": {},
   "outputs": [],
   "source": [
    "df.iloc[:,5].iloc[2]"
   ]
  },
  {
   "cell_type": "markdown",
   "id": "362f3759",
   "metadata": {},
   "source": [
    "## Question 9\n",
    "데이터를 로드하라. 컬럼이 한글이기에 적절한 처리를 해야함.\n",
    "<br><br>\n",
    "제주 날씨,인구에 따른 교통량데이터 : 출처\n",
    "<br>\n",
    "제주 데이터 허브 DataUrl = ‘https://raw.githubusercontent.com/Datamanim/pandas/main/Jeju.csv’"
   ]
  },
  {
   "cell_type": "code",
   "execution_count": null,
   "id": "8d5ecdbb",
   "metadata": {},
   "outputs": [],
   "source": [
    "DataUrl = 'https://raw.githubusercontent.com/Datamanim/pandas/main/Jeju.csv'"
   ]
  },
  {
   "cell_type": "code",
   "execution_count": null,
   "id": "c51e7571",
   "metadata": {},
   "outputs": [],
   "source": [
    "df = pd.read_csv(DataUrl, encoding='euc-kr')\n",
    "df"
   ]
  },
  {
   "cell_type": "markdown",
   "id": "a50c7a96",
   "metadata": {},
   "source": [
    "## Question 10\n",
    "데이터 마지막 3개 행을 출력하라."
   ]
  },
  {
   "cell_type": "code",
   "execution_count": null,
   "id": "5a045e18",
   "metadata": {},
   "outputs": [],
   "source": [
    "df.tail(3)"
   ]
  },
  {
   "cell_type": "markdown",
   "id": "7d7f13a3",
   "metadata": {},
   "source": [
    "## Question 11\n",
    "수치형 변수를 카진 컬럼을 출력하라."
   ]
  },
  {
   "cell_type": "code",
   "execution_count": null,
   "id": "b8194718",
   "metadata": {},
   "outputs": [],
   "source": [
    "df.info()"
   ]
  },
  {
   "cell_type": "code",
   "execution_count": null,
   "id": "df717f35",
   "metadata": {},
   "outputs": [],
   "source": [
    "df.select_dtypes(exclude='object').columns"
   ]
  },
  {
   "cell_type": "markdown",
   "id": "3cd980ed",
   "metadata": {},
   "source": [
    "## Question 12\n",
    "범주형 변수를 가진 컬럼을 출력하라."
   ]
  },
  {
   "cell_type": "code",
   "execution_count": null,
   "id": "bf059694",
   "metadata": {},
   "outputs": [],
   "source": [
    "df.select_dtypes(include='object').columns"
   ]
  },
  {
   "cell_type": "markdown",
   "id": "6234b0de",
   "metadata": {},
   "source": [
    "## Question 13\n",
    "각 컬럼의 결측치 숫자를 파악하라."
   ]
  },
  {
   "cell_type": "code",
   "execution_count": null,
   "id": "37704e4e",
   "metadata": {},
   "outputs": [],
   "source": [
    "df.isna().sum()"
   ]
  },
  {
   "cell_type": "markdown",
   "id": "a1ea40d9",
   "metadata": {},
   "source": [
    "## Question 14\n",
    "각 컬럼의 데이터 수, 데이터 타입을 한번에 확인하라."
   ]
  },
  {
   "cell_type": "code",
   "execution_count": null,
   "id": "f73571f2",
   "metadata": {},
   "outputs": [],
   "source": [
    "df.info()"
   ]
  },
  {
   "cell_type": "markdown",
   "id": "ed8a43f3",
   "metadata": {},
   "source": [
    "## Question 15\n",
    "각 수치형 변수의 분포(사분위, 평균, 표준편차, 최대, 최소)를 확인하라."
   ]
  },
  {
   "cell_type": "code",
   "execution_count": null,
   "id": "e9c82333",
   "metadata": {},
   "outputs": [],
   "source": [
    "df.describe()"
   ]
  },
  {
   "cell_type": "markdown",
   "id": "d5f3454e",
   "metadata": {},
   "source": [
    "## Question 16\n",
    "거주인구 컬럼의 값들을 출력하라."
   ]
  },
  {
   "cell_type": "code",
   "execution_count": null,
   "id": "57840e24",
   "metadata": {},
   "outputs": [],
   "source": [
    "df['거주인구']"
   ]
  },
  {
   "cell_type": "markdown",
   "id": "05ea28fa",
   "metadata": {},
   "source": [
    "## Question 17\n",
    "평균 속도 컬럼의 4분위 범위(IQR) 값을 구하여라."
   ]
  },
  {
   "cell_type": "code",
   "execution_count": null,
   "id": "f1eeb8ce",
   "metadata": {},
   "outputs": [],
   "source": [
    "# 4분위 범위(IQR)은 Q3 - Q1 , 백분위수 75% 에서 25%를 뺀 값\n",
    "df['평균 속도'].quantile(.75) - df['평균 속도'].quantile(.25) # quantile을 이용한 IQR 계산"
   ]
  },
  {
   "cell_type": "code",
   "execution_count": null,
   "id": "2fe17d21",
   "metadata": {},
   "outputs": [],
   "source": [
    "df['평균 속도'].describe()['75%'] - df['평균 속도'].describe()['25%'] # describe를 이용한 IQR 계산"
   ]
  },
  {
   "cell_type": "markdown",
   "id": "1f9e41e0",
   "metadata": {},
   "source": [
    "## Question 18\n",
    "읍면동명 컬럼의 유일 값 갯수를 출력하라."
   ]
  },
  {
   "cell_type": "code",
   "execution_count": null,
   "id": "83472573",
   "metadata": {},
   "outputs": [],
   "source": [
    "df['읍면동명'].nunique()"
   ]
  },
  {
   "cell_type": "markdown",
   "id": "6775083d",
   "metadata": {},
   "source": [
    "## Question 19\n",
    "읍면동명 컬럼의 유일 값을 모두 출력하라."
   ]
  },
  {
   "cell_type": "code",
   "execution_count": null,
   "id": "feddb673",
   "metadata": {},
   "outputs": [],
   "source": [
    "df['읍면동명'].unique()"
   ]
  },
  {
   "cell_type": "markdown",
   "id": "efc13988",
   "metadata": {},
   "source": [
    "# 02 Filtering & Sorting"
   ]
  },
  {
   "cell_type": "markdown",
   "id": "88f996d3",
   "metadata": {},
   "source": [
    "식당데이터 : [justmarkham/DAT8](https://github.com/justmarkham/DAT8/blob/master/data/chipotle.tsv)\n",
    "<br>\n",
    "DataUrl = ‘https://raw.githubusercontent.com/Datamanim/pandas/main/chipo.csv’"
   ]
  },
  {
   "cell_type": "markdown",
   "id": "2ead4733",
   "metadata": {},
   "source": [
    "## Question 20\n",
    "데이터를 로드하라."
   ]
  },
  {
   "cell_type": "code",
   "execution_count": null,
   "metadata": {},
   "outputs": [],
   "source": [
    "DataUrl = 'https://raw.githubusercontent.com/Datamanim/pandas/main/chipo.csv'"
   ]
  },
  {
   "cell_type": "code",
   "execution_count": null,
   "id": "a5815184",
   "metadata": {},
   "outputs": [],
   "source": [
    "df = pd.read_csv(DataUrl)"
   ]
  },
  {
   "cell_type": "markdown",
   "id": "1e96db93",
   "metadata": {},
   "source": [
    "## Question 21\n",
    "quantity컬럼 값이 3인 데이터를 추출하여 첫 5행을 출력하라."
   ]
  },
  {
   "cell_type": "code",
   "execution_count": null,
   "id": "9d13a22d",
   "metadata": {},
   "outputs": [],
   "source": [
    "df[df['quantity'] == 3].head(5) # 내가 쓴 답, loc을 사용하는게 더 맞는 방법인 것 같다."
   ]
  },
  {
   "cell_type": "code",
   "execution_count": null,
   "id": "5f736ff0",
   "metadata": {},
   "outputs": [],
   "source": [
    "df.loc[df['quantity']==3].head() # 데이터마님 답"
   ]
  },
  {
   "cell_type": "markdown",
   "id": "a4e10fb7",
   "metadata": {},
   "source": [
    "## Question 22\n",
    "quantity컬럼 값이 3인 데이터를 추출하여 index를 0부터 정렬하고 첫 5행을 출력하라."
   ]
  },
  {
   "cell_type": "code",
   "execution_count": null,
   "id": "ba42f683",
   "metadata": {},
   "outputs": [],
   "source": [
    "df[df['quantity'] == 3].head(5).reset_index(drop=True)"
   ]
  },
  {
   "cell_type": "markdown",
   "id": "64084799",
   "metadata": {},
   "source": [
    "## Question 23\n",
    "quantity, item_price 두 개의 컬럼으로 구성된 새로운 데이터 프레임을 정의하라."
   ]
  },
  {
   "cell_type": "code",
   "execution_count": null,
   "id": "06d3f94c",
   "metadata": {},
   "outputs": [],
   "source": [
    "new_df = df[['quantity', 'item_price']]\n",
    "new_df"
   ]
  },
  {
   "cell_type": "markdown",
   "id": "2d19b50c",
   "metadata": {},
   "source": [
    "## Question 24\n",
    "item_price 컬럼의 달러표시 문자를 제거하고 float 타입으로 저장하여 new_price 컬럼에 저장하라"
   ]
  },
  {
   "cell_type": "code",
   "execution_count": null,
   "id": "3487fb3b",
   "metadata": {},
   "outputs": [],
   "source": [
    "df['new_price'] = df['item_price'].str.replace('$', '').astype(float)\n",
    "df['new_price'].head() # 내가 쓴 답"
   ]
  },
  {
   "cell_type": "code",
   "execution_count": null,
   "id": "25837b9c",
   "metadata": {},
   "outputs": [],
   "source": [
    "df['new_price'] = df['item_price'].str[1:].astype('float')\n",
    "Ans = df['new_price'].head() # 데이터마님 답\n",
    "Ans"
   ]
  },
  {
   "cell_type": "markdown",
   "id": "24775e5f",
   "metadata": {},
   "source": [
    "## Question 25\n",
    "new_price 컬럼이 5이하의 값을 가지는 데이터프레임을 추출하고, 전체 갯수를 구하여라"
   ]
  },
  {
   "cell_type": "code",
   "execution_count": null,
   "id": "db71a301",
   "metadata": {},
   "outputs": [],
   "source": [
    "len(df[df['new_price'] <= 5]) # 내가 쓴 답"
   ]
  },
  {
   "cell_type": "code",
   "execution_count": null,
   "id": "f4c1f8ae",
   "metadata": {},
   "outputs": [],
   "source": [
    "Ans = len(df.loc[df.new_price <=5])\n",
    "Ans # 데이터마님 답"
   ]
  },
  {
   "cell_type": "markdown",
   "id": "6d8e3b5e",
   "metadata": {},
   "source": [
    "## Question 26\n",
    "item_name명이 Chicken Salad Bowl 인 데이터 프레임을 추출하라고 index 값을 초기화 하여라."
   ]
  },
  {
   "cell_type": "code",
   "execution_count": null,
   "id": "4672b690",
   "metadata": {},
   "outputs": [],
   "source": [
    "df[df['item_name'] == 'Chicken Salad Bowl'].reset_index(drop=True).head(3)\n"
   ]
  },
  {
   "cell_type": "markdown",
   "id": "c10fc74a",
   "metadata": {},
   "source": [
    "## Question 27\n",
    "new_price값이 9 이하이고 item_name 값이 Chicken Salad Bowl 인 데이터 프레임을 추출하라"
   ]
  },
  {
   "cell_type": "code",
   "execution_count": null,
   "id": "fcbf4b58",
   "metadata": {},
   "outputs": [],
   "source": [
    "df[(df['new_price'] <= 9) & (df['item_name'] == 'Chicken Salad Bowl')].head(5) # 내가 쓴 답, 앞으로 loc를 사용하기로..."
   ]
  },
  {
   "cell_type": "code",
   "execution_count": null,
   "id": "7297390a",
   "metadata": {},
   "outputs": [],
   "source": [
    "Ans = df.loc[(df.item_name =='Chicken Salad Bowl') & (df.new_price <= 9)] # 데이터마님 답\n",
    "Ans.head(5)"
   ]
  },
  {
   "cell_type": "markdown",
   "id": "421ff328",
   "metadata": {},
   "source": [
    "## Question 28\n",
    "df의 new_price 컬럼 값에 따라 오름차순으로 정리하고 index를 초기화 하여라."
   ]
  },
  {
   "cell_type": "code",
   "execution_count": null,
   "id": "6ffde5fb",
   "metadata": {},
   "outputs": [],
   "source": [
    "df.sort_values(by='new_price').reset_index(drop=True).head(4) # 내가 쓴 답"
   ]
  },
  {
   "cell_type": "code",
   "execution_count": null,
   "id": "2fa0ef92",
   "metadata": {},
   "outputs": [],
   "source": [
    "Ans = df.sort_values('new_price').reset_index(drop=True)\n",
    "Ans.head(4) # 데이터마님 답"
   ]
  },
  {
   "cell_type": "markdown",
   "id": "a98b9b19",
   "metadata": {},
   "source": [
    "## Question 29\n",
    "df의 item_name 컬럼 값중 Chips 포함하는 경우의 데이터를 출력하라"
   ]
  },
  {
   "cell_type": "code",
   "execution_count": null,
   "id": "7dca6b2a",
   "metadata": {},
   "outputs": [],
   "source": [
    "df.loc[df['item_name'].str.contains('Chips')].head(5) # 내가 쓴 답"
   ]
  },
  {
   "cell_type": "code",
   "execution_count": null,
   "id": "7e250656",
   "metadata": {},
   "outputs": [],
   "source": [
    "Ans = df.loc[df.item_name.str.contains('Chips')]\n",
    "Ans.head(5) # 데이터마님 답"
   ]
  },
  {
   "cell_type": "markdown",
   "id": "14892e48",
   "metadata": {},
   "source": [
    "## Question 30\n",
    "df의 짝수번째 컬럼만을 포함하는 데이터프레임을 출력하라"
   ]
  },
  {
   "cell_type": "code",
   "execution_count": null,
   "id": "9d4470c2",
   "metadata": {},
   "outputs": [],
   "source": [
    "df.iloc[:,::2].head(5)"
   ]
  },
  {
   "cell_type": "markdown",
   "id": "9b21479c",
   "metadata": {},
   "source": [
    "## Question 31\n",
    "df의 new_price 컬럼 값에 따라 내림차순으로 정리하고 index를 초기화 하여라."
   ]
  },
  {
   "cell_type": "code",
   "execution_count": null,
   "id": "8f923307",
   "metadata": {},
   "outputs": [],
   "source": [
    "df.sort_values(by='new_price', ascending=False).reset_index(drop=True).head(4)"
   ]
  },
  {
   "cell_type": "markdown",
   "id": "9bb4c57d",
   "metadata": {},
   "source": [
    "## Question 32\n",
    "df의 item_name 컬럼 값이 Steak Salad 또는 Bowl 인 데이터를 인덱싱하라."
   ]
  },
  {
   "cell_type": "code",
   "execution_count": null,
   "id": "817ef45a",
   "metadata": {},
   "outputs": [],
   "source": [
    "df.loc[(df['item_name'] == 'Steak Salad') | (df['item_name'] == 'Bowl')] # 내가 쓴 답"
   ]
  },
  {
   "cell_type": "code",
   "execution_count": null,
   "id": "f028945d",
   "metadata": {},
   "outputs": [],
   "source": [
    "Ans = df.loc[(df.item_name =='Steak Salad') | (df.item_name =='Bowl')]\n",
    "Ans # 데이터마님 답"
   ]
  },
  {
   "cell_type": "markdown",
   "id": "5c7fc13a",
   "metadata": {},
   "source": [
    "## Question 33\n",
    "df의 item_name 컬럼 값이 Steak Salad 또는 Bowl 인 데이터를 데이터 프레임화 한 후, item_name를 기준으로 중복행이 있으면 제거하되 첫번째 케이스만 남겨라."
   ]
  },
  {
   "cell_type": "code",
   "execution_count": null,
   "id": "6750d98d",
   "metadata": {},
   "outputs": [],
   "source": [
    "new_df = df.loc[(df.item_name == 'Steak Salad') | (df.item_name == 'Bowl')]\n",
    "new_df.drop_duplicates(subset='item_name', keep='first')"
   ]
  },
  {
   "cell_type": "markdown",
   "id": "7bdcf216",
   "metadata": {},
   "source": [
    "## Question 34\n",
    "df의 item_name 컬럼 값이 Steak Salad 또는 Bowl 인 데이터를 데이터 프레임화 한 후, item_name를 기준으로 중복행이 있으면 제거하되 마지막 케이스만 남겨라."
   ]
  },
  {
   "cell_type": "code",
   "execution_count": null,
   "id": "6d18da4e",
   "metadata": {},
   "outputs": [],
   "source": [
    "new_df = df.loc[(df.item_name == 'Steak Salad') | (df.item_name == 'Bowl')]\n",
    "new_df.drop_duplicates(subset='item_name', keep='last')"
   ]
  },
  {
   "cell_type": "markdown",
   "id": "fbc9e7a3",
   "metadata": {},
   "source": [
    "## Question 35\n",
    "df의 데이터 중 new_price값이 new_price값의 평균값 이상을 가지는 데이터들을 인덱싱하라."
   ]
  },
  {
   "cell_type": "code",
   "execution_count": null,
   "id": "1c591a79",
   "metadata": {},
   "outputs": [],
   "source": [
    "df.loc[df.new_price >= df.new_price.mean()].head(5)"
   ]
  },
  {
   "cell_type": "markdown",
   "id": "6dfd9c6c",
   "metadata": {},
   "source": [
    "## Question 36\n",
    "df의 데이터 중 item_name의 값이 Izze 데이터를 Fizzy Lizzy로 수정하라."
   ]
  },
  {
   "cell_type": "code",
   "execution_count": null,
   "id": "32093a65",
   "metadata": {},
   "outputs": [],
   "source": [
    "df.loc[df.item_name == 'Izze', 'item_name'] = 'Fizzy Lizzy'\n",
    "df.head(5)\n",
    "# df = df.replace({'item_name' : 'Izze'}, 'Fizzy Lizzy')"
   ]
  },
  {
   "cell_type": "markdown",
   "id": "3391e5ad",
   "metadata": {},
   "source": [
    "## Question 37\n",
    "df의 데이터 중 choice_description 값이 NaN 인 데이터의 갯수를 구하여라."
   ]
  },
  {
   "cell_type": "code",
   "execution_count": null,
   "id": "d212a625",
   "metadata": {},
   "outputs": [],
   "source": [
    "df.choice_description.isna().sum()"
   ]
  },
  {
   "cell_type": "markdown",
   "id": "a01768f3",
   "metadata": {},
   "source": [
    "## Question 38\n",
    "df의 데이터 중 choice_description 값이 NaN 인 데이터를 NoData 값으로 대체하라(loc 이용)"
   ]
  },
  {
   "cell_type": "code",
   "execution_count": null,
   "id": "5c6d8ed2",
   "metadata": {},
   "outputs": [],
   "source": [
    "df.loc[df.choice_description.isna(), 'choice_description'] = 'NoData'\n",
    "df.head()"
   ]
  },
  {
   "cell_type": "markdown",
   "id": "de10b90f",
   "metadata": {},
   "source": [
    "## Question 39\n",
    "df의 데이터 중 choice_description 값에 Black이 들어가는 경우를 인덱싱하라."
   ]
  },
  {
   "cell_type": "code",
   "execution_count": null,
   "id": "1d70ccbd",
   "metadata": {},
   "outputs": [],
   "source": [
    "df.loc[df.choice_description.str.contains('Black')].head()"
   ]
  },
  {
   "cell_type": "markdown",
   "id": "7c34b0c1",
   "metadata": {},
   "source": [
    "## Question 40\n",
    "df의 데이터 중 choice_description 값에 Vegetables 들어가지 않는 경우의 갯수를 출력하라."
   ]
  },
  {
   "cell_type": "code",
   "execution_count": null,
   "id": "d2b6d80f",
   "metadata": {},
   "outputs": [],
   "source": [
    "len(df.choice_description) - len(df.loc[df.choice_description.str.contains('Vegetables')]) # 내가 쓴 답, ~ 를 몰라서 이렇게 구구절절 썼네요..."
   ]
  },
  {
   "cell_type": "code",
   "execution_count": null,
   "id": "f1216f94",
   "metadata": {},
   "outputs": [],
   "source": [
    "Ans = len(df.loc[~df.choice_description.str.contains('Vegetables')])\n",
    "Ans # 데이터마님 답"
   ]
  },
  {
   "cell_type": "markdown",
   "id": "1f89378b",
   "metadata": {},
   "source": [
    "## Question 41\n",
    "df의 데이터 중 item_name 값이 N으로 시작하는 데이터를 모두 추출하라."
   ]
  },
  {
   "cell_type": "code",
   "execution_count": null,
   "id": "29fc43f5",
   "metadata": {},
   "outputs": [],
   "source": [
    "df.loc[df.item_name.str.startswith('N')].head(3)"
   ]
  },
  {
   "cell_type": "markdown",
   "id": "0a34082d",
   "metadata": {},
   "source": [
    "## Question 42\n",
    "df의 데이터 중 item_name 값의 단어갯수가 15개 이상인 데이터를 인덱싱하라"
   ]
  },
  {
   "cell_type": "code",
   "execution_count": null,
   "id": "b7531004",
   "metadata": {},
   "outputs": [],
   "source": [
    "df.loc[df.item_name.str.len() > 15].head()"
   ]
  },
  {
   "cell_type": "markdown",
   "id": "df525978",
   "metadata": {},
   "source": [
    "## Question 43\n",
    "df의 데이터 중 new_price값이 lst에 해당하는 경우의 데이터 프레임을 구하고 그 갯수를 출력하라. lst =[1.69, 2.39, 3.39, 4.45, 9.25, 10.98, 11.75, 16.98]"
   ]
  },
  {
   "cell_type": "code",
   "execution_count": null,
   "id": "9580028a",
   "metadata": {},
   "outputs": [],
   "source": [
    "lst =[1.69, 2.39, 3.39, 4.45, 9.25, 10.98, 11.75, 16.98]\n",
    "a = 0\n",
    "arr = df['new_price'].values\n",
    "for ele in arr:\n",
    "    if ele in lst :\n",
    "            a += 1\n",
    "new_df = df[df.new_price.apply(lambda x: x in lst)]\n",
    "display(new_df.head(3))\n",
    "print(a) # 내가 쓴 답, 생각 많이해서 작성했는데... isin() 반드시 기억한다..."
   ]
  },
  {
   "cell_type": "code",
   "execution_count": null,
   "id": "a3b4fb9c",
   "metadata": {},
   "outputs": [],
   "source": [
    "lst =[1.69, 2.39, 3.39, 4.45, 9.25, 10.98, 11.75, 16.98]\n",
    "\n",
    "Ans = df.loc[df.new_price.isin(lst)]\n",
    "display(Ans.head(3))\n",
    "print(len(Ans)) # 데이터마님 답"
   ]
  },
  {
   "cell_type": "markdown",
   "id": "67adfd39",
   "metadata": {},
   "source": [
    "# 03_Grouping\n",
    "뉴욕 airBnB : https://www.kaggle.com/ptoscano230382/air-bnb-ny-2019<br>\n",
    "DataUrl = ‘https://raw.githubusercontent.com/Datamanim/pandas/main/AB_NYC_2019.csv’"
   ]
  },
  {
   "cell_type": "markdown",
   "id": "7679fb5b",
   "metadata": {},
   "source": [
    "## Question 44\n",
    "데이터를 로드하고 상위 5개 컬럼을 출력하라."
   ]
  },
  {
   "cell_type": "code",
   "execution_count": null,
   "id": "122eb233",
   "metadata": {},
   "outputs": [],
   "source": [
    "df = pd.read_csv('https://raw.githubusercontent.com/Datamanim/pandas/main/AB_NYC_2019.csv')\n",
    "df.head(5)"
   ]
  },
  {
   "cell_type": "markdown",
   "id": "c46f9655",
   "metadata": {},
   "source": [
    "## Question 45\n",
    "데이터의 각 host_name의 빈도수를 구하고 host_name으로 정렬하여 상위 5개를 출력하라."
   ]
  },
  {
   "cell_type": "code",
   "execution_count": null,
   "id": "157d58cc",
   "metadata": {},
   "outputs": [],
   "source": [
    "df.host_name.value_counts().sort_index().head(5) # 내가 쓴 답"
   ]
  },
  {
   "cell_type": "code",
   "execution_count": null,
   "id": "66b7663d",
   "metadata": {},
   "outputs": [],
   "source": [
    "Ans = df.groupby('host_name').size()\n",
    "\n",
    "# or\n",
    "\n",
    "Ans = df.host_name.value_counts().sort_index() # 데이터마님 답"
   ]
  },
  {
   "cell_type": "markdown",
   "id": "935f099e",
   "metadata": {},
   "source": [
    "## Question 46\n",
    "데이터의 각 host_name의 빈도수를 구하고 빈도수 기준 내림차순 정렬한 데이터 프레임을 만들어라. 빈도수 컬럼은 counts로 명명하라."
   ]
  },
  {
   "cell_type": "code",
   "execution_count": null,
   "id": "a2c67f77",
   "metadata": {},
   "outputs": [],
   "source": [
    "df.host_name.value_counts().to_frame(name='counts') # 내가 쓴 답"
   ]
  },
  {
   "cell_type": "code",
   "execution_count": null,
   "id": "0c5a4d0e",
   "metadata": {},
   "outputs": [],
   "source": [
    "Ans = df.groupby('host_name').size().\\\n",
    "                to_frame().rename(columns={0:'counts'}).\\\n",
    "                sort_values('counts',ascending=False)\n",
    "Ans.head(5) # 데이터마님 답"
   ]
  },
  {
   "cell_type": "markdown",
   "id": "3c7beb0d",
   "metadata": {},
   "source": [
    "## Question 47\n",
    "neighbourhood_group의 값에 따른 neighbourhood컬럼 값의 갯수를 구하여라."
   ]
  },
  {
   "cell_type": "code",
   "execution_count": null,
   "id": "f5501241",
   "metadata": {},
   "outputs": [],
   "source": [
    "df.groupby(['neighbourhood_group', 'neighbourhood']).size().reset_index().head(4) # 내가 쓴 답"
   ]
  },
  {
   "cell_type": "code",
   "execution_count": null,
   "id": "f7433238",
   "metadata": {},
   "outputs": [],
   "source": [
    "Ans = df.groupby(['neighbourhood_group','neighbourhood'], as_index=False).size() # 데이터마님 답\n",
    "Ans.head(4)"
   ]
  },
  {
   "cell_type": "markdown",
   "id": "f03ba38b",
   "metadata": {},
   "source": [
    "## Question 48\n",
    "neighbourhood_group의 값에 따른 neighbourhood컬럼 값 중 neighbourhood_group그룹의 최댓값들을 출력하라."
   ]
  },
  {
   "cell_type": "code",
   "execution_count": null,
   "id": "9b7e8a78",
   "metadata": {},
   "outputs": [],
   "source": [
    "(df.groupby(['neighbourhood_group', 'neighbourhood'], as_index=False).size()).groupby(['neighbourhood_group']).max() # 내가 쓴 답"
   ]
  },
  {
   "cell_type": "code",
   "execution_count": null,
   "id": "51accd47",
   "metadata": {},
   "outputs": [],
   "source": [
    "Ans= df.groupby(['neighbourhood_group','neighbourhood'], as_index=False).size()\\\n",
    "                  .groupby(['neighbourhood_group'], as_index=False).max()\n",
    "Ans # 데이터마님 답"
   ]
  },
  {
   "cell_type": "markdown",
   "id": "bf9b307d",
   "metadata": {},
   "source": [
    "## Question 49\n",
    "neighbourhood_group 값에 따른 price값의 평균, 분산, 최대, 최소 값을 구하여라."
   ]
  },
  {
   "cell_type": "code",
   "execution_count": null,
   "id": "1b4b3ef4",
   "metadata": {},
   "outputs": [],
   "source": [
    "df[['neighbourhood_group', 'price']].groupby('neighbourhood_group').agg(['mean', 'var', 'max', 'min'])"
   ]
  },
  {
   "cell_type": "markdown",
   "id": "61bf8235",
   "metadata": {},
   "source": [
    "## Question 50\n",
    "neighbourhood_group 값에 따른 reviews_per_month 평균, 분산, 최대, 최소 값을 구하여라."
   ]
  },
  {
   "cell_type": "code",
   "execution_count": null,
   "id": "fc29df5c",
   "metadata": {},
   "outputs": [],
   "source": [
    "df[['neighbourhood_group', 'reviews_per_month']].groupby('neighbourhood_group').agg(['mean', 'var', 'max', 'min'])"
   ]
  },
  {
   "cell_type": "markdown",
   "id": "f7f2e4a1",
   "metadata": {},
   "source": [
    "## Question 51\n",
    "neighbourhood 값과 neighbourhood_group 값에 따른 price 의 평균을 구하라."
   ]
  },
  {
   "cell_type": "code",
   "execution_count": null,
   "id": "e2984c8f",
   "metadata": {},
   "outputs": [],
   "source": [
    "df.groupby(['neighbourhood', 'neighbourhood_group']).price.mean()"
   ]
  },
  {
   "cell_type": "markdown",
   "id": "70e8c27c",
   "metadata": {},
   "source": [
    "## Question 52\n",
    "neighbourhood 값과 neighbourhood_group 값에 따른 price 의 평균을 계층적 indexing 없이 구하라."
   ]
  },
  {
   "cell_type": "code",
   "execution_count": null,
   "id": "82c50a38",
   "metadata": {},
   "outputs": [],
   "source": [
    "df.groupby(['neighbourhood', 'neighbourhood_group']).price.mean().unstack()"
   ]
  },
  {
   "cell_type": "markdown",
   "id": "1d2700b7",
   "metadata": {},
   "source": [
    "## Question 53\n",
    "neighbourhood 값과 neighbourhood_group 값에 따른 price 의 평균을 계층적 indexing 없이 구하고 nan 값은 -999값으로 채워라."
   ]
  },
  {
   "cell_type": "code",
   "execution_count": null,
   "id": "e2737a87",
   "metadata": {},
   "outputs": [],
   "source": [
    "df.groupby(['neighbourhood', 'neighbourhood_group']).price.mean().unstack(fill_value=-999) # 내가 쓴 답"
   ]
  },
  {
   "cell_type": "code",
   "execution_count": null,
   "id": "a867fd29",
   "metadata": {},
   "outputs": [],
   "source": [
    "Ans = df.groupby(['neighbourhood','neighbourhood_group']).price.mean().unstack().fillna(-999)\n",
    "Ans.head(4) # 데이터마님 답"
   ]
  },
  {
   "cell_type": "markdown",
   "id": "50f8b5fd",
   "metadata": {},
   "source": [
    "## Question 54\n",
    "데이터 중 neighbourhood_group 값이 Queens값을 가지는 데이터들 중 neighbourhood 그룹별로 price값의 평균, 분산, 최대, 최소값을 구하라."
   ]
  },
  {
   "cell_type": "code",
   "execution_count": null,
   "id": "d702f232",
   "metadata": {},
   "outputs": [],
   "source": [
    "df[df.neighbourhood_group == 'Queens'].groupby(['neighbourhood']).price.agg(['mean', 'var', 'max', 'min'])"
   ]
  },
  {
   "cell_type": "markdown",
   "id": "3ab80fff",
   "metadata": {},
   "source": [
    "## Question 55\n",
    "데이터 중 neighbourhood_group 값에 따른 room_type 컬럼의 숫자를 구하고 neighbourhood_group 값을 기준으로 각 값의 비율을 구하여라."
   ]
  },
  {
   "cell_type": "code",
   "execution_count": null,
   "id": "0649c870",
   "metadata": {},
   "outputs": [],
   "source": [
    "df_room_type = df.groupby(['neighbourhood_group', 'room_type']).size().unstack()\n",
    "df_room_type"
   ]
  },
  {
   "cell_type": "code",
   "execution_count": null,
   "id": "abd46c95",
   "metadata": {},
   "outputs": [],
   "source": [
    "df_room_type.div(df_room_type.sum(axis=1), axis=0) # 내가 쓴 답, 문제가 복잡해서 좀 어려웠네요.."
   ]
  },
  {
   "cell_type": "code",
   "execution_count": null,
   "id": "519f1edc",
   "metadata": {},
   "outputs": [],
   "source": [
    "Ans = df[['neighbourhood_group','room_type']].groupby(['neighbourhood_group','room_type']).size().unstack()\n",
    "Ans.loc[:,:] = (Ans.values /Ans.sum(axis=1).values.reshape(-1,1))\n",
    "Ans # 데이터마님 답"
   ]
  },
  {
   "cell_type": "markdown",
   "id": "71f58ae8",
   "metadata": {},
   "source": [
    "# 04_Apply, Map\n",
    "카드이용데이터 : https://www.kaggle.com/sakshigoyal7/credit-card-customers <br>\n",
    "DataUrl = ‘https://raw.githubusercontent.com/Datamanim/pandas/main/BankChurnersUp.csv’"
   ]
  },
  {
   "cell_type": "markdown",
   "id": "87a805ab",
   "metadata": {},
   "source": [
    "## Question 56\n",
    "데이터를 로드하고 데이터 행과 열의 갯수를 출력하라."
   ]
  },
  {
   "cell_type": "code",
   "execution_count": null,
   "id": "509bb69f",
   "metadata": {},
   "outputs": [],
   "source": [
    "DataUrl = 'https://raw.githubusercontent.com/Datamanim/pandas/main/BankChurnersUp.csv'\n",
    "df = pd.read_csv(DataUrl)\n",
    "df.shape"
   ]
  },
  {
   "cell_type": "markdown",
   "id": "d65f4584",
   "metadata": {},
   "source": [
    "## Question 57\n",
    "Income_Category의 카테고리를 map 함수를 이용하여 다음과 같이 변경하여 newIncome 컬럼에 매핑하라.<br>\n",
    "Unknown : N<br>\n",
    "Less than $40K : a<br>\n",
    "$40K - $60K : b<br>\n",
    "$60K - $80K : c<br>\n",
    "$80K - $120K : d<br>\n",
    "$120K + : e"
   ]
  },
  {
   "cell_type": "code",
   "execution_count": null,
   "id": "404f6c6b",
   "metadata": {},
   "outputs": [],
   "source": [
    "income = {\n",
    "    'Unknown' : 'N',\n",
    "    'Less than $40K' : 'a',\n",
    "    '$40K - $60K' : 'b',\n",
    "    '$60K - $80K' : 'c',\n",
    "    '$80K - $120K' : 'd',\n",
    "    '$120K +' : 'e'  \n",
    "}\n",
    "df['newIncome'] = df.Income_Category.map(income)\n",
    "df['newIncome'].head(4) # 내가 쓴 답"
   ]
  },
  {
   "cell_type": "code",
   "execution_count": null,
   "id": "2dacfe28",
   "metadata": {},
   "outputs": [],
   "source": [
    "dic = {\n",
    "    'Unknown'        : 'N',\n",
    "    'Less than $40K' : 'a',\n",
    "    '$40K - $60K'    : 'b',\n",
    "    '$60K - $80K'    : 'c',\n",
    "    '$80K - $120K'   : 'd',\n",
    "    '$120K +'        : 'e'   \n",
    "}\n",
    "\n",
    "df['newIncome']  =df.Income_Category.map(lambda x: dic[x])\n",
    "\n",
    "Ans = df['newIncome']\n",
    "Ans.head(4) # 데이터마님 답"
   ]
  },
  {
   "cell_type": "markdown",
   "id": "43e4c5a4",
   "metadata": {},
   "source": [
    "## Question 58\n",
    "Income_Category의 카테고리를 apply 함수를 이용하여 다음과 같이 변경하여 newIncome 컬럼에 매핑하라.<br>\n",
    "Unknown : N<br>\n",
    "Less than $40K : a<br>\n",
    "$40K - $60K : b<br>\n",
    "$60K - $80K : c<br>\n",
    "$80K - $120K : d<br>\n",
    "$120K +’ : e<br>"
   ]
  },
  {
   "cell_type": "code",
   "execution_count": null,
   "id": "045d9b72",
   "metadata": {},
   "outputs": [],
   "source": [
    "def Income(x) :\n",
    "    if x == 'Unknown':\n",
    "        return 'N'\n",
    "    elif x == 'Less than $40K':\n",
    "        return 'a'\n",
    "    elif x == '$40K - $60K':\n",
    "        return 'b'\n",
    "    elif x == '$60K - $80K':\n",
    "        return 'c'\n",
    "    elif x == '$80K - $120K':\n",
    "        return 'd'\n",
    "    elif x == '$120K +':\n",
    "        return 'e'\n",
    "    \n",
    "df['newIncome'] = df['Income_Category'].apply(Income)\n",
    "df['newIncome'].head(4)"
   ]
  },
  {
   "cell_type": "markdown",
   "id": "299ffe4f",
   "metadata": {},
   "source": [
    "## Question 59\n",
    "Customer_Age의 값을 이용하여 나이 구간을 AgeState 컬럼으로 정의하라. (0~9 : 0 , 10~19 :10 , 20~29 :20 … 각 구간의 빈도수를 출력하라."
   ]
  },
  {
   "cell_type": "code",
   "execution_count": null,
   "id": "da772668",
   "metadata": {},
   "outputs": [],
   "source": [
    "df['AgeState'] = df['Customer_Age'].map(lambda x : (x // 10) * 10)\n",
    "df['AgeState'].value_counts().sort_index()"
   ]
  },
  {
   "cell_type": "markdown",
   "id": "02b7d548",
   "metadata": {},
   "source": [
    "## Question 60\n",
    "Education_Level의 값중 Graduate단어가 포함되는 값은 1 그렇지 않은 경우에는 0으로 변경하여 newEduLevel 컬럼을 정의하고 빈도수를 출력하라."
   ]
  },
  {
   "cell_type": "code",
   "execution_count": null,
   "id": "6f7e9526",
   "metadata": {},
   "outputs": [],
   "source": [
    "df['newEduLevel'] = df.Education_Level.map(lambda x : 1 if 'Graduate' in x else 0)\n",
    "df['newEduLevel'].value_counts()"
   ]
  },
  {
   "cell_type": "markdown",
   "id": "964c1bea",
   "metadata": {},
   "source": [
    "## Question 61\n",
    "Credit_Limit 컬럼값이 4500 이상인 경우 1 그외의 경우에는 모두 0으로 하는 newLimit 정의하라. newLimit 각 값들의 빈도수를 출력하라."
   ]
  },
  {
   "cell_type": "code",
   "execution_count": null,
   "id": "85b63be8",
   "metadata": {},
   "outputs": [],
   "source": [
    "df['newLimit'] = df['Credit_Limit'].map(lambda x : 1 if x >= 4500 else 0 )\n",
    "df['newLimit'].value_counts()"
   ]
  },
  {
   "cell_type": "markdown",
   "id": "5eccf0ae",
   "metadata": {},
   "source": [
    "## Question 62\n",
    "Marital_Status 컬럼값이 Married 이고 Card_Category 컬럼의 값이 Platinum인 경우 1 그외의 경우에는 모두 0으로 하는 newState컬럼을 정의하라.<br>\n",
    "newState의 각 값들의 빈도수를 출력하라."
   ]
  },
  {
   "cell_type": "code",
   "execution_count": null,
   "id": "caf8b64b",
   "metadata": {},
   "outputs": [],
   "source": [
    "df['newState'] = df.apply(lambda x : 1 if (x['Marital_Status'] == 'Married') and (x['Card_Category'] == 'Platinum') else 0, axis=1)\n",
    "df['newState'].value_counts() # 내가 쓴 답"
   ]
  },
  {
   "cell_type": "code",
   "execution_count": null,
   "id": "73d876d4",
   "metadata": {},
   "outputs": [],
   "source": [
    "def check(x):\n",
    "    if x.Marital_Status =='Married' and x.Card_Category =='Platinum':\n",
    "        return 1\n",
    "    else:\n",
    "        return 0\n",
    "\n",
    "\n",
    "df['newState'] = df.apply(check,axis=1)\n",
    "\n",
    "Ans  = df['newState'].value_counts()\n",
    "Ans # 데이터마님 답"
   ]
  },
  {
   "cell_type": "markdown",
   "id": "19ea0e1f",
   "metadata": {},
   "source": [
    "## Question 63\n",
    "Gender 컬럼값 M인 경우 male F인 경우 female로 값을 변경하여 Gender 컬럼에 새롭게 정의하라. 각 value의 빈도를 출력하라."
   ]
  },
  {
   "cell_type": "code",
   "execution_count": null,
   "id": "ca422a0d",
   "metadata": {},
   "outputs": [],
   "source": [
    "new_gen = {\n",
    "    'M' : 'male',\n",
    "    'F' : 'female'\n",
    "}\n",
    "\n",
    "df['Gender'] = df['Gender'].map(lambda x : new_gen[x])\n",
    "df['Gender'].value_counts() # 내가 쓴 답 (map)"
   ]
  },
  {
   "cell_type": "code",
   "execution_count": null,
   "id": "138d974f",
   "metadata": {},
   "outputs": [],
   "source": [
    "df = pd.read_csv(DataUrl)\n",
    "\n",
    "def new_gen(x):\n",
    "    if x == 'M':\n",
    "        return 'male'\n",
    "    else :\n",
    "        return 'female'\n",
    "    \n",
    "df['Gender'] = df['Gender'].apply(new_gen)\n",
    "df['Gender'].value_counts() # 내가 쓴 답 (apply)"
   ]
  },
  {
   "cell_type": "markdown",
   "id": "ecd47fbb",
   "metadata": {},
   "source": [
    "# 05_Time_Series\n",
    "주가 데이터 : https://raw.githubusercontent.com/guipsamora/pandas_exercises/master/06_Stats/Wind_Stats/wind.data<br>\n",
    "DataUrl = ‘https://raw.githubusercontent.com/Datamanim/pandas/main/timeTest.csv’"
   ]
  },
  {
   "cell_type": "markdown",
   "id": "2e91a43c",
   "metadata": {},
   "source": [
    "## Question 64\n",
    "데이터를 로드하고 각 열의 데이터 타입을 파악하라"
   ]
  },
  {
   "cell_type": "code",
   "execution_count": null,
   "id": "9d477135",
   "metadata": {},
   "outputs": [],
   "source": [
    "DataUrl = 'https://raw.githubusercontent.com/Datamanim/pandas/main/timeTest.csv'\n",
    "df = pd.read_csv(DataUrl)\n",
    "df.info()"
   ]
  },
  {
   "cell_type": "markdown",
   "id": "1df1095f",
   "metadata": {},
   "source": [
    "## Question 65\n",
    "Yr_Mo_Dy을 판다스에서 인식할 수 있는 datetime64타입으로 변경하라."
   ]
  },
  {
   "cell_type": "code",
   "execution_count": null,
   "id": "722b52c9",
   "metadata": {},
   "outputs": [],
   "source": [
    "df['Yr_Mo_Dy'] = pd.to_datetime(df['Yr_Mo_Dy'])\n",
    "df['Yr_Mo_Dy'].head(4)"
   ]
  },
  {
   "cell_type": "markdown",
   "id": "f3c8e7f9",
   "metadata": {},
   "source": [
    "## Question 66\n",
    "Yr_Mo_Dy에 존재하는 년도의 유일값을 모두 출력하라."
   ]
  },
  {
   "cell_type": "code",
   "execution_count": null,
   "id": "52ce6e45",
   "metadata": {},
   "outputs": [],
   "source": [
    "df['Yr_Mo_Dy'].dt.year.unique()"
   ]
  },
  {
   "cell_type": "markdown",
   "id": "5c50f744",
   "metadata": {},
   "source": [
    "## Question 67\n",
    "Yr_Mo_Dy에 년도가 2061년 이상의 경우에는 모두 잘못된 데이터이다.<br>\n",
    "해당경우의 값은 100을 빼서 새롭게 날짜를 Yr_Mo_Dy 컬럼에 정의하라."
   ]
  },
  {
   "cell_type": "code",
   "execution_count": null,
   "id": "12ea000b",
   "metadata": {},
   "outputs": [],
   "source": [
    "import datetime\n",
    "\n",
    "df['Yr_Mo_Dy'] = df['Yr_Mo_Dy'].map(lambda x : pd.to_datetime(datetime.date(x.year-100, x.month, x.day)) if x.year >= 2061 else x) \n",
    "df.head(4) # 내가 쓴 답 (map)"
   ]
  },
  {
   "cell_type": "code",
   "execution_count": null,
   "id": "461dddd4",
   "metadata": {},
   "outputs": [],
   "source": [
    "# def fix_century(x):\n",
    "#     import datetime\n",
    "    \n",
    "#     year = x.year - 100 if x.year >= 2061 else x.year\n",
    "#     return pd.to_datetime(datetime.date(year, x.month, x.day))\n",
    "\n",
    "\n",
    "# df['Yr_Mo_Dy'] = df['Yr_Mo_Dy'].apply(fix_century)\n",
    "\n",
    "# Ans = df.head(4)\n",
    "# Ans # 데이터마님 답 (apply)"
   ]
  },
  {
   "cell_type": "markdown",
   "id": "5c4b3fb2",
   "metadata": {},
   "source": [
    "## Question 68\n",
    "년도별 각컬럼의 평균값을 구하여라."
   ]
  },
  {
   "cell_type": "code",
   "execution_count": null,
   "id": "fe97721c",
   "metadata": {},
   "outputs": [],
   "source": [
    "df.groupby(df['Yr_Mo_Dy'].dt.year).mean()"
   ]
  },
  {
   "cell_type": "markdown",
   "id": "7dcc0443",
   "metadata": {},
   "source": [
    "## Question 69\n",
    "weekday컬럼을 만들고 요일별로 매핑하라. ( 월요일: 0 ~ 일요일 :6)"
   ]
  },
  {
   "cell_type": "code",
   "execution_count": null,
   "id": "1ed47320",
   "metadata": {},
   "outputs": [],
   "source": [
    "df['weekday'] = df['Yr_Mo_Dy'].dt.weekday\n",
    "df['weekday'].head(3)"
   ]
  },
  {
   "cell_type": "markdown",
   "id": "a28abea4",
   "metadata": {},
   "source": [
    "## Question 70\n",
    "weekday컬럼을 기준으로 주말이면 1 평일이면 0의 값을 가지는 WeekCheck 컬럼을 만들어라."
   ]
  },
  {
   "cell_type": "code",
   "execution_count": null,
   "id": "46844b0c",
   "metadata": {},
   "outputs": [],
   "source": [
    "df['WeekCheck'] = df['weekday'].map(lambda x : 1 if x > 4 else 0)\n",
    "df['WeekCheck'].head(3) # 내가 쓴 답, 아무래도 숫자를 지정해주는게 더 올바른 방법인 듯 하다."
   ]
  },
  {
   "cell_type": "code",
   "execution_count": null,
   "id": "9d868159",
   "metadata": {},
   "outputs": [],
   "source": [
    "df['WeekCheck']  = df['weekday'].map(lambda x : 1 if x in [5,6] else 0)\n",
    "\n",
    "Ans = df['WeekCheck'].head(3).to_frame()\n",
    "Ans # 데이터마님 답"
   ]
  },
  {
   "cell_type": "markdown",
   "id": "05cf4b47",
   "metadata": {},
   "source": [
    "## Question 71\n",
    "년도, 일자 상관없이 모든 컬럼의 각 달의 평균을 구하여라."
   ]
  },
  {
   "cell_type": "code",
   "execution_count": null,
   "id": "81dd6d7b",
   "metadata": {},
   "outputs": [],
   "source": [
    "df.groupby(df['Yr_Mo_Dy'].dt.month).mean().head(4)"
   ]
  },
  {
   "cell_type": "markdown",
   "id": "514e0000",
   "metadata": {},
   "source": [
    "## Question 72\n",
    "모든 결측치는 컬럼기준 직전의 값으로 대체하고 첫번째 행에 결측치가 있을경우 뒤에있는 값으로 대채하라."
   ]
  },
  {
   "cell_type": "code",
   "execution_count": null,
   "id": "4c043862",
   "metadata": {},
   "outputs": [],
   "source": [
    "df.ffill(inplace=True)\n",
    "df.bfill(inplace=True)\n",
    "df.isna().sum() # 내가 쓴 답"
   ]
  },
  {
   "cell_type": "code",
   "execution_count": null,
   "id": "9f4a9720",
   "metadata": {},
   "outputs": [],
   "source": [
    "# df = df.fillna(method='ffill').fillna(method='bfill')\n",
    "# df.isnull().sum() # 데이터마님 답"
   ]
  },
  {
   "cell_type": "markdown",
   "id": "2a5d4237",
   "metadata": {},
   "source": [
    "## Question 73\n",
    "년도 - 월을 기준으로 모든 컬럼의 평균값을 구하여라."
   ]
  },
  {
   "cell_type": "code",
   "execution_count": null,
   "id": "54c7b86a",
   "metadata": {},
   "outputs": [],
   "source": [
    "df.groupby(df.Yr_Mo_Dy.dt.to_period('M')).mean().head(3)"
   ]
  },
  {
   "cell_type": "markdown",
   "id": "131edd38",
   "metadata": {},
   "source": [
    "## Question 74\n",
    "RPT 컬럼의 값을 일자별 기준으로 1차차분하라."
   ]
  },
  {
   "cell_type": "code",
   "execution_count": null,
   "id": "2bc60580",
   "metadata": {},
   "outputs": [],
   "source": [
    "df['RPT'].diff().head(3)"
   ]
  },
  {
   "cell_type": "markdown",
   "id": "60b37415",
   "metadata": {},
   "source": [
    "## Question 75\n",
    "RPT와 VAL의 컬럼을 일주일 간격으로 각각 이동평균한값을 구하여라."
   ]
  },
  {
   "cell_type": "code",
   "execution_count": null,
   "id": "1f398dd3",
   "metadata": {},
   "outputs": [],
   "source": [
    "df[['RPT', 'VAL']].rolling(7).mean().head(9)"
   ]
  },
  {
   "cell_type": "markdown",
   "id": "94c79a6b",
   "metadata": {},
   "source": [
    "서울시 미세먼지 데이터 : https://www.airkorea.or.kr/web/realSearch?pMENU_NO=97<br>\n",
    "DataUrl = ‘https://raw.githubusercontent.com/Datamanim/pandas/main/seoul_pm.csv’"
   ]
  },
  {
   "cell_type": "code",
   "execution_count": null,
   "id": "1af70b22",
   "metadata": {},
   "outputs": [],
   "source": [
    "DataUrl = 'https://raw.githubusercontent.com/Datamanim/pandas/main/seoul_pm.csv'\n",
    "df = pd.read_csv(DataUrl)"
   ]
  },
  {
   "cell_type": "markdown",
   "id": "d4752f97",
   "metadata": {},
   "source": [
    "## Question 76\n",
    "년-월-일:시 컬럼을 pandas에서 인식할 수 있는 datetime 형태로 변경하라. 서울시의 제공데이터의 경우 0시가 24시로 표현된다."
   ]
  },
  {
   "cell_type": "code",
   "execution_count": null,
   "id": "1f0fefd9",
   "metadata": {},
   "outputs": [],
   "source": [
    "def change_hour(x):\n",
    "    import datetime\n",
    "    date, hour = x.split(':')\n",
    "    day = pd.to_datetime(date)\n",
    "    hour = int(hour)\n",
    "    \n",
    "    if hour == '24':\n",
    "        day = day.timedelta(days=1)\n",
    "        hour = 0\n",
    "        \n",
    "    return day + pd.Timedelta(hours=hour)\n",
    "        \n",
    "df['(년-월-일:시)'] = df['(년-월-일:시)'].apply(change_hour)\n",
    "df.head(3) # timedelta의 사용법을 잘 숙지해야겠다..."
   ]
  },
  {
   "cell_type": "code",
   "execution_count": null,
   "id": "0110af0e",
   "metadata": {},
   "outputs": [],
   "source": [
    "def change_date(x):\n",
    "    import datetime\n",
    "    hour = x.split(':')[1]\n",
    "    date = x.split(\":\")[0]\n",
    "    \n",
    "    if hour =='24':\n",
    "        hour ='00:00:00'\n",
    "        \n",
    "        FinalDate = pd.to_datetime(date +\" \"+hour) +datetime.timedelta(days=1)\n",
    "        \n",
    "    else:\n",
    "        hour = hour +':00:00'\n",
    "        FinalDate = pd.to_datetime(date +\" \"+hour)\n",
    "    \n",
    "    return FinalDate\n",
    "\n",
    "df = pd.read_csv(DataUrl)\n",
    "df['(년-월-일:시)'] = df['(년-월-일:시)'].apply(change_date)\n",
    "\n",
    "Ans = df\n",
    "Ans.head(3) # 데이터마님 답"
   ]
  },
  {
   "cell_type": "markdown",
   "id": "0df28451",
   "metadata": {},
   "source": [
    "## Question 77\n",
    "일자별 영어요일 이름을 dayName 컬럼에 저장하라."
   ]
  },
  {
   "cell_type": "code",
   "execution_count": null,
   "id": "bc236895",
   "metadata": {},
   "outputs": [],
   "source": [
    "day_name = ['Monday', 'Tuesday', 'Wednesday', 'Thursday', 'Friday', 'Saturday', 'Sunday']\n",
    "df['dayName'] = df['(년-월-일:시)'].dt.weekday.map(lambda x : day_name[x])\n",
    "df['dayName'].head(5) # 내가 쓴 답, dt 관련 용어들을 알면... 딸깍으로 해결된다..."
   ]
  },
  {
   "cell_type": "code",
   "execution_count": null,
   "id": "fab980d8",
   "metadata": {},
   "outputs": [],
   "source": [
    "df['dayName']  =df['(년-월-일:시)'].dt.day_name()\n",
    "Ans =df['dayName'] \n",
    "Ans.head(5) # 데이터마님 답"
   ]
  },
  {
   "cell_type": "markdown",
   "id": "baf5c489",
   "metadata": {},
   "source": [
    "## Question 78\n",
    "일자별 각 PM10등급의 빈도수를 파악하라. (결측치가 있다면 0으로 채워라.)"
   ]
  },
  {
   "cell_type": "code",
   "execution_count": null,
   "id": "5fef4a45",
   "metadata": {},
   "outputs": [],
   "source": [
    "df.groupby(['dayName', 'PM10등급']).size().unstack().fillna(0) # 내가 쓴 답, 피봇을 썼구나..."
   ]
  },
  {
   "cell_type": "code",
   "execution_count": null,
   "id": "dd286f3f",
   "metadata": {},
   "outputs": [],
   "source": [
    "Ans1 = df.groupby(['dayName','PM10등급'],as_index=False).size()\n",
    "Ans2 = Ans1.pivot(index='dayName',columns='PM10등급',values='size').fillna(0)"
   ]
  },
  {
   "cell_type": "code",
   "execution_count": null,
   "id": "69a8e455",
   "metadata": {},
   "outputs": [],
   "source": [
    "Ans1.head()"
   ]
  },
  {
   "cell_type": "code",
   "execution_count": null,
   "id": "6d0ff48d",
   "metadata": {},
   "outputs": [],
   "source": [
    "Ans2 # 데이터마님 답"
   ]
  },
  {
   "cell_type": "markdown",
   "id": "b4ef2d10",
   "metadata": {},
   "source": [
    "## Question 79\n",
    "시간이 연속적으로 존재하며 결측치가 없는지 확인하라."
   ]
  },
  {
   "cell_type": "code",
   "execution_count": null,
   "id": "adaa91f0",
   "metadata": {},
   "outputs": [],
   "source": [
    "df['(년-월-일:시)'].diff().value_counts()"
   ]
  },
  {
   "cell_type": "code",
   "execution_count": null,
   "id": "95a7bb2b",
   "metadata": {},
   "outputs": [],
   "source": [
    "df['(년-월-일:시)'].isna().sum() # 내가 쓴 답"
   ]
  },
  {
   "cell_type": "code",
   "execution_count": null,
   "id": "bafaec0e",
   "metadata": {},
   "outputs": [],
   "source": [
    "# 시간을 차분했을 경우 첫 값은 nan, 이후 모든 차분값이 동일하면 연속이라 판단한다.\n",
    "check = len(df['(년-월-일:시)'].diff().unique())\n",
    "if check ==2:\n",
    "    Ans =True\n",
    "else:\n",
    "    Ans = False\n",
    "    \n",
    "Ans # 데이터마님 답"
   ]
  },
  {
   "cell_type": "markdown",
   "id": "eebbeee0",
   "metadata": {},
   "source": [
    "## Question 80\n",
    "오전 10시와 오후 10시(22시)의 PM10의 평균값을 각각 구하여라."
   ]
  },
  {
   "cell_type": "code",
   "execution_count": null,
   "id": "a52acca6",
   "metadata": {},
   "outputs": [],
   "source": [
    "print('오전 10시의 PM10의 평균 값 :' ,df[df['(년-월-일:시)'].dt.hour == 10]['PM10'].mean())\n",
    "print('오후 10시의 PM10의 평균 값 :' ,df[df['(년-월-일:시)'].dt.hour == 22]['PM10'].mean())\n",
    "# 내가 쓴 답, 데이터프레임 형식으로 구하라는 줄은 몰랐지..."
   ]
  },
  {
   "cell_type": "code",
   "execution_count": null,
   "id": "b17f4693",
   "metadata": {},
   "outputs": [],
   "source": [
    "# Ans = df.groupby(df['(년-월-일:시)'].dt.hour).mean().iloc[[10,22],[0]]\n",
    "# Ans # 데이터마님 답, 이 방법도 실행해보면 틀렸다고 나오는데, 아마 PM10을 지정해주는 코드가 없어서 그런 것 같다.\n",
    "\n",
    "Ans = df.groupby(df['(년-월-일:시)'].dt.hour)['PM10'].mean().iloc[[10,22]].to_frame()\n",
    "Ans # 데이터마님 사이트에 나온 답"
   ]
  },
  {
   "cell_type": "markdown",
   "id": "531cf805",
   "metadata": {},
   "source": [
    "## Question 81\n",
    "날짜 컬럼을 index로 만들어라."
   ]
  },
  {
   "cell_type": "code",
   "execution_count": null,
   "id": "317fdeb3",
   "metadata": {},
   "outputs": [],
   "source": [
    "df.set_index('(년-월-일:시)',inplace=True,drop=True)\n",
    "df.head(3)"
   ]
  },
  {
   "cell_type": "markdown",
   "id": "f0bee7c0",
   "metadata": {},
   "source": [
    "## Question 82\n",
    "데이터를 주단위로 뽑아서 최소,최대 평균, 표준표차를 구하여라."
   ]
  },
  {
   "cell_type": "code",
   "execution_count": null,
   "id": "f156c26f",
   "metadata": {},
   "outputs": [],
   "source": [
    "df.info()"
   ]
  },
  {
   "cell_type": "code",
   "execution_count": null,
   "id": "144a4cb8",
   "metadata": {},
   "outputs": [],
   "source": [
    "numeric_cols = df.select_dtypes(include='number').columns\n",
    "df.resample('W')[numeric_cols].agg(['min','max','mean','std'])\n",
    "# 내가 쓴 답, 원래는 데이터마님 답으로 썼다가 vs code에서는 수치형 컬럼을 따로 지정하지 않으면 오류가 발생해서 이렇게 했습니다."
   ]
  },
  {
   "cell_type": "code",
   "execution_count": null,
   "id": "537058d8",
   "metadata": {},
   "outputs": [],
   "source": [
    "df.resample('W').agg(['min','max','mean','std']) # 데이터마님 답"
   ]
  },
  {
   "cell_type": "markdown",
   "id": "f77c3cfa",
   "metadata": {},
   "source": [
    "# 06_Pivot\n",
    "국가별 5세이하 사망비율 통계 : https://www.kaggle.com/utkarshxy/who-worldhealth-statistics-2020-complete<br>\n",
    "Dataurl = ‘https://raw.githubusercontent.com/Datamanim/pandas/main/under5MortalityRate.csv’"
   ]
  },
  {
   "cell_type": "markdown",
   "id": "88192e10",
   "metadata": {},
   "source": [
    "## Question 83\n",
    "Indicator을 삭제하고 First Tooltip 컬럼에서 신뢰구간에 해당하는 표현을 지워라."
   ]
  },
  {
   "cell_type": "code",
   "execution_count": 721,
   "id": "7a7f10ed",
   "metadata": {},
   "outputs": [],
   "source": [
    "DataUrl = 'https://raw.githubusercontent.com/Datamanim/pandas/main/under5MortalityRate.csv'\n",
    "df = pd.read_csv(DataUrl)"
   ]
  },
  {
   "cell_type": "code",
   "execution_count": null,
   "id": "7f1542ee",
   "metadata": {},
   "outputs": [],
   "source": [
    "df.drop(columns='Indicator', inplace=True)\n",
    "\n",
    "def del_con(x) :\n",
    "    first = x.split(' ')[0]\n",
    "    return float(first)\n",
    "\n",
    "df['First Tooltip'] = df['First Tooltip'].apply(del_con)\n",
    "df.head(4)\n",
    "\n",
    "# df['First Tooltip'] = df['First Tooltip'].map(lambda x : float(x.split(' ')[0]))\n",
    "# df.head(4)\n",
    "# 내가 쓴 답, apply와 map 두 가지 방법으로 가능하다~\n"
   ]
  },
  {
   "cell_type": "markdown",
   "id": "8af81e9c",
   "metadata": {},
   "source": [
    "## Question 84\n",
    "년도가 2015년 이상, Dim1이 Both sexes인 케이스만 추출하라."
   ]
  },
  {
   "cell_type": "code",
   "execution_count": null,
   "id": "83694cdf",
   "metadata": {},
   "outputs": [],
   "source": []
  },
  {
   "cell_type": "markdown",
   "id": "a785dea0",
   "metadata": {},
   "source": [
    "## Question 85\n",
    "84번 문제에서 추출한 데이터로 아래와 같이 나라에 따른 년도별 사망률을 데이터 프레임화 하라."
   ]
  },
  {
   "cell_type": "code",
   "execution_count": null,
   "id": "0dce71dc",
   "metadata": {},
   "outputs": [],
   "source": []
  },
  {
   "cell_type": "markdown",
   "id": "c0f481f2",
   "metadata": {},
   "source": [
    "## Question 86\n",
    "Dim1에 따른 년도별 사망비율의 평균을 구하라."
   ]
  },
  {
   "cell_type": "code",
   "execution_count": null,
   "id": "9a0518cd",
   "metadata": {},
   "outputs": [],
   "source": []
  },
  {
   "cell_type": "markdown",
   "id": "2bd53a02",
   "metadata": {},
   "source": [
    "올림픽 메달리스트 정보 데이터: https://www.kaggle.com/the-guardian/olympic-games<br>\n",
    "dataUrl =’https://raw.githubusercontent.com/Datamanim/pandas/main/winter.csv’\n",
    "\n"
   ]
  },
  {
   "cell_type": "markdown",
   "id": "ed952c10",
   "metadata": {},
   "source": [
    "## Question 87\n",
    "데이터에서 한국 KOR 데이터만 추출하라."
   ]
  },
  {
   "cell_type": "code",
   "execution_count": null,
   "id": "5dc430fa",
   "metadata": {},
   "outputs": [],
   "source": []
  },
  {
   "cell_type": "markdown",
   "id": "ce078ca2",
   "metadata": {},
   "source": [
    "## Question 88\n",
    "한국 올림픽 메달리스트 데이터에서 년도에 따른 medal 갯수를 데이터프레임화 하라."
   ]
  },
  {
   "cell_type": "code",
   "execution_count": null,
   "id": "e6703898",
   "metadata": {},
   "outputs": [],
   "source": []
  },
  {
   "cell_type": "markdown",
   "id": "da9cd034",
   "metadata": {},
   "source": [
    "## Question 89\n",
    "전체 데이터에서 sport종류에 따른 성별수를 구하여라."
   ]
  },
  {
   "cell_type": "code",
   "execution_count": null,
   "id": "9d51fcb1",
   "metadata": {},
   "outputs": [],
   "source": []
  },
  {
   "cell_type": "markdown",
   "id": "eea5fe25",
   "metadata": {},
   "source": [
    "## Question 90\n",
    "전체 데이터에서 Discipline종류에 따른 따른 Medal수를 구하여라."
   ]
  },
  {
   "cell_type": "code",
   "execution_count": null,
   "id": "2223c1e6",
   "metadata": {},
   "outputs": [],
   "source": []
  },
  {
   "cell_type": "markdown",
   "id": "10ec96c7",
   "metadata": {},
   "source": [
    "# 07_Merge, Concat\n",
    "국가별 5세이하 사망비율 통계 : https://www.kaggle.com/utkarshxy/who-worldhealth-statistics-2020-complete<br>\n",
    "데이터 변형\n",
    "Dataurl = ‘https://raw.githubusercontent.com/Datamanim/pandas/main/mergeTEst.csv’"
   ]
  },
  {
   "cell_type": "markdown",
   "id": "a8c4c7b7",
   "metadata": {},
   "source": [
    "## Question 91\n",
    "df1과 df2 데이터를 하나의 데이터 프레임으로 합쳐라."
   ]
  },
  {
   "cell_type": "code",
   "execution_count": null,
   "id": "401584ea",
   "metadata": {},
   "outputs": [],
   "source": []
  },
  {
   "cell_type": "markdown",
   "id": "1d266789",
   "metadata": {},
   "source": [
    "## Question 92\n",
    "df3과 df4 데이터를 하나의 데이터 프레임으로 합쳐라. 둘다 포함하고 있는 년도에 대해서만 고려한다."
   ]
  },
  {
   "cell_type": "code",
   "execution_count": null,
   "id": "313caf9f",
   "metadata": {},
   "outputs": [],
   "source": []
  },
  {
   "cell_type": "markdown",
   "id": "a5f05fed",
   "metadata": {},
   "source": [
    "## Question 93\n",
    "df3과 df4 데이터를 하나의 데이터 프레임으로 합쳐라. 모든 컬럼을 포함하고, 결측치는 0으로 대체한다."
   ]
  },
  {
   "cell_type": "code",
   "execution_count": null,
   "id": "da865b1e",
   "metadata": {},
   "outputs": [],
   "source": []
  },
  {
   "cell_type": "markdown",
   "id": "07134711",
   "metadata": {},
   "source": [
    "## Question 94\n",
    "df5과 df6 데이터를 하나의 데이터 프레임으로 merge함수를 이용하여 합쳐라. Algeria컬럼을 key로 하고 두 데이터 모두 포함하는 데이터만 출력하라."
   ]
  },
  {
   "cell_type": "code",
   "execution_count": null,
   "id": "8fcc9199",
   "metadata": {},
   "outputs": [],
   "source": []
  },
  {
   "cell_type": "markdown",
   "id": "b2abf287",
   "metadata": {},
   "source": [
    "## Question 95\n",
    "df5과 df6 데이터를 하나의 데이터 프레임으로 merge함수를 이용하여 합쳐라. Algeria컬럼을 key로 하고 합집합으로 합쳐라."
   ]
  },
  {
   "cell_type": "code",
   "execution_count": null,
   "id": "8fc14e69",
   "metadata": {},
   "outputs": [],
   "source": []
  }
 ],
 "metadata": {
  "kernelspec": {
   "display_name": "base",
   "language": "python",
   "name": "python3"
  },
  "language_info": {
   "codemirror_mode": {
    "name": "ipython",
    "version": 3
   },
   "file_extension": ".py",
   "mimetype": "text/x-python",
   "name": "python",
   "nbconvert_exporter": "python",
   "pygments_lexer": "ipython3",
   "version": "3.12.7"
  }
 },
 "nbformat": 4,
 "nbformat_minor": 5
}
