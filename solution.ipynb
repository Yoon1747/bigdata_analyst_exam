{
 "cells": [
  {
   "cell_type": "markdown",
   "id": "92d7b193",
   "metadata": {},
   "source": [
    "**vs code로 작성했으며, 자동완성 때문에 불편하다면 https://chaeeunsong.tistory.com/91 여기 참고해서 자동완성 해제하세요.<br>**\n"
   ]
  },
  {
   "cell_type": "markdown",
   "id": "ad49e02a",
   "metadata": {},
   "source": [
    "# 01 Getting & Knowing Data"
   ]
  },
  {
   "cell_type": "markdown",
   "id": "2c781a2c",
   "metadata": {},
   "source": [
    "## Question 1\n",
    "데이터를 로드하라. 데이터는 \\t을 기준으로 구분되어있다."
   ]
  },
  {
   "cell_type": "code",
   "execution_count": 346,
   "id": "52aaf3f3",
   "metadata": {},
   "outputs": [],
   "source": [
    "import pandas as pd"
   ]
  },
  {
   "cell_type": "code",
   "execution_count": 347,
   "id": "7f3d8779",
   "metadata": {},
   "outputs": [],
   "source": [
    "DataUrl = 'https://raw.githubusercontent.com/Datamanim/pandas/main/lol.csv'"
   ]
  },
  {
   "cell_type": "code",
   "execution_count": 348,
   "id": "773cf787",
   "metadata": {},
   "outputs": [],
   "source": [
    "df = pd.read_csv(DataUrl, sep='\\t')"
   ]
  },
  {
   "cell_type": "markdown",
   "id": "6f19fec8",
   "metadata": {},
   "source": [
    "## Question 2\n",
    "데이터의 상위 5개 행을 출력하라."
   ]
  },
  {
   "cell_type": "code",
   "execution_count": 349,
   "id": "1e2b1d1d",
   "metadata": {},
   "outputs": [
    {
     "data": {
      "application/vnd.microsoft.datawrangler.viewer.v0+json": {
       "columns": [
        {
         "name": "index",
         "rawType": "int64",
         "type": "integer"
        },
        {
         "name": "gameId",
         "rawType": "int64",
         "type": "integer"
        },
        {
         "name": "creationTime",
         "rawType": "int64",
         "type": "integer"
        },
        {
         "name": "gameDuration",
         "rawType": "int64",
         "type": "integer"
        },
        {
         "name": "seasonId",
         "rawType": "int64",
         "type": "integer"
        },
        {
         "name": "winner",
         "rawType": "int64",
         "type": "integer"
        },
        {
         "name": "firstBlood",
         "rawType": "int64",
         "type": "integer"
        },
        {
         "name": "firstTower",
         "rawType": "int64",
         "type": "integer"
        },
        {
         "name": "firstInhibitor",
         "rawType": "int64",
         "type": "integer"
        },
        {
         "name": "firstBaron",
         "rawType": "int64",
         "type": "integer"
        },
        {
         "name": "firstDragon",
         "rawType": "int64",
         "type": "integer"
        },
        {
         "name": "firstRiftHerald",
         "rawType": "int64",
         "type": "integer"
        },
        {
         "name": "t1_champ1id",
         "rawType": "int64",
         "type": "integer"
        },
        {
         "name": "t1_champ1_sum1",
         "rawType": "int64",
         "type": "integer"
        },
        {
         "name": "t1_champ1_sum2",
         "rawType": "int64",
         "type": "integer"
        },
        {
         "name": "t1_champ2id",
         "rawType": "int64",
         "type": "integer"
        },
        {
         "name": "t1_champ2_sum1",
         "rawType": "int64",
         "type": "integer"
        },
        {
         "name": "t1_champ2_sum2",
         "rawType": "int64",
         "type": "integer"
        },
        {
         "name": "t1_champ3id",
         "rawType": "int64",
         "type": "integer"
        },
        {
         "name": "t1_champ3_sum1",
         "rawType": "int64",
         "type": "integer"
        },
        {
         "name": "t1_champ3_sum2",
         "rawType": "int64",
         "type": "integer"
        },
        {
         "name": "t1_champ4id",
         "rawType": "int64",
         "type": "integer"
        },
        {
         "name": "t1_champ4_sum1",
         "rawType": "int64",
         "type": "integer"
        },
        {
         "name": "t1_champ4_sum2",
         "rawType": "int64",
         "type": "integer"
        },
        {
         "name": "t1_champ5id",
         "rawType": "int64",
         "type": "integer"
        },
        {
         "name": "t1_champ5_sum1",
         "rawType": "int64",
         "type": "integer"
        },
        {
         "name": "t1_champ5_sum2",
         "rawType": "int64",
         "type": "integer"
        },
        {
         "name": "t1_towerKills",
         "rawType": "int64",
         "type": "integer"
        },
        {
         "name": "t1_inhibitorKills",
         "rawType": "int64",
         "type": "integer"
        },
        {
         "name": "t1_baronKills",
         "rawType": "int64",
         "type": "integer"
        },
        {
         "name": "t1_dragonKills",
         "rawType": "int64",
         "type": "integer"
        },
        {
         "name": "t1_riftHeraldKills",
         "rawType": "int64",
         "type": "integer"
        },
        {
         "name": "t1_ban1",
         "rawType": "int64",
         "type": "integer"
        },
        {
         "name": "t1_ban2",
         "rawType": "int64",
         "type": "integer"
        },
        {
         "name": "t1_ban3",
         "rawType": "int64",
         "type": "integer"
        },
        {
         "name": "t1_ban4",
         "rawType": "int64",
         "type": "integer"
        },
        {
         "name": "t1_ban5",
         "rawType": "int64",
         "type": "integer"
        },
        {
         "name": "t2_champ1id",
         "rawType": "int64",
         "type": "integer"
        },
        {
         "name": "t2_champ1_sum1",
         "rawType": "int64",
         "type": "integer"
        },
        {
         "name": "t2_champ1_sum2",
         "rawType": "int64",
         "type": "integer"
        },
        {
         "name": "t2_champ2id",
         "rawType": "int64",
         "type": "integer"
        },
        {
         "name": "t2_champ2_sum1",
         "rawType": "int64",
         "type": "integer"
        },
        {
         "name": "t2_champ2_sum2",
         "rawType": "int64",
         "type": "integer"
        },
        {
         "name": "t2_champ3id",
         "rawType": "int64",
         "type": "integer"
        },
        {
         "name": "t2_champ3_sum1",
         "rawType": "int64",
         "type": "integer"
        },
        {
         "name": "t2_champ3_sum2",
         "rawType": "int64",
         "type": "integer"
        },
        {
         "name": "t2_champ4id",
         "rawType": "int64",
         "type": "integer"
        },
        {
         "name": "t2_champ4_sum1",
         "rawType": "int64",
         "type": "integer"
        },
        {
         "name": "t2_champ4_sum2",
         "rawType": "int64",
         "type": "integer"
        },
        {
         "name": "t2_champ5id",
         "rawType": "int64",
         "type": "integer"
        },
        {
         "name": "t2_champ5_sum1",
         "rawType": "int64",
         "type": "integer"
        },
        {
         "name": "t2_champ5_sum2",
         "rawType": "int64",
         "type": "integer"
        },
        {
         "name": "t2_towerKills",
         "rawType": "int64",
         "type": "integer"
        },
        {
         "name": "t2_inhibitorKills",
         "rawType": "int64",
         "type": "integer"
        },
        {
         "name": "t2_baronKills",
         "rawType": "int64",
         "type": "integer"
        },
        {
         "name": "t2_dragonKills",
         "rawType": "int64",
         "type": "integer"
        },
        {
         "name": "t2_riftHeraldKills",
         "rawType": "int64",
         "type": "integer"
        },
        {
         "name": "t2_ban1",
         "rawType": "int64",
         "type": "integer"
        },
        {
         "name": "t2_ban2",
         "rawType": "int64",
         "type": "integer"
        },
        {
         "name": "t2_ban3",
         "rawType": "int64",
         "type": "integer"
        },
        {
         "name": "t2_ban4",
         "rawType": "int64",
         "type": "integer"
        },
        {
         "name": "t2_ban5",
         "rawType": "int64",
         "type": "integer"
        }
       ],
       "ref": "ca9c096b-14f0-47d6-9506-29b24412b644",
       "rows": [
        [
         "0",
         "3326086514",
         "1504279457970",
         "1949",
         "9",
         "1",
         "2",
         "1",
         "1",
         "1",
         "1",
         "2",
         "8",
         "12",
         "4",
         "432",
         "3",
         "4",
         "96",
         "4",
         "7",
         "11",
         "11",
         "6",
         "112",
         "4",
         "14",
         "11",
         "1",
         "2",
         "3",
         "0",
         "92",
         "40",
         "69",
         "119",
         "141",
         "104",
         "11",
         "4",
         "498",
         "4",
         "7",
         "122",
         "6",
         "4",
         "238",
         "14",
         "4",
         "412",
         "4",
         "3",
         "5",
         "0",
         "0",
         "1",
         "1",
         "114",
         "67",
         "43",
         "16",
         "51"
        ],
        [
         "1",
         "3229566029",
         "1497848803862",
         "1851",
         "9",
         "1",
         "1",
         "1",
         "1",
         "0",
         "1",
         "1",
         "119",
         "7",
         "4",
         "39",
         "12",
         "4",
         "76",
         "4",
         "3",
         "10",
         "4",
         "14",
         "35",
         "4",
         "11",
         "10",
         "4",
         "0",
         "2",
         "1",
         "51",
         "122",
         "17",
         "498",
         "19",
         "54",
         "4",
         "12",
         "25",
         "4",
         "14",
         "120",
         "11",
         "4",
         "157",
         "4",
         "14",
         "92",
         "4",
         "7",
         "2",
         "0",
         "0",
         "0",
         "0",
         "11",
         "67",
         "238",
         "51",
         "420"
        ],
        [
         "2",
         "3327363504",
         "1504360103310",
         "1493",
         "9",
         "1",
         "2",
         "1",
         "1",
         "1",
         "2",
         "0",
         "18",
         "4",
         "7",
         "141",
         "11",
         "4",
         "267",
         "3",
         "4",
         "68",
         "4",
         "12",
         "38",
         "12",
         "4",
         "8",
         "1",
         "1",
         "1",
         "0",
         "117",
         "40",
         "29",
         "16",
         "53",
         "69",
         "4",
         "7",
         "412",
         "14",
         "4",
         "126",
         "4",
         "12",
         "24",
         "4",
         "11",
         "22",
         "7",
         "4",
         "2",
         "0",
         "0",
         "1",
         "0",
         "157",
         "238",
         "121",
         "57",
         "28"
        ],
        [
         "3",
         "3326856598",
         "1504348503996",
         "1758",
         "9",
         "1",
         "1",
         "1",
         "1",
         "1",
         "1",
         "0",
         "57",
         "4",
         "12",
         "63",
         "4",
         "14",
         "29",
         "4",
         "7",
         "61",
         "4",
         "1",
         "36",
         "11",
         "4",
         "9",
         "2",
         "1",
         "2",
         "0",
         "238",
         "67",
         "516",
         "114",
         "31",
         "90",
         "14",
         "4",
         "19",
         "11",
         "4",
         "412",
         "4",
         "3",
         "92",
         "4",
         "14",
         "22",
         "4",
         "7",
         "0",
         "0",
         "0",
         "0",
         "0",
         "164",
         "18",
         "141",
         "40",
         "51"
        ],
        [
         "4",
         "3330080762",
         "1504554410899",
         "2094",
         "9",
         "1",
         "2",
         "1",
         "1",
         "1",
         "1",
         "0",
         "19",
         "4",
         "12",
         "29",
         "11",
         "4",
         "40",
         "4",
         "3",
         "119",
         "4",
         "7",
         "134",
         "7",
         "4",
         "9",
         "2",
         "1",
         "3",
         "0",
         "90",
         "64",
         "412",
         "25",
         "31",
         "37",
         "3",
         "4",
         "59",
         "4",
         "12",
         "141",
         "11",
         "4",
         "38",
         "4",
         "12",
         "51",
         "4",
         "7",
         "3",
         "0",
         "0",
         "1",
         "0",
         "86",
         "11",
         "201",
         "122",
         "18"
        ]
       ],
       "shape": {
        "columns": 61,
        "rows": 5
       }
      },
      "text/html": [
       "<div>\n",
       "<style scoped>\n",
       "    .dataframe tbody tr th:only-of-type {\n",
       "        vertical-align: middle;\n",
       "    }\n",
       "\n",
       "    .dataframe tbody tr th {\n",
       "        vertical-align: top;\n",
       "    }\n",
       "\n",
       "    .dataframe thead th {\n",
       "        text-align: right;\n",
       "    }\n",
       "</style>\n",
       "<table border=\"1\" class=\"dataframe\">\n",
       "  <thead>\n",
       "    <tr style=\"text-align: right;\">\n",
       "      <th></th>\n",
       "      <th>gameId</th>\n",
       "      <th>creationTime</th>\n",
       "      <th>gameDuration</th>\n",
       "      <th>seasonId</th>\n",
       "      <th>winner</th>\n",
       "      <th>firstBlood</th>\n",
       "      <th>firstTower</th>\n",
       "      <th>firstInhibitor</th>\n",
       "      <th>firstBaron</th>\n",
       "      <th>firstDragon</th>\n",
       "      <th>...</th>\n",
       "      <th>t2_towerKills</th>\n",
       "      <th>t2_inhibitorKills</th>\n",
       "      <th>t2_baronKills</th>\n",
       "      <th>t2_dragonKills</th>\n",
       "      <th>t2_riftHeraldKills</th>\n",
       "      <th>t2_ban1</th>\n",
       "      <th>t2_ban2</th>\n",
       "      <th>t2_ban3</th>\n",
       "      <th>t2_ban4</th>\n",
       "      <th>t2_ban5</th>\n",
       "    </tr>\n",
       "  </thead>\n",
       "  <tbody>\n",
       "    <tr>\n",
       "      <th>0</th>\n",
       "      <td>3326086514</td>\n",
       "      <td>1504279457970</td>\n",
       "      <td>1949</td>\n",
       "      <td>9</td>\n",
       "      <td>1</td>\n",
       "      <td>2</td>\n",
       "      <td>1</td>\n",
       "      <td>1</td>\n",
       "      <td>1</td>\n",
       "      <td>1</td>\n",
       "      <td>...</td>\n",
       "      <td>5</td>\n",
       "      <td>0</td>\n",
       "      <td>0</td>\n",
       "      <td>1</td>\n",
       "      <td>1</td>\n",
       "      <td>114</td>\n",
       "      <td>67</td>\n",
       "      <td>43</td>\n",
       "      <td>16</td>\n",
       "      <td>51</td>\n",
       "    </tr>\n",
       "    <tr>\n",
       "      <th>1</th>\n",
       "      <td>3229566029</td>\n",
       "      <td>1497848803862</td>\n",
       "      <td>1851</td>\n",
       "      <td>9</td>\n",
       "      <td>1</td>\n",
       "      <td>1</td>\n",
       "      <td>1</td>\n",
       "      <td>1</td>\n",
       "      <td>0</td>\n",
       "      <td>1</td>\n",
       "      <td>...</td>\n",
       "      <td>2</td>\n",
       "      <td>0</td>\n",
       "      <td>0</td>\n",
       "      <td>0</td>\n",
       "      <td>0</td>\n",
       "      <td>11</td>\n",
       "      <td>67</td>\n",
       "      <td>238</td>\n",
       "      <td>51</td>\n",
       "      <td>420</td>\n",
       "    </tr>\n",
       "    <tr>\n",
       "      <th>2</th>\n",
       "      <td>3327363504</td>\n",
       "      <td>1504360103310</td>\n",
       "      <td>1493</td>\n",
       "      <td>9</td>\n",
       "      <td>1</td>\n",
       "      <td>2</td>\n",
       "      <td>1</td>\n",
       "      <td>1</td>\n",
       "      <td>1</td>\n",
       "      <td>2</td>\n",
       "      <td>...</td>\n",
       "      <td>2</td>\n",
       "      <td>0</td>\n",
       "      <td>0</td>\n",
       "      <td>1</td>\n",
       "      <td>0</td>\n",
       "      <td>157</td>\n",
       "      <td>238</td>\n",
       "      <td>121</td>\n",
       "      <td>57</td>\n",
       "      <td>28</td>\n",
       "    </tr>\n",
       "    <tr>\n",
       "      <th>3</th>\n",
       "      <td>3326856598</td>\n",
       "      <td>1504348503996</td>\n",
       "      <td>1758</td>\n",
       "      <td>9</td>\n",
       "      <td>1</td>\n",
       "      <td>1</td>\n",
       "      <td>1</td>\n",
       "      <td>1</td>\n",
       "      <td>1</td>\n",
       "      <td>1</td>\n",
       "      <td>...</td>\n",
       "      <td>0</td>\n",
       "      <td>0</td>\n",
       "      <td>0</td>\n",
       "      <td>0</td>\n",
       "      <td>0</td>\n",
       "      <td>164</td>\n",
       "      <td>18</td>\n",
       "      <td>141</td>\n",
       "      <td>40</td>\n",
       "      <td>51</td>\n",
       "    </tr>\n",
       "    <tr>\n",
       "      <th>4</th>\n",
       "      <td>3330080762</td>\n",
       "      <td>1504554410899</td>\n",
       "      <td>2094</td>\n",
       "      <td>9</td>\n",
       "      <td>1</td>\n",
       "      <td>2</td>\n",
       "      <td>1</td>\n",
       "      <td>1</td>\n",
       "      <td>1</td>\n",
       "      <td>1</td>\n",
       "      <td>...</td>\n",
       "      <td>3</td>\n",
       "      <td>0</td>\n",
       "      <td>0</td>\n",
       "      <td>1</td>\n",
       "      <td>0</td>\n",
       "      <td>86</td>\n",
       "      <td>11</td>\n",
       "      <td>201</td>\n",
       "      <td>122</td>\n",
       "      <td>18</td>\n",
       "    </tr>\n",
       "  </tbody>\n",
       "</table>\n",
       "<p>5 rows × 61 columns</p>\n",
       "</div>"
      ],
      "text/plain": [
       "       gameId   creationTime  gameDuration  seasonId  winner  firstBlood  \\\n",
       "0  3326086514  1504279457970          1949         9       1           2   \n",
       "1  3229566029  1497848803862          1851         9       1           1   \n",
       "2  3327363504  1504360103310          1493         9       1           2   \n",
       "3  3326856598  1504348503996          1758         9       1           1   \n",
       "4  3330080762  1504554410899          2094         9       1           2   \n",
       "\n",
       "   firstTower  firstInhibitor  firstBaron  firstDragon  ...  t2_towerKills  \\\n",
       "0           1               1           1            1  ...              5   \n",
       "1           1               1           0            1  ...              2   \n",
       "2           1               1           1            2  ...              2   \n",
       "3           1               1           1            1  ...              0   \n",
       "4           1               1           1            1  ...              3   \n",
       "\n",
       "   t2_inhibitorKills  t2_baronKills  t2_dragonKills  t2_riftHeraldKills  \\\n",
       "0                  0              0               1                   1   \n",
       "1                  0              0               0                   0   \n",
       "2                  0              0               1                   0   \n",
       "3                  0              0               0                   0   \n",
       "4                  0              0               1                   0   \n",
       "\n",
       "   t2_ban1  t2_ban2  t2_ban3  t2_ban4  t2_ban5  \n",
       "0      114       67       43       16       51  \n",
       "1       11       67      238       51      420  \n",
       "2      157      238      121       57       28  \n",
       "3      164       18      141       40       51  \n",
       "4       86       11      201      122       18  \n",
       "\n",
       "[5 rows x 61 columns]"
      ]
     },
     "execution_count": 349,
     "metadata": {},
     "output_type": "execute_result"
    }
   ],
   "source": [
    "df.head()"
   ]
  },
  {
   "cell_type": "markdown",
   "id": "cf523488",
   "metadata": {},
   "source": [
    "## Question 3\n",
    "데이터의 행과 열의 갯수를 파악하라."
   ]
  },
  {
   "cell_type": "code",
   "execution_count": 350,
   "id": "9ff64c4b",
   "metadata": {},
   "outputs": [
    {
     "name": "stdout",
     "output_type": "stream",
     "text": [
      "(51490, 61)\n",
      "행:  51490\n",
      "열:  61\n"
     ]
    }
   ],
   "source": [
    "print(df.shape)\n",
    "print('행: ', df.shape[0])\n",
    "print('열: ', df.shape[1])"
   ]
  },
  {
   "cell_type": "markdown",
   "id": "a4b6a013",
   "metadata": {},
   "source": [
    "## Question 4\n",
    "전체 컬럼을 출력하라."
   ]
  },
  {
   "cell_type": "code",
   "execution_count": 351,
   "id": "d5f0fbb7",
   "metadata": {},
   "outputs": [
    {
     "data": {
      "text/plain": [
       "Index(['gameId', 'creationTime', 'gameDuration', 'seasonId', 'winner',\n",
       "       'firstBlood', 'firstTower', 'firstInhibitor', 'firstBaron',\n",
       "       'firstDragon', 'firstRiftHerald', 't1_champ1id', 't1_champ1_sum1',\n",
       "       't1_champ1_sum2', 't1_champ2id', 't1_champ2_sum1', 't1_champ2_sum2',\n",
       "       't1_champ3id', 't1_champ3_sum1', 't1_champ3_sum2', 't1_champ4id',\n",
       "       't1_champ4_sum1', 't1_champ4_sum2', 't1_champ5id', 't1_champ5_sum1',\n",
       "       't1_champ5_sum2', 't1_towerKills', 't1_inhibitorKills', 't1_baronKills',\n",
       "       't1_dragonKills', 't1_riftHeraldKills', 't1_ban1', 't1_ban2', 't1_ban3',\n",
       "       't1_ban4', 't1_ban5', 't2_champ1id', 't2_champ1_sum1', 't2_champ1_sum2',\n",
       "       't2_champ2id', 't2_champ2_sum1', 't2_champ2_sum2', 't2_champ3id',\n",
       "       't2_champ3_sum1', 't2_champ3_sum2', 't2_champ4id', 't2_champ4_sum1',\n",
       "       't2_champ4_sum2', 't2_champ5id', 't2_champ5_sum1', 't2_champ5_sum2',\n",
       "       't2_towerKills', 't2_inhibitorKills', 't2_baronKills', 't2_dragonKills',\n",
       "       't2_riftHeraldKills', 't2_ban1', 't2_ban2', 't2_ban3', 't2_ban4',\n",
       "       't2_ban5'],\n",
       "      dtype='object')"
      ]
     },
     "execution_count": 351,
     "metadata": {},
     "output_type": "execute_result"
    }
   ],
   "source": [
    "df.columns"
   ]
  },
  {
   "cell_type": "markdown",
   "id": "0bb541f1",
   "metadata": {},
   "source": [
    "## Question 5\n",
    "6번째 컬럼명을 출력하라."
   ]
  },
  {
   "cell_type": "code",
   "execution_count": 352,
   "id": "4176185c",
   "metadata": {},
   "outputs": [
    {
     "data": {
      "text/plain": [
       "'firstBlood'"
      ]
     },
     "execution_count": 352,
     "metadata": {},
     "output_type": "execute_result"
    }
   ],
   "source": [
    "df.columns[5]"
   ]
  },
  {
   "cell_type": "markdown",
   "id": "5fb30c4f",
   "metadata": {},
   "source": [
    "## Question 6\n",
    "6번재 컬럼의 데이터 타입을 확인하라."
   ]
  },
  {
   "cell_type": "code",
   "execution_count": 353,
   "id": "f15d3546",
   "metadata": {},
   "outputs": [
    {
     "name": "stderr",
     "output_type": "stream",
     "text": [
      "/var/folders/wc/37r_75fd22b85qjpds1gvrgr0000gn/T/ipykernel_98578/1693724288.py:1: FutureWarning: Series.__getitem__ treating keys as positions is deprecated. In a future version, integer keys will always be treated as labels (consistent with DataFrame behavior). To access a value by position, use `ser.iloc[pos]`\n",
      "  df.dtypes[5] # 내가 쓴 답, 경고문에서 iloc을 사용하라고 합니다.\n"
     ]
    },
    {
     "data": {
      "text/plain": [
       "dtype('int64')"
      ]
     },
     "execution_count": 353,
     "metadata": {},
     "output_type": "execute_result"
    }
   ],
   "source": [
    "df.dtypes[5] # 내가 쓴 답, 경고문에서 iloc을 사용하라고 합니다."
   ]
  },
  {
   "cell_type": "code",
   "execution_count": 354,
   "id": "082f734d",
   "metadata": {},
   "outputs": [
    {
     "data": {
      "text/plain": [
       "dtype('int64')"
      ]
     },
     "execution_count": 354,
     "metadata": {},
     "output_type": "execute_result"
    }
   ],
   "source": [
    "df.iloc[:,5].dtype # 데이터마님 답"
   ]
  },
  {
   "cell_type": "markdown",
   "id": "f6b6dc17",
   "metadata": {},
   "source": [
    "## Question 7\n",
    "데이터 셋의 인덱스 구성은 어떤가."
   ]
  },
  {
   "cell_type": "code",
   "execution_count": 355,
   "id": "8de9d6ec",
   "metadata": {},
   "outputs": [
    {
     "data": {
      "text/plain": [
       "RangeIndex(start=0, stop=51490, step=1)"
      ]
     },
     "execution_count": 355,
     "metadata": {},
     "output_type": "execute_result"
    }
   ],
   "source": [
    "df.index"
   ]
  },
  {
   "cell_type": "markdown",
   "id": "3209a61c",
   "metadata": {},
   "source": [
    "## Question 8\n",
    "6번째 컬럼의 3번째 값은 무엇인가?"
   ]
  },
  {
   "cell_type": "code",
   "execution_count": 356,
   "id": "098aaeb3",
   "metadata": {},
   "outputs": [
    {
     "data": {
      "text/plain": [
       "2"
      ]
     },
     "execution_count": 356,
     "metadata": {},
     "output_type": "execute_result"
    }
   ],
   "source": [
    "df.iloc[:,5].iloc[2]"
   ]
  },
  {
   "cell_type": "markdown",
   "id": "362f3759",
   "metadata": {},
   "source": [
    "## Question 9\n",
    "데이터를 로드하라. 컬럼이 한글이기에 적절한 처리를 해야함.\n",
    "<br><br>\n",
    "제주 날씨,인구에 따른 교통량데이터 : 출처\n",
    "<br>\n",
    "제주 데이터 허브 DataUrl = ‘https://raw.githubusercontent.com/Datamanim/pandas/main/Jeju.csv’"
   ]
  },
  {
   "cell_type": "code",
   "execution_count": 357,
   "id": "8d5ecdbb",
   "metadata": {},
   "outputs": [],
   "source": [
    "DataUrl = 'https://raw.githubusercontent.com/Datamanim/pandas/main/Jeju.csv'"
   ]
  },
  {
   "cell_type": "code",
   "execution_count": 358,
   "id": "c51e7571",
   "metadata": {},
   "outputs": [
    {
     "data": {
      "application/vnd.microsoft.datawrangler.viewer.v0+json": {
       "columns": [
        {
         "name": "index",
         "rawType": "int64",
         "type": "integer"
        },
        {
         "name": "id",
         "rawType": "int64",
         "type": "integer"
        },
        {
         "name": "일자",
         "rawType": "object",
         "type": "string"
        },
        {
         "name": "시도명",
         "rawType": "object",
         "type": "string"
        },
        {
         "name": "읍면동명",
         "rawType": "object",
         "type": "string"
        },
        {
         "name": "거주인구",
         "rawType": "float64",
         "type": "float"
        },
        {
         "name": "근무인구",
         "rawType": "float64",
         "type": "float"
        },
        {
         "name": "방문인구",
         "rawType": "float64",
         "type": "float"
        },
        {
         "name": "총 유동인구",
         "rawType": "float64",
         "type": "float"
        },
        {
         "name": "평균 속도",
         "rawType": "float64",
         "type": "float"
        },
        {
         "name": "평균 소요 시간",
         "rawType": "float64",
         "type": "float"
        },
        {
         "name": "평균 기온",
         "rawType": "float64",
         "type": "float"
        },
        {
         "name": "일강수량",
         "rawType": "float64",
         "type": "float"
        },
        {
         "name": "평균 풍속",
         "rawType": "float64",
         "type": "float"
        }
       ],
       "ref": "22e16708-63c0-4fbc-b178-1bfc02167d64",
       "rows": [
        [
         "0",
         "22448",
         "2018-01-01",
         "제주시",
         "도두동",
         "32249.987",
         "3418.266",
         "102709.092",
         "138377.345",
         "39.556",
         "29.167",
         "5.0",
         "0.0",
         "2.5"
        ],
        [
         "1",
         "22449",
         "2018-01-01",
         "제주시",
         "외도동",
         "213500.997",
         "10341.172",
         "112692.789",
         "336534.958",
         "32.9",
         "30.9",
         "5.0",
         "0.0",
         "2.5"
        ],
        [
         "2",
         "22450",
         "2018-01-01",
         "제주시",
         "이도2동",
         "1212382.218",
         "96920.834",
         "541194.481",
         "1850497.533",
         "29.538",
         "35.692",
         "2.9",
         "0.0",
         "2.4"
        ],
        [
         "3",
         "22451",
         "2018-01-01",
         "제주시",
         "일도1동",
         "33991.653",
         "6034.253000000002",
         "72155.91900000001",
         "112181.825",
         "30.0",
         "23.5",
         "2.9",
         "0.0",
         "2.4"
        ],
        [
         "4",
         "22452",
         "2018-01-01",
         "서귀포시",
         "대천동",
         "155036.925",
         "9403.969",
         "150882.409",
         "315323.303",
         "41.583",
         "14.375",
         "5.1",
         "0.0",
         "2.3"
        ],
        [
         "5",
         "22453",
         "2018-01-01",
         "서귀포시",
         "서홍동",
         "119524.383",
         "5616.130999999999",
         "77338.336",
         "202478.851",
         "38.222",
         "28.0",
         "4.9",
         "0.0",
         "1.9"
        ],
        [
         "6",
         "22454",
         "2018-01-01",
         "제주시",
         "한경면",
         "129495.528",
         "7366.741999999997",
         "78477.173",
         "215339.443",
         "51.929",
         "44.643",
         "4.45",
         "0.0",
         "3.4"
        ],
        [
         "7",
         "22455",
         "2018-01-01",
         "서귀포시",
         "송산동",
         "208450.018",
         "14082.388",
         "102708.218",
         "325240.624",
         "46.805",
         "29.683000000000003",
         "4.9",
         "0.0",
         "1.9"
        ],
        [
         "8",
         "22456",
         "2018-01-01",
         "제주시",
         "조천읍",
         "425840.306",
         "31366.81",
         "338337.205",
         "795544.32",
         "51.629",
         "47.429",
         "1.967",
         "0.0",
         "3.367"
        ],
        [
         "9",
         "22457",
         "2018-01-01",
         "제주시",
         "일도2동",
         "721304.848",
         "31018.811",
         "252537.94",
         "1004861.6",
         "29.727",
         "38.273",
         "2.9",
         "0.0",
         "2.4"
        ],
        [
         "10",
         "22458",
         "2018-01-01",
         "서귀포시",
         "영천동",
         "85615.511",
         "8013.388000000001",
         "97996.18",
         "191625.079",
         "41.261",
         "18.087",
         "4.9",
         "0.0",
         "1.9"
        ],
        [
         "11",
         "22459",
         "2018-01-01",
         "서귀포시",
         "예래동",
         "68746.872",
         "20716.569",
         "210986.838",
         "300450.279",
         "47.467",
         "48.633",
         "3.95",
         "0.0",
         "3.05"
        ],
        [
         "12",
         "22460",
         "2018-01-01",
         "서귀포시",
         "대륜동",
         "267671.778",
         "20177.907",
         "212778.579",
         "500628.264",
         "39.185",
         "33.63",
         "4.9",
         "0.0",
         "1.9"
        ],
        [
         "13",
         "22461",
         "2018-01-01",
         "제주시",
         "삼도1동",
         "220142.977",
         "12879.914",
         "137055.81",
         "370078.7020000001",
         "29.25",
         "26.875",
         "2.9",
         "0.0",
         "2.4"
        ],
        [
         "14",
         "22462",
         "2018-01-02",
         "제주시",
         "이호동",
         "69835.852",
         "7566.675",
         "68212.73",
         "145615.25699999998",
         "26.0",
         "22.333",
         "6.0",
         "0.0",
         "2.1"
        ],
        [
         "15",
         "22463",
         "2018-01-02",
         "제주시",
         "건입동",
         "166314.614",
         "26391.276",
         "163786.671",
         "356492.561",
         "32.0",
         "46.6",
         "1.0",
         "0.0",
         "1.5"
        ],
        [
         "16",
         "22464",
         "2018-01-02",
         "서귀포시",
         "송산동",
         "214099.796",
         "19703.263",
         "101344.384",
         "335147.443",
         "46.22",
         "30.488000000000003",
         "7.2",
         "0.0",
         "1.6"
        ],
        [
         "17",
         "22465",
         "2018-01-02",
         "서귀포시",
         "중앙동",
         "46667.85400000001",
         "13370.438999999997",
         "107407.863",
         "167446.156",
         "60.286",
         "32.429",
         "7.2",
         "0.0",
         "1.6"
        ],
        [
         "18",
         "22466",
         "2018-01-02",
         "제주시",
         "삼양동",
         "444002.084",
         "21070.328",
         "100109.008",
         "565181.421",
         "31.571",
         "17.0",
         "2.8",
         "0.0",
         "1.9"
        ],
        [
         "19",
         "22467",
         "2018-01-02",
         "제주시",
         "삼도2동",
         "103720.698",
         "13640.306",
         "133075.902",
         "250436.907",
         "28.333",
         "17.667",
         "3.8",
         "0.0",
         "2.7"
        ],
        [
         "20",
         "22468",
         "2018-01-02",
         "제주시",
         "이도1동",
         "160605.538",
         "37956.727",
         "185256.188",
         "383818.453",
         "31.875",
         "22.5",
         "3.8",
         "0.0",
         "2.7"
        ],
        [
         "21",
         "22469",
         "2018-01-02",
         "제주시",
         "조천읍",
         "412802.1420000001",
         "48971.498",
         "255022.157",
         "716795.797",
         "51.771",
         "47.229",
         "2.8",
         "0.0",
         "1.9"
        ],
        [
         "22",
         "22470",
         "2018-01-02",
         "서귀포시",
         "남원읍",
         "290944.66",
         "27781.676",
         "166779.581",
         "485505.917",
         "53.0",
         "40.771",
         "4.2",
         "0.0",
         "2.8"
        ],
        [
         "23",
         "22471",
         "2018-01-02",
         "서귀포시",
         "대정읍",
         "385429.13",
         "22384.305",
         "117338.304",
         "525151.74",
         "54.842",
         "42.632",
         "8.167",
         "0.0",
         "3.55"
        ],
        [
         "24",
         "22472",
         "2018-01-02",
         "제주시",
         "삼도1동",
         "214133.27",
         "19545.014",
         "144542.957",
         "378221.241",
         "27.0",
         "31.25",
         "3.8",
         "0.0",
         "2.7"
        ],
        [
         "25",
         "22473",
         "2018-01-02",
         "서귀포시",
         "정방동",
         "47937.483",
         "9709.345",
         "91608.669",
         "149255.497",
         "60.625",
         "28.875",
         "7.2",
         "0.0",
         "1.6"
        ],
        [
         "26",
         "22474",
         "2018-01-02",
         "서귀포시",
         "영천동",
         "86106.59300000001",
         "19777.363",
         "91371.031",
         "197254.987",
         "40.087",
         "18.783",
         "7.2",
         "0.0",
         "1.6"
        ],
        [
         "27",
         "22475",
         "2018-01-03",
         "제주시",
         "삼도2동",
         "102726.24",
         "12136.713",
         "125414.829",
         "240277.783",
         "29.0",
         "17.333",
         "2.5",
         "0.0",
         "2.0"
        ],
        [
         "28",
         "22476",
         "2018-01-03",
         "제주시",
         "조천읍",
         "410396.061",
         "49009.246",
         "249411.353",
         "708816.66",
         "51.4",
         "47.6",
         "1.033",
         "0.0",
         "4.467"
        ],
        [
         "29",
         "22477",
         "2018-01-03",
         "서귀포시",
         "대륜동",
         "273403.104",
         "29988.429",
         "189333.535",
         "492725.068",
         "38.037",
         "33.778",
         "7.6",
         "0.0",
         "1.1"
        ],
        [
         "30",
         "22478",
         "2018-01-03",
         "제주시",
         "건입동",
         "165105.83",
         "25732.876",
         "156549.258",
         "347387.964",
         "32.0",
         "44.8",
         "0.0",
         "0.0",
         "3.4"
        ],
        [
         "31",
         "22479",
         "2018-01-03",
         "서귀포시",
         "효돈동",
         "87486.698",
         "6557.714",
         "39476.516",
         "133520.928",
         "39.0",
         "20.533",
         "3.575",
         "0.0",
         "3.925"
        ],
        [
         "32",
         "22480",
         "2018-01-03",
         "제주시",
         "아라동",
         "764374.1190000002",
         "125318.779",
         "282107.803",
         "1171800.702",
         "38.926",
         "62.963",
         "-0.133",
         "0.0",
         "2.633"
        ],
        [
         "33",
         "22481",
         "2018-01-04",
         "제주시",
         "한경면",
         "123497.929",
         "9803.797",
         "60150.846",
         "193452.572",
         "51.643",
         "44.32100000000001",
         "2.2",
         "0.5",
         "4.3"
        ],
        [
         "34",
         "22482",
         "2018-01-04",
         "서귀포시",
         "대륜동",
         "263227.885",
         "29306.464",
         "201382.45",
         "493916.799",
         "37.074",
         "35.074",
         "6.9",
         "5.0",
         "1.4"
        ],
        [
         "35",
         "22483",
         "2018-01-04",
         "제주시",
         "일도2동",
         "656810.432",
         "41646.608",
         "250523.62",
         "948980.66",
         "28.0",
         "41.727",
         "1.5",
         "1.0",
         "1.4"
        ],
        [
         "36",
         "22484",
         "2018-01-04",
         "제주시",
         "한림읍",
         "443971.104",
         "48013.929",
         "213855.691",
         "705840.724",
         "50.431",
         "62.667",
         "2.2",
         "0.5",
         "4.3"
        ],
        [
         "37",
         "22485",
         "2018-01-04",
         "제주시",
         "외도동",
         "199792.794",
         "14111.559",
         "123287.771",
         "337192.124",
         "30.15",
         "33.95",
         "3.3",
         "0.5",
         "1.8"
        ],
        [
         "38",
         "22486",
         "2018-01-04",
         "제주시",
         "구좌읍",
         "266568.48",
         "34792.731",
         "169681.185",
         "471042.396",
         "52.875",
         "41.28100000000001",
         "3.3",
         "0.0",
         "3.4"
        ],
        [
         "39",
         "22487",
         "2018-01-04",
         "제주시",
         "용담1동",
         "142776.813",
         "13948.539",
         "113542.07",
         "270267.422",
         "32.0",
         "17.5",
         "1.5",
         "1.0",
         "1.4"
        ],
        [
         "40",
         "22488",
         "2018-01-04",
         "제주시",
         "건입동",
         "159168.771",
         "26404.039",
         "164116.487",
         "349689.29600000003",
         "30.8",
         "46.4",
         "-1.1",
         "1.0",
         "2.1"
        ],
        [
         "41",
         "22489",
         "2018-01-04",
         "제주시",
         "오라동",
         "282765.356",
         "43187.942",
         "296235.333",
         "622188.631",
         "34.5",
         "45.25",
         "1.5",
         "1.0",
         "1.4"
        ],
        [
         "42",
         "22490",
         "2018-01-04",
         "서귀포시",
         "예래동",
         "64502.066",
         "23119.823",
         "185683.122",
         "273305.011",
         "46.533",
         "49.1",
         "5.25",
         "4.5",
         "1.6"
        ],
        [
         "43",
         "22491",
         "2018-01-05",
         "서귀포시",
         "대천동",
         "156335.09699999998",
         "12787.266",
         "137768.344",
         "306890.707",
         "41.083",
         "14.583",
         "4.7",
         "4.0",
         "3.3"
        ],
        [
         "44",
         "22492",
         "2018-01-05",
         "제주시",
         "용담1동",
         "154278.015",
         "11789.977",
         "99538.15",
         "265606.142",
         "32.167",
         "16.833",
         "2.2",
         "3.5",
         "2.4"
        ],
        [
         "45",
         "22493",
         "2018-01-05",
         "제주시",
         "외도동",
         "206508.498",
         "13729.327",
         "111508.27",
         "331746.096",
         "30.0",
         "35.45",
         "4.2",
         "4.0",
         "3.1"
        ],
        [
         "46",
         "22494",
         "2018-01-05",
         "제주시",
         "화북동",
         "573927.659",
         "48156.625",
         "203689.909",
         "825774.194",
         "32.385",
         "35.731",
         "1.033",
         "2.5",
         "3.767"
        ],
        [
         "47",
         "22495",
         "2018-01-05",
         "서귀포시",
         "대륜동",
         "270975.076",
         "29733.093",
         "194943.403",
         "495651.571",
         "37.296",
         "34.259",
         "5.8",
         "4.5",
         "2.4"
        ],
        [
         "48",
         "22496",
         "2018-01-05",
         "제주시",
         "연동",
         "1079480.913",
         "145011.84699999998",
         "565478.935",
         "1789971.695",
         "37.642",
         "38.302",
         "-1.7",
         "3.5",
         "0.0"
        ],
        [
         "49",
         "22497",
         "2018-01-05",
         "서귀포시",
         "표선면",
         "199442.57",
         "18407.629",
         "128747.178",
         "346597.376",
         "48.343",
         "35.429",
         "3.7",
         "3.0",
         "4.4"
        ]
       ],
       "shape": {
        "columns": 13,
        "rows": 9621
       }
      },
      "text/html": [
       "<div>\n",
       "<style scoped>\n",
       "    .dataframe tbody tr th:only-of-type {\n",
       "        vertical-align: middle;\n",
       "    }\n",
       "\n",
       "    .dataframe tbody tr th {\n",
       "        vertical-align: top;\n",
       "    }\n",
       "\n",
       "    .dataframe thead th {\n",
       "        text-align: right;\n",
       "    }\n",
       "</style>\n",
       "<table border=\"1\" class=\"dataframe\">\n",
       "  <thead>\n",
       "    <tr style=\"text-align: right;\">\n",
       "      <th></th>\n",
       "      <th>id</th>\n",
       "      <th>일자</th>\n",
       "      <th>시도명</th>\n",
       "      <th>읍면동명</th>\n",
       "      <th>거주인구</th>\n",
       "      <th>근무인구</th>\n",
       "      <th>방문인구</th>\n",
       "      <th>총 유동인구</th>\n",
       "      <th>평균 속도</th>\n",
       "      <th>평균 소요 시간</th>\n",
       "      <th>평균 기온</th>\n",
       "      <th>일강수량</th>\n",
       "      <th>평균 풍속</th>\n",
       "    </tr>\n",
       "  </thead>\n",
       "  <tbody>\n",
       "    <tr>\n",
       "      <th>0</th>\n",
       "      <td>22448</td>\n",
       "      <td>2018-01-01</td>\n",
       "      <td>제주시</td>\n",
       "      <td>도두동</td>\n",
       "      <td>32249.987</td>\n",
       "      <td>3418.266</td>\n",
       "      <td>102709.092</td>\n",
       "      <td>138377.345</td>\n",
       "      <td>39.556</td>\n",
       "      <td>29.167</td>\n",
       "      <td>5.0</td>\n",
       "      <td>0.0</td>\n",
       "      <td>2.50</td>\n",
       "    </tr>\n",
       "    <tr>\n",
       "      <th>1</th>\n",
       "      <td>22449</td>\n",
       "      <td>2018-01-01</td>\n",
       "      <td>제주시</td>\n",
       "      <td>외도동</td>\n",
       "      <td>213500.997</td>\n",
       "      <td>10341.172</td>\n",
       "      <td>112692.789</td>\n",
       "      <td>336534.958</td>\n",
       "      <td>32.900</td>\n",
       "      <td>30.900</td>\n",
       "      <td>5.0</td>\n",
       "      <td>0.0</td>\n",
       "      <td>2.50</td>\n",
       "    </tr>\n",
       "    <tr>\n",
       "      <th>2</th>\n",
       "      <td>22450</td>\n",
       "      <td>2018-01-01</td>\n",
       "      <td>제주시</td>\n",
       "      <td>이도2동</td>\n",
       "      <td>1212382.218</td>\n",
       "      <td>96920.834</td>\n",
       "      <td>541194.481</td>\n",
       "      <td>1850497.533</td>\n",
       "      <td>29.538</td>\n",
       "      <td>35.692</td>\n",
       "      <td>2.9</td>\n",
       "      <td>0.0</td>\n",
       "      <td>2.40</td>\n",
       "    </tr>\n",
       "    <tr>\n",
       "      <th>3</th>\n",
       "      <td>22451</td>\n",
       "      <td>2018-01-01</td>\n",
       "      <td>제주시</td>\n",
       "      <td>일도1동</td>\n",
       "      <td>33991.653</td>\n",
       "      <td>6034.253</td>\n",
       "      <td>72155.919</td>\n",
       "      <td>112181.825</td>\n",
       "      <td>30.000</td>\n",
       "      <td>23.500</td>\n",
       "      <td>2.9</td>\n",
       "      <td>0.0</td>\n",
       "      <td>2.40</td>\n",
       "    </tr>\n",
       "    <tr>\n",
       "      <th>4</th>\n",
       "      <td>22452</td>\n",
       "      <td>2018-01-01</td>\n",
       "      <td>서귀포시</td>\n",
       "      <td>대천동</td>\n",
       "      <td>155036.925</td>\n",
       "      <td>9403.969</td>\n",
       "      <td>150882.409</td>\n",
       "      <td>315323.303</td>\n",
       "      <td>41.583</td>\n",
       "      <td>14.375</td>\n",
       "      <td>5.1</td>\n",
       "      <td>0.0</td>\n",
       "      <td>2.30</td>\n",
       "    </tr>\n",
       "    <tr>\n",
       "      <th>...</th>\n",
       "      <td>...</td>\n",
       "      <td>...</td>\n",
       "      <td>...</td>\n",
       "      <td>...</td>\n",
       "      <td>...</td>\n",
       "      <td>...</td>\n",
       "      <td>...</td>\n",
       "      <td>...</td>\n",
       "      <td>...</td>\n",
       "      <td>...</td>\n",
       "      <td>...</td>\n",
       "      <td>...</td>\n",
       "      <td>...</td>\n",
       "    </tr>\n",
       "    <tr>\n",
       "      <th>9616</th>\n",
       "      <td>32064</td>\n",
       "      <td>2020-04-30</td>\n",
       "      <td>서귀포시</td>\n",
       "      <td>표선면</td>\n",
       "      <td>228260.005</td>\n",
       "      <td>16891.732</td>\n",
       "      <td>152832.449</td>\n",
       "      <td>397984.186</td>\n",
       "      <td>44.514</td>\n",
       "      <td>34.054</td>\n",
       "      <td>18.1</td>\n",
       "      <td>0.0</td>\n",
       "      <td>4.70</td>\n",
       "    </tr>\n",
       "    <tr>\n",
       "      <th>9617</th>\n",
       "      <td>32065</td>\n",
       "      <td>2020-04-30</td>\n",
       "      <td>제주시</td>\n",
       "      <td>한림읍</td>\n",
       "      <td>459959.064</td>\n",
       "      <td>26007.122</td>\n",
       "      <td>249700.419</td>\n",
       "      <td>735666.605</td>\n",
       "      <td>48.609</td>\n",
       "      <td>61.377</td>\n",
       "      <td>18.0</td>\n",
       "      <td>0.0</td>\n",
       "      <td>4.35</td>\n",
       "    </tr>\n",
       "    <tr>\n",
       "      <th>9618</th>\n",
       "      <td>32066</td>\n",
       "      <td>2020-04-30</td>\n",
       "      <td>제주시</td>\n",
       "      <td>도두동</td>\n",
       "      <td>28397.481</td>\n",
       "      <td>3144.895</td>\n",
       "      <td>84052.697</td>\n",
       "      <td>115595.073</td>\n",
       "      <td>41.053</td>\n",
       "      <td>29.421</td>\n",
       "      <td>20.3</td>\n",
       "      <td>0.0</td>\n",
       "      <td>3.00</td>\n",
       "    </tr>\n",
       "    <tr>\n",
       "      <th>9619</th>\n",
       "      <td>32067</td>\n",
       "      <td>2020-04-30</td>\n",
       "      <td>서귀포시</td>\n",
       "      <td>안덕면</td>\n",
       "      <td>348037.846</td>\n",
       "      <td>29106.286</td>\n",
       "      <td>251129.660</td>\n",
       "      <td>628273.792</td>\n",
       "      <td>46.595</td>\n",
       "      <td>49.189</td>\n",
       "      <td>17.6</td>\n",
       "      <td>0.0</td>\n",
       "      <td>3.50</td>\n",
       "    </tr>\n",
       "    <tr>\n",
       "      <th>9620</th>\n",
       "      <td>32068</td>\n",
       "      <td>2020-04-30</td>\n",
       "      <td>제주시</td>\n",
       "      <td>연동</td>\n",
       "      <td>1010643.372</td>\n",
       "      <td>65673.477</td>\n",
       "      <td>447622.068</td>\n",
       "      <td>1523938.917</td>\n",
       "      <td>40.863</td>\n",
       "      <td>27.765</td>\n",
       "      <td>14.1</td>\n",
       "      <td>0.0</td>\n",
       "      <td>4.80</td>\n",
       "    </tr>\n",
       "  </tbody>\n",
       "</table>\n",
       "<p>9621 rows × 13 columns</p>\n",
       "</div>"
      ],
      "text/plain": [
       "         id          일자   시도명  읍면동명         거주인구       근무인구        방문인구  \\\n",
       "0     22448  2018-01-01   제주시   도두동    32249.987   3418.266  102709.092   \n",
       "1     22449  2018-01-01   제주시   외도동   213500.997  10341.172  112692.789   \n",
       "2     22450  2018-01-01   제주시  이도2동  1212382.218  96920.834  541194.481   \n",
       "3     22451  2018-01-01   제주시  일도1동    33991.653   6034.253   72155.919   \n",
       "4     22452  2018-01-01  서귀포시   대천동   155036.925   9403.969  150882.409   \n",
       "...     ...         ...   ...   ...          ...        ...         ...   \n",
       "9616  32064  2020-04-30  서귀포시   표선면   228260.005  16891.732  152832.449   \n",
       "9617  32065  2020-04-30   제주시   한림읍   459959.064  26007.122  249700.419   \n",
       "9618  32066  2020-04-30   제주시   도두동    28397.481   3144.895   84052.697   \n",
       "9619  32067  2020-04-30  서귀포시   안덕면   348037.846  29106.286  251129.660   \n",
       "9620  32068  2020-04-30   제주시    연동  1010643.372  65673.477  447622.068   \n",
       "\n",
       "           총 유동인구   평균 속도  평균 소요 시간  평균 기온  일강수량  평균 풍속  \n",
       "0      138377.345  39.556    29.167    5.0   0.0   2.50  \n",
       "1      336534.958  32.900    30.900    5.0   0.0   2.50  \n",
       "2     1850497.533  29.538    35.692    2.9   0.0   2.40  \n",
       "3      112181.825  30.000    23.500    2.9   0.0   2.40  \n",
       "4      315323.303  41.583    14.375    5.1   0.0   2.30  \n",
       "...           ...     ...       ...    ...   ...    ...  \n",
       "9616   397984.186  44.514    34.054   18.1   0.0   4.70  \n",
       "9617   735666.605  48.609    61.377   18.0   0.0   4.35  \n",
       "9618   115595.073  41.053    29.421   20.3   0.0   3.00  \n",
       "9619   628273.792  46.595    49.189   17.6   0.0   3.50  \n",
       "9620  1523938.917  40.863    27.765   14.1   0.0   4.80  \n",
       "\n",
       "[9621 rows x 13 columns]"
      ]
     },
     "execution_count": 358,
     "metadata": {},
     "output_type": "execute_result"
    }
   ],
   "source": [
    "df = pd.read_csv(DataUrl, encoding='euc-kr')\n",
    "df"
   ]
  },
  {
   "cell_type": "markdown",
   "id": "a50c7a96",
   "metadata": {},
   "source": [
    "## Question 10\n",
    "데이터 마지막 3개 행을 출력하라."
   ]
  },
  {
   "cell_type": "code",
   "execution_count": 359,
   "id": "5a045e18",
   "metadata": {},
   "outputs": [
    {
     "data": {
      "application/vnd.microsoft.datawrangler.viewer.v0+json": {
       "columns": [
        {
         "name": "index",
         "rawType": "int64",
         "type": "integer"
        },
        {
         "name": "id",
         "rawType": "int64",
         "type": "integer"
        },
        {
         "name": "일자",
         "rawType": "object",
         "type": "string"
        },
        {
         "name": "시도명",
         "rawType": "object",
         "type": "string"
        },
        {
         "name": "읍면동명",
         "rawType": "object",
         "type": "string"
        },
        {
         "name": "거주인구",
         "rawType": "float64",
         "type": "float"
        },
        {
         "name": "근무인구",
         "rawType": "float64",
         "type": "float"
        },
        {
         "name": "방문인구",
         "rawType": "float64",
         "type": "float"
        },
        {
         "name": "총 유동인구",
         "rawType": "float64",
         "type": "float"
        },
        {
         "name": "평균 속도",
         "rawType": "float64",
         "type": "float"
        },
        {
         "name": "평균 소요 시간",
         "rawType": "float64",
         "type": "float"
        },
        {
         "name": "평균 기온",
         "rawType": "float64",
         "type": "float"
        },
        {
         "name": "일강수량",
         "rawType": "float64",
         "type": "float"
        },
        {
         "name": "평균 풍속",
         "rawType": "float64",
         "type": "float"
        }
       ],
       "ref": "feee4982-f881-43ea-ac00-260a90873ebe",
       "rows": [
        [
         "9618",
         "32066",
         "2020-04-30",
         "제주시",
         "도두동",
         "28397.481",
         "3144.895",
         "84052.69699999999",
         "115595.073",
         "41.053",
         "29.421",
         "20.3",
         "0.0",
         "3.0"
        ],
        [
         "9619",
         "32067",
         "2020-04-30",
         "서귀포시",
         "안덕면",
         "348037.846",
         "29106.286",
         "251129.66",
         "628273.792",
         "46.595",
         "49.18899999999999",
         "17.6",
         "0.0",
         "3.5"
        ],
        [
         "9620",
         "32068",
         "2020-04-30",
         "제주시",
         "연동",
         "1010643.372",
         "65673.477",
         "447622.068",
         "1523938.917",
         "40.863",
         "27.765",
         "14.1",
         "0.0",
         "4.8"
        ]
       ],
       "shape": {
        "columns": 13,
        "rows": 3
       }
      },
      "text/html": [
       "<div>\n",
       "<style scoped>\n",
       "    .dataframe tbody tr th:only-of-type {\n",
       "        vertical-align: middle;\n",
       "    }\n",
       "\n",
       "    .dataframe tbody tr th {\n",
       "        vertical-align: top;\n",
       "    }\n",
       "\n",
       "    .dataframe thead th {\n",
       "        text-align: right;\n",
       "    }\n",
       "</style>\n",
       "<table border=\"1\" class=\"dataframe\">\n",
       "  <thead>\n",
       "    <tr style=\"text-align: right;\">\n",
       "      <th></th>\n",
       "      <th>id</th>\n",
       "      <th>일자</th>\n",
       "      <th>시도명</th>\n",
       "      <th>읍면동명</th>\n",
       "      <th>거주인구</th>\n",
       "      <th>근무인구</th>\n",
       "      <th>방문인구</th>\n",
       "      <th>총 유동인구</th>\n",
       "      <th>평균 속도</th>\n",
       "      <th>평균 소요 시간</th>\n",
       "      <th>평균 기온</th>\n",
       "      <th>일강수량</th>\n",
       "      <th>평균 풍속</th>\n",
       "    </tr>\n",
       "  </thead>\n",
       "  <tbody>\n",
       "    <tr>\n",
       "      <th>9618</th>\n",
       "      <td>32066</td>\n",
       "      <td>2020-04-30</td>\n",
       "      <td>제주시</td>\n",
       "      <td>도두동</td>\n",
       "      <td>28397.481</td>\n",
       "      <td>3144.895</td>\n",
       "      <td>84052.697</td>\n",
       "      <td>115595.073</td>\n",
       "      <td>41.053</td>\n",
       "      <td>29.421</td>\n",
       "      <td>20.3</td>\n",
       "      <td>0.0</td>\n",
       "      <td>3.0</td>\n",
       "    </tr>\n",
       "    <tr>\n",
       "      <th>9619</th>\n",
       "      <td>32067</td>\n",
       "      <td>2020-04-30</td>\n",
       "      <td>서귀포시</td>\n",
       "      <td>안덕면</td>\n",
       "      <td>348037.846</td>\n",
       "      <td>29106.286</td>\n",
       "      <td>251129.660</td>\n",
       "      <td>628273.792</td>\n",
       "      <td>46.595</td>\n",
       "      <td>49.189</td>\n",
       "      <td>17.6</td>\n",
       "      <td>0.0</td>\n",
       "      <td>3.5</td>\n",
       "    </tr>\n",
       "    <tr>\n",
       "      <th>9620</th>\n",
       "      <td>32068</td>\n",
       "      <td>2020-04-30</td>\n",
       "      <td>제주시</td>\n",
       "      <td>연동</td>\n",
       "      <td>1010643.372</td>\n",
       "      <td>65673.477</td>\n",
       "      <td>447622.068</td>\n",
       "      <td>1523938.917</td>\n",
       "      <td>40.863</td>\n",
       "      <td>27.765</td>\n",
       "      <td>14.1</td>\n",
       "      <td>0.0</td>\n",
       "      <td>4.8</td>\n",
       "    </tr>\n",
       "  </tbody>\n",
       "</table>\n",
       "</div>"
      ],
      "text/plain": [
       "         id          일자   시도명 읍면동명         거주인구       근무인구        방문인구  \\\n",
       "9618  32066  2020-04-30   제주시  도두동    28397.481   3144.895   84052.697   \n",
       "9619  32067  2020-04-30  서귀포시  안덕면   348037.846  29106.286  251129.660   \n",
       "9620  32068  2020-04-30   제주시   연동  1010643.372  65673.477  447622.068   \n",
       "\n",
       "           총 유동인구   평균 속도  평균 소요 시간  평균 기온  일강수량  평균 풍속  \n",
       "9618   115595.073  41.053    29.421   20.3   0.0    3.0  \n",
       "9619   628273.792  46.595    49.189   17.6   0.0    3.5  \n",
       "9620  1523938.917  40.863    27.765   14.1   0.0    4.8  "
      ]
     },
     "execution_count": 359,
     "metadata": {},
     "output_type": "execute_result"
    }
   ],
   "source": [
    "df.tail(3)"
   ]
  },
  {
   "cell_type": "markdown",
   "id": "7d7f13a3",
   "metadata": {},
   "source": [
    "## Question 11\n",
    "수치형 변수를 카진 컬럼을 출력하라."
   ]
  },
  {
   "cell_type": "code",
   "execution_count": 360,
   "id": "b8194718",
   "metadata": {},
   "outputs": [
    {
     "name": "stdout",
     "output_type": "stream",
     "text": [
      "<class 'pandas.core.frame.DataFrame'>\n",
      "RangeIndex: 9621 entries, 0 to 9620\n",
      "Data columns (total 13 columns):\n",
      " #   Column    Non-Null Count  Dtype  \n",
      "---  ------    --------------  -----  \n",
      " 0   id        9621 non-null   int64  \n",
      " 1   일자        9621 non-null   object \n",
      " 2   시도명       9621 non-null   object \n",
      " 3   읍면동명      9621 non-null   object \n",
      " 4   거주인구      9621 non-null   float64\n",
      " 5   근무인구      9621 non-null   float64\n",
      " 6   방문인구      9621 non-null   float64\n",
      " 7   총 유동인구    9621 non-null   float64\n",
      " 8   평균 속도     9621 non-null   float64\n",
      " 9   평균 소요 시간  9621 non-null   float64\n",
      " 10  평균 기온     9621 non-null   float64\n",
      " 11  일강수량      9621 non-null   float64\n",
      " 12  평균 풍속     9621 non-null   float64\n",
      "dtypes: float64(9), int64(1), object(3)\n",
      "memory usage: 977.3+ KB\n"
     ]
    }
   ],
   "source": [
    "df.info()"
   ]
  },
  {
   "cell_type": "code",
   "execution_count": 361,
   "id": "df717f35",
   "metadata": {},
   "outputs": [
    {
     "data": {
      "text/plain": [
       "Index(['id', '거주인구', '근무인구', '방문인구', '총 유동인구', '평균 속도', '평균 소요 시간', '평균 기온',\n",
       "       '일강수량', '평균 풍속'],\n",
       "      dtype='object')"
      ]
     },
     "execution_count": 361,
     "metadata": {},
     "output_type": "execute_result"
    }
   ],
   "source": [
    "df.select_dtypes(exclude='object').columns"
   ]
  },
  {
   "cell_type": "markdown",
   "id": "3cd980ed",
   "metadata": {},
   "source": [
    "## Question 12\n",
    "범주형 변수를 가진 컬럼을 출력하라."
   ]
  },
  {
   "cell_type": "code",
   "execution_count": 362,
   "id": "bf059694",
   "metadata": {},
   "outputs": [
    {
     "data": {
      "text/plain": [
       "Index(['일자', '시도명', '읍면동명'], dtype='object')"
      ]
     },
     "execution_count": 362,
     "metadata": {},
     "output_type": "execute_result"
    }
   ],
   "source": [
    "df.select_dtypes(include='object').columns"
   ]
  },
  {
   "cell_type": "markdown",
   "id": "6234b0de",
   "metadata": {},
   "source": [
    "## Question 13\n",
    "각 컬럼의 결측치 숫자를 파악하라."
   ]
  },
  {
   "cell_type": "code",
   "execution_count": 363,
   "id": "37704e4e",
   "metadata": {},
   "outputs": [
    {
     "data": {
      "application/vnd.microsoft.datawrangler.viewer.v0+json": {
       "columns": [
        {
         "name": "index",
         "rawType": "object",
         "type": "string"
        },
        {
         "name": "0",
         "rawType": "int64",
         "type": "integer"
        }
       ],
       "ref": "78aecabc-0e92-494d-ad9e-9ebe4d9427d8",
       "rows": [
        [
         "id",
         "0"
        ],
        [
         "일자",
         "0"
        ],
        [
         "시도명",
         "0"
        ],
        [
         "읍면동명",
         "0"
        ],
        [
         "거주인구",
         "0"
        ],
        [
         "근무인구",
         "0"
        ],
        [
         "방문인구",
         "0"
        ],
        [
         "총 유동인구",
         "0"
        ],
        [
         "평균 속도",
         "0"
        ],
        [
         "평균 소요 시간",
         "0"
        ],
        [
         "평균 기온",
         "0"
        ],
        [
         "일강수량",
         "0"
        ],
        [
         "평균 풍속",
         "0"
        ]
       ],
       "shape": {
        "columns": 1,
        "rows": 13
       }
      },
      "text/plain": [
       "id          0\n",
       "일자          0\n",
       "시도명         0\n",
       "읍면동명        0\n",
       "거주인구        0\n",
       "근무인구        0\n",
       "방문인구        0\n",
       "총 유동인구      0\n",
       "평균 속도       0\n",
       "평균 소요 시간    0\n",
       "평균 기온       0\n",
       "일강수량        0\n",
       "평균 풍속       0\n",
       "dtype: int64"
      ]
     },
     "execution_count": 363,
     "metadata": {},
     "output_type": "execute_result"
    }
   ],
   "source": [
    "df.isna().sum()"
   ]
  },
  {
   "cell_type": "markdown",
   "id": "a1ea40d9",
   "metadata": {},
   "source": [
    "## Question 14\n",
    "각 컬럼의 데이터 수, 데이터 타입을 한번에 확인하라."
   ]
  },
  {
   "cell_type": "code",
   "execution_count": 364,
   "id": "f73571f2",
   "metadata": {},
   "outputs": [
    {
     "name": "stdout",
     "output_type": "stream",
     "text": [
      "<class 'pandas.core.frame.DataFrame'>\n",
      "RangeIndex: 9621 entries, 0 to 9620\n",
      "Data columns (total 13 columns):\n",
      " #   Column    Non-Null Count  Dtype  \n",
      "---  ------    --------------  -----  \n",
      " 0   id        9621 non-null   int64  \n",
      " 1   일자        9621 non-null   object \n",
      " 2   시도명       9621 non-null   object \n",
      " 3   읍면동명      9621 non-null   object \n",
      " 4   거주인구      9621 non-null   float64\n",
      " 5   근무인구      9621 non-null   float64\n",
      " 6   방문인구      9621 non-null   float64\n",
      " 7   총 유동인구    9621 non-null   float64\n",
      " 8   평균 속도     9621 non-null   float64\n",
      " 9   평균 소요 시간  9621 non-null   float64\n",
      " 10  평균 기온     9621 non-null   float64\n",
      " 11  일강수량      9621 non-null   float64\n",
      " 12  평균 풍속     9621 non-null   float64\n",
      "dtypes: float64(9), int64(1), object(3)\n",
      "memory usage: 977.3+ KB\n"
     ]
    }
   ],
   "source": [
    "df.info()"
   ]
  },
  {
   "cell_type": "markdown",
   "id": "ed8a43f3",
   "metadata": {},
   "source": [
    "## Question 15\n",
    "각 수치형 변수의 분포(사분위, 평균, 표준편차, 최대, 최소)를 확인하라."
   ]
  },
  {
   "cell_type": "code",
   "execution_count": 365,
   "id": "e9c82333",
   "metadata": {},
   "outputs": [
    {
     "data": {
      "application/vnd.microsoft.datawrangler.viewer.v0+json": {
       "columns": [
        {
         "name": "index",
         "rawType": "object",
         "type": "string"
        },
        {
         "name": "id",
         "rawType": "float64",
         "type": "float"
        },
        {
         "name": "거주인구",
         "rawType": "float64",
         "type": "float"
        },
        {
         "name": "근무인구",
         "rawType": "float64",
         "type": "float"
        },
        {
         "name": "방문인구",
         "rawType": "float64",
         "type": "float"
        },
        {
         "name": "총 유동인구",
         "rawType": "float64",
         "type": "float"
        },
        {
         "name": "평균 속도",
         "rawType": "float64",
         "type": "float"
        },
        {
         "name": "평균 소요 시간",
         "rawType": "float64",
         "type": "float"
        },
        {
         "name": "평균 기온",
         "rawType": "float64",
         "type": "float"
        },
        {
         "name": "일강수량",
         "rawType": "float64",
         "type": "float"
        },
        {
         "name": "평균 풍속",
         "rawType": "float64",
         "type": "float"
        }
       ],
       "ref": "fe9d655c-f608-4950-a5c2-28447887958d",
       "rows": [
        [
         "count",
         "9621.0",
         "9621.0",
         "9621.0",
         "9621.0",
         "9621.0",
         "9621.0",
         "9621.0",
         "9621.0",
         "9621.0",
         "9621.0"
        ],
        [
         "mean",
         "27258.0",
         "317431.48054100404",
         "35471.20150982226",
         "195889.56180209958",
         "548792.2438583307",
         "41.109083775075355",
         "37.215872778297474",
         "13.550827668641512",
         "6.972425527491944",
         "2.7531713959047917"
        ],
        [
         "std",
         "2777.4878037536005",
         "298207.94907572604",
         "40381.21477536585",
         "140706.0903247548",
         "460880.23772208445",
         "8.758631111827032",
         "12.993786022886228",
         "7.7455150055280475",
         "27.61725971685997",
         "1.49853847017951"
        ],
        [
         "min",
         "22448.0",
         "9305.552",
         "1407.936",
         "11538.322",
         "22251.81",
         "24.333",
         "12.667",
         "-9.6",
         "0.0",
         "0.0"
        ],
        [
         "25%",
         "24853.0",
         "95399.394",
         "12074.498",
         "99632.153",
         "221690.987",
         "34.25",
         "27.889",
         "7.6",
         "0.0",
         "1.7"
        ],
        [
         "50%",
         "27258.0",
         "222110.46",
         "21960.928",
         "152805.335",
         "386693.468",
         "39.64",
         "34.5",
         "13.4",
         "0.0",
         "2.4"
        ],
        [
         "75%",
         "29663.0",
         "410667.056",
         "40192.032",
         "236325.109",
         "640691.811",
         "49.105",
         "46.176",
         "19.7",
         "1.5",
         "3.4"
        ],
        [
         "max",
         "32068.0",
         "1364503.9130000002",
         "263476.965",
         "723459.209",
         "2066483.867",
         "103.0",
         "172.2",
         "30.4",
         "587.5",
         "13.333"
        ]
       ],
       "shape": {
        "columns": 10,
        "rows": 8
       }
      },
      "text/html": [
       "<div>\n",
       "<style scoped>\n",
       "    .dataframe tbody tr th:only-of-type {\n",
       "        vertical-align: middle;\n",
       "    }\n",
       "\n",
       "    .dataframe tbody tr th {\n",
       "        vertical-align: top;\n",
       "    }\n",
       "\n",
       "    .dataframe thead th {\n",
       "        text-align: right;\n",
       "    }\n",
       "</style>\n",
       "<table border=\"1\" class=\"dataframe\">\n",
       "  <thead>\n",
       "    <tr style=\"text-align: right;\">\n",
       "      <th></th>\n",
       "      <th>id</th>\n",
       "      <th>거주인구</th>\n",
       "      <th>근무인구</th>\n",
       "      <th>방문인구</th>\n",
       "      <th>총 유동인구</th>\n",
       "      <th>평균 속도</th>\n",
       "      <th>평균 소요 시간</th>\n",
       "      <th>평균 기온</th>\n",
       "      <th>일강수량</th>\n",
       "      <th>평균 풍속</th>\n",
       "    </tr>\n",
       "  </thead>\n",
       "  <tbody>\n",
       "    <tr>\n",
       "      <th>count</th>\n",
       "      <td>9621.000000</td>\n",
       "      <td>9.621000e+03</td>\n",
       "      <td>9621.000000</td>\n",
       "      <td>9621.000000</td>\n",
       "      <td>9.621000e+03</td>\n",
       "      <td>9621.000000</td>\n",
       "      <td>9621.000000</td>\n",
       "      <td>9621.000000</td>\n",
       "      <td>9621.000000</td>\n",
       "      <td>9621.000000</td>\n",
       "    </tr>\n",
       "    <tr>\n",
       "      <th>mean</th>\n",
       "      <td>27258.000000</td>\n",
       "      <td>3.174315e+05</td>\n",
       "      <td>35471.201510</td>\n",
       "      <td>195889.561802</td>\n",
       "      <td>5.487922e+05</td>\n",
       "      <td>41.109084</td>\n",
       "      <td>37.215873</td>\n",
       "      <td>13.550828</td>\n",
       "      <td>6.972426</td>\n",
       "      <td>2.753171</td>\n",
       "    </tr>\n",
       "    <tr>\n",
       "      <th>std</th>\n",
       "      <td>2777.487804</td>\n",
       "      <td>2.982079e+05</td>\n",
       "      <td>40381.214775</td>\n",
       "      <td>140706.090325</td>\n",
       "      <td>4.608802e+05</td>\n",
       "      <td>8.758631</td>\n",
       "      <td>12.993786</td>\n",
       "      <td>7.745515</td>\n",
       "      <td>27.617260</td>\n",
       "      <td>1.498538</td>\n",
       "    </tr>\n",
       "    <tr>\n",
       "      <th>min</th>\n",
       "      <td>22448.000000</td>\n",
       "      <td>9.305552e+03</td>\n",
       "      <td>1407.936000</td>\n",
       "      <td>11538.322000</td>\n",
       "      <td>2.225181e+04</td>\n",
       "      <td>24.333000</td>\n",
       "      <td>12.667000</td>\n",
       "      <td>-9.600000</td>\n",
       "      <td>0.000000</td>\n",
       "      <td>0.000000</td>\n",
       "    </tr>\n",
       "    <tr>\n",
       "      <th>25%</th>\n",
       "      <td>24853.000000</td>\n",
       "      <td>9.539939e+04</td>\n",
       "      <td>12074.498000</td>\n",
       "      <td>99632.153000</td>\n",
       "      <td>2.216910e+05</td>\n",
       "      <td>34.250000</td>\n",
       "      <td>27.889000</td>\n",
       "      <td>7.600000</td>\n",
       "      <td>0.000000</td>\n",
       "      <td>1.700000</td>\n",
       "    </tr>\n",
       "    <tr>\n",
       "      <th>50%</th>\n",
       "      <td>27258.000000</td>\n",
       "      <td>2.221105e+05</td>\n",
       "      <td>21960.928000</td>\n",
       "      <td>152805.335000</td>\n",
       "      <td>3.866935e+05</td>\n",
       "      <td>39.640000</td>\n",
       "      <td>34.500000</td>\n",
       "      <td>13.400000</td>\n",
       "      <td>0.000000</td>\n",
       "      <td>2.400000</td>\n",
       "    </tr>\n",
       "    <tr>\n",
       "      <th>75%</th>\n",
       "      <td>29663.000000</td>\n",
       "      <td>4.106671e+05</td>\n",
       "      <td>40192.032000</td>\n",
       "      <td>236325.109000</td>\n",
       "      <td>6.406918e+05</td>\n",
       "      <td>49.105000</td>\n",
       "      <td>46.176000</td>\n",
       "      <td>19.700000</td>\n",
       "      <td>1.500000</td>\n",
       "      <td>3.400000</td>\n",
       "    </tr>\n",
       "    <tr>\n",
       "      <th>max</th>\n",
       "      <td>32068.000000</td>\n",
       "      <td>1.364504e+06</td>\n",
       "      <td>263476.965000</td>\n",
       "      <td>723459.209000</td>\n",
       "      <td>2.066484e+06</td>\n",
       "      <td>103.000000</td>\n",
       "      <td>172.200000</td>\n",
       "      <td>30.400000</td>\n",
       "      <td>587.500000</td>\n",
       "      <td>13.333000</td>\n",
       "    </tr>\n",
       "  </tbody>\n",
       "</table>\n",
       "</div>"
      ],
      "text/plain": [
       "                 id          거주인구           근무인구           방문인구        총 유동인구  \\\n",
       "count   9621.000000  9.621000e+03    9621.000000    9621.000000  9.621000e+03   \n",
       "mean   27258.000000  3.174315e+05   35471.201510  195889.561802  5.487922e+05   \n",
       "std     2777.487804  2.982079e+05   40381.214775  140706.090325  4.608802e+05   \n",
       "min    22448.000000  9.305552e+03    1407.936000   11538.322000  2.225181e+04   \n",
       "25%    24853.000000  9.539939e+04   12074.498000   99632.153000  2.216910e+05   \n",
       "50%    27258.000000  2.221105e+05   21960.928000  152805.335000  3.866935e+05   \n",
       "75%    29663.000000  4.106671e+05   40192.032000  236325.109000  6.406918e+05   \n",
       "max    32068.000000  1.364504e+06  263476.965000  723459.209000  2.066484e+06   \n",
       "\n",
       "             평균 속도     평균 소요 시간        평균 기온         일강수량        평균 풍속  \n",
       "count  9621.000000  9621.000000  9621.000000  9621.000000  9621.000000  \n",
       "mean     41.109084    37.215873    13.550828     6.972426     2.753171  \n",
       "std       8.758631    12.993786     7.745515    27.617260     1.498538  \n",
       "min      24.333000    12.667000    -9.600000     0.000000     0.000000  \n",
       "25%      34.250000    27.889000     7.600000     0.000000     1.700000  \n",
       "50%      39.640000    34.500000    13.400000     0.000000     2.400000  \n",
       "75%      49.105000    46.176000    19.700000     1.500000     3.400000  \n",
       "max     103.000000   172.200000    30.400000   587.500000    13.333000  "
      ]
     },
     "execution_count": 365,
     "metadata": {},
     "output_type": "execute_result"
    }
   ],
   "source": [
    "df.describe()"
   ]
  },
  {
   "cell_type": "markdown",
   "id": "d5f3454e",
   "metadata": {},
   "source": [
    "## Question 16\n",
    "거주인구 컬럼의 값들을 출력하라."
   ]
  },
  {
   "cell_type": "code",
   "execution_count": 366,
   "id": "57840e24",
   "metadata": {},
   "outputs": [
    {
     "data": {
      "application/vnd.microsoft.datawrangler.viewer.v0+json": {
       "columns": [
        {
         "name": "index",
         "rawType": "int64",
         "type": "integer"
        },
        {
         "name": "거주인구",
         "rawType": "float64",
         "type": "float"
        }
       ],
       "ref": "4927dfd3-1ae2-4522-8e55-7d509994d309",
       "rows": [
        [
         "0",
         "32249.987"
        ],
        [
         "1",
         "213500.997"
        ],
        [
         "2",
         "1212382.218"
        ],
        [
         "3",
         "33991.653"
        ],
        [
         "4",
         "155036.925"
        ],
        [
         "5",
         "119524.383"
        ],
        [
         "6",
         "129495.528"
        ],
        [
         "7",
         "208450.018"
        ],
        [
         "8",
         "425840.306"
        ],
        [
         "9",
         "721304.848"
        ],
        [
         "10",
         "85615.511"
        ],
        [
         "11",
         "68746.872"
        ],
        [
         "12",
         "267671.778"
        ],
        [
         "13",
         "220142.977"
        ],
        [
         "14",
         "69835.852"
        ],
        [
         "15",
         "166314.614"
        ],
        [
         "16",
         "214099.796"
        ],
        [
         "17",
         "46667.85400000001"
        ],
        [
         "18",
         "444002.084"
        ],
        [
         "19",
         "103720.698"
        ],
        [
         "20",
         "160605.538"
        ],
        [
         "21",
         "412802.1420000001"
        ],
        [
         "22",
         "290944.66"
        ],
        [
         "23",
         "385429.13"
        ],
        [
         "24",
         "214133.27"
        ],
        [
         "25",
         "47937.483"
        ],
        [
         "26",
         "86106.59300000001"
        ],
        [
         "27",
         "102726.24"
        ],
        [
         "28",
         "410396.061"
        ],
        [
         "29",
         "273403.104"
        ],
        [
         "30",
         "165105.83"
        ],
        [
         "31",
         "87486.698"
        ],
        [
         "32",
         "764374.1190000002"
        ],
        [
         "33",
         "123497.929"
        ],
        [
         "34",
         "263227.885"
        ],
        [
         "35",
         "656810.432"
        ],
        [
         "36",
         "443971.104"
        ],
        [
         "37",
         "199792.794"
        ],
        [
         "38",
         "266568.48"
        ],
        [
         "39",
         "142776.813"
        ],
        [
         "40",
         "159168.771"
        ],
        [
         "41",
         "282765.356"
        ],
        [
         "42",
         "64502.066"
        ],
        [
         "43",
         "156335.09699999998"
        ],
        [
         "44",
         "154278.015"
        ],
        [
         "45",
         "206508.498"
        ],
        [
         "46",
         "573927.659"
        ],
        [
         "47",
         "270975.076"
        ],
        [
         "48",
         "1079480.913"
        ],
        [
         "49",
         "199442.57"
        ]
       ],
       "shape": {
        "columns": 1,
        "rows": 9621
       }
      },
      "text/plain": [
       "0         32249.987\n",
       "1        213500.997\n",
       "2       1212382.218\n",
       "3         33991.653\n",
       "4        155036.925\n",
       "           ...     \n",
       "9616     228260.005\n",
       "9617     459959.064\n",
       "9618      28397.481\n",
       "9619     348037.846\n",
       "9620    1010643.372\n",
       "Name: 거주인구, Length: 9621, dtype: float64"
      ]
     },
     "execution_count": 366,
     "metadata": {},
     "output_type": "execute_result"
    }
   ],
   "source": [
    "df['거주인구']"
   ]
  },
  {
   "cell_type": "markdown",
   "id": "05ea28fa",
   "metadata": {},
   "source": [
    "## Question 17\n",
    "평균 속도 컬럼의 4분위 범위(IQR) 값을 구하여라."
   ]
  },
  {
   "cell_type": "code",
   "execution_count": 367,
   "id": "f1eeb8ce",
   "metadata": {},
   "outputs": [
    {
     "data": {
      "text/plain": [
       "14.854999999999997"
      ]
     },
     "execution_count": 367,
     "metadata": {},
     "output_type": "execute_result"
    }
   ],
   "source": [
    "# 4분위 범위(IQR)은 Q3 - Q1 , 백분위수 75% 에서 25%를 뺀 값\n",
    "df['평균 속도'].quantile(.75) - df['평균 속도'].quantile(.25) # quantile을 이용한 IQR 계산"
   ]
  },
  {
   "cell_type": "code",
   "execution_count": 368,
   "id": "2fe17d21",
   "metadata": {},
   "outputs": [
    {
     "data": {
      "text/plain": [
       "14.854999999999997"
      ]
     },
     "execution_count": 368,
     "metadata": {},
     "output_type": "execute_result"
    }
   ],
   "source": [
    "df['평균 속도'].describe()['75%'] - df['평균 속도'].describe()['25%'] # describe를 이용한 IQR 계산"
   ]
  },
  {
   "cell_type": "markdown",
   "id": "1f9e41e0",
   "metadata": {},
   "source": [
    "## Question 18\n",
    "읍면동명 컬럼의 유일 값 갯수를 출력하라."
   ]
  },
  {
   "cell_type": "code",
   "execution_count": 369,
   "id": "83472573",
   "metadata": {},
   "outputs": [
    {
     "data": {
      "text/plain": [
       "41"
      ]
     },
     "execution_count": 369,
     "metadata": {},
     "output_type": "execute_result"
    }
   ],
   "source": [
    "df['읍면동명'].nunique()"
   ]
  },
  {
   "cell_type": "markdown",
   "id": "6775083d",
   "metadata": {},
   "source": [
    "## Question 19\n",
    "읍면동명 컬럼의 유일 값을 모두 출력하라."
   ]
  },
  {
   "cell_type": "code",
   "execution_count": 370,
   "id": "feddb673",
   "metadata": {},
   "outputs": [
    {
     "data": {
      "text/plain": [
       "array(['도두동', '외도동', '이도2동', '일도1동', '대천동', '서홍동', '한경면', '송산동', '조천읍',\n",
       "       '일도2동', '영천동', '예래동', '대륜동', '삼도1동', '이호동', '건입동', '중앙동', '삼양동',\n",
       "       '삼도2동', '이도1동', '남원읍', '대정읍', '정방동', '효돈동', '아라동', '한림읍', '구좌읍',\n",
       "       '용담1동', '오라동', '화북동', '연동', '표선면', '중문동', '성산읍', '안덕면', '천지동',\n",
       "       '노형동', '동홍동', '용담2동', '봉개동', '애월읍'], dtype=object)"
      ]
     },
     "execution_count": 370,
     "metadata": {},
     "output_type": "execute_result"
    }
   ],
   "source": [
    "df['읍면동명'].unique()"
   ]
  },
  {
   "cell_type": "markdown",
   "id": "efc13988",
   "metadata": {},
   "source": [
    "# 02 Filtering & Sorting"
   ]
  },
  {
   "cell_type": "markdown",
   "id": "88f996d3",
   "metadata": {},
   "source": [
    "식당데이터 : [justmarkham/DAT8](https://github.com/justmarkham/DAT8/blob/master/data/chipotle.tsv)\n",
    "<br>\n",
    "DataUrl = ‘https://raw.githubusercontent.com/Datamanim/pandas/main/chipo.csv’"
   ]
  },
  {
   "cell_type": "markdown",
   "id": "2ead4733",
   "metadata": {},
   "source": [
    "## Question 20\n",
    "데이터를 로드하라."
   ]
  },
  {
   "cell_type": "code",
   "execution_count": 371,
   "metadata": {},
   "outputs": [],
   "source": [
    "DataUrl = 'https://raw.githubusercontent.com/Datamanim/pandas/main/chipo.csv'"
   ]
  },
  {
   "cell_type": "code",
   "execution_count": 372,
   "id": "a5815184",
   "metadata": {},
   "outputs": [],
   "source": [
    "df = pd.read_csv(DataUrl)"
   ]
  },
  {
   "cell_type": "markdown",
   "id": "1e96db93",
   "metadata": {},
   "source": [
    "## Question 21\n",
    "quantity컬럼 값이 3인 데이터를 추출하여 첫 5행을 출력하라."
   ]
  },
  {
   "cell_type": "code",
   "execution_count": 373,
   "id": "9d13a22d",
   "metadata": {},
   "outputs": [
    {
     "data": {
      "application/vnd.microsoft.datawrangler.viewer.v0+json": {
       "columns": [
        {
         "name": "index",
         "rawType": "int64",
         "type": "integer"
        },
        {
         "name": "order_id",
         "rawType": "int64",
         "type": "integer"
        },
        {
         "name": "quantity",
         "rawType": "int64",
         "type": "integer"
        },
        {
         "name": "item_name",
         "rawType": "object",
         "type": "string"
        },
        {
         "name": "choice_description",
         "rawType": "object",
         "type": "unknown"
        },
        {
         "name": "item_price",
         "rawType": "object",
         "type": "string"
        }
       ],
       "ref": "b375f144-0ba1-4425-bcc4-1b1cee812f6a",
       "rows": [
        [
         "409",
         "178",
         "3",
         "Chicken Bowl",
         "[[Fresh Tomato Salsa (Mild), Tomatillo-Green Chili Salsa (Medium), Roasted Chili Corn Salsa (Medium)], [Black Beans, Rice, Fajita Veggies, Cheese, Guacamole, Lettuce]]",
         "$32.94 "
        ],
        [
         "445",
         "193",
         "3",
         "Bowl",
         "[Braised Carnitas, Pinto Beans, [Sour Cream, Cheese, Cilantro-Lime Rice]]",
         "$22.20 "
        ],
        [
         "689",
         "284",
         "3",
         "Canned Soft Drink",
         "[Diet Coke]",
         "$3.75 "
        ],
        [
         "818",
         "338",
         "3",
         "Bottled Water",
         null,
         "$3.27 "
        ],
        [
         "850",
         "350",
         "3",
         "Canned Soft Drink",
         "[Sprite]",
         "$3.75 "
        ]
       ],
       "shape": {
        "columns": 5,
        "rows": 5
       }
      },
      "text/html": [
       "<div>\n",
       "<style scoped>\n",
       "    .dataframe tbody tr th:only-of-type {\n",
       "        vertical-align: middle;\n",
       "    }\n",
       "\n",
       "    .dataframe tbody tr th {\n",
       "        vertical-align: top;\n",
       "    }\n",
       "\n",
       "    .dataframe thead th {\n",
       "        text-align: right;\n",
       "    }\n",
       "</style>\n",
       "<table border=\"1\" class=\"dataframe\">\n",
       "  <thead>\n",
       "    <tr style=\"text-align: right;\">\n",
       "      <th></th>\n",
       "      <th>order_id</th>\n",
       "      <th>quantity</th>\n",
       "      <th>item_name</th>\n",
       "      <th>choice_description</th>\n",
       "      <th>item_price</th>\n",
       "    </tr>\n",
       "  </thead>\n",
       "  <tbody>\n",
       "    <tr>\n",
       "      <th>409</th>\n",
       "      <td>178</td>\n",
       "      <td>3</td>\n",
       "      <td>Chicken Bowl</td>\n",
       "      <td>[[Fresh Tomato Salsa (Mild), Tomatillo-Green C...</td>\n",
       "      <td>$32.94</td>\n",
       "    </tr>\n",
       "    <tr>\n",
       "      <th>445</th>\n",
       "      <td>193</td>\n",
       "      <td>3</td>\n",
       "      <td>Bowl</td>\n",
       "      <td>[Braised Carnitas, Pinto Beans, [Sour Cream, C...</td>\n",
       "      <td>$22.20</td>\n",
       "    </tr>\n",
       "    <tr>\n",
       "      <th>689</th>\n",
       "      <td>284</td>\n",
       "      <td>3</td>\n",
       "      <td>Canned Soft Drink</td>\n",
       "      <td>[Diet Coke]</td>\n",
       "      <td>$3.75</td>\n",
       "    </tr>\n",
       "    <tr>\n",
       "      <th>818</th>\n",
       "      <td>338</td>\n",
       "      <td>3</td>\n",
       "      <td>Bottled Water</td>\n",
       "      <td>NaN</td>\n",
       "      <td>$3.27</td>\n",
       "    </tr>\n",
       "    <tr>\n",
       "      <th>850</th>\n",
       "      <td>350</td>\n",
       "      <td>3</td>\n",
       "      <td>Canned Soft Drink</td>\n",
       "      <td>[Sprite]</td>\n",
       "      <td>$3.75</td>\n",
       "    </tr>\n",
       "  </tbody>\n",
       "</table>\n",
       "</div>"
      ],
      "text/plain": [
       "     order_id  quantity          item_name  \\\n",
       "409       178         3       Chicken Bowl   \n",
       "445       193         3               Bowl   \n",
       "689       284         3  Canned Soft Drink   \n",
       "818       338         3      Bottled Water   \n",
       "850       350         3  Canned Soft Drink   \n",
       "\n",
       "                                    choice_description item_price  \n",
       "409  [[Fresh Tomato Salsa (Mild), Tomatillo-Green C...    $32.94   \n",
       "445  [Braised Carnitas, Pinto Beans, [Sour Cream, C...    $22.20   \n",
       "689                                        [Diet Coke]     $3.75   \n",
       "818                                                NaN     $3.27   \n",
       "850                                           [Sprite]     $3.75   "
      ]
     },
     "execution_count": 373,
     "metadata": {},
     "output_type": "execute_result"
    }
   ],
   "source": [
    "df[df['quantity'] == 3].head(5) # 내가 쓴 답, loc을 사용하는게 더 맞는 방법인 것 같다."
   ]
  },
  {
   "cell_type": "code",
   "execution_count": 374,
   "id": "5f736ff0",
   "metadata": {},
   "outputs": [
    {
     "data": {
      "application/vnd.microsoft.datawrangler.viewer.v0+json": {
       "columns": [
        {
         "name": "index",
         "rawType": "int64",
         "type": "integer"
        },
        {
         "name": "order_id",
         "rawType": "int64",
         "type": "integer"
        },
        {
         "name": "quantity",
         "rawType": "int64",
         "type": "integer"
        },
        {
         "name": "item_name",
         "rawType": "object",
         "type": "string"
        },
        {
         "name": "choice_description",
         "rawType": "object",
         "type": "unknown"
        },
        {
         "name": "item_price",
         "rawType": "object",
         "type": "string"
        }
       ],
       "ref": "78e584df-b1c7-4041-82ee-5ebf75596143",
       "rows": [
        [
         "409",
         "178",
         "3",
         "Chicken Bowl",
         "[[Fresh Tomato Salsa (Mild), Tomatillo-Green Chili Salsa (Medium), Roasted Chili Corn Salsa (Medium)], [Black Beans, Rice, Fajita Veggies, Cheese, Guacamole, Lettuce]]",
         "$32.94 "
        ],
        [
         "445",
         "193",
         "3",
         "Bowl",
         "[Braised Carnitas, Pinto Beans, [Sour Cream, Cheese, Cilantro-Lime Rice]]",
         "$22.20 "
        ],
        [
         "689",
         "284",
         "3",
         "Canned Soft Drink",
         "[Diet Coke]",
         "$3.75 "
        ],
        [
         "818",
         "338",
         "3",
         "Bottled Water",
         null,
         "$3.27 "
        ],
        [
         "850",
         "350",
         "3",
         "Canned Soft Drink",
         "[Sprite]",
         "$3.75 "
        ]
       ],
       "shape": {
        "columns": 5,
        "rows": 5
       }
      },
      "text/html": [
       "<div>\n",
       "<style scoped>\n",
       "    .dataframe tbody tr th:only-of-type {\n",
       "        vertical-align: middle;\n",
       "    }\n",
       "\n",
       "    .dataframe tbody tr th {\n",
       "        vertical-align: top;\n",
       "    }\n",
       "\n",
       "    .dataframe thead th {\n",
       "        text-align: right;\n",
       "    }\n",
       "</style>\n",
       "<table border=\"1\" class=\"dataframe\">\n",
       "  <thead>\n",
       "    <tr style=\"text-align: right;\">\n",
       "      <th></th>\n",
       "      <th>order_id</th>\n",
       "      <th>quantity</th>\n",
       "      <th>item_name</th>\n",
       "      <th>choice_description</th>\n",
       "      <th>item_price</th>\n",
       "    </tr>\n",
       "  </thead>\n",
       "  <tbody>\n",
       "    <tr>\n",
       "      <th>409</th>\n",
       "      <td>178</td>\n",
       "      <td>3</td>\n",
       "      <td>Chicken Bowl</td>\n",
       "      <td>[[Fresh Tomato Salsa (Mild), Tomatillo-Green C...</td>\n",
       "      <td>$32.94</td>\n",
       "    </tr>\n",
       "    <tr>\n",
       "      <th>445</th>\n",
       "      <td>193</td>\n",
       "      <td>3</td>\n",
       "      <td>Bowl</td>\n",
       "      <td>[Braised Carnitas, Pinto Beans, [Sour Cream, C...</td>\n",
       "      <td>$22.20</td>\n",
       "    </tr>\n",
       "    <tr>\n",
       "      <th>689</th>\n",
       "      <td>284</td>\n",
       "      <td>3</td>\n",
       "      <td>Canned Soft Drink</td>\n",
       "      <td>[Diet Coke]</td>\n",
       "      <td>$3.75</td>\n",
       "    </tr>\n",
       "    <tr>\n",
       "      <th>818</th>\n",
       "      <td>338</td>\n",
       "      <td>3</td>\n",
       "      <td>Bottled Water</td>\n",
       "      <td>NaN</td>\n",
       "      <td>$3.27</td>\n",
       "    </tr>\n",
       "    <tr>\n",
       "      <th>850</th>\n",
       "      <td>350</td>\n",
       "      <td>3</td>\n",
       "      <td>Canned Soft Drink</td>\n",
       "      <td>[Sprite]</td>\n",
       "      <td>$3.75</td>\n",
       "    </tr>\n",
       "  </tbody>\n",
       "</table>\n",
       "</div>"
      ],
      "text/plain": [
       "     order_id  quantity          item_name  \\\n",
       "409       178         3       Chicken Bowl   \n",
       "445       193         3               Bowl   \n",
       "689       284         3  Canned Soft Drink   \n",
       "818       338         3      Bottled Water   \n",
       "850       350         3  Canned Soft Drink   \n",
       "\n",
       "                                    choice_description item_price  \n",
       "409  [[Fresh Tomato Salsa (Mild), Tomatillo-Green C...    $32.94   \n",
       "445  [Braised Carnitas, Pinto Beans, [Sour Cream, C...    $22.20   \n",
       "689                                        [Diet Coke]     $3.75   \n",
       "818                                                NaN     $3.27   \n",
       "850                                           [Sprite]     $3.75   "
      ]
     },
     "execution_count": 374,
     "metadata": {},
     "output_type": "execute_result"
    }
   ],
   "source": [
    "df.loc[df['quantity']==3].head() # 데이터마님 답"
   ]
  },
  {
   "cell_type": "markdown",
   "id": "a4e10fb7",
   "metadata": {},
   "source": [
    "## Question 22\n",
    "quantity컬럼 값이 3인 데이터를 추출하여 index를 0부터 정렬하고 첫 5행을 출력하라."
   ]
  },
  {
   "cell_type": "code",
   "execution_count": 375,
   "id": "ba42f683",
   "metadata": {},
   "outputs": [
    {
     "data": {
      "application/vnd.microsoft.datawrangler.viewer.v0+json": {
       "columns": [
        {
         "name": "index",
         "rawType": "int64",
         "type": "integer"
        },
        {
         "name": "order_id",
         "rawType": "int64",
         "type": "integer"
        },
        {
         "name": "quantity",
         "rawType": "int64",
         "type": "integer"
        },
        {
         "name": "item_name",
         "rawType": "object",
         "type": "string"
        },
        {
         "name": "choice_description",
         "rawType": "object",
         "type": "unknown"
        },
        {
         "name": "item_price",
         "rawType": "object",
         "type": "string"
        }
       ],
       "ref": "7fa800c6-57dc-4b40-b7c9-77629eaa7188",
       "rows": [
        [
         "0",
         "178",
         "3",
         "Chicken Bowl",
         "[[Fresh Tomato Salsa (Mild), Tomatillo-Green Chili Salsa (Medium), Roasted Chili Corn Salsa (Medium)], [Black Beans, Rice, Fajita Veggies, Cheese, Guacamole, Lettuce]]",
         "$32.94 "
        ],
        [
         "1",
         "193",
         "3",
         "Bowl",
         "[Braised Carnitas, Pinto Beans, [Sour Cream, Cheese, Cilantro-Lime Rice]]",
         "$22.20 "
        ],
        [
         "2",
         "284",
         "3",
         "Canned Soft Drink",
         "[Diet Coke]",
         "$3.75 "
        ],
        [
         "3",
         "338",
         "3",
         "Bottled Water",
         null,
         "$3.27 "
        ],
        [
         "4",
         "350",
         "3",
         "Canned Soft Drink",
         "[Sprite]",
         "$3.75 "
        ]
       ],
       "shape": {
        "columns": 5,
        "rows": 5
       }
      },
      "text/html": [
       "<div>\n",
       "<style scoped>\n",
       "    .dataframe tbody tr th:only-of-type {\n",
       "        vertical-align: middle;\n",
       "    }\n",
       "\n",
       "    .dataframe tbody tr th {\n",
       "        vertical-align: top;\n",
       "    }\n",
       "\n",
       "    .dataframe thead th {\n",
       "        text-align: right;\n",
       "    }\n",
       "</style>\n",
       "<table border=\"1\" class=\"dataframe\">\n",
       "  <thead>\n",
       "    <tr style=\"text-align: right;\">\n",
       "      <th></th>\n",
       "      <th>order_id</th>\n",
       "      <th>quantity</th>\n",
       "      <th>item_name</th>\n",
       "      <th>choice_description</th>\n",
       "      <th>item_price</th>\n",
       "    </tr>\n",
       "  </thead>\n",
       "  <tbody>\n",
       "    <tr>\n",
       "      <th>0</th>\n",
       "      <td>178</td>\n",
       "      <td>3</td>\n",
       "      <td>Chicken Bowl</td>\n",
       "      <td>[[Fresh Tomato Salsa (Mild), Tomatillo-Green C...</td>\n",
       "      <td>$32.94</td>\n",
       "    </tr>\n",
       "    <tr>\n",
       "      <th>1</th>\n",
       "      <td>193</td>\n",
       "      <td>3</td>\n",
       "      <td>Bowl</td>\n",
       "      <td>[Braised Carnitas, Pinto Beans, [Sour Cream, C...</td>\n",
       "      <td>$22.20</td>\n",
       "    </tr>\n",
       "    <tr>\n",
       "      <th>2</th>\n",
       "      <td>284</td>\n",
       "      <td>3</td>\n",
       "      <td>Canned Soft Drink</td>\n",
       "      <td>[Diet Coke]</td>\n",
       "      <td>$3.75</td>\n",
       "    </tr>\n",
       "    <tr>\n",
       "      <th>3</th>\n",
       "      <td>338</td>\n",
       "      <td>3</td>\n",
       "      <td>Bottled Water</td>\n",
       "      <td>NaN</td>\n",
       "      <td>$3.27</td>\n",
       "    </tr>\n",
       "    <tr>\n",
       "      <th>4</th>\n",
       "      <td>350</td>\n",
       "      <td>3</td>\n",
       "      <td>Canned Soft Drink</td>\n",
       "      <td>[Sprite]</td>\n",
       "      <td>$3.75</td>\n",
       "    </tr>\n",
       "  </tbody>\n",
       "</table>\n",
       "</div>"
      ],
      "text/plain": [
       "   order_id  quantity          item_name  \\\n",
       "0       178         3       Chicken Bowl   \n",
       "1       193         3               Bowl   \n",
       "2       284         3  Canned Soft Drink   \n",
       "3       338         3      Bottled Water   \n",
       "4       350         3  Canned Soft Drink   \n",
       "\n",
       "                                  choice_description item_price  \n",
       "0  [[Fresh Tomato Salsa (Mild), Tomatillo-Green C...    $32.94   \n",
       "1  [Braised Carnitas, Pinto Beans, [Sour Cream, C...    $22.20   \n",
       "2                                        [Diet Coke]     $3.75   \n",
       "3                                                NaN     $3.27   \n",
       "4                                           [Sprite]     $3.75   "
      ]
     },
     "execution_count": 375,
     "metadata": {},
     "output_type": "execute_result"
    }
   ],
   "source": [
    "df[df['quantity'] == 3].head(5).reset_index(drop=True)"
   ]
  },
  {
   "cell_type": "markdown",
   "id": "64084799",
   "metadata": {},
   "source": [
    "## Question 23\n",
    "quantity, item_price 두 개의 컬럼으로 구성된 새로운 데이터 프레임을 정의하라."
   ]
  },
  {
   "cell_type": "code",
   "execution_count": 376,
   "id": "06d3f94c",
   "metadata": {},
   "outputs": [
    {
     "data": {
      "application/vnd.microsoft.datawrangler.viewer.v0+json": {
       "columns": [
        {
         "name": "index",
         "rawType": "int64",
         "type": "integer"
        },
        {
         "name": "quantity",
         "rawType": "int64",
         "type": "integer"
        },
        {
         "name": "item_price",
         "rawType": "object",
         "type": "string"
        }
       ],
       "ref": "24107553-6973-4237-b6da-d36be5d652ef",
       "rows": [
        [
         "0",
         "1",
         "$2.39 "
        ],
        [
         "1",
         "1",
         "$3.39 "
        ],
        [
         "2",
         "1",
         "$3.39 "
        ],
        [
         "3",
         "1",
         "$2.39 "
        ],
        [
         "4",
         "2",
         "$16.98 "
        ],
        [
         "5",
         "1",
         "$10.98 "
        ],
        [
         "6",
         "1",
         "$1.69 "
        ],
        [
         "7",
         "1",
         "$11.75 "
        ],
        [
         "8",
         "1",
         "$9.25 "
        ],
        [
         "9",
         "1",
         "$9.25 "
        ],
        [
         "10",
         "1",
         "$4.45 "
        ],
        [
         "11",
         "1",
         "$8.75 "
        ],
        [
         "12",
         "1",
         "$8.75 "
        ],
        [
         "13",
         "1",
         "$11.25 "
        ],
        [
         "14",
         "1",
         "$4.45 "
        ],
        [
         "15",
         "1",
         "$2.39 "
        ],
        [
         "16",
         "1",
         "$8.49 "
        ],
        [
         "17",
         "1",
         "$8.49 "
        ],
        [
         "18",
         "2",
         "$2.18 "
        ],
        [
         "19",
         "1",
         "$8.75 "
        ],
        [
         "20",
         "1",
         "$4.45 "
        ],
        [
         "21",
         "1",
         "$8.99 "
        ],
        [
         "22",
         "1",
         "$3.39 "
        ],
        [
         "23",
         "1",
         "$10.98 "
        ],
        [
         "24",
         "1",
         "$3.39 "
        ],
        [
         "25",
         "1",
         "$2.39 "
        ],
        [
         "26",
         "1",
         "$8.49 "
        ],
        [
         "27",
         "1",
         "$8.99 "
        ],
        [
         "28",
         "1",
         "$1.09 "
        ],
        [
         "29",
         "1",
         "$8.49 "
        ],
        [
         "30",
         "1",
         "$2.39 "
        ],
        [
         "31",
         "1",
         "$8.99 "
        ],
        [
         "32",
         "1",
         "$1.69 "
        ],
        [
         "33",
         "1",
         "$8.99 "
        ],
        [
         "34",
         "1",
         "$1.09 "
        ],
        [
         "35",
         "1",
         "$8.75 "
        ],
        [
         "36",
         "1",
         "$8.75 "
        ],
        [
         "37",
         "1",
         "$4.45 "
        ],
        [
         "38",
         "1",
         "$2.95 "
        ],
        [
         "39",
         "1",
         "$11.75 "
        ],
        [
         "40",
         "1",
         "$2.15 "
        ],
        [
         "41",
         "1",
         "$4.45 "
        ],
        [
         "42",
         "1",
         "$11.25 "
        ],
        [
         "43",
         "1",
         "$11.75 "
        ],
        [
         "44",
         "1",
         "$8.75 "
        ],
        [
         "45",
         "1",
         "$10.98 "
        ],
        [
         "46",
         "1",
         "$8.99 "
        ],
        [
         "47",
         "1",
         "$3.39 "
        ],
        [
         "48",
         "1",
         "$8.99 "
        ],
        [
         "49",
         "1",
         "$3.99 "
        ]
       ],
       "shape": {
        "columns": 2,
        "rows": 4622
       }
      },
      "text/html": [
       "<div>\n",
       "<style scoped>\n",
       "    .dataframe tbody tr th:only-of-type {\n",
       "        vertical-align: middle;\n",
       "    }\n",
       "\n",
       "    .dataframe tbody tr th {\n",
       "        vertical-align: top;\n",
       "    }\n",
       "\n",
       "    .dataframe thead th {\n",
       "        text-align: right;\n",
       "    }\n",
       "</style>\n",
       "<table border=\"1\" class=\"dataframe\">\n",
       "  <thead>\n",
       "    <tr style=\"text-align: right;\">\n",
       "      <th></th>\n",
       "      <th>quantity</th>\n",
       "      <th>item_price</th>\n",
       "    </tr>\n",
       "  </thead>\n",
       "  <tbody>\n",
       "    <tr>\n",
       "      <th>0</th>\n",
       "      <td>1</td>\n",
       "      <td>$2.39</td>\n",
       "    </tr>\n",
       "    <tr>\n",
       "      <th>1</th>\n",
       "      <td>1</td>\n",
       "      <td>$3.39</td>\n",
       "    </tr>\n",
       "    <tr>\n",
       "      <th>2</th>\n",
       "      <td>1</td>\n",
       "      <td>$3.39</td>\n",
       "    </tr>\n",
       "    <tr>\n",
       "      <th>3</th>\n",
       "      <td>1</td>\n",
       "      <td>$2.39</td>\n",
       "    </tr>\n",
       "    <tr>\n",
       "      <th>4</th>\n",
       "      <td>2</td>\n",
       "      <td>$16.98</td>\n",
       "    </tr>\n",
       "    <tr>\n",
       "      <th>...</th>\n",
       "      <td>...</td>\n",
       "      <td>...</td>\n",
       "    </tr>\n",
       "    <tr>\n",
       "      <th>4617</th>\n",
       "      <td>1</td>\n",
       "      <td>$11.75</td>\n",
       "    </tr>\n",
       "    <tr>\n",
       "      <th>4618</th>\n",
       "      <td>1</td>\n",
       "      <td>$11.75</td>\n",
       "    </tr>\n",
       "    <tr>\n",
       "      <th>4619</th>\n",
       "      <td>1</td>\n",
       "      <td>$11.25</td>\n",
       "    </tr>\n",
       "    <tr>\n",
       "      <th>4620</th>\n",
       "      <td>1</td>\n",
       "      <td>$8.75</td>\n",
       "    </tr>\n",
       "    <tr>\n",
       "      <th>4621</th>\n",
       "      <td>1</td>\n",
       "      <td>$8.75</td>\n",
       "    </tr>\n",
       "  </tbody>\n",
       "</table>\n",
       "<p>4622 rows × 2 columns</p>\n",
       "</div>"
      ],
      "text/plain": [
       "      quantity item_price\n",
       "0            1     $2.39 \n",
       "1            1     $3.39 \n",
       "2            1     $3.39 \n",
       "3            1     $2.39 \n",
       "4            2    $16.98 \n",
       "...        ...        ...\n",
       "4617         1    $11.75 \n",
       "4618         1    $11.75 \n",
       "4619         1    $11.25 \n",
       "4620         1     $8.75 \n",
       "4621         1     $8.75 \n",
       "\n",
       "[4622 rows x 2 columns]"
      ]
     },
     "execution_count": 376,
     "metadata": {},
     "output_type": "execute_result"
    }
   ],
   "source": [
    "new_df = df[['quantity', 'item_price']]\n",
    "new_df"
   ]
  },
  {
   "cell_type": "markdown",
   "id": "2d19b50c",
   "metadata": {},
   "source": [
    "## Question 24\n",
    "item_price 컬럼의 달러표시 문자를 제거하고 float 타입으로 저장하여 new_price 컬럼에 저장하라"
   ]
  },
  {
   "cell_type": "code",
   "execution_count": 377,
   "id": "3487fb3b",
   "metadata": {},
   "outputs": [
    {
     "data": {
      "application/vnd.microsoft.datawrangler.viewer.v0+json": {
       "columns": [
        {
         "name": "index",
         "rawType": "int64",
         "type": "integer"
        },
        {
         "name": "new_price",
         "rawType": "float64",
         "type": "float"
        }
       ],
       "ref": "316106f9-5e82-4908-99e9-899f26fcd8ab",
       "rows": [
        [
         "0",
         "2.39"
        ],
        [
         "1",
         "3.39"
        ],
        [
         "2",
         "3.39"
        ],
        [
         "3",
         "2.39"
        ],
        [
         "4",
         "16.98"
        ]
       ],
       "shape": {
        "columns": 1,
        "rows": 5
       }
      },
      "text/plain": [
       "0     2.39\n",
       "1     3.39\n",
       "2     3.39\n",
       "3     2.39\n",
       "4    16.98\n",
       "Name: new_price, dtype: float64"
      ]
     },
     "execution_count": 377,
     "metadata": {},
     "output_type": "execute_result"
    }
   ],
   "source": [
    "df['new_price'] = df['item_price'].str.replace('$', '').astype(float)\n",
    "df['new_price'].head() # 내가 쓴 답"
   ]
  },
  {
   "cell_type": "code",
   "execution_count": 378,
   "id": "25837b9c",
   "metadata": {},
   "outputs": [
    {
     "data": {
      "application/vnd.microsoft.datawrangler.viewer.v0+json": {
       "columns": [
        {
         "name": "index",
         "rawType": "int64",
         "type": "integer"
        },
        {
         "name": "new_price",
         "rawType": "float64",
         "type": "float"
        }
       ],
       "ref": "63b56d18-679b-4e09-86a0-79d5927364f3",
       "rows": [
        [
         "0",
         "2.39"
        ],
        [
         "1",
         "3.39"
        ],
        [
         "2",
         "3.39"
        ],
        [
         "3",
         "2.39"
        ],
        [
         "4",
         "16.98"
        ]
       ],
       "shape": {
        "columns": 1,
        "rows": 5
       }
      },
      "text/plain": [
       "0     2.39\n",
       "1     3.39\n",
       "2     3.39\n",
       "3     2.39\n",
       "4    16.98\n",
       "Name: new_price, dtype: float64"
      ]
     },
     "execution_count": 378,
     "metadata": {},
     "output_type": "execute_result"
    }
   ],
   "source": [
    "df['new_price'] = df['item_price'].str[1:].astype('float')\n",
    "Ans = df['new_price'].head() # 데이터마님 답\n",
    "Ans"
   ]
  },
  {
   "cell_type": "markdown",
   "id": "24775e5f",
   "metadata": {},
   "source": [
    "## Question 25\n",
    "new_price 컬럼이 5이하의 값을 가지는 데이터프레임을 추출하고, 전체 갯수를 구하여라"
   ]
  },
  {
   "cell_type": "code",
   "execution_count": 379,
   "id": "db71a301",
   "metadata": {},
   "outputs": [
    {
     "data": {
      "text/plain": [
       "1652"
      ]
     },
     "execution_count": 379,
     "metadata": {},
     "output_type": "execute_result"
    }
   ],
   "source": [
    "len(df[df['new_price'] <= 5]) # 내가 쓴 답"
   ]
  },
  {
   "cell_type": "code",
   "execution_count": 380,
   "id": "f4c1f8ae",
   "metadata": {},
   "outputs": [
    {
     "data": {
      "text/plain": [
       "1652"
      ]
     },
     "execution_count": 380,
     "metadata": {},
     "output_type": "execute_result"
    }
   ],
   "source": [
    "Ans = len(df.loc[df.new_price <=5])\n",
    "Ans # 데이터마님 답"
   ]
  },
  {
   "cell_type": "markdown",
   "id": "6d8e3b5e",
   "metadata": {},
   "source": [
    "## Question 26\n",
    "item_name명이 Chicken Salad Bowl 인 데이터 프레임을 추출하라고 index 값을 초기화 하여라."
   ]
  },
  {
   "cell_type": "code",
   "execution_count": 381,
   "id": "4672b690",
   "metadata": {},
   "outputs": [
    {
     "data": {
      "application/vnd.microsoft.datawrangler.viewer.v0+json": {
       "columns": [
        {
         "name": "index",
         "rawType": "int64",
         "type": "integer"
        },
        {
         "name": "order_id",
         "rawType": "int64",
         "type": "integer"
        },
        {
         "name": "quantity",
         "rawType": "int64",
         "type": "integer"
        },
        {
         "name": "item_name",
         "rawType": "object",
         "type": "string"
        },
        {
         "name": "choice_description",
         "rawType": "object",
         "type": "string"
        },
        {
         "name": "item_price",
         "rawType": "object",
         "type": "string"
        },
        {
         "name": "new_price",
         "rawType": "float64",
         "type": "float"
        }
       ],
       "ref": "7a8c74ac-c5fc-4e09-90a0-93aacaf1ed35",
       "rows": [
        [
         "0",
         "20",
         "1",
         "Chicken Salad Bowl",
         "[Fresh Tomato Salsa, [Fajita Vegetables, Pinto Beans, Lettuce]]",
         "$8.75 ",
         "8.75"
        ],
        [
         "1",
         "60",
         "2",
         "Chicken Salad Bowl",
         "[Tomatillo Green Chili Salsa, [Sour Cream, Cheese, Guacamole]]",
         "$22.50 ",
         "22.5"
        ],
        [
         "2",
         "94",
         "2",
         "Chicken Salad Bowl",
         "[Fresh Tomato Salsa, [Fajita Vegetables, Pinto Beans, Guacamole]]",
         "$22.50 ",
         "22.5"
        ]
       ],
       "shape": {
        "columns": 6,
        "rows": 3
       }
      },
      "text/html": [
       "<div>\n",
       "<style scoped>\n",
       "    .dataframe tbody tr th:only-of-type {\n",
       "        vertical-align: middle;\n",
       "    }\n",
       "\n",
       "    .dataframe tbody tr th {\n",
       "        vertical-align: top;\n",
       "    }\n",
       "\n",
       "    .dataframe thead th {\n",
       "        text-align: right;\n",
       "    }\n",
       "</style>\n",
       "<table border=\"1\" class=\"dataframe\">\n",
       "  <thead>\n",
       "    <tr style=\"text-align: right;\">\n",
       "      <th></th>\n",
       "      <th>order_id</th>\n",
       "      <th>quantity</th>\n",
       "      <th>item_name</th>\n",
       "      <th>choice_description</th>\n",
       "      <th>item_price</th>\n",
       "      <th>new_price</th>\n",
       "    </tr>\n",
       "  </thead>\n",
       "  <tbody>\n",
       "    <tr>\n",
       "      <th>0</th>\n",
       "      <td>20</td>\n",
       "      <td>1</td>\n",
       "      <td>Chicken Salad Bowl</td>\n",
       "      <td>[Fresh Tomato Salsa, [Fajita Vegetables, Pinto...</td>\n",
       "      <td>$8.75</td>\n",
       "      <td>8.75</td>\n",
       "    </tr>\n",
       "    <tr>\n",
       "      <th>1</th>\n",
       "      <td>60</td>\n",
       "      <td>2</td>\n",
       "      <td>Chicken Salad Bowl</td>\n",
       "      <td>[Tomatillo Green Chili Salsa, [Sour Cream, Che...</td>\n",
       "      <td>$22.50</td>\n",
       "      <td>22.50</td>\n",
       "    </tr>\n",
       "    <tr>\n",
       "      <th>2</th>\n",
       "      <td>94</td>\n",
       "      <td>2</td>\n",
       "      <td>Chicken Salad Bowl</td>\n",
       "      <td>[Fresh Tomato Salsa, [Fajita Vegetables, Pinto...</td>\n",
       "      <td>$22.50</td>\n",
       "      <td>22.50</td>\n",
       "    </tr>\n",
       "  </tbody>\n",
       "</table>\n",
       "</div>"
      ],
      "text/plain": [
       "   order_id  quantity           item_name  \\\n",
       "0        20         1  Chicken Salad Bowl   \n",
       "1        60         2  Chicken Salad Bowl   \n",
       "2        94         2  Chicken Salad Bowl   \n",
       "\n",
       "                                  choice_description item_price  new_price  \n",
       "0  [Fresh Tomato Salsa, [Fajita Vegetables, Pinto...     $8.75        8.75  \n",
       "1  [Tomatillo Green Chili Salsa, [Sour Cream, Che...    $22.50       22.50  \n",
       "2  [Fresh Tomato Salsa, [Fajita Vegetables, Pinto...    $22.50       22.50  "
      ]
     },
     "execution_count": 381,
     "metadata": {},
     "output_type": "execute_result"
    }
   ],
   "source": [
    "df[df['item_name'] == 'Chicken Salad Bowl'].reset_index(drop=True).head(3)\n"
   ]
  },
  {
   "cell_type": "markdown",
   "id": "c10fc74a",
   "metadata": {},
   "source": [
    "## Question 27\n",
    "new_price값이 9 이하이고 item_name 값이 Chicken Salad Bowl 인 데이터 프레임을 추출하라"
   ]
  },
  {
   "cell_type": "code",
   "execution_count": 382,
   "id": "fcbf4b58",
   "metadata": {},
   "outputs": [
    {
     "data": {
      "application/vnd.microsoft.datawrangler.viewer.v0+json": {
       "columns": [
        {
         "name": "index",
         "rawType": "int64",
         "type": "integer"
        },
        {
         "name": "order_id",
         "rawType": "int64",
         "type": "integer"
        },
        {
         "name": "quantity",
         "rawType": "int64",
         "type": "integer"
        },
        {
         "name": "item_name",
         "rawType": "object",
         "type": "string"
        },
        {
         "name": "choice_description",
         "rawType": "object",
         "type": "string"
        },
        {
         "name": "item_price",
         "rawType": "object",
         "type": "string"
        },
        {
         "name": "new_price",
         "rawType": "float64",
         "type": "float"
        }
       ],
       "ref": "f13cdec9-d45f-4663-b9ac-77dd4ef55c44",
       "rows": [
        [
         "44",
         "20",
         "1",
         "Chicken Salad Bowl",
         "[Fresh Tomato Salsa, [Fajita Vegetables, Pinto Beans, Lettuce]]",
         "$8.75 ",
         "8.75"
        ],
        [
         "256",
         "111",
         "1",
         "Chicken Salad Bowl",
         "[Fresh Tomato Salsa, [Fajita Vegetables, Rice, Cheese, Sour Cream, Lettuce]]",
         "$8.75 ",
         "8.75"
        ],
        [
         "526",
         "220",
         "1",
         "Chicken Salad Bowl",
         "[Roasted Chili Corn Salsa, [Black Beans, Sour Cream, Cheese, Lettuce]]",
         "$8.75 ",
         "8.75"
        ],
        [
         "528",
         "221",
         "1",
         "Chicken Salad Bowl",
         "[Tomatillo Green Chili Salsa, [Fajita Vegetables, Black Beans, Pinto Beans, Lettuce]]",
         "$8.75 ",
         "8.75"
        ],
        [
         "529",
         "221",
         "1",
         "Chicken Salad Bowl",
         "[Tomatillo Green Chili Salsa, [Fajita Vegetables, Rice, Cheese, Sour Cream, Lettuce]]",
         "$8.75 ",
         "8.75"
        ]
       ],
       "shape": {
        "columns": 6,
        "rows": 5
       }
      },
      "text/html": [
       "<div>\n",
       "<style scoped>\n",
       "    .dataframe tbody tr th:only-of-type {\n",
       "        vertical-align: middle;\n",
       "    }\n",
       "\n",
       "    .dataframe tbody tr th {\n",
       "        vertical-align: top;\n",
       "    }\n",
       "\n",
       "    .dataframe thead th {\n",
       "        text-align: right;\n",
       "    }\n",
       "</style>\n",
       "<table border=\"1\" class=\"dataframe\">\n",
       "  <thead>\n",
       "    <tr style=\"text-align: right;\">\n",
       "      <th></th>\n",
       "      <th>order_id</th>\n",
       "      <th>quantity</th>\n",
       "      <th>item_name</th>\n",
       "      <th>choice_description</th>\n",
       "      <th>item_price</th>\n",
       "      <th>new_price</th>\n",
       "    </tr>\n",
       "  </thead>\n",
       "  <tbody>\n",
       "    <tr>\n",
       "      <th>44</th>\n",
       "      <td>20</td>\n",
       "      <td>1</td>\n",
       "      <td>Chicken Salad Bowl</td>\n",
       "      <td>[Fresh Tomato Salsa, [Fajita Vegetables, Pinto...</td>\n",
       "      <td>$8.75</td>\n",
       "      <td>8.75</td>\n",
       "    </tr>\n",
       "    <tr>\n",
       "      <th>256</th>\n",
       "      <td>111</td>\n",
       "      <td>1</td>\n",
       "      <td>Chicken Salad Bowl</td>\n",
       "      <td>[Fresh Tomato Salsa, [Fajita Vegetables, Rice,...</td>\n",
       "      <td>$8.75</td>\n",
       "      <td>8.75</td>\n",
       "    </tr>\n",
       "    <tr>\n",
       "      <th>526</th>\n",
       "      <td>220</td>\n",
       "      <td>1</td>\n",
       "      <td>Chicken Salad Bowl</td>\n",
       "      <td>[Roasted Chili Corn Salsa, [Black Beans, Sour ...</td>\n",
       "      <td>$8.75</td>\n",
       "      <td>8.75</td>\n",
       "    </tr>\n",
       "    <tr>\n",
       "      <th>528</th>\n",
       "      <td>221</td>\n",
       "      <td>1</td>\n",
       "      <td>Chicken Salad Bowl</td>\n",
       "      <td>[Tomatillo Green Chili Salsa, [Fajita Vegetabl...</td>\n",
       "      <td>$8.75</td>\n",
       "      <td>8.75</td>\n",
       "    </tr>\n",
       "    <tr>\n",
       "      <th>529</th>\n",
       "      <td>221</td>\n",
       "      <td>1</td>\n",
       "      <td>Chicken Salad Bowl</td>\n",
       "      <td>[Tomatillo Green Chili Salsa, [Fajita Vegetabl...</td>\n",
       "      <td>$8.75</td>\n",
       "      <td>8.75</td>\n",
       "    </tr>\n",
       "  </tbody>\n",
       "</table>\n",
       "</div>"
      ],
      "text/plain": [
       "     order_id  quantity           item_name  \\\n",
       "44         20         1  Chicken Salad Bowl   \n",
       "256       111         1  Chicken Salad Bowl   \n",
       "526       220         1  Chicken Salad Bowl   \n",
       "528       221         1  Chicken Salad Bowl   \n",
       "529       221         1  Chicken Salad Bowl   \n",
       "\n",
       "                                    choice_description item_price  new_price  \n",
       "44   [Fresh Tomato Salsa, [Fajita Vegetables, Pinto...     $8.75        8.75  \n",
       "256  [Fresh Tomato Salsa, [Fajita Vegetables, Rice,...     $8.75        8.75  \n",
       "526  [Roasted Chili Corn Salsa, [Black Beans, Sour ...     $8.75        8.75  \n",
       "528  [Tomatillo Green Chili Salsa, [Fajita Vegetabl...     $8.75        8.75  \n",
       "529  [Tomatillo Green Chili Salsa, [Fajita Vegetabl...     $8.75        8.75  "
      ]
     },
     "execution_count": 382,
     "metadata": {},
     "output_type": "execute_result"
    }
   ],
   "source": [
    "df[(df['new_price'] <= 9) & (df['item_name'] == 'Chicken Salad Bowl')].head(5) # 내가 쓴 답, 앞으로 loc를 사용하기로..."
   ]
  },
  {
   "cell_type": "code",
   "execution_count": 383,
   "id": "7297390a",
   "metadata": {},
   "outputs": [
    {
     "data": {
      "application/vnd.microsoft.datawrangler.viewer.v0+json": {
       "columns": [
        {
         "name": "index",
         "rawType": "int64",
         "type": "integer"
        },
        {
         "name": "order_id",
         "rawType": "int64",
         "type": "integer"
        },
        {
         "name": "quantity",
         "rawType": "int64",
         "type": "integer"
        },
        {
         "name": "item_name",
         "rawType": "object",
         "type": "string"
        },
        {
         "name": "choice_description",
         "rawType": "object",
         "type": "string"
        },
        {
         "name": "item_price",
         "rawType": "object",
         "type": "string"
        },
        {
         "name": "new_price",
         "rawType": "float64",
         "type": "float"
        }
       ],
       "ref": "674e1e00-67dd-4bbf-a01f-2bbfd5e6ffea",
       "rows": [
        [
         "44",
         "20",
         "1",
         "Chicken Salad Bowl",
         "[Fresh Tomato Salsa, [Fajita Vegetables, Pinto Beans, Lettuce]]",
         "$8.75 ",
         "8.75"
        ],
        [
         "256",
         "111",
         "1",
         "Chicken Salad Bowl",
         "[Fresh Tomato Salsa, [Fajita Vegetables, Rice, Cheese, Sour Cream, Lettuce]]",
         "$8.75 ",
         "8.75"
        ],
        [
         "526",
         "220",
         "1",
         "Chicken Salad Bowl",
         "[Roasted Chili Corn Salsa, [Black Beans, Sour Cream, Cheese, Lettuce]]",
         "$8.75 ",
         "8.75"
        ],
        [
         "528",
         "221",
         "1",
         "Chicken Salad Bowl",
         "[Tomatillo Green Chili Salsa, [Fajita Vegetables, Black Beans, Pinto Beans, Lettuce]]",
         "$8.75 ",
         "8.75"
        ],
        [
         "529",
         "221",
         "1",
         "Chicken Salad Bowl",
         "[Tomatillo Green Chili Salsa, [Fajita Vegetables, Rice, Cheese, Sour Cream, Lettuce]]",
         "$8.75 ",
         "8.75"
        ]
       ],
       "shape": {
        "columns": 6,
        "rows": 5
       }
      },
      "text/html": [
       "<div>\n",
       "<style scoped>\n",
       "    .dataframe tbody tr th:only-of-type {\n",
       "        vertical-align: middle;\n",
       "    }\n",
       "\n",
       "    .dataframe tbody tr th {\n",
       "        vertical-align: top;\n",
       "    }\n",
       "\n",
       "    .dataframe thead th {\n",
       "        text-align: right;\n",
       "    }\n",
       "</style>\n",
       "<table border=\"1\" class=\"dataframe\">\n",
       "  <thead>\n",
       "    <tr style=\"text-align: right;\">\n",
       "      <th></th>\n",
       "      <th>order_id</th>\n",
       "      <th>quantity</th>\n",
       "      <th>item_name</th>\n",
       "      <th>choice_description</th>\n",
       "      <th>item_price</th>\n",
       "      <th>new_price</th>\n",
       "    </tr>\n",
       "  </thead>\n",
       "  <tbody>\n",
       "    <tr>\n",
       "      <th>44</th>\n",
       "      <td>20</td>\n",
       "      <td>1</td>\n",
       "      <td>Chicken Salad Bowl</td>\n",
       "      <td>[Fresh Tomato Salsa, [Fajita Vegetables, Pinto...</td>\n",
       "      <td>$8.75</td>\n",
       "      <td>8.75</td>\n",
       "    </tr>\n",
       "    <tr>\n",
       "      <th>256</th>\n",
       "      <td>111</td>\n",
       "      <td>1</td>\n",
       "      <td>Chicken Salad Bowl</td>\n",
       "      <td>[Fresh Tomato Salsa, [Fajita Vegetables, Rice,...</td>\n",
       "      <td>$8.75</td>\n",
       "      <td>8.75</td>\n",
       "    </tr>\n",
       "    <tr>\n",
       "      <th>526</th>\n",
       "      <td>220</td>\n",
       "      <td>1</td>\n",
       "      <td>Chicken Salad Bowl</td>\n",
       "      <td>[Roasted Chili Corn Salsa, [Black Beans, Sour ...</td>\n",
       "      <td>$8.75</td>\n",
       "      <td>8.75</td>\n",
       "    </tr>\n",
       "    <tr>\n",
       "      <th>528</th>\n",
       "      <td>221</td>\n",
       "      <td>1</td>\n",
       "      <td>Chicken Salad Bowl</td>\n",
       "      <td>[Tomatillo Green Chili Salsa, [Fajita Vegetabl...</td>\n",
       "      <td>$8.75</td>\n",
       "      <td>8.75</td>\n",
       "    </tr>\n",
       "    <tr>\n",
       "      <th>529</th>\n",
       "      <td>221</td>\n",
       "      <td>1</td>\n",
       "      <td>Chicken Salad Bowl</td>\n",
       "      <td>[Tomatillo Green Chili Salsa, [Fajita Vegetabl...</td>\n",
       "      <td>$8.75</td>\n",
       "      <td>8.75</td>\n",
       "    </tr>\n",
       "  </tbody>\n",
       "</table>\n",
       "</div>"
      ],
      "text/plain": [
       "     order_id  quantity           item_name  \\\n",
       "44         20         1  Chicken Salad Bowl   \n",
       "256       111         1  Chicken Salad Bowl   \n",
       "526       220         1  Chicken Salad Bowl   \n",
       "528       221         1  Chicken Salad Bowl   \n",
       "529       221         1  Chicken Salad Bowl   \n",
       "\n",
       "                                    choice_description item_price  new_price  \n",
       "44   [Fresh Tomato Salsa, [Fajita Vegetables, Pinto...     $8.75        8.75  \n",
       "256  [Fresh Tomato Salsa, [Fajita Vegetables, Rice,...     $8.75        8.75  \n",
       "526  [Roasted Chili Corn Salsa, [Black Beans, Sour ...     $8.75        8.75  \n",
       "528  [Tomatillo Green Chili Salsa, [Fajita Vegetabl...     $8.75        8.75  \n",
       "529  [Tomatillo Green Chili Salsa, [Fajita Vegetabl...     $8.75        8.75  "
      ]
     },
     "execution_count": 383,
     "metadata": {},
     "output_type": "execute_result"
    }
   ],
   "source": [
    "Ans = df.loc[(df.item_name =='Chicken Salad Bowl') & (df.new_price <= 9)] # 데이터마님 답\n",
    "Ans.head(5)"
   ]
  },
  {
   "cell_type": "markdown",
   "id": "421ff328",
   "metadata": {},
   "source": [
    "## Question 28\n",
    "df의 new_price 컬럼 값에 따라 오름차순으로 정리하고 index를 초기화 하여라."
   ]
  },
  {
   "cell_type": "code",
   "execution_count": 384,
   "id": "6ffde5fb",
   "metadata": {},
   "outputs": [
    {
     "data": {
      "application/vnd.microsoft.datawrangler.viewer.v0+json": {
       "columns": [
        {
         "name": "index",
         "rawType": "int64",
         "type": "integer"
        },
        {
         "name": "order_id",
         "rawType": "int64",
         "type": "integer"
        },
        {
         "name": "quantity",
         "rawType": "int64",
         "type": "integer"
        },
        {
         "name": "item_name",
         "rawType": "object",
         "type": "string"
        },
        {
         "name": "choice_description",
         "rawType": "object",
         "type": "unknown"
        },
        {
         "name": "item_price",
         "rawType": "object",
         "type": "string"
        },
        {
         "name": "new_price",
         "rawType": "float64",
         "type": "float"
        }
       ],
       "ref": "2c3671c4-f48a-419b-9832-1eb1f734397e",
       "rows": [
        [
         "0",
         "471",
         "1",
         "Bottled Water",
         null,
         "$1.09 ",
         "1.09"
        ],
        [
         "1",
         "338",
         "1",
         "Canned Soda",
         "[Coca Cola]",
         "$1.09 ",
         "1.09"
        ],
        [
         "2",
         "1575",
         "1",
         "Canned Soda",
         "[Dr. Pepper]",
         "$1.09 ",
         "1.09"
        ],
        [
         "3",
         "47",
         "1",
         "Canned Soda",
         "[Dr. Pepper]",
         "$1.09 ",
         "1.09"
        ]
       ],
       "shape": {
        "columns": 6,
        "rows": 4
       }
      },
      "text/html": [
       "<div>\n",
       "<style scoped>\n",
       "    .dataframe tbody tr th:only-of-type {\n",
       "        vertical-align: middle;\n",
       "    }\n",
       "\n",
       "    .dataframe tbody tr th {\n",
       "        vertical-align: top;\n",
       "    }\n",
       "\n",
       "    .dataframe thead th {\n",
       "        text-align: right;\n",
       "    }\n",
       "</style>\n",
       "<table border=\"1\" class=\"dataframe\">\n",
       "  <thead>\n",
       "    <tr style=\"text-align: right;\">\n",
       "      <th></th>\n",
       "      <th>order_id</th>\n",
       "      <th>quantity</th>\n",
       "      <th>item_name</th>\n",
       "      <th>choice_description</th>\n",
       "      <th>item_price</th>\n",
       "      <th>new_price</th>\n",
       "    </tr>\n",
       "  </thead>\n",
       "  <tbody>\n",
       "    <tr>\n",
       "      <th>0</th>\n",
       "      <td>471</td>\n",
       "      <td>1</td>\n",
       "      <td>Bottled Water</td>\n",
       "      <td>NaN</td>\n",
       "      <td>$1.09</td>\n",
       "      <td>1.09</td>\n",
       "    </tr>\n",
       "    <tr>\n",
       "      <th>1</th>\n",
       "      <td>338</td>\n",
       "      <td>1</td>\n",
       "      <td>Canned Soda</td>\n",
       "      <td>[Coca Cola]</td>\n",
       "      <td>$1.09</td>\n",
       "      <td>1.09</td>\n",
       "    </tr>\n",
       "    <tr>\n",
       "      <th>2</th>\n",
       "      <td>1575</td>\n",
       "      <td>1</td>\n",
       "      <td>Canned Soda</td>\n",
       "      <td>[Dr. Pepper]</td>\n",
       "      <td>$1.09</td>\n",
       "      <td>1.09</td>\n",
       "    </tr>\n",
       "    <tr>\n",
       "      <th>3</th>\n",
       "      <td>47</td>\n",
       "      <td>1</td>\n",
       "      <td>Canned Soda</td>\n",
       "      <td>[Dr. Pepper]</td>\n",
       "      <td>$1.09</td>\n",
       "      <td>1.09</td>\n",
       "    </tr>\n",
       "  </tbody>\n",
       "</table>\n",
       "</div>"
      ],
      "text/plain": [
       "   order_id  quantity      item_name choice_description item_price  new_price\n",
       "0       471         1  Bottled Water                NaN     $1.09        1.09\n",
       "1       338         1    Canned Soda        [Coca Cola]     $1.09        1.09\n",
       "2      1575         1    Canned Soda       [Dr. Pepper]     $1.09        1.09\n",
       "3        47         1    Canned Soda       [Dr. Pepper]     $1.09        1.09"
      ]
     },
     "execution_count": 384,
     "metadata": {},
     "output_type": "execute_result"
    }
   ],
   "source": [
    "df.sort_values(by='new_price').reset_index(drop=True).head(4) # 내가 쓴 답"
   ]
  },
  {
   "cell_type": "code",
   "execution_count": 385,
   "id": "2fa0ef92",
   "metadata": {},
   "outputs": [
    {
     "data": {
      "application/vnd.microsoft.datawrangler.viewer.v0+json": {
       "columns": [
        {
         "name": "index",
         "rawType": "int64",
         "type": "integer"
        },
        {
         "name": "order_id",
         "rawType": "int64",
         "type": "integer"
        },
        {
         "name": "quantity",
         "rawType": "int64",
         "type": "integer"
        },
        {
         "name": "item_name",
         "rawType": "object",
         "type": "string"
        },
        {
         "name": "choice_description",
         "rawType": "object",
         "type": "unknown"
        },
        {
         "name": "item_price",
         "rawType": "object",
         "type": "string"
        },
        {
         "name": "new_price",
         "rawType": "float64",
         "type": "float"
        }
       ],
       "ref": "cc96aed3-c401-4921-9dd1-111b12af24ab",
       "rows": [
        [
         "0",
         "471",
         "1",
         "Bottled Water",
         null,
         "$1.09 ",
         "1.09"
        ],
        [
         "1",
         "338",
         "1",
         "Canned Soda",
         "[Coca Cola]",
         "$1.09 ",
         "1.09"
        ],
        [
         "2",
         "1575",
         "1",
         "Canned Soda",
         "[Dr. Pepper]",
         "$1.09 ",
         "1.09"
        ],
        [
         "3",
         "47",
         "1",
         "Canned Soda",
         "[Dr. Pepper]",
         "$1.09 ",
         "1.09"
        ]
       ],
       "shape": {
        "columns": 6,
        "rows": 4
       }
      },
      "text/html": [
       "<div>\n",
       "<style scoped>\n",
       "    .dataframe tbody tr th:only-of-type {\n",
       "        vertical-align: middle;\n",
       "    }\n",
       "\n",
       "    .dataframe tbody tr th {\n",
       "        vertical-align: top;\n",
       "    }\n",
       "\n",
       "    .dataframe thead th {\n",
       "        text-align: right;\n",
       "    }\n",
       "</style>\n",
       "<table border=\"1\" class=\"dataframe\">\n",
       "  <thead>\n",
       "    <tr style=\"text-align: right;\">\n",
       "      <th></th>\n",
       "      <th>order_id</th>\n",
       "      <th>quantity</th>\n",
       "      <th>item_name</th>\n",
       "      <th>choice_description</th>\n",
       "      <th>item_price</th>\n",
       "      <th>new_price</th>\n",
       "    </tr>\n",
       "  </thead>\n",
       "  <tbody>\n",
       "    <tr>\n",
       "      <th>0</th>\n",
       "      <td>471</td>\n",
       "      <td>1</td>\n",
       "      <td>Bottled Water</td>\n",
       "      <td>NaN</td>\n",
       "      <td>$1.09</td>\n",
       "      <td>1.09</td>\n",
       "    </tr>\n",
       "    <tr>\n",
       "      <th>1</th>\n",
       "      <td>338</td>\n",
       "      <td>1</td>\n",
       "      <td>Canned Soda</td>\n",
       "      <td>[Coca Cola]</td>\n",
       "      <td>$1.09</td>\n",
       "      <td>1.09</td>\n",
       "    </tr>\n",
       "    <tr>\n",
       "      <th>2</th>\n",
       "      <td>1575</td>\n",
       "      <td>1</td>\n",
       "      <td>Canned Soda</td>\n",
       "      <td>[Dr. Pepper]</td>\n",
       "      <td>$1.09</td>\n",
       "      <td>1.09</td>\n",
       "    </tr>\n",
       "    <tr>\n",
       "      <th>3</th>\n",
       "      <td>47</td>\n",
       "      <td>1</td>\n",
       "      <td>Canned Soda</td>\n",
       "      <td>[Dr. Pepper]</td>\n",
       "      <td>$1.09</td>\n",
       "      <td>1.09</td>\n",
       "    </tr>\n",
       "  </tbody>\n",
       "</table>\n",
       "</div>"
      ],
      "text/plain": [
       "   order_id  quantity      item_name choice_description item_price  new_price\n",
       "0       471         1  Bottled Water                NaN     $1.09        1.09\n",
       "1       338         1    Canned Soda        [Coca Cola]     $1.09        1.09\n",
       "2      1575         1    Canned Soda       [Dr. Pepper]     $1.09        1.09\n",
       "3        47         1    Canned Soda       [Dr. Pepper]     $1.09        1.09"
      ]
     },
     "execution_count": 385,
     "metadata": {},
     "output_type": "execute_result"
    }
   ],
   "source": [
    "Ans = df.sort_values('new_price').reset_index(drop=True)\n",
    "Ans.head(4) # 데이터마님 답"
   ]
  },
  {
   "cell_type": "markdown",
   "id": "a98b9b19",
   "metadata": {},
   "source": [
    "## Question 29\n",
    "df의 item_name 컬럼 값중 Chips 포함하는 경우의 데이터를 출력하라"
   ]
  },
  {
   "cell_type": "code",
   "execution_count": 386,
   "id": "7dca6b2a",
   "metadata": {},
   "outputs": [
    {
     "data": {
      "application/vnd.microsoft.datawrangler.viewer.v0+json": {
       "columns": [
        {
         "name": "index",
         "rawType": "int64",
         "type": "integer"
        },
        {
         "name": "order_id",
         "rawType": "int64",
         "type": "integer"
        },
        {
         "name": "quantity",
         "rawType": "int64",
         "type": "integer"
        },
        {
         "name": "item_name",
         "rawType": "object",
         "type": "string"
        },
        {
         "name": "choice_description",
         "rawType": "object",
         "type": "unknown"
        },
        {
         "name": "item_price",
         "rawType": "object",
         "type": "string"
        },
        {
         "name": "new_price",
         "rawType": "float64",
         "type": "float"
        }
       ],
       "ref": "74efa27a-5794-483a-814a-b47b97a06c67",
       "rows": [
        [
         "0",
         "1",
         "1",
         "Chips and Fresh Tomato Salsa",
         null,
         "$2.39 ",
         "2.39"
        ],
        [
         "3",
         "1",
         "1",
         "Chips and Tomatillo-Green Chili Salsa",
         null,
         "$2.39 ",
         "2.39"
        ],
        [
         "6",
         "3",
         "1",
         "Side of Chips",
         null,
         "$1.69 ",
         "1.69"
        ],
        [
         "10",
         "5",
         "1",
         "Chips and Guacamole",
         null,
         "$4.45 ",
         "4.45"
        ],
        [
         "14",
         "7",
         "1",
         "Chips and Guacamole",
         null,
         "$4.45 ",
         "4.45"
        ]
       ],
       "shape": {
        "columns": 6,
        "rows": 5
       }
      },
      "text/html": [
       "<div>\n",
       "<style scoped>\n",
       "    .dataframe tbody tr th:only-of-type {\n",
       "        vertical-align: middle;\n",
       "    }\n",
       "\n",
       "    .dataframe tbody tr th {\n",
       "        vertical-align: top;\n",
       "    }\n",
       "\n",
       "    .dataframe thead th {\n",
       "        text-align: right;\n",
       "    }\n",
       "</style>\n",
       "<table border=\"1\" class=\"dataframe\">\n",
       "  <thead>\n",
       "    <tr style=\"text-align: right;\">\n",
       "      <th></th>\n",
       "      <th>order_id</th>\n",
       "      <th>quantity</th>\n",
       "      <th>item_name</th>\n",
       "      <th>choice_description</th>\n",
       "      <th>item_price</th>\n",
       "      <th>new_price</th>\n",
       "    </tr>\n",
       "  </thead>\n",
       "  <tbody>\n",
       "    <tr>\n",
       "      <th>0</th>\n",
       "      <td>1</td>\n",
       "      <td>1</td>\n",
       "      <td>Chips and Fresh Tomato Salsa</td>\n",
       "      <td>NaN</td>\n",
       "      <td>$2.39</td>\n",
       "      <td>2.39</td>\n",
       "    </tr>\n",
       "    <tr>\n",
       "      <th>3</th>\n",
       "      <td>1</td>\n",
       "      <td>1</td>\n",
       "      <td>Chips and Tomatillo-Green Chili Salsa</td>\n",
       "      <td>NaN</td>\n",
       "      <td>$2.39</td>\n",
       "      <td>2.39</td>\n",
       "    </tr>\n",
       "    <tr>\n",
       "      <th>6</th>\n",
       "      <td>3</td>\n",
       "      <td>1</td>\n",
       "      <td>Side of Chips</td>\n",
       "      <td>NaN</td>\n",
       "      <td>$1.69</td>\n",
       "      <td>1.69</td>\n",
       "    </tr>\n",
       "    <tr>\n",
       "      <th>10</th>\n",
       "      <td>5</td>\n",
       "      <td>1</td>\n",
       "      <td>Chips and Guacamole</td>\n",
       "      <td>NaN</td>\n",
       "      <td>$4.45</td>\n",
       "      <td>4.45</td>\n",
       "    </tr>\n",
       "    <tr>\n",
       "      <th>14</th>\n",
       "      <td>7</td>\n",
       "      <td>1</td>\n",
       "      <td>Chips and Guacamole</td>\n",
       "      <td>NaN</td>\n",
       "      <td>$4.45</td>\n",
       "      <td>4.45</td>\n",
       "    </tr>\n",
       "  </tbody>\n",
       "</table>\n",
       "</div>"
      ],
      "text/plain": [
       "    order_id  quantity                              item_name  \\\n",
       "0          1         1           Chips and Fresh Tomato Salsa   \n",
       "3          1         1  Chips and Tomatillo-Green Chili Salsa   \n",
       "6          3         1                          Side of Chips   \n",
       "10         5         1                    Chips and Guacamole   \n",
       "14         7         1                    Chips and Guacamole   \n",
       "\n",
       "   choice_description item_price  new_price  \n",
       "0                 NaN     $2.39        2.39  \n",
       "3                 NaN     $2.39        2.39  \n",
       "6                 NaN     $1.69        1.69  \n",
       "10                NaN     $4.45        4.45  \n",
       "14                NaN     $4.45        4.45  "
      ]
     },
     "execution_count": 386,
     "metadata": {},
     "output_type": "execute_result"
    }
   ],
   "source": [
    "df.loc[df['item_name'].str.contains('Chips')].head(5) # 내가 쓴 답"
   ]
  },
  {
   "cell_type": "code",
   "execution_count": 387,
   "id": "7e250656",
   "metadata": {},
   "outputs": [
    {
     "data": {
      "application/vnd.microsoft.datawrangler.viewer.v0+json": {
       "columns": [
        {
         "name": "index",
         "rawType": "int64",
         "type": "integer"
        },
        {
         "name": "order_id",
         "rawType": "int64",
         "type": "integer"
        },
        {
         "name": "quantity",
         "rawType": "int64",
         "type": "integer"
        },
        {
         "name": "item_name",
         "rawType": "object",
         "type": "string"
        },
        {
         "name": "choice_description",
         "rawType": "object",
         "type": "unknown"
        },
        {
         "name": "item_price",
         "rawType": "object",
         "type": "string"
        },
        {
         "name": "new_price",
         "rawType": "float64",
         "type": "float"
        }
       ],
       "ref": "35c66404-d265-4049-8168-23f944f83d5a",
       "rows": [
        [
         "0",
         "1",
         "1",
         "Chips and Fresh Tomato Salsa",
         null,
         "$2.39 ",
         "2.39"
        ],
        [
         "3",
         "1",
         "1",
         "Chips and Tomatillo-Green Chili Salsa",
         null,
         "$2.39 ",
         "2.39"
        ],
        [
         "6",
         "3",
         "1",
         "Side of Chips",
         null,
         "$1.69 ",
         "1.69"
        ],
        [
         "10",
         "5",
         "1",
         "Chips and Guacamole",
         null,
         "$4.45 ",
         "4.45"
        ],
        [
         "14",
         "7",
         "1",
         "Chips and Guacamole",
         null,
         "$4.45 ",
         "4.45"
        ]
       ],
       "shape": {
        "columns": 6,
        "rows": 5
       }
      },
      "text/html": [
       "<div>\n",
       "<style scoped>\n",
       "    .dataframe tbody tr th:only-of-type {\n",
       "        vertical-align: middle;\n",
       "    }\n",
       "\n",
       "    .dataframe tbody tr th {\n",
       "        vertical-align: top;\n",
       "    }\n",
       "\n",
       "    .dataframe thead th {\n",
       "        text-align: right;\n",
       "    }\n",
       "</style>\n",
       "<table border=\"1\" class=\"dataframe\">\n",
       "  <thead>\n",
       "    <tr style=\"text-align: right;\">\n",
       "      <th></th>\n",
       "      <th>order_id</th>\n",
       "      <th>quantity</th>\n",
       "      <th>item_name</th>\n",
       "      <th>choice_description</th>\n",
       "      <th>item_price</th>\n",
       "      <th>new_price</th>\n",
       "    </tr>\n",
       "  </thead>\n",
       "  <tbody>\n",
       "    <tr>\n",
       "      <th>0</th>\n",
       "      <td>1</td>\n",
       "      <td>1</td>\n",
       "      <td>Chips and Fresh Tomato Salsa</td>\n",
       "      <td>NaN</td>\n",
       "      <td>$2.39</td>\n",
       "      <td>2.39</td>\n",
       "    </tr>\n",
       "    <tr>\n",
       "      <th>3</th>\n",
       "      <td>1</td>\n",
       "      <td>1</td>\n",
       "      <td>Chips and Tomatillo-Green Chili Salsa</td>\n",
       "      <td>NaN</td>\n",
       "      <td>$2.39</td>\n",
       "      <td>2.39</td>\n",
       "    </tr>\n",
       "    <tr>\n",
       "      <th>6</th>\n",
       "      <td>3</td>\n",
       "      <td>1</td>\n",
       "      <td>Side of Chips</td>\n",
       "      <td>NaN</td>\n",
       "      <td>$1.69</td>\n",
       "      <td>1.69</td>\n",
       "    </tr>\n",
       "    <tr>\n",
       "      <th>10</th>\n",
       "      <td>5</td>\n",
       "      <td>1</td>\n",
       "      <td>Chips and Guacamole</td>\n",
       "      <td>NaN</td>\n",
       "      <td>$4.45</td>\n",
       "      <td>4.45</td>\n",
       "    </tr>\n",
       "    <tr>\n",
       "      <th>14</th>\n",
       "      <td>7</td>\n",
       "      <td>1</td>\n",
       "      <td>Chips and Guacamole</td>\n",
       "      <td>NaN</td>\n",
       "      <td>$4.45</td>\n",
       "      <td>4.45</td>\n",
       "    </tr>\n",
       "  </tbody>\n",
       "</table>\n",
       "</div>"
      ],
      "text/plain": [
       "    order_id  quantity                              item_name  \\\n",
       "0          1         1           Chips and Fresh Tomato Salsa   \n",
       "3          1         1  Chips and Tomatillo-Green Chili Salsa   \n",
       "6          3         1                          Side of Chips   \n",
       "10         5         1                    Chips and Guacamole   \n",
       "14         7         1                    Chips and Guacamole   \n",
       "\n",
       "   choice_description item_price  new_price  \n",
       "0                 NaN     $2.39        2.39  \n",
       "3                 NaN     $2.39        2.39  \n",
       "6                 NaN     $1.69        1.69  \n",
       "10                NaN     $4.45        4.45  \n",
       "14                NaN     $4.45        4.45  "
      ]
     },
     "execution_count": 387,
     "metadata": {},
     "output_type": "execute_result"
    }
   ],
   "source": [
    "Ans = df.loc[df.item_name.str.contains('Chips')]\n",
    "Ans.head(5) # 데이터마님 답"
   ]
  },
  {
   "cell_type": "markdown",
   "id": "14892e48",
   "metadata": {},
   "source": [
    "## Question 30\n",
    "df의 짝수번째 컬럼만을 포함하는 데이터프레임을 출력하라"
   ]
  },
  {
   "cell_type": "code",
   "execution_count": 388,
   "id": "9d4470c2",
   "metadata": {},
   "outputs": [
    {
     "data": {
      "application/vnd.microsoft.datawrangler.viewer.v0+json": {
       "columns": [
        {
         "name": "index",
         "rawType": "int64",
         "type": "integer"
        },
        {
         "name": "order_id",
         "rawType": "int64",
         "type": "integer"
        },
        {
         "name": "item_name",
         "rawType": "object",
         "type": "string"
        },
        {
         "name": "item_price",
         "rawType": "object",
         "type": "string"
        }
       ],
       "ref": "eab4a73f-e449-4bf0-a82c-02304093fbae",
       "rows": [
        [
         "0",
         "1",
         "Chips and Fresh Tomato Salsa",
         "$2.39 "
        ],
        [
         "1",
         "1",
         "Izze",
         "$3.39 "
        ],
        [
         "2",
         "1",
         "Nantucket Nectar",
         "$3.39 "
        ],
        [
         "3",
         "1",
         "Chips and Tomatillo-Green Chili Salsa",
         "$2.39 "
        ],
        [
         "4",
         "2",
         "Chicken Bowl",
         "$16.98 "
        ]
       ],
       "shape": {
        "columns": 3,
        "rows": 5
       }
      },
      "text/html": [
       "<div>\n",
       "<style scoped>\n",
       "    .dataframe tbody tr th:only-of-type {\n",
       "        vertical-align: middle;\n",
       "    }\n",
       "\n",
       "    .dataframe tbody tr th {\n",
       "        vertical-align: top;\n",
       "    }\n",
       "\n",
       "    .dataframe thead th {\n",
       "        text-align: right;\n",
       "    }\n",
       "</style>\n",
       "<table border=\"1\" class=\"dataframe\">\n",
       "  <thead>\n",
       "    <tr style=\"text-align: right;\">\n",
       "      <th></th>\n",
       "      <th>order_id</th>\n",
       "      <th>item_name</th>\n",
       "      <th>item_price</th>\n",
       "    </tr>\n",
       "  </thead>\n",
       "  <tbody>\n",
       "    <tr>\n",
       "      <th>0</th>\n",
       "      <td>1</td>\n",
       "      <td>Chips and Fresh Tomato Salsa</td>\n",
       "      <td>$2.39</td>\n",
       "    </tr>\n",
       "    <tr>\n",
       "      <th>1</th>\n",
       "      <td>1</td>\n",
       "      <td>Izze</td>\n",
       "      <td>$3.39</td>\n",
       "    </tr>\n",
       "    <tr>\n",
       "      <th>2</th>\n",
       "      <td>1</td>\n",
       "      <td>Nantucket Nectar</td>\n",
       "      <td>$3.39</td>\n",
       "    </tr>\n",
       "    <tr>\n",
       "      <th>3</th>\n",
       "      <td>1</td>\n",
       "      <td>Chips and Tomatillo-Green Chili Salsa</td>\n",
       "      <td>$2.39</td>\n",
       "    </tr>\n",
       "    <tr>\n",
       "      <th>4</th>\n",
       "      <td>2</td>\n",
       "      <td>Chicken Bowl</td>\n",
       "      <td>$16.98</td>\n",
       "    </tr>\n",
       "  </tbody>\n",
       "</table>\n",
       "</div>"
      ],
      "text/plain": [
       "   order_id                              item_name item_price\n",
       "0         1           Chips and Fresh Tomato Salsa     $2.39 \n",
       "1         1                                   Izze     $3.39 \n",
       "2         1                       Nantucket Nectar     $3.39 \n",
       "3         1  Chips and Tomatillo-Green Chili Salsa     $2.39 \n",
       "4         2                           Chicken Bowl    $16.98 "
      ]
     },
     "execution_count": 388,
     "metadata": {},
     "output_type": "execute_result"
    }
   ],
   "source": [
    "df.iloc[:,::2].head(5)"
   ]
  },
  {
   "cell_type": "markdown",
   "id": "9b21479c",
   "metadata": {},
   "source": [
    "## Question 31\n",
    "df의 new_price 컬럼 값에 따라 내림차순으로 정리하고 index를 초기화 하여라."
   ]
  },
  {
   "cell_type": "code",
   "execution_count": 389,
   "id": "8f923307",
   "metadata": {},
   "outputs": [
    {
     "data": {
      "application/vnd.microsoft.datawrangler.viewer.v0+json": {
       "columns": [
        {
         "name": "index",
         "rawType": "int64",
         "type": "integer"
        },
        {
         "name": "order_id",
         "rawType": "int64",
         "type": "integer"
        },
        {
         "name": "quantity",
         "rawType": "int64",
         "type": "integer"
        },
        {
         "name": "item_name",
         "rawType": "object",
         "type": "string"
        },
        {
         "name": "choice_description",
         "rawType": "object",
         "type": "unknown"
        },
        {
         "name": "item_price",
         "rawType": "object",
         "type": "string"
        },
        {
         "name": "new_price",
         "rawType": "float64",
         "type": "float"
        }
       ],
       "ref": "86ac1caf-dc1a-49ee-9ab2-07230609c101",
       "rows": [
        [
         "0",
         "1443",
         "15",
         "Chips and Fresh Tomato Salsa",
         null,
         "$44.25 ",
         "44.25"
        ],
        [
         "1",
         "1398",
         "3",
         "Carnitas Bowl",
         "[Roasted Chili Corn Salsa, [Fajita Vegetables, Rice, Black Beans, Cheese, Sour Cream, Guacamole, Lettuce]]",
         "$35.25 ",
         "35.25"
        ],
        [
         "2",
         "511",
         "4",
         "Chicken Burrito",
         "[Fresh Tomato Salsa, [Fajita Vegetables, Rice, Black Beans, Cheese, Lettuce]]",
         "$35.00 ",
         "35.0"
        ],
        [
         "3",
         "1443",
         "4",
         "Chicken Burrito",
         "[Fresh Tomato Salsa, [Rice, Black Beans, Cheese, Sour Cream]]",
         "$35.00 ",
         "35.0"
        ]
       ],
       "shape": {
        "columns": 6,
        "rows": 4
       }
      },
      "text/html": [
       "<div>\n",
       "<style scoped>\n",
       "    .dataframe tbody tr th:only-of-type {\n",
       "        vertical-align: middle;\n",
       "    }\n",
       "\n",
       "    .dataframe tbody tr th {\n",
       "        vertical-align: top;\n",
       "    }\n",
       "\n",
       "    .dataframe thead th {\n",
       "        text-align: right;\n",
       "    }\n",
       "</style>\n",
       "<table border=\"1\" class=\"dataframe\">\n",
       "  <thead>\n",
       "    <tr style=\"text-align: right;\">\n",
       "      <th></th>\n",
       "      <th>order_id</th>\n",
       "      <th>quantity</th>\n",
       "      <th>item_name</th>\n",
       "      <th>choice_description</th>\n",
       "      <th>item_price</th>\n",
       "      <th>new_price</th>\n",
       "    </tr>\n",
       "  </thead>\n",
       "  <tbody>\n",
       "    <tr>\n",
       "      <th>0</th>\n",
       "      <td>1443</td>\n",
       "      <td>15</td>\n",
       "      <td>Chips and Fresh Tomato Salsa</td>\n",
       "      <td>NaN</td>\n",
       "      <td>$44.25</td>\n",
       "      <td>44.25</td>\n",
       "    </tr>\n",
       "    <tr>\n",
       "      <th>1</th>\n",
       "      <td>1398</td>\n",
       "      <td>3</td>\n",
       "      <td>Carnitas Bowl</td>\n",
       "      <td>[Roasted Chili Corn Salsa, [Fajita Vegetables,...</td>\n",
       "      <td>$35.25</td>\n",
       "      <td>35.25</td>\n",
       "    </tr>\n",
       "    <tr>\n",
       "      <th>2</th>\n",
       "      <td>511</td>\n",
       "      <td>4</td>\n",
       "      <td>Chicken Burrito</td>\n",
       "      <td>[Fresh Tomato Salsa, [Fajita Vegetables, Rice,...</td>\n",
       "      <td>$35.00</td>\n",
       "      <td>35.00</td>\n",
       "    </tr>\n",
       "    <tr>\n",
       "      <th>3</th>\n",
       "      <td>1443</td>\n",
       "      <td>4</td>\n",
       "      <td>Chicken Burrito</td>\n",
       "      <td>[Fresh Tomato Salsa, [Rice, Black Beans, Chees...</td>\n",
       "      <td>$35.00</td>\n",
       "      <td>35.00</td>\n",
       "    </tr>\n",
       "  </tbody>\n",
       "</table>\n",
       "</div>"
      ],
      "text/plain": [
       "   order_id  quantity                     item_name  \\\n",
       "0      1443        15  Chips and Fresh Tomato Salsa   \n",
       "1      1398         3                 Carnitas Bowl   \n",
       "2       511         4               Chicken Burrito   \n",
       "3      1443         4               Chicken Burrito   \n",
       "\n",
       "                                  choice_description item_price  new_price  \n",
       "0                                                NaN    $44.25       44.25  \n",
       "1  [Roasted Chili Corn Salsa, [Fajita Vegetables,...    $35.25       35.25  \n",
       "2  [Fresh Tomato Salsa, [Fajita Vegetables, Rice,...    $35.00       35.00  \n",
       "3  [Fresh Tomato Salsa, [Rice, Black Beans, Chees...    $35.00       35.00  "
      ]
     },
     "execution_count": 389,
     "metadata": {},
     "output_type": "execute_result"
    }
   ],
   "source": [
    "df.sort_values(by='new_price', ascending=False).reset_index(drop=True).head(4)"
   ]
  },
  {
   "cell_type": "markdown",
   "id": "9bb4c57d",
   "metadata": {},
   "source": [
    "## Question 32\n",
    "df의 item_name 컬럼 값이 Steak Salad 또는 Bowl 인 데이터를 인덱싱하라."
   ]
  },
  {
   "cell_type": "code",
   "execution_count": 390,
   "id": "817ef45a",
   "metadata": {},
   "outputs": [
    {
     "data": {
      "application/vnd.microsoft.datawrangler.viewer.v0+json": {
       "columns": [
        {
         "name": "index",
         "rawType": "int64",
         "type": "integer"
        },
        {
         "name": "order_id",
         "rawType": "int64",
         "type": "integer"
        },
        {
         "name": "quantity",
         "rawType": "int64",
         "type": "integer"
        },
        {
         "name": "item_name",
         "rawType": "object",
         "type": "string"
        },
        {
         "name": "choice_description",
         "rawType": "object",
         "type": "string"
        },
        {
         "name": "item_price",
         "rawType": "object",
         "type": "string"
        },
        {
         "name": "new_price",
         "rawType": "float64",
         "type": "float"
        }
       ],
       "ref": "e1c7ed2b-2503-4c8e-95e0-216bed0198f9",
       "rows": [
        [
         "445",
         "193",
         "3",
         "Bowl",
         "[Braised Carnitas, Pinto Beans, [Sour Cream, Cheese, Cilantro-Lime Rice]]",
         "$22.20 ",
         "22.2"
        ],
        [
         "664",
         "276",
         "1",
         "Steak Salad",
         "[Tomatillo-Red Chili Salsa (Hot), [Black Beans, Rice, Fajita Veggies, Cheese, Lettuce]]",
         "$8.99 ",
         "8.99"
        ],
        [
         "673",
         "279",
         "1",
         "Bowl",
         "[Adobo-Marinated and Grilled Steak, [Sour Cream, Salsa, Cheese, Cilantro-Lime Rice, Guacamole]]",
         "$7.40 ",
         "7.4"
        ],
        [
         "752",
         "311",
         "1",
         "Steak Salad",
         "[Tomatillo-Red Chili Salsa (Hot), [Black Beans, Rice, Fajita Veggies, Cheese, Lettuce]]",
         "$8.99 ",
         "8.99"
        ],
        [
         "893",
         "369",
         "1",
         "Steak Salad",
         "[Fresh Tomato Salsa (Mild), [Rice, Cheese, Sour Cream, Lettuce]]",
         "$8.99 ",
         "8.99"
        ],
        [
         "3502",
         "1406",
         "1",
         "Steak Salad",
         "[[Lettuce, Fajita Veggies]]",
         "$8.69 ",
         "8.69"
        ]
       ],
       "shape": {
        "columns": 6,
        "rows": 6
       }
      },
      "text/html": [
       "<div>\n",
       "<style scoped>\n",
       "    .dataframe tbody tr th:only-of-type {\n",
       "        vertical-align: middle;\n",
       "    }\n",
       "\n",
       "    .dataframe tbody tr th {\n",
       "        vertical-align: top;\n",
       "    }\n",
       "\n",
       "    .dataframe thead th {\n",
       "        text-align: right;\n",
       "    }\n",
       "</style>\n",
       "<table border=\"1\" class=\"dataframe\">\n",
       "  <thead>\n",
       "    <tr style=\"text-align: right;\">\n",
       "      <th></th>\n",
       "      <th>order_id</th>\n",
       "      <th>quantity</th>\n",
       "      <th>item_name</th>\n",
       "      <th>choice_description</th>\n",
       "      <th>item_price</th>\n",
       "      <th>new_price</th>\n",
       "    </tr>\n",
       "  </thead>\n",
       "  <tbody>\n",
       "    <tr>\n",
       "      <th>445</th>\n",
       "      <td>193</td>\n",
       "      <td>3</td>\n",
       "      <td>Bowl</td>\n",
       "      <td>[Braised Carnitas, Pinto Beans, [Sour Cream, C...</td>\n",
       "      <td>$22.20</td>\n",
       "      <td>22.20</td>\n",
       "    </tr>\n",
       "    <tr>\n",
       "      <th>664</th>\n",
       "      <td>276</td>\n",
       "      <td>1</td>\n",
       "      <td>Steak Salad</td>\n",
       "      <td>[Tomatillo-Red Chili Salsa (Hot), [Black Beans...</td>\n",
       "      <td>$8.99</td>\n",
       "      <td>8.99</td>\n",
       "    </tr>\n",
       "    <tr>\n",
       "      <th>673</th>\n",
       "      <td>279</td>\n",
       "      <td>1</td>\n",
       "      <td>Bowl</td>\n",
       "      <td>[Adobo-Marinated and Grilled Steak, [Sour Crea...</td>\n",
       "      <td>$7.40</td>\n",
       "      <td>7.40</td>\n",
       "    </tr>\n",
       "    <tr>\n",
       "      <th>752</th>\n",
       "      <td>311</td>\n",
       "      <td>1</td>\n",
       "      <td>Steak Salad</td>\n",
       "      <td>[Tomatillo-Red Chili Salsa (Hot), [Black Beans...</td>\n",
       "      <td>$8.99</td>\n",
       "      <td>8.99</td>\n",
       "    </tr>\n",
       "    <tr>\n",
       "      <th>893</th>\n",
       "      <td>369</td>\n",
       "      <td>1</td>\n",
       "      <td>Steak Salad</td>\n",
       "      <td>[Fresh Tomato Salsa (Mild), [Rice, Cheese, Sou...</td>\n",
       "      <td>$8.99</td>\n",
       "      <td>8.99</td>\n",
       "    </tr>\n",
       "    <tr>\n",
       "      <th>3502</th>\n",
       "      <td>1406</td>\n",
       "      <td>1</td>\n",
       "      <td>Steak Salad</td>\n",
       "      <td>[[Lettuce, Fajita Veggies]]</td>\n",
       "      <td>$8.69</td>\n",
       "      <td>8.69</td>\n",
       "    </tr>\n",
       "  </tbody>\n",
       "</table>\n",
       "</div>"
      ],
      "text/plain": [
       "      order_id  quantity    item_name  \\\n",
       "445        193         3         Bowl   \n",
       "664        276         1  Steak Salad   \n",
       "673        279         1         Bowl   \n",
       "752        311         1  Steak Salad   \n",
       "893        369         1  Steak Salad   \n",
       "3502      1406         1  Steak Salad   \n",
       "\n",
       "                                     choice_description item_price  new_price  \n",
       "445   [Braised Carnitas, Pinto Beans, [Sour Cream, C...    $22.20       22.20  \n",
       "664   [Tomatillo-Red Chili Salsa (Hot), [Black Beans...     $8.99        8.99  \n",
       "673   [Adobo-Marinated and Grilled Steak, [Sour Crea...     $7.40        7.40  \n",
       "752   [Tomatillo-Red Chili Salsa (Hot), [Black Beans...     $8.99        8.99  \n",
       "893   [Fresh Tomato Salsa (Mild), [Rice, Cheese, Sou...     $8.99        8.99  \n",
       "3502                        [[Lettuce, Fajita Veggies]]     $8.69        8.69  "
      ]
     },
     "execution_count": 390,
     "metadata": {},
     "output_type": "execute_result"
    }
   ],
   "source": [
    "df.loc[(df['item_name'] == 'Steak Salad') | (df['item_name'] == 'Bowl')] # 내가 쓴 답"
   ]
  },
  {
   "cell_type": "code",
   "execution_count": 391,
   "id": "f028945d",
   "metadata": {},
   "outputs": [
    {
     "data": {
      "application/vnd.microsoft.datawrangler.viewer.v0+json": {
       "columns": [
        {
         "name": "index",
         "rawType": "int64",
         "type": "integer"
        },
        {
         "name": "order_id",
         "rawType": "int64",
         "type": "integer"
        },
        {
         "name": "quantity",
         "rawType": "int64",
         "type": "integer"
        },
        {
         "name": "item_name",
         "rawType": "object",
         "type": "string"
        },
        {
         "name": "choice_description",
         "rawType": "object",
         "type": "string"
        },
        {
         "name": "item_price",
         "rawType": "object",
         "type": "string"
        },
        {
         "name": "new_price",
         "rawType": "float64",
         "type": "float"
        }
       ],
       "ref": "69581aa0-62cf-4dec-a04b-eb96c0df09d8",
       "rows": [
        [
         "445",
         "193",
         "3",
         "Bowl",
         "[Braised Carnitas, Pinto Beans, [Sour Cream, Cheese, Cilantro-Lime Rice]]",
         "$22.20 ",
         "22.2"
        ],
        [
         "664",
         "276",
         "1",
         "Steak Salad",
         "[Tomatillo-Red Chili Salsa (Hot), [Black Beans, Rice, Fajita Veggies, Cheese, Lettuce]]",
         "$8.99 ",
         "8.99"
        ],
        [
         "673",
         "279",
         "1",
         "Bowl",
         "[Adobo-Marinated and Grilled Steak, [Sour Cream, Salsa, Cheese, Cilantro-Lime Rice, Guacamole]]",
         "$7.40 ",
         "7.4"
        ],
        [
         "752",
         "311",
         "1",
         "Steak Salad",
         "[Tomatillo-Red Chili Salsa (Hot), [Black Beans, Rice, Fajita Veggies, Cheese, Lettuce]]",
         "$8.99 ",
         "8.99"
        ],
        [
         "893",
         "369",
         "1",
         "Steak Salad",
         "[Fresh Tomato Salsa (Mild), [Rice, Cheese, Sour Cream, Lettuce]]",
         "$8.99 ",
         "8.99"
        ],
        [
         "3502",
         "1406",
         "1",
         "Steak Salad",
         "[[Lettuce, Fajita Veggies]]",
         "$8.69 ",
         "8.69"
        ]
       ],
       "shape": {
        "columns": 6,
        "rows": 6
       }
      },
      "text/html": [
       "<div>\n",
       "<style scoped>\n",
       "    .dataframe tbody tr th:only-of-type {\n",
       "        vertical-align: middle;\n",
       "    }\n",
       "\n",
       "    .dataframe tbody tr th {\n",
       "        vertical-align: top;\n",
       "    }\n",
       "\n",
       "    .dataframe thead th {\n",
       "        text-align: right;\n",
       "    }\n",
       "</style>\n",
       "<table border=\"1\" class=\"dataframe\">\n",
       "  <thead>\n",
       "    <tr style=\"text-align: right;\">\n",
       "      <th></th>\n",
       "      <th>order_id</th>\n",
       "      <th>quantity</th>\n",
       "      <th>item_name</th>\n",
       "      <th>choice_description</th>\n",
       "      <th>item_price</th>\n",
       "      <th>new_price</th>\n",
       "    </tr>\n",
       "  </thead>\n",
       "  <tbody>\n",
       "    <tr>\n",
       "      <th>445</th>\n",
       "      <td>193</td>\n",
       "      <td>3</td>\n",
       "      <td>Bowl</td>\n",
       "      <td>[Braised Carnitas, Pinto Beans, [Sour Cream, C...</td>\n",
       "      <td>$22.20</td>\n",
       "      <td>22.20</td>\n",
       "    </tr>\n",
       "    <tr>\n",
       "      <th>664</th>\n",
       "      <td>276</td>\n",
       "      <td>1</td>\n",
       "      <td>Steak Salad</td>\n",
       "      <td>[Tomatillo-Red Chili Salsa (Hot), [Black Beans...</td>\n",
       "      <td>$8.99</td>\n",
       "      <td>8.99</td>\n",
       "    </tr>\n",
       "    <tr>\n",
       "      <th>673</th>\n",
       "      <td>279</td>\n",
       "      <td>1</td>\n",
       "      <td>Bowl</td>\n",
       "      <td>[Adobo-Marinated and Grilled Steak, [Sour Crea...</td>\n",
       "      <td>$7.40</td>\n",
       "      <td>7.40</td>\n",
       "    </tr>\n",
       "    <tr>\n",
       "      <th>752</th>\n",
       "      <td>311</td>\n",
       "      <td>1</td>\n",
       "      <td>Steak Salad</td>\n",
       "      <td>[Tomatillo-Red Chili Salsa (Hot), [Black Beans...</td>\n",
       "      <td>$8.99</td>\n",
       "      <td>8.99</td>\n",
       "    </tr>\n",
       "    <tr>\n",
       "      <th>893</th>\n",
       "      <td>369</td>\n",
       "      <td>1</td>\n",
       "      <td>Steak Salad</td>\n",
       "      <td>[Fresh Tomato Salsa (Mild), [Rice, Cheese, Sou...</td>\n",
       "      <td>$8.99</td>\n",
       "      <td>8.99</td>\n",
       "    </tr>\n",
       "    <tr>\n",
       "      <th>3502</th>\n",
       "      <td>1406</td>\n",
       "      <td>1</td>\n",
       "      <td>Steak Salad</td>\n",
       "      <td>[[Lettuce, Fajita Veggies]]</td>\n",
       "      <td>$8.69</td>\n",
       "      <td>8.69</td>\n",
       "    </tr>\n",
       "  </tbody>\n",
       "</table>\n",
       "</div>"
      ],
      "text/plain": [
       "      order_id  quantity    item_name  \\\n",
       "445        193         3         Bowl   \n",
       "664        276         1  Steak Salad   \n",
       "673        279         1         Bowl   \n",
       "752        311         1  Steak Salad   \n",
       "893        369         1  Steak Salad   \n",
       "3502      1406         1  Steak Salad   \n",
       "\n",
       "                                     choice_description item_price  new_price  \n",
       "445   [Braised Carnitas, Pinto Beans, [Sour Cream, C...    $22.20       22.20  \n",
       "664   [Tomatillo-Red Chili Salsa (Hot), [Black Beans...     $8.99        8.99  \n",
       "673   [Adobo-Marinated and Grilled Steak, [Sour Crea...     $7.40        7.40  \n",
       "752   [Tomatillo-Red Chili Salsa (Hot), [Black Beans...     $8.99        8.99  \n",
       "893   [Fresh Tomato Salsa (Mild), [Rice, Cheese, Sou...     $8.99        8.99  \n",
       "3502                        [[Lettuce, Fajita Veggies]]     $8.69        8.69  "
      ]
     },
     "execution_count": 391,
     "metadata": {},
     "output_type": "execute_result"
    }
   ],
   "source": [
    "Ans = df.loc[(df.item_name =='Steak Salad') | (df.item_name =='Bowl')]\n",
    "Ans # 데이터마님 답"
   ]
  },
  {
   "cell_type": "markdown",
   "id": "5c7fc13a",
   "metadata": {},
   "source": [
    "## Question 33\n",
    "df의 item_name 컬럼 값이 Steak Salad 또는 Bowl 인 데이터를 데이터 프레임화 한 후, item_name를 기준으로 중복행이 있으면 제거하되 첫번째 케이스만 남겨라."
   ]
  },
  {
   "cell_type": "code",
   "execution_count": 392,
   "id": "6750d98d",
   "metadata": {},
   "outputs": [
    {
     "data": {
      "application/vnd.microsoft.datawrangler.viewer.v0+json": {
       "columns": [
        {
         "name": "index",
         "rawType": "int64",
         "type": "integer"
        },
        {
         "name": "order_id",
         "rawType": "int64",
         "type": "integer"
        },
        {
         "name": "quantity",
         "rawType": "int64",
         "type": "integer"
        },
        {
         "name": "item_name",
         "rawType": "object",
         "type": "string"
        },
        {
         "name": "choice_description",
         "rawType": "object",
         "type": "string"
        },
        {
         "name": "item_price",
         "rawType": "object",
         "type": "string"
        },
        {
         "name": "new_price",
         "rawType": "float64",
         "type": "float"
        }
       ],
       "ref": "3d8113fa-cdc6-4396-b47d-9055b8e71365",
       "rows": [
        [
         "445",
         "193",
         "3",
         "Bowl",
         "[Braised Carnitas, Pinto Beans, [Sour Cream, Cheese, Cilantro-Lime Rice]]",
         "$22.20 ",
         "22.2"
        ],
        [
         "664",
         "276",
         "1",
         "Steak Salad",
         "[Tomatillo-Red Chili Salsa (Hot), [Black Beans, Rice, Fajita Veggies, Cheese, Lettuce]]",
         "$8.99 ",
         "8.99"
        ]
       ],
       "shape": {
        "columns": 6,
        "rows": 2
       }
      },
      "text/html": [
       "<div>\n",
       "<style scoped>\n",
       "    .dataframe tbody tr th:only-of-type {\n",
       "        vertical-align: middle;\n",
       "    }\n",
       "\n",
       "    .dataframe tbody tr th {\n",
       "        vertical-align: top;\n",
       "    }\n",
       "\n",
       "    .dataframe thead th {\n",
       "        text-align: right;\n",
       "    }\n",
       "</style>\n",
       "<table border=\"1\" class=\"dataframe\">\n",
       "  <thead>\n",
       "    <tr style=\"text-align: right;\">\n",
       "      <th></th>\n",
       "      <th>order_id</th>\n",
       "      <th>quantity</th>\n",
       "      <th>item_name</th>\n",
       "      <th>choice_description</th>\n",
       "      <th>item_price</th>\n",
       "      <th>new_price</th>\n",
       "    </tr>\n",
       "  </thead>\n",
       "  <tbody>\n",
       "    <tr>\n",
       "      <th>445</th>\n",
       "      <td>193</td>\n",
       "      <td>3</td>\n",
       "      <td>Bowl</td>\n",
       "      <td>[Braised Carnitas, Pinto Beans, [Sour Cream, C...</td>\n",
       "      <td>$22.20</td>\n",
       "      <td>22.20</td>\n",
       "    </tr>\n",
       "    <tr>\n",
       "      <th>664</th>\n",
       "      <td>276</td>\n",
       "      <td>1</td>\n",
       "      <td>Steak Salad</td>\n",
       "      <td>[Tomatillo-Red Chili Salsa (Hot), [Black Beans...</td>\n",
       "      <td>$8.99</td>\n",
       "      <td>8.99</td>\n",
       "    </tr>\n",
       "  </tbody>\n",
       "</table>\n",
       "</div>"
      ],
      "text/plain": [
       "     order_id  quantity    item_name  \\\n",
       "445       193         3         Bowl   \n",
       "664       276         1  Steak Salad   \n",
       "\n",
       "                                    choice_description item_price  new_price  \n",
       "445  [Braised Carnitas, Pinto Beans, [Sour Cream, C...    $22.20       22.20  \n",
       "664  [Tomatillo-Red Chili Salsa (Hot), [Black Beans...     $8.99        8.99  "
      ]
     },
     "execution_count": 392,
     "metadata": {},
     "output_type": "execute_result"
    }
   ],
   "source": [
    "new_df = df.loc[(df.item_name == 'Steak Salad') | (df.item_name == 'Bowl')]\n",
    "new_df.drop_duplicates(subset='item_name', keep='first')"
   ]
  },
  {
   "cell_type": "markdown",
   "id": "7bdcf216",
   "metadata": {},
   "source": [
    "## Question 34\n",
    "df의 item_name 컬럼 값이 Steak Salad 또는 Bowl 인 데이터를 데이터 프레임화 한 후, item_name를 기준으로 중복행이 있으면 제거하되 마지막 케이스만 남겨라."
   ]
  },
  {
   "cell_type": "code",
   "execution_count": 393,
   "id": "6d18da4e",
   "metadata": {},
   "outputs": [
    {
     "data": {
      "application/vnd.microsoft.datawrangler.viewer.v0+json": {
       "columns": [
        {
         "name": "index",
         "rawType": "int64",
         "type": "integer"
        },
        {
         "name": "order_id",
         "rawType": "int64",
         "type": "integer"
        },
        {
         "name": "quantity",
         "rawType": "int64",
         "type": "integer"
        },
        {
         "name": "item_name",
         "rawType": "object",
         "type": "string"
        },
        {
         "name": "choice_description",
         "rawType": "object",
         "type": "string"
        },
        {
         "name": "item_price",
         "rawType": "object",
         "type": "string"
        },
        {
         "name": "new_price",
         "rawType": "float64",
         "type": "float"
        }
       ],
       "ref": "08647990-6fdc-4492-881c-2d71b8ced058",
       "rows": [
        [
         "673",
         "279",
         "1",
         "Bowl",
         "[Adobo-Marinated and Grilled Steak, [Sour Cream, Salsa, Cheese, Cilantro-Lime Rice, Guacamole]]",
         "$7.40 ",
         "7.4"
        ],
        [
         "3502",
         "1406",
         "1",
         "Steak Salad",
         "[[Lettuce, Fajita Veggies]]",
         "$8.69 ",
         "8.69"
        ]
       ],
       "shape": {
        "columns": 6,
        "rows": 2
       }
      },
      "text/html": [
       "<div>\n",
       "<style scoped>\n",
       "    .dataframe tbody tr th:only-of-type {\n",
       "        vertical-align: middle;\n",
       "    }\n",
       "\n",
       "    .dataframe tbody tr th {\n",
       "        vertical-align: top;\n",
       "    }\n",
       "\n",
       "    .dataframe thead th {\n",
       "        text-align: right;\n",
       "    }\n",
       "</style>\n",
       "<table border=\"1\" class=\"dataframe\">\n",
       "  <thead>\n",
       "    <tr style=\"text-align: right;\">\n",
       "      <th></th>\n",
       "      <th>order_id</th>\n",
       "      <th>quantity</th>\n",
       "      <th>item_name</th>\n",
       "      <th>choice_description</th>\n",
       "      <th>item_price</th>\n",
       "      <th>new_price</th>\n",
       "    </tr>\n",
       "  </thead>\n",
       "  <tbody>\n",
       "    <tr>\n",
       "      <th>673</th>\n",
       "      <td>279</td>\n",
       "      <td>1</td>\n",
       "      <td>Bowl</td>\n",
       "      <td>[Adobo-Marinated and Grilled Steak, [Sour Crea...</td>\n",
       "      <td>$7.40</td>\n",
       "      <td>7.40</td>\n",
       "    </tr>\n",
       "    <tr>\n",
       "      <th>3502</th>\n",
       "      <td>1406</td>\n",
       "      <td>1</td>\n",
       "      <td>Steak Salad</td>\n",
       "      <td>[[Lettuce, Fajita Veggies]]</td>\n",
       "      <td>$8.69</td>\n",
       "      <td>8.69</td>\n",
       "    </tr>\n",
       "  </tbody>\n",
       "</table>\n",
       "</div>"
      ],
      "text/plain": [
       "      order_id  quantity    item_name  \\\n",
       "673        279         1         Bowl   \n",
       "3502      1406         1  Steak Salad   \n",
       "\n",
       "                                     choice_description item_price  new_price  \n",
       "673   [Adobo-Marinated and Grilled Steak, [Sour Crea...     $7.40        7.40  \n",
       "3502                        [[Lettuce, Fajita Veggies]]     $8.69        8.69  "
      ]
     },
     "execution_count": 393,
     "metadata": {},
     "output_type": "execute_result"
    }
   ],
   "source": [
    "new_df = df.loc[(df.item_name == 'Steak Salad') | (df.item_name == 'Bowl')]\n",
    "new_df.drop_duplicates(subset='item_name', keep='last')"
   ]
  },
  {
   "cell_type": "markdown",
   "id": "fbc9e7a3",
   "metadata": {},
   "source": [
    "## Question 35\n",
    "df의 데이터 중 new_price값이 new_price값의 평균값 이상을 가지는 데이터들을 인덱싱하라."
   ]
  },
  {
   "cell_type": "code",
   "execution_count": 394,
   "id": "1c591a79",
   "metadata": {},
   "outputs": [
    {
     "data": {
      "application/vnd.microsoft.datawrangler.viewer.v0+json": {
       "columns": [
        {
         "name": "index",
         "rawType": "int64",
         "type": "integer"
        },
        {
         "name": "order_id",
         "rawType": "int64",
         "type": "integer"
        },
        {
         "name": "quantity",
         "rawType": "int64",
         "type": "integer"
        },
        {
         "name": "item_name",
         "rawType": "object",
         "type": "string"
        },
        {
         "name": "choice_description",
         "rawType": "object",
         "type": "string"
        },
        {
         "name": "item_price",
         "rawType": "object",
         "type": "string"
        },
        {
         "name": "new_price",
         "rawType": "float64",
         "type": "float"
        }
       ],
       "ref": "35625832-bf33-4aaf-b1f6-cb7d45415250",
       "rows": [
        [
         "4",
         "2",
         "2",
         "Chicken Bowl",
         "[Tomatillo-Red Chili Salsa (Hot), [Black Beans, Rice, Cheese, Sour Cream]]",
         "$16.98 ",
         "16.98"
        ],
        [
         "5",
         "3",
         "1",
         "Chicken Bowl",
         "[Fresh Tomato Salsa (Mild), [Rice, Cheese, Sour Cream, Guacamole, Lettuce]]",
         "$10.98 ",
         "10.98"
        ],
        [
         "7",
         "4",
         "1",
         "Steak Burrito",
         "[Tomatillo Red Chili Salsa, [Fajita Vegetables, Black Beans, Pinto Beans, Cheese, Sour Cream, Guacamole, Lettuce]]",
         "$11.75 ",
         "11.75"
        ],
        [
         "8",
         "4",
         "1",
         "Steak Soft Tacos",
         "[Tomatillo Green Chili Salsa, [Pinto Beans, Cheese, Sour Cream, Lettuce]]",
         "$9.25 ",
         "9.25"
        ],
        [
         "9",
         "5",
         "1",
         "Steak Burrito",
         "[Fresh Tomato Salsa, [Rice, Black Beans, Pinto Beans, Cheese, Sour Cream, Lettuce]]",
         "$9.25 ",
         "9.25"
        ]
       ],
       "shape": {
        "columns": 6,
        "rows": 5
       }
      },
      "text/html": [
       "<div>\n",
       "<style scoped>\n",
       "    .dataframe tbody tr th:only-of-type {\n",
       "        vertical-align: middle;\n",
       "    }\n",
       "\n",
       "    .dataframe tbody tr th {\n",
       "        vertical-align: top;\n",
       "    }\n",
       "\n",
       "    .dataframe thead th {\n",
       "        text-align: right;\n",
       "    }\n",
       "</style>\n",
       "<table border=\"1\" class=\"dataframe\">\n",
       "  <thead>\n",
       "    <tr style=\"text-align: right;\">\n",
       "      <th></th>\n",
       "      <th>order_id</th>\n",
       "      <th>quantity</th>\n",
       "      <th>item_name</th>\n",
       "      <th>choice_description</th>\n",
       "      <th>item_price</th>\n",
       "      <th>new_price</th>\n",
       "    </tr>\n",
       "  </thead>\n",
       "  <tbody>\n",
       "    <tr>\n",
       "      <th>4</th>\n",
       "      <td>2</td>\n",
       "      <td>2</td>\n",
       "      <td>Chicken Bowl</td>\n",
       "      <td>[Tomatillo-Red Chili Salsa (Hot), [Black Beans...</td>\n",
       "      <td>$16.98</td>\n",
       "      <td>16.98</td>\n",
       "    </tr>\n",
       "    <tr>\n",
       "      <th>5</th>\n",
       "      <td>3</td>\n",
       "      <td>1</td>\n",
       "      <td>Chicken Bowl</td>\n",
       "      <td>[Fresh Tomato Salsa (Mild), [Rice, Cheese, Sou...</td>\n",
       "      <td>$10.98</td>\n",
       "      <td>10.98</td>\n",
       "    </tr>\n",
       "    <tr>\n",
       "      <th>7</th>\n",
       "      <td>4</td>\n",
       "      <td>1</td>\n",
       "      <td>Steak Burrito</td>\n",
       "      <td>[Tomatillo Red Chili Salsa, [Fajita Vegetables...</td>\n",
       "      <td>$11.75</td>\n",
       "      <td>11.75</td>\n",
       "    </tr>\n",
       "    <tr>\n",
       "      <th>8</th>\n",
       "      <td>4</td>\n",
       "      <td>1</td>\n",
       "      <td>Steak Soft Tacos</td>\n",
       "      <td>[Tomatillo Green Chili Salsa, [Pinto Beans, Ch...</td>\n",
       "      <td>$9.25</td>\n",
       "      <td>9.25</td>\n",
       "    </tr>\n",
       "    <tr>\n",
       "      <th>9</th>\n",
       "      <td>5</td>\n",
       "      <td>1</td>\n",
       "      <td>Steak Burrito</td>\n",
       "      <td>[Fresh Tomato Salsa, [Rice, Black Beans, Pinto...</td>\n",
       "      <td>$9.25</td>\n",
       "      <td>9.25</td>\n",
       "    </tr>\n",
       "  </tbody>\n",
       "</table>\n",
       "</div>"
      ],
      "text/plain": [
       "   order_id  quantity         item_name  \\\n",
       "4         2         2      Chicken Bowl   \n",
       "5         3         1      Chicken Bowl   \n",
       "7         4         1     Steak Burrito   \n",
       "8         4         1  Steak Soft Tacos   \n",
       "9         5         1     Steak Burrito   \n",
       "\n",
       "                                  choice_description item_price  new_price  \n",
       "4  [Tomatillo-Red Chili Salsa (Hot), [Black Beans...    $16.98       16.98  \n",
       "5  [Fresh Tomato Salsa (Mild), [Rice, Cheese, Sou...    $10.98       10.98  \n",
       "7  [Tomatillo Red Chili Salsa, [Fajita Vegetables...    $11.75       11.75  \n",
       "8  [Tomatillo Green Chili Salsa, [Pinto Beans, Ch...     $9.25        9.25  \n",
       "9  [Fresh Tomato Salsa, [Rice, Black Beans, Pinto...     $9.25        9.25  "
      ]
     },
     "execution_count": 394,
     "metadata": {},
     "output_type": "execute_result"
    }
   ],
   "source": [
    "df.loc[df.new_price >= df.new_price.mean()].head(5)"
   ]
  },
  {
   "cell_type": "markdown",
   "id": "6dfd9c6c",
   "metadata": {},
   "source": [
    "## Question 36\n",
    "df의 데이터 중 item_name의 값이 Izze 데이터를 Fizzy Lizzy로 수정하라."
   ]
  },
  {
   "cell_type": "code",
   "execution_count": 395,
   "id": "32093a65",
   "metadata": {},
   "outputs": [
    {
     "data": {
      "application/vnd.microsoft.datawrangler.viewer.v0+json": {
       "columns": [
        {
         "name": "index",
         "rawType": "int64",
         "type": "integer"
        },
        {
         "name": "order_id",
         "rawType": "int64",
         "type": "integer"
        },
        {
         "name": "quantity",
         "rawType": "int64",
         "type": "integer"
        },
        {
         "name": "item_name",
         "rawType": "object",
         "type": "string"
        },
        {
         "name": "choice_description",
         "rawType": "object",
         "type": "unknown"
        },
        {
         "name": "item_price",
         "rawType": "object",
         "type": "string"
        },
        {
         "name": "new_price",
         "rawType": "float64",
         "type": "float"
        }
       ],
       "ref": "5e671de4-924c-43ef-b299-d17c6143defd",
       "rows": [
        [
         "0",
         "1",
         "1",
         "Chips and Fresh Tomato Salsa",
         null,
         "$2.39 ",
         "2.39"
        ],
        [
         "1",
         "1",
         "1",
         "Fizzy Lizzy",
         "[Clementine]",
         "$3.39 ",
         "3.39"
        ],
        [
         "2",
         "1",
         "1",
         "Nantucket Nectar",
         "[Apple]",
         "$3.39 ",
         "3.39"
        ],
        [
         "3",
         "1",
         "1",
         "Chips and Tomatillo-Green Chili Salsa",
         null,
         "$2.39 ",
         "2.39"
        ],
        [
         "4",
         "2",
         "2",
         "Chicken Bowl",
         "[Tomatillo-Red Chili Salsa (Hot), [Black Beans, Rice, Cheese, Sour Cream]]",
         "$16.98 ",
         "16.98"
        ]
       ],
       "shape": {
        "columns": 6,
        "rows": 5
       }
      },
      "text/html": [
       "<div>\n",
       "<style scoped>\n",
       "    .dataframe tbody tr th:only-of-type {\n",
       "        vertical-align: middle;\n",
       "    }\n",
       "\n",
       "    .dataframe tbody tr th {\n",
       "        vertical-align: top;\n",
       "    }\n",
       "\n",
       "    .dataframe thead th {\n",
       "        text-align: right;\n",
       "    }\n",
       "</style>\n",
       "<table border=\"1\" class=\"dataframe\">\n",
       "  <thead>\n",
       "    <tr style=\"text-align: right;\">\n",
       "      <th></th>\n",
       "      <th>order_id</th>\n",
       "      <th>quantity</th>\n",
       "      <th>item_name</th>\n",
       "      <th>choice_description</th>\n",
       "      <th>item_price</th>\n",
       "      <th>new_price</th>\n",
       "    </tr>\n",
       "  </thead>\n",
       "  <tbody>\n",
       "    <tr>\n",
       "      <th>0</th>\n",
       "      <td>1</td>\n",
       "      <td>1</td>\n",
       "      <td>Chips and Fresh Tomato Salsa</td>\n",
       "      <td>NaN</td>\n",
       "      <td>$2.39</td>\n",
       "      <td>2.39</td>\n",
       "    </tr>\n",
       "    <tr>\n",
       "      <th>1</th>\n",
       "      <td>1</td>\n",
       "      <td>1</td>\n",
       "      <td>Fizzy Lizzy</td>\n",
       "      <td>[Clementine]</td>\n",
       "      <td>$3.39</td>\n",
       "      <td>3.39</td>\n",
       "    </tr>\n",
       "    <tr>\n",
       "      <th>2</th>\n",
       "      <td>1</td>\n",
       "      <td>1</td>\n",
       "      <td>Nantucket Nectar</td>\n",
       "      <td>[Apple]</td>\n",
       "      <td>$3.39</td>\n",
       "      <td>3.39</td>\n",
       "    </tr>\n",
       "    <tr>\n",
       "      <th>3</th>\n",
       "      <td>1</td>\n",
       "      <td>1</td>\n",
       "      <td>Chips and Tomatillo-Green Chili Salsa</td>\n",
       "      <td>NaN</td>\n",
       "      <td>$2.39</td>\n",
       "      <td>2.39</td>\n",
       "    </tr>\n",
       "    <tr>\n",
       "      <th>4</th>\n",
       "      <td>2</td>\n",
       "      <td>2</td>\n",
       "      <td>Chicken Bowl</td>\n",
       "      <td>[Tomatillo-Red Chili Salsa (Hot), [Black Beans...</td>\n",
       "      <td>$16.98</td>\n",
       "      <td>16.98</td>\n",
       "    </tr>\n",
       "  </tbody>\n",
       "</table>\n",
       "</div>"
      ],
      "text/plain": [
       "   order_id  quantity                              item_name  \\\n",
       "0         1         1           Chips and Fresh Tomato Salsa   \n",
       "1         1         1                            Fizzy Lizzy   \n",
       "2         1         1                       Nantucket Nectar   \n",
       "3         1         1  Chips and Tomatillo-Green Chili Salsa   \n",
       "4         2         2                           Chicken Bowl   \n",
       "\n",
       "                                  choice_description item_price  new_price  \n",
       "0                                                NaN     $2.39        2.39  \n",
       "1                                       [Clementine]     $3.39        3.39  \n",
       "2                                            [Apple]     $3.39        3.39  \n",
       "3                                                NaN     $2.39        2.39  \n",
       "4  [Tomatillo-Red Chili Salsa (Hot), [Black Beans...    $16.98       16.98  "
      ]
     },
     "execution_count": 395,
     "metadata": {},
     "output_type": "execute_result"
    }
   ],
   "source": [
    "df.loc[df.item_name == 'Izze', 'item_name'] = 'Fizzy Lizzy'\n",
    "df.head(5)\n",
    "# df = df.replace({'item_name' : 'Izze'}, 'Fizzy Lizzy')"
   ]
  },
  {
   "cell_type": "markdown",
   "id": "3391e5ad",
   "metadata": {},
   "source": [
    "## Question 37\n",
    "df의 데이터 중 choice_description 값이 NaN 인 데이터의 갯수를 구하여라."
   ]
  },
  {
   "cell_type": "code",
   "execution_count": 396,
   "id": "d212a625",
   "metadata": {},
   "outputs": [
    {
     "data": {
      "text/plain": [
       "1246"
      ]
     },
     "execution_count": 396,
     "metadata": {},
     "output_type": "execute_result"
    }
   ],
   "source": [
    "df.choice_description.isna().sum()"
   ]
  },
  {
   "cell_type": "markdown",
   "id": "a01768f3",
   "metadata": {},
   "source": [
    "## Question 38\n",
    "df의 데이터 중 choice_description 값이 NaN 인 데이터를 NoData 값으로 대체하라(loc 이용)"
   ]
  },
  {
   "cell_type": "code",
   "execution_count": 397,
   "id": "5c6d8ed2",
   "metadata": {},
   "outputs": [
    {
     "data": {
      "application/vnd.microsoft.datawrangler.viewer.v0+json": {
       "columns": [
        {
         "name": "index",
         "rawType": "int64",
         "type": "integer"
        },
        {
         "name": "order_id",
         "rawType": "int64",
         "type": "integer"
        },
        {
         "name": "quantity",
         "rawType": "int64",
         "type": "integer"
        },
        {
         "name": "item_name",
         "rawType": "object",
         "type": "string"
        },
        {
         "name": "choice_description",
         "rawType": "object",
         "type": "string"
        },
        {
         "name": "item_price",
         "rawType": "object",
         "type": "string"
        },
        {
         "name": "new_price",
         "rawType": "float64",
         "type": "float"
        }
       ],
       "ref": "24f5a4d2-605b-40a2-b0c0-54c3b58f3576",
       "rows": [
        [
         "0",
         "1",
         "1",
         "Chips and Fresh Tomato Salsa",
         "NoData",
         "$2.39 ",
         "2.39"
        ],
        [
         "1",
         "1",
         "1",
         "Fizzy Lizzy",
         "[Clementine]",
         "$3.39 ",
         "3.39"
        ],
        [
         "2",
         "1",
         "1",
         "Nantucket Nectar",
         "[Apple]",
         "$3.39 ",
         "3.39"
        ],
        [
         "3",
         "1",
         "1",
         "Chips and Tomatillo-Green Chili Salsa",
         "NoData",
         "$2.39 ",
         "2.39"
        ],
        [
         "4",
         "2",
         "2",
         "Chicken Bowl",
         "[Tomatillo-Red Chili Salsa (Hot), [Black Beans, Rice, Cheese, Sour Cream]]",
         "$16.98 ",
         "16.98"
        ]
       ],
       "shape": {
        "columns": 6,
        "rows": 5
       }
      },
      "text/html": [
       "<div>\n",
       "<style scoped>\n",
       "    .dataframe tbody tr th:only-of-type {\n",
       "        vertical-align: middle;\n",
       "    }\n",
       "\n",
       "    .dataframe tbody tr th {\n",
       "        vertical-align: top;\n",
       "    }\n",
       "\n",
       "    .dataframe thead th {\n",
       "        text-align: right;\n",
       "    }\n",
       "</style>\n",
       "<table border=\"1\" class=\"dataframe\">\n",
       "  <thead>\n",
       "    <tr style=\"text-align: right;\">\n",
       "      <th></th>\n",
       "      <th>order_id</th>\n",
       "      <th>quantity</th>\n",
       "      <th>item_name</th>\n",
       "      <th>choice_description</th>\n",
       "      <th>item_price</th>\n",
       "      <th>new_price</th>\n",
       "    </tr>\n",
       "  </thead>\n",
       "  <tbody>\n",
       "    <tr>\n",
       "      <th>0</th>\n",
       "      <td>1</td>\n",
       "      <td>1</td>\n",
       "      <td>Chips and Fresh Tomato Salsa</td>\n",
       "      <td>NoData</td>\n",
       "      <td>$2.39</td>\n",
       "      <td>2.39</td>\n",
       "    </tr>\n",
       "    <tr>\n",
       "      <th>1</th>\n",
       "      <td>1</td>\n",
       "      <td>1</td>\n",
       "      <td>Fizzy Lizzy</td>\n",
       "      <td>[Clementine]</td>\n",
       "      <td>$3.39</td>\n",
       "      <td>3.39</td>\n",
       "    </tr>\n",
       "    <tr>\n",
       "      <th>2</th>\n",
       "      <td>1</td>\n",
       "      <td>1</td>\n",
       "      <td>Nantucket Nectar</td>\n",
       "      <td>[Apple]</td>\n",
       "      <td>$3.39</td>\n",
       "      <td>3.39</td>\n",
       "    </tr>\n",
       "    <tr>\n",
       "      <th>3</th>\n",
       "      <td>1</td>\n",
       "      <td>1</td>\n",
       "      <td>Chips and Tomatillo-Green Chili Salsa</td>\n",
       "      <td>NoData</td>\n",
       "      <td>$2.39</td>\n",
       "      <td>2.39</td>\n",
       "    </tr>\n",
       "    <tr>\n",
       "      <th>4</th>\n",
       "      <td>2</td>\n",
       "      <td>2</td>\n",
       "      <td>Chicken Bowl</td>\n",
       "      <td>[Tomatillo-Red Chili Salsa (Hot), [Black Beans...</td>\n",
       "      <td>$16.98</td>\n",
       "      <td>16.98</td>\n",
       "    </tr>\n",
       "  </tbody>\n",
       "</table>\n",
       "</div>"
      ],
      "text/plain": [
       "   order_id  quantity                              item_name  \\\n",
       "0         1         1           Chips and Fresh Tomato Salsa   \n",
       "1         1         1                            Fizzy Lizzy   \n",
       "2         1         1                       Nantucket Nectar   \n",
       "3         1         1  Chips and Tomatillo-Green Chili Salsa   \n",
       "4         2         2                           Chicken Bowl   \n",
       "\n",
       "                                  choice_description item_price  new_price  \n",
       "0                                             NoData     $2.39        2.39  \n",
       "1                                       [Clementine]     $3.39        3.39  \n",
       "2                                            [Apple]     $3.39        3.39  \n",
       "3                                             NoData     $2.39        2.39  \n",
       "4  [Tomatillo-Red Chili Salsa (Hot), [Black Beans...    $16.98       16.98  "
      ]
     },
     "execution_count": 397,
     "metadata": {},
     "output_type": "execute_result"
    }
   ],
   "source": [
    "df.loc[df.choice_description.isna(), 'choice_description'] = 'NoData'\n",
    "df.head()"
   ]
  },
  {
   "cell_type": "markdown",
   "id": "de10b90f",
   "metadata": {},
   "source": [
    "## Question 39\n",
    "df의 데이터 중 choice_description 값에 Black이 들어가는 경우를 인덱싱하라."
   ]
  },
  {
   "cell_type": "code",
   "execution_count": 398,
   "id": "1d70ccbd",
   "metadata": {},
   "outputs": [
    {
     "data": {
      "application/vnd.microsoft.datawrangler.viewer.v0+json": {
       "columns": [
        {
         "name": "index",
         "rawType": "int64",
         "type": "integer"
        },
        {
         "name": "order_id",
         "rawType": "int64",
         "type": "integer"
        },
        {
         "name": "quantity",
         "rawType": "int64",
         "type": "integer"
        },
        {
         "name": "item_name",
         "rawType": "object",
         "type": "string"
        },
        {
         "name": "choice_description",
         "rawType": "object",
         "type": "string"
        },
        {
         "name": "item_price",
         "rawType": "object",
         "type": "string"
        },
        {
         "name": "new_price",
         "rawType": "float64",
         "type": "float"
        }
       ],
       "ref": "4f2c409e-c159-4ad7-8ade-4fabc9e3f868",
       "rows": [
        [
         "4",
         "2",
         "2",
         "Chicken Bowl",
         "[Tomatillo-Red Chili Salsa (Hot), [Black Beans, Rice, Cheese, Sour Cream]]",
         "$16.98 ",
         "16.98"
        ],
        [
         "7",
         "4",
         "1",
         "Steak Burrito",
         "[Tomatillo Red Chili Salsa, [Fajita Vegetables, Black Beans, Pinto Beans, Cheese, Sour Cream, Guacamole, Lettuce]]",
         "$11.75 ",
         "11.75"
        ],
        [
         "9",
         "5",
         "1",
         "Steak Burrito",
         "[Fresh Tomato Salsa, [Rice, Black Beans, Pinto Beans, Cheese, Sour Cream, Lettuce]]",
         "$9.25 ",
         "9.25"
        ],
        [
         "11",
         "6",
         "1",
         "Chicken Crispy Tacos",
         "[Roasted Chili Corn Salsa, [Fajita Vegetables, Rice, Black Beans, Cheese, Sour Cream]]",
         "$8.75 ",
         "8.75"
        ],
        [
         "12",
         "6",
         "1",
         "Chicken Soft Tacos",
         "[Roasted Chili Corn Salsa, [Rice, Black Beans, Cheese, Sour Cream]]",
         "$8.75 ",
         "8.75"
        ]
       ],
       "shape": {
        "columns": 6,
        "rows": 5
       }
      },
      "text/html": [
       "<div>\n",
       "<style scoped>\n",
       "    .dataframe tbody tr th:only-of-type {\n",
       "        vertical-align: middle;\n",
       "    }\n",
       "\n",
       "    .dataframe tbody tr th {\n",
       "        vertical-align: top;\n",
       "    }\n",
       "\n",
       "    .dataframe thead th {\n",
       "        text-align: right;\n",
       "    }\n",
       "</style>\n",
       "<table border=\"1\" class=\"dataframe\">\n",
       "  <thead>\n",
       "    <tr style=\"text-align: right;\">\n",
       "      <th></th>\n",
       "      <th>order_id</th>\n",
       "      <th>quantity</th>\n",
       "      <th>item_name</th>\n",
       "      <th>choice_description</th>\n",
       "      <th>item_price</th>\n",
       "      <th>new_price</th>\n",
       "    </tr>\n",
       "  </thead>\n",
       "  <tbody>\n",
       "    <tr>\n",
       "      <th>4</th>\n",
       "      <td>2</td>\n",
       "      <td>2</td>\n",
       "      <td>Chicken Bowl</td>\n",
       "      <td>[Tomatillo-Red Chili Salsa (Hot), [Black Beans...</td>\n",
       "      <td>$16.98</td>\n",
       "      <td>16.98</td>\n",
       "    </tr>\n",
       "    <tr>\n",
       "      <th>7</th>\n",
       "      <td>4</td>\n",
       "      <td>1</td>\n",
       "      <td>Steak Burrito</td>\n",
       "      <td>[Tomatillo Red Chili Salsa, [Fajita Vegetables...</td>\n",
       "      <td>$11.75</td>\n",
       "      <td>11.75</td>\n",
       "    </tr>\n",
       "    <tr>\n",
       "      <th>9</th>\n",
       "      <td>5</td>\n",
       "      <td>1</td>\n",
       "      <td>Steak Burrito</td>\n",
       "      <td>[Fresh Tomato Salsa, [Rice, Black Beans, Pinto...</td>\n",
       "      <td>$9.25</td>\n",
       "      <td>9.25</td>\n",
       "    </tr>\n",
       "    <tr>\n",
       "      <th>11</th>\n",
       "      <td>6</td>\n",
       "      <td>1</td>\n",
       "      <td>Chicken Crispy Tacos</td>\n",
       "      <td>[Roasted Chili Corn Salsa, [Fajita Vegetables,...</td>\n",
       "      <td>$8.75</td>\n",
       "      <td>8.75</td>\n",
       "    </tr>\n",
       "    <tr>\n",
       "      <th>12</th>\n",
       "      <td>6</td>\n",
       "      <td>1</td>\n",
       "      <td>Chicken Soft Tacos</td>\n",
       "      <td>[Roasted Chili Corn Salsa, [Rice, Black Beans,...</td>\n",
       "      <td>$8.75</td>\n",
       "      <td>8.75</td>\n",
       "    </tr>\n",
       "  </tbody>\n",
       "</table>\n",
       "</div>"
      ],
      "text/plain": [
       "    order_id  quantity             item_name  \\\n",
       "4          2         2          Chicken Bowl   \n",
       "7          4         1         Steak Burrito   \n",
       "9          5         1         Steak Burrito   \n",
       "11         6         1  Chicken Crispy Tacos   \n",
       "12         6         1    Chicken Soft Tacos   \n",
       "\n",
       "                                   choice_description item_price  new_price  \n",
       "4   [Tomatillo-Red Chili Salsa (Hot), [Black Beans...    $16.98       16.98  \n",
       "7   [Tomatillo Red Chili Salsa, [Fajita Vegetables...    $11.75       11.75  \n",
       "9   [Fresh Tomato Salsa, [Rice, Black Beans, Pinto...     $9.25        9.25  \n",
       "11  [Roasted Chili Corn Salsa, [Fajita Vegetables,...     $8.75        8.75  \n",
       "12  [Roasted Chili Corn Salsa, [Rice, Black Beans,...     $8.75        8.75  "
      ]
     },
     "execution_count": 398,
     "metadata": {},
     "output_type": "execute_result"
    }
   ],
   "source": [
    "df.loc[df.choice_description.str.contains('Black')].head()"
   ]
  },
  {
   "cell_type": "markdown",
   "id": "7c34b0c1",
   "metadata": {},
   "source": [
    "## Question 40\n",
    "df의 데이터 중 choice_description 값에 Vegetables 들어가지 않는 경우의 갯수를 출력하라."
   ]
  },
  {
   "cell_type": "code",
   "execution_count": 399,
   "id": "d2b6d80f",
   "metadata": {},
   "outputs": [
    {
     "data": {
      "text/plain": [
       "3900"
      ]
     },
     "execution_count": 399,
     "metadata": {},
     "output_type": "execute_result"
    }
   ],
   "source": [
    "len(df.choice_description) - len(df.loc[df.choice_description.str.contains('Vegetables')]) # 내가 쓴 답, ~ 를 몰라서 이렇게 구구절절 썼네요..."
   ]
  },
  {
   "cell_type": "code",
   "execution_count": 400,
   "id": "f1216f94",
   "metadata": {},
   "outputs": [
    {
     "data": {
      "text/plain": [
       "3900"
      ]
     },
     "execution_count": 400,
     "metadata": {},
     "output_type": "execute_result"
    }
   ],
   "source": [
    "Ans = len(df.loc[~df.choice_description.str.contains('Vegetables')])\n",
    "Ans # 데이터마님 답"
   ]
  },
  {
   "cell_type": "markdown",
   "id": "1f89378b",
   "metadata": {},
   "source": [
    "## Question 41\n",
    "df의 데이터 중 item_name 값이 N으로 시작하는 데이터를 모두 추출하라."
   ]
  },
  {
   "cell_type": "code",
   "execution_count": 401,
   "id": "29fc43f5",
   "metadata": {},
   "outputs": [
    {
     "data": {
      "application/vnd.microsoft.datawrangler.viewer.v0+json": {
       "columns": [
        {
         "name": "index",
         "rawType": "int64",
         "type": "integer"
        },
        {
         "name": "order_id",
         "rawType": "int64",
         "type": "integer"
        },
        {
         "name": "quantity",
         "rawType": "int64",
         "type": "integer"
        },
        {
         "name": "item_name",
         "rawType": "object",
         "type": "string"
        },
        {
         "name": "choice_description",
         "rawType": "object",
         "type": "string"
        },
        {
         "name": "item_price",
         "rawType": "object",
         "type": "string"
        },
        {
         "name": "new_price",
         "rawType": "float64",
         "type": "float"
        }
       ],
       "ref": "140fe5df-0116-4791-b3c2-4ec714a7c27c",
       "rows": [
        [
         "2",
         "1",
         "1",
         "Nantucket Nectar",
         "[Apple]",
         "$3.39 ",
         "3.39"
        ],
        [
         "22",
         "11",
         "1",
         "Nantucket Nectar",
         "[Pomegranate Cherry]",
         "$3.39 ",
         "3.39"
        ],
        [
         "105",
         "46",
         "1",
         "Nantucket Nectar",
         "[Pineapple Orange Banana]",
         "$3.39 ",
         "3.39"
        ]
       ],
       "shape": {
        "columns": 6,
        "rows": 3
       }
      },
      "text/html": [
       "<div>\n",
       "<style scoped>\n",
       "    .dataframe tbody tr th:only-of-type {\n",
       "        vertical-align: middle;\n",
       "    }\n",
       "\n",
       "    .dataframe tbody tr th {\n",
       "        vertical-align: top;\n",
       "    }\n",
       "\n",
       "    .dataframe thead th {\n",
       "        text-align: right;\n",
       "    }\n",
       "</style>\n",
       "<table border=\"1\" class=\"dataframe\">\n",
       "  <thead>\n",
       "    <tr style=\"text-align: right;\">\n",
       "      <th></th>\n",
       "      <th>order_id</th>\n",
       "      <th>quantity</th>\n",
       "      <th>item_name</th>\n",
       "      <th>choice_description</th>\n",
       "      <th>item_price</th>\n",
       "      <th>new_price</th>\n",
       "    </tr>\n",
       "  </thead>\n",
       "  <tbody>\n",
       "    <tr>\n",
       "      <th>2</th>\n",
       "      <td>1</td>\n",
       "      <td>1</td>\n",
       "      <td>Nantucket Nectar</td>\n",
       "      <td>[Apple]</td>\n",
       "      <td>$3.39</td>\n",
       "      <td>3.39</td>\n",
       "    </tr>\n",
       "    <tr>\n",
       "      <th>22</th>\n",
       "      <td>11</td>\n",
       "      <td>1</td>\n",
       "      <td>Nantucket Nectar</td>\n",
       "      <td>[Pomegranate Cherry]</td>\n",
       "      <td>$3.39</td>\n",
       "      <td>3.39</td>\n",
       "    </tr>\n",
       "    <tr>\n",
       "      <th>105</th>\n",
       "      <td>46</td>\n",
       "      <td>1</td>\n",
       "      <td>Nantucket Nectar</td>\n",
       "      <td>[Pineapple Orange Banana]</td>\n",
       "      <td>$3.39</td>\n",
       "      <td>3.39</td>\n",
       "    </tr>\n",
       "  </tbody>\n",
       "</table>\n",
       "</div>"
      ],
      "text/plain": [
       "     order_id  quantity         item_name         choice_description  \\\n",
       "2           1         1  Nantucket Nectar                    [Apple]   \n",
       "22         11         1  Nantucket Nectar       [Pomegranate Cherry]   \n",
       "105        46         1  Nantucket Nectar  [Pineapple Orange Banana]   \n",
       "\n",
       "    item_price  new_price  \n",
       "2       $3.39        3.39  \n",
       "22      $3.39        3.39  \n",
       "105     $3.39        3.39  "
      ]
     },
     "execution_count": 401,
     "metadata": {},
     "output_type": "execute_result"
    }
   ],
   "source": [
    "df.loc[df.item_name.str.startswith('N')].head(3)"
   ]
  },
  {
   "cell_type": "markdown",
   "id": "0a34082d",
   "metadata": {},
   "source": [
    "## Question 42\n",
    "df의 데이터 중 item_name 값의 단어갯수가 15개 이상인 데이터를 인덱싱하라"
   ]
  },
  {
   "cell_type": "code",
   "execution_count": 402,
   "id": "b7531004",
   "metadata": {},
   "outputs": [
    {
     "data": {
      "application/vnd.microsoft.datawrangler.viewer.v0+json": {
       "columns": [
        {
         "name": "index",
         "rawType": "int64",
         "type": "integer"
        },
        {
         "name": "order_id",
         "rawType": "int64",
         "type": "integer"
        },
        {
         "name": "quantity",
         "rawType": "int64",
         "type": "integer"
        },
        {
         "name": "item_name",
         "rawType": "object",
         "type": "string"
        },
        {
         "name": "choice_description",
         "rawType": "object",
         "type": "string"
        },
        {
         "name": "item_price",
         "rawType": "object",
         "type": "string"
        },
        {
         "name": "new_price",
         "rawType": "float64",
         "type": "float"
        }
       ],
       "ref": "cd55043a-6e5d-4dd1-8fbe-aecb430aa206",
       "rows": [
        [
         "0",
         "1",
         "1",
         "Chips and Fresh Tomato Salsa",
         "NoData",
         "$2.39 ",
         "2.39"
        ],
        [
         "2",
         "1",
         "1",
         "Nantucket Nectar",
         "[Apple]",
         "$3.39 ",
         "3.39"
        ],
        [
         "3",
         "1",
         "1",
         "Chips and Tomatillo-Green Chili Salsa",
         "NoData",
         "$2.39 ",
         "2.39"
        ],
        [
         "8",
         "4",
         "1",
         "Steak Soft Tacos",
         "[Tomatillo Green Chili Salsa, [Pinto Beans, Cheese, Sour Cream, Lettuce]]",
         "$9.25 ",
         "9.25"
        ],
        [
         "10",
         "5",
         "1",
         "Chips and Guacamole",
         "NoData",
         "$4.45 ",
         "4.45"
        ]
       ],
       "shape": {
        "columns": 6,
        "rows": 5
       }
      },
      "text/html": [
       "<div>\n",
       "<style scoped>\n",
       "    .dataframe tbody tr th:only-of-type {\n",
       "        vertical-align: middle;\n",
       "    }\n",
       "\n",
       "    .dataframe tbody tr th {\n",
       "        vertical-align: top;\n",
       "    }\n",
       "\n",
       "    .dataframe thead th {\n",
       "        text-align: right;\n",
       "    }\n",
       "</style>\n",
       "<table border=\"1\" class=\"dataframe\">\n",
       "  <thead>\n",
       "    <tr style=\"text-align: right;\">\n",
       "      <th></th>\n",
       "      <th>order_id</th>\n",
       "      <th>quantity</th>\n",
       "      <th>item_name</th>\n",
       "      <th>choice_description</th>\n",
       "      <th>item_price</th>\n",
       "      <th>new_price</th>\n",
       "    </tr>\n",
       "  </thead>\n",
       "  <tbody>\n",
       "    <tr>\n",
       "      <th>0</th>\n",
       "      <td>1</td>\n",
       "      <td>1</td>\n",
       "      <td>Chips and Fresh Tomato Salsa</td>\n",
       "      <td>NoData</td>\n",
       "      <td>$2.39</td>\n",
       "      <td>2.39</td>\n",
       "    </tr>\n",
       "    <tr>\n",
       "      <th>2</th>\n",
       "      <td>1</td>\n",
       "      <td>1</td>\n",
       "      <td>Nantucket Nectar</td>\n",
       "      <td>[Apple]</td>\n",
       "      <td>$3.39</td>\n",
       "      <td>3.39</td>\n",
       "    </tr>\n",
       "    <tr>\n",
       "      <th>3</th>\n",
       "      <td>1</td>\n",
       "      <td>1</td>\n",
       "      <td>Chips and Tomatillo-Green Chili Salsa</td>\n",
       "      <td>NoData</td>\n",
       "      <td>$2.39</td>\n",
       "      <td>2.39</td>\n",
       "    </tr>\n",
       "    <tr>\n",
       "      <th>8</th>\n",
       "      <td>4</td>\n",
       "      <td>1</td>\n",
       "      <td>Steak Soft Tacos</td>\n",
       "      <td>[Tomatillo Green Chili Salsa, [Pinto Beans, Ch...</td>\n",
       "      <td>$9.25</td>\n",
       "      <td>9.25</td>\n",
       "    </tr>\n",
       "    <tr>\n",
       "      <th>10</th>\n",
       "      <td>5</td>\n",
       "      <td>1</td>\n",
       "      <td>Chips and Guacamole</td>\n",
       "      <td>NoData</td>\n",
       "      <td>$4.45</td>\n",
       "      <td>4.45</td>\n",
       "    </tr>\n",
       "  </tbody>\n",
       "</table>\n",
       "</div>"
      ],
      "text/plain": [
       "    order_id  quantity                              item_name  \\\n",
       "0          1         1           Chips and Fresh Tomato Salsa   \n",
       "2          1         1                       Nantucket Nectar   \n",
       "3          1         1  Chips and Tomatillo-Green Chili Salsa   \n",
       "8          4         1                       Steak Soft Tacos   \n",
       "10         5         1                    Chips and Guacamole   \n",
       "\n",
       "                                   choice_description item_price  new_price  \n",
       "0                                              NoData     $2.39        2.39  \n",
       "2                                             [Apple]     $3.39        3.39  \n",
       "3                                              NoData     $2.39        2.39  \n",
       "8   [Tomatillo Green Chili Salsa, [Pinto Beans, Ch...     $9.25        9.25  \n",
       "10                                             NoData     $4.45        4.45  "
      ]
     },
     "execution_count": 402,
     "metadata": {},
     "output_type": "execute_result"
    }
   ],
   "source": [
    "df.loc[df.item_name.str.len() > 15].head()"
   ]
  },
  {
   "cell_type": "markdown",
   "id": "df525978",
   "metadata": {},
   "source": [
    "## Question 43\n",
    "df의 데이터 중 new_price값이 lst에 해당하는 경우의 데이터 프레임을 구하고 그 갯수를 출력하라. lst =[1.69, 2.39, 3.39, 4.45, 9.25, 10.98, 11.75, 16.98]"
   ]
  },
  {
   "cell_type": "code",
   "execution_count": 403,
   "id": "9580028a",
   "metadata": {},
   "outputs": [
    {
     "data": {
      "application/vnd.microsoft.datawrangler.viewer.v0+json": {
       "columns": [
        {
         "name": "index",
         "rawType": "int64",
         "type": "integer"
        },
        {
         "name": "order_id",
         "rawType": "int64",
         "type": "integer"
        },
        {
         "name": "quantity",
         "rawType": "int64",
         "type": "integer"
        },
        {
         "name": "item_name",
         "rawType": "object",
         "type": "string"
        },
        {
         "name": "choice_description",
         "rawType": "object",
         "type": "string"
        },
        {
         "name": "item_price",
         "rawType": "object",
         "type": "string"
        },
        {
         "name": "new_price",
         "rawType": "float64",
         "type": "float"
        }
       ],
       "ref": "ebc4c87c-8290-4f67-8d06-1e0b72447040",
       "rows": [
        [
         "0",
         "1",
         "1",
         "Chips and Fresh Tomato Salsa",
         "NoData",
         "$2.39 ",
         "2.39"
        ],
        [
         "1",
         "1",
         "1",
         "Fizzy Lizzy",
         "[Clementine]",
         "$3.39 ",
         "3.39"
        ],
        [
         "2",
         "1",
         "1",
         "Nantucket Nectar",
         "[Apple]",
         "$3.39 ",
         "3.39"
        ]
       ],
       "shape": {
        "columns": 6,
        "rows": 3
       }
      },
      "text/html": [
       "<div>\n",
       "<style scoped>\n",
       "    .dataframe tbody tr th:only-of-type {\n",
       "        vertical-align: middle;\n",
       "    }\n",
       "\n",
       "    .dataframe tbody tr th {\n",
       "        vertical-align: top;\n",
       "    }\n",
       "\n",
       "    .dataframe thead th {\n",
       "        text-align: right;\n",
       "    }\n",
       "</style>\n",
       "<table border=\"1\" class=\"dataframe\">\n",
       "  <thead>\n",
       "    <tr style=\"text-align: right;\">\n",
       "      <th></th>\n",
       "      <th>order_id</th>\n",
       "      <th>quantity</th>\n",
       "      <th>item_name</th>\n",
       "      <th>choice_description</th>\n",
       "      <th>item_price</th>\n",
       "      <th>new_price</th>\n",
       "    </tr>\n",
       "  </thead>\n",
       "  <tbody>\n",
       "    <tr>\n",
       "      <th>0</th>\n",
       "      <td>1</td>\n",
       "      <td>1</td>\n",
       "      <td>Chips and Fresh Tomato Salsa</td>\n",
       "      <td>NoData</td>\n",
       "      <td>$2.39</td>\n",
       "      <td>2.39</td>\n",
       "    </tr>\n",
       "    <tr>\n",
       "      <th>1</th>\n",
       "      <td>1</td>\n",
       "      <td>1</td>\n",
       "      <td>Fizzy Lizzy</td>\n",
       "      <td>[Clementine]</td>\n",
       "      <td>$3.39</td>\n",
       "      <td>3.39</td>\n",
       "    </tr>\n",
       "    <tr>\n",
       "      <th>2</th>\n",
       "      <td>1</td>\n",
       "      <td>1</td>\n",
       "      <td>Nantucket Nectar</td>\n",
       "      <td>[Apple]</td>\n",
       "      <td>$3.39</td>\n",
       "      <td>3.39</td>\n",
       "    </tr>\n",
       "  </tbody>\n",
       "</table>\n",
       "</div>"
      ],
      "text/plain": [
       "   order_id  quantity                     item_name choice_description  \\\n",
       "0         1         1  Chips and Fresh Tomato Salsa             NoData   \n",
       "1         1         1                   Fizzy Lizzy       [Clementine]   \n",
       "2         1         1              Nantucket Nectar            [Apple]   \n",
       "\n",
       "  item_price  new_price  \n",
       "0     $2.39        2.39  \n",
       "1     $3.39        3.39  \n",
       "2     $3.39        3.39  "
      ]
     },
     "metadata": {},
     "output_type": "display_data"
    },
    {
     "name": "stdout",
     "output_type": "stream",
     "text": [
      "1393\n"
     ]
    }
   ],
   "source": [
    "lst =[1.69, 2.39, 3.39, 4.45, 9.25, 10.98, 11.75, 16.98]\n",
    "a = 0\n",
    "arr = df['new_price'].values\n",
    "for ele in arr:\n",
    "    if ele in lst :\n",
    "            a += 1\n",
    "new_df = df[df.new_price.apply(lambda x: x in lst)]\n",
    "display(new_df.head(3))\n",
    "print(a) # 내가 쓴 답, 생각 많이해서 작성했는데... isin() 반드시 기억한다..."
   ]
  },
  {
   "cell_type": "code",
   "execution_count": 404,
   "id": "a3b4fb9c",
   "metadata": {},
   "outputs": [
    {
     "data": {
      "application/vnd.microsoft.datawrangler.viewer.v0+json": {
       "columns": [
        {
         "name": "index",
         "rawType": "int64",
         "type": "integer"
        },
        {
         "name": "order_id",
         "rawType": "int64",
         "type": "integer"
        },
        {
         "name": "quantity",
         "rawType": "int64",
         "type": "integer"
        },
        {
         "name": "item_name",
         "rawType": "object",
         "type": "string"
        },
        {
         "name": "choice_description",
         "rawType": "object",
         "type": "string"
        },
        {
         "name": "item_price",
         "rawType": "object",
         "type": "string"
        },
        {
         "name": "new_price",
         "rawType": "float64",
         "type": "float"
        }
       ],
       "ref": "11865569-d432-4729-bcf5-8fed5685da27",
       "rows": [
        [
         "0",
         "1",
         "1",
         "Chips and Fresh Tomato Salsa",
         "NoData",
         "$2.39 ",
         "2.39"
        ],
        [
         "1",
         "1",
         "1",
         "Fizzy Lizzy",
         "[Clementine]",
         "$3.39 ",
         "3.39"
        ],
        [
         "2",
         "1",
         "1",
         "Nantucket Nectar",
         "[Apple]",
         "$3.39 ",
         "3.39"
        ]
       ],
       "shape": {
        "columns": 6,
        "rows": 3
       }
      },
      "text/html": [
       "<div>\n",
       "<style scoped>\n",
       "    .dataframe tbody tr th:only-of-type {\n",
       "        vertical-align: middle;\n",
       "    }\n",
       "\n",
       "    .dataframe tbody tr th {\n",
       "        vertical-align: top;\n",
       "    }\n",
       "\n",
       "    .dataframe thead th {\n",
       "        text-align: right;\n",
       "    }\n",
       "</style>\n",
       "<table border=\"1\" class=\"dataframe\">\n",
       "  <thead>\n",
       "    <tr style=\"text-align: right;\">\n",
       "      <th></th>\n",
       "      <th>order_id</th>\n",
       "      <th>quantity</th>\n",
       "      <th>item_name</th>\n",
       "      <th>choice_description</th>\n",
       "      <th>item_price</th>\n",
       "      <th>new_price</th>\n",
       "    </tr>\n",
       "  </thead>\n",
       "  <tbody>\n",
       "    <tr>\n",
       "      <th>0</th>\n",
       "      <td>1</td>\n",
       "      <td>1</td>\n",
       "      <td>Chips and Fresh Tomato Salsa</td>\n",
       "      <td>NoData</td>\n",
       "      <td>$2.39</td>\n",
       "      <td>2.39</td>\n",
       "    </tr>\n",
       "    <tr>\n",
       "      <th>1</th>\n",
       "      <td>1</td>\n",
       "      <td>1</td>\n",
       "      <td>Fizzy Lizzy</td>\n",
       "      <td>[Clementine]</td>\n",
       "      <td>$3.39</td>\n",
       "      <td>3.39</td>\n",
       "    </tr>\n",
       "    <tr>\n",
       "      <th>2</th>\n",
       "      <td>1</td>\n",
       "      <td>1</td>\n",
       "      <td>Nantucket Nectar</td>\n",
       "      <td>[Apple]</td>\n",
       "      <td>$3.39</td>\n",
       "      <td>3.39</td>\n",
       "    </tr>\n",
       "  </tbody>\n",
       "</table>\n",
       "</div>"
      ],
      "text/plain": [
       "   order_id  quantity                     item_name choice_description  \\\n",
       "0         1         1  Chips and Fresh Tomato Salsa             NoData   \n",
       "1         1         1                   Fizzy Lizzy       [Clementine]   \n",
       "2         1         1              Nantucket Nectar            [Apple]   \n",
       "\n",
       "  item_price  new_price  \n",
       "0     $2.39        2.39  \n",
       "1     $3.39        3.39  \n",
       "2     $3.39        3.39  "
      ]
     },
     "metadata": {},
     "output_type": "display_data"
    },
    {
     "name": "stdout",
     "output_type": "stream",
     "text": [
      "1393\n"
     ]
    }
   ],
   "source": [
    "lst =[1.69, 2.39, 3.39, 4.45, 9.25, 10.98, 11.75, 16.98]\n",
    "\n",
    "Ans = df.loc[df.new_price.isin(lst)]\n",
    "display(Ans.head(3))\n",
    "print(len(Ans)) # 데이터마님 답"
   ]
  },
  {
   "cell_type": "markdown",
   "id": "67adfd39",
   "metadata": {},
   "source": [
    "# 03_Grouping\n",
    "뉴욕 airBnB : https://www.kaggle.com/ptoscano230382/air-bnb-ny-2019<br>\n",
    "DataUrl = ‘https://raw.githubusercontent.com/Datamanim/pandas/main/AB_NYC_2019.csv’"
   ]
  },
  {
   "cell_type": "markdown",
   "id": "7679fb5b",
   "metadata": {},
   "source": [
    "## Question 44\n",
    "데이터를 로드하고 상위 5개 컬럼을 출력하라."
   ]
  },
  {
   "cell_type": "code",
   "execution_count": 405,
   "id": "122eb233",
   "metadata": {},
   "outputs": [
    {
     "data": {
      "application/vnd.microsoft.datawrangler.viewer.v0+json": {
       "columns": [
        {
         "name": "index",
         "rawType": "int64",
         "type": "integer"
        },
        {
         "name": "id",
         "rawType": "int64",
         "type": "integer"
        },
        {
         "name": "name",
         "rawType": "object",
         "type": "string"
        },
        {
         "name": "host_id",
         "rawType": "int64",
         "type": "integer"
        },
        {
         "name": "host_name",
         "rawType": "object",
         "type": "string"
        },
        {
         "name": "neighbourhood_group",
         "rawType": "object",
         "type": "string"
        },
        {
         "name": "neighbourhood",
         "rawType": "object",
         "type": "string"
        },
        {
         "name": "latitude",
         "rawType": "float64",
         "type": "float"
        },
        {
         "name": "longitude",
         "rawType": "float64",
         "type": "float"
        },
        {
         "name": "room_type",
         "rawType": "object",
         "type": "string"
        },
        {
         "name": "price",
         "rawType": "int64",
         "type": "integer"
        },
        {
         "name": "minimum_nights",
         "rawType": "int64",
         "type": "integer"
        },
        {
         "name": "number_of_reviews",
         "rawType": "int64",
         "type": "integer"
        },
        {
         "name": "last_review",
         "rawType": "object",
         "type": "unknown"
        },
        {
         "name": "reviews_per_month",
         "rawType": "float64",
         "type": "float"
        },
        {
         "name": "calculated_host_listings_count",
         "rawType": "int64",
         "type": "integer"
        },
        {
         "name": "availability_365",
         "rawType": "int64",
         "type": "integer"
        }
       ],
       "ref": "1a3cc6c1-aded-438a-b500-ef6c40742939",
       "rows": [
        [
         "0",
         "2539",
         "Clean & quiet apt home by the park",
         "2787",
         "John",
         "Brooklyn",
         "Kensington",
         "40.64749",
         "-73.97237",
         "Private room",
         "149",
         "1",
         "9",
         "2018-10-19",
         "0.21",
         "6",
         "365"
        ],
        [
         "1",
         "2595",
         "Skylit Midtown Castle",
         "2845",
         "Jennifer",
         "Manhattan",
         "Midtown",
         "40.75362",
         "-73.98377",
         "Entire home/apt",
         "225",
         "1",
         "45",
         "2019-05-21",
         "0.38",
         "2",
         "355"
        ],
        [
         "2",
         "3647",
         "THE VILLAGE OF HARLEM....NEW YORK !",
         "4632",
         "Elisabeth",
         "Manhattan",
         "Harlem",
         "40.80902",
         "-73.9419",
         "Private room",
         "150",
         "3",
         "0",
         null,
         null,
         "1",
         "365"
        ],
        [
         "3",
         "3831",
         "Cozy Entire Floor of Brownstone",
         "4869",
         "LisaRoxanne",
         "Brooklyn",
         "Clinton Hill",
         "40.68514",
         "-73.95976",
         "Entire home/apt",
         "89",
         "1",
         "270",
         "2019-07-05",
         "4.64",
         "1",
         "194"
        ],
        [
         "4",
         "5022",
         "Entire Apt: Spacious Studio/Loft by central park",
         "7192",
         "Laura",
         "Manhattan",
         "East Harlem",
         "40.79851",
         "-73.94399",
         "Entire home/apt",
         "80",
         "10",
         "9",
         "2018-11-19",
         "0.1",
         "1",
         "0"
        ]
       ],
       "shape": {
        "columns": 16,
        "rows": 5
       }
      },
      "text/html": [
       "<div>\n",
       "<style scoped>\n",
       "    .dataframe tbody tr th:only-of-type {\n",
       "        vertical-align: middle;\n",
       "    }\n",
       "\n",
       "    .dataframe tbody tr th {\n",
       "        vertical-align: top;\n",
       "    }\n",
       "\n",
       "    .dataframe thead th {\n",
       "        text-align: right;\n",
       "    }\n",
       "</style>\n",
       "<table border=\"1\" class=\"dataframe\">\n",
       "  <thead>\n",
       "    <tr style=\"text-align: right;\">\n",
       "      <th></th>\n",
       "      <th>id</th>\n",
       "      <th>name</th>\n",
       "      <th>host_id</th>\n",
       "      <th>host_name</th>\n",
       "      <th>neighbourhood_group</th>\n",
       "      <th>neighbourhood</th>\n",
       "      <th>latitude</th>\n",
       "      <th>longitude</th>\n",
       "      <th>room_type</th>\n",
       "      <th>price</th>\n",
       "      <th>minimum_nights</th>\n",
       "      <th>number_of_reviews</th>\n",
       "      <th>last_review</th>\n",
       "      <th>reviews_per_month</th>\n",
       "      <th>calculated_host_listings_count</th>\n",
       "      <th>availability_365</th>\n",
       "    </tr>\n",
       "  </thead>\n",
       "  <tbody>\n",
       "    <tr>\n",
       "      <th>0</th>\n",
       "      <td>2539</td>\n",
       "      <td>Clean &amp; quiet apt home by the park</td>\n",
       "      <td>2787</td>\n",
       "      <td>John</td>\n",
       "      <td>Brooklyn</td>\n",
       "      <td>Kensington</td>\n",
       "      <td>40.64749</td>\n",
       "      <td>-73.97237</td>\n",
       "      <td>Private room</td>\n",
       "      <td>149</td>\n",
       "      <td>1</td>\n",
       "      <td>9</td>\n",
       "      <td>2018-10-19</td>\n",
       "      <td>0.21</td>\n",
       "      <td>6</td>\n",
       "      <td>365</td>\n",
       "    </tr>\n",
       "    <tr>\n",
       "      <th>1</th>\n",
       "      <td>2595</td>\n",
       "      <td>Skylit Midtown Castle</td>\n",
       "      <td>2845</td>\n",
       "      <td>Jennifer</td>\n",
       "      <td>Manhattan</td>\n",
       "      <td>Midtown</td>\n",
       "      <td>40.75362</td>\n",
       "      <td>-73.98377</td>\n",
       "      <td>Entire home/apt</td>\n",
       "      <td>225</td>\n",
       "      <td>1</td>\n",
       "      <td>45</td>\n",
       "      <td>2019-05-21</td>\n",
       "      <td>0.38</td>\n",
       "      <td>2</td>\n",
       "      <td>355</td>\n",
       "    </tr>\n",
       "    <tr>\n",
       "      <th>2</th>\n",
       "      <td>3647</td>\n",
       "      <td>THE VILLAGE OF HARLEM....NEW YORK !</td>\n",
       "      <td>4632</td>\n",
       "      <td>Elisabeth</td>\n",
       "      <td>Manhattan</td>\n",
       "      <td>Harlem</td>\n",
       "      <td>40.80902</td>\n",
       "      <td>-73.94190</td>\n",
       "      <td>Private room</td>\n",
       "      <td>150</td>\n",
       "      <td>3</td>\n",
       "      <td>0</td>\n",
       "      <td>NaN</td>\n",
       "      <td>NaN</td>\n",
       "      <td>1</td>\n",
       "      <td>365</td>\n",
       "    </tr>\n",
       "    <tr>\n",
       "      <th>3</th>\n",
       "      <td>3831</td>\n",
       "      <td>Cozy Entire Floor of Brownstone</td>\n",
       "      <td>4869</td>\n",
       "      <td>LisaRoxanne</td>\n",
       "      <td>Brooklyn</td>\n",
       "      <td>Clinton Hill</td>\n",
       "      <td>40.68514</td>\n",
       "      <td>-73.95976</td>\n",
       "      <td>Entire home/apt</td>\n",
       "      <td>89</td>\n",
       "      <td>1</td>\n",
       "      <td>270</td>\n",
       "      <td>2019-07-05</td>\n",
       "      <td>4.64</td>\n",
       "      <td>1</td>\n",
       "      <td>194</td>\n",
       "    </tr>\n",
       "    <tr>\n",
       "      <th>4</th>\n",
       "      <td>5022</td>\n",
       "      <td>Entire Apt: Spacious Studio/Loft by central park</td>\n",
       "      <td>7192</td>\n",
       "      <td>Laura</td>\n",
       "      <td>Manhattan</td>\n",
       "      <td>East Harlem</td>\n",
       "      <td>40.79851</td>\n",
       "      <td>-73.94399</td>\n",
       "      <td>Entire home/apt</td>\n",
       "      <td>80</td>\n",
       "      <td>10</td>\n",
       "      <td>9</td>\n",
       "      <td>2018-11-19</td>\n",
       "      <td>0.10</td>\n",
       "      <td>1</td>\n",
       "      <td>0</td>\n",
       "    </tr>\n",
       "  </tbody>\n",
       "</table>\n",
       "</div>"
      ],
      "text/plain": [
       "     id                                              name  host_id  \\\n",
       "0  2539                Clean & quiet apt home by the park     2787   \n",
       "1  2595                             Skylit Midtown Castle     2845   \n",
       "2  3647               THE VILLAGE OF HARLEM....NEW YORK !     4632   \n",
       "3  3831                   Cozy Entire Floor of Brownstone     4869   \n",
       "4  5022  Entire Apt: Spacious Studio/Loft by central park     7192   \n",
       "\n",
       "     host_name neighbourhood_group neighbourhood  latitude  longitude  \\\n",
       "0         John            Brooklyn    Kensington  40.64749  -73.97237   \n",
       "1     Jennifer           Manhattan       Midtown  40.75362  -73.98377   \n",
       "2    Elisabeth           Manhattan        Harlem  40.80902  -73.94190   \n",
       "3  LisaRoxanne            Brooklyn  Clinton Hill  40.68514  -73.95976   \n",
       "4        Laura           Manhattan   East Harlem  40.79851  -73.94399   \n",
       "\n",
       "         room_type  price  minimum_nights  number_of_reviews last_review  \\\n",
       "0     Private room    149               1                  9  2018-10-19   \n",
       "1  Entire home/apt    225               1                 45  2019-05-21   \n",
       "2     Private room    150               3                  0         NaN   \n",
       "3  Entire home/apt     89               1                270  2019-07-05   \n",
       "4  Entire home/apt     80              10                  9  2018-11-19   \n",
       "\n",
       "   reviews_per_month  calculated_host_listings_count  availability_365  \n",
       "0               0.21                               6               365  \n",
       "1               0.38                               2               355  \n",
       "2                NaN                               1               365  \n",
       "3               4.64                               1               194  \n",
       "4               0.10                               1                 0  "
      ]
     },
     "execution_count": 405,
     "metadata": {},
     "output_type": "execute_result"
    }
   ],
   "source": [
    "df = pd.read_csv('https://raw.githubusercontent.com/Datamanim/pandas/main/AB_NYC_2019.csv')\n",
    "df.head(5)"
   ]
  },
  {
   "cell_type": "markdown",
   "id": "c46f9655",
   "metadata": {},
   "source": [
    "## Question 45\n",
    "데이터의 각 host_name의 빈도수를 구하고 host_name으로 정렬하여 상위 5개를 출력하라."
   ]
  },
  {
   "cell_type": "code",
   "execution_count": 406,
   "id": "157d58cc",
   "metadata": {},
   "outputs": [
    {
     "data": {
      "application/vnd.microsoft.datawrangler.viewer.v0+json": {
       "columns": [
        {
         "name": "host_name",
         "rawType": "object",
         "type": "string"
        },
        {
         "name": "count",
         "rawType": "int64",
         "type": "integer"
        }
       ],
       "ref": "92b66caf-3367-4842-a767-a103f167c641",
       "rows": [
        [
         "'Cil",
         "1"
        ],
        [
         "(Ari) HENRY LEE",
         "1"
        ],
        [
         "(Email hidden by Airbnb)",
         "6"
        ],
        [
         "(Mary) Haiy",
         "1"
        ],
        [
         "-TheQueensCornerLot",
         "1"
        ]
       ],
       "shape": {
        "columns": 1,
        "rows": 5
       }
      },
      "text/plain": [
       "host_name\n",
       "'Cil                        1\n",
       "(Ari) HENRY LEE             1\n",
       "(Email hidden by Airbnb)    6\n",
       "(Mary) Haiy                 1\n",
       "-TheQueensCornerLot         1\n",
       "Name: count, dtype: int64"
      ]
     },
     "execution_count": 406,
     "metadata": {},
     "output_type": "execute_result"
    }
   ],
   "source": [
    "df.host_name.value_counts().sort_index().head(5) # 내가 쓴 답"
   ]
  },
  {
   "cell_type": "code",
   "execution_count": 407,
   "id": "66b7663d",
   "metadata": {},
   "outputs": [],
   "source": [
    "Ans = df.groupby('host_name').size()\n",
    "\n",
    "# or\n",
    "\n",
    "Ans = df.host_name.value_counts().sort_index() # 데이터마님 답"
   ]
  },
  {
   "cell_type": "markdown",
   "id": "935f099e",
   "metadata": {},
   "source": [
    "## Question 46\n",
    "데이터의 각 host_name의 빈도수를 구하고 빈도수 기준 내림차순 정렬한 데이터 프레임을 만들어라. 빈도수 컬럼은 counts로 명명하라."
   ]
  },
  {
   "cell_type": "code",
   "execution_count": 408,
   "id": "a2c67f77",
   "metadata": {},
   "outputs": [
    {
     "data": {
      "application/vnd.microsoft.datawrangler.viewer.v0+json": {
       "columns": [
        {
         "name": "host_name",
         "rawType": "object",
         "type": "string"
        },
        {
         "name": "counts",
         "rawType": "int64",
         "type": "integer"
        }
       ],
       "ref": "3169b9cd-e2ca-4a2b-8c5e-0e44d5ffc705",
       "rows": [
        [
         "Michael",
         "417"
        ],
        [
         "David",
         "403"
        ],
        [
         "Sonder (NYC)",
         "327"
        ],
        [
         "John",
         "294"
        ],
        [
         "Alex",
         "279"
        ],
        [
         "Blueground",
         "232"
        ],
        [
         "Sarah",
         "227"
        ],
        [
         "Daniel",
         "226"
        ],
        [
         "Jessica",
         "205"
        ],
        [
         "Maria",
         "204"
        ],
        [
         "Mike",
         "194"
        ],
        [
         "Andrew",
         "190"
        ],
        [
         "Anna",
         "187"
        ],
        [
         "Chris",
         "182"
        ],
        [
         "Laura",
         "182"
        ],
        [
         "Melissa",
         "160"
        ],
        [
         "Emily",
         "157"
        ],
        [
         "Jennifer",
         "154"
        ],
        [
         "James",
         "151"
        ],
        [
         "Rachel",
         "146"
        ],
        [
         "Kara",
         "143"
        ],
        [
         "Jonathan",
         "142"
        ],
        [
         "Amy",
         "142"
        ],
        [
         "Brian",
         "140"
        ],
        [
         "Jason",
         "140"
        ],
        [
         "Michelle",
         "140"
        ],
        [
         "Adam",
         "139"
        ],
        [
         "Mark",
         "139"
        ],
        [
         "Ben",
         "135"
        ],
        [
         "Anthony",
         "134"
        ],
        [
         "Eric",
         "131"
        ],
        [
         "Andrea",
         "131"
        ],
        [
         "Nina",
         "128"
        ],
        [
         "Kevin",
         "127"
        ],
        [
         "Peter",
         "125"
        ],
        [
         "Joseph",
         "124"
        ],
        [
         "Lauren",
         "124"
        ],
        [
         "Nick",
         "123"
        ],
        [
         "Stephanie",
         "121"
        ],
        [
         "Ken",
         "121"
        ],
        [
         "Sam",
         "120"
        ],
        [
         "Lisa",
         "119"
        ],
        [
         "Robert",
         "118"
        ],
        [
         "Elizabeth",
         "114"
        ],
        [
         "Nicole",
         "111"
        ],
        [
         "Paul",
         "110"
        ],
        [
         "Matt",
         "108"
        ],
        [
         "Ryan",
         "108"
        ],
        [
         "Matthew",
         "107"
        ],
        [
         "Max",
         "105"
        ]
       ],
       "shape": {
        "columns": 1,
        "rows": 11452
       }
      },
      "text/html": [
       "<div>\n",
       "<style scoped>\n",
       "    .dataframe tbody tr th:only-of-type {\n",
       "        vertical-align: middle;\n",
       "    }\n",
       "\n",
       "    .dataframe tbody tr th {\n",
       "        vertical-align: top;\n",
       "    }\n",
       "\n",
       "    .dataframe thead th {\n",
       "        text-align: right;\n",
       "    }\n",
       "</style>\n",
       "<table border=\"1\" class=\"dataframe\">\n",
       "  <thead>\n",
       "    <tr style=\"text-align: right;\">\n",
       "      <th></th>\n",
       "      <th>counts</th>\n",
       "    </tr>\n",
       "    <tr>\n",
       "      <th>host_name</th>\n",
       "      <th></th>\n",
       "    </tr>\n",
       "  </thead>\n",
       "  <tbody>\n",
       "    <tr>\n",
       "      <th>Michael</th>\n",
       "      <td>417</td>\n",
       "    </tr>\n",
       "    <tr>\n",
       "      <th>David</th>\n",
       "      <td>403</td>\n",
       "    </tr>\n",
       "    <tr>\n",
       "      <th>Sonder (NYC)</th>\n",
       "      <td>327</td>\n",
       "    </tr>\n",
       "    <tr>\n",
       "      <th>John</th>\n",
       "      <td>294</td>\n",
       "    </tr>\n",
       "    <tr>\n",
       "      <th>Alex</th>\n",
       "      <td>279</td>\n",
       "    </tr>\n",
       "    <tr>\n",
       "      <th>...</th>\n",
       "      <td>...</td>\n",
       "    </tr>\n",
       "    <tr>\n",
       "      <th>Rhonycs</th>\n",
       "      <td>1</td>\n",
       "    </tr>\n",
       "    <tr>\n",
       "      <th>Brandy-Courtney</th>\n",
       "      <td>1</td>\n",
       "    </tr>\n",
       "    <tr>\n",
       "      <th>Shanthony</th>\n",
       "      <td>1</td>\n",
       "    </tr>\n",
       "    <tr>\n",
       "      <th>Aurore And Jamila</th>\n",
       "      <td>1</td>\n",
       "    </tr>\n",
       "    <tr>\n",
       "      <th>Ilgar &amp; Aysel</th>\n",
       "      <td>1</td>\n",
       "    </tr>\n",
       "  </tbody>\n",
       "</table>\n",
       "<p>11452 rows × 1 columns</p>\n",
       "</div>"
      ],
      "text/plain": [
       "                   counts\n",
       "host_name                \n",
       "Michael               417\n",
       "David                 403\n",
       "Sonder (NYC)          327\n",
       "John                  294\n",
       "Alex                  279\n",
       "...                   ...\n",
       "Rhonycs                 1\n",
       "Brandy-Courtney         1\n",
       "Shanthony               1\n",
       "Aurore And Jamila       1\n",
       "Ilgar & Aysel           1\n",
       "\n",
       "[11452 rows x 1 columns]"
      ]
     },
     "execution_count": 408,
     "metadata": {},
     "output_type": "execute_result"
    }
   ],
   "source": [
    "df.host_name.value_counts().to_frame(name='counts') # 내가 쓴 답"
   ]
  },
  {
   "cell_type": "code",
   "execution_count": 409,
   "id": "0c5a4d0e",
   "metadata": {},
   "outputs": [
    {
     "data": {
      "application/vnd.microsoft.datawrangler.viewer.v0+json": {
       "columns": [
        {
         "name": "host_name",
         "rawType": "object",
         "type": "string"
        },
        {
         "name": "counts",
         "rawType": "int64",
         "type": "integer"
        }
       ],
       "ref": "b63e53f2-4b52-4351-9b4c-62fced6bbe70",
       "rows": [
        [
         "Michael",
         "417"
        ],
        [
         "David",
         "403"
        ],
        [
         "Sonder (NYC)",
         "327"
        ],
        [
         "John",
         "294"
        ],
        [
         "Alex",
         "279"
        ]
       ],
       "shape": {
        "columns": 1,
        "rows": 5
       }
      },
      "text/html": [
       "<div>\n",
       "<style scoped>\n",
       "    .dataframe tbody tr th:only-of-type {\n",
       "        vertical-align: middle;\n",
       "    }\n",
       "\n",
       "    .dataframe tbody tr th {\n",
       "        vertical-align: top;\n",
       "    }\n",
       "\n",
       "    .dataframe thead th {\n",
       "        text-align: right;\n",
       "    }\n",
       "</style>\n",
       "<table border=\"1\" class=\"dataframe\">\n",
       "  <thead>\n",
       "    <tr style=\"text-align: right;\">\n",
       "      <th></th>\n",
       "      <th>counts</th>\n",
       "    </tr>\n",
       "    <tr>\n",
       "      <th>host_name</th>\n",
       "      <th></th>\n",
       "    </tr>\n",
       "  </thead>\n",
       "  <tbody>\n",
       "    <tr>\n",
       "      <th>Michael</th>\n",
       "      <td>417</td>\n",
       "    </tr>\n",
       "    <tr>\n",
       "      <th>David</th>\n",
       "      <td>403</td>\n",
       "    </tr>\n",
       "    <tr>\n",
       "      <th>Sonder (NYC)</th>\n",
       "      <td>327</td>\n",
       "    </tr>\n",
       "    <tr>\n",
       "      <th>John</th>\n",
       "      <td>294</td>\n",
       "    </tr>\n",
       "    <tr>\n",
       "      <th>Alex</th>\n",
       "      <td>279</td>\n",
       "    </tr>\n",
       "  </tbody>\n",
       "</table>\n",
       "</div>"
      ],
      "text/plain": [
       "              counts\n",
       "host_name           \n",
       "Michael          417\n",
       "David            403\n",
       "Sonder (NYC)     327\n",
       "John             294\n",
       "Alex             279"
      ]
     },
     "execution_count": 409,
     "metadata": {},
     "output_type": "execute_result"
    }
   ],
   "source": [
    "Ans = df.groupby('host_name').size().\\\n",
    "                to_frame().rename(columns={0:'counts'}).\\\n",
    "                sort_values('counts',ascending=False)\n",
    "Ans.head(5) # 데이터마님 답"
   ]
  },
  {
   "cell_type": "markdown",
   "id": "3c7beb0d",
   "metadata": {},
   "source": [
    "## Question 47\n",
    "neighbourhood_group의 값에 따른 neighbourhood컬럼 값의 갯수를 구하여라."
   ]
  },
  {
   "cell_type": "code",
   "execution_count": 410,
   "id": "f5501241",
   "metadata": {},
   "outputs": [
    {
     "data": {
      "application/vnd.microsoft.datawrangler.viewer.v0+json": {
       "columns": [
        {
         "name": "index",
         "rawType": "int64",
         "type": "integer"
        },
        {
         "name": "neighbourhood_group",
         "rawType": "object",
         "type": "string"
        },
        {
         "name": "neighbourhood",
         "rawType": "object",
         "type": "string"
        },
        {
         "name": "0",
         "rawType": "int64",
         "type": "integer"
        }
       ],
       "ref": "6f32adb4-fe33-493a-8551-602520e7004b",
       "rows": [
        [
         "0",
         "Bronx",
         "Allerton",
         "42"
        ],
        [
         "1",
         "Bronx",
         "Baychester",
         "7"
        ],
        [
         "2",
         "Bronx",
         "Belmont",
         "24"
        ],
        [
         "3",
         "Bronx",
         "Bronxdale",
         "19"
        ]
       ],
       "shape": {
        "columns": 3,
        "rows": 4
       }
      },
      "text/html": [
       "<div>\n",
       "<style scoped>\n",
       "    .dataframe tbody tr th:only-of-type {\n",
       "        vertical-align: middle;\n",
       "    }\n",
       "\n",
       "    .dataframe tbody tr th {\n",
       "        vertical-align: top;\n",
       "    }\n",
       "\n",
       "    .dataframe thead th {\n",
       "        text-align: right;\n",
       "    }\n",
       "</style>\n",
       "<table border=\"1\" class=\"dataframe\">\n",
       "  <thead>\n",
       "    <tr style=\"text-align: right;\">\n",
       "      <th></th>\n",
       "      <th>neighbourhood_group</th>\n",
       "      <th>neighbourhood</th>\n",
       "      <th>0</th>\n",
       "    </tr>\n",
       "  </thead>\n",
       "  <tbody>\n",
       "    <tr>\n",
       "      <th>0</th>\n",
       "      <td>Bronx</td>\n",
       "      <td>Allerton</td>\n",
       "      <td>42</td>\n",
       "    </tr>\n",
       "    <tr>\n",
       "      <th>1</th>\n",
       "      <td>Bronx</td>\n",
       "      <td>Baychester</td>\n",
       "      <td>7</td>\n",
       "    </tr>\n",
       "    <tr>\n",
       "      <th>2</th>\n",
       "      <td>Bronx</td>\n",
       "      <td>Belmont</td>\n",
       "      <td>24</td>\n",
       "    </tr>\n",
       "    <tr>\n",
       "      <th>3</th>\n",
       "      <td>Bronx</td>\n",
       "      <td>Bronxdale</td>\n",
       "      <td>19</td>\n",
       "    </tr>\n",
       "  </tbody>\n",
       "</table>\n",
       "</div>"
      ],
      "text/plain": [
       "  neighbourhood_group neighbourhood   0\n",
       "0               Bronx      Allerton  42\n",
       "1               Bronx    Baychester   7\n",
       "2               Bronx       Belmont  24\n",
       "3               Bronx     Bronxdale  19"
      ]
     },
     "execution_count": 410,
     "metadata": {},
     "output_type": "execute_result"
    }
   ],
   "source": [
    "df.groupby(['neighbourhood_group', 'neighbourhood']).size().reset_index().head(4) # 내가 쓴 답"
   ]
  },
  {
   "cell_type": "code",
   "execution_count": 411,
   "id": "f7433238",
   "metadata": {},
   "outputs": [
    {
     "data": {
      "application/vnd.microsoft.datawrangler.viewer.v0+json": {
       "columns": [
        {
         "name": "index",
         "rawType": "int64",
         "type": "integer"
        },
        {
         "name": "neighbourhood_group",
         "rawType": "object",
         "type": "string"
        },
        {
         "name": "neighbourhood",
         "rawType": "object",
         "type": "string"
        },
        {
         "name": "size",
         "rawType": "int64",
         "type": "integer"
        }
       ],
       "ref": "5037b402-dbc1-460c-8fcc-d0afb4ac127a",
       "rows": [
        [
         "0",
         "Bronx",
         "Allerton",
         "42"
        ],
        [
         "1",
         "Bronx",
         "Baychester",
         "7"
        ],
        [
         "2",
         "Bronx",
         "Belmont",
         "24"
        ],
        [
         "3",
         "Bronx",
         "Bronxdale",
         "19"
        ]
       ],
       "shape": {
        "columns": 3,
        "rows": 4
       }
      },
      "text/html": [
       "<div>\n",
       "<style scoped>\n",
       "    .dataframe tbody tr th:only-of-type {\n",
       "        vertical-align: middle;\n",
       "    }\n",
       "\n",
       "    .dataframe tbody tr th {\n",
       "        vertical-align: top;\n",
       "    }\n",
       "\n",
       "    .dataframe thead th {\n",
       "        text-align: right;\n",
       "    }\n",
       "</style>\n",
       "<table border=\"1\" class=\"dataframe\">\n",
       "  <thead>\n",
       "    <tr style=\"text-align: right;\">\n",
       "      <th></th>\n",
       "      <th>neighbourhood_group</th>\n",
       "      <th>neighbourhood</th>\n",
       "      <th>size</th>\n",
       "    </tr>\n",
       "  </thead>\n",
       "  <tbody>\n",
       "    <tr>\n",
       "      <th>0</th>\n",
       "      <td>Bronx</td>\n",
       "      <td>Allerton</td>\n",
       "      <td>42</td>\n",
       "    </tr>\n",
       "    <tr>\n",
       "      <th>1</th>\n",
       "      <td>Bronx</td>\n",
       "      <td>Baychester</td>\n",
       "      <td>7</td>\n",
       "    </tr>\n",
       "    <tr>\n",
       "      <th>2</th>\n",
       "      <td>Bronx</td>\n",
       "      <td>Belmont</td>\n",
       "      <td>24</td>\n",
       "    </tr>\n",
       "    <tr>\n",
       "      <th>3</th>\n",
       "      <td>Bronx</td>\n",
       "      <td>Bronxdale</td>\n",
       "      <td>19</td>\n",
       "    </tr>\n",
       "  </tbody>\n",
       "</table>\n",
       "</div>"
      ],
      "text/plain": [
       "  neighbourhood_group neighbourhood  size\n",
       "0               Bronx      Allerton    42\n",
       "1               Bronx    Baychester     7\n",
       "2               Bronx       Belmont    24\n",
       "3               Bronx     Bronxdale    19"
      ]
     },
     "execution_count": 411,
     "metadata": {},
     "output_type": "execute_result"
    }
   ],
   "source": [
    "Ans = df.groupby(['neighbourhood_group','neighbourhood'], as_index=False).size() # 데이터마님 답\n",
    "Ans.head(4)"
   ]
  },
  {
   "cell_type": "markdown",
   "id": "f03ba38b",
   "metadata": {},
   "source": [
    "## Question 48\n",
    "neighbourhood_group의 값에 따른 neighbourhood컬럼 값 중 neighbourhood_group그룹의 최댓값들을 출력하라."
   ]
  },
  {
   "cell_type": "code",
   "execution_count": 412,
   "id": "9b7e8a78",
   "metadata": {},
   "outputs": [
    {
     "data": {
      "application/vnd.microsoft.datawrangler.viewer.v0+json": {
       "columns": [
        {
         "name": "neighbourhood_group",
         "rawType": "object",
         "type": "string"
        },
        {
         "name": "neighbourhood",
         "rawType": "object",
         "type": "string"
        },
        {
         "name": "size",
         "rawType": "int64",
         "type": "integer"
        }
       ],
       "ref": "8535157d-ba16-44db-bde8-1b974270fce1",
       "rows": [
        [
         "Bronx",
         "Woodlawn",
         "70"
        ],
        [
         "Brooklyn",
         "Windsor Terrace",
         "3920"
        ],
        [
         "Manhattan",
         "West Village",
         "2658"
        ],
        [
         "Queens",
         "Woodside",
         "900"
        ],
        [
         "Staten Island",
         "Woodrow",
         "48"
        ]
       ],
       "shape": {
        "columns": 2,
        "rows": 5
       }
      },
      "text/html": [
       "<div>\n",
       "<style scoped>\n",
       "    .dataframe tbody tr th:only-of-type {\n",
       "        vertical-align: middle;\n",
       "    }\n",
       "\n",
       "    .dataframe tbody tr th {\n",
       "        vertical-align: top;\n",
       "    }\n",
       "\n",
       "    .dataframe thead th {\n",
       "        text-align: right;\n",
       "    }\n",
       "</style>\n",
       "<table border=\"1\" class=\"dataframe\">\n",
       "  <thead>\n",
       "    <tr style=\"text-align: right;\">\n",
       "      <th></th>\n",
       "      <th>neighbourhood</th>\n",
       "      <th>size</th>\n",
       "    </tr>\n",
       "    <tr>\n",
       "      <th>neighbourhood_group</th>\n",
       "      <th></th>\n",
       "      <th></th>\n",
       "    </tr>\n",
       "  </thead>\n",
       "  <tbody>\n",
       "    <tr>\n",
       "      <th>Bronx</th>\n",
       "      <td>Woodlawn</td>\n",
       "      <td>70</td>\n",
       "    </tr>\n",
       "    <tr>\n",
       "      <th>Brooklyn</th>\n",
       "      <td>Windsor Terrace</td>\n",
       "      <td>3920</td>\n",
       "    </tr>\n",
       "    <tr>\n",
       "      <th>Manhattan</th>\n",
       "      <td>West Village</td>\n",
       "      <td>2658</td>\n",
       "    </tr>\n",
       "    <tr>\n",
       "      <th>Queens</th>\n",
       "      <td>Woodside</td>\n",
       "      <td>900</td>\n",
       "    </tr>\n",
       "    <tr>\n",
       "      <th>Staten Island</th>\n",
       "      <td>Woodrow</td>\n",
       "      <td>48</td>\n",
       "    </tr>\n",
       "  </tbody>\n",
       "</table>\n",
       "</div>"
      ],
      "text/plain": [
       "                       neighbourhood  size\n",
       "neighbourhood_group                       \n",
       "Bronx                       Woodlawn    70\n",
       "Brooklyn             Windsor Terrace  3920\n",
       "Manhattan               West Village  2658\n",
       "Queens                      Woodside   900\n",
       "Staten Island                Woodrow    48"
      ]
     },
     "execution_count": 412,
     "metadata": {},
     "output_type": "execute_result"
    }
   ],
   "source": [
    "(df.groupby(['neighbourhood_group', 'neighbourhood'], as_index=False).size()).groupby(['neighbourhood_group']).max() # 내가 쓴 답"
   ]
  },
  {
   "cell_type": "code",
   "execution_count": 413,
   "id": "51accd47",
   "metadata": {},
   "outputs": [
    {
     "data": {
      "application/vnd.microsoft.datawrangler.viewer.v0+json": {
       "columns": [
        {
         "name": "index",
         "rawType": "int64",
         "type": "integer"
        },
        {
         "name": "neighbourhood_group",
         "rawType": "object",
         "type": "string"
        },
        {
         "name": "neighbourhood",
         "rawType": "object",
         "type": "string"
        },
        {
         "name": "size",
         "rawType": "int64",
         "type": "integer"
        }
       ],
       "ref": "6a4f77d9-0814-4526-b7b9-c7a65c63821c",
       "rows": [
        [
         "0",
         "Bronx",
         "Woodlawn",
         "70"
        ],
        [
         "1",
         "Brooklyn",
         "Windsor Terrace",
         "3920"
        ],
        [
         "2",
         "Manhattan",
         "West Village",
         "2658"
        ],
        [
         "3",
         "Queens",
         "Woodside",
         "900"
        ],
        [
         "4",
         "Staten Island",
         "Woodrow",
         "48"
        ]
       ],
       "shape": {
        "columns": 3,
        "rows": 5
       }
      },
      "text/html": [
       "<div>\n",
       "<style scoped>\n",
       "    .dataframe tbody tr th:only-of-type {\n",
       "        vertical-align: middle;\n",
       "    }\n",
       "\n",
       "    .dataframe tbody tr th {\n",
       "        vertical-align: top;\n",
       "    }\n",
       "\n",
       "    .dataframe thead th {\n",
       "        text-align: right;\n",
       "    }\n",
       "</style>\n",
       "<table border=\"1\" class=\"dataframe\">\n",
       "  <thead>\n",
       "    <tr style=\"text-align: right;\">\n",
       "      <th></th>\n",
       "      <th>neighbourhood_group</th>\n",
       "      <th>neighbourhood</th>\n",
       "      <th>size</th>\n",
       "    </tr>\n",
       "  </thead>\n",
       "  <tbody>\n",
       "    <tr>\n",
       "      <th>0</th>\n",
       "      <td>Bronx</td>\n",
       "      <td>Woodlawn</td>\n",
       "      <td>70</td>\n",
       "    </tr>\n",
       "    <tr>\n",
       "      <th>1</th>\n",
       "      <td>Brooklyn</td>\n",
       "      <td>Windsor Terrace</td>\n",
       "      <td>3920</td>\n",
       "    </tr>\n",
       "    <tr>\n",
       "      <th>2</th>\n",
       "      <td>Manhattan</td>\n",
       "      <td>West Village</td>\n",
       "      <td>2658</td>\n",
       "    </tr>\n",
       "    <tr>\n",
       "      <th>3</th>\n",
       "      <td>Queens</td>\n",
       "      <td>Woodside</td>\n",
       "      <td>900</td>\n",
       "    </tr>\n",
       "    <tr>\n",
       "      <th>4</th>\n",
       "      <td>Staten Island</td>\n",
       "      <td>Woodrow</td>\n",
       "      <td>48</td>\n",
       "    </tr>\n",
       "  </tbody>\n",
       "</table>\n",
       "</div>"
      ],
      "text/plain": [
       "  neighbourhood_group    neighbourhood  size\n",
       "0               Bronx         Woodlawn    70\n",
       "1            Brooklyn  Windsor Terrace  3920\n",
       "2           Manhattan     West Village  2658\n",
       "3              Queens         Woodside   900\n",
       "4       Staten Island          Woodrow    48"
      ]
     },
     "execution_count": 413,
     "metadata": {},
     "output_type": "execute_result"
    }
   ],
   "source": [
    "Ans= df.groupby(['neighbourhood_group','neighbourhood'], as_index=False).size()\\\n",
    "                  .groupby(['neighbourhood_group'], as_index=False).max()\n",
    "Ans # 데이터마님 답"
   ]
  },
  {
   "cell_type": "markdown",
   "id": "bf9b307d",
   "metadata": {},
   "source": [
    "## Question 49\n",
    "neighbourhood_group 값에 따른 price값의 평균, 분산, 최대, 최소 값을 구하여라."
   ]
  },
  {
   "cell_type": "code",
   "execution_count": 414,
   "id": "1b4b3ef4",
   "metadata": {},
   "outputs": [
    {
     "data": {
      "application/vnd.microsoft.datawrangler.viewer.v0+json": {
       "columns": [
        {
         "name": "neighbourhood_group",
         "rawType": "object",
         "type": "string"
        },
        {
         "name": "('price', 'mean')",
         "rawType": "float64",
         "type": "float"
        },
        {
         "name": "('price', 'var')",
         "rawType": "float64",
         "type": "float"
        },
        {
         "name": "('price', 'max')",
         "rawType": "int64",
         "type": "integer"
        },
        {
         "name": "('price', 'min')",
         "rawType": "int64",
         "type": "integer"
        }
       ],
       "ref": "ee60578b-90d8-4f30-a6d6-1557c32e76ee",
       "rows": [
        [
         "Bronx",
         "87.4967919340055",
         "11386.885081441982",
         "2500",
         "0"
        ],
        [
         "Brooklyn",
         "124.38320732192598",
         "34921.71913499417",
         "10000",
         "0"
        ],
        [
         "Manhattan",
         "196.8758136743456",
         "84904.15918461586",
         "10000",
         "0"
        ],
        [
         "Queens",
         "99.51764913519237",
         "27923.130226846668",
         "10000",
         "10"
        ],
        [
         "Staten Island",
         "114.81233243967829",
         "77073.0883421257",
         "5000",
         "13"
        ]
       ],
       "shape": {
        "columns": 4,
        "rows": 5
       }
      },
      "text/html": [
       "<div>\n",
       "<style scoped>\n",
       "    .dataframe tbody tr th:only-of-type {\n",
       "        vertical-align: middle;\n",
       "    }\n",
       "\n",
       "    .dataframe tbody tr th {\n",
       "        vertical-align: top;\n",
       "    }\n",
       "\n",
       "    .dataframe thead tr th {\n",
       "        text-align: left;\n",
       "    }\n",
       "\n",
       "    .dataframe thead tr:last-of-type th {\n",
       "        text-align: right;\n",
       "    }\n",
       "</style>\n",
       "<table border=\"1\" class=\"dataframe\">\n",
       "  <thead>\n",
       "    <tr>\n",
       "      <th></th>\n",
       "      <th colspan=\"4\" halign=\"left\">price</th>\n",
       "    </tr>\n",
       "    <tr>\n",
       "      <th></th>\n",
       "      <th>mean</th>\n",
       "      <th>var</th>\n",
       "      <th>max</th>\n",
       "      <th>min</th>\n",
       "    </tr>\n",
       "    <tr>\n",
       "      <th>neighbourhood_group</th>\n",
       "      <th></th>\n",
       "      <th></th>\n",
       "      <th></th>\n",
       "      <th></th>\n",
       "    </tr>\n",
       "  </thead>\n",
       "  <tbody>\n",
       "    <tr>\n",
       "      <th>Bronx</th>\n",
       "      <td>87.496792</td>\n",
       "      <td>11386.885081</td>\n",
       "      <td>2500</td>\n",
       "      <td>0</td>\n",
       "    </tr>\n",
       "    <tr>\n",
       "      <th>Brooklyn</th>\n",
       "      <td>124.383207</td>\n",
       "      <td>34921.719135</td>\n",
       "      <td>10000</td>\n",
       "      <td>0</td>\n",
       "    </tr>\n",
       "    <tr>\n",
       "      <th>Manhattan</th>\n",
       "      <td>196.875814</td>\n",
       "      <td>84904.159185</td>\n",
       "      <td>10000</td>\n",
       "      <td>0</td>\n",
       "    </tr>\n",
       "    <tr>\n",
       "      <th>Queens</th>\n",
       "      <td>99.517649</td>\n",
       "      <td>27923.130227</td>\n",
       "      <td>10000</td>\n",
       "      <td>10</td>\n",
       "    </tr>\n",
       "    <tr>\n",
       "      <th>Staten Island</th>\n",
       "      <td>114.812332</td>\n",
       "      <td>77073.088342</td>\n",
       "      <td>5000</td>\n",
       "      <td>13</td>\n",
       "    </tr>\n",
       "  </tbody>\n",
       "</table>\n",
       "</div>"
      ],
      "text/plain": [
       "                          price                         \n",
       "                           mean           var    max min\n",
       "neighbourhood_group                                     \n",
       "Bronx                 87.496792  11386.885081   2500   0\n",
       "Brooklyn             124.383207  34921.719135  10000   0\n",
       "Manhattan            196.875814  84904.159185  10000   0\n",
       "Queens                99.517649  27923.130227  10000  10\n",
       "Staten Island        114.812332  77073.088342   5000  13"
      ]
     },
     "execution_count": 414,
     "metadata": {},
     "output_type": "execute_result"
    }
   ],
   "source": [
    "df[['neighbourhood_group', 'price']].groupby('neighbourhood_group').agg(['mean', 'var', 'max', 'min'])"
   ]
  },
  {
   "cell_type": "markdown",
   "id": "61bf8235",
   "metadata": {},
   "source": [
    "## Question 50\n",
    "neighbourhood_group 값에 따른 reviews_per_month 평균, 분산, 최대, 최소 값을 구하여라."
   ]
  },
  {
   "cell_type": "code",
   "execution_count": 415,
   "id": "fc29df5c",
   "metadata": {},
   "outputs": [
    {
     "data": {
      "application/vnd.microsoft.datawrangler.viewer.v0+json": {
       "columns": [
        {
         "name": "neighbourhood_group",
         "rawType": "object",
         "type": "string"
        },
        {
         "name": "('reviews_per_month', 'mean')",
         "rawType": "float64",
         "type": "float"
        },
        {
         "name": "('reviews_per_month', 'var')",
         "rawType": "float64",
         "type": "float"
        },
        {
         "name": "('reviews_per_month', 'max')",
         "rawType": "float64",
         "type": "float"
        },
        {
         "name": "('reviews_per_month', 'min')",
         "rawType": "float64",
         "type": "float"
        }
       ],
       "ref": "f1949a88-ef32-4546-bdbc-9e7e9a3355dd",
       "rows": [
        [
         "Bronx",
         "1.8378310502283106",
         "2.7998784902805",
         "10.34",
         "0.02"
        ],
        [
         "Brooklyn",
         "1.2832115279382257",
         "2.2990401050160663",
         "14.0",
         "0.01"
        ],
        [
         "Manhattan",
         "1.2721308321308322",
         "2.6512057172334336",
         "58.5",
         "0.01"
        ],
        [
         "Queens",
         "1.9412002623524267",
         "4.8978481763743105",
         "20.94",
         "0.01"
        ],
        [
         "Staten Island",
         "1.872579617834395",
         "2.8408946022669475",
         "10.12",
         "0.02"
        ]
       ],
       "shape": {
        "columns": 4,
        "rows": 5
       }
      },
      "text/html": [
       "<div>\n",
       "<style scoped>\n",
       "    .dataframe tbody tr th:only-of-type {\n",
       "        vertical-align: middle;\n",
       "    }\n",
       "\n",
       "    .dataframe tbody tr th {\n",
       "        vertical-align: top;\n",
       "    }\n",
       "\n",
       "    .dataframe thead tr th {\n",
       "        text-align: left;\n",
       "    }\n",
       "\n",
       "    .dataframe thead tr:last-of-type th {\n",
       "        text-align: right;\n",
       "    }\n",
       "</style>\n",
       "<table border=\"1\" class=\"dataframe\">\n",
       "  <thead>\n",
       "    <tr>\n",
       "      <th></th>\n",
       "      <th colspan=\"4\" halign=\"left\">reviews_per_month</th>\n",
       "    </tr>\n",
       "    <tr>\n",
       "      <th></th>\n",
       "      <th>mean</th>\n",
       "      <th>var</th>\n",
       "      <th>max</th>\n",
       "      <th>min</th>\n",
       "    </tr>\n",
       "    <tr>\n",
       "      <th>neighbourhood_group</th>\n",
       "      <th></th>\n",
       "      <th></th>\n",
       "      <th></th>\n",
       "      <th></th>\n",
       "    </tr>\n",
       "  </thead>\n",
       "  <tbody>\n",
       "    <tr>\n",
       "      <th>Bronx</th>\n",
       "      <td>1.837831</td>\n",
       "      <td>2.799878</td>\n",
       "      <td>10.34</td>\n",
       "      <td>0.02</td>\n",
       "    </tr>\n",
       "    <tr>\n",
       "      <th>Brooklyn</th>\n",
       "      <td>1.283212</td>\n",
       "      <td>2.299040</td>\n",
       "      <td>14.00</td>\n",
       "      <td>0.01</td>\n",
       "    </tr>\n",
       "    <tr>\n",
       "      <th>Manhattan</th>\n",
       "      <td>1.272131</td>\n",
       "      <td>2.651206</td>\n",
       "      <td>58.50</td>\n",
       "      <td>0.01</td>\n",
       "    </tr>\n",
       "    <tr>\n",
       "      <th>Queens</th>\n",
       "      <td>1.941200</td>\n",
       "      <td>4.897848</td>\n",
       "      <td>20.94</td>\n",
       "      <td>0.01</td>\n",
       "    </tr>\n",
       "    <tr>\n",
       "      <th>Staten Island</th>\n",
       "      <td>1.872580</td>\n",
       "      <td>2.840895</td>\n",
       "      <td>10.12</td>\n",
       "      <td>0.02</td>\n",
       "    </tr>\n",
       "  </tbody>\n",
       "</table>\n",
       "</div>"
      ],
      "text/plain": [
       "                    reviews_per_month                       \n",
       "                                 mean       var    max   min\n",
       "neighbourhood_group                                         \n",
       "Bronx                        1.837831  2.799878  10.34  0.02\n",
       "Brooklyn                     1.283212  2.299040  14.00  0.01\n",
       "Manhattan                    1.272131  2.651206  58.50  0.01\n",
       "Queens                       1.941200  4.897848  20.94  0.01\n",
       "Staten Island                1.872580  2.840895  10.12  0.02"
      ]
     },
     "execution_count": 415,
     "metadata": {},
     "output_type": "execute_result"
    }
   ],
   "source": [
    "df[['neighbourhood_group', 'reviews_per_month']].groupby('neighbourhood_group').agg(['mean', 'var', 'max', 'min'])"
   ]
  },
  {
   "cell_type": "markdown",
   "id": "f7f2e4a1",
   "metadata": {},
   "source": [
    "## Question 51\n",
    "neighbourhood 값과 neighbourhood_group 값에 따른 price 의 평균을 구하라."
   ]
  },
  {
   "cell_type": "code",
   "execution_count": 416,
   "id": "e2984c8f",
   "metadata": {},
   "outputs": [
    {
     "data": {
      "application/vnd.microsoft.datawrangler.viewer.v0+json": {
       "columns": [
        {
         "name": "('neighbourhood', 'neighbourhood_group')",
         "rawType": "object",
         "type": "unknown"
        },
        {
         "name": "price",
         "rawType": "float64",
         "type": "float"
        }
       ],
       "ref": "d65f619f-70ef-4079-b67c-99da0d3a2869",
       "rows": [
        [
         "('Allerton', 'Bronx')",
         "87.5952380952381"
        ],
        [
         "('Arden Heights', 'Staten Island')",
         "67.25"
        ],
        [
         "('Arrochar', 'Staten Island')",
         "115.0"
        ],
        [
         "('Arverne', 'Queens')",
         "171.7792207792208"
        ],
        [
         "('Astoria', 'Queens')",
         "117.18777777777778"
        ],
        [
         "('Bath Beach', 'Brooklyn')",
         "81.76470588235294"
        ],
        [
         "('Battery Park City', 'Manhattan')",
         "367.5571428571429"
        ],
        [
         "('Bay Ridge', 'Brooklyn')",
         "144.43262411347519"
        ],
        [
         "('Bay Terrace', 'Queens')",
         "142.0"
        ],
        [
         "('Bay Terrace, Staten Island', 'Staten Island')",
         "102.5"
        ],
        [
         "('Baychester', 'Bronx')",
         "75.42857142857143"
        ],
        [
         "('Bayside', 'Queens')",
         "157.94871794871796"
        ],
        [
         "('Bayswater', 'Queens')",
         "87.47058823529412"
        ],
        [
         "('Bedford-Stuyvesant', 'Brooklyn')",
         "107.67824448034465"
        ],
        [
         "('Belle Harbor', 'Queens')",
         "171.5"
        ],
        [
         "('Bellerose', 'Queens')",
         "99.35714285714286"
        ],
        [
         "('Belmont', 'Bronx')",
         "77.125"
        ],
        [
         "('Bensonhurst', 'Brooklyn')",
         "75.78666666666666"
        ],
        [
         "('Bergen Beach', 'Brooklyn')",
         "106.7"
        ],
        [
         "('Boerum Hill', 'Brooklyn')",
         "176.135593220339"
        ],
        [
         "('Borough Park', 'Brooklyn')",
         "63.06617647058823"
        ],
        [
         "('Breezy Point', 'Queens')",
         "213.33333333333334"
        ],
        [
         "('Briarwood', 'Queens')",
         "105.875"
        ],
        [
         "('Brighton Beach', 'Brooklyn')",
         "131.93333333333334"
        ],
        [
         "('Bronxdale', 'Bronx')",
         "57.10526315789474"
        ],
        [
         "('Brooklyn Heights', 'Brooklyn')",
         "209.06493506493507"
        ],
        [
         "('Brownsville', 'Brooklyn')",
         "76.45901639344262"
        ],
        [
         "(\"Bull's Head\", 'Staten Island')",
         "47.333333333333336"
        ],
        [
         "('Bushwick', 'Brooklyn')",
         "84.80040567951319"
        ],
        [
         "('Cambria Heights', 'Queens')",
         "81.73076923076923"
        ],
        [
         "('Canarsie', 'Brooklyn')",
         "104.36734693877551"
        ],
        [
         "('Carroll Gardens', 'Brooklyn')",
         "175.91416309012877"
        ],
        [
         "('Castle Hill', 'Bronx')",
         "63.0"
        ],
        [
         "('Castleton Corners', 'Staten Island')",
         "139.75"
        ],
        [
         "('Chelsea', 'Manhattan')",
         "249.73854447439354"
        ],
        [
         "('Chinatown', 'Manhattan')",
         "161.49728260869566"
        ],
        [
         "('City Island', 'Bronx')",
         "173.0"
        ],
        [
         "('Civic Center', 'Manhattan')",
         "191.94230769230768"
        ],
        [
         "('Claremont Village', 'Bronx')",
         "87.46428571428571"
        ],
        [
         "('Clason Point', 'Bronx')",
         "112.76190476190476"
        ],
        [
         "('Clifton', 'Staten Island')",
         "84.93333333333334"
        ],
        [
         "('Clinton Hill', 'Brooklyn')",
         "181.89335664335664"
        ],
        [
         "('Co-op City', 'Bronx')",
         "77.5"
        ],
        [
         "('Cobble Hill', 'Brooklyn')",
         "211.92929292929293"
        ],
        [
         "('College Point', 'Queens')",
         "88.0"
        ],
        [
         "('Columbia St', 'Brooklyn')",
         "162.95238095238096"
        ],
        [
         "('Concord', 'Staten Island')",
         "58.19230769230769"
        ],
        [
         "('Concourse', 'Bronx')",
         "86.18"
        ],
        [
         "('Concourse Village', 'Bronx')",
         "73.78125"
        ],
        [
         "('Coney Island', 'Brooklyn')",
         "123.70588235294117"
        ]
       ],
       "shape": {
        "columns": 1,
        "rows": 221
       }
      },
      "text/plain": [
       "neighbourhood    neighbourhood_group\n",
       "Allerton         Bronx                   87.595238\n",
       "Arden Heights    Staten Island           67.250000\n",
       "Arrochar         Staten Island          115.000000\n",
       "Arverne          Queens                 171.779221\n",
       "Astoria          Queens                 117.187778\n",
       "                                           ...    \n",
       "Windsor Terrace  Brooklyn               138.993631\n",
       "Woodhaven        Queens                  67.170455\n",
       "Woodlawn         Bronx                   60.090909\n",
       "Woodrow          Staten Island          700.000000\n",
       "Woodside         Queens                  85.097872\n",
       "Name: price, Length: 221, dtype: float64"
      ]
     },
     "execution_count": 416,
     "metadata": {},
     "output_type": "execute_result"
    }
   ],
   "source": [
    "df.groupby(['neighbourhood', 'neighbourhood_group']).price.mean()"
   ]
  },
  {
   "cell_type": "markdown",
   "id": "70e8c27c",
   "metadata": {},
   "source": [
    "## Question 52\n",
    "neighbourhood 값과 neighbourhood_group 값에 따른 price 의 평균을 계층적 indexing 없이 구하라."
   ]
  },
  {
   "cell_type": "code",
   "execution_count": 417,
   "id": "82c50a38",
   "metadata": {},
   "outputs": [
    {
     "data": {
      "application/vnd.microsoft.datawrangler.viewer.v0+json": {
       "columns": [
        {
         "name": "neighbourhood",
         "rawType": "object",
         "type": "string"
        },
        {
         "name": "Bronx",
         "rawType": "float64",
         "type": "float"
        },
        {
         "name": "Brooklyn",
         "rawType": "float64",
         "type": "float"
        },
        {
         "name": "Manhattan",
         "rawType": "float64",
         "type": "float"
        },
        {
         "name": "Queens",
         "rawType": "float64",
         "type": "float"
        },
        {
         "name": "Staten Island",
         "rawType": "float64",
         "type": "float"
        }
       ],
       "ref": "6a85b675-019c-44ab-8619-06d3a4c77c19",
       "rows": [
        [
         "Allerton",
         "87.5952380952381",
         null,
         null,
         null,
         null
        ],
        [
         "Arden Heights",
         null,
         null,
         null,
         null,
         "67.25"
        ],
        [
         "Arrochar",
         null,
         null,
         null,
         null,
         "115.0"
        ],
        [
         "Arverne",
         null,
         null,
         null,
         "171.7792207792208",
         null
        ],
        [
         "Astoria",
         null,
         null,
         null,
         "117.18777777777778",
         null
        ],
        [
         "Bath Beach",
         null,
         "81.76470588235294",
         null,
         null,
         null
        ],
        [
         "Battery Park City",
         null,
         null,
         "367.5571428571429",
         null,
         null
        ],
        [
         "Bay Ridge",
         null,
         "144.43262411347519",
         null,
         null,
         null
        ],
        [
         "Bay Terrace",
         null,
         null,
         null,
         "142.0",
         null
        ],
        [
         "Bay Terrace, Staten Island",
         null,
         null,
         null,
         null,
         "102.5"
        ],
        [
         "Baychester",
         "75.42857142857143",
         null,
         null,
         null,
         null
        ],
        [
         "Bayside",
         null,
         null,
         null,
         "157.94871794871796",
         null
        ],
        [
         "Bayswater",
         null,
         null,
         null,
         "87.47058823529412",
         null
        ],
        [
         "Bedford-Stuyvesant",
         null,
         "107.67824448034465",
         null,
         null,
         null
        ],
        [
         "Belle Harbor",
         null,
         null,
         null,
         "171.5",
         null
        ],
        [
         "Bellerose",
         null,
         null,
         null,
         "99.35714285714286",
         null
        ],
        [
         "Belmont",
         "77.125",
         null,
         null,
         null,
         null
        ],
        [
         "Bensonhurst",
         null,
         "75.78666666666666",
         null,
         null,
         null
        ],
        [
         "Bergen Beach",
         null,
         "106.7",
         null,
         null,
         null
        ],
        [
         "Boerum Hill",
         null,
         "176.135593220339",
         null,
         null,
         null
        ],
        [
         "Borough Park",
         null,
         "63.06617647058823",
         null,
         null,
         null
        ],
        [
         "Breezy Point",
         null,
         null,
         null,
         "213.33333333333334",
         null
        ],
        [
         "Briarwood",
         null,
         null,
         null,
         "105.875",
         null
        ],
        [
         "Brighton Beach",
         null,
         "131.93333333333334",
         null,
         null,
         null
        ],
        [
         "Bronxdale",
         "57.10526315789474",
         null,
         null,
         null,
         null
        ],
        [
         "Brooklyn Heights",
         null,
         "209.06493506493507",
         null,
         null,
         null
        ],
        [
         "Brownsville",
         null,
         "76.45901639344262",
         null,
         null,
         null
        ],
        [
         "Bull's Head",
         null,
         null,
         null,
         null,
         "47.333333333333336"
        ],
        [
         "Bushwick",
         null,
         "84.80040567951319",
         null,
         null,
         null
        ],
        [
         "Cambria Heights",
         null,
         null,
         null,
         "81.73076923076923",
         null
        ],
        [
         "Canarsie",
         null,
         "104.36734693877551",
         null,
         null,
         null
        ],
        [
         "Carroll Gardens",
         null,
         "175.91416309012877",
         null,
         null,
         null
        ],
        [
         "Castle Hill",
         "63.0",
         null,
         null,
         null,
         null
        ],
        [
         "Castleton Corners",
         null,
         null,
         null,
         null,
         "139.75"
        ],
        [
         "Chelsea",
         null,
         null,
         "249.73854447439354",
         null,
         null
        ],
        [
         "Chinatown",
         null,
         null,
         "161.49728260869566",
         null,
         null
        ],
        [
         "City Island",
         "173.0",
         null,
         null,
         null,
         null
        ],
        [
         "Civic Center",
         null,
         null,
         "191.94230769230768",
         null,
         null
        ],
        [
         "Claremont Village",
         "87.46428571428571",
         null,
         null,
         null,
         null
        ],
        [
         "Clason Point",
         "112.76190476190476",
         null,
         null,
         null,
         null
        ],
        [
         "Clifton",
         null,
         null,
         null,
         null,
         "84.93333333333334"
        ],
        [
         "Clinton Hill",
         null,
         "181.89335664335664",
         null,
         null,
         null
        ],
        [
         "Co-op City",
         "77.5",
         null,
         null,
         null,
         null
        ],
        [
         "Cobble Hill",
         null,
         "211.92929292929293",
         null,
         null,
         null
        ],
        [
         "College Point",
         null,
         null,
         null,
         "88.0",
         null
        ],
        [
         "Columbia St",
         null,
         "162.95238095238096",
         null,
         null,
         null
        ],
        [
         "Concord",
         null,
         null,
         null,
         null,
         "58.19230769230769"
        ],
        [
         "Concourse",
         "86.18",
         null,
         null,
         null,
         null
        ],
        [
         "Concourse Village",
         "73.78125",
         null,
         null,
         null,
         null
        ],
        [
         "Coney Island",
         null,
         "123.70588235294117",
         null,
         null,
         null
        ]
       ],
       "shape": {
        "columns": 5,
        "rows": 221
       }
      },
      "text/html": [
       "<div>\n",
       "<style scoped>\n",
       "    .dataframe tbody tr th:only-of-type {\n",
       "        vertical-align: middle;\n",
       "    }\n",
       "\n",
       "    .dataframe tbody tr th {\n",
       "        vertical-align: top;\n",
       "    }\n",
       "\n",
       "    .dataframe thead th {\n",
       "        text-align: right;\n",
       "    }\n",
       "</style>\n",
       "<table border=\"1\" class=\"dataframe\">\n",
       "  <thead>\n",
       "    <tr style=\"text-align: right;\">\n",
       "      <th>neighbourhood_group</th>\n",
       "      <th>Bronx</th>\n",
       "      <th>Brooklyn</th>\n",
       "      <th>Manhattan</th>\n",
       "      <th>Queens</th>\n",
       "      <th>Staten Island</th>\n",
       "    </tr>\n",
       "    <tr>\n",
       "      <th>neighbourhood</th>\n",
       "      <th></th>\n",
       "      <th></th>\n",
       "      <th></th>\n",
       "      <th></th>\n",
       "      <th></th>\n",
       "    </tr>\n",
       "  </thead>\n",
       "  <tbody>\n",
       "    <tr>\n",
       "      <th>Allerton</th>\n",
       "      <td>87.595238</td>\n",
       "      <td>NaN</td>\n",
       "      <td>NaN</td>\n",
       "      <td>NaN</td>\n",
       "      <td>NaN</td>\n",
       "    </tr>\n",
       "    <tr>\n",
       "      <th>Arden Heights</th>\n",
       "      <td>NaN</td>\n",
       "      <td>NaN</td>\n",
       "      <td>NaN</td>\n",
       "      <td>NaN</td>\n",
       "      <td>67.25</td>\n",
       "    </tr>\n",
       "    <tr>\n",
       "      <th>Arrochar</th>\n",
       "      <td>NaN</td>\n",
       "      <td>NaN</td>\n",
       "      <td>NaN</td>\n",
       "      <td>NaN</td>\n",
       "      <td>115.00</td>\n",
       "    </tr>\n",
       "    <tr>\n",
       "      <th>Arverne</th>\n",
       "      <td>NaN</td>\n",
       "      <td>NaN</td>\n",
       "      <td>NaN</td>\n",
       "      <td>171.779221</td>\n",
       "      <td>NaN</td>\n",
       "    </tr>\n",
       "    <tr>\n",
       "      <th>Astoria</th>\n",
       "      <td>NaN</td>\n",
       "      <td>NaN</td>\n",
       "      <td>NaN</td>\n",
       "      <td>117.187778</td>\n",
       "      <td>NaN</td>\n",
       "    </tr>\n",
       "    <tr>\n",
       "      <th>...</th>\n",
       "      <td>...</td>\n",
       "      <td>...</td>\n",
       "      <td>...</td>\n",
       "      <td>...</td>\n",
       "      <td>...</td>\n",
       "    </tr>\n",
       "    <tr>\n",
       "      <th>Windsor Terrace</th>\n",
       "      <td>NaN</td>\n",
       "      <td>138.993631</td>\n",
       "      <td>NaN</td>\n",
       "      <td>NaN</td>\n",
       "      <td>NaN</td>\n",
       "    </tr>\n",
       "    <tr>\n",
       "      <th>Woodhaven</th>\n",
       "      <td>NaN</td>\n",
       "      <td>NaN</td>\n",
       "      <td>NaN</td>\n",
       "      <td>67.170455</td>\n",
       "      <td>NaN</td>\n",
       "    </tr>\n",
       "    <tr>\n",
       "      <th>Woodlawn</th>\n",
       "      <td>60.090909</td>\n",
       "      <td>NaN</td>\n",
       "      <td>NaN</td>\n",
       "      <td>NaN</td>\n",
       "      <td>NaN</td>\n",
       "    </tr>\n",
       "    <tr>\n",
       "      <th>Woodrow</th>\n",
       "      <td>NaN</td>\n",
       "      <td>NaN</td>\n",
       "      <td>NaN</td>\n",
       "      <td>NaN</td>\n",
       "      <td>700.00</td>\n",
       "    </tr>\n",
       "    <tr>\n",
       "      <th>Woodside</th>\n",
       "      <td>NaN</td>\n",
       "      <td>NaN</td>\n",
       "      <td>NaN</td>\n",
       "      <td>85.097872</td>\n",
       "      <td>NaN</td>\n",
       "    </tr>\n",
       "  </tbody>\n",
       "</table>\n",
       "<p>221 rows × 5 columns</p>\n",
       "</div>"
      ],
      "text/plain": [
       "neighbourhood_group      Bronx    Brooklyn  Manhattan      Queens  \\\n",
       "neighbourhood                                                       \n",
       "Allerton             87.595238         NaN        NaN         NaN   \n",
       "Arden Heights              NaN         NaN        NaN         NaN   \n",
       "Arrochar                   NaN         NaN        NaN         NaN   \n",
       "Arverne                    NaN         NaN        NaN  171.779221   \n",
       "Astoria                    NaN         NaN        NaN  117.187778   \n",
       "...                        ...         ...        ...         ...   \n",
       "Windsor Terrace            NaN  138.993631        NaN         NaN   \n",
       "Woodhaven                  NaN         NaN        NaN   67.170455   \n",
       "Woodlawn             60.090909         NaN        NaN         NaN   \n",
       "Woodrow                    NaN         NaN        NaN         NaN   \n",
       "Woodside                   NaN         NaN        NaN   85.097872   \n",
       "\n",
       "neighbourhood_group  Staten Island  \n",
       "neighbourhood                       \n",
       "Allerton                       NaN  \n",
       "Arden Heights                67.25  \n",
       "Arrochar                    115.00  \n",
       "Arverne                        NaN  \n",
       "Astoria                        NaN  \n",
       "...                            ...  \n",
       "Windsor Terrace                NaN  \n",
       "Woodhaven                      NaN  \n",
       "Woodlawn                       NaN  \n",
       "Woodrow                     700.00  \n",
       "Woodside                       NaN  \n",
       "\n",
       "[221 rows x 5 columns]"
      ]
     },
     "execution_count": 417,
     "metadata": {},
     "output_type": "execute_result"
    }
   ],
   "source": [
    "df.groupby(['neighbourhood', 'neighbourhood_group']).price.mean().unstack()"
   ]
  },
  {
   "cell_type": "markdown",
   "id": "1d2700b7",
   "metadata": {},
   "source": [
    "## Question 53\n",
    "neighbourhood 값과 neighbourhood_group 값에 따른 price 의 평균을 계층적 indexing 없이 구하고 nan 값은 -999값으로 채워라."
   ]
  },
  {
   "cell_type": "code",
   "execution_count": 418,
   "id": "e2737a87",
   "metadata": {},
   "outputs": [
    {
     "data": {
      "application/vnd.microsoft.datawrangler.viewer.v0+json": {
       "columns": [
        {
         "name": "neighbourhood",
         "rawType": "object",
         "type": "string"
        },
        {
         "name": "Bronx",
         "rawType": "float64",
         "type": "float"
        },
        {
         "name": "Brooklyn",
         "rawType": "float64",
         "type": "float"
        },
        {
         "name": "Manhattan",
         "rawType": "float64",
         "type": "float"
        },
        {
         "name": "Queens",
         "rawType": "float64",
         "type": "float"
        },
        {
         "name": "Staten Island",
         "rawType": "float64",
         "type": "float"
        }
       ],
       "ref": "885c0b04-65c1-447b-97ef-82a127a9c0f4",
       "rows": [
        [
         "Allerton",
         "87.5952380952381",
         "-999.0",
         "-999.0",
         "-999.0",
         "-999.0"
        ],
        [
         "Arden Heights",
         "-999.0",
         "-999.0",
         "-999.0",
         "-999.0",
         "67.25"
        ],
        [
         "Arrochar",
         "-999.0",
         "-999.0",
         "-999.0",
         "-999.0",
         "115.0"
        ],
        [
         "Arverne",
         "-999.0",
         "-999.0",
         "-999.0",
         "171.7792207792208",
         "-999.0"
        ],
        [
         "Astoria",
         "-999.0",
         "-999.0",
         "-999.0",
         "117.18777777777778",
         "-999.0"
        ],
        [
         "Bath Beach",
         "-999.0",
         "81.76470588235294",
         "-999.0",
         "-999.0",
         "-999.0"
        ],
        [
         "Battery Park City",
         "-999.0",
         "-999.0",
         "367.5571428571429",
         "-999.0",
         "-999.0"
        ],
        [
         "Bay Ridge",
         "-999.0",
         "144.43262411347519",
         "-999.0",
         "-999.0",
         "-999.0"
        ],
        [
         "Bay Terrace",
         "-999.0",
         "-999.0",
         "-999.0",
         "142.0",
         "-999.0"
        ],
        [
         "Bay Terrace, Staten Island",
         "-999.0",
         "-999.0",
         "-999.0",
         "-999.0",
         "102.5"
        ],
        [
         "Baychester",
         "75.42857142857143",
         "-999.0",
         "-999.0",
         "-999.0",
         "-999.0"
        ],
        [
         "Bayside",
         "-999.0",
         "-999.0",
         "-999.0",
         "157.94871794871796",
         "-999.0"
        ],
        [
         "Bayswater",
         "-999.0",
         "-999.0",
         "-999.0",
         "87.47058823529412",
         "-999.0"
        ],
        [
         "Bedford-Stuyvesant",
         "-999.0",
         "107.67824448034465",
         "-999.0",
         "-999.0",
         "-999.0"
        ],
        [
         "Belle Harbor",
         "-999.0",
         "-999.0",
         "-999.0",
         "171.5",
         "-999.0"
        ],
        [
         "Bellerose",
         "-999.0",
         "-999.0",
         "-999.0",
         "99.35714285714286",
         "-999.0"
        ],
        [
         "Belmont",
         "77.125",
         "-999.0",
         "-999.0",
         "-999.0",
         "-999.0"
        ],
        [
         "Bensonhurst",
         "-999.0",
         "75.78666666666666",
         "-999.0",
         "-999.0",
         "-999.0"
        ],
        [
         "Bergen Beach",
         "-999.0",
         "106.7",
         "-999.0",
         "-999.0",
         "-999.0"
        ],
        [
         "Boerum Hill",
         "-999.0",
         "176.135593220339",
         "-999.0",
         "-999.0",
         "-999.0"
        ],
        [
         "Borough Park",
         "-999.0",
         "63.06617647058823",
         "-999.0",
         "-999.0",
         "-999.0"
        ],
        [
         "Breezy Point",
         "-999.0",
         "-999.0",
         "-999.0",
         "213.33333333333334",
         "-999.0"
        ],
        [
         "Briarwood",
         "-999.0",
         "-999.0",
         "-999.0",
         "105.875",
         "-999.0"
        ],
        [
         "Brighton Beach",
         "-999.0",
         "131.93333333333334",
         "-999.0",
         "-999.0",
         "-999.0"
        ],
        [
         "Bronxdale",
         "57.10526315789474",
         "-999.0",
         "-999.0",
         "-999.0",
         "-999.0"
        ],
        [
         "Brooklyn Heights",
         "-999.0",
         "209.06493506493507",
         "-999.0",
         "-999.0",
         "-999.0"
        ],
        [
         "Brownsville",
         "-999.0",
         "76.45901639344262",
         "-999.0",
         "-999.0",
         "-999.0"
        ],
        [
         "Bull's Head",
         "-999.0",
         "-999.0",
         "-999.0",
         "-999.0",
         "47.333333333333336"
        ],
        [
         "Bushwick",
         "-999.0",
         "84.80040567951319",
         "-999.0",
         "-999.0",
         "-999.0"
        ],
        [
         "Cambria Heights",
         "-999.0",
         "-999.0",
         "-999.0",
         "81.73076923076923",
         "-999.0"
        ],
        [
         "Canarsie",
         "-999.0",
         "104.36734693877551",
         "-999.0",
         "-999.0",
         "-999.0"
        ],
        [
         "Carroll Gardens",
         "-999.0",
         "175.91416309012877",
         "-999.0",
         "-999.0",
         "-999.0"
        ],
        [
         "Castle Hill",
         "63.0",
         "-999.0",
         "-999.0",
         "-999.0",
         "-999.0"
        ],
        [
         "Castleton Corners",
         "-999.0",
         "-999.0",
         "-999.0",
         "-999.0",
         "139.75"
        ],
        [
         "Chelsea",
         "-999.0",
         "-999.0",
         "249.73854447439354",
         "-999.0",
         "-999.0"
        ],
        [
         "Chinatown",
         "-999.0",
         "-999.0",
         "161.49728260869566",
         "-999.0",
         "-999.0"
        ],
        [
         "City Island",
         "173.0",
         "-999.0",
         "-999.0",
         "-999.0",
         "-999.0"
        ],
        [
         "Civic Center",
         "-999.0",
         "-999.0",
         "191.94230769230768",
         "-999.0",
         "-999.0"
        ],
        [
         "Claremont Village",
         "87.46428571428571",
         "-999.0",
         "-999.0",
         "-999.0",
         "-999.0"
        ],
        [
         "Clason Point",
         "112.76190476190476",
         "-999.0",
         "-999.0",
         "-999.0",
         "-999.0"
        ],
        [
         "Clifton",
         "-999.0",
         "-999.0",
         "-999.0",
         "-999.0",
         "84.93333333333334"
        ],
        [
         "Clinton Hill",
         "-999.0",
         "181.89335664335664",
         "-999.0",
         "-999.0",
         "-999.0"
        ],
        [
         "Co-op City",
         "77.5",
         "-999.0",
         "-999.0",
         "-999.0",
         "-999.0"
        ],
        [
         "Cobble Hill",
         "-999.0",
         "211.92929292929293",
         "-999.0",
         "-999.0",
         "-999.0"
        ],
        [
         "College Point",
         "-999.0",
         "-999.0",
         "-999.0",
         "88.0",
         "-999.0"
        ],
        [
         "Columbia St",
         "-999.0",
         "162.95238095238096",
         "-999.0",
         "-999.0",
         "-999.0"
        ],
        [
         "Concord",
         "-999.0",
         "-999.0",
         "-999.0",
         "-999.0",
         "58.19230769230769"
        ],
        [
         "Concourse",
         "86.18",
         "-999.0",
         "-999.0",
         "-999.0",
         "-999.0"
        ],
        [
         "Concourse Village",
         "73.78125",
         "-999.0",
         "-999.0",
         "-999.0",
         "-999.0"
        ],
        [
         "Coney Island",
         "-999.0",
         "123.70588235294117",
         "-999.0",
         "-999.0",
         "-999.0"
        ]
       ],
       "shape": {
        "columns": 5,
        "rows": 221
       }
      },
      "text/html": [
       "<div>\n",
       "<style scoped>\n",
       "    .dataframe tbody tr th:only-of-type {\n",
       "        vertical-align: middle;\n",
       "    }\n",
       "\n",
       "    .dataframe tbody tr th {\n",
       "        vertical-align: top;\n",
       "    }\n",
       "\n",
       "    .dataframe thead th {\n",
       "        text-align: right;\n",
       "    }\n",
       "</style>\n",
       "<table border=\"1\" class=\"dataframe\">\n",
       "  <thead>\n",
       "    <tr style=\"text-align: right;\">\n",
       "      <th>neighbourhood_group</th>\n",
       "      <th>Bronx</th>\n",
       "      <th>Brooklyn</th>\n",
       "      <th>Manhattan</th>\n",
       "      <th>Queens</th>\n",
       "      <th>Staten Island</th>\n",
       "    </tr>\n",
       "    <tr>\n",
       "      <th>neighbourhood</th>\n",
       "      <th></th>\n",
       "      <th></th>\n",
       "      <th></th>\n",
       "      <th></th>\n",
       "      <th></th>\n",
       "    </tr>\n",
       "  </thead>\n",
       "  <tbody>\n",
       "    <tr>\n",
       "      <th>Allerton</th>\n",
       "      <td>87.595238</td>\n",
       "      <td>-999.000000</td>\n",
       "      <td>-999.0</td>\n",
       "      <td>-999.000000</td>\n",
       "      <td>-999.00</td>\n",
       "    </tr>\n",
       "    <tr>\n",
       "      <th>Arden Heights</th>\n",
       "      <td>-999.000000</td>\n",
       "      <td>-999.000000</td>\n",
       "      <td>-999.0</td>\n",
       "      <td>-999.000000</td>\n",
       "      <td>67.25</td>\n",
       "    </tr>\n",
       "    <tr>\n",
       "      <th>Arrochar</th>\n",
       "      <td>-999.000000</td>\n",
       "      <td>-999.000000</td>\n",
       "      <td>-999.0</td>\n",
       "      <td>-999.000000</td>\n",
       "      <td>115.00</td>\n",
       "    </tr>\n",
       "    <tr>\n",
       "      <th>Arverne</th>\n",
       "      <td>-999.000000</td>\n",
       "      <td>-999.000000</td>\n",
       "      <td>-999.0</td>\n",
       "      <td>171.779221</td>\n",
       "      <td>-999.00</td>\n",
       "    </tr>\n",
       "    <tr>\n",
       "      <th>Astoria</th>\n",
       "      <td>-999.000000</td>\n",
       "      <td>-999.000000</td>\n",
       "      <td>-999.0</td>\n",
       "      <td>117.187778</td>\n",
       "      <td>-999.00</td>\n",
       "    </tr>\n",
       "    <tr>\n",
       "      <th>...</th>\n",
       "      <td>...</td>\n",
       "      <td>...</td>\n",
       "      <td>...</td>\n",
       "      <td>...</td>\n",
       "      <td>...</td>\n",
       "    </tr>\n",
       "    <tr>\n",
       "      <th>Windsor Terrace</th>\n",
       "      <td>-999.000000</td>\n",
       "      <td>138.993631</td>\n",
       "      <td>-999.0</td>\n",
       "      <td>-999.000000</td>\n",
       "      <td>-999.00</td>\n",
       "    </tr>\n",
       "    <tr>\n",
       "      <th>Woodhaven</th>\n",
       "      <td>-999.000000</td>\n",
       "      <td>-999.000000</td>\n",
       "      <td>-999.0</td>\n",
       "      <td>67.170455</td>\n",
       "      <td>-999.00</td>\n",
       "    </tr>\n",
       "    <tr>\n",
       "      <th>Woodlawn</th>\n",
       "      <td>60.090909</td>\n",
       "      <td>-999.000000</td>\n",
       "      <td>-999.0</td>\n",
       "      <td>-999.000000</td>\n",
       "      <td>-999.00</td>\n",
       "    </tr>\n",
       "    <tr>\n",
       "      <th>Woodrow</th>\n",
       "      <td>-999.000000</td>\n",
       "      <td>-999.000000</td>\n",
       "      <td>-999.0</td>\n",
       "      <td>-999.000000</td>\n",
       "      <td>700.00</td>\n",
       "    </tr>\n",
       "    <tr>\n",
       "      <th>Woodside</th>\n",
       "      <td>-999.000000</td>\n",
       "      <td>-999.000000</td>\n",
       "      <td>-999.0</td>\n",
       "      <td>85.097872</td>\n",
       "      <td>-999.00</td>\n",
       "    </tr>\n",
       "  </tbody>\n",
       "</table>\n",
       "<p>221 rows × 5 columns</p>\n",
       "</div>"
      ],
      "text/plain": [
       "neighbourhood_group       Bronx    Brooklyn  Manhattan      Queens  \\\n",
       "neighbourhood                                                        \n",
       "Allerton              87.595238 -999.000000     -999.0 -999.000000   \n",
       "Arden Heights       -999.000000 -999.000000     -999.0 -999.000000   \n",
       "Arrochar            -999.000000 -999.000000     -999.0 -999.000000   \n",
       "Arverne             -999.000000 -999.000000     -999.0  171.779221   \n",
       "Astoria             -999.000000 -999.000000     -999.0  117.187778   \n",
       "...                         ...         ...        ...         ...   \n",
       "Windsor Terrace     -999.000000  138.993631     -999.0 -999.000000   \n",
       "Woodhaven           -999.000000 -999.000000     -999.0   67.170455   \n",
       "Woodlawn              60.090909 -999.000000     -999.0 -999.000000   \n",
       "Woodrow             -999.000000 -999.000000     -999.0 -999.000000   \n",
       "Woodside            -999.000000 -999.000000     -999.0   85.097872   \n",
       "\n",
       "neighbourhood_group  Staten Island  \n",
       "neighbourhood                       \n",
       "Allerton                   -999.00  \n",
       "Arden Heights                67.25  \n",
       "Arrochar                    115.00  \n",
       "Arverne                    -999.00  \n",
       "Astoria                    -999.00  \n",
       "...                            ...  \n",
       "Windsor Terrace            -999.00  \n",
       "Woodhaven                  -999.00  \n",
       "Woodlawn                   -999.00  \n",
       "Woodrow                     700.00  \n",
       "Woodside                   -999.00  \n",
       "\n",
       "[221 rows x 5 columns]"
      ]
     },
     "execution_count": 418,
     "metadata": {},
     "output_type": "execute_result"
    }
   ],
   "source": [
    "df.groupby(['neighbourhood', 'neighbourhood_group']).price.mean().unstack(fill_value=-999) # 내가 쓴 답"
   ]
  },
  {
   "cell_type": "code",
   "execution_count": 419,
   "id": "a867fd29",
   "metadata": {},
   "outputs": [
    {
     "data": {
      "application/vnd.microsoft.datawrangler.viewer.v0+json": {
       "columns": [
        {
         "name": "neighbourhood",
         "rawType": "object",
         "type": "string"
        },
        {
         "name": "Bronx",
         "rawType": "float64",
         "type": "float"
        },
        {
         "name": "Brooklyn",
         "rawType": "float64",
         "type": "float"
        },
        {
         "name": "Manhattan",
         "rawType": "float64",
         "type": "float"
        },
        {
         "name": "Queens",
         "rawType": "float64",
         "type": "float"
        },
        {
         "name": "Staten Island",
         "rawType": "float64",
         "type": "float"
        }
       ],
       "ref": "6cc2314c-26c3-4ceb-b6ae-5a8741a0dcb2",
       "rows": [
        [
         "Allerton",
         "87.5952380952381",
         "-999.0",
         "-999.0",
         "-999.0",
         "-999.0"
        ],
        [
         "Arden Heights",
         "-999.0",
         "-999.0",
         "-999.0",
         "-999.0",
         "67.25"
        ],
        [
         "Arrochar",
         "-999.0",
         "-999.0",
         "-999.0",
         "-999.0",
         "115.0"
        ],
        [
         "Arverne",
         "-999.0",
         "-999.0",
         "-999.0",
         "171.7792207792208",
         "-999.0"
        ]
       ],
       "shape": {
        "columns": 5,
        "rows": 4
       }
      },
      "text/html": [
       "<div>\n",
       "<style scoped>\n",
       "    .dataframe tbody tr th:only-of-type {\n",
       "        vertical-align: middle;\n",
       "    }\n",
       "\n",
       "    .dataframe tbody tr th {\n",
       "        vertical-align: top;\n",
       "    }\n",
       "\n",
       "    .dataframe thead th {\n",
       "        text-align: right;\n",
       "    }\n",
       "</style>\n",
       "<table border=\"1\" class=\"dataframe\">\n",
       "  <thead>\n",
       "    <tr style=\"text-align: right;\">\n",
       "      <th>neighbourhood_group</th>\n",
       "      <th>Bronx</th>\n",
       "      <th>Brooklyn</th>\n",
       "      <th>Manhattan</th>\n",
       "      <th>Queens</th>\n",
       "      <th>Staten Island</th>\n",
       "    </tr>\n",
       "    <tr>\n",
       "      <th>neighbourhood</th>\n",
       "      <th></th>\n",
       "      <th></th>\n",
       "      <th></th>\n",
       "      <th></th>\n",
       "      <th></th>\n",
       "    </tr>\n",
       "  </thead>\n",
       "  <tbody>\n",
       "    <tr>\n",
       "      <th>Allerton</th>\n",
       "      <td>87.595238</td>\n",
       "      <td>-999.0</td>\n",
       "      <td>-999.0</td>\n",
       "      <td>-999.000000</td>\n",
       "      <td>-999.00</td>\n",
       "    </tr>\n",
       "    <tr>\n",
       "      <th>Arden Heights</th>\n",
       "      <td>-999.000000</td>\n",
       "      <td>-999.0</td>\n",
       "      <td>-999.0</td>\n",
       "      <td>-999.000000</td>\n",
       "      <td>67.25</td>\n",
       "    </tr>\n",
       "    <tr>\n",
       "      <th>Arrochar</th>\n",
       "      <td>-999.000000</td>\n",
       "      <td>-999.0</td>\n",
       "      <td>-999.0</td>\n",
       "      <td>-999.000000</td>\n",
       "      <td>115.00</td>\n",
       "    </tr>\n",
       "    <tr>\n",
       "      <th>Arverne</th>\n",
       "      <td>-999.000000</td>\n",
       "      <td>-999.0</td>\n",
       "      <td>-999.0</td>\n",
       "      <td>171.779221</td>\n",
       "      <td>-999.00</td>\n",
       "    </tr>\n",
       "  </tbody>\n",
       "</table>\n",
       "</div>"
      ],
      "text/plain": [
       "neighbourhood_group       Bronx  Brooklyn  Manhattan      Queens  \\\n",
       "neighbourhood                                                      \n",
       "Allerton              87.595238    -999.0     -999.0 -999.000000   \n",
       "Arden Heights       -999.000000    -999.0     -999.0 -999.000000   \n",
       "Arrochar            -999.000000    -999.0     -999.0 -999.000000   \n",
       "Arverne             -999.000000    -999.0     -999.0  171.779221   \n",
       "\n",
       "neighbourhood_group  Staten Island  \n",
       "neighbourhood                       \n",
       "Allerton                   -999.00  \n",
       "Arden Heights                67.25  \n",
       "Arrochar                    115.00  \n",
       "Arverne                    -999.00  "
      ]
     },
     "execution_count": 419,
     "metadata": {},
     "output_type": "execute_result"
    }
   ],
   "source": [
    "Ans = df.groupby(['neighbourhood','neighbourhood_group']).price.mean().unstack().fillna(-999)\n",
    "Ans.head(4) # 데이터마님 답"
   ]
  },
  {
   "cell_type": "markdown",
   "id": "50f8b5fd",
   "metadata": {},
   "source": [
    "## Question 54\n",
    "데이터 중 neighbourhood_group 값이 Queens값을 가지는 데이터들 중 neighbourhood 그룹별로 price값의 평균, 분산, 최대, 최소값을 구하라."
   ]
  },
  {
   "cell_type": "code",
   "execution_count": 420,
   "id": "d702f232",
   "metadata": {},
   "outputs": [
    {
     "data": {
      "application/vnd.microsoft.datawrangler.viewer.v0+json": {
       "columns": [
        {
         "name": "neighbourhood",
         "rawType": "object",
         "type": "string"
        },
        {
         "name": "mean",
         "rawType": "float64",
         "type": "float"
        },
        {
         "name": "var",
         "rawType": "float64",
         "type": "float"
        },
        {
         "name": "max",
         "rawType": "int64",
         "type": "integer"
        },
        {
         "name": "min",
         "rawType": "int64",
         "type": "integer"
        }
       ],
       "ref": "a0c01bd3-3f10-402c-871e-027de7c34aa6",
       "rows": [
        [
         "Arverne",
         "171.7792207792208",
         "37383.41114149011",
         "1500",
         "35"
        ],
        [
         "Astoria",
         "117.18777777777778",
         "122428.81119639099",
         "10000",
         "25"
        ],
        [
         "Bay Terrace",
         "142.0",
         "6816.4",
         "258",
         "32"
        ],
        [
         "Bayside",
         "157.94871794871796",
         "166106.47098515517",
         "2600",
         "30"
        ],
        [
         "Bayswater",
         "87.47058823529412",
         "2330.889705882353",
         "230",
         "45"
        ],
        [
         "Belle Harbor",
         "171.5",
         "8226.57142857143",
         "350",
         "85"
        ],
        [
         "Bellerose",
         "99.35714285714286",
         "3093.0164835164837",
         "240",
         "42"
        ],
        [
         "Breezy Point",
         "213.33333333333334",
         "1008.333333333333",
         "250",
         "195"
        ],
        [
         "Briarwood",
         "105.875",
         "18503.165909090905",
         "1000",
         "30"
        ],
        [
         "Cambria Heights",
         "81.73076923076923",
         "2960.6046153846155",
         "250",
         "31"
        ],
        [
         "College Point",
         "88.0",
         "6445.555555555554",
         "400",
         "44"
        ],
        [
         "Corona",
         "59.171875",
         "2430.5572916666656",
         "359",
         "23"
        ],
        [
         "Ditmars Steinway",
         "95.02912621359224",
         "4214.112785272975",
         "600",
         "22"
        ],
        [
         "Douglaston",
         "82.75",
         "2347.0714285714284",
         "178",
         "40"
        ],
        [
         "East Elmhurst",
         "81.18378378378378",
         "4369.48777908343",
         "700",
         "16"
        ],
        [
         "Edgemere",
         "94.72727272727273",
         "4219.418181818181",
         "200",
         "40"
        ],
        [
         "Elmhurst",
         "80.45991561181435",
         "3896.5630050775944",
         "443",
         "15"
        ],
        [
         "Far Rockaway",
         "165.86206896551724",
         "52575.9802955665",
         "900",
         "35"
        ],
        [
         "Flushing",
         "93.51408450704226",
         "12417.177448218723",
         "1500",
         "15"
        ],
        [
         "Forest Hills",
         "121.625",
         "44533.368881118884",
         "2350",
         "16"
        ],
        [
         "Fresh Meadows",
         "99.5",
         "6394.451612903225",
         "375",
         "39"
        ],
        [
         "Glendale",
         "90.79629629629629",
         "3230.8822501747036",
         "299",
         "25"
        ],
        [
         "Hollis",
         "88.64285714285714",
         "1483.0164835164835",
         "175",
         "50"
        ],
        [
         "Holliswood",
         "135.75",
         "5091.583333333333",
         "239",
         "79"
        ],
        [
         "Howard Beach",
         "115.4",
         "4241.936842105263",
         "250",
         "40"
        ],
        [
         "Jackson Heights",
         "80.89784946236558",
         "2150.470589944783",
         "260",
         "23"
        ],
        [
         "Jamaica",
         "95.77056277056278",
         "8067.047129681907",
         "1000",
         "10"
        ],
        [
         "Jamaica Estates",
         "182.94736842105263",
         "29006.052631578947",
         "750",
         "35"
        ],
        [
         "Jamaica Hills",
         "132.125",
         "11304.69642857143",
         "325",
         "50"
        ],
        [
         "Kew Gardens",
         "88.375",
         "2632.306451612904",
         "219",
         "35"
        ],
        [
         "Kew Gardens Hills",
         "112.3076923076923",
         "6230.621538461538",
         "399",
         "40"
        ],
        [
         "Laurelton",
         "95.33333333333333",
         "4355.529411764706",
         "254",
         "34"
        ],
        [
         "Little Neck",
         "75.2",
         "2368.7",
         "149",
         "32"
        ],
        [
         "Long Island City",
         "127.46554934823091",
         "15529.503008699508",
         "2000",
         "30"
        ],
        [
         "Maspeth",
         "83.64545454545454",
         "2223.6070892410335",
         "245",
         "11"
        ],
        [
         "Middle Village",
         "109.58064516129032",
         "3537.118279569892",
         "265",
         "28"
        ],
        [
         "Neponsit",
         "274.6666666666667",
         "5625.333333333334",
         "350",
         "200"
        ],
        [
         "Ozone Park",
         "85.2741935483871",
         "1705.4153886832364",
         "200",
         "25"
        ],
        [
         "Queens Village",
         "83.93333333333334",
         "2386.470056497175",
         "320",
         "25"
        ],
        [
         "Rego Park",
         "83.87735849056604",
         "3659.0038634321663",
         "300",
         "21"
        ],
        [
         "Richmond Hill",
         "87.11702127659575",
         "3474.1474490963174",
         "300",
         "28"
        ],
        [
         "Ridgewood",
         "77.18439716312056",
         "2629.3118886760094",
         "375",
         "20"
        ],
        [
         "Rockaway Beach",
         "132.17857142857142",
         "6254.622077922079",
         "545",
         "49"
        ],
        [
         "Rosedale",
         "76.69491525423729",
         "2963.9398012857987",
         "350",
         "22"
        ],
        [
         "South Ozone Park",
         "82.4",
         "4619.989743589742",
         "400",
         "29"
        ],
        [
         "Springfield Gardens",
         "94.23529411764706",
         "2490.8487394957974",
         "300",
         "40"
        ],
        [
         "St. Albans",
         "100.82894736842105",
         "9489.903684210529",
         "600",
         "25"
        ],
        [
         "Sunnyside",
         "84.86501377410468",
         "2727.746921753952",
         "600",
         "12"
        ],
        [
         "Whitestone",
         "107.54545454545455",
         "13632.072727272729",
         "400",
         "35"
        ],
        [
         "Woodhaven",
         "67.17045454545455",
         "1642.4648641588299",
         "250",
         "10"
        ]
       ],
       "shape": {
        "columns": 4,
        "rows": 51
       }
      },
      "text/html": [
       "<div>\n",
       "<style scoped>\n",
       "    .dataframe tbody tr th:only-of-type {\n",
       "        vertical-align: middle;\n",
       "    }\n",
       "\n",
       "    .dataframe tbody tr th {\n",
       "        vertical-align: top;\n",
       "    }\n",
       "\n",
       "    .dataframe thead th {\n",
       "        text-align: right;\n",
       "    }\n",
       "</style>\n",
       "<table border=\"1\" class=\"dataframe\">\n",
       "  <thead>\n",
       "    <tr style=\"text-align: right;\">\n",
       "      <th></th>\n",
       "      <th>mean</th>\n",
       "      <th>var</th>\n",
       "      <th>max</th>\n",
       "      <th>min</th>\n",
       "    </tr>\n",
       "    <tr>\n",
       "      <th>neighbourhood</th>\n",
       "      <th></th>\n",
       "      <th></th>\n",
       "      <th></th>\n",
       "      <th></th>\n",
       "    </tr>\n",
       "  </thead>\n",
       "  <tbody>\n",
       "    <tr>\n",
       "      <th>Arverne</th>\n",
       "      <td>171.779221</td>\n",
       "      <td>37383.411141</td>\n",
       "      <td>1500</td>\n",
       "      <td>35</td>\n",
       "    </tr>\n",
       "    <tr>\n",
       "      <th>Astoria</th>\n",
       "      <td>117.187778</td>\n",
       "      <td>122428.811196</td>\n",
       "      <td>10000</td>\n",
       "      <td>25</td>\n",
       "    </tr>\n",
       "    <tr>\n",
       "      <th>Bay Terrace</th>\n",
       "      <td>142.000000</td>\n",
       "      <td>6816.400000</td>\n",
       "      <td>258</td>\n",
       "      <td>32</td>\n",
       "    </tr>\n",
       "    <tr>\n",
       "      <th>Bayside</th>\n",
       "      <td>157.948718</td>\n",
       "      <td>166106.470985</td>\n",
       "      <td>2600</td>\n",
       "      <td>30</td>\n",
       "    </tr>\n",
       "    <tr>\n",
       "      <th>Bayswater</th>\n",
       "      <td>87.470588</td>\n",
       "      <td>2330.889706</td>\n",
       "      <td>230</td>\n",
       "      <td>45</td>\n",
       "    </tr>\n",
       "    <tr>\n",
       "      <th>Belle Harbor</th>\n",
       "      <td>171.500000</td>\n",
       "      <td>8226.571429</td>\n",
       "      <td>350</td>\n",
       "      <td>85</td>\n",
       "    </tr>\n",
       "    <tr>\n",
       "      <th>Bellerose</th>\n",
       "      <td>99.357143</td>\n",
       "      <td>3093.016484</td>\n",
       "      <td>240</td>\n",
       "      <td>42</td>\n",
       "    </tr>\n",
       "    <tr>\n",
       "      <th>Breezy Point</th>\n",
       "      <td>213.333333</td>\n",
       "      <td>1008.333333</td>\n",
       "      <td>250</td>\n",
       "      <td>195</td>\n",
       "    </tr>\n",
       "    <tr>\n",
       "      <th>Briarwood</th>\n",
       "      <td>105.875000</td>\n",
       "      <td>18503.165909</td>\n",
       "      <td>1000</td>\n",
       "      <td>30</td>\n",
       "    </tr>\n",
       "    <tr>\n",
       "      <th>Cambria Heights</th>\n",
       "      <td>81.730769</td>\n",
       "      <td>2960.604615</td>\n",
       "      <td>250</td>\n",
       "      <td>31</td>\n",
       "    </tr>\n",
       "    <tr>\n",
       "      <th>College Point</th>\n",
       "      <td>88.000000</td>\n",
       "      <td>6445.555556</td>\n",
       "      <td>400</td>\n",
       "      <td>44</td>\n",
       "    </tr>\n",
       "    <tr>\n",
       "      <th>Corona</th>\n",
       "      <td>59.171875</td>\n",
       "      <td>2430.557292</td>\n",
       "      <td>359</td>\n",
       "      <td>23</td>\n",
       "    </tr>\n",
       "    <tr>\n",
       "      <th>Ditmars Steinway</th>\n",
       "      <td>95.029126</td>\n",
       "      <td>4214.112785</td>\n",
       "      <td>600</td>\n",
       "      <td>22</td>\n",
       "    </tr>\n",
       "    <tr>\n",
       "      <th>Douglaston</th>\n",
       "      <td>82.750000</td>\n",
       "      <td>2347.071429</td>\n",
       "      <td>178</td>\n",
       "      <td>40</td>\n",
       "    </tr>\n",
       "    <tr>\n",
       "      <th>East Elmhurst</th>\n",
       "      <td>81.183784</td>\n",
       "      <td>4369.487779</td>\n",
       "      <td>700</td>\n",
       "      <td>16</td>\n",
       "    </tr>\n",
       "    <tr>\n",
       "      <th>Edgemere</th>\n",
       "      <td>94.727273</td>\n",
       "      <td>4219.418182</td>\n",
       "      <td>200</td>\n",
       "      <td>40</td>\n",
       "    </tr>\n",
       "    <tr>\n",
       "      <th>Elmhurst</th>\n",
       "      <td>80.459916</td>\n",
       "      <td>3896.563005</td>\n",
       "      <td>443</td>\n",
       "      <td>15</td>\n",
       "    </tr>\n",
       "    <tr>\n",
       "      <th>Far Rockaway</th>\n",
       "      <td>165.862069</td>\n",
       "      <td>52575.980296</td>\n",
       "      <td>900</td>\n",
       "      <td>35</td>\n",
       "    </tr>\n",
       "    <tr>\n",
       "      <th>Flushing</th>\n",
       "      <td>93.514085</td>\n",
       "      <td>12417.177448</td>\n",
       "      <td>1500</td>\n",
       "      <td>15</td>\n",
       "    </tr>\n",
       "    <tr>\n",
       "      <th>Forest Hills</th>\n",
       "      <td>121.625000</td>\n",
       "      <td>44533.368881</td>\n",
       "      <td>2350</td>\n",
       "      <td>16</td>\n",
       "    </tr>\n",
       "    <tr>\n",
       "      <th>Fresh Meadows</th>\n",
       "      <td>99.500000</td>\n",
       "      <td>6394.451613</td>\n",
       "      <td>375</td>\n",
       "      <td>39</td>\n",
       "    </tr>\n",
       "    <tr>\n",
       "      <th>Glendale</th>\n",
       "      <td>90.796296</td>\n",
       "      <td>3230.882250</td>\n",
       "      <td>299</td>\n",
       "      <td>25</td>\n",
       "    </tr>\n",
       "    <tr>\n",
       "      <th>Hollis</th>\n",
       "      <td>88.642857</td>\n",
       "      <td>1483.016484</td>\n",
       "      <td>175</td>\n",
       "      <td>50</td>\n",
       "    </tr>\n",
       "    <tr>\n",
       "      <th>Holliswood</th>\n",
       "      <td>135.750000</td>\n",
       "      <td>5091.583333</td>\n",
       "      <td>239</td>\n",
       "      <td>79</td>\n",
       "    </tr>\n",
       "    <tr>\n",
       "      <th>Howard Beach</th>\n",
       "      <td>115.400000</td>\n",
       "      <td>4241.936842</td>\n",
       "      <td>250</td>\n",
       "      <td>40</td>\n",
       "    </tr>\n",
       "    <tr>\n",
       "      <th>Jackson Heights</th>\n",
       "      <td>80.897849</td>\n",
       "      <td>2150.470590</td>\n",
       "      <td>260</td>\n",
       "      <td>23</td>\n",
       "    </tr>\n",
       "    <tr>\n",
       "      <th>Jamaica</th>\n",
       "      <td>95.770563</td>\n",
       "      <td>8067.047130</td>\n",
       "      <td>1000</td>\n",
       "      <td>10</td>\n",
       "    </tr>\n",
       "    <tr>\n",
       "      <th>Jamaica Estates</th>\n",
       "      <td>182.947368</td>\n",
       "      <td>29006.052632</td>\n",
       "      <td>750</td>\n",
       "      <td>35</td>\n",
       "    </tr>\n",
       "    <tr>\n",
       "      <th>Jamaica Hills</th>\n",
       "      <td>132.125000</td>\n",
       "      <td>11304.696429</td>\n",
       "      <td>325</td>\n",
       "      <td>50</td>\n",
       "    </tr>\n",
       "    <tr>\n",
       "      <th>Kew Gardens</th>\n",
       "      <td>88.375000</td>\n",
       "      <td>2632.306452</td>\n",
       "      <td>219</td>\n",
       "      <td>35</td>\n",
       "    </tr>\n",
       "    <tr>\n",
       "      <th>Kew Gardens Hills</th>\n",
       "      <td>112.307692</td>\n",
       "      <td>6230.621538</td>\n",
       "      <td>399</td>\n",
       "      <td>40</td>\n",
       "    </tr>\n",
       "    <tr>\n",
       "      <th>Laurelton</th>\n",
       "      <td>95.333333</td>\n",
       "      <td>4355.529412</td>\n",
       "      <td>254</td>\n",
       "      <td>34</td>\n",
       "    </tr>\n",
       "    <tr>\n",
       "      <th>Little Neck</th>\n",
       "      <td>75.200000</td>\n",
       "      <td>2368.700000</td>\n",
       "      <td>149</td>\n",
       "      <td>32</td>\n",
       "    </tr>\n",
       "    <tr>\n",
       "      <th>Long Island City</th>\n",
       "      <td>127.465549</td>\n",
       "      <td>15529.503009</td>\n",
       "      <td>2000</td>\n",
       "      <td>30</td>\n",
       "    </tr>\n",
       "    <tr>\n",
       "      <th>Maspeth</th>\n",
       "      <td>83.645455</td>\n",
       "      <td>2223.607089</td>\n",
       "      <td>245</td>\n",
       "      <td>11</td>\n",
       "    </tr>\n",
       "    <tr>\n",
       "      <th>Middle Village</th>\n",
       "      <td>109.580645</td>\n",
       "      <td>3537.118280</td>\n",
       "      <td>265</td>\n",
       "      <td>28</td>\n",
       "    </tr>\n",
       "    <tr>\n",
       "      <th>Neponsit</th>\n",
       "      <td>274.666667</td>\n",
       "      <td>5625.333333</td>\n",
       "      <td>350</td>\n",
       "      <td>200</td>\n",
       "    </tr>\n",
       "    <tr>\n",
       "      <th>Ozone Park</th>\n",
       "      <td>85.274194</td>\n",
       "      <td>1705.415389</td>\n",
       "      <td>200</td>\n",
       "      <td>25</td>\n",
       "    </tr>\n",
       "    <tr>\n",
       "      <th>Queens Village</th>\n",
       "      <td>83.933333</td>\n",
       "      <td>2386.470056</td>\n",
       "      <td>320</td>\n",
       "      <td>25</td>\n",
       "    </tr>\n",
       "    <tr>\n",
       "      <th>Rego Park</th>\n",
       "      <td>83.877358</td>\n",
       "      <td>3659.003863</td>\n",
       "      <td>300</td>\n",
       "      <td>21</td>\n",
       "    </tr>\n",
       "    <tr>\n",
       "      <th>Richmond Hill</th>\n",
       "      <td>87.117021</td>\n",
       "      <td>3474.147449</td>\n",
       "      <td>300</td>\n",
       "      <td>28</td>\n",
       "    </tr>\n",
       "    <tr>\n",
       "      <th>Ridgewood</th>\n",
       "      <td>77.184397</td>\n",
       "      <td>2629.311889</td>\n",
       "      <td>375</td>\n",
       "      <td>20</td>\n",
       "    </tr>\n",
       "    <tr>\n",
       "      <th>Rockaway Beach</th>\n",
       "      <td>132.178571</td>\n",
       "      <td>6254.622078</td>\n",
       "      <td>545</td>\n",
       "      <td>49</td>\n",
       "    </tr>\n",
       "    <tr>\n",
       "      <th>Rosedale</th>\n",
       "      <td>76.694915</td>\n",
       "      <td>2963.939801</td>\n",
       "      <td>350</td>\n",
       "      <td>22</td>\n",
       "    </tr>\n",
       "    <tr>\n",
       "      <th>South Ozone Park</th>\n",
       "      <td>82.400000</td>\n",
       "      <td>4619.989744</td>\n",
       "      <td>400</td>\n",
       "      <td>29</td>\n",
       "    </tr>\n",
       "    <tr>\n",
       "      <th>Springfield Gardens</th>\n",
       "      <td>94.235294</td>\n",
       "      <td>2490.848739</td>\n",
       "      <td>300</td>\n",
       "      <td>40</td>\n",
       "    </tr>\n",
       "    <tr>\n",
       "      <th>St. Albans</th>\n",
       "      <td>100.828947</td>\n",
       "      <td>9489.903684</td>\n",
       "      <td>600</td>\n",
       "      <td>25</td>\n",
       "    </tr>\n",
       "    <tr>\n",
       "      <th>Sunnyside</th>\n",
       "      <td>84.865014</td>\n",
       "      <td>2727.746922</td>\n",
       "      <td>600</td>\n",
       "      <td>12</td>\n",
       "    </tr>\n",
       "    <tr>\n",
       "      <th>Whitestone</th>\n",
       "      <td>107.545455</td>\n",
       "      <td>13632.072727</td>\n",
       "      <td>400</td>\n",
       "      <td>35</td>\n",
       "    </tr>\n",
       "    <tr>\n",
       "      <th>Woodhaven</th>\n",
       "      <td>67.170455</td>\n",
       "      <td>1642.464864</td>\n",
       "      <td>250</td>\n",
       "      <td>10</td>\n",
       "    </tr>\n",
       "    <tr>\n",
       "      <th>Woodside</th>\n",
       "      <td>85.097872</td>\n",
       "      <td>5001.900636</td>\n",
       "      <td>500</td>\n",
       "      <td>28</td>\n",
       "    </tr>\n",
       "  </tbody>\n",
       "</table>\n",
       "</div>"
      ],
      "text/plain": [
       "                           mean            var    max  min\n",
       "neighbourhood                                             \n",
       "Arverne              171.779221   37383.411141   1500   35\n",
       "Astoria              117.187778  122428.811196  10000   25\n",
       "Bay Terrace          142.000000    6816.400000    258   32\n",
       "Bayside              157.948718  166106.470985   2600   30\n",
       "Bayswater             87.470588    2330.889706    230   45\n",
       "Belle Harbor         171.500000    8226.571429    350   85\n",
       "Bellerose             99.357143    3093.016484    240   42\n",
       "Breezy Point         213.333333    1008.333333    250  195\n",
       "Briarwood            105.875000   18503.165909   1000   30\n",
       "Cambria Heights       81.730769    2960.604615    250   31\n",
       "College Point         88.000000    6445.555556    400   44\n",
       "Corona                59.171875    2430.557292    359   23\n",
       "Ditmars Steinway      95.029126    4214.112785    600   22\n",
       "Douglaston            82.750000    2347.071429    178   40\n",
       "East Elmhurst         81.183784    4369.487779    700   16\n",
       "Edgemere              94.727273    4219.418182    200   40\n",
       "Elmhurst              80.459916    3896.563005    443   15\n",
       "Far Rockaway         165.862069   52575.980296    900   35\n",
       "Flushing              93.514085   12417.177448   1500   15\n",
       "Forest Hills         121.625000   44533.368881   2350   16\n",
       "Fresh Meadows         99.500000    6394.451613    375   39\n",
       "Glendale              90.796296    3230.882250    299   25\n",
       "Hollis                88.642857    1483.016484    175   50\n",
       "Holliswood           135.750000    5091.583333    239   79\n",
       "Howard Beach         115.400000    4241.936842    250   40\n",
       "Jackson Heights       80.897849    2150.470590    260   23\n",
       "Jamaica               95.770563    8067.047130   1000   10\n",
       "Jamaica Estates      182.947368   29006.052632    750   35\n",
       "Jamaica Hills        132.125000   11304.696429    325   50\n",
       "Kew Gardens           88.375000    2632.306452    219   35\n",
       "Kew Gardens Hills    112.307692    6230.621538    399   40\n",
       "Laurelton             95.333333    4355.529412    254   34\n",
       "Little Neck           75.200000    2368.700000    149   32\n",
       "Long Island City     127.465549   15529.503009   2000   30\n",
       "Maspeth               83.645455    2223.607089    245   11\n",
       "Middle Village       109.580645    3537.118280    265   28\n",
       "Neponsit             274.666667    5625.333333    350  200\n",
       "Ozone Park            85.274194    1705.415389    200   25\n",
       "Queens Village        83.933333    2386.470056    320   25\n",
       "Rego Park             83.877358    3659.003863    300   21\n",
       "Richmond Hill         87.117021    3474.147449    300   28\n",
       "Ridgewood             77.184397    2629.311889    375   20\n",
       "Rockaway Beach       132.178571    6254.622078    545   49\n",
       "Rosedale              76.694915    2963.939801    350   22\n",
       "South Ozone Park      82.400000    4619.989744    400   29\n",
       "Springfield Gardens   94.235294    2490.848739    300   40\n",
       "St. Albans           100.828947    9489.903684    600   25\n",
       "Sunnyside             84.865014    2727.746922    600   12\n",
       "Whitestone           107.545455   13632.072727    400   35\n",
       "Woodhaven             67.170455    1642.464864    250   10\n",
       "Woodside              85.097872    5001.900636    500   28"
      ]
     },
     "execution_count": 420,
     "metadata": {},
     "output_type": "execute_result"
    }
   ],
   "source": [
    "df[df.neighbourhood_group == 'Queens'].groupby(['neighbourhood']).price.agg(['mean', 'var', 'max', 'min'])"
   ]
  },
  {
   "cell_type": "markdown",
   "id": "3ab80fff",
   "metadata": {},
   "source": [
    "## Question 55\n",
    "데이터 중 neighbourhood_group 값에 따른 room_type 컬럼의 숫자를 구하고 neighbourhood_group 값을 기준으로 각 값의 비율을 구하여라."
   ]
  },
  {
   "cell_type": "code",
   "execution_count": 421,
   "id": "0649c870",
   "metadata": {},
   "outputs": [
    {
     "data": {
      "application/vnd.microsoft.datawrangler.viewer.v0+json": {
       "columns": [
        {
         "name": "neighbourhood_group",
         "rawType": "object",
         "type": "string"
        },
        {
         "name": "Entire home/apt",
         "rawType": "int64",
         "type": "integer"
        },
        {
         "name": "Private room",
         "rawType": "int64",
         "type": "integer"
        },
        {
         "name": "Shared room",
         "rawType": "int64",
         "type": "integer"
        }
       ],
       "ref": "02a04033-c187-48fc-a87a-a32f4e062b83",
       "rows": [
        [
         "Bronx",
         "379",
         "652",
         "60"
        ],
        [
         "Brooklyn",
         "9559",
         "10132",
         "413"
        ],
        [
         "Manhattan",
         "13199",
         "7982",
         "480"
        ],
        [
         "Queens",
         "2096",
         "3372",
         "198"
        ],
        [
         "Staten Island",
         "176",
         "188",
         "9"
        ]
       ],
       "shape": {
        "columns": 3,
        "rows": 5
       }
      },
      "text/html": [
       "<div>\n",
       "<style scoped>\n",
       "    .dataframe tbody tr th:only-of-type {\n",
       "        vertical-align: middle;\n",
       "    }\n",
       "\n",
       "    .dataframe tbody tr th {\n",
       "        vertical-align: top;\n",
       "    }\n",
       "\n",
       "    .dataframe thead th {\n",
       "        text-align: right;\n",
       "    }\n",
       "</style>\n",
       "<table border=\"1\" class=\"dataframe\">\n",
       "  <thead>\n",
       "    <tr style=\"text-align: right;\">\n",
       "      <th>room_type</th>\n",
       "      <th>Entire home/apt</th>\n",
       "      <th>Private room</th>\n",
       "      <th>Shared room</th>\n",
       "    </tr>\n",
       "    <tr>\n",
       "      <th>neighbourhood_group</th>\n",
       "      <th></th>\n",
       "      <th></th>\n",
       "      <th></th>\n",
       "    </tr>\n",
       "  </thead>\n",
       "  <tbody>\n",
       "    <tr>\n",
       "      <th>Bronx</th>\n",
       "      <td>379</td>\n",
       "      <td>652</td>\n",
       "      <td>60</td>\n",
       "    </tr>\n",
       "    <tr>\n",
       "      <th>Brooklyn</th>\n",
       "      <td>9559</td>\n",
       "      <td>10132</td>\n",
       "      <td>413</td>\n",
       "    </tr>\n",
       "    <tr>\n",
       "      <th>Manhattan</th>\n",
       "      <td>13199</td>\n",
       "      <td>7982</td>\n",
       "      <td>480</td>\n",
       "    </tr>\n",
       "    <tr>\n",
       "      <th>Queens</th>\n",
       "      <td>2096</td>\n",
       "      <td>3372</td>\n",
       "      <td>198</td>\n",
       "    </tr>\n",
       "    <tr>\n",
       "      <th>Staten Island</th>\n",
       "      <td>176</td>\n",
       "      <td>188</td>\n",
       "      <td>9</td>\n",
       "    </tr>\n",
       "  </tbody>\n",
       "</table>\n",
       "</div>"
      ],
      "text/plain": [
       "room_type            Entire home/apt  Private room  Shared room\n",
       "neighbourhood_group                                            \n",
       "Bronx                            379           652           60\n",
       "Brooklyn                        9559         10132          413\n",
       "Manhattan                      13199          7982          480\n",
       "Queens                          2096          3372          198\n",
       "Staten Island                    176           188            9"
      ]
     },
     "execution_count": 421,
     "metadata": {},
     "output_type": "execute_result"
    }
   ],
   "source": [
    "df_room_type = df.groupby(['neighbourhood_group', 'room_type']).size().unstack()\n",
    "df_room_type"
   ]
  },
  {
   "cell_type": "code",
   "execution_count": 422,
   "id": "abd46c95",
   "metadata": {},
   "outputs": [
    {
     "data": {
      "application/vnd.microsoft.datawrangler.viewer.v0+json": {
       "columns": [
        {
         "name": "neighbourhood_group",
         "rawType": "object",
         "type": "string"
        },
        {
         "name": "Entire home/apt",
         "rawType": "float64",
         "type": "float"
        },
        {
         "name": "Private room",
         "rawType": "float64",
         "type": "float"
        },
        {
         "name": "Shared room",
         "rawType": "float64",
         "type": "float"
        }
       ],
       "ref": "fbdcc1a4-66ca-4e5b-868a-c962a27f82fb",
       "rows": [
        [
         "Bronx",
         "0.3473877176901925",
         "0.5976168652612283",
         "0.054995417048579284"
        ],
        [
         "Brooklyn",
         "0.4754775169120573",
         "0.5039793076004775",
         "0.02054317548746518"
        ],
        [
         "Manhattan",
         "0.6093439822722866",
         "0.3684963759752551",
         "0.022159641752458336"
        ],
        [
         "Queens",
         "0.36992587363219204",
         "0.5951288386869044",
         "0.03494528768090364"
        ],
        [
         "Staten Island",
         "0.4718498659517426",
         "0.5040214477211796",
         "0.024128686327077747"
        ]
       ],
       "shape": {
        "columns": 3,
        "rows": 5
       }
      },
      "text/html": [
       "<div>\n",
       "<style scoped>\n",
       "    .dataframe tbody tr th:only-of-type {\n",
       "        vertical-align: middle;\n",
       "    }\n",
       "\n",
       "    .dataframe tbody tr th {\n",
       "        vertical-align: top;\n",
       "    }\n",
       "\n",
       "    .dataframe thead th {\n",
       "        text-align: right;\n",
       "    }\n",
       "</style>\n",
       "<table border=\"1\" class=\"dataframe\">\n",
       "  <thead>\n",
       "    <tr style=\"text-align: right;\">\n",
       "      <th>room_type</th>\n",
       "      <th>Entire home/apt</th>\n",
       "      <th>Private room</th>\n",
       "      <th>Shared room</th>\n",
       "    </tr>\n",
       "    <tr>\n",
       "      <th>neighbourhood_group</th>\n",
       "      <th></th>\n",
       "      <th></th>\n",
       "      <th></th>\n",
       "    </tr>\n",
       "  </thead>\n",
       "  <tbody>\n",
       "    <tr>\n",
       "      <th>Bronx</th>\n",
       "      <td>0.347388</td>\n",
       "      <td>0.597617</td>\n",
       "      <td>0.054995</td>\n",
       "    </tr>\n",
       "    <tr>\n",
       "      <th>Brooklyn</th>\n",
       "      <td>0.475478</td>\n",
       "      <td>0.503979</td>\n",
       "      <td>0.020543</td>\n",
       "    </tr>\n",
       "    <tr>\n",
       "      <th>Manhattan</th>\n",
       "      <td>0.609344</td>\n",
       "      <td>0.368496</td>\n",
       "      <td>0.022160</td>\n",
       "    </tr>\n",
       "    <tr>\n",
       "      <th>Queens</th>\n",
       "      <td>0.369926</td>\n",
       "      <td>0.595129</td>\n",
       "      <td>0.034945</td>\n",
       "    </tr>\n",
       "    <tr>\n",
       "      <th>Staten Island</th>\n",
       "      <td>0.471850</td>\n",
       "      <td>0.504021</td>\n",
       "      <td>0.024129</td>\n",
       "    </tr>\n",
       "  </tbody>\n",
       "</table>\n",
       "</div>"
      ],
      "text/plain": [
       "room_type            Entire home/apt  Private room  Shared room\n",
       "neighbourhood_group                                            \n",
       "Bronx                       0.347388      0.597617     0.054995\n",
       "Brooklyn                    0.475478      0.503979     0.020543\n",
       "Manhattan                   0.609344      0.368496     0.022160\n",
       "Queens                      0.369926      0.595129     0.034945\n",
       "Staten Island               0.471850      0.504021     0.024129"
      ]
     },
     "execution_count": 422,
     "metadata": {},
     "output_type": "execute_result"
    }
   ],
   "source": [
    "df_room_type.div(df_room_type.sum(axis=1), axis=0) # 내가 쓴 답, 문제가 복잡해서 좀 어려웠네요.."
   ]
  },
  {
   "cell_type": "code",
   "execution_count": 423,
   "id": "519f1edc",
   "metadata": {},
   "outputs": [
    {
     "data": {
      "application/vnd.microsoft.datawrangler.viewer.v0+json": {
       "columns": [
        {
         "name": "neighbourhood_group",
         "rawType": "object",
         "type": "string"
        },
        {
         "name": "Entire home/apt",
         "rawType": "float64",
         "type": "float"
        },
        {
         "name": "Private room",
         "rawType": "float64",
         "type": "float"
        },
        {
         "name": "Shared room",
         "rawType": "float64",
         "type": "float"
        }
       ],
       "ref": "63ea4842-3680-47ee-9c44-a6207ffc47c6",
       "rows": [
        [
         "Bronx",
         "0.3473877176901925",
         "0.5976168652612283",
         "0.054995417048579284"
        ],
        [
         "Brooklyn",
         "0.4754775169120573",
         "0.5039793076004775",
         "0.02054317548746518"
        ],
        [
         "Manhattan",
         "0.6093439822722866",
         "0.3684963759752551",
         "0.022159641752458336"
        ],
        [
         "Queens",
         "0.36992587363219204",
         "0.5951288386869044",
         "0.03494528768090364"
        ],
        [
         "Staten Island",
         "0.4718498659517426",
         "0.5040214477211796",
         "0.024128686327077747"
        ]
       ],
       "shape": {
        "columns": 3,
        "rows": 5
       }
      },
      "text/html": [
       "<div>\n",
       "<style scoped>\n",
       "    .dataframe tbody tr th:only-of-type {\n",
       "        vertical-align: middle;\n",
       "    }\n",
       "\n",
       "    .dataframe tbody tr th {\n",
       "        vertical-align: top;\n",
       "    }\n",
       "\n",
       "    .dataframe thead th {\n",
       "        text-align: right;\n",
       "    }\n",
       "</style>\n",
       "<table border=\"1\" class=\"dataframe\">\n",
       "  <thead>\n",
       "    <tr style=\"text-align: right;\">\n",
       "      <th>room_type</th>\n",
       "      <th>Entire home/apt</th>\n",
       "      <th>Private room</th>\n",
       "      <th>Shared room</th>\n",
       "    </tr>\n",
       "    <tr>\n",
       "      <th>neighbourhood_group</th>\n",
       "      <th></th>\n",
       "      <th></th>\n",
       "      <th></th>\n",
       "    </tr>\n",
       "  </thead>\n",
       "  <tbody>\n",
       "    <tr>\n",
       "      <th>Bronx</th>\n",
       "      <td>0.347388</td>\n",
       "      <td>0.597617</td>\n",
       "      <td>0.054995</td>\n",
       "    </tr>\n",
       "    <tr>\n",
       "      <th>Brooklyn</th>\n",
       "      <td>0.475478</td>\n",
       "      <td>0.503979</td>\n",
       "      <td>0.020543</td>\n",
       "    </tr>\n",
       "    <tr>\n",
       "      <th>Manhattan</th>\n",
       "      <td>0.609344</td>\n",
       "      <td>0.368496</td>\n",
       "      <td>0.022160</td>\n",
       "    </tr>\n",
       "    <tr>\n",
       "      <th>Queens</th>\n",
       "      <td>0.369926</td>\n",
       "      <td>0.595129</td>\n",
       "      <td>0.034945</td>\n",
       "    </tr>\n",
       "    <tr>\n",
       "      <th>Staten Island</th>\n",
       "      <td>0.471850</td>\n",
       "      <td>0.504021</td>\n",
       "      <td>0.024129</td>\n",
       "    </tr>\n",
       "  </tbody>\n",
       "</table>\n",
       "</div>"
      ],
      "text/plain": [
       "room_type            Entire home/apt  Private room  Shared room\n",
       "neighbourhood_group                                            \n",
       "Bronx                       0.347388      0.597617     0.054995\n",
       "Brooklyn                    0.475478      0.503979     0.020543\n",
       "Manhattan                   0.609344      0.368496     0.022160\n",
       "Queens                      0.369926      0.595129     0.034945\n",
       "Staten Island               0.471850      0.504021     0.024129"
      ]
     },
     "execution_count": 423,
     "metadata": {},
     "output_type": "execute_result"
    }
   ],
   "source": [
    "Ans = df[['neighbourhood_group','room_type']].groupby(['neighbourhood_group','room_type']).size().unstack()\n",
    "Ans.loc[:,:] = (Ans.values /Ans.sum(axis=1).values.reshape(-1,1))\n",
    "Ans # 데이터마님 답"
   ]
  },
  {
   "cell_type": "markdown",
   "id": "71f58ae8",
   "metadata": {},
   "source": [
    "# 04_Apply, Map\n",
    "카드이용데이터 : https://www.kaggle.com/sakshigoyal7/credit-card-customers <br>\n",
    "DataUrl = ‘https://raw.githubusercontent.com/Datamanim/pandas/main/BankChurnersUp.csv’"
   ]
  },
  {
   "cell_type": "markdown",
   "id": "87a805ab",
   "metadata": {},
   "source": [
    "## Question 56\n",
    "데이터를 로드하고 데이터 행과 열의 갯수를 출력하라."
   ]
  },
  {
   "cell_type": "code",
   "execution_count": 424,
   "id": "509bb69f",
   "metadata": {},
   "outputs": [
    {
     "data": {
      "text/plain": [
       "(10127, 19)"
      ]
     },
     "execution_count": 424,
     "metadata": {},
     "output_type": "execute_result"
    }
   ],
   "source": [
    "DataUrl = 'https://raw.githubusercontent.com/Datamanim/pandas/main/BankChurnersUp.csv'\n",
    "df = pd.read_csv(DataUrl)\n",
    "df.shape"
   ]
  },
  {
   "cell_type": "markdown",
   "id": "d65f4584",
   "metadata": {},
   "source": [
    "## Question 57\n",
    "Income_Category의 카테고리를 map 함수를 이용하여 다음과 같이 변경하여 newIncome 컬럼에 매핑하라.<br>\n",
    "Unknown : N<br>\n",
    "Less than $40K : a<br>\n",
    "$40K - $60K : b<br>\n",
    "$60K - $80K : c<br>\n",
    "$80K - $120K : d<br>\n",
    "$120K + : e"
   ]
  },
  {
   "cell_type": "code",
   "execution_count": 425,
   "id": "404f6c6b",
   "metadata": {},
   "outputs": [
    {
     "data": {
      "application/vnd.microsoft.datawrangler.viewer.v0+json": {
       "columns": [
        {
         "name": "index",
         "rawType": "int64",
         "type": "integer"
        },
        {
         "name": "newIncome",
         "rawType": "object",
         "type": "string"
        }
       ],
       "ref": "4a3b8059-9751-4958-8405-fc69f1dbdb2f",
       "rows": [
        [
         "0",
         "c"
        ],
        [
         "1",
         "a"
        ],
        [
         "2",
         "d"
        ],
        [
         "3",
         "a"
        ]
       ],
       "shape": {
        "columns": 1,
        "rows": 4
       }
      },
      "text/plain": [
       "0    c\n",
       "1    a\n",
       "2    d\n",
       "3    a\n",
       "Name: newIncome, dtype: object"
      ]
     },
     "execution_count": 425,
     "metadata": {},
     "output_type": "execute_result"
    }
   ],
   "source": [
    "income = {\n",
    "    'Unknown' : 'N',\n",
    "    'Less than $40K' : 'a',\n",
    "    '$40K - $60K' : 'b',\n",
    "    '$60K - $80K' : 'c',\n",
    "    '$80K - $120K' : 'd',\n",
    "    '$120K +' : 'e'  \n",
    "}\n",
    "df['newIncome'] = df.Income_Category.map(income)\n",
    "df['newIncome'].head(4) # 내가 쓴 답"
   ]
  },
  {
   "cell_type": "code",
   "execution_count": 426,
   "id": "2dacfe28",
   "metadata": {},
   "outputs": [
    {
     "data": {
      "application/vnd.microsoft.datawrangler.viewer.v0+json": {
       "columns": [
        {
         "name": "index",
         "rawType": "int64",
         "type": "integer"
        },
        {
         "name": "newIncome",
         "rawType": "object",
         "type": "string"
        }
       ],
       "ref": "11b1ab01-41b3-447a-a703-10e4f53e703b",
       "rows": [
        [
         "0",
         "c"
        ],
        [
         "1",
         "a"
        ],
        [
         "2",
         "d"
        ],
        [
         "3",
         "a"
        ]
       ],
       "shape": {
        "columns": 1,
        "rows": 4
       }
      },
      "text/plain": [
       "0    c\n",
       "1    a\n",
       "2    d\n",
       "3    a\n",
       "Name: newIncome, dtype: object"
      ]
     },
     "execution_count": 426,
     "metadata": {},
     "output_type": "execute_result"
    }
   ],
   "source": [
    "dic = {\n",
    "    'Unknown'        : 'N',\n",
    "    'Less than $40K' : 'a',\n",
    "    '$40K - $60K'    : 'b',\n",
    "    '$60K - $80K'    : 'c',\n",
    "    '$80K - $120K'   : 'd',\n",
    "    '$120K +'        : 'e'   \n",
    "}\n",
    "\n",
    "df['newIncome']  =df.Income_Category.map(lambda x: dic[x])\n",
    "\n",
    "Ans = df['newIncome']\n",
    "Ans.head(4) # 데이터마님 답"
   ]
  },
  {
   "cell_type": "markdown",
   "id": "43e4c5a4",
   "metadata": {},
   "source": [
    "## Question 58\n",
    "Income_Category의 카테고리를 apply 함수를 이용하여 다음과 같이 변경하여 newIncome 컬럼에 매핑하라.<br>\n",
    "Unknown : N<br>\n",
    "Less than $40K : a<br>\n",
    "$40K - $60K : b<br>\n",
    "$60K - $80K : c<br>\n",
    "$80K - $120K : d<br>\n",
    "$120K +’ : e<br>"
   ]
  },
  {
   "cell_type": "code",
   "execution_count": 427,
   "id": "045d9b72",
   "metadata": {},
   "outputs": [
    {
     "data": {
      "application/vnd.microsoft.datawrangler.viewer.v0+json": {
       "columns": [
        {
         "name": "index",
         "rawType": "int64",
         "type": "integer"
        },
        {
         "name": "newIncome",
         "rawType": "object",
         "type": "string"
        }
       ],
       "ref": "51337a48-7a26-482e-b517-9dc3d92f157b",
       "rows": [
        [
         "0",
         "c"
        ],
        [
         "1",
         "a"
        ],
        [
         "2",
         "d"
        ],
        [
         "3",
         "a"
        ]
       ],
       "shape": {
        "columns": 1,
        "rows": 4
       }
      },
      "text/plain": [
       "0    c\n",
       "1    a\n",
       "2    d\n",
       "3    a\n",
       "Name: newIncome, dtype: object"
      ]
     },
     "execution_count": 427,
     "metadata": {},
     "output_type": "execute_result"
    }
   ],
   "source": [
    "def Income(x) :\n",
    "    if x == 'Unknown':\n",
    "        return 'N'\n",
    "    elif x == 'Less than $40K':\n",
    "        return 'a'\n",
    "    elif x == '$40K - $60K':\n",
    "        return 'b'\n",
    "    elif x == '$60K - $80K':\n",
    "        return 'c'\n",
    "    elif x == '$80K - $120K':\n",
    "        return 'd'\n",
    "    elif x == '$120K +':\n",
    "        return 'e'\n",
    "    \n",
    "df['newIncome'] = df['Income_Category'].apply(Income)\n",
    "df['newIncome'].head(4)"
   ]
  },
  {
   "cell_type": "markdown",
   "id": "299ffe4f",
   "metadata": {},
   "source": [
    "## Question 59\n",
    "Customer_Age의 값을 이용하여 나이 구간을 AgeState 컬럼으로 정의하라. (0~9 : 0 , 10~19 :10 , 20~29 :20 … 각 구간의 빈도수를 출력하라."
   ]
  },
  {
   "cell_type": "code",
   "execution_count": 428,
   "id": "da772668",
   "metadata": {},
   "outputs": [
    {
     "data": {
      "application/vnd.microsoft.datawrangler.viewer.v0+json": {
       "columns": [
        {
         "name": "AgeState",
         "rawType": "int64",
         "type": "integer"
        },
        {
         "name": "count",
         "rawType": "int64",
         "type": "integer"
        }
       ],
       "ref": "eaddaaa2-88db-42aa-9f4e-8b95c9c0345c",
       "rows": [
        [
         "20",
         "195"
        ],
        [
         "30",
         "1841"
        ],
        [
         "40",
         "4561"
        ],
        [
         "50",
         "2998"
        ],
        [
         "60",
         "530"
        ],
        [
         "70",
         "2"
        ]
       ],
       "shape": {
        "columns": 1,
        "rows": 6
       }
      },
      "text/plain": [
       "AgeState\n",
       "20     195\n",
       "30    1841\n",
       "40    4561\n",
       "50    2998\n",
       "60     530\n",
       "70       2\n",
       "Name: count, dtype: int64"
      ]
     },
     "execution_count": 428,
     "metadata": {},
     "output_type": "execute_result"
    }
   ],
   "source": [
    "df['AgeState'] = df['Customer_Age'].map(lambda x : (x // 10) * 10)\n",
    "df['AgeState'].value_counts().sort_index()"
   ]
  },
  {
   "cell_type": "markdown",
   "id": "02b7d548",
   "metadata": {},
   "source": [
    "## Question 60\n",
    "Education_Level의 값중 Graduate단어가 포함되는 값은 1 그렇지 않은 경우에는 0으로 변경하여 newEduLevel 컬럼을 정의하고 빈도수를 출력하라."
   ]
  },
  {
   "cell_type": "code",
   "execution_count": 429,
   "id": "6f7e9526",
   "metadata": {},
   "outputs": [
    {
     "data": {
      "application/vnd.microsoft.datawrangler.viewer.v0+json": {
       "columns": [
        {
         "name": "newEduLevel",
         "rawType": "int64",
         "type": "integer"
        },
        {
         "name": "count",
         "rawType": "int64",
         "type": "integer"
        }
       ],
       "ref": "76c0bf31-363f-48d9-a570-5470307abf3e",
       "rows": [
        [
         "0",
         "6483"
        ],
        [
         "1",
         "3644"
        ]
       ],
       "shape": {
        "columns": 1,
        "rows": 2
       }
      },
      "text/plain": [
       "newEduLevel\n",
       "0    6483\n",
       "1    3644\n",
       "Name: count, dtype: int64"
      ]
     },
     "execution_count": 429,
     "metadata": {},
     "output_type": "execute_result"
    }
   ],
   "source": [
    "df['newEduLevel'] = df.Education_Level.map(lambda x : 1 if 'Graduate' in x else 0)\n",
    "df['newEduLevel'].value_counts()"
   ]
  },
  {
   "cell_type": "markdown",
   "id": "964c1bea",
   "metadata": {},
   "source": [
    "## Question 61\n",
    "Credit_Limit 컬럼값이 4500 이상인 경우 1 그외의 경우에는 모두 0으로 하는 newLimit 정의하라. newLimit 각 값들의 빈도수를 출력하라."
   ]
  },
  {
   "cell_type": "code",
   "execution_count": 430,
   "id": "85b63be8",
   "metadata": {},
   "outputs": [
    {
     "data": {
      "application/vnd.microsoft.datawrangler.viewer.v0+json": {
       "columns": [
        {
         "name": "newLimit",
         "rawType": "int64",
         "type": "integer"
        },
        {
         "name": "count",
         "rawType": "int64",
         "type": "integer"
        }
       ],
       "ref": "80022537-ceb9-45f6-9ecf-211e55804398",
       "rows": [
        [
         "1",
         "5096"
        ],
        [
         "0",
         "5031"
        ]
       ],
       "shape": {
        "columns": 1,
        "rows": 2
       }
      },
      "text/plain": [
       "newLimit\n",
       "1    5096\n",
       "0    5031\n",
       "Name: count, dtype: int64"
      ]
     },
     "execution_count": 430,
     "metadata": {},
     "output_type": "execute_result"
    }
   ],
   "source": [
    "df['newLimit'] = df['Credit_Limit'].map(lambda x : 1 if x >= 4500 else 0 )\n",
    "df['newLimit'].value_counts()"
   ]
  },
  {
   "cell_type": "markdown",
   "id": "5eccf0ae",
   "metadata": {},
   "source": [
    "## Question 62\n",
    "Marital_Status 컬럼값이 Married 이고 Card_Category 컬럼의 값이 Platinum인 경우 1 그외의 경우에는 모두 0으로 하는 newState컬럼을 정의하라.<br>\n",
    "newState의 각 값들의 빈도수를 출력하라."
   ]
  },
  {
   "cell_type": "code",
   "execution_count": 431,
   "id": "caf8b64b",
   "metadata": {},
   "outputs": [
    {
     "data": {
      "application/vnd.microsoft.datawrangler.viewer.v0+json": {
       "columns": [
        {
         "name": "newState",
         "rawType": "int64",
         "type": "integer"
        },
        {
         "name": "count",
         "rawType": "int64",
         "type": "integer"
        }
       ],
       "ref": "046868a5-3690-4545-9aa9-596627891f2a",
       "rows": [
        [
         "0",
         "10120"
        ],
        [
         "1",
         "7"
        ]
       ],
       "shape": {
        "columns": 1,
        "rows": 2
       }
      },
      "text/plain": [
       "newState\n",
       "0    10120\n",
       "1        7\n",
       "Name: count, dtype: int64"
      ]
     },
     "execution_count": 431,
     "metadata": {},
     "output_type": "execute_result"
    }
   ],
   "source": [
    "df['newState'] = df.apply(lambda x : 1 if (x['Marital_Status'] == 'Married') and (x['Card_Category'] == 'Platinum') else 0, axis=1)\n",
    "df['newState'].value_counts() # 내가 쓴 답"
   ]
  },
  {
   "cell_type": "code",
   "execution_count": 432,
   "id": "73d876d4",
   "metadata": {},
   "outputs": [
    {
     "data": {
      "application/vnd.microsoft.datawrangler.viewer.v0+json": {
       "columns": [
        {
         "name": "newState",
         "rawType": "int64",
         "type": "integer"
        },
        {
         "name": "count",
         "rawType": "int64",
         "type": "integer"
        }
       ],
       "ref": "24139d7a-93fd-4435-9bd7-67cd1b82af75",
       "rows": [
        [
         "0",
         "10120"
        ],
        [
         "1",
         "7"
        ]
       ],
       "shape": {
        "columns": 1,
        "rows": 2
       }
      },
      "text/plain": [
       "newState\n",
       "0    10120\n",
       "1        7\n",
       "Name: count, dtype: int64"
      ]
     },
     "execution_count": 432,
     "metadata": {},
     "output_type": "execute_result"
    }
   ],
   "source": [
    "def check(x):\n",
    "    if x.Marital_Status =='Married' and x.Card_Category =='Platinum':\n",
    "        return 1\n",
    "    else:\n",
    "        return 0\n",
    "\n",
    "\n",
    "df['newState'] = df.apply(check,axis=1)\n",
    "\n",
    "Ans  = df['newState'].value_counts()\n",
    "Ans # 데이터마님 답"
   ]
  },
  {
   "cell_type": "markdown",
   "id": "19ea0e1f",
   "metadata": {},
   "source": [
    "## Question 63\n",
    "Gender 컬럼값 M인 경우 male F인 경우 female로 값을 변경하여 Gender 컬럼에 새롭게 정의하라. 각 value의 빈도를 출력하라."
   ]
  },
  {
   "cell_type": "code",
   "execution_count": 433,
   "id": "ca422a0d",
   "metadata": {},
   "outputs": [
    {
     "data": {
      "application/vnd.microsoft.datawrangler.viewer.v0+json": {
       "columns": [
        {
         "name": "Gender",
         "rawType": "object",
         "type": "string"
        },
        {
         "name": "count",
         "rawType": "int64",
         "type": "integer"
        }
       ],
       "ref": "2ec86b9b-1280-42ea-830c-8598b5144a43",
       "rows": [
        [
         "female",
         "5358"
        ],
        [
         "male",
         "4769"
        ]
       ],
       "shape": {
        "columns": 1,
        "rows": 2
       }
      },
      "text/plain": [
       "Gender\n",
       "female    5358\n",
       "male      4769\n",
       "Name: count, dtype: int64"
      ]
     },
     "execution_count": 433,
     "metadata": {},
     "output_type": "execute_result"
    }
   ],
   "source": [
    "new_gen = {\n",
    "    'M' : 'male',\n",
    "    'F' : 'female'\n",
    "}\n",
    "\n",
    "df['Gender'] = df['Gender'].map(lambda x : new_gen[x])\n",
    "df['Gender'].value_counts() # 내가 쓴 답 (map)"
   ]
  },
  {
   "cell_type": "code",
   "execution_count": 434,
   "id": "138d974f",
   "metadata": {},
   "outputs": [
    {
     "data": {
      "application/vnd.microsoft.datawrangler.viewer.v0+json": {
       "columns": [
        {
         "name": "Gender",
         "rawType": "object",
         "type": "string"
        },
        {
         "name": "count",
         "rawType": "int64",
         "type": "integer"
        }
       ],
       "ref": "4e764528-58f3-43b2-aa7b-536c115e91af",
       "rows": [
        [
         "female",
         "5358"
        ],
        [
         "male",
         "4769"
        ]
       ],
       "shape": {
        "columns": 1,
        "rows": 2
       }
      },
      "text/plain": [
       "Gender\n",
       "female    5358\n",
       "male      4769\n",
       "Name: count, dtype: int64"
      ]
     },
     "execution_count": 434,
     "metadata": {},
     "output_type": "execute_result"
    }
   ],
   "source": [
    "df = pd.read_csv(DataUrl)\n",
    "\n",
    "def new_gen(x):\n",
    "    if x == 'M':\n",
    "        return 'male'\n",
    "    else :\n",
    "        return 'female'\n",
    "    \n",
    "df['Gender'] = df['Gender'].apply(new_gen)\n",
    "df['Gender'].value_counts() # 내가 쓴 답 (apply)"
   ]
  },
  {
   "cell_type": "markdown",
   "id": "ecd47fbb",
   "metadata": {},
   "source": [
    "# 05_Time_Series\n",
    "주가 데이터 : https://raw.githubusercontent.com/guipsamora/pandas_exercises/master/06_Stats/Wind_Stats/wind.data<br>\n",
    "DataUrl = ‘https://raw.githubusercontent.com/Datamanim/pandas/main/timeTest.csv’"
   ]
  },
  {
   "cell_type": "markdown",
   "id": "2e91a43c",
   "metadata": {},
   "source": [
    "## Question 64\n",
    "데이터를 로드하고 각 열의 데이터 타입을 파악하라"
   ]
  },
  {
   "cell_type": "code",
   "execution_count": 435,
   "id": "9d477135",
   "metadata": {},
   "outputs": [
    {
     "name": "stdout",
     "output_type": "stream",
     "text": [
      "<class 'pandas.core.frame.DataFrame'>\n",
      "RangeIndex: 6574 entries, 0 to 6573\n",
      "Data columns (total 13 columns):\n",
      " #   Column    Non-Null Count  Dtype  \n",
      "---  ------    --------------  -----  \n",
      " 0   Yr_Mo_Dy  6574 non-null   object \n",
      " 1   RPT       6568 non-null   float64\n",
      " 2   VAL       6571 non-null   float64\n",
      " 3   ROS       6572 non-null   float64\n",
      " 4   KIL       6569 non-null   float64\n",
      " 5   SHA       6572 non-null   float64\n",
      " 6   BIR       6574 non-null   float64\n",
      " 7   DUB       6571 non-null   float64\n",
      " 8   CLA       6572 non-null   float64\n",
      " 9   MUL       6571 non-null   float64\n",
      " 10  CLO       6573 non-null   float64\n",
      " 11  BEL       6574 non-null   float64\n",
      " 12  MAL       6570 non-null   float64\n",
      "dtypes: float64(12), object(1)\n",
      "memory usage: 667.8+ KB\n"
     ]
    }
   ],
   "source": [
    "DataUrl = 'https://raw.githubusercontent.com/Datamanim/pandas/main/timeTest.csv'\n",
    "df = pd.read_csv(DataUrl)\n",
    "df.info()"
   ]
  },
  {
   "cell_type": "markdown",
   "id": "1df1095f",
   "metadata": {},
   "source": [
    "## Question 65\n",
    "Yr_Mo_Dy을 판다스에서 인식할 수 있는 datetime64타입으로 변경하라."
   ]
  },
  {
   "cell_type": "code",
   "execution_count": 436,
   "id": "722b52c9",
   "metadata": {},
   "outputs": [
    {
     "data": {
      "application/vnd.microsoft.datawrangler.viewer.v0+json": {
       "columns": [
        {
         "name": "index",
         "rawType": "int64",
         "type": "integer"
        },
        {
         "name": "Yr_Mo_Dy",
         "rawType": "datetime64[ns]",
         "type": "datetime"
        }
       ],
       "ref": "b9bd03e2-4ba7-4dcf-8fb0-d05d2fd74dec",
       "rows": [
        [
         "0",
         "2061-01-01 00:00:00"
        ],
        [
         "1",
         "2061-01-02 00:00:00"
        ],
        [
         "2",
         "2061-01-03 00:00:00"
        ],
        [
         "3",
         "2061-01-04 00:00:00"
        ]
       ],
       "shape": {
        "columns": 1,
        "rows": 4
       }
      },
      "text/plain": [
       "0   2061-01-01\n",
       "1   2061-01-02\n",
       "2   2061-01-03\n",
       "3   2061-01-04\n",
       "Name: Yr_Mo_Dy, dtype: datetime64[ns]"
      ]
     },
     "execution_count": 436,
     "metadata": {},
     "output_type": "execute_result"
    }
   ],
   "source": [
    "df['Yr_Mo_Dy'] = pd.to_datetime(df['Yr_Mo_Dy'])\n",
    "df['Yr_Mo_Dy'].head(4)"
   ]
  },
  {
   "cell_type": "markdown",
   "id": "f3c8e7f9",
   "metadata": {},
   "source": [
    "## Question 66\n",
    "Yr_Mo_Dy에 존재하는 년도의 유일값을 모두 출력하라."
   ]
  },
  {
   "cell_type": "code",
   "execution_count": 437,
   "id": "52ce6e45",
   "metadata": {},
   "outputs": [
    {
     "data": {
      "text/plain": [
       "array([2061, 2062, 2063, 2064, 2065, 2066, 2067, 2068, 2069, 2070, 1971,\n",
       "       1972, 1973, 1974, 1975, 1976, 1977, 1978], dtype=int32)"
      ]
     },
     "execution_count": 437,
     "metadata": {},
     "output_type": "execute_result"
    }
   ],
   "source": [
    "df['Yr_Mo_Dy'].dt.year.unique()"
   ]
  },
  {
   "cell_type": "markdown",
   "id": "5c50f744",
   "metadata": {},
   "source": [
    "## Question 67\n",
    "Yr_Mo_Dy에 년도가 2061년 이상의 경우에는 모두 잘못된 데이터이다.<br>\n",
    "해당경우의 값은 100을 빼서 새롭게 날짜를 Yr_Mo_Dy 컬럼에 정의하라."
   ]
  },
  {
   "cell_type": "code",
   "execution_count": 438,
   "id": "12ea000b",
   "metadata": {},
   "outputs": [
    {
     "data": {
      "application/vnd.microsoft.datawrangler.viewer.v0+json": {
       "columns": [
        {
         "name": "index",
         "rawType": "int64",
         "type": "integer"
        },
        {
         "name": "Yr_Mo_Dy",
         "rawType": "datetime64[ns]",
         "type": "datetime"
        },
        {
         "name": "RPT",
         "rawType": "float64",
         "type": "float"
        },
        {
         "name": "VAL",
         "rawType": "float64",
         "type": "float"
        },
        {
         "name": "ROS",
         "rawType": "float64",
         "type": "float"
        },
        {
         "name": "KIL",
         "rawType": "float64",
         "type": "float"
        },
        {
         "name": "SHA",
         "rawType": "float64",
         "type": "float"
        },
        {
         "name": "BIR",
         "rawType": "float64",
         "type": "float"
        },
        {
         "name": "DUB",
         "rawType": "float64",
         "type": "float"
        },
        {
         "name": "CLA",
         "rawType": "float64",
         "type": "float"
        },
        {
         "name": "MUL",
         "rawType": "float64",
         "type": "float"
        },
        {
         "name": "CLO",
         "rawType": "float64",
         "type": "float"
        },
        {
         "name": "BEL",
         "rawType": "float64",
         "type": "float"
        },
        {
         "name": "MAL",
         "rawType": "float64",
         "type": "float"
        }
       ],
       "ref": "b036babb-eaad-4f39-8d03-59867ed781e9",
       "rows": [
        [
         "0",
         "1961-01-01 00:00:00",
         "15.04",
         "14.96",
         "13.17",
         "9.29",
         null,
         "9.87",
         "13.67",
         "10.25",
         "10.83",
         "12.58",
         "18.5",
         "15.04"
        ],
        [
         "1",
         "1961-01-02 00:00:00",
         "14.71",
         null,
         "10.83",
         "6.5",
         "12.62",
         "7.67",
         "11.5",
         "10.04",
         "9.79",
         "9.67",
         "17.54",
         "13.83"
        ],
        [
         "2",
         "1961-01-03 00:00:00",
         "18.5",
         "16.88",
         "12.33",
         "10.13",
         "11.17",
         "6.17",
         "11.25",
         null,
         "8.5",
         "7.67",
         "12.75",
         "12.71"
        ],
        [
         "3",
         "1961-01-04 00:00:00",
         "10.58",
         "6.63",
         "11.75",
         "4.58",
         "4.54",
         "2.88",
         "8.63",
         "1.79",
         "5.83",
         "5.88",
         "5.46",
         "10.88"
        ]
       ],
       "shape": {
        "columns": 13,
        "rows": 4
       }
      },
      "text/html": [
       "<div>\n",
       "<style scoped>\n",
       "    .dataframe tbody tr th:only-of-type {\n",
       "        vertical-align: middle;\n",
       "    }\n",
       "\n",
       "    .dataframe tbody tr th {\n",
       "        vertical-align: top;\n",
       "    }\n",
       "\n",
       "    .dataframe thead th {\n",
       "        text-align: right;\n",
       "    }\n",
       "</style>\n",
       "<table border=\"1\" class=\"dataframe\">\n",
       "  <thead>\n",
       "    <tr style=\"text-align: right;\">\n",
       "      <th></th>\n",
       "      <th>Yr_Mo_Dy</th>\n",
       "      <th>RPT</th>\n",
       "      <th>VAL</th>\n",
       "      <th>ROS</th>\n",
       "      <th>KIL</th>\n",
       "      <th>SHA</th>\n",
       "      <th>BIR</th>\n",
       "      <th>DUB</th>\n",
       "      <th>CLA</th>\n",
       "      <th>MUL</th>\n",
       "      <th>CLO</th>\n",
       "      <th>BEL</th>\n",
       "      <th>MAL</th>\n",
       "    </tr>\n",
       "  </thead>\n",
       "  <tbody>\n",
       "    <tr>\n",
       "      <th>0</th>\n",
       "      <td>1961-01-01</td>\n",
       "      <td>15.04</td>\n",
       "      <td>14.96</td>\n",
       "      <td>13.17</td>\n",
       "      <td>9.29</td>\n",
       "      <td>NaN</td>\n",
       "      <td>9.87</td>\n",
       "      <td>13.67</td>\n",
       "      <td>10.25</td>\n",
       "      <td>10.83</td>\n",
       "      <td>12.58</td>\n",
       "      <td>18.50</td>\n",
       "      <td>15.04</td>\n",
       "    </tr>\n",
       "    <tr>\n",
       "      <th>1</th>\n",
       "      <td>1961-01-02</td>\n",
       "      <td>14.71</td>\n",
       "      <td>NaN</td>\n",
       "      <td>10.83</td>\n",
       "      <td>6.50</td>\n",
       "      <td>12.62</td>\n",
       "      <td>7.67</td>\n",
       "      <td>11.50</td>\n",
       "      <td>10.04</td>\n",
       "      <td>9.79</td>\n",
       "      <td>9.67</td>\n",
       "      <td>17.54</td>\n",
       "      <td>13.83</td>\n",
       "    </tr>\n",
       "    <tr>\n",
       "      <th>2</th>\n",
       "      <td>1961-01-03</td>\n",
       "      <td>18.50</td>\n",
       "      <td>16.88</td>\n",
       "      <td>12.33</td>\n",
       "      <td>10.13</td>\n",
       "      <td>11.17</td>\n",
       "      <td>6.17</td>\n",
       "      <td>11.25</td>\n",
       "      <td>NaN</td>\n",
       "      <td>8.50</td>\n",
       "      <td>7.67</td>\n",
       "      <td>12.75</td>\n",
       "      <td>12.71</td>\n",
       "    </tr>\n",
       "    <tr>\n",
       "      <th>3</th>\n",
       "      <td>1961-01-04</td>\n",
       "      <td>10.58</td>\n",
       "      <td>6.63</td>\n",
       "      <td>11.75</td>\n",
       "      <td>4.58</td>\n",
       "      <td>4.54</td>\n",
       "      <td>2.88</td>\n",
       "      <td>8.63</td>\n",
       "      <td>1.79</td>\n",
       "      <td>5.83</td>\n",
       "      <td>5.88</td>\n",
       "      <td>5.46</td>\n",
       "      <td>10.88</td>\n",
       "    </tr>\n",
       "  </tbody>\n",
       "</table>\n",
       "</div>"
      ],
      "text/plain": [
       "    Yr_Mo_Dy    RPT    VAL    ROS    KIL    SHA   BIR    DUB    CLA    MUL  \\\n",
       "0 1961-01-01  15.04  14.96  13.17   9.29    NaN  9.87  13.67  10.25  10.83   \n",
       "1 1961-01-02  14.71    NaN  10.83   6.50  12.62  7.67  11.50  10.04   9.79   \n",
       "2 1961-01-03  18.50  16.88  12.33  10.13  11.17  6.17  11.25    NaN   8.50   \n",
       "3 1961-01-04  10.58   6.63  11.75   4.58   4.54  2.88   8.63   1.79   5.83   \n",
       "\n",
       "     CLO    BEL    MAL  \n",
       "0  12.58  18.50  15.04  \n",
       "1   9.67  17.54  13.83  \n",
       "2   7.67  12.75  12.71  \n",
       "3   5.88   5.46  10.88  "
      ]
     },
     "execution_count": 438,
     "metadata": {},
     "output_type": "execute_result"
    }
   ],
   "source": [
    "import datetime\n",
    "\n",
    "df['Yr_Mo_Dy'] = df['Yr_Mo_Dy'].map(lambda x : pd.to_datetime(datetime.date(x.year-100, x.month, x.day)) if x.year >= 2061 else x) \n",
    "df.head(4) # 내가 쓴 답 (map)"
   ]
  },
  {
   "cell_type": "code",
   "execution_count": 439,
   "id": "461dddd4",
   "metadata": {},
   "outputs": [],
   "source": [
    "# def fix_century(x):\n",
    "#     import datetime\n",
    "    \n",
    "#     year = x.year - 100 if x.year >= 2061 else x.year\n",
    "#     return pd.to_datetime(datetime.date(year, x.month, x.day))\n",
    "\n",
    "\n",
    "# df['Yr_Mo_Dy'] = df['Yr_Mo_Dy'].apply(fix_century)\n",
    "\n",
    "# Ans = df.head(4)\n",
    "# Ans # 데이터마님 답 (apply)"
   ]
  },
  {
   "cell_type": "markdown",
   "id": "5c4b3fb2",
   "metadata": {},
   "source": [
    "## Question 68\n",
    "년도별 각컬럼의 평균값을 구하여라."
   ]
  },
  {
   "cell_type": "code",
   "execution_count": 440,
   "id": "fe97721c",
   "metadata": {},
   "outputs": [
    {
     "data": {
      "application/vnd.microsoft.datawrangler.viewer.v0+json": {
       "columns": [
        {
         "name": "Yr_Mo_Dy",
         "rawType": "int32",
         "type": "integer"
        },
        {
         "name": "Yr_Mo_Dy",
         "rawType": "datetime64[ns]",
         "type": "datetime"
        },
        {
         "name": "RPT",
         "rawType": "float64",
         "type": "float"
        },
        {
         "name": "VAL",
         "rawType": "float64",
         "type": "float"
        },
        {
         "name": "ROS",
         "rawType": "float64",
         "type": "float"
        },
        {
         "name": "KIL",
         "rawType": "float64",
         "type": "float"
        },
        {
         "name": "SHA",
         "rawType": "float64",
         "type": "float"
        },
        {
         "name": "BIR",
         "rawType": "float64",
         "type": "float"
        },
        {
         "name": "DUB",
         "rawType": "float64",
         "type": "float"
        },
        {
         "name": "CLA",
         "rawType": "float64",
         "type": "float"
        },
        {
         "name": "MUL",
         "rawType": "float64",
         "type": "float"
        },
        {
         "name": "CLO",
         "rawType": "float64",
         "type": "float"
        },
        {
         "name": "BEL",
         "rawType": "float64",
         "type": "float"
        },
        {
         "name": "MAL",
         "rawType": "float64",
         "type": "float"
        }
       ],
       "ref": "fef7d8d1-8065-49ce-ab06-2fcbab4d47e3",
       "rows": [
        [
         "1961",
         "1961-07-02 00:00:00",
         "12.299583333333334",
         "10.351795580110497",
         "11.36236914600551",
         "6.958227146814405",
         "10.881763085399449",
         "7.72972602739726",
         "9.733922651933701",
         "8.858787878787878",
         "8.647651933701656",
         "9.835576923076923",
         "13.502794520547946",
         "13.680773480662982"
        ],
        [
         "1962",
         "1962-07-02 00:00:00",
         "12.246923076923077",
         "10.110438356164384",
         "11.732712328767121",
         "6.960439560439561",
         "10.657917808219178",
         "7.393068493150684",
         "11.020712328767123",
         "8.793753424657533",
         "8.31682191780822",
         "9.676246575342466",
         "12.930684931506848",
         "14.323956043956045"
        ],
        [
         "1963",
         "1963-07-02 00:00:00",
         "12.81345205479452",
         "10.836986301369864",
         "12.541150684931509",
         "7.330054794520548",
         "11.724109589041097",
         "8.434712328767123",
         "11.075698630136987",
         "10.33654794520548",
         "8.90358904109589",
         "10.224438356164384",
         "13.638876712328766",
         "14.999013698630138"
        ],
        [
         "1964",
         "1964-07-01 12:00:00",
         "12.363661202185794",
         "10.92016393442623",
         "12.104371584699454",
         "6.787786885245901",
         "11.45448087431694",
         "7.570874316939891",
         "10.25915300546448",
         "9.467349726775957",
         "7.7890163934426235",
         "10.207950819672131",
         "13.740546448087432",
         "14.910300546448088"
        ],
        [
         "1965",
         "1965-07-02 00:00:00",
         "12.4513698630137",
         "11.075534246575343",
         "11.848767123287672",
         "6.858465753424658",
         "11.024794520547946",
         "7.478109589041097",
         "10.618712328767122",
         "8.879917808219178",
         "7.907424657534246",
         "9.918082191780822",
         "12.964246575342464",
         "15.591643835616438"
        ],
        [
         "1966",
         "1966-07-02 00:00:00",
         "13.461972602739726",
         "11.557205479452055",
         "12.0206301369863",
         "7.34572602739726",
         "11.805041095890411",
         "7.793671232876712",
         "10.579808219178082",
         "8.835095890410958",
         "8.514438356164383",
         "9.768958904109589",
         "14.265835616438356",
         "16.307260273972602"
        ],
        [
         "1967",
         "1967-07-02 00:00:00",
         "12.737150684931509",
         "10.990986301369864",
         "11.739397260273973",
         "7.143424657534246",
         "11.630739726027398",
         "7.368164383561644",
         "10.652027397260273",
         "9.325616438356164",
         "8.645013698630137",
         "9.547424657534247",
         "14.77454794520548",
         "17.13594520547945"
        ],
        [
         "1968",
         "1968-07-01 12:00:00",
         "11.835628415300548",
         "10.468196721311475",
         "11.409754098360656",
         "6.477677595628415",
         "10.760765027322405",
         "6.067322404371584",
         "8.859180327868852",
         "8.25551912568306",
         "7.224945355191257",
         "7.832978142076502",
         "12.808633879781421",
         "15.017486338797813"
        ],
        [
         "1969",
         "1969-07-02 00:00:00",
         "11.166356164383561",
         "9.723698630136987",
         "10.902",
         "5.767972602739726",
         "9.873917808219177",
         "6.189972602739727",
         "8.564493150684932",
         "7.711397260273972",
         "7.924520547945205",
         "7.754383561643835",
         "12.621232876712329",
         "15.76290410958904"
        ],
        [
         "1970",
         "1970-07-02 00:00:00",
         "12.600328767123287",
         "10.726931506849315",
         "11.730246575342466",
         "6.217178082191781",
         "10.567369863013699",
         "7.60945205479452",
         "9.609890410958904",
         "8.3346301369863",
         "9.297616438356165",
         "8.289808219178083",
         "13.183643835616438",
         "16.456027397260275"
        ],
        [
         "1971",
         "1971-07-02 00:00:00",
         "11.273123287671233",
         "9.09517808219178",
         "11.088328767123286",
         "5.241506849315069",
         "9.440328767123287",
         "6.097150684931507",
         "8.385890410958904",
         "6.757315068493151",
         "7.915369863013699",
         "7.229753424657535",
         "12.208931506849316",
         "15.025232876712328"
        ],
        [
         "1972",
         "1972-07-01 12:00:00",
         "12.463961748633881",
         "10.561311475409836",
         "12.058333333333334",
         "5.929699453551913",
         "9.430409836065575",
         "6.358825136612022",
         "9.704508196721312",
         "7.680792349726776",
         "8.357295081967212",
         "7.515273224043717",
         "12.727377049180328",
         "15.028715846994537"
        ],
        [
         "1973",
         "1973-07-02 00:00:00",
         "11.82846575342466",
         "10.680493150684931",
         "10.680493150684931",
         "5.54786301369863",
         "9.640876712328767",
         "6.548739726027397",
         "8.482109589041094",
         "7.6142739726027395",
         "8.245534246575343",
         "7.81241095890411",
         "12.169698630136985",
         "15.441095890410958"
        ],
        [
         "1974",
         "1974-07-02 00:00:00",
         "13.643095890410958",
         "11.811780821917809",
         "12.336356164383563",
         "6.42704109589041",
         "11.110986301369863",
         "6.809780821917808",
         "10.084602739726028",
         "9.896986301369862",
         "9.331753424657535",
         "8.736356164383562",
         "13.252958904109589",
         "16.94767123287671"
        ],
        [
         "1975",
         "1975-07-02 00:00:00",
         "12.008575342465754",
         "10.293835616438356",
         "11.564712328767124",
         "5.269095890410959",
         "9.190082191780823",
         "5.668520547945206",
         "8.562602739726028",
         "7.843835616438356",
         "8.797945205479452",
         "7.3828219178082195",
         "12.631671232876714",
         "15.30786301369863"
        ],
        [
         "1976",
         "1976-07-01 12:00:00",
         "11.737841530054645",
         "10.203114754098362",
         "10.761229508196722",
         "5.1094262295081965",
         "8.846338797814209",
         "6.311038251366121",
         "9.14912568306011",
         "7.14620218579235",
         "8.883715846994535",
         "7.883087431693989",
         "12.332377049180327",
         "15.471448087431694"
        ],
        [
         "1977",
         "1977-07-02 00:00:00",
         "13.099616438356163",
         "11.14449315068493",
         "12.627835616438356",
         "6.073945205479451",
         "10.003835616438357",
         "8.586438356164384",
         "11.523205479452056",
         "8.378383561643837",
         "9.098191780821919",
         "8.821616438356164",
         "13.459068493150687",
         "16.590849315068493"
        ],
        [
         "1978",
         "1978-07-02 00:00:00",
         "12.504356164383562",
         "11.04427397260274",
         "11.379999999999999",
         "6.082356164383562",
         "10.167232876712328",
         "7.650657534246575",
         "9.489342465753426",
         "8.800465753424657",
         "9.089753424657534",
         "8.301698630136986",
         "12.967397260273973",
         "16.7713698630137"
        ]
       ],
       "shape": {
        "columns": 13,
        "rows": 18
       }
      },
      "text/html": [
       "<div>\n",
       "<style scoped>\n",
       "    .dataframe tbody tr th:only-of-type {\n",
       "        vertical-align: middle;\n",
       "    }\n",
       "\n",
       "    .dataframe tbody tr th {\n",
       "        vertical-align: top;\n",
       "    }\n",
       "\n",
       "    .dataframe thead th {\n",
       "        text-align: right;\n",
       "    }\n",
       "</style>\n",
       "<table border=\"1\" class=\"dataframe\">\n",
       "  <thead>\n",
       "    <tr style=\"text-align: right;\">\n",
       "      <th></th>\n",
       "      <th>Yr_Mo_Dy</th>\n",
       "      <th>RPT</th>\n",
       "      <th>VAL</th>\n",
       "      <th>ROS</th>\n",
       "      <th>KIL</th>\n",
       "      <th>SHA</th>\n",
       "      <th>BIR</th>\n",
       "      <th>DUB</th>\n",
       "      <th>CLA</th>\n",
       "      <th>MUL</th>\n",
       "      <th>CLO</th>\n",
       "      <th>BEL</th>\n",
       "      <th>MAL</th>\n",
       "    </tr>\n",
       "    <tr>\n",
       "      <th>Yr_Mo_Dy</th>\n",
       "      <th></th>\n",
       "      <th></th>\n",
       "      <th></th>\n",
       "      <th></th>\n",
       "      <th></th>\n",
       "      <th></th>\n",
       "      <th></th>\n",
       "      <th></th>\n",
       "      <th></th>\n",
       "      <th></th>\n",
       "      <th></th>\n",
       "      <th></th>\n",
       "      <th></th>\n",
       "    </tr>\n",
       "  </thead>\n",
       "  <tbody>\n",
       "    <tr>\n",
       "      <th>1961</th>\n",
       "      <td>1961-07-02 00:00:00</td>\n",
       "      <td>12.299583</td>\n",
       "      <td>10.351796</td>\n",
       "      <td>11.362369</td>\n",
       "      <td>6.958227</td>\n",
       "      <td>10.881763</td>\n",
       "      <td>7.729726</td>\n",
       "      <td>9.733923</td>\n",
       "      <td>8.858788</td>\n",
       "      <td>8.647652</td>\n",
       "      <td>9.835577</td>\n",
       "      <td>13.502795</td>\n",
       "      <td>13.680773</td>\n",
       "    </tr>\n",
       "    <tr>\n",
       "      <th>1962</th>\n",
       "      <td>1962-07-02 00:00:00</td>\n",
       "      <td>12.246923</td>\n",
       "      <td>10.110438</td>\n",
       "      <td>11.732712</td>\n",
       "      <td>6.960440</td>\n",
       "      <td>10.657918</td>\n",
       "      <td>7.393068</td>\n",
       "      <td>11.020712</td>\n",
       "      <td>8.793753</td>\n",
       "      <td>8.316822</td>\n",
       "      <td>9.676247</td>\n",
       "      <td>12.930685</td>\n",
       "      <td>14.323956</td>\n",
       "    </tr>\n",
       "    <tr>\n",
       "      <th>1963</th>\n",
       "      <td>1963-07-02 00:00:00</td>\n",
       "      <td>12.813452</td>\n",
       "      <td>10.836986</td>\n",
       "      <td>12.541151</td>\n",
       "      <td>7.330055</td>\n",
       "      <td>11.724110</td>\n",
       "      <td>8.434712</td>\n",
       "      <td>11.075699</td>\n",
       "      <td>10.336548</td>\n",
       "      <td>8.903589</td>\n",
       "      <td>10.224438</td>\n",
       "      <td>13.638877</td>\n",
       "      <td>14.999014</td>\n",
       "    </tr>\n",
       "    <tr>\n",
       "      <th>1964</th>\n",
       "      <td>1964-07-01 12:00:00</td>\n",
       "      <td>12.363661</td>\n",
       "      <td>10.920164</td>\n",
       "      <td>12.104372</td>\n",
       "      <td>6.787787</td>\n",
       "      <td>11.454481</td>\n",
       "      <td>7.570874</td>\n",
       "      <td>10.259153</td>\n",
       "      <td>9.467350</td>\n",
       "      <td>7.789016</td>\n",
       "      <td>10.207951</td>\n",
       "      <td>13.740546</td>\n",
       "      <td>14.910301</td>\n",
       "    </tr>\n",
       "    <tr>\n",
       "      <th>1965</th>\n",
       "      <td>1965-07-02 00:00:00</td>\n",
       "      <td>12.451370</td>\n",
       "      <td>11.075534</td>\n",
       "      <td>11.848767</td>\n",
       "      <td>6.858466</td>\n",
       "      <td>11.024795</td>\n",
       "      <td>7.478110</td>\n",
       "      <td>10.618712</td>\n",
       "      <td>8.879918</td>\n",
       "      <td>7.907425</td>\n",
       "      <td>9.918082</td>\n",
       "      <td>12.964247</td>\n",
       "      <td>15.591644</td>\n",
       "    </tr>\n",
       "    <tr>\n",
       "      <th>1966</th>\n",
       "      <td>1966-07-02 00:00:00</td>\n",
       "      <td>13.461973</td>\n",
       "      <td>11.557205</td>\n",
       "      <td>12.020630</td>\n",
       "      <td>7.345726</td>\n",
       "      <td>11.805041</td>\n",
       "      <td>7.793671</td>\n",
       "      <td>10.579808</td>\n",
       "      <td>8.835096</td>\n",
       "      <td>8.514438</td>\n",
       "      <td>9.768959</td>\n",
       "      <td>14.265836</td>\n",
       "      <td>16.307260</td>\n",
       "    </tr>\n",
       "    <tr>\n",
       "      <th>1967</th>\n",
       "      <td>1967-07-02 00:00:00</td>\n",
       "      <td>12.737151</td>\n",
       "      <td>10.990986</td>\n",
       "      <td>11.739397</td>\n",
       "      <td>7.143425</td>\n",
       "      <td>11.630740</td>\n",
       "      <td>7.368164</td>\n",
       "      <td>10.652027</td>\n",
       "      <td>9.325616</td>\n",
       "      <td>8.645014</td>\n",
       "      <td>9.547425</td>\n",
       "      <td>14.774548</td>\n",
       "      <td>17.135945</td>\n",
       "    </tr>\n",
       "    <tr>\n",
       "      <th>1968</th>\n",
       "      <td>1968-07-01 12:00:00</td>\n",
       "      <td>11.835628</td>\n",
       "      <td>10.468197</td>\n",
       "      <td>11.409754</td>\n",
       "      <td>6.477678</td>\n",
       "      <td>10.760765</td>\n",
       "      <td>6.067322</td>\n",
       "      <td>8.859180</td>\n",
       "      <td>8.255519</td>\n",
       "      <td>7.224945</td>\n",
       "      <td>7.832978</td>\n",
       "      <td>12.808634</td>\n",
       "      <td>15.017486</td>\n",
       "    </tr>\n",
       "    <tr>\n",
       "      <th>1969</th>\n",
       "      <td>1969-07-02 00:00:00</td>\n",
       "      <td>11.166356</td>\n",
       "      <td>9.723699</td>\n",
       "      <td>10.902000</td>\n",
       "      <td>5.767973</td>\n",
       "      <td>9.873918</td>\n",
       "      <td>6.189973</td>\n",
       "      <td>8.564493</td>\n",
       "      <td>7.711397</td>\n",
       "      <td>7.924521</td>\n",
       "      <td>7.754384</td>\n",
       "      <td>12.621233</td>\n",
       "      <td>15.762904</td>\n",
       "    </tr>\n",
       "    <tr>\n",
       "      <th>1970</th>\n",
       "      <td>1970-07-02 00:00:00</td>\n",
       "      <td>12.600329</td>\n",
       "      <td>10.726932</td>\n",
       "      <td>11.730247</td>\n",
       "      <td>6.217178</td>\n",
       "      <td>10.567370</td>\n",
       "      <td>7.609452</td>\n",
       "      <td>9.609890</td>\n",
       "      <td>8.334630</td>\n",
       "      <td>9.297616</td>\n",
       "      <td>8.289808</td>\n",
       "      <td>13.183644</td>\n",
       "      <td>16.456027</td>\n",
       "    </tr>\n",
       "    <tr>\n",
       "      <th>1971</th>\n",
       "      <td>1971-07-02 00:00:00</td>\n",
       "      <td>11.273123</td>\n",
       "      <td>9.095178</td>\n",
       "      <td>11.088329</td>\n",
       "      <td>5.241507</td>\n",
       "      <td>9.440329</td>\n",
       "      <td>6.097151</td>\n",
       "      <td>8.385890</td>\n",
       "      <td>6.757315</td>\n",
       "      <td>7.915370</td>\n",
       "      <td>7.229753</td>\n",
       "      <td>12.208932</td>\n",
       "      <td>15.025233</td>\n",
       "    </tr>\n",
       "    <tr>\n",
       "      <th>1972</th>\n",
       "      <td>1972-07-01 12:00:00</td>\n",
       "      <td>12.463962</td>\n",
       "      <td>10.561311</td>\n",
       "      <td>12.058333</td>\n",
       "      <td>5.929699</td>\n",
       "      <td>9.430410</td>\n",
       "      <td>6.358825</td>\n",
       "      <td>9.704508</td>\n",
       "      <td>7.680792</td>\n",
       "      <td>8.357295</td>\n",
       "      <td>7.515273</td>\n",
       "      <td>12.727377</td>\n",
       "      <td>15.028716</td>\n",
       "    </tr>\n",
       "    <tr>\n",
       "      <th>1973</th>\n",
       "      <td>1973-07-02 00:00:00</td>\n",
       "      <td>11.828466</td>\n",
       "      <td>10.680493</td>\n",
       "      <td>10.680493</td>\n",
       "      <td>5.547863</td>\n",
       "      <td>9.640877</td>\n",
       "      <td>6.548740</td>\n",
       "      <td>8.482110</td>\n",
       "      <td>7.614274</td>\n",
       "      <td>8.245534</td>\n",
       "      <td>7.812411</td>\n",
       "      <td>12.169699</td>\n",
       "      <td>15.441096</td>\n",
       "    </tr>\n",
       "    <tr>\n",
       "      <th>1974</th>\n",
       "      <td>1974-07-02 00:00:00</td>\n",
       "      <td>13.643096</td>\n",
       "      <td>11.811781</td>\n",
       "      <td>12.336356</td>\n",
       "      <td>6.427041</td>\n",
       "      <td>11.110986</td>\n",
       "      <td>6.809781</td>\n",
       "      <td>10.084603</td>\n",
       "      <td>9.896986</td>\n",
       "      <td>9.331753</td>\n",
       "      <td>8.736356</td>\n",
       "      <td>13.252959</td>\n",
       "      <td>16.947671</td>\n",
       "    </tr>\n",
       "    <tr>\n",
       "      <th>1975</th>\n",
       "      <td>1975-07-02 00:00:00</td>\n",
       "      <td>12.008575</td>\n",
       "      <td>10.293836</td>\n",
       "      <td>11.564712</td>\n",
       "      <td>5.269096</td>\n",
       "      <td>9.190082</td>\n",
       "      <td>5.668521</td>\n",
       "      <td>8.562603</td>\n",
       "      <td>7.843836</td>\n",
       "      <td>8.797945</td>\n",
       "      <td>7.382822</td>\n",
       "      <td>12.631671</td>\n",
       "      <td>15.307863</td>\n",
       "    </tr>\n",
       "    <tr>\n",
       "      <th>1976</th>\n",
       "      <td>1976-07-01 12:00:00</td>\n",
       "      <td>11.737842</td>\n",
       "      <td>10.203115</td>\n",
       "      <td>10.761230</td>\n",
       "      <td>5.109426</td>\n",
       "      <td>8.846339</td>\n",
       "      <td>6.311038</td>\n",
       "      <td>9.149126</td>\n",
       "      <td>7.146202</td>\n",
       "      <td>8.883716</td>\n",
       "      <td>7.883087</td>\n",
       "      <td>12.332377</td>\n",
       "      <td>15.471448</td>\n",
       "    </tr>\n",
       "    <tr>\n",
       "      <th>1977</th>\n",
       "      <td>1977-07-02 00:00:00</td>\n",
       "      <td>13.099616</td>\n",
       "      <td>11.144493</td>\n",
       "      <td>12.627836</td>\n",
       "      <td>6.073945</td>\n",
       "      <td>10.003836</td>\n",
       "      <td>8.586438</td>\n",
       "      <td>11.523205</td>\n",
       "      <td>8.378384</td>\n",
       "      <td>9.098192</td>\n",
       "      <td>8.821616</td>\n",
       "      <td>13.459068</td>\n",
       "      <td>16.590849</td>\n",
       "    </tr>\n",
       "    <tr>\n",
       "      <th>1978</th>\n",
       "      <td>1978-07-02 00:00:00</td>\n",
       "      <td>12.504356</td>\n",
       "      <td>11.044274</td>\n",
       "      <td>11.380000</td>\n",
       "      <td>6.082356</td>\n",
       "      <td>10.167233</td>\n",
       "      <td>7.650658</td>\n",
       "      <td>9.489342</td>\n",
       "      <td>8.800466</td>\n",
       "      <td>9.089753</td>\n",
       "      <td>8.301699</td>\n",
       "      <td>12.967397</td>\n",
       "      <td>16.771370</td>\n",
       "    </tr>\n",
       "  </tbody>\n",
       "</table>\n",
       "</div>"
      ],
      "text/plain": [
       "                    Yr_Mo_Dy        RPT        VAL        ROS       KIL  \\\n",
       "Yr_Mo_Dy                                                                  \n",
       "1961     1961-07-02 00:00:00  12.299583  10.351796  11.362369  6.958227   \n",
       "1962     1962-07-02 00:00:00  12.246923  10.110438  11.732712  6.960440   \n",
       "1963     1963-07-02 00:00:00  12.813452  10.836986  12.541151  7.330055   \n",
       "1964     1964-07-01 12:00:00  12.363661  10.920164  12.104372  6.787787   \n",
       "1965     1965-07-02 00:00:00  12.451370  11.075534  11.848767  6.858466   \n",
       "1966     1966-07-02 00:00:00  13.461973  11.557205  12.020630  7.345726   \n",
       "1967     1967-07-02 00:00:00  12.737151  10.990986  11.739397  7.143425   \n",
       "1968     1968-07-01 12:00:00  11.835628  10.468197  11.409754  6.477678   \n",
       "1969     1969-07-02 00:00:00  11.166356   9.723699  10.902000  5.767973   \n",
       "1970     1970-07-02 00:00:00  12.600329  10.726932  11.730247  6.217178   \n",
       "1971     1971-07-02 00:00:00  11.273123   9.095178  11.088329  5.241507   \n",
       "1972     1972-07-01 12:00:00  12.463962  10.561311  12.058333  5.929699   \n",
       "1973     1973-07-02 00:00:00  11.828466  10.680493  10.680493  5.547863   \n",
       "1974     1974-07-02 00:00:00  13.643096  11.811781  12.336356  6.427041   \n",
       "1975     1975-07-02 00:00:00  12.008575  10.293836  11.564712  5.269096   \n",
       "1976     1976-07-01 12:00:00  11.737842  10.203115  10.761230  5.109426   \n",
       "1977     1977-07-02 00:00:00  13.099616  11.144493  12.627836  6.073945   \n",
       "1978     1978-07-02 00:00:00  12.504356  11.044274  11.380000  6.082356   \n",
       "\n",
       "                SHA       BIR        DUB        CLA       MUL        CLO  \\\n",
       "Yr_Mo_Dy                                                                   \n",
       "1961      10.881763  7.729726   9.733923   8.858788  8.647652   9.835577   \n",
       "1962      10.657918  7.393068  11.020712   8.793753  8.316822   9.676247   \n",
       "1963      11.724110  8.434712  11.075699  10.336548  8.903589  10.224438   \n",
       "1964      11.454481  7.570874  10.259153   9.467350  7.789016  10.207951   \n",
       "1965      11.024795  7.478110  10.618712   8.879918  7.907425   9.918082   \n",
       "1966      11.805041  7.793671  10.579808   8.835096  8.514438   9.768959   \n",
       "1967      11.630740  7.368164  10.652027   9.325616  8.645014   9.547425   \n",
       "1968      10.760765  6.067322   8.859180   8.255519  7.224945   7.832978   \n",
       "1969       9.873918  6.189973   8.564493   7.711397  7.924521   7.754384   \n",
       "1970      10.567370  7.609452   9.609890   8.334630  9.297616   8.289808   \n",
       "1971       9.440329  6.097151   8.385890   6.757315  7.915370   7.229753   \n",
       "1972       9.430410  6.358825   9.704508   7.680792  8.357295   7.515273   \n",
       "1973       9.640877  6.548740   8.482110   7.614274  8.245534   7.812411   \n",
       "1974      11.110986  6.809781  10.084603   9.896986  9.331753   8.736356   \n",
       "1975       9.190082  5.668521   8.562603   7.843836  8.797945   7.382822   \n",
       "1976       8.846339  6.311038   9.149126   7.146202  8.883716   7.883087   \n",
       "1977      10.003836  8.586438  11.523205   8.378384  9.098192   8.821616   \n",
       "1978      10.167233  7.650658   9.489342   8.800466  9.089753   8.301699   \n",
       "\n",
       "                BEL        MAL  \n",
       "Yr_Mo_Dy                        \n",
       "1961      13.502795  13.680773  \n",
       "1962      12.930685  14.323956  \n",
       "1963      13.638877  14.999014  \n",
       "1964      13.740546  14.910301  \n",
       "1965      12.964247  15.591644  \n",
       "1966      14.265836  16.307260  \n",
       "1967      14.774548  17.135945  \n",
       "1968      12.808634  15.017486  \n",
       "1969      12.621233  15.762904  \n",
       "1970      13.183644  16.456027  \n",
       "1971      12.208932  15.025233  \n",
       "1972      12.727377  15.028716  \n",
       "1973      12.169699  15.441096  \n",
       "1974      13.252959  16.947671  \n",
       "1975      12.631671  15.307863  \n",
       "1976      12.332377  15.471448  \n",
       "1977      13.459068  16.590849  \n",
       "1978      12.967397  16.771370  "
      ]
     },
     "execution_count": 440,
     "metadata": {},
     "output_type": "execute_result"
    }
   ],
   "source": [
    "df.groupby(df['Yr_Mo_Dy'].dt.year).mean()"
   ]
  },
  {
   "cell_type": "markdown",
   "id": "7dcc0443",
   "metadata": {},
   "source": [
    "## Question 69\n",
    "weekday컬럼을 만들고 요일별로 매핑하라. ( 월요일: 0 ~ 일요일 :6)"
   ]
  },
  {
   "cell_type": "code",
   "execution_count": 441,
   "id": "1ed47320",
   "metadata": {},
   "outputs": [
    {
     "data": {
      "application/vnd.microsoft.datawrangler.viewer.v0+json": {
       "columns": [
        {
         "name": "index",
         "rawType": "int64",
         "type": "integer"
        },
        {
         "name": "weekday",
         "rawType": "int32",
         "type": "integer"
        }
       ],
       "ref": "1dd342d3-2b64-4b1c-9d03-0d114450a6e2",
       "rows": [
        [
         "0",
         "6"
        ],
        [
         "1",
         "0"
        ],
        [
         "2",
         "1"
        ]
       ],
       "shape": {
        "columns": 1,
        "rows": 3
       }
      },
      "text/plain": [
       "0    6\n",
       "1    0\n",
       "2    1\n",
       "Name: weekday, dtype: int32"
      ]
     },
     "execution_count": 441,
     "metadata": {},
     "output_type": "execute_result"
    }
   ],
   "source": [
    "df['weekday'] = df['Yr_Mo_Dy'].dt.weekday\n",
    "df['weekday'].head(3)"
   ]
  },
  {
   "cell_type": "markdown",
   "id": "a28abea4",
   "metadata": {},
   "source": [
    "## Question 70\n",
    "weekday컬럼을 기준으로 주말이면 1 평일이면 0의 값을 가지는 WeekCheck 컬럼을 만들어라."
   ]
  },
  {
   "cell_type": "code",
   "execution_count": 442,
   "id": "46844b0c",
   "metadata": {},
   "outputs": [
    {
     "data": {
      "application/vnd.microsoft.datawrangler.viewer.v0+json": {
       "columns": [
        {
         "name": "index",
         "rawType": "int64",
         "type": "integer"
        },
        {
         "name": "WeekCheck",
         "rawType": "int64",
         "type": "integer"
        }
       ],
       "ref": "ea950b88-0799-48f5-b1e2-5ce776db03e0",
       "rows": [
        [
         "0",
         "1"
        ],
        [
         "1",
         "0"
        ],
        [
         "2",
         "0"
        ]
       ],
       "shape": {
        "columns": 1,
        "rows": 3
       }
      },
      "text/plain": [
       "0    1\n",
       "1    0\n",
       "2    0\n",
       "Name: WeekCheck, dtype: int64"
      ]
     },
     "execution_count": 442,
     "metadata": {},
     "output_type": "execute_result"
    }
   ],
   "source": [
    "df['WeekCheck'] = df['weekday'].map(lambda x : 1 if x > 4 else 0)\n",
    "df['WeekCheck'].head(3) # 내가 쓴 답, 아무래도 숫자를 지정해주는게 더 올바른 방법인 듯 하다."
   ]
  },
  {
   "cell_type": "code",
   "execution_count": 443,
   "id": "9d868159",
   "metadata": {},
   "outputs": [
    {
     "data": {
      "application/vnd.microsoft.datawrangler.viewer.v0+json": {
       "columns": [
        {
         "name": "index",
         "rawType": "int64",
         "type": "integer"
        },
        {
         "name": "WeekCheck",
         "rawType": "int64",
         "type": "integer"
        }
       ],
       "ref": "d877a9e1-88b6-43ea-b048-23b091842194",
       "rows": [
        [
         "0",
         "1"
        ],
        [
         "1",
         "0"
        ],
        [
         "2",
         "0"
        ]
       ],
       "shape": {
        "columns": 1,
        "rows": 3
       }
      },
      "text/html": [
       "<div>\n",
       "<style scoped>\n",
       "    .dataframe tbody tr th:only-of-type {\n",
       "        vertical-align: middle;\n",
       "    }\n",
       "\n",
       "    .dataframe tbody tr th {\n",
       "        vertical-align: top;\n",
       "    }\n",
       "\n",
       "    .dataframe thead th {\n",
       "        text-align: right;\n",
       "    }\n",
       "</style>\n",
       "<table border=\"1\" class=\"dataframe\">\n",
       "  <thead>\n",
       "    <tr style=\"text-align: right;\">\n",
       "      <th></th>\n",
       "      <th>WeekCheck</th>\n",
       "    </tr>\n",
       "  </thead>\n",
       "  <tbody>\n",
       "    <tr>\n",
       "      <th>0</th>\n",
       "      <td>1</td>\n",
       "    </tr>\n",
       "    <tr>\n",
       "      <th>1</th>\n",
       "      <td>0</td>\n",
       "    </tr>\n",
       "    <tr>\n",
       "      <th>2</th>\n",
       "      <td>0</td>\n",
       "    </tr>\n",
       "  </tbody>\n",
       "</table>\n",
       "</div>"
      ],
      "text/plain": [
       "   WeekCheck\n",
       "0          1\n",
       "1          0\n",
       "2          0"
      ]
     },
     "execution_count": 443,
     "metadata": {},
     "output_type": "execute_result"
    }
   ],
   "source": [
    "df['WeekCheck']  = df['weekday'].map(lambda x : 1 if x in [5,6] else 0)\n",
    "\n",
    "Ans = df['WeekCheck'].head(3).to_frame()\n",
    "Ans # 데이터마님 답"
   ]
  },
  {
   "cell_type": "markdown",
   "id": "05cf4b47",
   "metadata": {},
   "source": [
    "## Question 71\n",
    "년도, 일자 상관없이 모든 컬럼의 각 달의 평균을 구하여라."
   ]
  },
  {
   "cell_type": "code",
   "execution_count": 444,
   "id": "81dd6d7b",
   "metadata": {},
   "outputs": [
    {
     "data": {
      "application/vnd.microsoft.datawrangler.viewer.v0+json": {
       "columns": [
        {
         "name": "Yr_Mo_Dy",
         "rawType": "int32",
         "type": "integer"
        },
        {
         "name": "Yr_Mo_Dy",
         "rawType": "datetime64[ns]",
         "type": "datetime"
        },
        {
         "name": "RPT",
         "rawType": "float64",
         "type": "float"
        },
        {
         "name": "VAL",
         "rawType": "float64",
         "type": "float"
        },
        {
         "name": "ROS",
         "rawType": "float64",
         "type": "float"
        },
        {
         "name": "KIL",
         "rawType": "float64",
         "type": "float"
        },
        {
         "name": "SHA",
         "rawType": "float64",
         "type": "float"
        },
        {
         "name": "BIR",
         "rawType": "float64",
         "type": "float"
        },
        {
         "name": "DUB",
         "rawType": "float64",
         "type": "float"
        },
        {
         "name": "CLA",
         "rawType": "float64",
         "type": "float"
        },
        {
         "name": "MUL",
         "rawType": "float64",
         "type": "float"
        },
        {
         "name": "CLO",
         "rawType": "float64",
         "type": "float"
        },
        {
         "name": "BEL",
         "rawType": "float64",
         "type": "float"
        },
        {
         "name": "MAL",
         "rawType": "float64",
         "type": "float"
        },
        {
         "name": "weekday",
         "rawType": "float64",
         "type": "float"
        },
        {
         "name": "WeekCheck",
         "rawType": "float64",
         "type": "float"
        }
       ],
       "ref": "0b408b4b-c12e-4b09-81a8-45b31464e52f",
       "rows": [
        [
         "1",
         "1969-07-17 06:40:00",
         "14.847324955116695",
         "12.91456014362657",
         "13.299623655913978",
         "7.199498207885305",
         "11.66773381294964",
         "8.05483870967742",
         "11.819354838709677",
         "9.512046678635548",
         "9.543207885304659",
         "10.053566308243727",
         "14.550519713261648",
         "18.028763440860214",
         "2.989247311827957",
         "0.2849462365591398"
        ],
        [
         "2",
         "1969-08-17 07:50:33.070866142",
         "13.710905511811024",
         "12.111122047244095",
         "12.87913214990138",
         "6.942411067193676",
         "11.551771653543307",
         "7.633858267716535",
         "11.206023622047244",
         "9.341437007874015",
         "9.313169291338584",
         "9.518051181102363",
         "13.728897637795274",
         "17.156141732283466",
         "3.0059055118110236",
         "0.2874015748031496"
        ],
        [
         "3",
         "1969-09-14 12:00:00",
         "13.158687050359712",
         "11.505842293906811",
         "12.648118279569891",
         "7.265906642728905",
         "11.554516129032258",
         "7.959408602150538",
         "11.310179211469533",
         "9.63589605734767",
         "9.700323741007194",
         "10.096953405017922",
         "13.810609318996415",
         "16.90931654676259",
         "3.0",
         "0.2831541218637993"
        ],
        [
         "4",
         "1969-10-15 00:00:00",
         "12.555648148148148",
         "10.429759259259258",
         "12.204814814814815",
         "6.898037037037037",
         "10.677666666666665",
         "7.441388888888889",
         "10.221314814814816",
         "8.909055555555556",
         "8.930870370370371",
         "9.158018518518519",
         "12.66475925925926",
         "14.937611111111112",
         "3.011111111111111",
         "0.28888888888888886"
        ]
       ],
       "shape": {
        "columns": 15,
        "rows": 4
       }
      },
      "text/html": [
       "<div>\n",
       "<style scoped>\n",
       "    .dataframe tbody tr th:only-of-type {\n",
       "        vertical-align: middle;\n",
       "    }\n",
       "\n",
       "    .dataframe tbody tr th {\n",
       "        vertical-align: top;\n",
       "    }\n",
       "\n",
       "    .dataframe thead th {\n",
       "        text-align: right;\n",
       "    }\n",
       "</style>\n",
       "<table border=\"1\" class=\"dataframe\">\n",
       "  <thead>\n",
       "    <tr style=\"text-align: right;\">\n",
       "      <th></th>\n",
       "      <th>Yr_Mo_Dy</th>\n",
       "      <th>RPT</th>\n",
       "      <th>VAL</th>\n",
       "      <th>ROS</th>\n",
       "      <th>KIL</th>\n",
       "      <th>SHA</th>\n",
       "      <th>BIR</th>\n",
       "      <th>DUB</th>\n",
       "      <th>CLA</th>\n",
       "      <th>MUL</th>\n",
       "      <th>CLO</th>\n",
       "      <th>BEL</th>\n",
       "      <th>MAL</th>\n",
       "      <th>weekday</th>\n",
       "      <th>WeekCheck</th>\n",
       "    </tr>\n",
       "    <tr>\n",
       "      <th>Yr_Mo_Dy</th>\n",
       "      <th></th>\n",
       "      <th></th>\n",
       "      <th></th>\n",
       "      <th></th>\n",
       "      <th></th>\n",
       "      <th></th>\n",
       "      <th></th>\n",
       "      <th></th>\n",
       "      <th></th>\n",
       "      <th></th>\n",
       "      <th></th>\n",
       "      <th></th>\n",
       "      <th></th>\n",
       "      <th></th>\n",
       "      <th></th>\n",
       "    </tr>\n",
       "  </thead>\n",
       "  <tbody>\n",
       "    <tr>\n",
       "      <th>1</th>\n",
       "      <td>1969-07-17 06:40:00.000000000</td>\n",
       "      <td>14.847325</td>\n",
       "      <td>12.914560</td>\n",
       "      <td>13.299624</td>\n",
       "      <td>7.199498</td>\n",
       "      <td>11.667734</td>\n",
       "      <td>8.054839</td>\n",
       "      <td>11.819355</td>\n",
       "      <td>9.512047</td>\n",
       "      <td>9.543208</td>\n",
       "      <td>10.053566</td>\n",
       "      <td>14.550520</td>\n",
       "      <td>18.028763</td>\n",
       "      <td>2.989247</td>\n",
       "      <td>0.284946</td>\n",
       "    </tr>\n",
       "    <tr>\n",
       "      <th>2</th>\n",
       "      <td>1969-08-17 07:50:33.070866142</td>\n",
       "      <td>13.710906</td>\n",
       "      <td>12.111122</td>\n",
       "      <td>12.879132</td>\n",
       "      <td>6.942411</td>\n",
       "      <td>11.551772</td>\n",
       "      <td>7.633858</td>\n",
       "      <td>11.206024</td>\n",
       "      <td>9.341437</td>\n",
       "      <td>9.313169</td>\n",
       "      <td>9.518051</td>\n",
       "      <td>13.728898</td>\n",
       "      <td>17.156142</td>\n",
       "      <td>3.005906</td>\n",
       "      <td>0.287402</td>\n",
       "    </tr>\n",
       "    <tr>\n",
       "      <th>3</th>\n",
       "      <td>1969-09-14 12:00:00.000000000</td>\n",
       "      <td>13.158687</td>\n",
       "      <td>11.505842</td>\n",
       "      <td>12.648118</td>\n",
       "      <td>7.265907</td>\n",
       "      <td>11.554516</td>\n",
       "      <td>7.959409</td>\n",
       "      <td>11.310179</td>\n",
       "      <td>9.635896</td>\n",
       "      <td>9.700324</td>\n",
       "      <td>10.096953</td>\n",
       "      <td>13.810609</td>\n",
       "      <td>16.909317</td>\n",
       "      <td>3.000000</td>\n",
       "      <td>0.283154</td>\n",
       "    </tr>\n",
       "    <tr>\n",
       "      <th>4</th>\n",
       "      <td>1969-10-15 00:00:00.000000000</td>\n",
       "      <td>12.555648</td>\n",
       "      <td>10.429759</td>\n",
       "      <td>12.204815</td>\n",
       "      <td>6.898037</td>\n",
       "      <td>10.677667</td>\n",
       "      <td>7.441389</td>\n",
       "      <td>10.221315</td>\n",
       "      <td>8.909056</td>\n",
       "      <td>8.930870</td>\n",
       "      <td>9.158019</td>\n",
       "      <td>12.664759</td>\n",
       "      <td>14.937611</td>\n",
       "      <td>3.011111</td>\n",
       "      <td>0.288889</td>\n",
       "    </tr>\n",
       "  </tbody>\n",
       "</table>\n",
       "</div>"
      ],
      "text/plain": [
       "                              Yr_Mo_Dy        RPT        VAL        ROS  \\\n",
       "Yr_Mo_Dy                                                                  \n",
       "1        1969-07-17 06:40:00.000000000  14.847325  12.914560  13.299624   \n",
       "2        1969-08-17 07:50:33.070866142  13.710906  12.111122  12.879132   \n",
       "3        1969-09-14 12:00:00.000000000  13.158687  11.505842  12.648118   \n",
       "4        1969-10-15 00:00:00.000000000  12.555648  10.429759  12.204815   \n",
       "\n",
       "               KIL        SHA       BIR        DUB       CLA       MUL  \\\n",
       "Yr_Mo_Dy                                                                 \n",
       "1         7.199498  11.667734  8.054839  11.819355  9.512047  9.543208   \n",
       "2         6.942411  11.551772  7.633858  11.206024  9.341437  9.313169   \n",
       "3         7.265907  11.554516  7.959409  11.310179  9.635896  9.700324   \n",
       "4         6.898037  10.677667  7.441389  10.221315  8.909056  8.930870   \n",
       "\n",
       "                CLO        BEL        MAL   weekday  WeekCheck  \n",
       "Yr_Mo_Dy                                                        \n",
       "1         10.053566  14.550520  18.028763  2.989247   0.284946  \n",
       "2          9.518051  13.728898  17.156142  3.005906   0.287402  \n",
       "3         10.096953  13.810609  16.909317  3.000000   0.283154  \n",
       "4          9.158019  12.664759  14.937611  3.011111   0.288889  "
      ]
     },
     "execution_count": 444,
     "metadata": {},
     "output_type": "execute_result"
    }
   ],
   "source": [
    "df.groupby(df['Yr_Mo_Dy'].dt.month).mean().head(4)"
   ]
  },
  {
   "cell_type": "markdown",
   "id": "514e0000",
   "metadata": {},
   "source": [
    "## Question 72\n",
    "모든 결측치는 컬럼기준 직전의 값으로 대체하고 첫번째 행에 결측치가 있을경우 뒤에있는 값으로 대채하라."
   ]
  },
  {
   "cell_type": "code",
   "execution_count": 445,
   "id": "4c043862",
   "metadata": {},
   "outputs": [
    {
     "data": {
      "application/vnd.microsoft.datawrangler.viewer.v0+json": {
       "columns": [
        {
         "name": "index",
         "rawType": "object",
         "type": "string"
        },
        {
         "name": "0",
         "rawType": "int64",
         "type": "integer"
        }
       ],
       "ref": "77e094b5-910a-4fb0-adc9-342d760dfea5",
       "rows": [
        [
         "Yr_Mo_Dy",
         "0"
        ],
        [
         "RPT",
         "0"
        ],
        [
         "VAL",
         "0"
        ],
        [
         "ROS",
         "0"
        ],
        [
         "KIL",
         "0"
        ],
        [
         "SHA",
         "0"
        ],
        [
         "BIR",
         "0"
        ],
        [
         "DUB",
         "0"
        ],
        [
         "CLA",
         "0"
        ],
        [
         "MUL",
         "0"
        ],
        [
         "CLO",
         "0"
        ],
        [
         "BEL",
         "0"
        ],
        [
         "MAL",
         "0"
        ],
        [
         "weekday",
         "0"
        ],
        [
         "WeekCheck",
         "0"
        ]
       ],
       "shape": {
        "columns": 1,
        "rows": 15
       }
      },
      "text/plain": [
       "Yr_Mo_Dy     0\n",
       "RPT          0\n",
       "VAL          0\n",
       "ROS          0\n",
       "KIL          0\n",
       "SHA          0\n",
       "BIR          0\n",
       "DUB          0\n",
       "CLA          0\n",
       "MUL          0\n",
       "CLO          0\n",
       "BEL          0\n",
       "MAL          0\n",
       "weekday      0\n",
       "WeekCheck    0\n",
       "dtype: int64"
      ]
     },
     "execution_count": 445,
     "metadata": {},
     "output_type": "execute_result"
    }
   ],
   "source": [
    "df.ffill(inplace=True)\n",
    "df.bfill(inplace=True)\n",
    "df.isna().sum() # 내가 쓴 답"
   ]
  },
  {
   "cell_type": "code",
   "execution_count": 446,
   "id": "9f4a9720",
   "metadata": {},
   "outputs": [],
   "source": [
    "# df = df.fillna(method='ffill').fillna(method='bfill')\n",
    "# df.isnull().sum() # 데이터마님 답"
   ]
  },
  {
   "cell_type": "markdown",
   "id": "2a5d4237",
   "metadata": {},
   "source": [
    "## Question 73\n",
    "년도 - 월을 기준으로 모든 컬럼의 평균값을 구하여라."
   ]
  },
  {
   "cell_type": "code",
   "execution_count": 447,
   "id": "54c7b86a",
   "metadata": {},
   "outputs": [
    {
     "data": {
      "application/vnd.microsoft.datawrangler.viewer.v0+json": {
       "columns": [
        {
         "name": "Yr_Mo_Dy",
         "rawType": "period[M]",
         "type": "unknown"
        },
        {
         "name": "Yr_Mo_Dy",
         "rawType": "datetime64[ns]",
         "type": "datetime"
        },
        {
         "name": "RPT",
         "rawType": "float64",
         "type": "float"
        },
        {
         "name": "VAL",
         "rawType": "float64",
         "type": "float"
        },
        {
         "name": "ROS",
         "rawType": "float64",
         "type": "float"
        },
        {
         "name": "KIL",
         "rawType": "float64",
         "type": "float"
        },
        {
         "name": "SHA",
         "rawType": "float64",
         "type": "float"
        },
        {
         "name": "BIR",
         "rawType": "float64",
         "type": "float"
        },
        {
         "name": "DUB",
         "rawType": "float64",
         "type": "float"
        },
        {
         "name": "CLA",
         "rawType": "float64",
         "type": "float"
        },
        {
         "name": "MUL",
         "rawType": "float64",
         "type": "float"
        },
        {
         "name": "CLO",
         "rawType": "float64",
         "type": "float"
        },
        {
         "name": "BEL",
         "rawType": "float64",
         "type": "float"
        },
        {
         "name": "MAL",
         "rawType": "float64",
         "type": "float"
        },
        {
         "name": "weekday",
         "rawType": "float64",
         "type": "float"
        },
        {
         "name": "WeekCheck",
         "rawType": "float64",
         "type": "float"
        }
       ],
       "ref": "6828e70a-420e-4c7e-b236-d71d5d276d7e",
       "rows": [
        [
         "1961-01",
         "1961-01-16 00:00:00",
         "14.932580645161291",
         "12.084193548387097",
         "13.431612903225806",
         "7.736774193548388",
         "11.215806451612902",
         "8.588064516129032",
         "11.184838709677418",
         "9.270967741935483",
         "9.085806451612902",
         "10.10741935483871",
         "13.880967741935484",
         "14.703225806451613",
         "2.935483870967742",
         "0.2903225806451613"
        ],
        [
         "1961-02",
         "1961-02-14 12:00:00",
         "16.269285714285715",
         "14.975357142857144",
         "14.324642857142857",
         "9.116785714285715",
         "13.852142857142857",
         "10.9375",
         "11.890714285714285",
         "11.84607142857143",
         "11.821428571428571",
         "12.714285714285714",
         "18.583214285714288",
         "15.411785714285713",
         "3.0",
         "0.2857142857142857"
        ],
        [
         "1961-03",
         "1961-03-16 00:00:00",
         "11.015806451612903",
         "11.296451612903226",
         "10.75290322580645",
         "7.137741935483871",
         "10.509354838709678",
         "8.866774193548387",
         "9.644193548387097",
         "9.829677419354837",
         "10.646129032258063",
         "11.251935483870968",
         "16.410967741935483",
         "15.63774193548387",
         "3.0",
         "0.25806451612903225"
        ]
       ],
       "shape": {
        "columns": 15,
        "rows": 3
       }
      },
      "text/html": [
       "<div>\n",
       "<style scoped>\n",
       "    .dataframe tbody tr th:only-of-type {\n",
       "        vertical-align: middle;\n",
       "    }\n",
       "\n",
       "    .dataframe tbody tr th {\n",
       "        vertical-align: top;\n",
       "    }\n",
       "\n",
       "    .dataframe thead th {\n",
       "        text-align: right;\n",
       "    }\n",
       "</style>\n",
       "<table border=\"1\" class=\"dataframe\">\n",
       "  <thead>\n",
       "    <tr style=\"text-align: right;\">\n",
       "      <th></th>\n",
       "      <th>Yr_Mo_Dy</th>\n",
       "      <th>RPT</th>\n",
       "      <th>VAL</th>\n",
       "      <th>ROS</th>\n",
       "      <th>KIL</th>\n",
       "      <th>SHA</th>\n",
       "      <th>BIR</th>\n",
       "      <th>DUB</th>\n",
       "      <th>CLA</th>\n",
       "      <th>MUL</th>\n",
       "      <th>CLO</th>\n",
       "      <th>BEL</th>\n",
       "      <th>MAL</th>\n",
       "      <th>weekday</th>\n",
       "      <th>WeekCheck</th>\n",
       "    </tr>\n",
       "    <tr>\n",
       "      <th>Yr_Mo_Dy</th>\n",
       "      <th></th>\n",
       "      <th></th>\n",
       "      <th></th>\n",
       "      <th></th>\n",
       "      <th></th>\n",
       "      <th></th>\n",
       "      <th></th>\n",
       "      <th></th>\n",
       "      <th></th>\n",
       "      <th></th>\n",
       "      <th></th>\n",
       "      <th></th>\n",
       "      <th></th>\n",
       "      <th></th>\n",
       "      <th></th>\n",
       "    </tr>\n",
       "  </thead>\n",
       "  <tbody>\n",
       "    <tr>\n",
       "      <th>1961-01</th>\n",
       "      <td>1961-01-16 00:00:00</td>\n",
       "      <td>14.932581</td>\n",
       "      <td>12.084194</td>\n",
       "      <td>13.431613</td>\n",
       "      <td>7.736774</td>\n",
       "      <td>11.215806</td>\n",
       "      <td>8.588065</td>\n",
       "      <td>11.184839</td>\n",
       "      <td>9.270968</td>\n",
       "      <td>9.085806</td>\n",
       "      <td>10.107419</td>\n",
       "      <td>13.880968</td>\n",
       "      <td>14.703226</td>\n",
       "      <td>2.935484</td>\n",
       "      <td>0.290323</td>\n",
       "    </tr>\n",
       "    <tr>\n",
       "      <th>1961-02</th>\n",
       "      <td>1961-02-14 12:00:00</td>\n",
       "      <td>16.269286</td>\n",
       "      <td>14.975357</td>\n",
       "      <td>14.324643</td>\n",
       "      <td>9.116786</td>\n",
       "      <td>13.852143</td>\n",
       "      <td>10.937500</td>\n",
       "      <td>11.890714</td>\n",
       "      <td>11.846071</td>\n",
       "      <td>11.821429</td>\n",
       "      <td>12.714286</td>\n",
       "      <td>18.583214</td>\n",
       "      <td>15.411786</td>\n",
       "      <td>3.000000</td>\n",
       "      <td>0.285714</td>\n",
       "    </tr>\n",
       "    <tr>\n",
       "      <th>1961-03</th>\n",
       "      <td>1961-03-16 00:00:00</td>\n",
       "      <td>11.015806</td>\n",
       "      <td>11.296452</td>\n",
       "      <td>10.752903</td>\n",
       "      <td>7.137742</td>\n",
       "      <td>10.509355</td>\n",
       "      <td>8.866774</td>\n",
       "      <td>9.644194</td>\n",
       "      <td>9.829677</td>\n",
       "      <td>10.646129</td>\n",
       "      <td>11.251935</td>\n",
       "      <td>16.410968</td>\n",
       "      <td>15.637742</td>\n",
       "      <td>3.000000</td>\n",
       "      <td>0.258065</td>\n",
       "    </tr>\n",
       "  </tbody>\n",
       "</table>\n",
       "</div>"
      ],
      "text/plain": [
       "                    Yr_Mo_Dy        RPT        VAL        ROS       KIL  \\\n",
       "Yr_Mo_Dy                                                                  \n",
       "1961-01  1961-01-16 00:00:00  14.932581  12.084194  13.431613  7.736774   \n",
       "1961-02  1961-02-14 12:00:00  16.269286  14.975357  14.324643  9.116786   \n",
       "1961-03  1961-03-16 00:00:00  11.015806  11.296452  10.752903  7.137742   \n",
       "\n",
       "                SHA        BIR        DUB        CLA        MUL        CLO  \\\n",
       "Yr_Mo_Dy                                                                     \n",
       "1961-01   11.215806   8.588065  11.184839   9.270968   9.085806  10.107419   \n",
       "1961-02   13.852143  10.937500  11.890714  11.846071  11.821429  12.714286   \n",
       "1961-03   10.509355   8.866774   9.644194   9.829677  10.646129  11.251935   \n",
       "\n",
       "                BEL        MAL   weekday  WeekCheck  \n",
       "Yr_Mo_Dy                                             \n",
       "1961-01   13.880968  14.703226  2.935484   0.290323  \n",
       "1961-02   18.583214  15.411786  3.000000   0.285714  \n",
       "1961-03   16.410968  15.637742  3.000000   0.258065  "
      ]
     },
     "execution_count": 447,
     "metadata": {},
     "output_type": "execute_result"
    }
   ],
   "source": [
    "df.groupby(df.Yr_Mo_Dy.dt.to_period('M')).mean().head(3)"
   ]
  },
  {
   "cell_type": "markdown",
   "id": "131edd38",
   "metadata": {},
   "source": [
    "## Question 74\n",
    "RPT 컬럼의 값을 일자별 기준으로 1차차분하라."
   ]
  },
  {
   "cell_type": "code",
   "execution_count": 449,
   "id": "2bc60580",
   "metadata": {},
   "outputs": [
    {
     "data": {
      "application/vnd.microsoft.datawrangler.viewer.v0+json": {
       "columns": [
        {
         "name": "index",
         "rawType": "int64",
         "type": "integer"
        },
        {
         "name": "RPT",
         "rawType": "float64",
         "type": "float"
        }
       ],
       "ref": "ae8c87ce-bd85-4c5d-8bd2-d32cbe175c04",
       "rows": [
        [
         "0",
         null
        ],
        [
         "1",
         "-0.3299999999999983"
        ],
        [
         "2",
         "3.789999999999999"
        ]
       ],
       "shape": {
        "columns": 1,
        "rows": 3
       }
      },
      "text/plain": [
       "0     NaN\n",
       "1   -0.33\n",
       "2    3.79\n",
       "Name: RPT, dtype: float64"
      ]
     },
     "execution_count": 449,
     "metadata": {},
     "output_type": "execute_result"
    }
   ],
   "source": [
    "df['RPT'].diff().head(3)"
   ]
  },
  {
   "cell_type": "markdown",
   "id": "60b37415",
   "metadata": {},
   "source": [
    "## Question 75\n",
    "RPT와 VAL의 컬럼을 일주일 간격으로 각각 이동평균한값을 구하여라."
   ]
  },
  {
   "cell_type": "code",
   "execution_count": 451,
   "id": "1f398dd3",
   "metadata": {},
   "outputs": [
    {
     "data": {
      "application/vnd.microsoft.datawrangler.viewer.v0+json": {
       "columns": [
        {
         "name": "index",
         "rawType": "int64",
         "type": "integer"
        },
        {
         "name": "RPT",
         "rawType": "float64",
         "type": "float"
        },
        {
         "name": "VAL",
         "rawType": "float64",
         "type": "float"
        }
       ],
       "ref": "713c7337-062b-4700-8ac8-2773e80f6c37",
       "rows": [
        [
         "0",
         null,
         null
        ],
        [
         "1",
         null,
         null
        ],
        [
         "2",
         null,
         null
        ],
        [
         "3",
         null,
         null
        ],
        [
         "4",
         null,
         null
        ],
        [
         "5",
         null,
         null
        ],
        [
         "6",
         "14.124285714285715",
         "12.727142857142857"
        ],
        [
         "7",
         "13.541428571428572",
         "11.982857142857142"
        ],
        [
         "8",
         "13.237142857142857",
         "11.392857142857142"
        ]
       ],
       "shape": {
        "columns": 2,
        "rows": 9
       }
      },
      "text/html": [
       "<div>\n",
       "<style scoped>\n",
       "    .dataframe tbody tr th:only-of-type {\n",
       "        vertical-align: middle;\n",
       "    }\n",
       "\n",
       "    .dataframe tbody tr th {\n",
       "        vertical-align: top;\n",
       "    }\n",
       "\n",
       "    .dataframe thead th {\n",
       "        text-align: right;\n",
       "    }\n",
       "</style>\n",
       "<table border=\"1\" class=\"dataframe\">\n",
       "  <thead>\n",
       "    <tr style=\"text-align: right;\">\n",
       "      <th></th>\n",
       "      <th>RPT</th>\n",
       "      <th>VAL</th>\n",
       "    </tr>\n",
       "  </thead>\n",
       "  <tbody>\n",
       "    <tr>\n",
       "      <th>0</th>\n",
       "      <td>NaN</td>\n",
       "      <td>NaN</td>\n",
       "    </tr>\n",
       "    <tr>\n",
       "      <th>1</th>\n",
       "      <td>NaN</td>\n",
       "      <td>NaN</td>\n",
       "    </tr>\n",
       "    <tr>\n",
       "      <th>2</th>\n",
       "      <td>NaN</td>\n",
       "      <td>NaN</td>\n",
       "    </tr>\n",
       "    <tr>\n",
       "      <th>3</th>\n",
       "      <td>NaN</td>\n",
       "      <td>NaN</td>\n",
       "    </tr>\n",
       "    <tr>\n",
       "      <th>4</th>\n",
       "      <td>NaN</td>\n",
       "      <td>NaN</td>\n",
       "    </tr>\n",
       "    <tr>\n",
       "      <th>5</th>\n",
       "      <td>NaN</td>\n",
       "      <td>NaN</td>\n",
       "    </tr>\n",
       "    <tr>\n",
       "      <th>6</th>\n",
       "      <td>14.124286</td>\n",
       "      <td>12.727143</td>\n",
       "    </tr>\n",
       "    <tr>\n",
       "      <th>7</th>\n",
       "      <td>13.541429</td>\n",
       "      <td>11.982857</td>\n",
       "    </tr>\n",
       "    <tr>\n",
       "      <th>8</th>\n",
       "      <td>13.237143</td>\n",
       "      <td>11.392857</td>\n",
       "    </tr>\n",
       "  </tbody>\n",
       "</table>\n",
       "</div>"
      ],
      "text/plain": [
       "         RPT        VAL\n",
       "0        NaN        NaN\n",
       "1        NaN        NaN\n",
       "2        NaN        NaN\n",
       "3        NaN        NaN\n",
       "4        NaN        NaN\n",
       "5        NaN        NaN\n",
       "6  14.124286  12.727143\n",
       "7  13.541429  11.982857\n",
       "8  13.237143  11.392857"
      ]
     },
     "execution_count": 451,
     "metadata": {},
     "output_type": "execute_result"
    }
   ],
   "source": [
    "df[['RPT', 'VAL']].rolling(7).mean().head(9)"
   ]
  },
  {
   "cell_type": "markdown",
   "id": "94c79a6b",
   "metadata": {},
   "source": [
    "서울시 미세먼지 데이터 : https://www.airkorea.or.kr/web/realSearch?pMENU_NO=97<br>\n",
    "DataUrl = ‘https://raw.githubusercontent.com/Datamanim/pandas/main/seoul_pm.csv’"
   ]
  },
  {
   "cell_type": "code",
   "execution_count": 452,
   "id": "1af70b22",
   "metadata": {},
   "outputs": [],
   "source": [
    "DataUrl = 'https://raw.githubusercontent.com/Datamanim/pandas/main/seoul_pm.csv'\n",
    "df = pd.read_csv(DataUrl)"
   ]
  },
  {
   "cell_type": "markdown",
   "id": "d4752f97",
   "metadata": {},
   "source": [
    "## Question 76\n",
    "년-월-일:시 컬럼을 pandas에서 인식할 수 있는 datetime 형태로 변경하라. 서울시의 제공데이터의 경우 0시가 24시로 표현된다."
   ]
  },
  {
   "cell_type": "code",
   "execution_count": 471,
   "id": "743c0f2f",
   "metadata": {},
   "outputs": [
    {
     "data": {
      "application/vnd.microsoft.datawrangler.viewer.v0+json": {
       "columns": [
        {
         "name": "index",
         "rawType": "int64",
         "type": "integer"
        },
        {
         "name": "(년-월-일:시)",
         "rawType": "object",
         "type": "string"
        }
       ],
       "ref": "bfdbdb20-d5db-42ed-8e71-ae70da5ff94f",
       "rows": [
        [
         "0",
         "2021-05-15:15"
        ],
        [
         "1",
         "2021-05-15:14"
        ],
        [
         "2",
         "2021-05-15:13"
        ],
        [
         "3",
         "2021-05-15:12"
        ],
        [
         "4",
         "2021-05-15:11"
        ]
       ],
       "shape": {
        "columns": 1,
        "rows": 5
       }
      },
      "text/plain": [
       "0    2021-05-15:15\n",
       "1    2021-05-15:14\n",
       "2    2021-05-15:13\n",
       "3    2021-05-15:12\n",
       "4    2021-05-15:11\n",
       "Name: (년-월-일:시), dtype: object"
      ]
     },
     "execution_count": 471,
     "metadata": {},
     "output_type": "execute_result"
    }
   ],
   "source": [
    "df['(년-월-일:시)'].head()"
   ]
  },
  {
   "cell_type": "code",
   "execution_count": null,
   "id": "1f0fefd9",
   "metadata": {},
   "outputs": [],
   "source": [
    "def change_hour(x):\n",
    "    import datetime\n",
    "    hour = x.split"
   ]
  },
  {
   "cell_type": "markdown",
   "id": "0df28451",
   "metadata": {},
   "source": [
    "## Question 77\n",
    "일자별 영어요일 이름을 dayName 컬럼에 저장하라."
   ]
  },
  {
   "cell_type": "code",
   "execution_count": null,
   "id": "4312b004",
   "metadata": {},
   "outputs": [],
   "source": []
  },
  {
   "cell_type": "markdown",
   "id": "baf5c489",
   "metadata": {},
   "source": [
    "## Question 78\n",
    "일자별 각 PM10등급의 빈도수를 파악하라."
   ]
  },
  {
   "cell_type": "code",
   "execution_count": null,
   "id": "5fef4a45",
   "metadata": {},
   "outputs": [],
   "source": []
  },
  {
   "cell_type": "markdown",
   "id": "b4ef2d10",
   "metadata": {},
   "source": [
    "## Question 79\n",
    "시간이 연속적으로 존재하며 결측치가 없는지 확인하라."
   ]
  },
  {
   "cell_type": "code",
   "execution_count": null,
   "id": "95a7bb2b",
   "metadata": {},
   "outputs": [],
   "source": []
  },
  {
   "cell_type": "markdown",
   "id": "eebbeee0",
   "metadata": {},
   "source": [
    "## Question 80\n",
    "오전 10시와 오후 10시(22시)의 PM10의 평균값을 각각 구하여라."
   ]
  },
  {
   "cell_type": "code",
   "execution_count": null,
   "id": "d826222b",
   "metadata": {},
   "outputs": [],
   "source": []
  },
  {
   "cell_type": "markdown",
   "id": "531cf805",
   "metadata": {},
   "source": [
    "## Question 81\n",
    "날짜 컬럼을 index로 만들어라."
   ]
  },
  {
   "cell_type": "code",
   "execution_count": null,
   "id": "69257cf4",
   "metadata": {},
   "outputs": [],
   "source": []
  },
  {
   "cell_type": "markdown",
   "id": "f0bee7c0",
   "metadata": {},
   "source": [
    "## Question 82\n",
    "데이터를 주단위로 뽑아서 최소,최대 평균, 표준표차를 구하여라."
   ]
  },
  {
   "cell_type": "code",
   "execution_count": null,
   "id": "537058d8",
   "metadata": {},
   "outputs": [],
   "source": []
  },
  {
   "cell_type": "markdown",
   "id": "f77c3cfa",
   "metadata": {},
   "source": [
    "# 06_Pivot\n",
    "국가별 5세이하 사망비율 통계 : https://www.kaggle.com/utkarshxy/who-worldhealth-statistics-2020-complete<br>\n",
    "Dataurl = ‘https://raw.githubusercontent.com/Datamanim/pandas/main/under5MortalityRate.csv’"
   ]
  },
  {
   "cell_type": "markdown",
   "id": "88192e10",
   "metadata": {},
   "source": [
    "## Question 83\n",
    "Indicator을 삭제하고 First Tooltip 컬럼에서 신뢰구간에 해당하는 표현을 지워라."
   ]
  },
  {
   "cell_type": "code",
   "execution_count": null,
   "id": "7a7f10ed",
   "metadata": {},
   "outputs": [],
   "source": []
  },
  {
   "cell_type": "markdown",
   "id": "8af81e9c",
   "metadata": {},
   "source": [
    "## Question 84\n",
    "년도가 2015년 이상, Dim1이 Both sexes인 케이스만 추출하라."
   ]
  },
  {
   "cell_type": "code",
   "execution_count": null,
   "id": "83694cdf",
   "metadata": {},
   "outputs": [],
   "source": []
  },
  {
   "cell_type": "markdown",
   "id": "a785dea0",
   "metadata": {},
   "source": [
    "## Question 85\n",
    "84번 문제에서 추출한 데이터로 아래와 같이 나라에 따른 년도별 사망률을 데이터 프레임화 하라."
   ]
  },
  {
   "cell_type": "code",
   "execution_count": null,
   "id": "0dce71dc",
   "metadata": {},
   "outputs": [],
   "source": []
  },
  {
   "cell_type": "markdown",
   "id": "c0f481f2",
   "metadata": {},
   "source": [
    "## Question 86\n",
    "Dim1에 따른 년도별 사망비율의 평균을 구하라."
   ]
  },
  {
   "cell_type": "code",
   "execution_count": null,
   "id": "9a0518cd",
   "metadata": {},
   "outputs": [],
   "source": []
  },
  {
   "cell_type": "markdown",
   "id": "2bd53a02",
   "metadata": {},
   "source": [
    "올림픽 메달리스트 정보 데이터: https://www.kaggle.com/the-guardian/olympic-games<br>\n",
    "dataUrl =’https://raw.githubusercontent.com/Datamanim/pandas/main/winter.csv’\n",
    "\n"
   ]
  },
  {
   "cell_type": "markdown",
   "id": "ed952c10",
   "metadata": {},
   "source": [
    "## Question 87\n",
    "데이터에서 한국 KOR 데이터만 추출하라."
   ]
  },
  {
   "cell_type": "code",
   "execution_count": null,
   "id": "5dc430fa",
   "metadata": {},
   "outputs": [],
   "source": []
  },
  {
   "cell_type": "markdown",
   "id": "ce078ca2",
   "metadata": {},
   "source": [
    "## Question 88\n",
    "한국 올림픽 메달리스트 데이터에서 년도에 따른 medal 갯수를 데이터프레임화 하라."
   ]
  },
  {
   "cell_type": "code",
   "execution_count": null,
   "id": "e6703898",
   "metadata": {},
   "outputs": [],
   "source": []
  },
  {
   "cell_type": "markdown",
   "id": "da9cd034",
   "metadata": {},
   "source": [
    "## Question 89\n",
    "전체 데이터에서 sport종류에 따른 성별수를 구하여라."
   ]
  },
  {
   "cell_type": "code",
   "execution_count": null,
   "id": "9d51fcb1",
   "metadata": {},
   "outputs": [],
   "source": []
  },
  {
   "cell_type": "markdown",
   "id": "eea5fe25",
   "metadata": {},
   "source": [
    "## Question 90\n",
    "전체 데이터에서 Discipline종류에 따른 따른 Medal수를 구하여라."
   ]
  },
  {
   "cell_type": "code",
   "execution_count": null,
   "id": "2223c1e6",
   "metadata": {},
   "outputs": [],
   "source": []
  },
  {
   "cell_type": "markdown",
   "id": "10ec96c7",
   "metadata": {},
   "source": [
    "# 07_Merge, Concat\n",
    "국가별 5세이하 사망비율 통계 : https://www.kaggle.com/utkarshxy/who-worldhealth-statistics-2020-complete<br>\n",
    "데이터 변형\n",
    "Dataurl = ‘https://raw.githubusercontent.com/Datamanim/pandas/main/mergeTEst.csv’"
   ]
  },
  {
   "cell_type": "markdown",
   "id": "a8c4c7b7",
   "metadata": {},
   "source": [
    "## Question 91\n",
    "df1과 df2 데이터를 하나의 데이터 프레임으로 합쳐라."
   ]
  },
  {
   "cell_type": "code",
   "execution_count": null,
   "id": "401584ea",
   "metadata": {},
   "outputs": [],
   "source": []
  },
  {
   "cell_type": "markdown",
   "id": "1d266789",
   "metadata": {},
   "source": [
    "## Question 92\n",
    "df3과 df4 데이터를 하나의 데이터 프레임으로 합쳐라. 둘다 포함하고 있는 년도에 대해서만 고려한다."
   ]
  },
  {
   "cell_type": "code",
   "execution_count": null,
   "id": "313caf9f",
   "metadata": {},
   "outputs": [],
   "source": []
  },
  {
   "cell_type": "markdown",
   "id": "a5f05fed",
   "metadata": {},
   "source": [
    "## Question 93\n",
    "df3과 df4 데이터를 하나의 데이터 프레임으로 합쳐라. 모든 컬럼을 포함하고, 결측치는 0으로 대체한다."
   ]
  },
  {
   "cell_type": "code",
   "execution_count": null,
   "id": "da865b1e",
   "metadata": {},
   "outputs": [],
   "source": []
  },
  {
   "cell_type": "markdown",
   "id": "07134711",
   "metadata": {},
   "source": [
    "## Question 94\n",
    "df5과 df6 데이터를 하나의 데이터 프레임으로 merge함수를 이용하여 합쳐라. Algeria컬럼을 key로 하고 두 데이터 모두 포함하는 데이터만 출력하라."
   ]
  },
  {
   "cell_type": "code",
   "execution_count": null,
   "id": "8fcc9199",
   "metadata": {},
   "outputs": [],
   "source": []
  },
  {
   "cell_type": "markdown",
   "id": "b2abf287",
   "metadata": {},
   "source": [
    "## Question 95\n",
    "df5과 df6 데이터를 하나의 데이터 프레임으로 merge함수를 이용하여 합쳐라. Algeria컬럼을 key로 하고 합집합으로 합쳐라."
   ]
  },
  {
   "cell_type": "code",
   "execution_count": null,
   "id": "8fc14e69",
   "metadata": {},
   "outputs": [],
   "source": []
  }
 ],
 "metadata": {
  "kernelspec": {
   "display_name": "base",
   "language": "python",
   "name": "python3"
  },
  "language_info": {
   "codemirror_mode": {
    "name": "ipython",
    "version": 3
   },
   "file_extension": ".py",
   "mimetype": "text/x-python",
   "name": "python",
   "nbconvert_exporter": "python",
   "pygments_lexer": "ipython3",
   "version": "3.12.7"
  }
 },
 "nbformat": 4,
 "nbformat_minor": 5
}
