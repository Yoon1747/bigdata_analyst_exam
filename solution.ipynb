{
 "cells": [
  {
   "cell_type": "markdown",
   "id": "92d7b193",
   "metadata": {},
   "source": [
    "**vs code로 작성했으며, 자동완성 때문에 불편하다면 https://chaeeunsong.tistory.com/91 여기 참고해서 자동완성 해제하세요.<br>**\n"
   ]
  },
  {
   "cell_type": "markdown",
   "id": "ad49e02a",
   "metadata": {},
   "source": [
    "# 01 Getting & Knowing Data"
   ]
  },
  {
   "cell_type": "markdown",
   "id": "2c781a2c",
   "metadata": {},
   "source": [
    "## Question 1\n",
    "데이터를 로드하라. 데이터는 \\t을 기준으로 구분되어있다."
   ]
  },
  {
   "cell_type": "code",
   "execution_count": null,
   "id": "52aaf3f3",
   "metadata": {},
   "outputs": [],
   "source": [
    "import pandas as pd"
   ]
  },
  {
   "cell_type": "code",
   "execution_count": null,
   "id": "7f3d8779",
   "metadata": {},
   "outputs": [],
   "source": [
    "DataUrl = 'https://raw.githubusercontent.com/Datamanim/pandas/main/lol.csv'"
   ]
  },
  {
   "cell_type": "code",
   "execution_count": null,
   "id": "773cf787",
   "metadata": {},
   "outputs": [],
   "source": [
    "df = pd.read_csv(DataUrl, sep='\\t')"
   ]
  },
  {
   "cell_type": "markdown",
   "id": "6f19fec8",
   "metadata": {},
   "source": [
    "## Question 2\n",
    "데이터의 상위 5개 행을 출력하라."
   ]
  },
  {
   "cell_type": "code",
   "execution_count": null,
   "id": "1e2b1d1d",
   "metadata": {},
   "outputs": [],
   "source": [
    "df.head()"
   ]
  },
  {
   "cell_type": "markdown",
   "id": "cf523488",
   "metadata": {},
   "source": [
    "## Question 3\n",
    "데이터의 행과 열의 갯수를 파악하라."
   ]
  },
  {
   "cell_type": "code",
   "execution_count": null,
   "id": "9ff64c4b",
   "metadata": {},
   "outputs": [],
   "source": [
    "print(df.shape)\n",
    "print('행: ', df.shape[0])\n",
    "print('열: ', df.shape[1])"
   ]
  },
  {
   "cell_type": "markdown",
   "id": "a4b6a013",
   "metadata": {},
   "source": [
    "## Question 4\n",
    "전체 컬럼을 출력하라."
   ]
  },
  {
   "cell_type": "code",
   "execution_count": null,
   "id": "d5f0fbb7",
   "metadata": {},
   "outputs": [],
   "source": [
    "df.columns"
   ]
  },
  {
   "cell_type": "markdown",
   "id": "0bb541f1",
   "metadata": {},
   "source": [
    "## Question 5\n",
    "6번째 컬럼명을 출력하라."
   ]
  },
  {
   "cell_type": "code",
   "execution_count": null,
   "id": "4176185c",
   "metadata": {},
   "outputs": [],
   "source": [
    "df.columns[5]"
   ]
  },
  {
   "cell_type": "markdown",
   "id": "5fb30c4f",
   "metadata": {},
   "source": [
    "## Question 6\n",
    "6번재 컬럼의 데이터 타입을 확인하라."
   ]
  },
  {
   "cell_type": "code",
   "execution_count": null,
   "id": "f15d3546",
   "metadata": {},
   "outputs": [],
   "source": [
    "df.dtypes[5] # 내가 쓴 답, 경고문에서 iloc을 사용하라고 합니다."
   ]
  },
  {
   "cell_type": "code",
   "execution_count": null,
   "id": "082f734d",
   "metadata": {},
   "outputs": [],
   "source": [
    "df.iloc[:,5].dtype # 데이터마님 답"
   ]
  },
  {
   "cell_type": "markdown",
   "id": "f6b6dc17",
   "metadata": {},
   "source": [
    "## Question 7\n",
    "데이터 셋의 인덱스 구성은 어떤가."
   ]
  },
  {
   "cell_type": "code",
   "execution_count": null,
   "id": "8de9d6ec",
   "metadata": {},
   "outputs": [],
   "source": [
    "df.index"
   ]
  },
  {
   "cell_type": "markdown",
   "id": "3209a61c",
   "metadata": {},
   "source": [
    "## Question 8\n",
    "6번째 컬럼의 3번째 값은 무엇인가?"
   ]
  },
  {
   "cell_type": "code",
   "execution_count": null,
   "id": "098aaeb3",
   "metadata": {},
   "outputs": [],
   "source": [
    "df.iloc[:,5].iloc[2]"
   ]
  },
  {
   "cell_type": "markdown",
   "id": "362f3759",
   "metadata": {},
   "source": [
    "## Question 9\n",
    "데이터를 로드하라. 컬럼이 한글이기에 적절한 처리를 해야함.\n",
    "<br><br>\n",
    "제주 날씨,인구에 따른 교통량데이터 : 출처\n",
    "<br>\n",
    "제주 데이터 허브 DataUrl = ‘https://raw.githubusercontent.com/Datamanim/pandas/main/Jeju.csv’"
   ]
  },
  {
   "cell_type": "code",
   "execution_count": null,
   "id": "8d5ecdbb",
   "metadata": {},
   "outputs": [],
   "source": [
    "DataUrl = 'https://raw.githubusercontent.com/Datamanim/pandas/main/Jeju.csv'"
   ]
  },
  {
   "cell_type": "code",
   "execution_count": null,
   "id": "c51e7571",
   "metadata": {},
   "outputs": [],
   "source": [
    "df = pd.read_csv(DataUrl, encoding='euc-kr')\n",
    "df"
   ]
  },
  {
   "cell_type": "markdown",
   "id": "a50c7a96",
   "metadata": {},
   "source": [
    "## Question 10\n",
    "데이터 마지막 3개 행을 출력하라."
   ]
  },
  {
   "cell_type": "code",
   "execution_count": null,
   "id": "5a045e18",
   "metadata": {},
   "outputs": [],
   "source": [
    "df.tail(3)"
   ]
  },
  {
   "cell_type": "markdown",
   "id": "7d7f13a3",
   "metadata": {},
   "source": [
    "## Question 11\n",
    "수치형 변수를 카진 컬럼을 출력하라."
   ]
  },
  {
   "cell_type": "code",
   "execution_count": null,
   "id": "b8194718",
   "metadata": {},
   "outputs": [],
   "source": [
    "df.info()"
   ]
  },
  {
   "cell_type": "code",
   "execution_count": null,
   "id": "df717f35",
   "metadata": {},
   "outputs": [],
   "source": [
    "df.select_dtypes(exclude='object').columns"
   ]
  },
  {
   "cell_type": "markdown",
   "id": "3cd980ed",
   "metadata": {},
   "source": [
    "## Question 12\n",
    "범주형 변수를 가진 컬럼을 출력하라."
   ]
  },
  {
   "cell_type": "code",
   "execution_count": null,
   "id": "bf059694",
   "metadata": {},
   "outputs": [],
   "source": [
    "df.select_dtypes(include='object').columns"
   ]
  },
  {
   "cell_type": "markdown",
   "id": "6234b0de",
   "metadata": {},
   "source": [
    "## Question 13\n",
    "각 컬럼의 결측치 숫자를 파악하라."
   ]
  },
  {
   "cell_type": "code",
   "execution_count": null,
   "id": "37704e4e",
   "metadata": {},
   "outputs": [],
   "source": [
    "df.isna().sum()"
   ]
  },
  {
   "cell_type": "markdown",
   "id": "a1ea40d9",
   "metadata": {},
   "source": [
    "## Question 14\n",
    "각 컬럼의 데이터 수, 데이터 타입을 한번에 확인하라."
   ]
  },
  {
   "cell_type": "code",
   "execution_count": null,
   "id": "f73571f2",
   "metadata": {},
   "outputs": [],
   "source": [
    "df.info()"
   ]
  },
  {
   "cell_type": "markdown",
   "id": "ed8a43f3",
   "metadata": {},
   "source": [
    "## Question 15\n",
    "각 수치형 변수의 분포(사분위, 평균, 표준편차, 최대, 최소)를 확인하라."
   ]
  },
  {
   "cell_type": "code",
   "execution_count": null,
   "id": "e9c82333",
   "metadata": {},
   "outputs": [],
   "source": [
    "df.describe()"
   ]
  },
  {
   "cell_type": "markdown",
   "id": "d5f3454e",
   "metadata": {},
   "source": [
    "## Question 16\n",
    "거주인구 컬럼의 값들을 출력하라."
   ]
  },
  {
   "cell_type": "code",
   "execution_count": null,
   "id": "57840e24",
   "metadata": {},
   "outputs": [],
   "source": [
    "df['거주인구']"
   ]
  },
  {
   "cell_type": "markdown",
   "id": "05ea28fa",
   "metadata": {},
   "source": [
    "## Question 17\n",
    "평균 속도 컬럼의 4분위 범위(IQR) 값을 구하여라."
   ]
  },
  {
   "cell_type": "code",
   "execution_count": null,
   "id": "f1eeb8ce",
   "metadata": {},
   "outputs": [],
   "source": [
    "# 4분위 범위(IQR)은 Q3 - Q1 , 백분위수 75% 에서 25%를 뺀 값\n",
    "df['평균 속도'].quantile(.75) - df['평균 속도'].quantile(.25) # quantile을 이용한 IQR 계산"
   ]
  },
  {
   "cell_type": "code",
   "execution_count": null,
   "id": "2fe17d21",
   "metadata": {},
   "outputs": [],
   "source": [
    "df['평균 속도'].describe()['75%'] - df['평균 속도'].describe()['25%'] # describe를 이용한 IQR 계산"
   ]
  },
  {
   "cell_type": "markdown",
   "id": "1f9e41e0",
   "metadata": {},
   "source": [
    "## Question 18\n",
    "읍면동명 컬럼의 유일 값 갯수를 출력하라."
   ]
  },
  {
   "cell_type": "code",
   "execution_count": null,
   "id": "83472573",
   "metadata": {},
   "outputs": [],
   "source": [
    "df['읍면동명'].nunique()"
   ]
  },
  {
   "cell_type": "markdown",
   "id": "6775083d",
   "metadata": {},
   "source": [
    "## Question 19\n",
    "읍면동명 컬럼의 유일 값을 모두 출력하라."
   ]
  },
  {
   "cell_type": "code",
   "execution_count": null,
   "id": "feddb673",
   "metadata": {},
   "outputs": [],
   "source": [
    "df['읍면동명'].unique()"
   ]
  },
  {
   "cell_type": "markdown",
   "id": "efc13988",
   "metadata": {},
   "source": [
    "# 02 Filtering & Sorting"
   ]
  },
  {
   "cell_type": "markdown",
   "id": "88f996d3",
   "metadata": {},
   "source": [
    "식당데이터 : [justmarkham/DAT8](https://github.com/justmarkham/DAT8/blob/master/data/chipotle.tsv)\n",
    "<br>\n",
    "DataUrl = ‘https://raw.githubusercontent.com/Datamanim/pandas/main/chipo.csv’"
   ]
  },
  {
   "cell_type": "markdown",
   "id": "2ead4733",
   "metadata": {},
   "source": [
    "## Question 20\n",
    "데이터를 로드하라."
   ]
  },
  {
   "cell_type": "code",
   "execution_count": null,
   "metadata": {},
   "outputs": [],
   "source": [
    "DataUrl = 'https://raw.githubusercontent.com/Datamanim/pandas/main/chipo.csv'"
   ]
  },
  {
   "cell_type": "code",
   "execution_count": null,
   "id": "a5815184",
   "metadata": {},
   "outputs": [],
   "source": [
    "df = pd.read_csv(DataUrl)"
   ]
  },
  {
   "cell_type": "markdown",
   "id": "1e96db93",
   "metadata": {},
   "source": [
    "## Question 21\n",
    "quantity컬럼 값이 3인 데이터를 추출하여 첫 5행을 출력하라."
   ]
  },
  {
   "cell_type": "code",
   "execution_count": null,
   "id": "9d13a22d",
   "metadata": {},
   "outputs": [],
   "source": [
    "df[df['quantity'] == 3].head(5) # 내가 쓴 답, loc을 사용하는게 더 맞는 방법인 것 같다."
   ]
  },
  {
   "cell_type": "code",
   "execution_count": null,
   "id": "5f736ff0",
   "metadata": {},
   "outputs": [],
   "source": [
    "df.loc[df['quantity']==3].head() # 데이터마님 답"
   ]
  },
  {
   "cell_type": "markdown",
   "id": "a4e10fb7",
   "metadata": {},
   "source": [
    "## Question 22\n",
    "quantity컬럼 값이 3인 데이터를 추출하여 index를 0부터 정렬하고 첫 5행을 출력하라."
   ]
  },
  {
   "cell_type": "code",
   "execution_count": null,
   "id": "ba42f683",
   "metadata": {},
   "outputs": [],
   "source": [
    "df[df['quantity'] == 3].head(5).reset_index(drop=True)"
   ]
  },
  {
   "cell_type": "markdown",
   "id": "64084799",
   "metadata": {},
   "source": [
    "## Question 23\n",
    "quantity, item_price 두 개의 컬럼으로 구성된 새로운 데이터 프레임을 정의하라."
   ]
  },
  {
   "cell_type": "code",
   "execution_count": null,
   "id": "06d3f94c",
   "metadata": {},
   "outputs": [],
   "source": [
    "new_df = df[['quantity', 'item_price']]\n",
    "new_df"
   ]
  },
  {
   "cell_type": "markdown",
   "id": "2d19b50c",
   "metadata": {},
   "source": [
    "## Question 24\n",
    "item_price 컬럼의 달러표시 문자를 제거하고 float 타입으로 저장하여 new_price 컬럼에 저장하라"
   ]
  },
  {
   "cell_type": "code",
   "execution_count": null,
   "id": "3487fb3b",
   "metadata": {},
   "outputs": [],
   "source": [
    "df['new_price'] = df['item_price'].str.replace('$', '').astype(float)\n",
    "df['new_price'].head() # 내가 쓴 답"
   ]
  },
  {
   "cell_type": "code",
   "execution_count": null,
   "id": "25837b9c",
   "metadata": {},
   "outputs": [],
   "source": [
    "df['new_price'] = df['item_price'].str[1:].astype('float')\n",
    "Ans = df['new_price'].head() # 데이터마님 답\n",
    "Ans"
   ]
  },
  {
   "cell_type": "markdown",
   "id": "24775e5f",
   "metadata": {},
   "source": [
    "## Question 25\n",
    "new_price 컬럼이 5이하의 값을 가지는 데이터프레임을 추출하고, 전체 갯수를 구하여라"
   ]
  },
  {
   "cell_type": "code",
   "execution_count": null,
   "id": "db71a301",
   "metadata": {},
   "outputs": [],
   "source": [
    "len(df[df['new_price'] <= 5]) # 내가 쓴 답"
   ]
  },
  {
   "cell_type": "code",
   "execution_count": null,
   "id": "f4c1f8ae",
   "metadata": {},
   "outputs": [],
   "source": [
    "Ans = len(df.loc[df.new_price <=5])\n",
    "Ans # 데이터마님 답"
   ]
  },
  {
   "cell_type": "markdown",
   "id": "6d8e3b5e",
   "metadata": {},
   "source": [
    "## Question 26\n",
    "item_name명이 Chicken Salad Bowl 인 데이터 프레임을 추출하라고 index 값을 초기화 하여라."
   ]
  },
  {
   "cell_type": "code",
   "execution_count": null,
   "id": "4672b690",
   "metadata": {},
   "outputs": [],
   "source": [
    "df[df['item_name'] == 'Chicken Salad Bowl'].reset_index(drop=True).head(3)\n"
   ]
  },
  {
   "cell_type": "markdown",
   "id": "c10fc74a",
   "metadata": {},
   "source": [
    "## Question 27\n",
    "new_price값이 9 이하이고 item_name 값이 Chicken Salad Bowl 인 데이터 프레임을 추출하라"
   ]
  },
  {
   "cell_type": "code",
   "execution_count": null,
   "id": "fcbf4b58",
   "metadata": {},
   "outputs": [],
   "source": [
    "df[(df['new_price'] <= 9) & (df['item_name'] == 'Chicken Salad Bowl')].head(5) # 내가 쓴 답, 앞으로 loc를 사용하기로..."
   ]
  },
  {
   "cell_type": "code",
   "execution_count": null,
   "id": "7297390a",
   "metadata": {},
   "outputs": [],
   "source": [
    "Ans = df.loc[(df.item_name =='Chicken Salad Bowl') & (df.new_price <= 9)] # 데이터마님 답\n",
    "Ans.head(5)"
   ]
  },
  {
   "cell_type": "markdown",
   "id": "421ff328",
   "metadata": {},
   "source": [
    "## Question 28\n",
    "df의 new_price 컬럼 값에 따라 오름차순으로 정리하고 index를 초기화 하여라."
   ]
  },
  {
   "cell_type": "code",
   "execution_count": null,
   "id": "6ffde5fb",
   "metadata": {},
   "outputs": [],
   "source": [
    "df.sort_values(by='new_price').reset_index(drop=True).head(4) # 내가 쓴 답"
   ]
  },
  {
   "cell_type": "code",
   "execution_count": null,
   "id": "2fa0ef92",
   "metadata": {},
   "outputs": [],
   "source": [
    "Ans = df.sort_values('new_price').reset_index(drop=True)\n",
    "Ans.head(4) # 데이터마님 답"
   ]
  },
  {
   "cell_type": "markdown",
   "id": "a98b9b19",
   "metadata": {},
   "source": [
    "## Question 29\n",
    "df의 item_name 컬럼 값중 Chips 포함하는 경우의 데이터를 출력하라"
   ]
  },
  {
   "cell_type": "code",
   "execution_count": null,
   "id": "7dca6b2a",
   "metadata": {},
   "outputs": [],
   "source": [
    "df.loc[df['item_name'].str.contains('Chips')].head(5) # 내가 쓴 답"
   ]
  },
  {
   "cell_type": "code",
   "execution_count": null,
   "id": "7e250656",
   "metadata": {},
   "outputs": [],
   "source": [
    "Ans = df.loc[df.item_name.str.contains('Chips')]\n",
    "Ans.head(5) # 데이터마님 답"
   ]
  },
  {
   "cell_type": "markdown",
   "id": "14892e48",
   "metadata": {},
   "source": [
    "## Question 30\n",
    "df의 짝수번째 컬럼만을 포함하는 데이터프레임을 출력하라"
   ]
  },
  {
   "cell_type": "code",
   "execution_count": null,
   "id": "9d4470c2",
   "metadata": {},
   "outputs": [],
   "source": [
    "df.iloc[:,::2].head(5)"
   ]
  },
  {
   "cell_type": "markdown",
   "id": "9b21479c",
   "metadata": {},
   "source": [
    "## Question 31\n",
    "df의 new_price 컬럼 값에 따라 내림차순으로 정리하고 index를 초기화 하여라."
   ]
  },
  {
   "cell_type": "code",
   "execution_count": null,
   "id": "8f923307",
   "metadata": {},
   "outputs": [],
   "source": [
    "df.sort_values(by='new_price', ascending=False).reset_index(drop=True).head(4)"
   ]
  },
  {
   "cell_type": "markdown",
   "id": "9bb4c57d",
   "metadata": {},
   "source": [
    "## Question 32\n",
    "df의 item_name 컬럼 값이 Steak Salad 또는 Bowl 인 데이터를 인덱싱하라."
   ]
  },
  {
   "cell_type": "code",
   "execution_count": null,
   "id": "817ef45a",
   "metadata": {},
   "outputs": [],
   "source": [
    "df.loc[(df['item_name'] == 'Steak Salad') | (df['item_name'] == 'Bowl')] # 내가 쓴 답"
   ]
  },
  {
   "cell_type": "code",
   "execution_count": null,
   "id": "f028945d",
   "metadata": {},
   "outputs": [],
   "source": [
    "Ans = df.loc[(df.item_name =='Steak Salad') | (df.item_name =='Bowl')]\n",
    "Ans # 데이터마님 답"
   ]
  },
  {
   "cell_type": "markdown",
   "id": "5c7fc13a",
   "metadata": {},
   "source": [
    "## Question 33\n",
    "df의 item_name 컬럼 값이 Steak Salad 또는 Bowl 인 데이터를 데이터 프레임화 한 후, item_name를 기준으로 중복행이 있으면 제거하되 첫번째 케이스만 남겨라."
   ]
  },
  {
   "cell_type": "code",
   "execution_count": null,
   "id": "6750d98d",
   "metadata": {},
   "outputs": [],
   "source": [
    "new_df = df.loc[(df.item_name == 'Steak Salad') | (df.item_name == 'Bowl')]\n",
    "new_df.drop_duplicates(subset='item_name', keep='first')"
   ]
  },
  {
   "cell_type": "markdown",
   "id": "7bdcf216",
   "metadata": {},
   "source": [
    "## Question 34\n",
    "df의 item_name 컬럼 값이 Steak Salad 또는 Bowl 인 데이터를 데이터 프레임화 한 후, item_name를 기준으로 중복행이 있으면 제거하되 마지막 케이스만 남겨라."
   ]
  },
  {
   "cell_type": "code",
   "execution_count": null,
   "id": "6d18da4e",
   "metadata": {},
   "outputs": [],
   "source": [
    "new_df = df.loc[(df.item_name == 'Steak Salad') | (df.item_name == 'Bowl')]\n",
    "new_df.drop_duplicates(subset='item_name', keep='last')"
   ]
  },
  {
   "cell_type": "markdown",
   "id": "fbc9e7a3",
   "metadata": {},
   "source": [
    "## Question 35\n",
    "df의 데이터 중 new_price값이 new_price값의 평균값 이상을 가지는 데이터들을 인덱싱하라."
   ]
  },
  {
   "cell_type": "code",
   "execution_count": null,
   "id": "1c591a79",
   "metadata": {},
   "outputs": [],
   "source": [
    "df.loc[df.new_price >= df.new_price.mean()].head(5)"
   ]
  },
  {
   "cell_type": "markdown",
   "id": "6dfd9c6c",
   "metadata": {},
   "source": [
    "## Question 36\n",
    "df의 데이터 중 item_name의 값이 Izze 데이터를 Fizzy Lizzy로 수정하라."
   ]
  },
  {
   "cell_type": "code",
   "execution_count": null,
   "id": "32093a65",
   "metadata": {},
   "outputs": [],
   "source": [
    "df.loc[df.item_name == 'Izze', 'item_name'] = 'Fizzy Lizzy'\n",
    "df.head(5)\n",
    "# df = df.replace({'item_name' : 'Izze'}, 'Fizzy Lizzy')"
   ]
  },
  {
   "cell_type": "markdown",
   "id": "3391e5ad",
   "metadata": {},
   "source": [
    "## Question 37\n",
    "df의 데이터 중 choice_description 값이 NaN 인 데이터의 갯수를 구하여라."
   ]
  },
  {
   "cell_type": "code",
   "execution_count": null,
   "id": "d212a625",
   "metadata": {},
   "outputs": [],
   "source": [
    "df.choice_description.isna().sum()"
   ]
  },
  {
   "cell_type": "markdown",
   "id": "a01768f3",
   "metadata": {},
   "source": [
    "## Question 38\n",
    "df의 데이터 중 choice_description 값이 NaN 인 데이터를 NoData 값으로 대체하라(loc 이용)"
   ]
  },
  {
   "cell_type": "code",
   "execution_count": null,
   "id": "5c6d8ed2",
   "metadata": {},
   "outputs": [],
   "source": [
    "df.loc[df.choice_description.isna(), 'choice_description'] = 'NoData'\n",
    "df.head()"
   ]
  },
  {
   "cell_type": "markdown",
   "id": "de10b90f",
   "metadata": {},
   "source": [
    "## Question 39\n",
    "df의 데이터 중 choice_description 값에 Black이 들어가는 경우를 인덱싱하라."
   ]
  },
  {
   "cell_type": "code",
   "execution_count": null,
   "id": "1d70ccbd",
   "metadata": {},
   "outputs": [],
   "source": [
    "df.loc[df.choice_description.str.contains('Black')].head()"
   ]
  },
  {
   "cell_type": "markdown",
   "id": "7c34b0c1",
   "metadata": {},
   "source": [
    "## Question 40\n",
    "df의 데이터 중 choice_description 값에 Vegetables 들어가지 않는 경우의 갯수를 출력하라."
   ]
  },
  {
   "cell_type": "code",
   "execution_count": null,
   "id": "d2b6d80f",
   "metadata": {},
   "outputs": [],
   "source": [
    "len(df.choice_description) - len(df.loc[df.choice_description.str.contains('Vegetables')]) # 내가 쓴 답, ~ 를 몰라서 이렇게 구구절절 썼네요..."
   ]
  },
  {
   "cell_type": "code",
   "execution_count": null,
   "id": "f1216f94",
   "metadata": {},
   "outputs": [],
   "source": [
    "Ans = len(df.loc[~df.choice_description.str.contains('Vegetables')])\n",
    "Ans # 데이터마님 답"
   ]
  },
  {
   "cell_type": "markdown",
   "id": "1f89378b",
   "metadata": {},
   "source": [
    "## Question 41\n",
    "df의 데이터 중 item_name 값이 N으로 시작하는 데이터를 모두 추출하라."
   ]
  },
  {
   "cell_type": "code",
   "execution_count": null,
   "id": "29fc43f5",
   "metadata": {},
   "outputs": [],
   "source": [
    "df.loc[df.item_name.str.startswith('N')].head(3)"
   ]
  },
  {
   "cell_type": "markdown",
   "id": "0a34082d",
   "metadata": {},
   "source": [
    "## Question 42\n",
    "df의 데이터 중 item_name 값의 단어갯수가 15개 이상인 데이터를 인덱싱하라"
   ]
  },
  {
   "cell_type": "code",
   "execution_count": null,
   "id": "b7531004",
   "metadata": {},
   "outputs": [],
   "source": [
    "df.loc[df.item_name.str.len() > 15].head()"
   ]
  },
  {
   "cell_type": "markdown",
   "id": "df525978",
   "metadata": {},
   "source": [
    "## Question 43\n",
    "df의 데이터 중 new_price값이 lst에 해당하는 경우의 데이터 프레임을 구하고 그 갯수를 출력하라. lst =[1.69, 2.39, 3.39, 4.45, 9.25, 10.98, 11.75, 16.98]"
   ]
  },
  {
   "cell_type": "code",
   "execution_count": null,
   "id": "9580028a",
   "metadata": {},
   "outputs": [],
   "source": [
    "lst =[1.69, 2.39, 3.39, 4.45, 9.25, 10.98, 11.75, 16.98]\n",
    "a = 0\n",
    "arr = df['new_price'].values\n",
    "for ele in arr:\n",
    "    if ele in lst :\n",
    "            a += 1\n",
    "new_df = df[df.new_price.apply(lambda x: x in lst)]\n",
    "display(new_df.head(3))\n",
    "print(a) # 내가 쓴 답, 생각 많이해서 작성했는데... isin() 반드시 기억한다..."
   ]
  },
  {
   "cell_type": "code",
   "execution_count": null,
   "id": "a3b4fb9c",
   "metadata": {},
   "outputs": [],
   "source": [
    "lst =[1.69, 2.39, 3.39, 4.45, 9.25, 10.98, 11.75, 16.98]\n",
    "\n",
    "Ans = df.loc[df.new_price.isin(lst)]\n",
    "display(Ans.head(3))\n",
    "print(len(Ans)) # 데이터마님 답"
   ]
  },
  {
   "cell_type": "markdown",
   "id": "67adfd39",
   "metadata": {},
   "source": [
    "# 03_Grouping\n",
    "뉴욕 airBnB : https://www.kaggle.com/ptoscano230382/air-bnb-ny-2019<br>\n",
    "DataUrl = ‘https://raw.githubusercontent.com/Datamanim/pandas/main/AB_NYC_2019.csv’"
   ]
  },
  {
   "cell_type": "markdown",
   "id": "7679fb5b",
   "metadata": {},
   "source": [
    "## Question 44\n",
    "데이터를 로드하고 상위 5개 컬럼을 출력하라."
   ]
  },
  {
   "cell_type": "code",
   "execution_count": null,
   "id": "122eb233",
   "metadata": {},
   "outputs": [],
   "source": [
    "df = pd.read_csv('https://raw.githubusercontent.com/Datamanim/pandas/main/AB_NYC_2019.csv')\n",
    "df.head(5)"
   ]
  },
  {
   "cell_type": "markdown",
   "id": "c46f9655",
   "metadata": {},
   "source": [
    "## Question 45\n",
    "데이터의 각 host_name의 빈도수를 구하고 host_name으로 정렬하여 상위 5개를 출력하라."
   ]
  },
  {
   "cell_type": "code",
   "execution_count": null,
   "id": "157d58cc",
   "metadata": {},
   "outputs": [],
   "source": [
    "df.host_name.value_counts().sort_index().head(5) # 내가 쓴 답"
   ]
  },
  {
   "cell_type": "code",
   "execution_count": null,
   "id": "66b7663d",
   "metadata": {},
   "outputs": [],
   "source": [
    "Ans = df.groupby('host_name').size()\n",
    "\n",
    "# or\n",
    "\n",
    "Ans = df.host_name.value_counts().sort_index() # 데이터마님 답"
   ]
  },
  {
   "cell_type": "markdown",
   "id": "935f099e",
   "metadata": {},
   "source": [
    "## Question 46\n",
    "데이터의 각 host_name의 빈도수를 구하고 빈도수 기준 내림차순 정렬한 데이터 프레임을 만들어라. 빈도수 컬럼은 counts로 명명하라."
   ]
  },
  {
   "cell_type": "code",
   "execution_count": null,
   "id": "a2c67f77",
   "metadata": {},
   "outputs": [],
   "source": [
    "df.host_name.value_counts().to_frame(name='counts') # 내가 쓴 답"
   ]
  },
  {
   "cell_type": "code",
   "execution_count": null,
   "id": "0c5a4d0e",
   "metadata": {},
   "outputs": [],
   "source": [
    "Ans = df.groupby('host_name').size().\\\n",
    "                to_frame().rename(columns={0:'counts'}).\\\n",
    "                sort_values('counts',ascending=False)\n",
    "Ans.head(5) # 데이터마님 답"
   ]
  },
  {
   "cell_type": "markdown",
   "id": "3c7beb0d",
   "metadata": {},
   "source": [
    "## Question 47\n",
    "neighbourhood_group의 값에 따른 neighbourhood컬럼 값의 갯수를 구하여라."
   ]
  },
  {
   "cell_type": "code",
   "execution_count": null,
   "id": "f5501241",
   "metadata": {},
   "outputs": [],
   "source": [
    "df.groupby(['neighbourhood_group', 'neighbourhood']).size().reset_index().head(4) # 내가 쓴 답"
   ]
  },
  {
   "cell_type": "code",
   "execution_count": null,
   "id": "f7433238",
   "metadata": {},
   "outputs": [],
   "source": [
    "Ans = df.groupby(['neighbourhood_group','neighbourhood'], as_index=False).size() # 데이터마님 답\n",
    "Ans.head(4)"
   ]
  },
  {
   "cell_type": "markdown",
   "id": "f03ba38b",
   "metadata": {},
   "source": [
    "## Question 48\n",
    "neighbourhood_group의 값에 따른 neighbourhood컬럼 값 중 neighbourhood_group그룹의 최댓값들을 출력하라."
   ]
  },
  {
   "cell_type": "code",
   "execution_count": null,
   "id": "9b7e8a78",
   "metadata": {},
   "outputs": [],
   "source": [
    "(df.groupby(['neighbourhood_group', 'neighbourhood'], as_index=False).size()).groupby(['neighbourhood_group']).max() # 내가 쓴 답"
   ]
  },
  {
   "cell_type": "code",
   "execution_count": null,
   "id": "51accd47",
   "metadata": {},
   "outputs": [],
   "source": [
    "Ans= df.groupby(['neighbourhood_group','neighbourhood'], as_index=False).size()\\\n",
    "                  .groupby(['neighbourhood_group'], as_index=False).max()\n",
    "Ans # 데이터마님 답"
   ]
  },
  {
   "cell_type": "markdown",
   "id": "bf9b307d",
   "metadata": {},
   "source": [
    "## Question 49\n",
    "neighbourhood_group 값에 따른 price값의 평균, 분산, 최대, 최소 값을 구하여라."
   ]
  },
  {
   "cell_type": "code",
   "execution_count": null,
   "id": "1b4b3ef4",
   "metadata": {},
   "outputs": [],
   "source": [
    "df[['neighbourhood_group', 'price']].groupby('neighbourhood_group').agg(['mean', 'var', 'max', 'min'])"
   ]
  },
  {
   "cell_type": "markdown",
   "id": "61bf8235",
   "metadata": {},
   "source": [
    "## Question 50\n",
    "neighbourhood_group 값에 따른 reviews_per_month 평균, 분산, 최대, 최소 값을 구하여라."
   ]
  },
  {
   "cell_type": "code",
   "execution_count": null,
   "id": "fc29df5c",
   "metadata": {},
   "outputs": [],
   "source": [
    "df[['neighbourhood_group', 'reviews_per_month']].groupby('neighbourhood_group').agg(['mean', 'var', 'max', 'min'])"
   ]
  },
  {
   "cell_type": "markdown",
   "id": "f7f2e4a1",
   "metadata": {},
   "source": [
    "## Question 51\n",
    "neighbourhood 값과 neighbourhood_group 값에 따른 price 의 평균을 구하라."
   ]
  },
  {
   "cell_type": "code",
   "execution_count": null,
   "id": "e2984c8f",
   "metadata": {},
   "outputs": [],
   "source": [
    "df.groupby(['neighbourhood', 'neighbourhood_group']).price.mean()"
   ]
  },
  {
   "cell_type": "markdown",
   "id": "70e8c27c",
   "metadata": {},
   "source": [
    "## Question 52\n",
    "neighbourhood 값과 neighbourhood_group 값에 따른 price 의 평균을 계층적 indexing 없이 구하라."
   ]
  },
  {
   "cell_type": "code",
   "execution_count": null,
   "id": "82c50a38",
   "metadata": {},
   "outputs": [],
   "source": [
    "df.groupby(['neighbourhood', 'neighbourhood_group']).price.mean().unstack()"
   ]
  },
  {
   "cell_type": "markdown",
   "id": "1d2700b7",
   "metadata": {},
   "source": [
    "## Question 53\n",
    "neighbourhood 값과 neighbourhood_group 값에 따른 price 의 평균을 계층적 indexing 없이 구하고 nan 값은 -999값으로 채워라."
   ]
  },
  {
   "cell_type": "code",
   "execution_count": null,
   "id": "e2737a87",
   "metadata": {},
   "outputs": [],
   "source": [
    "df.groupby(['neighbourhood', 'neighbourhood_group']).price.mean().unstack(fill_value=-999) # 내가 쓴 답"
   ]
  },
  {
   "cell_type": "code",
   "execution_count": null,
   "id": "a867fd29",
   "metadata": {},
   "outputs": [],
   "source": [
    "Ans = df.groupby(['neighbourhood','neighbourhood_group']).price.mean().unstack().fillna(-999)\n",
    "Ans.head(4) # 데이터마님 답"
   ]
  },
  {
   "cell_type": "markdown",
   "id": "50f8b5fd",
   "metadata": {},
   "source": [
    "## Question 54\n",
    "데이터 중 neighbourhood_group 값이 Queens값을 가지는 데이터들 중 neighbourhood 그룹별로 price값의 평균, 분산, 최대, 최소값을 구하라."
   ]
  },
  {
   "cell_type": "code",
   "execution_count": null,
   "id": "d702f232",
   "metadata": {},
   "outputs": [],
   "source": [
    "df[df.neighbourhood_group == 'Queens'].groupby(['neighbourhood']).price.agg(['mean', 'var', 'max', 'min'])"
   ]
  },
  {
   "cell_type": "markdown",
   "id": "3ab80fff",
   "metadata": {},
   "source": [
    "## Question 55\n",
    "데이터 중 neighbourhood_group 값에 따른 room_type 컬럼의 숫자를 구하고 neighbourhood_group 값을 기준으로 각 값의 비율을 구하여라."
   ]
  },
  {
   "cell_type": "code",
   "execution_count": null,
   "id": "0649c870",
   "metadata": {},
   "outputs": [],
   "source": [
    "df_room_type = df.groupby(['neighbourhood_group', 'room_type']).size().unstack()\n",
    "df_room_type"
   ]
  },
  {
   "cell_type": "code",
   "execution_count": null,
   "id": "abd46c95",
   "metadata": {},
   "outputs": [],
   "source": [
    "df_room_type.div(df_room_type.sum(axis=1), axis=0) # 내가 쓴 답, 문제가 복잡해서 좀 어려웠네요.."
   ]
  },
  {
   "cell_type": "code",
   "execution_count": null,
   "id": "519f1edc",
   "metadata": {},
   "outputs": [],
   "source": [
    "Ans = df[['neighbourhood_group','room_type']].groupby(['neighbourhood_group','room_type']).size().unstack()\n",
    "Ans.loc[:,:] = (Ans.values /Ans.sum(axis=1).values.reshape(-1,1))\n",
    "Ans # 데이터마님 답"
   ]
  },
  {
   "cell_type": "markdown",
   "id": "71f58ae8",
   "metadata": {},
   "source": [
    "# 04_Apply, Map\n",
    "카드이용데이터 : https://www.kaggle.com/sakshigoyal7/credit-card-customers <br>\n",
    "DataUrl = ‘https://raw.githubusercontent.com/Datamanim/pandas/main/BankChurnersUp.csv’"
   ]
  },
  {
   "cell_type": "markdown",
   "id": "87a805ab",
   "metadata": {},
   "source": [
    "## Question 56\n",
    "데이터를 로드하고 데이터 행과 열의 갯수를 출력하라."
   ]
  },
  {
   "cell_type": "code",
   "execution_count": null,
   "id": "509bb69f",
   "metadata": {},
   "outputs": [],
   "source": [
    "DataUrl = 'https://raw.githubusercontent.com/Datamanim/pandas/main/BankChurnersUp.csv'\n",
    "df = pd.read_csv(DataUrl)\n",
    "df.shape"
   ]
  },
  {
   "cell_type": "markdown",
   "id": "d65f4584",
   "metadata": {},
   "source": [
    "## Question 57\n",
    "Income_Category의 카테고리를 map 함수를 이용하여 다음과 같이 변경하여 newIncome 컬럼에 매핑하라.<br>\n",
    "Unknown : N<br>\n",
    "Less than $40K : a<br>\n",
    "$40K - $60K : b<br>\n",
    "$60K - $80K : c<br>\n",
    "$80K - $120K : d<br>\n",
    "$120K + : e"
   ]
  },
  {
   "cell_type": "code",
   "execution_count": null,
   "id": "404f6c6b",
   "metadata": {},
   "outputs": [],
   "source": [
    "income = {\n",
    "    'Unknown' : 'N',\n",
    "    'Less than $40K' : 'a',\n",
    "    '$40K - $60K' : 'b',\n",
    "    '$60K - $80K' : 'c',\n",
    "    '$80K - $120K' : 'd',\n",
    "    '$120K +' : 'e'  \n",
    "}\n",
    "df['newIncome'] = df.Income_Category.map(income)\n",
    "df['newIncome'].head(4) # 내가 쓴 답"
   ]
  },
  {
   "cell_type": "code",
   "execution_count": null,
   "id": "2dacfe28",
   "metadata": {},
   "outputs": [],
   "source": [
    "dic = {\n",
    "    'Unknown'        : 'N',\n",
    "    'Less than $40K' : 'a',\n",
    "    '$40K - $60K'    : 'b',\n",
    "    '$60K - $80K'    : 'c',\n",
    "    '$80K - $120K'   : 'd',\n",
    "    '$120K +'        : 'e'   \n",
    "}\n",
    "\n",
    "df['newIncome']  =df.Income_Category.map(lambda x: dic[x])\n",
    "\n",
    "Ans = df['newIncome']\n",
    "Ans.head(4) # 데이터마님 답"
   ]
  },
  {
   "cell_type": "markdown",
   "id": "43e4c5a4",
   "metadata": {},
   "source": [
    "## Question 58\n",
    "Income_Category의 카테고리를 apply 함수를 이용하여 다음과 같이 변경하여 newIncome 컬럼에 매핑하라.<br>\n",
    "Unknown : N<br>\n",
    "Less than $40K : a<br>\n",
    "$40K - $60K : b<br>\n",
    "$60K - $80K : c<br>\n",
    "$80K - $120K : d<br>\n",
    "$120K +’ : e<br>"
   ]
  },
  {
   "cell_type": "code",
   "execution_count": null,
   "id": "045d9b72",
   "metadata": {},
   "outputs": [],
   "source": [
    "def Income(x) :\n",
    "    if x == 'Unknown':\n",
    "        return 'N'\n",
    "    elif x == 'Less than $40K':\n",
    "        return 'a'\n",
    "    elif x == '$40K - $60K':\n",
    "        return 'b'\n",
    "    elif x == '$60K - $80K':\n",
    "        return 'c'\n",
    "    elif x == '$80K - $120K':\n",
    "        return 'd'\n",
    "    elif x == '$120K +':\n",
    "        return 'e'\n",
    "    \n",
    "df['newIncome'] = df['Income_Category'].apply(Income)\n",
    "df['newIncome'].head(4)"
   ]
  },
  {
   "cell_type": "markdown",
   "id": "299ffe4f",
   "metadata": {},
   "source": [
    "## Question 59\n",
    "Customer_Age의 값을 이용하여 나이 구간을 AgeState 컬럼으로 정의하라. (0~9 : 0 , 10~19 :10 , 20~29 :20 … 각 구간의 빈도수를 출력하라."
   ]
  },
  {
   "cell_type": "code",
   "execution_count": null,
   "id": "da772668",
   "metadata": {},
   "outputs": [],
   "source": [
    "df['AgeState'] = df['Customer_Age'].map(lambda x : (x // 10) * 10)\n",
    "df['AgeState'].value_counts().sort_index()"
   ]
  },
  {
   "cell_type": "markdown",
   "id": "02b7d548",
   "metadata": {},
   "source": [
    "## Question 60\n",
    "Education_Level의 값중 Graduate단어가 포함되는 값은 1 그렇지 않은 경우에는 0으로 변경하여 newEduLevel 컬럼을 정의하고 빈도수를 출력하라."
   ]
  },
  {
   "cell_type": "code",
   "execution_count": null,
   "id": "6f7e9526",
   "metadata": {},
   "outputs": [],
   "source": [
    "df['newEduLevel'] = df.Education_Level.map(lambda x : 1 if 'Graduate' in x else 0)\n",
    "df['newEduLevel'].value_counts()"
   ]
  },
  {
   "cell_type": "markdown",
   "id": "964c1bea",
   "metadata": {},
   "source": [
    "## Question 61\n",
    "Credit_Limit 컬럼값이 4500 이상인 경우 1 그외의 경우에는 모두 0으로 하는 newLimit 정의하라. newLimit 각 값들의 빈도수를 출력하라."
   ]
  },
  {
   "cell_type": "code",
   "execution_count": null,
   "id": "85b63be8",
   "metadata": {},
   "outputs": [],
   "source": [
    "df['newLimit'] = df['Credit_Limit'].map(lambda x : 1 if x >= 4500 else 0 )\n",
    "df['newLimit'].value_counts()"
   ]
  },
  {
   "cell_type": "markdown",
   "id": "5eccf0ae",
   "metadata": {},
   "source": [
    "## Question 62\n",
    "Marital_Status 컬럼값이 Married 이고 Card_Category 컬럼의 값이 Platinum인 경우 1 그외의 경우에는 모두 0으로 하는 newState컬럼을 정의하라.<br>\n",
    "newState의 각 값들의 빈도수를 출력하라."
   ]
  },
  {
   "cell_type": "code",
   "execution_count": null,
   "id": "caf8b64b",
   "metadata": {},
   "outputs": [],
   "source": [
    "df['newState'] = df.apply(lambda x : 1 if (x['Marital_Status'] == 'Married') and (x['Card_Category'] == 'Platinum') else 0, axis=1)\n",
    "df['newState'].value_counts() # 내가 쓴 답"
   ]
  },
  {
   "cell_type": "code",
   "execution_count": null,
   "id": "73d876d4",
   "metadata": {},
   "outputs": [],
   "source": [
    "def check(x):\n",
    "    if x.Marital_Status =='Married' and x.Card_Category =='Platinum':\n",
    "        return 1\n",
    "    else:\n",
    "        return 0\n",
    "\n",
    "\n",
    "df['newState'] = df.apply(check,axis=1)\n",
    "\n",
    "Ans  = df['newState'].value_counts()\n",
    "Ans # 데이터마님 답"
   ]
  },
  {
   "cell_type": "markdown",
   "id": "19ea0e1f",
   "metadata": {},
   "source": [
    "## Question 63\n",
    "Gender 컬럼값 M인 경우 male F인 경우 female로 값을 변경하여 Gender 컬럼에 새롭게 정의하라. 각 value의 빈도를 출력하라."
   ]
  },
  {
   "cell_type": "code",
   "execution_count": null,
   "id": "ca422a0d",
   "metadata": {},
   "outputs": [],
   "source": [
    "new_gen = {\n",
    "    'M' : 'male',\n",
    "    'F' : 'female'\n",
    "}\n",
    "\n",
    "df['Gender'] = df['Gender'].map(lambda x : new_gen[x])\n",
    "df['Gender'].value_counts() # 내가 쓴 답 (map)"
   ]
  },
  {
   "cell_type": "code",
   "execution_count": null,
   "id": "138d974f",
   "metadata": {},
   "outputs": [],
   "source": [
    "df = pd.read_csv(DataUrl)\n",
    "\n",
    "def new_gen(x):\n",
    "    if x == 'M':\n",
    "        return 'male'\n",
    "    else :\n",
    "        return 'female'\n",
    "    \n",
    "df['Gender'] = df['Gender'].apply(new_gen)\n",
    "df['Gender'].value_counts() # 내가 쓴 답 (apply)"
   ]
  },
  {
   "cell_type": "markdown",
   "id": "ecd47fbb",
   "metadata": {},
   "source": [
    "# 05_Time_Series\n",
    "주가 데이터 : https://raw.githubusercontent.com/guipsamora/pandas_exercises/master/06_Stats/Wind_Stats/wind.data<br>\n",
    "DataUrl = ‘https://raw.githubusercontent.com/Datamanim/pandas/main/timeTest.csv’"
   ]
  },
  {
   "cell_type": "markdown",
   "id": "2e91a43c",
   "metadata": {},
   "source": [
    "## Question 64\n",
    "데이터를 로드하고 각 열의 데이터 타입을 파악하라"
   ]
  },
  {
   "cell_type": "code",
   "execution_count": null,
   "id": "9d477135",
   "metadata": {},
   "outputs": [],
   "source": [
    "DataUrl = 'https://raw.githubusercontent.com/Datamanim/pandas/main/timeTest.csv'\n",
    "df = pd.read_csv(DataUrl)\n",
    "df.info()"
   ]
  },
  {
   "cell_type": "markdown",
   "id": "1df1095f",
   "metadata": {},
   "source": [
    "## Question 65\n",
    "Yr_Mo_Dy을 판다스에서 인식할 수 있는 datetime64타입으로 변경하라."
   ]
  },
  {
   "cell_type": "code",
   "execution_count": null,
   "id": "722b52c9",
   "metadata": {},
   "outputs": [],
   "source": [
    "df['Yr_Mo_Dy'] = pd.to_datetime(df['Yr_Mo_Dy'])\n",
    "df['Yr_Mo_Dy'].head(4)"
   ]
  },
  {
   "cell_type": "markdown",
   "id": "f3c8e7f9",
   "metadata": {},
   "source": [
    "## Question 66\n",
    "Yr_Mo_Dy에 존재하는 년도의 유일값을 모두 출력하라."
   ]
  },
  {
   "cell_type": "code",
   "execution_count": null,
   "id": "52ce6e45",
   "metadata": {},
   "outputs": [],
   "source": [
    "df['Yr_Mo_Dy'].dt.year.unique()"
   ]
  },
  {
   "cell_type": "markdown",
   "id": "5c50f744",
   "metadata": {},
   "source": [
    "## Question 67\n",
    "Yr_Mo_Dy에 년도가 2061년 이상의 경우에는 모두 잘못된 데이터이다.<br>\n",
    "해당경우의 값은 100을 빼서 새롭게 날짜를 Yr_Mo_Dy 컬럼에 정의하라."
   ]
  },
  {
   "cell_type": "code",
   "execution_count": null,
   "id": "12ea000b",
   "metadata": {},
   "outputs": [],
   "source": [
    "import datetime\n",
    "\n",
    "df['Yr_Mo_Dy'] = df['Yr_Mo_Dy'].map(lambda x : pd.to_datetime(datetime.date(x.year-100, x.month, x.day)) if x.year >= 2061 else x) \n",
    "df.head(4) # 내가 쓴 답 (map)"
   ]
  },
  {
   "cell_type": "code",
   "execution_count": null,
   "id": "461dddd4",
   "metadata": {},
   "outputs": [],
   "source": [
    "# def fix_century(x):\n",
    "#     import datetime\n",
    "    \n",
    "#     year = x.year - 100 if x.year >= 2061 else x.year\n",
    "#     return pd.to_datetime(datetime.date(year, x.month, x.day))\n",
    "\n",
    "\n",
    "# df['Yr_Mo_Dy'] = df['Yr_Mo_Dy'].apply(fix_century)\n",
    "\n",
    "# Ans = df.head(4)\n",
    "# Ans # 데이터마님 답 (apply)"
   ]
  },
  {
   "cell_type": "markdown",
   "id": "5c4b3fb2",
   "metadata": {},
   "source": [
    "## Question 68\n",
    "년도별 각컬럼의 평균값을 구하여라."
   ]
  },
  {
   "cell_type": "code",
   "execution_count": null,
   "id": "fe97721c",
   "metadata": {},
   "outputs": [],
   "source": [
    "df.groupby(df['Yr_Mo_Dy'].dt.year).mean()"
   ]
  },
  {
   "cell_type": "markdown",
   "id": "7dcc0443",
   "metadata": {},
   "source": [
    "## Question 69\n",
    "weekday컬럼을 만들고 요일별로 매핑하라. ( 월요일: 0 ~ 일요일 :6)"
   ]
  },
  {
   "cell_type": "code",
   "execution_count": null,
   "id": "1ed47320",
   "metadata": {},
   "outputs": [],
   "source": [
    "df['weekday'] = df['Yr_Mo_Dy'].dt.weekday\n",
    "df['weekday'].head(3)"
   ]
  },
  {
   "cell_type": "markdown",
   "id": "a28abea4",
   "metadata": {},
   "source": [
    "## Question 70\n",
    "weekday컬럼을 기준으로 주말이면 1 평일이면 0의 값을 가지는 WeekCheck 컬럼을 만들어라."
   ]
  },
  {
   "cell_type": "code",
   "execution_count": null,
   "id": "46844b0c",
   "metadata": {},
   "outputs": [],
   "source": [
    "df['WeekCheck'] = df['weekday'].map(lambda x : 1 if x > 4 else 0)\n",
    "df['WeekCheck'].head(3) # 내가 쓴 답, 아무래도 숫자를 지정해주는게 더 올바른 방법인 듯 하다."
   ]
  },
  {
   "cell_type": "code",
   "execution_count": null,
   "id": "9d868159",
   "metadata": {},
   "outputs": [],
   "source": [
    "df['WeekCheck']  = df['weekday'].map(lambda x : 1 if x in [5,6] else 0)\n",
    "\n",
    "Ans = df['WeekCheck'].head(3).to_frame()\n",
    "Ans # 데이터마님 답"
   ]
  },
  {
   "cell_type": "markdown",
   "id": "05cf4b47",
   "metadata": {},
   "source": [
    "## Question 71\n",
    "년도, 일자 상관없이 모든 컬럼의 각 달의 평균을 구하여라."
   ]
  },
  {
   "cell_type": "code",
   "execution_count": null,
   "id": "81dd6d7b",
   "metadata": {},
   "outputs": [],
   "source": [
    "df.groupby(df['Yr_Mo_Dy'].dt.month).mean().head(4)"
   ]
  },
  {
   "cell_type": "markdown",
   "id": "514e0000",
   "metadata": {},
   "source": [
    "## Question 72\n",
    "모든 결측치는 컬럼기준 직전의 값으로 대체하고 첫번째 행에 결측치가 있을경우 뒤에있는 값으로 대채하라."
   ]
  },
  {
   "cell_type": "code",
   "execution_count": null,
   "id": "4c043862",
   "metadata": {},
   "outputs": [],
   "source": [
    "df.ffill(inplace=True)\n",
    "df.bfill(inplace=True)\n",
    "df.isna().sum() # 내가 쓴 답"
   ]
  },
  {
   "cell_type": "code",
   "execution_count": null,
   "id": "9f4a9720",
   "metadata": {},
   "outputs": [],
   "source": [
    "# df = df.fillna(method='ffill').fillna(method='bfill')\n",
    "# df.isnull().sum() # 데이터마님 답"
   ]
  },
  {
   "cell_type": "markdown",
   "id": "2a5d4237",
   "metadata": {},
   "source": [
    "## Question 73\n",
    "년도 - 월을 기준으로 모든 컬럼의 평균값을 구하여라."
   ]
  },
  {
   "cell_type": "code",
   "execution_count": null,
   "id": "54c7b86a",
   "metadata": {},
   "outputs": [],
   "source": [
    "df.groupby(df.Yr_Mo_Dy.dt.to_period('M')).mean().head(3)"
   ]
  },
  {
   "cell_type": "markdown",
   "id": "131edd38",
   "metadata": {},
   "source": [
    "## Question 74\n",
    "RPT 컬럼의 값을 일자별 기준으로 1차차분하라."
   ]
  },
  {
   "cell_type": "code",
   "execution_count": null,
   "id": "2bc60580",
   "metadata": {},
   "outputs": [],
   "source": [
    "df['RPT'].diff().head(3)"
   ]
  },
  {
   "cell_type": "markdown",
   "id": "60b37415",
   "metadata": {},
   "source": [
    "## Question 75\n",
    "RPT와 VAL의 컬럼을 일주일 간격으로 각각 이동평균한값을 구하여라."
   ]
  },
  {
   "cell_type": "code",
   "execution_count": null,
   "id": "1f398dd3",
   "metadata": {},
   "outputs": [],
   "source": [
    "df[['RPT', 'VAL']].rolling(7).mean().head(9)"
   ]
  },
  {
   "cell_type": "markdown",
   "id": "94c79a6b",
   "metadata": {},
   "source": [
    "서울시 미세먼지 데이터 : https://www.airkorea.or.kr/web/realSearch?pMENU_NO=97<br>\n",
    "DataUrl = ‘https://raw.githubusercontent.com/Datamanim/pandas/main/seoul_pm.csv’"
   ]
  },
  {
   "cell_type": "code",
   "execution_count": null,
   "id": "1af70b22",
   "metadata": {},
   "outputs": [],
   "source": [
    "DataUrl = 'https://raw.githubusercontent.com/Datamanim/pandas/main/seoul_pm.csv'\n",
    "df = pd.read_csv(DataUrl)"
   ]
  },
  {
   "cell_type": "markdown",
   "id": "d4752f97",
   "metadata": {},
   "source": [
    "## Question 76\n",
    "년-월-일:시 컬럼을 pandas에서 인식할 수 있는 datetime 형태로 변경하라. 서울시의 제공데이터의 경우 0시가 24시로 표현된다."
   ]
  },
  {
   "cell_type": "code",
   "execution_count": null,
   "id": "1f0fefd9",
   "metadata": {},
   "outputs": [],
   "source": [
    "def change_hour(x):\n",
    "    import datetime\n",
    "    date, hour = x.split(':')\n",
    "    day = pd.to_datetime(date)\n",
    "    hour = int(hour)\n",
    "    \n",
    "    if hour == '24':\n",
    "        day = day.timedelta(days=1)\n",
    "        hour = 0\n",
    "        \n",
    "    return day + pd.Timedelta(hours=hour)\n",
    "        \n",
    "df['(년-월-일:시)'] = df['(년-월-일:시)'].apply(change_hour)\n",
    "df.head(3) # timedelta의 사용법을 잘 숙지해야겠다..."
   ]
  },
  {
   "cell_type": "code",
   "execution_count": null,
   "id": "0110af0e",
   "metadata": {},
   "outputs": [],
   "source": [
    "def change_date(x):\n",
    "    import datetime\n",
    "    hour = x.split(':')[1]\n",
    "    date = x.split(\":\")[0]\n",
    "    \n",
    "    if hour =='24':\n",
    "        hour ='00:00:00'\n",
    "        \n",
    "        FinalDate = pd.to_datetime(date +\" \"+hour) +datetime.timedelta(days=1)\n",
    "        \n",
    "    else:\n",
    "        hour = hour +':00:00'\n",
    "        FinalDate = pd.to_datetime(date +\" \"+hour)\n",
    "    \n",
    "    return FinalDate\n",
    "\n",
    "df = pd.read_csv(DataUrl)\n",
    "df['(년-월-일:시)'] = df['(년-월-일:시)'].apply(change_date)\n",
    "\n",
    "Ans = df\n",
    "Ans.head(3) # 데이터마님 답"
   ]
  },
  {
   "cell_type": "markdown",
   "id": "0df28451",
   "metadata": {},
   "source": [
    "## Question 77\n",
    "일자별 영어요일 이름을 dayName 컬럼에 저장하라."
   ]
  },
  {
   "cell_type": "code",
   "execution_count": null,
   "id": "bc236895",
   "metadata": {},
   "outputs": [],
   "source": [
    "day_name = ['Monday', 'Tuesday', 'Wednesday', 'Thursday', 'Friday', 'Saturday', 'Sunday']\n",
    "df['dayName'] = df['(년-월-일:시)'].dt.weekday.map(lambda x : day_name[x])\n",
    "df['dayName'].head(5) # 내가 쓴 답, dt 관련 용어들을 알면... 딸깍으로 해결된다..."
   ]
  },
  {
   "cell_type": "code",
   "execution_count": null,
   "id": "fab980d8",
   "metadata": {},
   "outputs": [],
   "source": [
    "df['dayName']  =df['(년-월-일:시)'].dt.day_name()\n",
    "Ans =df['dayName'] \n",
    "Ans.head(5) # 데이터마님 답"
   ]
  },
  {
   "cell_type": "markdown",
   "id": "baf5c489",
   "metadata": {},
   "source": [
    "## Question 78\n",
    "일자별 각 PM10등급의 빈도수를 파악하라. (결측치가 있다면 0으로 채워라.)"
   ]
  },
  {
   "cell_type": "code",
   "execution_count": null,
   "id": "5fef4a45",
   "metadata": {},
   "outputs": [],
   "source": [
    "df.groupby(['dayName', 'PM10등급']).size().unstack().fillna(0) # 내가 쓴 답, 피봇을 썼구나..."
   ]
  },
  {
   "cell_type": "code",
   "execution_count": null,
   "id": "dd286f3f",
   "metadata": {},
   "outputs": [],
   "source": [
    "Ans1 = df.groupby(['dayName','PM10등급'],as_index=False).size()\n",
    "Ans2 = Ans1.pivot(index='dayName',columns='PM10등급',values='size').fillna(0)"
   ]
  },
  {
   "cell_type": "code",
   "execution_count": null,
   "id": "69a8e455",
   "metadata": {},
   "outputs": [],
   "source": [
    "Ans1.head()"
   ]
  },
  {
   "cell_type": "code",
   "execution_count": null,
   "id": "6d0ff48d",
   "metadata": {},
   "outputs": [],
   "source": [
    "Ans2 # 데이터마님 답"
   ]
  },
  {
   "cell_type": "markdown",
   "id": "b4ef2d10",
   "metadata": {},
   "source": [
    "## Question 79\n",
    "시간이 연속적으로 존재하며 결측치가 없는지 확인하라."
   ]
  },
  {
   "cell_type": "code",
   "execution_count": null,
   "id": "adaa91f0",
   "metadata": {},
   "outputs": [],
   "source": [
    "df['(년-월-일:시)'].diff().value_counts()"
   ]
  },
  {
   "cell_type": "code",
   "execution_count": null,
   "id": "95a7bb2b",
   "metadata": {},
   "outputs": [],
   "source": [
    "df['(년-월-일:시)'].isna().sum() # 내가 쓴 답"
   ]
  },
  {
   "cell_type": "code",
   "execution_count": null,
   "id": "bafaec0e",
   "metadata": {},
   "outputs": [],
   "source": [
    "# 시간을 차분했을 경우 첫 값은 nan, 이후 모든 차분값이 동일하면 연속이라 판단한다.\n",
    "check = len(df['(년-월-일:시)'].diff().unique())\n",
    "if check ==2:\n",
    "    Ans =True\n",
    "else:\n",
    "    Ans = False\n",
    "    \n",
    "Ans # 데이터마님 답"
   ]
  },
  {
   "cell_type": "markdown",
   "id": "eebbeee0",
   "metadata": {},
   "source": [
    "## Question 80\n",
    "오전 10시와 오후 10시(22시)의 PM10의 평균값을 각각 구하여라."
   ]
  },
  {
   "cell_type": "code",
   "execution_count": null,
   "id": "a52acca6",
   "metadata": {},
   "outputs": [],
   "source": [
    "print('오전 10시의 PM10의 평균 값 :' ,df[df['(년-월-일:시)'].dt.hour == 10]['PM10'].mean())\n",
    "print('오후 10시의 PM10의 평균 값 :' ,df[df['(년-월-일:시)'].dt.hour == 22]['PM10'].mean())\n",
    "# 내가 쓴 답, 데이터프레임 형식으로 구하라는 줄은 몰랐지..."
   ]
  },
  {
   "cell_type": "code",
   "execution_count": null,
   "id": "b17f4693",
   "metadata": {},
   "outputs": [],
   "source": [
    "# Ans = df.groupby(df['(년-월-일:시)'].dt.hour).mean().iloc[[10,22],[0]]\n",
    "# Ans # 데이터마님 답, 이 방법도 실행해보면 틀렸다고 나오는데, 아마 PM10을 지정해주는 코드가 없어서 그런 것 같다.\n",
    "\n",
    "Ans = df.groupby(df['(년-월-일:시)'].dt.hour)['PM10'].mean().iloc[[10,22]].to_frame()\n",
    "Ans # 데이터마님 사이트에 나온 답"
   ]
  },
  {
   "cell_type": "markdown",
   "id": "531cf805",
   "metadata": {},
   "source": [
    "## Question 81\n",
    "날짜 컬럼을 index로 만들어라."
   ]
  },
  {
   "cell_type": "code",
   "execution_count": null,
   "id": "317fdeb3",
   "metadata": {},
   "outputs": [],
   "source": [
    "df.set_index('(년-월-일:시)',inplace=True,drop=True)\n",
    "df.head(3)"
   ]
  },
  {
   "cell_type": "markdown",
   "id": "f0bee7c0",
   "metadata": {},
   "source": [
    "## Question 82\n",
    "데이터를 주단위로 뽑아서 최소,최대 평균, 표준표차를 구하여라."
   ]
  },
  {
   "cell_type": "code",
   "execution_count": null,
   "id": "f156c26f",
   "metadata": {},
   "outputs": [],
   "source": [
    "df.info()"
   ]
  },
  {
   "cell_type": "code",
   "execution_count": null,
   "id": "144a4cb8",
   "metadata": {},
   "outputs": [],
   "source": [
    "numeric_cols = df.select_dtypes(include='number').columns\n",
    "df.resample('W')[numeric_cols].agg(['min','max','mean','std'])\n",
    "# 내가 쓴 답, 원래는 데이터마님 답으로 썼다가 vs code에서는 수치형 컬럼을 따로 지정하지 않으면 오류가 발생해서 이렇게 했습니다."
   ]
  },
  {
   "cell_type": "code",
   "execution_count": null,
   "id": "537058d8",
   "metadata": {},
   "outputs": [],
   "source": [
    "# df.resample('W').agg(['min','max','mean','std']) # 데이터마님 답"
   ]
  },
  {
   "cell_type": "markdown",
   "id": "f77c3cfa",
   "metadata": {},
   "source": [
    "# 06_Pivot\n",
    "국가별 5세이하 사망비율 통계 : https://www.kaggle.com/utkarshxy/who-worldhealth-statistics-2020-complete<br>\n",
    "Dataurl = ‘https://raw.githubusercontent.com/Datamanim/pandas/main/under5MortalityRate.csv’"
   ]
  },
  {
   "cell_type": "markdown",
   "id": "88192e10",
   "metadata": {},
   "source": [
    "## Question 83\n",
    "Indicator을 삭제하고 First Tooltip 컬럼에서 신뢰구간에 해당하는 표현을 지워라."
   ]
  },
  {
   "cell_type": "code",
   "execution_count": null,
   "id": "7a7f10ed",
   "metadata": {},
   "outputs": [],
   "source": [
    "DataUrl = 'https://raw.githubusercontent.com/Datamanim/pandas/main/under5MortalityRate.csv'\n",
    "df = pd.read_csv(DataUrl)"
   ]
  },
  {
   "cell_type": "code",
   "execution_count": null,
   "id": "7f1542ee",
   "metadata": {},
   "outputs": [],
   "source": [
    "df.drop(columns='Indicator', inplace=True)\n",
    "\n",
    "def del_con(x) :\n",
    "    first = x.split(' ')[0]\n",
    "    return float(first)\n",
    "\n",
    "df['First Tooltip'] = df['First Tooltip'].apply(del_con)\n",
    "df.head(4)\n",
    "\n",
    "# df['First Tooltip'] = df['First Tooltip'].map(lambda x : float(x.split(' ')[0]))\n",
    "# df.head(4)\n",
    "# 내가 쓴 답, apply와 map 두 가지 방법으로 가능하다~\n"
   ]
  },
  {
   "cell_type": "markdown",
   "id": "8af81e9c",
   "metadata": {},
   "source": [
    "## Question 84\n",
    "년도가 2015년 이상, Dim1이 Both sexes인 케이스만 추출하라."
   ]
  },
  {
   "cell_type": "code",
   "execution_count": 158,
   "id": "83694cdf",
   "metadata": {},
   "outputs": [
    {
     "data": {
      "application/vnd.microsoft.datawrangler.viewer.v0+json": {
       "columns": [
        {
         "name": "index",
         "rawType": "int64",
         "type": "integer"
        },
        {
         "name": "Location",
         "rawType": "object",
         "type": "string"
        },
        {
         "name": "Period",
         "rawType": "int64",
         "type": "integer"
        },
        {
         "name": "Dim1",
         "rawType": "object",
         "type": "string"
        },
        {
         "name": "First Tooltip",
         "rawType": "float64",
         "type": "float"
        }
       ],
       "ref": "9efc9581-4a3a-4d91-8cc8-3347ac15e150",
       "rows": [
        [
         "0",
         "Afghanistan",
         "2019",
         "Both sexes",
         "60.27"
        ],
        [
         "3",
         "Afghanistan",
         "2018",
         "Both sexes",
         "62.54"
        ],
        [
         "6",
         "Afghanistan",
         "2017",
         "Both sexes",
         "64.94"
        ]
       ],
       "shape": {
        "columns": 4,
        "rows": 3
       }
      },
      "text/html": [
       "<div>\n",
       "<style scoped>\n",
       "    .dataframe tbody tr th:only-of-type {\n",
       "        vertical-align: middle;\n",
       "    }\n",
       "\n",
       "    .dataframe tbody tr th {\n",
       "        vertical-align: top;\n",
       "    }\n",
       "\n",
       "    .dataframe thead th {\n",
       "        text-align: right;\n",
       "    }\n",
       "</style>\n",
       "<table border=\"1\" class=\"dataframe\">\n",
       "  <thead>\n",
       "    <tr style=\"text-align: right;\">\n",
       "      <th></th>\n",
       "      <th>Location</th>\n",
       "      <th>Period</th>\n",
       "      <th>Dim1</th>\n",
       "      <th>First Tooltip</th>\n",
       "    </tr>\n",
       "  </thead>\n",
       "  <tbody>\n",
       "    <tr>\n",
       "      <th>0</th>\n",
       "      <td>Afghanistan</td>\n",
       "      <td>2019</td>\n",
       "      <td>Both sexes</td>\n",
       "      <td>60.27</td>\n",
       "    </tr>\n",
       "    <tr>\n",
       "      <th>3</th>\n",
       "      <td>Afghanistan</td>\n",
       "      <td>2018</td>\n",
       "      <td>Both sexes</td>\n",
       "      <td>62.54</td>\n",
       "    </tr>\n",
       "    <tr>\n",
       "      <th>6</th>\n",
       "      <td>Afghanistan</td>\n",
       "      <td>2017</td>\n",
       "      <td>Both sexes</td>\n",
       "      <td>64.94</td>\n",
       "    </tr>\n",
       "  </tbody>\n",
       "</table>\n",
       "</div>"
      ],
      "text/plain": [
       "      Location  Period        Dim1  First Tooltip\n",
       "0  Afghanistan    2019  Both sexes          60.27\n",
       "3  Afghanistan    2018  Both sexes          62.54\n",
       "6  Afghanistan    2017  Both sexes          64.94"
      ]
     },
     "execution_count": 158,
     "metadata": {},
     "output_type": "execute_result"
    }
   ],
   "source": [
    "df[(df['Period'] >= 2015) & (df['Dim1'] == 'Both sexes')].head(3)"
   ]
  },
  {
   "cell_type": "markdown",
   "id": "a785dea0",
   "metadata": {},
   "source": [
    "## Question 85\n",
    "84번 문제에서 추출한 데이터로 아래와 같이 나라에 따른 년도별 사망률을 데이터 프레임화 하라."
   ]
  },
  {
   "cell_type": "code",
   "execution_count": null,
   "id": "7e43dcdf",
   "metadata": {},
   "outputs": [],
   "source": []
  },
  {
   "cell_type": "code",
   "execution_count": null,
   "id": "0dce71dc",
   "metadata": {},
   "outputs": [
    {
     "data": {
      "application/vnd.microsoft.datawrangler.viewer.v0+json": {
       "columns": [
        {
         "name": "Location",
         "rawType": "object",
         "type": "string"
        },
        {
         "name": "2015",
         "rawType": "float64",
         "type": "float"
        },
        {
         "name": "2016",
         "rawType": "float64",
         "type": "float"
        },
        {
         "name": "2017",
         "rawType": "float64",
         "type": "float"
        },
        {
         "name": "2018",
         "rawType": "float64",
         "type": "float"
        },
        {
         "name": "2019",
         "rawType": "float64",
         "type": "float"
        }
       ],
       "ref": "31bb2cc0-c91f-485f-a2dc-cb0bea96f6e4",
       "rows": [
        [
         "Afghanistan",
         "70.44",
         "67.57",
         "64.94",
         "62.54",
         "60.27"
        ],
        [
         "Albania",
         "9.57",
         "9.42",
         "9.42",
         "9.53",
         "9.68"
        ],
        [
         "Algeria",
         "25.18",
         "24.79",
         "24.32",
         "23.81",
         "23.26"
        ]
       ],
       "shape": {
        "columns": 5,
        "rows": 3
       }
      },
      "text/html": [
       "<div>\n",
       "<style scoped>\n",
       "    .dataframe tbody tr th:only-of-type {\n",
       "        vertical-align: middle;\n",
       "    }\n",
       "\n",
       "    .dataframe tbody tr th {\n",
       "        vertical-align: top;\n",
       "    }\n",
       "\n",
       "    .dataframe thead th {\n",
       "        text-align: right;\n",
       "    }\n",
       "</style>\n",
       "<table border=\"1\" class=\"dataframe\">\n",
       "  <thead>\n",
       "    <tr style=\"text-align: right;\">\n",
       "      <th>Period</th>\n",
       "      <th>2015</th>\n",
       "      <th>2016</th>\n",
       "      <th>2017</th>\n",
       "      <th>2018</th>\n",
       "      <th>2019</th>\n",
       "    </tr>\n",
       "    <tr>\n",
       "      <th>Location</th>\n",
       "      <th></th>\n",
       "      <th></th>\n",
       "      <th></th>\n",
       "      <th></th>\n",
       "      <th></th>\n",
       "    </tr>\n",
       "  </thead>\n",
       "  <tbody>\n",
       "    <tr>\n",
       "      <th>Afghanistan</th>\n",
       "      <td>70.44</td>\n",
       "      <td>67.57</td>\n",
       "      <td>64.94</td>\n",
       "      <td>62.54</td>\n",
       "      <td>60.27</td>\n",
       "    </tr>\n",
       "    <tr>\n",
       "      <th>Albania</th>\n",
       "      <td>9.57</td>\n",
       "      <td>9.42</td>\n",
       "      <td>9.42</td>\n",
       "      <td>9.53</td>\n",
       "      <td>9.68</td>\n",
       "    </tr>\n",
       "    <tr>\n",
       "      <th>Algeria</th>\n",
       "      <td>25.18</td>\n",
       "      <td>24.79</td>\n",
       "      <td>24.32</td>\n",
       "      <td>23.81</td>\n",
       "      <td>23.26</td>\n",
       "    </tr>\n",
       "  </tbody>\n",
       "</table>\n",
       "</div>"
      ],
      "text/plain": [
       "Period        2015   2016   2017   2018   2019\n",
       "Location                                      \n",
       "Afghanistan  70.44  67.57  64.94  62.54  60.27\n",
       "Albania       9.57   9.42   9.42   9.53   9.68\n",
       "Algeria      25.18  24.79  24.32  23.81  23.26"
      ]
     },
     "execution_count": 177,
     "metadata": {},
     "output_type": "execute_result"
    }
   ],
   "source": [
    "new_df = df[(df['Period'] >= 2015) & (df['Dim1'] == 'Both sexes')]\n",
    "new_df.groupby(['Location', 'Period'])['First Tooltip'].mean().unstack().head(3)\n",
    "# 내가 쓴 답, pivot table 만드는 방법 숙지하기.."
   ]
  },
  {
   "cell_type": "code",
   "execution_count": null,
   "id": "79990b91",
   "metadata": {},
   "outputs": [
    {
     "data": {
      "application/vnd.microsoft.datawrangler.viewer.v0+json": {
       "columns": [
        {
         "name": "Location",
         "rawType": "object",
         "type": "string"
        },
        {
         "name": "2015",
         "rawType": "float64",
         "type": "float"
        },
        {
         "name": "2016",
         "rawType": "float64",
         "type": "float"
        },
        {
         "name": "2017",
         "rawType": "float64",
         "type": "float"
        },
        {
         "name": "2018",
         "rawType": "float64",
         "type": "float"
        },
        {
         "name": "2019",
         "rawType": "float64",
         "type": "float"
        }
       ],
       "ref": "1cdbc591-435f-4580-9236-82318b56a163",
       "rows": [
        [
         "Afghanistan",
         "70.44",
         "67.57",
         "64.94",
         "62.54",
         "60.27"
        ],
        [
         "Albania",
         "9.57",
         "9.42",
         "9.42",
         "9.53",
         "9.68"
        ],
        [
         "Algeria",
         "25.18",
         "24.79",
         "24.32",
         "23.81",
         "23.26"
        ]
       ],
       "shape": {
        "columns": 5,
        "rows": 3
       }
      },
      "text/html": [
       "<div>\n",
       "<style scoped>\n",
       "    .dataframe tbody tr th:only-of-type {\n",
       "        vertical-align: middle;\n",
       "    }\n",
       "\n",
       "    .dataframe tbody tr th {\n",
       "        vertical-align: top;\n",
       "    }\n",
       "\n",
       "    .dataframe thead th {\n",
       "        text-align: right;\n",
       "    }\n",
       "</style>\n",
       "<table border=\"1\" class=\"dataframe\">\n",
       "  <thead>\n",
       "    <tr style=\"text-align: right;\">\n",
       "      <th>Period</th>\n",
       "      <th>2015</th>\n",
       "      <th>2016</th>\n",
       "      <th>2017</th>\n",
       "      <th>2018</th>\n",
       "      <th>2019</th>\n",
       "    </tr>\n",
       "    <tr>\n",
       "      <th>Location</th>\n",
       "      <th></th>\n",
       "      <th></th>\n",
       "      <th></th>\n",
       "      <th></th>\n",
       "      <th></th>\n",
       "    </tr>\n",
       "  </thead>\n",
       "  <tbody>\n",
       "    <tr>\n",
       "      <th>Afghanistan</th>\n",
       "      <td>70.44</td>\n",
       "      <td>67.57</td>\n",
       "      <td>64.94</td>\n",
       "      <td>62.54</td>\n",
       "      <td>60.27</td>\n",
       "    </tr>\n",
       "    <tr>\n",
       "      <th>Albania</th>\n",
       "      <td>9.57</td>\n",
       "      <td>9.42</td>\n",
       "      <td>9.42</td>\n",
       "      <td>9.53</td>\n",
       "      <td>9.68</td>\n",
       "    </tr>\n",
       "    <tr>\n",
       "      <th>Algeria</th>\n",
       "      <td>25.18</td>\n",
       "      <td>24.79</td>\n",
       "      <td>24.32</td>\n",
       "      <td>23.81</td>\n",
       "      <td>23.26</td>\n",
       "    </tr>\n",
       "  </tbody>\n",
       "</table>\n",
       "</div>"
      ],
      "text/plain": [
       "Period        2015   2016   2017   2018   2019\n",
       "Location                                      \n",
       "Afghanistan  70.44  67.57  64.94  62.54  60.27\n",
       "Albania       9.57   9.42   9.42   9.53   9.68\n",
       "Algeria      25.18  24.79  24.32  23.81  23.26"
      ]
     },
     "execution_count": 179,
     "metadata": {},
     "output_type": "execute_result"
    }
   ],
   "source": [
    "new_df.pivot(index='Location',columns='Period',values='First Tooltip').head(3)\n",
    "# 데이터마님 답"
   ]
  },
  {
   "cell_type": "markdown",
   "id": "c0f481f2",
   "metadata": {},
   "source": [
    "## Question 86\n",
    "Dim1에 따른 년도별 사망비율의 평균을 구하라."
   ]
  },
  {
   "cell_type": "code",
   "execution_count": null,
   "id": "9a0518cd",
   "metadata": {},
   "outputs": [
    {
     "data": {
      "application/vnd.microsoft.datawrangler.viewer.v0+json": {
       "columns": [
        {
         "name": "Dim1",
         "rawType": "object",
         "type": "string"
        },
        {
         "name": "1950",
         "rawType": "float64",
         "type": "float"
        },
        {
         "name": "1951",
         "rawType": "float64",
         "type": "float"
        },
        {
         "name": "1952",
         "rawType": "float64",
         "type": "float"
        },
        {
         "name": "1953",
         "rawType": "float64",
         "type": "float"
        },
        {
         "name": "1954",
         "rawType": "float64",
         "type": "float"
        },
        {
         "name": "1955",
         "rawType": "float64",
         "type": "float"
        },
        {
         "name": "1956",
         "rawType": "float64",
         "type": "float"
        },
        {
         "name": "1957",
         "rawType": "float64",
         "type": "float"
        },
        {
         "name": "1958",
         "rawType": "float64",
         "type": "float"
        },
        {
         "name": "1959",
         "rawType": "float64",
         "type": "float"
        },
        {
         "name": "1960",
         "rawType": "float64",
         "type": "float"
        },
        {
         "name": "1961",
         "rawType": "float64",
         "type": "float"
        },
        {
         "name": "1962",
         "rawType": "float64",
         "type": "float"
        },
        {
         "name": "1963",
         "rawType": "float64",
         "type": "float"
        },
        {
         "name": "1964",
         "rawType": "float64",
         "type": "float"
        },
        {
         "name": "1965",
         "rawType": "float64",
         "type": "float"
        },
        {
         "name": "1966",
         "rawType": "float64",
         "type": "float"
        },
        {
         "name": "1967",
         "rawType": "float64",
         "type": "float"
        },
        {
         "name": "1968",
         "rawType": "float64",
         "type": "float"
        },
        {
         "name": "1969",
         "rawType": "float64",
         "type": "float"
        },
        {
         "name": "1970",
         "rawType": "float64",
         "type": "float"
        },
        {
         "name": "1971",
         "rawType": "float64",
         "type": "float"
        },
        {
         "name": "1972",
         "rawType": "float64",
         "type": "float"
        },
        {
         "name": "1973",
         "rawType": "float64",
         "type": "float"
        },
        {
         "name": "1974",
         "rawType": "float64",
         "type": "float"
        },
        {
         "name": "1975",
         "rawType": "float64",
         "type": "float"
        },
        {
         "name": "1976",
         "rawType": "float64",
         "type": "float"
        },
        {
         "name": "1977",
         "rawType": "float64",
         "type": "float"
        },
        {
         "name": "1978",
         "rawType": "float64",
         "type": "float"
        },
        {
         "name": "1979",
         "rawType": "float64",
         "type": "float"
        },
        {
         "name": "1980",
         "rawType": "float64",
         "type": "float"
        },
        {
         "name": "1981",
         "rawType": "float64",
         "type": "float"
        },
        {
         "name": "1982",
         "rawType": "float64",
         "type": "float"
        },
        {
         "name": "1983",
         "rawType": "float64",
         "type": "float"
        },
        {
         "name": "1984",
         "rawType": "float64",
         "type": "float"
        },
        {
         "name": "1985",
         "rawType": "float64",
         "type": "float"
        },
        {
         "name": "1986",
         "rawType": "float64",
         "type": "float"
        },
        {
         "name": "1987",
         "rawType": "float64",
         "type": "float"
        },
        {
         "name": "1988",
         "rawType": "float64",
         "type": "float"
        },
        {
         "name": "1989",
         "rawType": "float64",
         "type": "float"
        },
        {
         "name": "1990",
         "rawType": "float64",
         "type": "float"
        },
        {
         "name": "1991",
         "rawType": "float64",
         "type": "float"
        },
        {
         "name": "1992",
         "rawType": "float64",
         "type": "float"
        },
        {
         "name": "1993",
         "rawType": "float64",
         "type": "float"
        },
        {
         "name": "1994",
         "rawType": "float64",
         "type": "float"
        },
        {
         "name": "1995",
         "rawType": "float64",
         "type": "float"
        },
        {
         "name": "1996",
         "rawType": "float64",
         "type": "float"
        },
        {
         "name": "1997",
         "rawType": "float64",
         "type": "float"
        },
        {
         "name": "1998",
         "rawType": "float64",
         "type": "float"
        },
        {
         "name": "1999",
         "rawType": "float64",
         "type": "float"
        },
        {
         "name": "2000",
         "rawType": "float64",
         "type": "float"
        },
        {
         "name": "2001",
         "rawType": "float64",
         "type": "float"
        },
        {
         "name": "2002",
         "rawType": "float64",
         "type": "float"
        },
        {
         "name": "2003",
         "rawType": "float64",
         "type": "float"
        },
        {
         "name": "2004",
         "rawType": "float64",
         "type": "float"
        },
        {
         "name": "2005",
         "rawType": "float64",
         "type": "float"
        },
        {
         "name": "2006",
         "rawType": "float64",
         "type": "float"
        },
        {
         "name": "2007",
         "rawType": "float64",
         "type": "float"
        },
        {
         "name": "2008",
         "rawType": "float64",
         "type": "float"
        },
        {
         "name": "2009",
         "rawType": "float64",
         "type": "float"
        },
        {
         "name": "2010",
         "rawType": "float64",
         "type": "float"
        },
        {
         "name": "2011",
         "rawType": "float64",
         "type": "float"
        },
        {
         "name": "2012",
         "rawType": "float64",
         "type": "float"
        },
        {
         "name": "2013",
         "rawType": "float64",
         "type": "float"
        },
        {
         "name": "2014",
         "rawType": "float64",
         "type": "float"
        },
        {
         "name": "2015",
         "rawType": "float64",
         "type": "float"
        },
        {
         "name": "2016",
         "rawType": "float64",
         "type": "float"
        },
        {
         "name": "2017",
         "rawType": "float64",
         "type": "float"
        },
        {
         "name": "2018",
         "rawType": "float64",
         "type": "float"
        },
        {
         "name": "2019",
         "rawType": "float64",
         "type": "float"
        }
       ],
       "ref": "3a86a4b7-4667-4b4b-b2c1-943a5d35b40e",
       "rows": [
        [
         "Both sexes",
         "147.70081632653063",
         "155.5375438596491",
         "157.81109375",
         "156.14720588235295",
         "154.53985714285716",
         "155.79717948717948",
         "159.24116279069767",
         "156.17011363636362",
         "150.81322222222224",
         "150.574",
         "149.0640404040404",
         "144.38939393939393",
         "143.94623762376239",
         "142.70592233009708",
         "141.93728971962616",
         "141.17718181818182",
         "138.5718018018018",
         "135.23991304347825",
         "130.79563025210084",
         "128.84637096774193",
         "125.75547619047619",
         "121.77230769230769",
         "119.95686567164178",
         "116.85977611940298",
         "113.84401459854016",
         "111.66378571428572",
         "108.46964788732394",
         "105.20872340425532",
         "103.15620689655172",
         "99.16191780821917",
         "97.10986666666666",
         "91.58839743589743",
         "90.2033962264151",
         "87.31174999999999",
         "83.81404907975461",
         "80.22304093567251",
         "78.01076023391813",
         "75.93888888888888",
         "74.15538011695907",
         "72.16637426900586",
         "70.50140350877193",
         "69.02625730994151",
         "67.65713450292398",
         "66.37561403508772",
         "65.51906432748538",
         "63.89754385964912",
         "62.01005847953216",
         "60.52333333333333",
         "59.0453216374269",
         "56.89409356725146",
         "54.88959064327486",
         "53.15395348837209",
         "51.097616279069776",
         "49.108197674418605",
         "47.32970930232558",
         "45.337732558139535",
         "43.53360465116279",
         "41.80098837209302",
         "40.273197674418604",
         "38.55441860465116",
         "37.71848837209302",
         "35.573662790697675",
         "34.290988372093025",
         "33.09936046511628",
         "32.05331395348837",
         "31.012093023255815",
         "29.956337209302323",
         "29.030465116279068",
         "28.083837209302327",
         "27.191744186046513"
        ],
        [
         "Female",
         "140.90979591836734",
         "149.21017543859648",
         "151.51609375",
         "150.25088235294118",
         "148.6882857142857",
         "149.84320512820514",
         "153.04872093023258",
         "149.98829545454544",
         "144.71966666666668",
         "144.45147368421053",
         "142.98373737373737",
         "138.41555555555556",
         "137.98287128712872",
         "136.7466990291262",
         "135.85981308411215",
         "135.0309090909091",
         "132.41423423423424",
         "129.1955652173913",
         "124.81789915966387",
         "122.96056451612904",
         "119.915",
         "116.08876923076923",
         "114.3073880597015",
         "111.3084328358209",
         "108.30613138686132",
         "106.14392857142857",
         "103.01443661971831",
         "99.88517730496453",
         "97.82600000000001",
         "93.94376712328767",
         "91.95639999999999",
         "86.61480769230769",
         "85.25308176100629",
         "82.43825000000001",
         "79.0712883435583",
         "75.5951461988304",
         "73.45912280701755",
         "71.46637426900585",
         "69.7493567251462",
         "67.83011695906433",
         "66.23543859649124",
         "64.82233918128655",
         "63.52140350877193",
         "62.30543859649123",
         "61.508304093567254",
         "59.960058479532165",
         "58.13947368421053",
         "56.72742690058479",
         "55.32473684210527",
         "53.253040935672516",
         "51.33847953216374",
         "49.396608187134504",
         "47.70383720930232",
         "45.8056976744186",
         "44.10906976744186",
         "42.19703488372093",
         "40.471395348837206",
         "38.82372093023256",
         "37.36790697674419",
         "35.71843023255814",
         "34.95302325581395",
         "32.87761627906977",
         "31.65406976744186",
         "30.521337209302327",
         "29.5243023255814",
         "28.54436046511628",
         "27.542034883720927",
         "26.675290697674416",
         "25.782616279069767",
         "24.945348837209306"
        ],
        [
         "Male",
         "154.1512244897959",
         "161.5382456140351",
         "163.76078125",
         "161.7420588235294",
         "160.081",
         "161.45692307692306",
         "165.08953488372094",
         "162.015",
         "156.57355555555554",
         "156.37505263157894",
         "154.829898989899",
         "150.05191919191918",
         "149.58881188118812",
         "148.32999999999998",
         "147.68971962616823",
         "147.01281818181818",
         "144.4164864864865",
         "140.97782608695653",
         "136.46672268907562",
         "134.44919354838711",
         "131.30539682539683",
         "127.17484615384615",
         "125.31089552238807",
         "122.13201492537314",
         "119.10306569343066",
         "116.90464285714286",
         "113.6487323943662",
         "110.25581560283688",
         "108.22089655172414",
         "104.10589041095889",
         "102.00873333333332",
         "96.32185897435897",
         "94.90867924528301",
         "91.9383125",
         "88.3203680981595",
         "84.62643274853802",
         "82.34298245614035",
         "80.18953216374268",
         "78.33485380116959",
         "76.28175438596492",
         "74.55421052631579",
         "73.01918128654971",
         "71.5943274853801",
         "70.25157894736843",
         "69.32748538011695",
         "67.64228070175439",
         "65.69023391812865",
         "64.12795321637427",
         "62.58070175438596",
         "60.34684210526316",
         "58.26426900584796",
         "56.45941860465116",
         "54.32238372093024",
         "52.248779069767444",
         "50.39366279069768",
         "48.31860465116279",
         "46.434593023255815",
         "44.63401162790698",
         "43.04",
         "41.24796511627907",
         "40.340174418604654",
         "38.140290697674416",
         "36.793081395348835",
         "35.543662790697674",
         "34.44610465116279",
         "33.35430232558139",
         "32.242616279069765",
         "31.273197674418604",
         "30.283023255813955",
         "29.350348837209303"
        ]
       ],
       "shape": {
        "columns": 70,
        "rows": 3
       }
      },
      "text/html": [
       "<div>\n",
       "<style scoped>\n",
       "    .dataframe tbody tr th:only-of-type {\n",
       "        vertical-align: middle;\n",
       "    }\n",
       "\n",
       "    .dataframe tbody tr th {\n",
       "        vertical-align: top;\n",
       "    }\n",
       "\n",
       "    .dataframe thead th {\n",
       "        text-align: right;\n",
       "    }\n",
       "</style>\n",
       "<table border=\"1\" class=\"dataframe\">\n",
       "  <thead>\n",
       "    <tr style=\"text-align: right;\">\n",
       "      <th>Period</th>\n",
       "      <th>1950</th>\n",
       "      <th>1951</th>\n",
       "      <th>1952</th>\n",
       "      <th>1953</th>\n",
       "      <th>1954</th>\n",
       "      <th>1955</th>\n",
       "      <th>1956</th>\n",
       "      <th>1957</th>\n",
       "      <th>1958</th>\n",
       "      <th>1959</th>\n",
       "      <th>...</th>\n",
       "      <th>2010</th>\n",
       "      <th>2011</th>\n",
       "      <th>2012</th>\n",
       "      <th>2013</th>\n",
       "      <th>2014</th>\n",
       "      <th>2015</th>\n",
       "      <th>2016</th>\n",
       "      <th>2017</th>\n",
       "      <th>2018</th>\n",
       "      <th>2019</th>\n",
       "    </tr>\n",
       "    <tr>\n",
       "      <th>Dim1</th>\n",
       "      <th></th>\n",
       "      <th></th>\n",
       "      <th></th>\n",
       "      <th></th>\n",
       "      <th></th>\n",
       "      <th></th>\n",
       "      <th></th>\n",
       "      <th></th>\n",
       "      <th></th>\n",
       "      <th></th>\n",
       "      <th></th>\n",
       "      <th></th>\n",
       "      <th></th>\n",
       "      <th></th>\n",
       "      <th></th>\n",
       "      <th></th>\n",
       "      <th></th>\n",
       "      <th></th>\n",
       "      <th></th>\n",
       "      <th></th>\n",
       "      <th></th>\n",
       "    </tr>\n",
       "  </thead>\n",
       "  <tbody>\n",
       "    <tr>\n",
       "      <th>Both sexes</th>\n",
       "      <td>147.700816</td>\n",
       "      <td>155.537544</td>\n",
       "      <td>157.811094</td>\n",
       "      <td>156.147206</td>\n",
       "      <td>154.539857</td>\n",
       "      <td>155.797179</td>\n",
       "      <td>159.241163</td>\n",
       "      <td>156.170114</td>\n",
       "      <td>150.813222</td>\n",
       "      <td>150.574000</td>\n",
       "      <td>...</td>\n",
       "      <td>37.718488</td>\n",
       "      <td>35.573663</td>\n",
       "      <td>34.290988</td>\n",
       "      <td>33.099360</td>\n",
       "      <td>32.053314</td>\n",
       "      <td>31.012093</td>\n",
       "      <td>29.956337</td>\n",
       "      <td>29.030465</td>\n",
       "      <td>28.083837</td>\n",
       "      <td>27.191744</td>\n",
       "    </tr>\n",
       "    <tr>\n",
       "      <th>Female</th>\n",
       "      <td>140.909796</td>\n",
       "      <td>149.210175</td>\n",
       "      <td>151.516094</td>\n",
       "      <td>150.250882</td>\n",
       "      <td>148.688286</td>\n",
       "      <td>149.843205</td>\n",
       "      <td>153.048721</td>\n",
       "      <td>149.988295</td>\n",
       "      <td>144.719667</td>\n",
       "      <td>144.451474</td>\n",
       "      <td>...</td>\n",
       "      <td>34.953023</td>\n",
       "      <td>32.877616</td>\n",
       "      <td>31.654070</td>\n",
       "      <td>30.521337</td>\n",
       "      <td>29.524302</td>\n",
       "      <td>28.544360</td>\n",
       "      <td>27.542035</td>\n",
       "      <td>26.675291</td>\n",
       "      <td>25.782616</td>\n",
       "      <td>24.945349</td>\n",
       "    </tr>\n",
       "    <tr>\n",
       "      <th>Male</th>\n",
       "      <td>154.151224</td>\n",
       "      <td>161.538246</td>\n",
       "      <td>163.760781</td>\n",
       "      <td>161.742059</td>\n",
       "      <td>160.081000</td>\n",
       "      <td>161.456923</td>\n",
       "      <td>165.089535</td>\n",
       "      <td>162.015000</td>\n",
       "      <td>156.573556</td>\n",
       "      <td>156.375053</td>\n",
       "      <td>...</td>\n",
       "      <td>40.340174</td>\n",
       "      <td>38.140291</td>\n",
       "      <td>36.793081</td>\n",
       "      <td>35.543663</td>\n",
       "      <td>34.446105</td>\n",
       "      <td>33.354302</td>\n",
       "      <td>32.242616</td>\n",
       "      <td>31.273198</td>\n",
       "      <td>30.283023</td>\n",
       "      <td>29.350349</td>\n",
       "    </tr>\n",
       "  </tbody>\n",
       "</table>\n",
       "<p>3 rows × 70 columns</p>\n",
       "</div>"
      ],
      "text/plain": [
       "Period            1950        1951        1952        1953        1954  \\\n",
       "Dim1                                                                     \n",
       "Both sexes  147.700816  155.537544  157.811094  156.147206  154.539857   \n",
       "Female      140.909796  149.210175  151.516094  150.250882  148.688286   \n",
       "Male        154.151224  161.538246  163.760781  161.742059  160.081000   \n",
       "\n",
       "Period            1955        1956        1957        1958        1959  ...  \\\n",
       "Dim1                                                                    ...   \n",
       "Both sexes  155.797179  159.241163  156.170114  150.813222  150.574000  ...   \n",
       "Female      149.843205  153.048721  149.988295  144.719667  144.451474  ...   \n",
       "Male        161.456923  165.089535  162.015000  156.573556  156.375053  ...   \n",
       "\n",
       "Period           2010       2011       2012       2013       2014       2015  \\\n",
       "Dim1                                                                           \n",
       "Both sexes  37.718488  35.573663  34.290988  33.099360  32.053314  31.012093   \n",
       "Female      34.953023  32.877616  31.654070  30.521337  29.524302  28.544360   \n",
       "Male        40.340174  38.140291  36.793081  35.543663  34.446105  33.354302   \n",
       "\n",
       "Period           2016       2017       2018       2019  \n",
       "Dim1                                                    \n",
       "Both sexes  29.956337  29.030465  28.083837  27.191744  \n",
       "Female      27.542035  26.675291  25.782616  24.945349  \n",
       "Male        32.242616  31.273198  30.283023  29.350349  \n",
       "\n",
       "[3 rows x 70 columns]"
      ]
     },
     "execution_count": 187,
     "metadata": {},
     "output_type": "execute_result"
    }
   ],
   "source": [
    "df.pivot_table(index='Dim1', columns='Period', values='First Tooltip')\n",
    "# 내가 쓴 답, 기본값이 평균이라 답은 같게 나온다."
   ]
  },
  {
   "cell_type": "code",
   "execution_count": 188,
   "id": "c3218088",
   "metadata": {},
   "outputs": [
    {
     "data": {
      "application/vnd.microsoft.datawrangler.viewer.v0+json": {
       "columns": [
        {
         "name": "Dim1",
         "rawType": "object",
         "type": "string"
        },
        {
         "name": "1950",
         "rawType": "float64",
         "type": "float"
        },
        {
         "name": "1951",
         "rawType": "float64",
         "type": "float"
        },
        {
         "name": "1952",
         "rawType": "float64",
         "type": "float"
        },
        {
         "name": "1953",
         "rawType": "float64",
         "type": "float"
        },
        {
         "name": "1954",
         "rawType": "float64",
         "type": "float"
        },
        {
         "name": "1955",
         "rawType": "float64",
         "type": "float"
        },
        {
         "name": "1956",
         "rawType": "float64",
         "type": "float"
        },
        {
         "name": "1957",
         "rawType": "float64",
         "type": "float"
        },
        {
         "name": "1958",
         "rawType": "float64",
         "type": "float"
        },
        {
         "name": "1959",
         "rawType": "float64",
         "type": "float"
        },
        {
         "name": "1960",
         "rawType": "float64",
         "type": "float"
        },
        {
         "name": "1961",
         "rawType": "float64",
         "type": "float"
        },
        {
         "name": "1962",
         "rawType": "float64",
         "type": "float"
        },
        {
         "name": "1963",
         "rawType": "float64",
         "type": "float"
        },
        {
         "name": "1964",
         "rawType": "float64",
         "type": "float"
        },
        {
         "name": "1965",
         "rawType": "float64",
         "type": "float"
        },
        {
         "name": "1966",
         "rawType": "float64",
         "type": "float"
        },
        {
         "name": "1967",
         "rawType": "float64",
         "type": "float"
        },
        {
         "name": "1968",
         "rawType": "float64",
         "type": "float"
        },
        {
         "name": "1969",
         "rawType": "float64",
         "type": "float"
        },
        {
         "name": "1970",
         "rawType": "float64",
         "type": "float"
        },
        {
         "name": "1971",
         "rawType": "float64",
         "type": "float"
        },
        {
         "name": "1972",
         "rawType": "float64",
         "type": "float"
        },
        {
         "name": "1973",
         "rawType": "float64",
         "type": "float"
        },
        {
         "name": "1974",
         "rawType": "float64",
         "type": "float"
        },
        {
         "name": "1975",
         "rawType": "float64",
         "type": "float"
        },
        {
         "name": "1976",
         "rawType": "float64",
         "type": "float"
        },
        {
         "name": "1977",
         "rawType": "float64",
         "type": "float"
        },
        {
         "name": "1978",
         "rawType": "float64",
         "type": "float"
        },
        {
         "name": "1979",
         "rawType": "float64",
         "type": "float"
        },
        {
         "name": "1980",
         "rawType": "float64",
         "type": "float"
        },
        {
         "name": "1981",
         "rawType": "float64",
         "type": "float"
        },
        {
         "name": "1982",
         "rawType": "float64",
         "type": "float"
        },
        {
         "name": "1983",
         "rawType": "float64",
         "type": "float"
        },
        {
         "name": "1984",
         "rawType": "float64",
         "type": "float"
        },
        {
         "name": "1985",
         "rawType": "float64",
         "type": "float"
        },
        {
         "name": "1986",
         "rawType": "float64",
         "type": "float"
        },
        {
         "name": "1987",
         "rawType": "float64",
         "type": "float"
        },
        {
         "name": "1988",
         "rawType": "float64",
         "type": "float"
        },
        {
         "name": "1989",
         "rawType": "float64",
         "type": "float"
        },
        {
         "name": "1990",
         "rawType": "float64",
         "type": "float"
        },
        {
         "name": "1991",
         "rawType": "float64",
         "type": "float"
        },
        {
         "name": "1992",
         "rawType": "float64",
         "type": "float"
        },
        {
         "name": "1993",
         "rawType": "float64",
         "type": "float"
        },
        {
         "name": "1994",
         "rawType": "float64",
         "type": "float"
        },
        {
         "name": "1995",
         "rawType": "float64",
         "type": "float"
        },
        {
         "name": "1996",
         "rawType": "float64",
         "type": "float"
        },
        {
         "name": "1997",
         "rawType": "float64",
         "type": "float"
        },
        {
         "name": "1998",
         "rawType": "float64",
         "type": "float"
        },
        {
         "name": "1999",
         "rawType": "float64",
         "type": "float"
        },
        {
         "name": "2000",
         "rawType": "float64",
         "type": "float"
        },
        {
         "name": "2001",
         "rawType": "float64",
         "type": "float"
        },
        {
         "name": "2002",
         "rawType": "float64",
         "type": "float"
        },
        {
         "name": "2003",
         "rawType": "float64",
         "type": "float"
        },
        {
         "name": "2004",
         "rawType": "float64",
         "type": "float"
        },
        {
         "name": "2005",
         "rawType": "float64",
         "type": "float"
        },
        {
         "name": "2006",
         "rawType": "float64",
         "type": "float"
        },
        {
         "name": "2007",
         "rawType": "float64",
         "type": "float"
        },
        {
         "name": "2008",
         "rawType": "float64",
         "type": "float"
        },
        {
         "name": "2009",
         "rawType": "float64",
         "type": "float"
        },
        {
         "name": "2010",
         "rawType": "float64",
         "type": "float"
        },
        {
         "name": "2011",
         "rawType": "float64",
         "type": "float"
        },
        {
         "name": "2012",
         "rawType": "float64",
         "type": "float"
        },
        {
         "name": "2013",
         "rawType": "float64",
         "type": "float"
        },
        {
         "name": "2014",
         "rawType": "float64",
         "type": "float"
        },
        {
         "name": "2015",
         "rawType": "float64",
         "type": "float"
        },
        {
         "name": "2016",
         "rawType": "float64",
         "type": "float"
        },
        {
         "name": "2017",
         "rawType": "float64",
         "type": "float"
        },
        {
         "name": "2018",
         "rawType": "float64",
         "type": "float"
        },
        {
         "name": "2019",
         "rawType": "float64",
         "type": "float"
        }
       ],
       "ref": "f618ebdb-3e75-489f-b2e9-54f6d209bb42",
       "rows": [
        [
         "Both sexes",
         "147.70081632653063",
         "155.5375438596491",
         "157.81109375",
         "156.14720588235295",
         "154.53985714285716",
         "155.79717948717948",
         "159.24116279069767",
         "156.17011363636362",
         "150.81322222222224",
         "150.574",
         "149.0640404040404",
         "144.38939393939393",
         "143.94623762376239",
         "142.70592233009708",
         "141.93728971962616",
         "141.17718181818182",
         "138.5718018018018",
         "135.23991304347825",
         "130.79563025210084",
         "128.84637096774193",
         "125.75547619047619",
         "121.77230769230769",
         "119.95686567164178",
         "116.85977611940298",
         "113.84401459854016",
         "111.66378571428572",
         "108.46964788732394",
         "105.20872340425532",
         "103.15620689655172",
         "99.16191780821917",
         "97.10986666666666",
         "91.58839743589743",
         "90.2033962264151",
         "87.31174999999999",
         "83.81404907975461",
         "80.22304093567251",
         "78.01076023391813",
         "75.93888888888888",
         "74.15538011695907",
         "72.16637426900586",
         "70.50140350877193",
         "69.02625730994151",
         "67.65713450292398",
         "66.37561403508772",
         "65.51906432748538",
         "63.89754385964912",
         "62.01005847953216",
         "60.52333333333333",
         "59.0453216374269",
         "56.89409356725146",
         "54.88959064327486",
         "53.15395348837209",
         "51.097616279069776",
         "49.108197674418605",
         "47.32970930232558",
         "45.337732558139535",
         "43.53360465116279",
         "41.80098837209302",
         "40.273197674418604",
         "38.55441860465116",
         "37.71848837209302",
         "35.573662790697675",
         "34.290988372093025",
         "33.09936046511628",
         "32.05331395348837",
         "31.012093023255815",
         "29.956337209302323",
         "29.030465116279068",
         "28.083837209302327",
         "27.191744186046513"
        ],
        [
         "Female",
         "140.90979591836734",
         "149.21017543859648",
         "151.51609375",
         "150.25088235294118",
         "148.6882857142857",
         "149.84320512820514",
         "153.04872093023258",
         "149.98829545454544",
         "144.71966666666668",
         "144.45147368421053",
         "142.98373737373737",
         "138.41555555555556",
         "137.98287128712872",
         "136.7466990291262",
         "135.85981308411215",
         "135.0309090909091",
         "132.41423423423424",
         "129.1955652173913",
         "124.81789915966387",
         "122.96056451612904",
         "119.915",
         "116.08876923076923",
         "114.3073880597015",
         "111.3084328358209",
         "108.30613138686132",
         "106.14392857142857",
         "103.01443661971831",
         "99.88517730496453",
         "97.82600000000001",
         "93.94376712328767",
         "91.95639999999999",
         "86.61480769230769",
         "85.25308176100629",
         "82.43825000000001",
         "79.0712883435583",
         "75.5951461988304",
         "73.45912280701755",
         "71.46637426900585",
         "69.7493567251462",
         "67.83011695906433",
         "66.23543859649124",
         "64.82233918128655",
         "63.52140350877193",
         "62.30543859649123",
         "61.508304093567254",
         "59.960058479532165",
         "58.13947368421053",
         "56.72742690058479",
         "55.32473684210527",
         "53.253040935672516",
         "51.33847953216374",
         "49.396608187134504",
         "47.70383720930232",
         "45.8056976744186",
         "44.10906976744186",
         "42.19703488372093",
         "40.471395348837206",
         "38.82372093023256",
         "37.36790697674419",
         "35.71843023255814",
         "34.95302325581395",
         "32.87761627906977",
         "31.65406976744186",
         "30.521337209302327",
         "29.5243023255814",
         "28.54436046511628",
         "27.542034883720927",
         "26.675290697674416",
         "25.782616279069767",
         "24.945348837209306"
        ],
        [
         "Male",
         "154.1512244897959",
         "161.5382456140351",
         "163.76078125",
         "161.7420588235294",
         "160.081",
         "161.45692307692306",
         "165.08953488372094",
         "162.015",
         "156.57355555555554",
         "156.37505263157894",
         "154.829898989899",
         "150.05191919191918",
         "149.58881188118812",
         "148.32999999999998",
         "147.68971962616823",
         "147.01281818181818",
         "144.4164864864865",
         "140.97782608695653",
         "136.46672268907562",
         "134.44919354838711",
         "131.30539682539683",
         "127.17484615384615",
         "125.31089552238807",
         "122.13201492537314",
         "119.10306569343066",
         "116.90464285714286",
         "113.6487323943662",
         "110.25581560283688",
         "108.22089655172414",
         "104.10589041095889",
         "102.00873333333332",
         "96.32185897435897",
         "94.90867924528301",
         "91.9383125",
         "88.3203680981595",
         "84.62643274853802",
         "82.34298245614035",
         "80.18953216374268",
         "78.33485380116959",
         "76.28175438596492",
         "74.55421052631579",
         "73.01918128654971",
         "71.5943274853801",
         "70.25157894736843",
         "69.32748538011695",
         "67.64228070175439",
         "65.69023391812865",
         "64.12795321637427",
         "62.58070175438596",
         "60.34684210526316",
         "58.26426900584796",
         "56.45941860465116",
         "54.32238372093024",
         "52.248779069767444",
         "50.39366279069768",
         "48.31860465116279",
         "46.434593023255815",
         "44.63401162790698",
         "43.04",
         "41.24796511627907",
         "40.340174418604654",
         "38.140290697674416",
         "36.793081395348835",
         "35.543662790697674",
         "34.44610465116279",
         "33.35430232558139",
         "32.242616279069765",
         "31.273197674418604",
         "30.283023255813955",
         "29.350348837209303"
        ]
       ],
       "shape": {
        "columns": 70,
        "rows": 3
       }
      },
      "text/html": [
       "<div>\n",
       "<style scoped>\n",
       "    .dataframe tbody tr th:only-of-type {\n",
       "        vertical-align: middle;\n",
       "    }\n",
       "\n",
       "    .dataframe tbody tr th {\n",
       "        vertical-align: top;\n",
       "    }\n",
       "\n",
       "    .dataframe thead th {\n",
       "        text-align: right;\n",
       "    }\n",
       "</style>\n",
       "<table border=\"1\" class=\"dataframe\">\n",
       "  <thead>\n",
       "    <tr style=\"text-align: right;\">\n",
       "      <th>Period</th>\n",
       "      <th>1950</th>\n",
       "      <th>1951</th>\n",
       "      <th>1952</th>\n",
       "      <th>1953</th>\n",
       "      <th>1954</th>\n",
       "      <th>1955</th>\n",
       "      <th>1956</th>\n",
       "      <th>1957</th>\n",
       "      <th>1958</th>\n",
       "      <th>1959</th>\n",
       "      <th>...</th>\n",
       "      <th>2010</th>\n",
       "      <th>2011</th>\n",
       "      <th>2012</th>\n",
       "      <th>2013</th>\n",
       "      <th>2014</th>\n",
       "      <th>2015</th>\n",
       "      <th>2016</th>\n",
       "      <th>2017</th>\n",
       "      <th>2018</th>\n",
       "      <th>2019</th>\n",
       "    </tr>\n",
       "    <tr>\n",
       "      <th>Dim1</th>\n",
       "      <th></th>\n",
       "      <th></th>\n",
       "      <th></th>\n",
       "      <th></th>\n",
       "      <th></th>\n",
       "      <th></th>\n",
       "      <th></th>\n",
       "      <th></th>\n",
       "      <th></th>\n",
       "      <th></th>\n",
       "      <th></th>\n",
       "      <th></th>\n",
       "      <th></th>\n",
       "      <th></th>\n",
       "      <th></th>\n",
       "      <th></th>\n",
       "      <th></th>\n",
       "      <th></th>\n",
       "      <th></th>\n",
       "      <th></th>\n",
       "      <th></th>\n",
       "    </tr>\n",
       "  </thead>\n",
       "  <tbody>\n",
       "    <tr>\n",
       "      <th>Both sexes</th>\n",
       "      <td>147.700816</td>\n",
       "      <td>155.537544</td>\n",
       "      <td>157.811094</td>\n",
       "      <td>156.147206</td>\n",
       "      <td>154.539857</td>\n",
       "      <td>155.797179</td>\n",
       "      <td>159.241163</td>\n",
       "      <td>156.170114</td>\n",
       "      <td>150.813222</td>\n",
       "      <td>150.574000</td>\n",
       "      <td>...</td>\n",
       "      <td>37.718488</td>\n",
       "      <td>35.573663</td>\n",
       "      <td>34.290988</td>\n",
       "      <td>33.099360</td>\n",
       "      <td>32.053314</td>\n",
       "      <td>31.012093</td>\n",
       "      <td>29.956337</td>\n",
       "      <td>29.030465</td>\n",
       "      <td>28.083837</td>\n",
       "      <td>27.191744</td>\n",
       "    </tr>\n",
       "    <tr>\n",
       "      <th>Female</th>\n",
       "      <td>140.909796</td>\n",
       "      <td>149.210175</td>\n",
       "      <td>151.516094</td>\n",
       "      <td>150.250882</td>\n",
       "      <td>148.688286</td>\n",
       "      <td>149.843205</td>\n",
       "      <td>153.048721</td>\n",
       "      <td>149.988295</td>\n",
       "      <td>144.719667</td>\n",
       "      <td>144.451474</td>\n",
       "      <td>...</td>\n",
       "      <td>34.953023</td>\n",
       "      <td>32.877616</td>\n",
       "      <td>31.654070</td>\n",
       "      <td>30.521337</td>\n",
       "      <td>29.524302</td>\n",
       "      <td>28.544360</td>\n",
       "      <td>27.542035</td>\n",
       "      <td>26.675291</td>\n",
       "      <td>25.782616</td>\n",
       "      <td>24.945349</td>\n",
       "    </tr>\n",
       "    <tr>\n",
       "      <th>Male</th>\n",
       "      <td>154.151224</td>\n",
       "      <td>161.538246</td>\n",
       "      <td>163.760781</td>\n",
       "      <td>161.742059</td>\n",
       "      <td>160.081000</td>\n",
       "      <td>161.456923</td>\n",
       "      <td>165.089535</td>\n",
       "      <td>162.015000</td>\n",
       "      <td>156.573556</td>\n",
       "      <td>156.375053</td>\n",
       "      <td>...</td>\n",
       "      <td>40.340174</td>\n",
       "      <td>38.140291</td>\n",
       "      <td>36.793081</td>\n",
       "      <td>35.543663</td>\n",
       "      <td>34.446105</td>\n",
       "      <td>33.354302</td>\n",
       "      <td>32.242616</td>\n",
       "      <td>31.273198</td>\n",
       "      <td>30.283023</td>\n",
       "      <td>29.350349</td>\n",
       "    </tr>\n",
       "  </tbody>\n",
       "</table>\n",
       "<p>3 rows × 70 columns</p>\n",
       "</div>"
      ],
      "text/plain": [
       "Period            1950        1951        1952        1953        1954  \\\n",
       "Dim1                                                                     \n",
       "Both sexes  147.700816  155.537544  157.811094  156.147206  154.539857   \n",
       "Female      140.909796  149.210175  151.516094  150.250882  148.688286   \n",
       "Male        154.151224  161.538246  163.760781  161.742059  160.081000   \n",
       "\n",
       "Period            1955        1956        1957        1958        1959  ...  \\\n",
       "Dim1                                                                    ...   \n",
       "Both sexes  155.797179  159.241163  156.170114  150.813222  150.574000  ...   \n",
       "Female      149.843205  153.048721  149.988295  144.719667  144.451474  ...   \n",
       "Male        161.456923  165.089535  162.015000  156.573556  156.375053  ...   \n",
       "\n",
       "Period           2010       2011       2012       2013       2014       2015  \\\n",
       "Dim1                                                                           \n",
       "Both sexes  37.718488  35.573663  34.290988  33.099360  32.053314  31.012093   \n",
       "Female      34.953023  32.877616  31.654070  30.521337  29.524302  28.544360   \n",
       "Male        40.340174  38.140291  36.793081  35.543663  34.446105  33.354302   \n",
       "\n",
       "Period           2016       2017       2018       2019  \n",
       "Dim1                                                    \n",
       "Both sexes  29.956337  29.030465  28.083837  27.191744  \n",
       "Female      27.542035  26.675291  25.782616  24.945349  \n",
       "Male        32.242616  31.273198  30.283023  29.350349  \n",
       "\n",
       "[3 rows x 70 columns]"
      ]
     },
     "execution_count": 188,
     "metadata": {},
     "output_type": "execute_result"
    }
   ],
   "source": [
    "Ans = df.pivot_table(index='Dim1',columns='Period',values='First Tooltip',aggfunc='mean')\n",
    "Ans\n",
    "# 데이터마님 답"
   ]
  },
  {
   "cell_type": "markdown",
   "id": "2bd53a02",
   "metadata": {},
   "source": [
    "올림픽 메달리스트 정보 데이터: https://www.kaggle.com/the-guardian/olympic-games<br>\n",
    "dataUrl =’https://raw.githubusercontent.com/Datamanim/pandas/main/winter.csv’\n",
    "\n"
   ]
  },
  {
   "cell_type": "markdown",
   "id": "ed952c10",
   "metadata": {},
   "source": [
    "## Question 87\n",
    "데이터에서 한국 KOR 데이터만 추출하라."
   ]
  },
  {
   "cell_type": "code",
   "execution_count": 189,
   "id": "d41f91a1",
   "metadata": {},
   "outputs": [],
   "source": [
    "DataUrl = 'https://raw.githubusercontent.com/Datamanim/pandas/main/winter.csv'\n",
    "df = pd.read_csv(DataUrl)"
   ]
  },
  {
   "cell_type": "code",
   "execution_count": 194,
   "id": "5dc430fa",
   "metadata": {},
   "outputs": [
    {
     "data": {
      "application/vnd.microsoft.datawrangler.viewer.v0+json": {
       "columns": [
        {
         "name": "index",
         "rawType": "int64",
         "type": "integer"
        },
        {
         "name": "Year",
         "rawType": "int64",
         "type": "integer"
        },
        {
         "name": "City",
         "rawType": "object",
         "type": "string"
        },
        {
         "name": "Sport",
         "rawType": "object",
         "type": "string"
        },
        {
         "name": "Discipline",
         "rawType": "object",
         "type": "string"
        },
        {
         "name": "Athlete",
         "rawType": "object",
         "type": "string"
        },
        {
         "name": "Country",
         "rawType": "object",
         "type": "string"
        },
        {
         "name": "Gender",
         "rawType": "object",
         "type": "string"
        },
        {
         "name": "Event",
         "rawType": "object",
         "type": "string"
        },
        {
         "name": "Medal",
         "rawType": "object",
         "type": "string"
        }
       ],
       "ref": "0ed063dc-1909-4778-a5ac-22ede06d827b",
       "rows": [
        [
         "2652",
         "1992",
         "Albertville",
         "Skating",
         "Short Track Speed Skating",
         "LEE, Jun-Ho",
         "KOR",
         "Men",
         "1000M",
         "Bronze"
        ],
        [
         "2653",
         "1992",
         "Albertville",
         "Skating",
         "Short Track Speed Skating",
         "KIM, Ki-Hoon",
         "KOR",
         "Men",
         "1000M",
         "Gold"
        ],
        [
         "2671",
         "1992",
         "Albertville",
         "Skating",
         "Short Track Speed Skating",
         "KIM, Ki-Hoon",
         "KOR",
         "Men",
         "5000M Relay",
         "Gold"
        ],
        [
         "2672",
         "1992",
         "Albertville",
         "Skating",
         "Short Track Speed Skating",
         "LEE, Jun-Ho",
         "KOR",
         "Men",
         "5000M Relay",
         "Gold"
        ]
       ],
       "shape": {
        "columns": 9,
        "rows": 4
       }
      },
      "text/html": [
       "<div>\n",
       "<style scoped>\n",
       "    .dataframe tbody tr th:only-of-type {\n",
       "        vertical-align: middle;\n",
       "    }\n",
       "\n",
       "    .dataframe tbody tr th {\n",
       "        vertical-align: top;\n",
       "    }\n",
       "\n",
       "    .dataframe thead th {\n",
       "        text-align: right;\n",
       "    }\n",
       "</style>\n",
       "<table border=\"1\" class=\"dataframe\">\n",
       "  <thead>\n",
       "    <tr style=\"text-align: right;\">\n",
       "      <th></th>\n",
       "      <th>Year</th>\n",
       "      <th>City</th>\n",
       "      <th>Sport</th>\n",
       "      <th>Discipline</th>\n",
       "      <th>Athlete</th>\n",
       "      <th>Country</th>\n",
       "      <th>Gender</th>\n",
       "      <th>Event</th>\n",
       "      <th>Medal</th>\n",
       "    </tr>\n",
       "  </thead>\n",
       "  <tbody>\n",
       "    <tr>\n",
       "      <th>2652</th>\n",
       "      <td>1992</td>\n",
       "      <td>Albertville</td>\n",
       "      <td>Skating</td>\n",
       "      <td>Short Track Speed Skating</td>\n",
       "      <td>LEE, Jun-Ho</td>\n",
       "      <td>KOR</td>\n",
       "      <td>Men</td>\n",
       "      <td>1000M</td>\n",
       "      <td>Bronze</td>\n",
       "    </tr>\n",
       "    <tr>\n",
       "      <th>2653</th>\n",
       "      <td>1992</td>\n",
       "      <td>Albertville</td>\n",
       "      <td>Skating</td>\n",
       "      <td>Short Track Speed Skating</td>\n",
       "      <td>KIM, Ki-Hoon</td>\n",
       "      <td>KOR</td>\n",
       "      <td>Men</td>\n",
       "      <td>1000M</td>\n",
       "      <td>Gold</td>\n",
       "    </tr>\n",
       "    <tr>\n",
       "      <th>2671</th>\n",
       "      <td>1992</td>\n",
       "      <td>Albertville</td>\n",
       "      <td>Skating</td>\n",
       "      <td>Short Track Speed Skating</td>\n",
       "      <td>KIM, Ki-Hoon</td>\n",
       "      <td>KOR</td>\n",
       "      <td>Men</td>\n",
       "      <td>5000M Relay</td>\n",
       "      <td>Gold</td>\n",
       "    </tr>\n",
       "    <tr>\n",
       "      <th>2672</th>\n",
       "      <td>1992</td>\n",
       "      <td>Albertville</td>\n",
       "      <td>Skating</td>\n",
       "      <td>Short Track Speed Skating</td>\n",
       "      <td>LEE, Jun-Ho</td>\n",
       "      <td>KOR</td>\n",
       "      <td>Men</td>\n",
       "      <td>5000M Relay</td>\n",
       "      <td>Gold</td>\n",
       "    </tr>\n",
       "  </tbody>\n",
       "</table>\n",
       "</div>"
      ],
      "text/plain": [
       "      Year         City    Sport                 Discipline       Athlete  \\\n",
       "2652  1992  Albertville  Skating  Short Track Speed Skating   LEE, Jun-Ho   \n",
       "2653  1992  Albertville  Skating  Short Track Speed Skating  KIM, Ki-Hoon   \n",
       "2671  1992  Albertville  Skating  Short Track Speed Skating  KIM, Ki-Hoon   \n",
       "2672  1992  Albertville  Skating  Short Track Speed Skating   LEE, Jun-Ho   \n",
       "\n",
       "     Country Gender        Event   Medal  \n",
       "2652     KOR    Men        1000M  Bronze  \n",
       "2653     KOR    Men        1000M    Gold  \n",
       "2671     KOR    Men  5000M Relay    Gold  \n",
       "2672     KOR    Men  5000M Relay    Gold  "
      ]
     },
     "execution_count": 194,
     "metadata": {},
     "output_type": "execute_result"
    }
   ],
   "source": [
    "df[df['Country'] == 'KOR'].head(4)"
   ]
  },
  {
   "cell_type": "markdown",
   "id": "ce078ca2",
   "metadata": {},
   "source": [
    "## Question 88\n",
    "한국 올림픽 메달리스트 데이터에서 년도에 따른 medal 갯수를 데이터프레임화 하라."
   ]
  },
  {
   "cell_type": "code",
   "execution_count": 206,
   "id": "e6703898",
   "metadata": {},
   "outputs": [
    {
     "data": {
      "application/vnd.microsoft.datawrangler.viewer.v0+json": {
       "columns": [
        {
         "name": "Year",
         "rawType": "int64",
         "type": "integer"
        },
        {
         "name": "Bronze",
         "rawType": "float64",
         "type": "float"
        },
        {
         "name": "Gold",
         "rawType": "float64",
         "type": "float"
        },
        {
         "name": "Silver",
         "rawType": "float64",
         "type": "float"
        }
       ],
       "ref": "3c15c51b-d348-4d09-9839-5b8430c43b1f",
       "rows": [
        [
         "1992",
         "1.0",
         "5.0",
         "1.0"
        ],
        [
         "1994",
         "1.0",
         "8.0",
         "1.0"
        ],
        [
         "1998",
         "2.0",
         "6.0",
         "4.0"
        ],
        [
         "2002",
         "0.0",
         "5.0",
         "2.0"
        ],
        [
         "2006",
         "2.0",
         "14.0",
         "3.0"
        ],
        [
         "2010",
         "2.0",
         "6.0",
         "10.0"
        ],
        [
         "2014",
         "2.0",
         "7.0",
         "5.0"
        ]
       ],
       "shape": {
        "columns": 3,
        "rows": 7
       }
      },
      "text/html": [
       "<div>\n",
       "<style scoped>\n",
       "    .dataframe tbody tr th:only-of-type {\n",
       "        vertical-align: middle;\n",
       "    }\n",
       "\n",
       "    .dataframe tbody tr th {\n",
       "        vertical-align: top;\n",
       "    }\n",
       "\n",
       "    .dataframe thead th {\n",
       "        text-align: right;\n",
       "    }\n",
       "</style>\n",
       "<table border=\"1\" class=\"dataframe\">\n",
       "  <thead>\n",
       "    <tr style=\"text-align: right;\">\n",
       "      <th>Medal</th>\n",
       "      <th>Bronze</th>\n",
       "      <th>Gold</th>\n",
       "      <th>Silver</th>\n",
       "    </tr>\n",
       "    <tr>\n",
       "      <th>Year</th>\n",
       "      <th></th>\n",
       "      <th></th>\n",
       "      <th></th>\n",
       "    </tr>\n",
       "  </thead>\n",
       "  <tbody>\n",
       "    <tr>\n",
       "      <th>1992</th>\n",
       "      <td>1.0</td>\n",
       "      <td>5.0</td>\n",
       "      <td>1.0</td>\n",
       "    </tr>\n",
       "    <tr>\n",
       "      <th>1994</th>\n",
       "      <td>1.0</td>\n",
       "      <td>8.0</td>\n",
       "      <td>1.0</td>\n",
       "    </tr>\n",
       "    <tr>\n",
       "      <th>1998</th>\n",
       "      <td>2.0</td>\n",
       "      <td>6.0</td>\n",
       "      <td>4.0</td>\n",
       "    </tr>\n",
       "    <tr>\n",
       "      <th>2002</th>\n",
       "      <td>0.0</td>\n",
       "      <td>5.0</td>\n",
       "      <td>2.0</td>\n",
       "    </tr>\n",
       "    <tr>\n",
       "      <th>2006</th>\n",
       "      <td>2.0</td>\n",
       "      <td>14.0</td>\n",
       "      <td>3.0</td>\n",
       "    </tr>\n",
       "    <tr>\n",
       "      <th>2010</th>\n",
       "      <td>2.0</td>\n",
       "      <td>6.0</td>\n",
       "      <td>10.0</td>\n",
       "    </tr>\n",
       "    <tr>\n",
       "      <th>2014</th>\n",
       "      <td>2.0</td>\n",
       "      <td>7.0</td>\n",
       "      <td>5.0</td>\n",
       "    </tr>\n",
       "  </tbody>\n",
       "</table>\n",
       "</div>"
      ],
      "text/plain": [
       "Medal  Bronze  Gold  Silver\n",
       "Year                       \n",
       "1992      1.0   5.0     1.0\n",
       "1994      1.0   8.0     1.0\n",
       "1998      2.0   6.0     4.0\n",
       "2002      0.0   5.0     2.0\n",
       "2006      2.0  14.0     3.0\n",
       "2010      2.0   6.0    10.0\n",
       "2014      2.0   7.0     5.0"
      ]
     },
     "execution_count": 206,
     "metadata": {},
     "output_type": "execute_result"
    }
   ],
   "source": [
    "new_df = df[df['Country'] == 'KOR']\n",
    "new_df.pivot_table(index = 'Year', columns= 'Medal', aggfunc = 'size').fillna(0)"
   ]
  },
  {
   "cell_type": "markdown",
   "id": "da9cd034",
   "metadata": {},
   "source": [
    "## Question 89\n",
    "전체 데이터에서 sport종류에 따른 성별수를 구하여라."
   ]
  },
  {
   "cell_type": "code",
   "execution_count": 208,
   "id": "9d51fcb1",
   "metadata": {},
   "outputs": [
    {
     "data": {
      "application/vnd.microsoft.datawrangler.viewer.v0+json": {
       "columns": [
        {
         "name": "Sport",
         "rawType": "object",
         "type": "string"
        },
        {
         "name": "Men",
         "rawType": "int64",
         "type": "integer"
        },
        {
         "name": "Women",
         "rawType": "int64",
         "type": "integer"
        }
       ],
       "ref": "5a0701df-d462-4cb4-bc3a-1e0f0996f24b",
       "rows": [
        [
         "Biathlon",
         "270",
         "150"
        ],
        [
         "Bobsleigh",
         "416",
         "36"
        ],
        [
         "Curling",
         "97",
         "75"
        ],
        [
         "Ice Hockey",
         "1231",
         "305"
        ],
        [
         "Luge",
         "135",
         "45"
        ],
        [
         "Skating",
         "665",
         "564"
        ],
        [
         "Skiing",
         "1130",
         "651"
        ]
       ],
       "shape": {
        "columns": 2,
        "rows": 7
       }
      },
      "text/html": [
       "<div>\n",
       "<style scoped>\n",
       "    .dataframe tbody tr th:only-of-type {\n",
       "        vertical-align: middle;\n",
       "    }\n",
       "\n",
       "    .dataframe tbody tr th {\n",
       "        vertical-align: top;\n",
       "    }\n",
       "\n",
       "    .dataframe thead th {\n",
       "        text-align: right;\n",
       "    }\n",
       "</style>\n",
       "<table border=\"1\" class=\"dataframe\">\n",
       "  <thead>\n",
       "    <tr style=\"text-align: right;\">\n",
       "      <th>Gender</th>\n",
       "      <th>Men</th>\n",
       "      <th>Women</th>\n",
       "    </tr>\n",
       "    <tr>\n",
       "      <th>Sport</th>\n",
       "      <th></th>\n",
       "      <th></th>\n",
       "    </tr>\n",
       "  </thead>\n",
       "  <tbody>\n",
       "    <tr>\n",
       "      <th>Biathlon</th>\n",
       "      <td>270</td>\n",
       "      <td>150</td>\n",
       "    </tr>\n",
       "    <tr>\n",
       "      <th>Bobsleigh</th>\n",
       "      <td>416</td>\n",
       "      <td>36</td>\n",
       "    </tr>\n",
       "    <tr>\n",
       "      <th>Curling</th>\n",
       "      <td>97</td>\n",
       "      <td>75</td>\n",
       "    </tr>\n",
       "    <tr>\n",
       "      <th>Ice Hockey</th>\n",
       "      <td>1231</td>\n",
       "      <td>305</td>\n",
       "    </tr>\n",
       "    <tr>\n",
       "      <th>Luge</th>\n",
       "      <td>135</td>\n",
       "      <td>45</td>\n",
       "    </tr>\n",
       "    <tr>\n",
       "      <th>Skating</th>\n",
       "      <td>665</td>\n",
       "      <td>564</td>\n",
       "    </tr>\n",
       "    <tr>\n",
       "      <th>Skiing</th>\n",
       "      <td>1130</td>\n",
       "      <td>651</td>\n",
       "    </tr>\n",
       "  </tbody>\n",
       "</table>\n",
       "</div>"
      ],
      "text/plain": [
       "Gender       Men  Women\n",
       "Sport                  \n",
       "Biathlon     270    150\n",
       "Bobsleigh    416     36\n",
       "Curling       97     75\n",
       "Ice Hockey  1231    305\n",
       "Luge         135     45\n",
       "Skating      665    564\n",
       "Skiing      1130    651"
      ]
     },
     "execution_count": 208,
     "metadata": {},
     "output_type": "execute_result"
    }
   ],
   "source": [
    "df.pivot_table(index = 'Sport', columns= 'Gender', aggfunc = 'size')"
   ]
  },
  {
   "cell_type": "markdown",
   "id": "eea5fe25",
   "metadata": {},
   "source": [
    "## Question 90\n",
    "전체 데이터에서 Discipline종류에 따른 따른 Medal수를 구하여라."
   ]
  },
  {
   "cell_type": "code",
   "execution_count": 209,
   "id": "2223c1e6",
   "metadata": {},
   "outputs": [
    {
     "data": {
      "application/vnd.microsoft.datawrangler.viewer.v0+json": {
       "columns": [
        {
         "name": "Discipline",
         "rawType": "object",
         "type": "string"
        },
        {
         "name": "Bronze",
         "rawType": "int64",
         "type": "integer"
        },
        {
         "name": "Gold",
         "rawType": "int64",
         "type": "integer"
        },
        {
         "name": "Silver",
         "rawType": "int64",
         "type": "integer"
        }
       ],
       "ref": "7a0d9723-7949-46e0-bdcd-580e1cac6b45",
       "rows": [
        [
         "Alpine Skiing",
         "141",
         "143",
         "144"
        ],
        [
         "Biathlon",
         "139",
         "140",
         "141"
        ],
        [
         "Bobsleigh",
         "147",
         "134",
         "141"
        ],
        [
         "Cross Country Skiing",
         "263",
         "264",
         "262"
        ],
        [
         "Curling",
         "56",
         "58",
         "58"
        ],
        [
         "Figure skating",
         "118",
         "122",
         "119"
        ],
        [
         "Freestyle Skiing",
         "34",
         "34",
         "34"
        ],
        [
         "Ice Hockey",
         "512",
         "510",
         "514"
        ],
        [
         "Luge",
         "60",
         "62",
         "58"
        ],
        [
         "Nordic Combined",
         "55",
         "55",
         "55"
        ],
        [
         "Short Track Speed Skating",
         "96",
         "97",
         "97"
        ],
        [
         "Skeleton",
         "10",
         "10",
         "10"
        ],
        [
         "Ski Jumping",
         "68",
         "69",
         "70"
        ],
        [
         "Snowboard",
         "30",
         "30",
         "30"
        ],
        [
         "Speed skating",
         "190",
         "193",
         "197"
        ]
       ],
       "shape": {
        "columns": 3,
        "rows": 15
       }
      },
      "text/html": [
       "<div>\n",
       "<style scoped>\n",
       "    .dataframe tbody tr th:only-of-type {\n",
       "        vertical-align: middle;\n",
       "    }\n",
       "\n",
       "    .dataframe tbody tr th {\n",
       "        vertical-align: top;\n",
       "    }\n",
       "\n",
       "    .dataframe thead th {\n",
       "        text-align: right;\n",
       "    }\n",
       "</style>\n",
       "<table border=\"1\" class=\"dataframe\">\n",
       "  <thead>\n",
       "    <tr style=\"text-align: right;\">\n",
       "      <th>Medal</th>\n",
       "      <th>Bronze</th>\n",
       "      <th>Gold</th>\n",
       "      <th>Silver</th>\n",
       "    </tr>\n",
       "    <tr>\n",
       "      <th>Discipline</th>\n",
       "      <th></th>\n",
       "      <th></th>\n",
       "      <th></th>\n",
       "    </tr>\n",
       "  </thead>\n",
       "  <tbody>\n",
       "    <tr>\n",
       "      <th>Alpine Skiing</th>\n",
       "      <td>141</td>\n",
       "      <td>143</td>\n",
       "      <td>144</td>\n",
       "    </tr>\n",
       "    <tr>\n",
       "      <th>Biathlon</th>\n",
       "      <td>139</td>\n",
       "      <td>140</td>\n",
       "      <td>141</td>\n",
       "    </tr>\n",
       "    <tr>\n",
       "      <th>Bobsleigh</th>\n",
       "      <td>147</td>\n",
       "      <td>134</td>\n",
       "      <td>141</td>\n",
       "    </tr>\n",
       "    <tr>\n",
       "      <th>Cross Country Skiing</th>\n",
       "      <td>263</td>\n",
       "      <td>264</td>\n",
       "      <td>262</td>\n",
       "    </tr>\n",
       "    <tr>\n",
       "      <th>Curling</th>\n",
       "      <td>56</td>\n",
       "      <td>58</td>\n",
       "      <td>58</td>\n",
       "    </tr>\n",
       "    <tr>\n",
       "      <th>Figure skating</th>\n",
       "      <td>118</td>\n",
       "      <td>122</td>\n",
       "      <td>119</td>\n",
       "    </tr>\n",
       "    <tr>\n",
       "      <th>Freestyle Skiing</th>\n",
       "      <td>34</td>\n",
       "      <td>34</td>\n",
       "      <td>34</td>\n",
       "    </tr>\n",
       "    <tr>\n",
       "      <th>Ice Hockey</th>\n",
       "      <td>512</td>\n",
       "      <td>510</td>\n",
       "      <td>514</td>\n",
       "    </tr>\n",
       "    <tr>\n",
       "      <th>Luge</th>\n",
       "      <td>60</td>\n",
       "      <td>62</td>\n",
       "      <td>58</td>\n",
       "    </tr>\n",
       "    <tr>\n",
       "      <th>Nordic Combined</th>\n",
       "      <td>55</td>\n",
       "      <td>55</td>\n",
       "      <td>55</td>\n",
       "    </tr>\n",
       "    <tr>\n",
       "      <th>Short Track Speed Skating</th>\n",
       "      <td>96</td>\n",
       "      <td>97</td>\n",
       "      <td>97</td>\n",
       "    </tr>\n",
       "    <tr>\n",
       "      <th>Skeleton</th>\n",
       "      <td>10</td>\n",
       "      <td>10</td>\n",
       "      <td>10</td>\n",
       "    </tr>\n",
       "    <tr>\n",
       "      <th>Ski Jumping</th>\n",
       "      <td>68</td>\n",
       "      <td>69</td>\n",
       "      <td>70</td>\n",
       "    </tr>\n",
       "    <tr>\n",
       "      <th>Snowboard</th>\n",
       "      <td>30</td>\n",
       "      <td>30</td>\n",
       "      <td>30</td>\n",
       "    </tr>\n",
       "    <tr>\n",
       "      <th>Speed skating</th>\n",
       "      <td>190</td>\n",
       "      <td>193</td>\n",
       "      <td>197</td>\n",
       "    </tr>\n",
       "  </tbody>\n",
       "</table>\n",
       "</div>"
      ],
      "text/plain": [
       "Medal                      Bronze  Gold  Silver\n",
       "Discipline                                     \n",
       "Alpine Skiing                 141   143     144\n",
       "Biathlon                      139   140     141\n",
       "Bobsleigh                     147   134     141\n",
       "Cross Country Skiing          263   264     262\n",
       "Curling                        56    58      58\n",
       "Figure skating                118   122     119\n",
       "Freestyle Skiing               34    34      34\n",
       "Ice Hockey                    512   510     514\n",
       "Luge                           60    62      58\n",
       "Nordic Combined                55    55      55\n",
       "Short Track Speed Skating      96    97      97\n",
       "Skeleton                       10    10      10\n",
       "Ski Jumping                    68    69      70\n",
       "Snowboard                      30    30      30\n",
       "Speed skating                 190   193     197"
      ]
     },
     "execution_count": 209,
     "metadata": {},
     "output_type": "execute_result"
    }
   ],
   "source": [
    "df.pivot_table(index = 'Discipline', columns = 'Medal', aggfunc = 'size')"
   ]
  },
  {
   "cell_type": "markdown",
   "id": "10ec96c7",
   "metadata": {},
   "source": [
    "# 07_Merge, Concat\n",
    "국가별 5세이하 사망비율 통계 : https://www.kaggle.com/utkarshxy/who-worldhealth-statistics-2020-complete<br>\n",
    "데이터 변형\n",
    "Dataurl = ‘https://raw.githubusercontent.com/Datamanim/pandas/main/mergeTEst.csv’"
   ]
  },
  {
   "cell_type": "markdown",
   "id": "a8c4c7b7",
   "metadata": {},
   "source": [
    "## Question 91\n",
    "df1과 df2 데이터를 하나의 데이터 프레임으로 합쳐라."
   ]
  },
  {
   "cell_type": "code",
   "execution_count": null,
   "id": "401584ea",
   "metadata": {},
   "outputs": [],
   "source": []
  },
  {
   "cell_type": "markdown",
   "id": "1d266789",
   "metadata": {},
   "source": [
    "## Question 92\n",
    "df3과 df4 데이터를 하나의 데이터 프레임으로 합쳐라. 둘다 포함하고 있는 년도에 대해서만 고려한다."
   ]
  },
  {
   "cell_type": "code",
   "execution_count": null,
   "id": "313caf9f",
   "metadata": {},
   "outputs": [],
   "source": []
  },
  {
   "cell_type": "markdown",
   "id": "a5f05fed",
   "metadata": {},
   "source": [
    "## Question 93\n",
    "df3과 df4 데이터를 하나의 데이터 프레임으로 합쳐라. 모든 컬럼을 포함하고, 결측치는 0으로 대체한다."
   ]
  },
  {
   "cell_type": "code",
   "execution_count": null,
   "id": "da865b1e",
   "metadata": {},
   "outputs": [],
   "source": []
  },
  {
   "cell_type": "markdown",
   "id": "07134711",
   "metadata": {},
   "source": [
    "## Question 94\n",
    "df5과 df6 데이터를 하나의 데이터 프레임으로 merge함수를 이용하여 합쳐라. Algeria컬럼을 key로 하고 두 데이터 모두 포함하는 데이터만 출력하라."
   ]
  },
  {
   "cell_type": "code",
   "execution_count": null,
   "id": "8fcc9199",
   "metadata": {},
   "outputs": [],
   "source": []
  },
  {
   "cell_type": "markdown",
   "id": "b2abf287",
   "metadata": {},
   "source": [
    "## Question 95\n",
    "df5과 df6 데이터를 하나의 데이터 프레임으로 merge함수를 이용하여 합쳐라. Algeria컬럼을 key로 하고 합집합으로 합쳐라."
   ]
  },
  {
   "cell_type": "code",
   "execution_count": null,
   "id": "8fc14e69",
   "metadata": {},
   "outputs": [],
   "source": []
  }
 ],
 "metadata": {
  "kernelspec": {
   "display_name": "base",
   "language": "python",
   "name": "python3"
  },
  "language_info": {
   "codemirror_mode": {
    "name": "ipython",
    "version": 3
   },
   "file_extension": ".py",
   "mimetype": "text/x-python",
   "name": "python",
   "nbconvert_exporter": "python",
   "pygments_lexer": "ipython3",
   "version": "3.12.7"
  }
 },
 "nbformat": 4,
 "nbformat_minor": 5
}
