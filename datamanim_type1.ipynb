{
 "cells": [
  {
   "cell_type": "markdown",
   "id": "5dd2e432",
   "metadata": {},
   "source": [
    "**vs code로 작성했으며, 자동완성 때문에 불편하다면 https://chaeeunsong.tistory.com/91 여기 참고해서 자동완성 해제하세요.<br>**\n"
   ]
  },
  {
   "cell_type": "code",
   "execution_count": 1,
   "id": "09766003",
   "metadata": {},
   "outputs": [
    {
     "data": {
      "application/vnd.microsoft.datawrangler.viewer.v0+json": {
       "columns": [
        {
         "name": "index",
         "rawType": "int64",
         "type": "integer"
        },
        {
         "name": "title",
         "rawType": "object",
         "type": "string"
        },
        {
         "name": "channelTitle",
         "rawType": "object",
         "type": "string"
        },
        {
         "name": "categoryId",
         "rawType": "int64",
         "type": "integer"
        },
        {
         "name": "view_count",
         "rawType": "int64",
         "type": "integer"
        },
        {
         "name": "likes",
         "rawType": "int64",
         "type": "integer"
        },
        {
         "name": "dislikes",
         "rawType": "int64",
         "type": "integer"
        },
        {
         "name": "comment_count",
         "rawType": "int64",
         "type": "integer"
        },
        {
         "name": "channelId",
         "rawType": "object",
         "type": "string"
        },
        {
         "name": "trending_date2",
         "rawType": "object",
         "type": "string"
        }
       ],
       "ref": "7fdb05b5-e453-41c2-91e3-8693dae9a0a6",
       "rows": [
        [
         "0",
         "[신병] 물자창고",
         "장삐쭈",
         "23",
         "1893473",
         "38249",
         "730",
         "8595",
         "UChbE5OZQ6dRHECsX0tEPEZQ",
         "2021-01-01"
        ],
        [
         "1",
         "RAIN(비) - 나로 바꾸자 Switch to me (duet with JYP) MV",
         "RAIN's Official Channel",
         "10",
         "2600864",
         "0",
         "0",
         "20129",
         "UCxXgIeE5hxWxHG6dz9Scg2w",
         "2021-01-01"
        ],
        [
         "2",
         "2020년 제야의 종 온라인 타종행사 | 보신각 현장 행사는 진행하지 않습니다.",
         "서울시 · Seoul",
         "29",
         "347049",
         "3564",
         "120",
         "178",
         "UCZUPZW5idAxYp-Asj__lVAA",
         "2021-01-01"
        ],
        [
         "3",
         "고기남자의 칠면조 파티",
         "고기남자 MeatMan",
         "26",
         "528458",
         "15372",
         "280",
         "3470",
         "UCT3CumbFIJiW33uq0UI3zlg",
         "2021-01-01"
        ],
        [
         "4",
         "골목 3mc를 분노하게 만든 마음고생이 심했을 공릉 백반집 사장님의 푸념?! [예능맛ZIP/ 골목식당_BackStreet]",
         "스브스밥집",
         "24",
         "494904",
         "3918",
         "111",
         "3142",
         "UCdWgRSfttvDucq4ApcCg5Mw",
         "2021-01-01"
        ]
       ],
       "shape": {
        "columns": 9,
        "rows": 5
       }
      },
      "text/html": [
       "<div>\n",
       "<style scoped>\n",
       "    .dataframe tbody tr th:only-of-type {\n",
       "        vertical-align: middle;\n",
       "    }\n",
       "\n",
       "    .dataframe tbody tr th {\n",
       "        vertical-align: top;\n",
       "    }\n",
       "\n",
       "    .dataframe thead th {\n",
       "        text-align: right;\n",
       "    }\n",
       "</style>\n",
       "<table border=\"1\" class=\"dataframe\">\n",
       "  <thead>\n",
       "    <tr style=\"text-align: right;\">\n",
       "      <th></th>\n",
       "      <th>title</th>\n",
       "      <th>channelTitle</th>\n",
       "      <th>categoryId</th>\n",
       "      <th>view_count</th>\n",
       "      <th>likes</th>\n",
       "      <th>dislikes</th>\n",
       "      <th>comment_count</th>\n",
       "      <th>channelId</th>\n",
       "      <th>trending_date2</th>\n",
       "    </tr>\n",
       "  </thead>\n",
       "  <tbody>\n",
       "    <tr>\n",
       "      <th>0</th>\n",
       "      <td>[신병] 물자창고</td>\n",
       "      <td>장삐쭈</td>\n",
       "      <td>23</td>\n",
       "      <td>1893473</td>\n",
       "      <td>38249</td>\n",
       "      <td>730</td>\n",
       "      <td>8595</td>\n",
       "      <td>UChbE5OZQ6dRHECsX0tEPEZQ</td>\n",
       "      <td>2021-01-01</td>\n",
       "    </tr>\n",
       "    <tr>\n",
       "      <th>1</th>\n",
       "      <td>RAIN(비) - 나로 바꾸자 Switch to me (duet with JYP) MV</td>\n",
       "      <td>RAIN's Official Channel</td>\n",
       "      <td>10</td>\n",
       "      <td>2600864</td>\n",
       "      <td>0</td>\n",
       "      <td>0</td>\n",
       "      <td>20129</td>\n",
       "      <td>UCxXgIeE5hxWxHG6dz9Scg2w</td>\n",
       "      <td>2021-01-01</td>\n",
       "    </tr>\n",
       "    <tr>\n",
       "      <th>2</th>\n",
       "      <td>2020년 제야의 종 온라인 타종행사 | 보신각 현장 행사는 진행하지 않습니다.</td>\n",
       "      <td>서울시 · Seoul</td>\n",
       "      <td>29</td>\n",
       "      <td>347049</td>\n",
       "      <td>3564</td>\n",
       "      <td>120</td>\n",
       "      <td>178</td>\n",
       "      <td>UCZUPZW5idAxYp-Asj__lVAA</td>\n",
       "      <td>2021-01-01</td>\n",
       "    </tr>\n",
       "    <tr>\n",
       "      <th>3</th>\n",
       "      <td>고기남자의 칠면조 파티</td>\n",
       "      <td>고기남자 MeatMan</td>\n",
       "      <td>26</td>\n",
       "      <td>528458</td>\n",
       "      <td>15372</td>\n",
       "      <td>280</td>\n",
       "      <td>3470</td>\n",
       "      <td>UCT3CumbFIJiW33uq0UI3zlg</td>\n",
       "      <td>2021-01-01</td>\n",
       "    </tr>\n",
       "    <tr>\n",
       "      <th>4</th>\n",
       "      <td>골목 3mc를 분노하게 만든 마음고생이 심했을 공릉 백반집 사장님의 푸념?! [예능...</td>\n",
       "      <td>스브스밥집</td>\n",
       "      <td>24</td>\n",
       "      <td>494904</td>\n",
       "      <td>3918</td>\n",
       "      <td>111</td>\n",
       "      <td>3142</td>\n",
       "      <td>UCdWgRSfttvDucq4ApcCg5Mw</td>\n",
       "      <td>2021-01-01</td>\n",
       "    </tr>\n",
       "  </tbody>\n",
       "</table>\n",
       "</div>"
      ],
      "text/plain": [
       "                                               title             channelTitle  \\\n",
       "0                                          [신병] 물자창고                      장삐쭈   \n",
       "1   RAIN(비) - 나로 바꾸자 Switch to me (duet with JYP) MV  RAIN's Official Channel   \n",
       "2       2020년 제야의 종 온라인 타종행사 | 보신각 현장 행사는 진행하지 않습니다.              서울시 · Seoul   \n",
       "3                                       고기남자의 칠면조 파티             고기남자 MeatMan   \n",
       "4  골목 3mc를 분노하게 만든 마음고생이 심했을 공릉 백반집 사장님의 푸념?! [예능...                    스브스밥집   \n",
       "\n",
       "   categoryId  view_count  likes  dislikes  comment_count  \\\n",
       "0          23     1893473  38249       730           8595   \n",
       "1          10     2600864      0         0          20129   \n",
       "2          29      347049   3564       120            178   \n",
       "3          26      528458  15372       280           3470   \n",
       "4          24      494904   3918       111           3142   \n",
       "\n",
       "                  channelId trending_date2  \n",
       "0  UChbE5OZQ6dRHECsX0tEPEZQ     2021-01-01  \n",
       "1  UCxXgIeE5hxWxHG6dz9Scg2w     2021-01-01  \n",
       "2  UCZUPZW5idAxYp-Asj__lVAA     2021-01-01  \n",
       "3  UCT3CumbFIJiW33uq0UI3zlg     2021-01-01  \n",
       "4  UCdWgRSfttvDucq4ApcCg5Mw     2021-01-01  "
      ]
     },
     "execution_count": 1,
     "metadata": {},
     "output_type": "execute_result"
    }
   ],
   "source": [
    "import pandas as pd\n",
    "df = pd.read_csv(\"https://raw.githubusercontent.com/Datamanim/datarepo/main/youtube/youtube.csv\",index_col=0)\n",
    "df.head()"
   ]
  },
  {
   "cell_type": "markdown",
   "id": "03b8f6b8",
   "metadata": {},
   "source": [
    "## Question 1\n",
    "인기동영상 제작횟수가 많은 채널 상위 10개명을 출력하라. (날짜기준, 중복포함)"
   ]
  },
  {
   "cell_type": "code",
   "execution_count": 11,
   "id": "9ead6712",
   "metadata": {},
   "outputs": [
    {
     "data": {
      "application/vnd.microsoft.datawrangler.viewer.v0+json": {
       "columns": [
        {
         "name": "channelTitle",
         "rawType": "object",
         "type": "string"
        },
        {
         "name": "count",
         "rawType": "int64",
         "type": "integer"
        }
       ],
       "ref": "072d66c8-619a-428c-9da6-fc41caa0feef",
       "rows": [
        [
         "짤툰",
         "372"
        ],
        [
         "파뿌리",
         "318"
        ],
        [
         "SPOTV",
         "318"
        ],
        [
         "런닝맨 - 스브스 공식 채널",
         "313"
        ],
        [
         "엠뚜루마뚜루 : MBC 공식 종합 채널",
         "293"
        ],
        [
         "장삐쭈",
         "283"
        ],
        [
         "BANGTANTV",
         "275"
        ],
        [
         "채널 십오야",
         "274"
        ],
        [
         "이과장",
         "258"
        ],
        [
         "총몇명",
         "255"
        ],
        [
         "SMTOWN",
         "241"
        ],
        [
         "문명특급 - MMTG",
         "228"
        ],
        [
         "워크맨-Workman",
         "227"
        ],
        [
         "유 퀴즈 온 더 튜브",
         "217"
        ],
        [
         "썰레임 Ssuleim",
         "212"
        ],
        [
         "웃소 Wootso",
         "211"
        ],
        [
         "육식맨 YOOXICMAN",
         "204"
        ],
        [
         "스포츠타임",
         "203"
        ],
        [
         "HYBE LABELS",
         "199"
        ],
        [
         "JTBC Entertainment",
         "199"
        ],
        [
         "올리버쌤",
         "197"
        ],
        [
         "MBCNEWS",
         "194"
        ],
        [
         "tzuyang쯔양",
         "190"
        ],
        [
         "짧은대본 ShortPaper",
         "188"
        ],
        [
         "SBS NOW / SBS 공식 채널",
         "186"
        ],
        [
         "시즌비시즌 Season B Season",
         "184"
        ],
        [
         "KBS News",
         "184"
        ],
        [
         "사나고 Sanago",
         "183"
        ],
        [
         "SBS Drama",
         "183"
        ],
        [
         "더블비",
         "182"
        ],
        [
         "놀면 뭐하니?",
         "174"
        ],
        [
         "JYP Entertainment",
         "174"
        ],
        [
         "토모토모TomoTomo",
         "172"
        ],
        [
         "도장TV",
         "171"
        ],
        [
         "JTBC News",
         "171"
        ],
        [
         "피식대학Psick Univ",
         "169"
        ],
        [
         "샾잉 #ing",
         "168"
        ],
        [
         "배말랭",
         "165"
        ],
        [
         "아는형님 Knowingbros",
         "165"
        ],
        [
         "달라스튜디오",
         "164"
        ],
        [
         "딩고 뮤직 / dingo music",
         "164"
        ],
        [
         "엔조이커플enjoycouple",
         "164"
        ],
        [
         "odg",
         "164"
        ],
        [
         "진용진",
         "164"
        ],
        [
         "발명! 쓰레기걸 Trash girl",
         "163"
        ],
        [
         "영국남자 Korean Englishman",
         "163"
        ],
        [
         "디글 :Diggle",
         "162"
        ],
        [
         "YTN news",
         "159"
        ],
        [
         "스포츠머그 - SPORTSMUG",
         "159"
        ],
        [
         "ITSub잇섭",
         "156"
        ]
       ],
       "shape": {
        "columns": 1,
        "rows": 1832
       }
      },
      "text/plain": [
       "channelTitle\n",
       "짤툰                       372\n",
       "파뿌리                      318\n",
       "SPOTV                    318\n",
       "런닝맨 - 스브스 공식 채널          313\n",
       "엠뚜루마뚜루 : MBC 공식 종합 채널    293\n",
       "                        ... \n",
       "NamSeok Byun               1\n",
       "공원생활 / ParkLife            1\n",
       "Brave Girls                1\n",
       "깽냥툰 KY'T                   1\n",
       "알파                         1\n",
       "Name: count, Length: 1832, dtype: int64"
      ]
     },
     "execution_count": 11,
     "metadata": {},
     "output_type": "execute_result"
    }
   ],
   "source": [
    "df['channelTitle'].value_counts()"
   ]
  }
 ],
 "metadata": {
  "kernelspec": {
   "display_name": "base",
   "language": "python",
   "name": "python3"
  },
  "language_info": {
   "codemirror_mode": {
    "name": "ipython",
    "version": 3
   },
   "file_extension": ".py",
   "mimetype": "text/x-python",
   "name": "python",
   "nbconvert_exporter": "python",
   "pygments_lexer": "ipython3",
   "version": "3.12.7"
  }
 },
 "nbformat": 4,
 "nbformat_minor": 5
}
